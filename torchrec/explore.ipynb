{
 "cells": [
  {
   "cell_type": "code",
   "execution_count": 25,
   "id": "2a4f27a4-de32-454e-bed5-545862cb6b6c",
   "metadata": {
    "execution": {
     "iopub.execute_input": "2023-06-21T06:13:37.865750Z",
     "iopub.status.busy": "2023-06-21T06:13:37.865320Z",
     "iopub.status.idle": "2023-06-21T06:13:37.880741Z",
     "shell.execute_reply": "2023-06-21T06:13:37.879639Z",
     "shell.execute_reply.started": "2023-06-21T06:13:37.865719Z"
    },
    "tags": []
   },
   "outputs": [],
   "source": [
    "import os\n",
    "import datetime\n",
    "import joblib\n",
    "\n",
    "from tqdm import tqdm\n",
    "\n",
    "import numpy as np\n",
    "import pandas as pd\n",
    "\n",
    "import torch"
   ]
  },
  {
   "cell_type": "code",
   "execution_count": null,
   "id": "9b6b21dc-65c6-4b39-8343-57818b789e19",
   "metadata": {},
   "outputs": [],
   "source": []
  },
  {
   "cell_type": "code",
   "execution_count": 4,
   "id": "17188edd-59ef-4a0a-a187-36c566aeb028",
   "metadata": {
    "execution": {
     "iopub.execute_input": "2023-06-21T05:12:01.572539Z",
     "iopub.status.busy": "2023-06-21T05:12:01.572168Z",
     "iopub.status.idle": "2023-06-21T05:12:01.576322Z",
     "shell.execute_reply": "2023-06-21T05:12:01.575483Z",
     "shell.execute_reply.started": "2023-06-21T05:12:01.572510Z"
    },
    "tags": []
   },
   "outputs": [],
   "source": [
    "clean_train_folder = \"../data/data205411/2023-cvr-contest-data/clean_train\""
   ]
  },
  {
   "cell_type": "code",
   "execution_count": 8,
   "id": "d2acb6db-f6a2-44f9-8b03-e2a23c446867",
   "metadata": {
    "execution": {
     "iopub.execute_input": "2023-06-21T05:12:17.079736Z",
     "iopub.status.busy": "2023-06-21T05:12:17.079367Z",
     "iopub.status.idle": "2023-06-21T05:13:17.035265Z",
     "shell.execute_reply": "2023-06-21T05:13:17.034207Z",
     "shell.execute_reply.started": "2023-06-21T05:12:17.079707Z"
    },
    "tags": []
   },
   "outputs": [
    {
     "name": "stderr",
     "output_type": "stream",
     "text": [
      "100%|█████████████████████████████████████████████████████████████████████████████████████████████████████████████████████████████████████████████████████████████████████████████████████████████████████████| 1/1 [00:59<00:00, 59.93s/it]\n"
     ]
    }
   ],
   "source": [
    "train_file_ls = os.listdir(clean_train_folder)\n",
    "train_file_ls = [_file for _file in train_file_ls if not _file.startswith(\"train\")]\n",
    "\n",
    "train_df_ls = []\n",
    "\n",
    "for _file in tqdm(train_file_ls[:1]):\n",
    "    curr_train = joblib.load(os.path.join(clean_train_folder, _file))\n",
    "    train_df_ls.append(curr_train)"
   ]
  },
  {
   "cell_type": "code",
   "execution_count": 9,
   "id": "5011c54f-131a-42cc-9942-b73411f86e1b",
   "metadata": {
    "execution": {
     "iopub.execute_input": "2023-06-21T05:13:56.745235Z",
     "iopub.status.busy": "2023-06-21T05:13:56.744843Z",
     "iopub.status.idle": "2023-06-21T05:13:56.990108Z",
     "shell.execute_reply": "2023-06-21T05:13:56.988601Z",
     "shell.execute_reply.started": "2023-06-21T05:13:56.745206Z"
    },
    "tags": []
   },
   "outputs": [],
   "source": [
    "col_names = [\n",
    "    'sample_id', 't1', 't2', 't3', 'user_feat_1', 'user_feat_2',\n",
    "    'user_feat_3', 'user_feat_4', 'user_feat_5', 'user_feat_6',\n",
    "    'user_feat_7', 'user_feat_8', 'user_feat_9', 'user_feat_10',\n",
    "    'user_feat_11', 'user_feat_12', 'user_feat_13', 'scene_feat_14',\n",
    "    'scene_feat_15', 'scene_feat_16', 'ad_feat_17', 'ad_feat_18',\n",
    "    'ad_feat_19', 'ad_feat_20', 'ad_feat_21', 'ad_feat_22', 'ad_feat_23',\n",
    "    'ad_feat_24', 'session_feat_25', 'session_feat_26'\n",
    "]\n",
    "\n",
    "for _df in train_df_ls:\n",
    "    _df.drop(\"index\", axis=1, inplace=True, errors=\"ignore\")\n",
    "    _df.columns = col_names"
   ]
  },
  {
   "cell_type": "code",
   "execution_count": 10,
   "id": "f80a5b01-ca27-4e86-9d82-d687054ab77c",
   "metadata": {
    "execution": {
     "iopub.execute_input": "2023-06-21T05:13:57.296704Z",
     "iopub.status.busy": "2023-06-21T05:13:57.296086Z",
     "iopub.status.idle": "2023-06-21T05:13:57.417882Z",
     "shell.execute_reply": "2023-06-21T05:13:57.416605Z",
     "shell.execute_reply.started": "2023-06-21T05:13:57.296674Z"
    },
    "tags": []
   },
   "outputs": [],
   "source": [
    "train_df = pd.concat(train_df_ls, axis=0, ignore_index=True)"
   ]
  },
  {
   "cell_type": "code",
   "execution_count": 6,
   "id": "0ba49808-8778-4e2e-ad81-f9b9dd2a621a",
   "metadata": {
    "execution": {
     "iopub.execute_input": "2023-06-20T12:06:26.832758Z",
     "iopub.status.busy": "2023-06-20T12:06:26.831017Z",
     "iopub.status.idle": "2023-06-20T12:06:26.866160Z",
     "shell.execute_reply": "2023-06-20T12:06:26.862950Z",
     "shell.execute_reply.started": "2023-06-20T12:06:26.832706Z"
    },
    "tags": []
   },
   "outputs": [],
   "source": [
    "# joblib.dump(train_df, os.path.join(clean_train_folder, \"train_file_first10.pkl\"))"
   ]
  },
  {
   "cell_type": "code",
   "execution_count": null,
   "id": "25ec8231-f16b-4e9d-921e-a0021023fc47",
   "metadata": {},
   "outputs": [],
   "source": []
  },
  {
   "cell_type": "code",
   "execution_count": 7,
   "id": "611b0b38-c571-478b-8815-e66faa76631c",
   "metadata": {
    "execution": {
     "iopub.execute_input": "2023-06-20T12:06:26.871676Z",
     "iopub.status.busy": "2023-06-20T12:06:26.869019Z",
     "iopub.status.idle": "2023-06-20T12:06:26.883352Z",
     "shell.execute_reply": "2023-06-20T12:06:26.882472Z",
     "shell.execute_reply.started": "2023-06-20T12:06:26.871647Z"
    },
    "tags": []
   },
   "outputs": [],
   "source": [
    "# train_df = joblib.load(os.path.join(clean_train_folder, \"train_file.pkl\"))"
   ]
  },
  {
   "cell_type": "code",
   "execution_count": null,
   "id": "5b345e65-aa63-4e89-9323-bc2ac31f1ad8",
   "metadata": {},
   "outputs": [],
   "source": []
  },
  {
   "cell_type": "code",
   "execution_count": 13,
   "id": "d3a44856-2b9e-4e84-bb54-a239bdb40cc3",
   "metadata": {
    "execution": {
     "iopub.execute_input": "2023-06-21T05:14:19.989891Z",
     "iopub.status.busy": "2023-06-21T05:14:19.989498Z",
     "iopub.status.idle": "2023-06-21T05:14:42.194195Z",
     "shell.execute_reply": "2023-06-21T05:14:42.193218Z",
     "shell.execute_reply.started": "2023-06-21T05:14:19.989861Z"
    },
    "tags": []
   },
   "outputs": [
    {
     "data": {
      "text/plain": [
       "0         None\n",
       "1         None\n",
       "2         None\n",
       "3         None\n",
       "4         None\n",
       "          ... \n",
       "272186    None\n",
       "272187    None\n",
       "272188    None\n",
       "272189    None\n",
       "272190    None\n",
       "Length: 272191, dtype: object"
      ]
     },
     "execution_count": 13,
     "metadata": {},
     "output_type": "execute_result"
    }
   ],
   "source": [
    "feature_cols = list(train_df.columns[4:])\n",
    "unique_elements = {}\n",
    "\n",
    "def fill_unique_elements(row, feature_cols, unique_elements):\n",
    "    for _col in feature_cols:\n",
    "        if _col not in unique_elements:\n",
    "            unique_elements[_col] = set()\n",
    "        \n",
    "        unique_elements[_col].update(row[_col])\n",
    "\n",
    "train_df.apply(lambda x: fill_unique_elements(x, feature_cols, unique_elements), axis=1)    "
   ]
  },
  {
   "cell_type": "code",
   "execution_count": null,
   "id": "a1e98e6d-720c-42a4-be13-86f323e9c85f",
   "metadata": {},
   "outputs": [],
   "source": []
  },
  {
   "cell_type": "code",
   "execution_count": 17,
   "id": "3b0954b6-2b4b-4565-b36c-ef06479c1a4d",
   "metadata": {
    "execution": {
     "iopub.execute_input": "2023-06-21T05:15:23.232356Z",
     "iopub.status.busy": "2023-06-21T05:15:23.231964Z",
     "iopub.status.idle": "2023-06-21T05:15:23.237527Z",
     "shell.execute_reply": "2023-06-21T05:15:23.236591Z",
     "shell.execute_reply.started": "2023-06-21T05:15:23.232325Z"
    },
    "tags": []
   },
   "outputs": [
    {
     "name": "stdout",
     "output_type": "stream",
     "text": [
      "user_feat_1, \t length=21\n",
      "user_feat_2, \t length=9\n",
      "user_feat_3, \t length=269856\n",
      "user_feat_4, \t length=231628\n",
      "user_feat_5, \t length=12\n",
      "user_feat_6, \t length=9\n",
      "user_feat_7, \t length=6\n",
      "user_feat_8, \t length=18\n",
      "user_feat_9, \t length=6\n",
      "user_feat_10, \t length=726325\n",
      "user_feat_11, \t length=111\n",
      "user_feat_12, \t length=0\n",
      "user_feat_13, \t length=24\n",
      "scene_feat_14, \t length=6\n",
      "scene_feat_15, \t length=447\n",
      "scene_feat_16, \t length=1\n",
      "ad_feat_17, \t length=1287144\n",
      "ad_feat_18, \t length=446183\n",
      "ad_feat_19, \t length=50225\n",
      "ad_feat_20, \t length=17547\n",
      "ad_feat_21, \t length=11\n",
      "ad_feat_22, \t length=2386616\n",
      "ad_feat_23, \t length=47897\n",
      "ad_feat_24, \t length=372\n",
      "session_feat_25, \t length=452\n",
      "session_feat_26, \t length=1052\n"
     ]
    }
   ],
   "source": [
    "sparse_id_cnt = 0\n",
    "\n",
    "for k, v in unique_elements.items():\n",
    "    print(f\"{k}, \\t length={len(v)}\")\n",
    "    sparse_id_cnt += len(v)"
   ]
  },
  {
   "cell_type": "code",
   "execution_count": null,
   "id": "80c87fa5-bdb9-4e9a-800c-8aa085cccd19",
   "metadata": {},
   "outputs": [],
   "source": []
  },
  {
   "cell_type": "code",
   "execution_count": 15,
   "id": "e591067f-3a5b-40c2-9468-61ea4bab879f",
   "metadata": {
    "execution": {
     "iopub.execute_input": "2023-06-21T05:14:55.229722Z",
     "iopub.status.busy": "2023-06-21T05:14:55.229382Z",
     "iopub.status.idle": "2023-06-21T05:14:55.708730Z",
     "shell.execute_reply": "2023-06-21T05:14:55.707902Z",
     "shell.execute_reply.started": "2023-06-21T05:14:55.229696Z"
    },
    "tags": []
   },
   "outputs": [],
   "source": [
    "intersection_dict = {\"col1\": [], \"col2\": [], \"intersections\": []}\n",
    "\n",
    "for k1, v1 in unique_elements.items():\n",
    "    for k2, v2 in unique_elements.items():\n",
    "        if k1 == k2:\n",
    "            continue\n",
    "            \n",
    "        intersection = v1.intersection(v2)\n",
    "        \n",
    "        intersection_dict[\"col1\"].append(k1)\n",
    "        intersection_dict[\"col2\"].append(k2)\n",
    "        intersection_dict[\"intersections\"].append(len(intersection))"
   ]
  },
  {
   "cell_type": "code",
   "execution_count": 16,
   "id": "f717a076-1c48-41bf-9886-f2f06c9f0dd2",
   "metadata": {
    "execution": {
     "iopub.execute_input": "2023-06-21T05:14:55.710580Z",
     "iopub.status.busy": "2023-06-21T05:14:55.710217Z",
     "iopub.status.idle": "2023-06-21T05:14:55.723793Z",
     "shell.execute_reply": "2023-06-21T05:14:55.722697Z",
     "shell.execute_reply.started": "2023-06-21T05:14:55.710552Z"
    },
    "tags": []
   },
   "outputs": [
    {
     "data": {
      "text/html": [
       "<div>\n",
       "<style scoped>\n",
       "    .dataframe tbody tr th:only-of-type {\n",
       "        vertical-align: middle;\n",
       "    }\n",
       "\n",
       "    .dataframe tbody tr th {\n",
       "        vertical-align: top;\n",
       "    }\n",
       "\n",
       "    .dataframe thead th {\n",
       "        text-align: right;\n",
       "    }\n",
       "</style>\n",
       "<table border=\"1\" class=\"dataframe\">\n",
       "  <thead>\n",
       "    <tr style=\"text-align: right;\">\n",
       "      <th></th>\n",
       "      <th>intersections</th>\n",
       "    </tr>\n",
       "  </thead>\n",
       "  <tbody>\n",
       "    <tr>\n",
       "      <th>count</th>\n",
       "      <td>650.0</td>\n",
       "    </tr>\n",
       "    <tr>\n",
       "      <th>mean</th>\n",
       "      <td>0.0</td>\n",
       "    </tr>\n",
       "    <tr>\n",
       "      <th>std</th>\n",
       "      <td>0.0</td>\n",
       "    </tr>\n",
       "    <tr>\n",
       "      <th>min</th>\n",
       "      <td>0.0</td>\n",
       "    </tr>\n",
       "    <tr>\n",
       "      <th>25%</th>\n",
       "      <td>0.0</td>\n",
       "    </tr>\n",
       "    <tr>\n",
       "      <th>50%</th>\n",
       "      <td>0.0</td>\n",
       "    </tr>\n",
       "    <tr>\n",
       "      <th>75%</th>\n",
       "      <td>0.0</td>\n",
       "    </tr>\n",
       "    <tr>\n",
       "      <th>max</th>\n",
       "      <td>0.0</td>\n",
       "    </tr>\n",
       "  </tbody>\n",
       "</table>\n",
       "</div>"
      ],
      "text/plain": [
       "       intersections\n",
       "count          650.0\n",
       "mean             0.0\n",
       "std              0.0\n",
       "min              0.0\n",
       "25%              0.0\n",
       "50%              0.0\n",
       "75%              0.0\n",
       "max              0.0"
      ]
     },
     "execution_count": 16,
     "metadata": {},
     "output_type": "execute_result"
    }
   ],
   "source": [
    "intersection_df = pd.DataFrame(intersection_dict)\n",
    "intersection_df.describe()"
   ]
  },
  {
   "cell_type": "code",
   "execution_count": null,
   "id": "43dce2eb-d0c7-4a67-9020-c3eb61761da4",
   "metadata": {},
   "outputs": [],
   "source": []
  },
  {
   "cell_type": "code",
   "execution_count": 39,
   "id": "ee9f31c7-e8a5-467d-a2b7-67a8ecf3ca9f",
   "metadata": {
    "execution": {
     "iopub.execute_input": "2023-06-21T02:18:50.211804Z",
     "iopub.status.busy": "2023-06-21T02:18:50.211201Z",
     "iopub.status.idle": "2023-06-21T02:18:50.216245Z",
     "shell.execute_reply": "2023-06-21T02:18:50.215128Z",
     "shell.execute_reply.started": "2023-06-21T02:18:50.211776Z"
    },
    "tags": []
   },
   "outputs": [],
   "source": [
    "emb = torch.nn.Embedding(num_embeddings=10, embedding_dim=5, dtype=torch.double)"
   ]
  },
  {
   "cell_type": "code",
   "execution_count": 45,
   "id": "075dbbc1-ed46-4469-9b4b-411c3374972e",
   "metadata": {
    "execution": {
     "iopub.execute_input": "2023-06-21T02:28:41.090429Z",
     "iopub.status.busy": "2023-06-21T02:28:41.088881Z",
     "iopub.status.idle": "2023-06-21T02:28:41.103536Z",
     "shell.execute_reply": "2023-06-21T02:28:41.102664Z",
     "shell.execute_reply.started": "2023-06-21T02:28:41.090396Z"
    },
    "tags": []
   },
   "outputs": [
    {
     "data": {
      "text/plain": [
       "[tensor([[-0.6060, -0.2022,  2.1819,  1.1488,  0.9632]], dtype=torch.float64,\n",
       "        grad_fn=<EmbeddingBackward0>),\n",
       " tensor([[ 0.5114,  0.5864, -0.6509,  0.7173,  0.0510]], dtype=torch.float64,\n",
       "        grad_fn=<EmbeddingBackward0>),\n",
       " tensor([[-0.6060, -0.2022,  2.1819,  1.1488,  0.9632],\n",
       "         [ 0.0649, -0.1210, -1.0362, -0.1746,  1.1854],\n",
       "         [-0.9366, -0.8541, -0.9004,  0.6696, -1.4345]], dtype=torch.float64,\n",
       "        grad_fn=<EmbeddingBackward0>)]"
      ]
     },
     "execution_count": 45,
     "metadata": {},
     "output_type": "execute_result"
    }
   ],
   "source": [
    "ls = [torch.tensor([1]), torch.tensor([2]), torch.tensor([1,3,4])]\n",
    "\n",
    "emb_ls = list(map(emb, ls))\n",
    "emb_ls"
   ]
  },
  {
   "cell_type": "code",
   "execution_count": 66,
   "id": "43eed4cd-623f-4a10-b383-db65e58d299a",
   "metadata": {
    "execution": {
     "iopub.execute_input": "2023-06-21T03:53:53.468790Z",
     "iopub.status.busy": "2023-06-21T03:53:53.468184Z",
     "iopub.status.idle": "2023-06-21T03:53:53.474042Z",
     "shell.execute_reply": "2023-06-21T03:53:53.473179Z",
     "shell.execute_reply.started": "2023-06-21T03:53:53.468763Z"
    },
    "tags": []
   },
   "outputs": [],
   "source": [
    "def sum_pooling(in_list):    \n",
    "    return torch.sum(in_list, dim=0)"
   ]
  },
  {
   "cell_type": "code",
   "execution_count": 52,
   "id": "fc5808d2-14c3-490c-8071-fa5e128ac95b",
   "metadata": {
    "execution": {
     "iopub.execute_input": "2023-06-21T03:15:58.606387Z",
     "iopub.status.busy": "2023-06-21T03:15:58.605737Z",
     "iopub.status.idle": "2023-06-21T03:15:58.616501Z",
     "shell.execute_reply": "2023-06-21T03:15:58.615657Z",
     "shell.execute_reply.started": "2023-06-21T03:15:58.606359Z"
    },
    "tags": []
   },
   "outputs": [
    {
     "data": {
      "text/plain": [
       "tensor([-0.6060, -0.2022,  2.1819,  1.1488,  0.9632,  0.5114,  0.5864, -0.6509,\n",
       "         0.7173,  0.0510, -1.4777, -1.1773,  0.2453,  1.6437,  0.7141],\n",
       "       dtype=torch.float64, grad_fn=<CatBackward0>)"
      ]
     },
     "execution_count": 52,
     "metadata": {},
     "output_type": "execute_result"
    }
   ],
   "source": [
    "torch.cat(list(map(sum_pooling, emb_ls)), dim=0)"
   ]
  },
  {
   "cell_type": "code",
   "execution_count": null,
   "id": "12da5bd1-965b-4419-b5b6-577fffdeaf70",
   "metadata": {},
   "outputs": [],
   "source": []
  },
  {
   "cell_type": "code",
   "execution_count": 50,
   "id": "806deb5f-0bfa-4352-ac77-880da6a50b07",
   "metadata": {
    "execution": {
     "iopub.execute_input": "2023-06-21T03:00:45.078722Z",
     "iopub.status.busy": "2023-06-21T03:00:45.078214Z",
     "iopub.status.idle": "2023-06-21T03:00:45.095125Z",
     "shell.execute_reply": "2023-06-21T03:00:45.094050Z",
     "shell.execute_reply.started": "2023-06-21T03:00:45.078696Z"
    },
    "tags": []
   },
   "outputs": [],
   "source": [
    "class DeepCrossingResidualBlock(torch.nn.Module):\n",
    "    def __init__(self, input_dim, hidden_dim, device):\n",
    "        super().__init__()\n",
    "\n",
    "        self.linear1 = torch.nn.Linear(in_features=input_dim, out_features=hidden_dim, dtype=torch.double, device=device)\n",
    "        self.linear2 = torch.nn.Linear(in_features=hidden_dim, out_features=input_dim, dtype=torch.double, device=device)\n",
    "\n",
    "    def forward(self, x):\n",
    "        out1 = torch.relu(self.linear1(x))\n",
    "        out2 = self.linear2(out1) + x\n",
    "\n",
    "        return torch.relu(out2)"
   ]
  },
  {
   "cell_type": "code",
   "execution_count": null,
   "id": "0316ef07-fae8-4ce5-bc13-31a86714893f",
   "metadata": {},
   "outputs": [],
   "source": [
    "class DeepCrossing(torch.nn.Module):\n",
    "    def __init__(self, sparse_feature_cnt, sparse_feature_num, embedding_dim, hidden_layers, device):\n",
    "        super().__init__()\n",
    "\n",
    "        self.embedding_layers = torch.nn.Embedding(\n",
    "            num_embeddings=sparse_feature_num, \n",
    "            embedding_dim=embedding_dim, \n",
    "            dtype=torch.double, \n",
    "            device=device\n",
    "        )\n",
    "\n",
    "        self.residual_layers = torch.nn.ModuleList(\n",
    "            [DeepCrossingResidualBlock(sparse_feature_cnt * embedding_dim, layer, device) for layer in hidden_layers]\n",
    "        )\n",
    "\n",
    "        self.lin = torch.nn.Linear(sparse_feature_cnt * embedding_dim, 1, dtype=torch.double, device=device)\n",
    "        self.relu = torch.nn.ReLU()\n",
    "\n",
    "        \n",
    "    def forward(self, x):\n",
    "        \n",
    "        \n",
    "        \n",
    "        sparse_embedding = [\n",
    "            relu(self.embedding_layers[idx](x[:, pos[0]:pos[1]])) for idx, pos in enumerate(self.sparse_indices)\n",
    "        ]\n",
    "\n",
    "        sparse_embedding = torch.cat(sparse_embedding, dim=1)\n",
    "\n",
    "        dense_input = [x[:, pos[0]:pos[1]] for pos in self.dense_indices]\n",
    "        dense_input = torch.cat(dense_input, dim=1)\n",
    "\n",
    "        concat = torch.cat([sparse_embedding, dense_input], dim=1)\n",
    "\n",
    "        for residual_layer in self.residual_layers:\n",
    "            concat = residual_layer(concat)\n",
    "\n",
    "        output = self.lin(concat)\n",
    "        return torch.sigmoid(output)\n",
    "    \n",
    "    \n",
    "    def __sum_pooling(self, _input):\n",
    "        return torch.sum(_input, dim=0)"
   ]
  },
  {
   "cell_type": "code",
   "execution_count": null,
   "id": "d69f66be-4ff0-48a6-9d98-1c511c34a0e1",
   "metadata": {},
   "outputs": [],
   "source": []
  },
  {
   "cell_type": "code",
   "execution_count": 19,
   "id": "1790e244-2a2c-4fb6-971a-e1bb1f6241aa",
   "metadata": {
    "execution": {
     "iopub.execute_input": "2023-06-21T05:15:56.218419Z",
     "iopub.status.busy": "2023-06-21T05:15:56.218047Z",
     "iopub.status.idle": "2023-06-21T05:15:56.224264Z",
     "shell.execute_reply": "2023-06-21T05:15:56.223274Z",
     "shell.execute_reply.started": "2023-06-21T05:15:56.218388Z"
    },
    "tags": []
   },
   "outputs": [],
   "source": [
    "features = []\n",
    "\n",
    "def construct(row, feature_cols, features):\n",
    "    curr_features = []\n",
    "    \n",
    "    for _col in feature_cols:\n",
    "        if len(row[_col]) == 0:\n",
    "            curr_features.append(torch.tensor([0], dtype=torch.long))\n",
    "        else:\n",
    "            tmp = []\n",
    "            for i in row[_col]:\n",
    "                tmp.append(int(i))\n",
    "            \n",
    "            curr_features.append(torch.tensor(tmp, dtype=torch.long))\n",
    "        \n",
    "    features.append(curr_features)"
   ]
  },
  {
   "cell_type": "code",
   "execution_count": null,
   "id": "7cedb6c4-f6d0-4720-85ac-8f048bfa0a42",
   "metadata": {
    "execution": {
     "iopub.execute_input": "2023-06-21T06:16:03.297856Z",
     "iopub.status.busy": "2023-06-21T06:16:03.297469Z"
    },
    "scrolled": true,
    "tags": []
   },
   "outputs": [
    {
     "name": "stdout",
     "output_type": "stream",
     "text": [
      "0\n",
      "2023-06-21 14:16:03.919021\n",
      "1000\n",
      "2023-06-21 14:16:04.637345\n",
      "2000\n",
      "2023-06-21 14:16:05.531209\n",
      "3000\n",
      "2023-06-21 14:16:07.805612\n",
      "4000\n",
      "2023-06-21 14:16:20.223100\n",
      "5000\n",
      "2023-06-21 14:16:20.880082\n",
      "6000\n",
      "2023-06-21 14:16:21.636150\n",
      "7000\n",
      "2023-06-21 14:16:22.715235\n",
      "8000\n",
      "2023-06-21 14:16:23.952421\n",
      "9000\n",
      "2023-06-21 14:16:25.752009\n",
      "10000\n",
      "2023-06-21 14:16:39.828557\n",
      "11000\n",
      "2023-06-21 14:16:58.081680\n",
      "12000\n",
      "2023-06-21 14:17:17.344098\n",
      "13000\n",
      "2023-06-21 14:17:33.314061\n",
      "14000\n",
      "2023-06-21 14:17:50.356067\n",
      "15000\n",
      "2023-06-21 14:18:09.069149\n",
      "16000\n",
      "2023-06-21 14:18:25.455331\n",
      "17000\n",
      "2023-06-21 14:18:47.345555\n",
      "18000\n",
      "2023-06-21 14:19:15.165556\n",
      "19000\n",
      "2023-06-21 14:19:37.740834\n",
      "20000\n",
      "2023-06-21 14:19:57.507229\n",
      "21000\n",
      "2023-06-21 14:20:13.923012\n",
      "22000\n",
      "2023-06-21 14:20:28.007484\n",
      "23000\n",
      "2023-06-21 14:20:44.724634\n",
      "24000\n",
      "2023-06-21 14:21:01.809572\n",
      "25000\n",
      "2023-06-21 14:21:18.107988\n",
      "26000\n",
      "2023-06-21 14:21:34.998896\n",
      "27000\n",
      "2023-06-21 14:21:55.659191\n",
      "28000\n",
      "2023-06-21 14:22:13.462655\n",
      "29000\n",
      "2023-06-21 14:22:32.067111\n",
      "30000\n",
      "2023-06-21 14:22:52.435701\n",
      "31000\n",
      "2023-06-21 14:23:13.406657\n",
      "32000\n",
      "2023-06-21 14:23:37.453071\n",
      "33000\n",
      "2023-06-21 14:24:02.646864\n",
      "34000\n",
      "2023-06-21 14:24:25.699309\n",
      "35000\n",
      "2023-06-21 14:24:49.921174\n",
      "36000\n",
      "2023-06-21 14:25:10.245874\n"
     ]
    }
   ],
   "source": [
    "features = []\n",
    "\n",
    "for idx, row in train_df.iterrows():\n",
    "    if idx % 1000 == 0:\n",
    "        print(idx)\n",
    "        print(datetime.datetime.now())\n",
    "    \n",
    "    curr_features = []\n",
    "    \n",
    "    for _col in feature_cols:\n",
    "        if len(row[_col]) == 0:\n",
    "            curr_features.append(torch.tensor([0], dtype=torch.long))\n",
    "        else:\n",
    "            tmp = []\n",
    "            for i in row[_col]:\n",
    "                tmp.append(int(i))\n",
    "            \n",
    "            curr_features.append(torch.tensor(tmp, dtype=torch.long))\n",
    "        \n",
    "    features.append(curr_features)"
   ]
  },
  {
   "cell_type": "code",
   "execution_count": null,
   "id": "7c61f898-c89b-400f-ade7-502d925e5792",
   "metadata": {},
   "outputs": [],
   "source": []
  },
  {
   "cell_type": "code",
   "execution_count": null,
   "id": "019b70a9-cdb0-4b27-872c-0243be36c430",
   "metadata": {},
   "outputs": [],
   "source": []
  },
  {
   "cell_type": "code",
   "execution_count": 74,
   "id": "9e38c6fc-04d9-4916-9cad-a772388c6eb9",
   "metadata": {
    "execution": {
     "iopub.execute_input": "2023-06-21T03:58:12.449375Z",
     "iopub.status.busy": "2023-06-21T03:58:12.448912Z",
     "iopub.status.idle": "2023-06-21T03:58:12.554780Z",
     "shell.execute_reply": "2023-06-21T03:58:12.554018Z",
     "shell.execute_reply.started": "2023-06-21T03:58:12.449311Z"
    },
    "tags": []
   },
   "outputs": [
    {
     "data": {
      "text/html": [
       "<div>\n",
       "<style scoped>\n",
       "    .dataframe tbody tr th:only-of-type {\n",
       "        vertical-align: middle;\n",
       "    }\n",
       "\n",
       "    .dataframe tbody tr th {\n",
       "        vertical-align: top;\n",
       "    }\n",
       "\n",
       "    .dataframe thead th {\n",
       "        text-align: right;\n",
       "    }\n",
       "</style>\n",
       "<table border=\"1\" class=\"dataframe\">\n",
       "  <thead>\n",
       "    <tr style=\"text-align: right;\">\n",
       "      <th></th>\n",
       "      <th>sample_id</th>\n",
       "      <th>t1</th>\n",
       "      <th>t2</th>\n",
       "      <th>t3</th>\n",
       "      <th>user_feat_1</th>\n",
       "      <th>user_feat_2</th>\n",
       "      <th>user_feat_3</th>\n",
       "      <th>user_feat_4</th>\n",
       "      <th>user_feat_5</th>\n",
       "      <th>user_feat_6</th>\n",
       "      <th>...</th>\n",
       "      <th>ad_feat_17</th>\n",
       "      <th>ad_feat_18</th>\n",
       "      <th>ad_feat_19</th>\n",
       "      <th>ad_feat_20</th>\n",
       "      <th>ad_feat_21</th>\n",
       "      <th>ad_feat_22</th>\n",
       "      <th>ad_feat_23</th>\n",
       "      <th>ad_feat_24</th>\n",
       "      <th>session_feat_25</th>\n",
       "      <th>session_feat_26</th>\n",
       "    </tr>\n",
       "  </thead>\n",
       "  <tbody>\n",
       "    <tr>\n",
       "      <th>0</th>\n",
       "      <td>2508928549</td>\n",
       "      <td>-</td>\n",
       "      <td>0</td>\n",
       "      <td>-</td>\n",
       "      <td>[647]</td>\n",
       "      <td>[160]</td>\n",
       "      <td>[53969151]</td>\n",
       "      <td>[53969152]</td>\n",
       "      <td>[163]</td>\n",
       "      <td>[164]</td>\n",
       "      <td>...</td>\n",
       "      <td>[17008585, 53969153, 215231, 2701633, 215228, ...</td>\n",
       "      <td>[5443472, 48817, 53969156, 2357473, 22149274, ...</td>\n",
       "      <td>[25877104]</td>\n",
       "      <td>[3282, 39155, 676, 111764, 341173, 225674]</td>\n",
       "      <td>[224]</td>\n",
       "      <td>[53969157, 53969158, 1975821, 53969159, 486020...</td>\n",
       "      <td>[25877111]</td>\n",
       "      <td>[15224]</td>\n",
       "      <td>[]</td>\n",
       "      <td>[312, 60, 152, 442, 510, 185, 186, 155, 2699, ...</td>\n",
       "    </tr>\n",
       "    <tr>\n",
       "      <th>1</th>\n",
       "      <td>64787212</td>\n",
       "      <td>-</td>\n",
       "      <td>0</td>\n",
       "      <td>-</td>\n",
       "      <td>[258]</td>\n",
       "      <td>[259]</td>\n",
       "      <td>[53969162]</td>\n",
       "      <td>[53969163]</td>\n",
       "      <td>[163]</td>\n",
       "      <td>[164]</td>\n",
       "      <td>...</td>\n",
       "      <td>[30990708, 40077635, 30556615, 53969164, 50916...</td>\n",
       "      <td>[]</td>\n",
       "      <td>[42168349]</td>\n",
       "      <td>[47819, 629, 401805]</td>\n",
       "      <td>[179]</td>\n",
       "      <td>[51405889, 53969166, 53969167, 53969168, 53969...</td>\n",
       "      <td>[42168350]</td>\n",
       "      <td>[2696]</td>\n",
       "      <td>[311]</td>\n",
       "      <td>[150, 151, 182, 183, 184, 185, 154, 155, 188, ...</td>\n",
       "    </tr>\n",
       "    <tr>\n",
       "      <th>2</th>\n",
       "      <td>3102011900</td>\n",
       "      <td>0</td>\n",
       "      <td>-</td>\n",
       "      <td>-</td>\n",
       "      <td>[906]</td>\n",
       "      <td>[975]</td>\n",
       "      <td>[30111173]</td>\n",
       "      <td>[5335]</td>\n",
       "      <td>[317]</td>\n",
       "      <td>[318]</td>\n",
       "      <td>...</td>\n",
       "      <td>[742548, 40461, 94199, 44785472, 539079, 19679...</td>\n",
       "      <td>[898426, 108899, 119236, 30111175, 89088, 2618...</td>\n",
       "      <td>[19349153]</td>\n",
       "      <td>[291, 961, 4845, 92, 30690, 91288]</td>\n",
       "      <td>[337, 1570]</td>\n",
       "      <td>[53969175, 25632633, 24487436, 53969176, 24487...</td>\n",
       "      <td>[19349171]</td>\n",
       "      <td>[2043]</td>\n",
       "      <td>[2185]</td>\n",
       "      <td>[700, 60, 61, 183, 443, 1032, 65, 2046, 4108, ...</td>\n",
       "    </tr>\n",
       "    <tr>\n",
       "      <th>3</th>\n",
       "      <td>2227614234</td>\n",
       "      <td>-</td>\n",
       "      <td>0</td>\n",
       "      <td>-</td>\n",
       "      <td>[647]</td>\n",
       "      <td>[160]</td>\n",
       "      <td>[53969184]</td>\n",
       "      <td>[53969185]</td>\n",
       "      <td>[163]</td>\n",
       "      <td>[164]</td>\n",
       "      <td>...</td>\n",
       "      <td>[858528, 516152, 891974, 29232660, 34520906, 3...</td>\n",
       "      <td>[]</td>\n",
       "      <td>[732455]</td>\n",
       "      <td>[291, 2394, 48449, 91, 1661]</td>\n",
       "      <td>[298]</td>\n",
       "      <td>[24695866, 53969187, 24695864, 45471879, 53969...</td>\n",
       "      <td>[732466]</td>\n",
       "      <td>[15343]</td>\n",
       "      <td>[]</td>\n",
       "      <td>[59, 151, 182, 183, 184, 185, 154, 155, 188, 1...</td>\n",
       "    </tr>\n",
       "    <tr>\n",
       "      <th>4</th>\n",
       "      <td>1825065264</td>\n",
       "      <td>-</td>\n",
       "      <td>-</td>\n",
       "      <td>0</td>\n",
       "      <td>[1]</td>\n",
       "      <td>[2]</td>\n",
       "      <td>[53969193]</td>\n",
       "      <td>[51433330]</td>\n",
       "      <td>[230]</td>\n",
       "      <td>[102]</td>\n",
       "      <td>...</td>\n",
       "      <td>[23262256, 7336975, 34140545, 17933073, 118682...</td>\n",
       "      <td>[]</td>\n",
       "      <td>[24899422]</td>\n",
       "      <td>[23775, 37500, 25700]</td>\n",
       "      <td>[46]</td>\n",
       "      <td>[53969197, 53969198, 53969199, 53969200, 53969...</td>\n",
       "      <td>[53969207]</td>\n",
       "      <td>[394582]</td>\n",
       "      <td>[5952]</td>\n",
       "      <td>[10164, 4105, 182, 343, 184, 185, 65, 257, 269...</td>\n",
       "    </tr>\n",
       "  </tbody>\n",
       "</table>\n",
       "<p>5 rows × 30 columns</p>\n",
       "</div>"
      ],
      "text/plain": [
       "    sample_id t1 t2 t3 user_feat_1 user_feat_2 user_feat_3 user_feat_4  \\\n",
       "0  2508928549  -  0  -       [647]       [160]  [53969151]  [53969152]   \n",
       "1    64787212  -  0  -       [258]       [259]  [53969162]  [53969163]   \n",
       "2  3102011900  0  -  -       [906]       [975]  [30111173]      [5335]   \n",
       "3  2227614234  -  0  -       [647]       [160]  [53969184]  [53969185]   \n",
       "4  1825065264  -  -  0         [1]         [2]  [53969193]  [51433330]   \n",
       "\n",
       "  user_feat_5 user_feat_6  ...  \\\n",
       "0       [163]       [164]  ...   \n",
       "1       [163]       [164]  ...   \n",
       "2       [317]       [318]  ...   \n",
       "3       [163]       [164]  ...   \n",
       "4       [230]       [102]  ...   \n",
       "\n",
       "                                          ad_feat_17  \\\n",
       "0  [17008585, 53969153, 215231, 2701633, 215228, ...   \n",
       "1  [30990708, 40077635, 30556615, 53969164, 50916...   \n",
       "2  [742548, 40461, 94199, 44785472, 539079, 19679...   \n",
       "3  [858528, 516152, 891974, 29232660, 34520906, 3...   \n",
       "4  [23262256, 7336975, 34140545, 17933073, 118682...   \n",
       "\n",
       "                                          ad_feat_18  ad_feat_19  \\\n",
       "0  [5443472, 48817, 53969156, 2357473, 22149274, ...  [25877104]   \n",
       "1                                                 []  [42168349]   \n",
       "2  [898426, 108899, 119236, 30111175, 89088, 2618...  [19349153]   \n",
       "3                                                 []    [732455]   \n",
       "4                                                 []  [24899422]   \n",
       "\n",
       "                                   ad_feat_20   ad_feat_21  \\\n",
       "0  [3282, 39155, 676, 111764, 341173, 225674]        [224]   \n",
       "1                        [47819, 629, 401805]        [179]   \n",
       "2          [291, 961, 4845, 92, 30690, 91288]  [337, 1570]   \n",
       "3                [291, 2394, 48449, 91, 1661]        [298]   \n",
       "4                       [23775, 37500, 25700]         [46]   \n",
       "\n",
       "                                          ad_feat_22  ad_feat_23 ad_feat_24  \\\n",
       "0  [53969157, 53969158, 1975821, 53969159, 486020...  [25877111]    [15224]   \n",
       "1  [51405889, 53969166, 53969167, 53969168, 53969...  [42168350]     [2696]   \n",
       "2  [53969175, 25632633, 24487436, 53969176, 24487...  [19349171]     [2043]   \n",
       "3  [24695866, 53969187, 24695864, 45471879, 53969...    [732466]    [15343]   \n",
       "4  [53969197, 53969198, 53969199, 53969200, 53969...  [53969207]   [394582]   \n",
       "\n",
       "  session_feat_25                                    session_feat_26  \n",
       "0              []  [312, 60, 152, 442, 510, 185, 186, 155, 2699, ...  \n",
       "1           [311]  [150, 151, 182, 183, 184, 185, 154, 155, 188, ...  \n",
       "2          [2185]  [700, 60, 61, 183, 443, 1032, 65, 2046, 4108, ...  \n",
       "3              []  [59, 151, 182, 183, 184, 185, 154, 155, 188, 1...  \n",
       "4          [5952]  [10164, 4105, 182, 343, 184, 185, 65, 257, 269...  \n",
       "\n",
       "[5 rows x 30 columns]"
      ]
     },
     "execution_count": 74,
     "metadata": {},
     "output_type": "execute_result"
    }
   ],
   "source": [
    "train_df.head()"
   ]
  },
  {
   "cell_type": "code",
   "execution_count": null,
   "id": "9cf1ff58-04f0-400b-9910-990ef79541f0",
   "metadata": {},
   "outputs": [],
   "source": []
  },
  {
   "cell_type": "code",
   "execution_count": null,
   "id": "8c928f5f-d559-4df6-ad43-3a975584e1d0",
   "metadata": {},
   "outputs": [],
   "source": []
  },
  {
   "cell_type": "code",
   "execution_count": 70,
   "id": "35f843b9-895c-4043-a68e-61cd90a348ec",
   "metadata": {
    "execution": {
     "iopub.execute_input": "2023-06-21T03:55:55.768715Z",
     "iopub.status.busy": "2023-06-21T03:55:55.768336Z",
     "iopub.status.idle": "2023-06-21T03:55:55.775930Z",
     "shell.execute_reply": "2023-06-21T03:55:55.775006Z",
     "shell.execute_reply.started": "2023-06-21T03:55:55.768689Z"
    },
    "tags": []
   },
   "outputs": [],
   "source": [
    "ls = [[[1],[2],[3]],[[4],[5],[6,7,4]]]\n",
    "\n",
    "tensor_ls = []\n",
    "\n",
    "for e1 in ls:\n",
    "    curr = []\n",
    "    \n",
    "    for e2 in e1:\n",
    "        curr.append(torch.tensor(e2))\n",
    "        \n",
    "    tensor_ls.append(curr)"
   ]
  },
  {
   "cell_type": "code",
   "execution_count": 71,
   "id": "33eb254d-cc7c-4e3f-add0-8637dde6a1fd",
   "metadata": {
    "execution": {
     "iopub.execute_input": "2023-06-21T03:55:56.704564Z",
     "iopub.status.busy": "2023-06-21T03:55:56.704180Z",
     "iopub.status.idle": "2023-06-21T03:55:56.718745Z",
     "shell.execute_reply": "2023-06-21T03:55:56.717712Z",
     "shell.execute_reply.started": "2023-06-21T03:55:56.704534Z"
    },
    "tags": []
   },
   "outputs": [
    {
     "data": {
      "text/plain": [
       "[[tensor([1]), tensor([2]), tensor([3])],\n",
       " [tensor([4]), tensor([5]), tensor([6, 7, 4])]]"
      ]
     },
     "execution_count": 71,
     "metadata": {},
     "output_type": "execute_result"
    }
   ],
   "source": [
    "tensor_ls"
   ]
  },
  {
   "cell_type": "code",
   "execution_count": 72,
   "id": "eaea2d8b-18e2-440b-8faf-370747fda387",
   "metadata": {
    "execution": {
     "iopub.execute_input": "2023-06-21T03:55:59.499235Z",
     "iopub.status.busy": "2023-06-21T03:55:59.498435Z",
     "iopub.status.idle": "2023-06-21T03:55:59.513361Z",
     "shell.execute_reply": "2023-06-21T03:55:59.512573Z",
     "shell.execute_reply.started": "2023-06-21T03:55:59.499207Z"
    },
    "tags": []
   },
   "outputs": [
    {
     "data": {
      "text/plain": [
       "[tensor([[-0.9366, -0.8541, -0.9004,  0.6696, -1.4345]], dtype=torch.float64,\n",
       "        grad_fn=<EmbeddingBackward0>),\n",
       " tensor([[-1.8182, -0.2008,  0.1664, -0.0886,  0.2453]], dtype=torch.float64,\n",
       "        grad_fn=<EmbeddingBackward0>),\n",
       " tensor([[-1.8054, -2.6050, -0.6814,  1.1065,  0.2614],\n",
       "         [-1.5546, -1.0629,  0.9547,  0.9318,  0.5174],\n",
       "         [-0.9366, -0.8541, -0.9004,  0.6696, -1.4345]], dtype=torch.float64,\n",
       "        grad_fn=<EmbeddingBackward0>)]"
      ]
     },
     "execution_count": 72,
     "metadata": {},
     "output_type": "execute_result"
    }
   ],
   "source": [
    "emb_ls = list(map(emb, tensor_ls[1]))\n",
    "\n",
    "emb_ls"
   ]
  },
  {
   "cell_type": "code",
   "execution_count": 73,
   "id": "d4827a1e-fb33-4d37-8a30-5076cdd91306",
   "metadata": {
    "execution": {
     "iopub.execute_input": "2023-06-21T03:56:00.540400Z",
     "iopub.status.busy": "2023-06-21T03:56:00.540055Z",
     "iopub.status.idle": "2023-06-21T03:56:00.549364Z",
     "shell.execute_reply": "2023-06-21T03:56:00.548556Z",
     "shell.execute_reply.started": "2023-06-21T03:56:00.540373Z"
    },
    "tags": []
   },
   "outputs": [
    {
     "data": {
      "text/plain": [
       "[tensor([-0.9366, -0.8541, -0.9004,  0.6696, -1.4345], dtype=torch.float64,\n",
       "        grad_fn=<SumBackward1>),\n",
       " tensor([-1.8182, -0.2008,  0.1664, -0.0886,  0.2453], dtype=torch.float64,\n",
       "        grad_fn=<SumBackward1>),\n",
       " tensor([-4.2966, -4.5220, -0.6271,  2.7079, -0.6556], dtype=torch.float64,\n",
       "        grad_fn=<SumBackward1>)]"
      ]
     },
     "execution_count": 73,
     "metadata": {},
     "output_type": "execute_result"
    }
   ],
   "source": [
    "list(map(sum_pooling, emb_ls))"
   ]
  },
  {
   "cell_type": "code",
   "execution_count": null,
   "id": "b23c86f8-6392-4d54-8bc8-0f78be354f97",
   "metadata": {},
   "outputs": [],
   "source": []
  },
  {
   "cell_type": "code",
   "execution_count": null,
   "id": "20e1aca0-e9cc-4afe-8b4f-84fb55a27ebb",
   "metadata": {},
   "outputs": [],
   "source": []
  },
  {
   "cell_type": "code",
   "execution_count": null,
   "id": "4f78c7e7-63a2-4bc5-865a-abdc3bd66d4b",
   "metadata": {},
   "outputs": [],
   "source": []
  },
  {
   "cell_type": "code",
   "execution_count": null,
   "id": "9c85dbe5-16ca-4f84-998e-82fe26e733d6",
   "metadata": {},
   "outputs": [],
   "source": []
  },
  {
   "cell_type": "code",
   "execution_count": 44,
   "id": "439983dd-2821-40cc-9dd8-4172ede469f6",
   "metadata": {
    "execution": {
     "iopub.execute_input": "2023-06-21T02:22:21.314317Z",
     "iopub.status.busy": "2023-06-21T02:22:21.313687Z",
     "iopub.status.idle": "2023-06-21T02:22:21.358690Z",
     "shell.execute_reply": "2023-06-21T02:22:21.357738Z",
     "shell.execute_reply.started": "2023-06-21T02:22:21.314287Z"
    },
    "tags": []
   },
   "outputs": [
    {
     "data": {
      "text/html": [
       "<div>\n",
       "<style scoped>\n",
       "    .dataframe tbody tr th:only-of-type {\n",
       "        vertical-align: middle;\n",
       "    }\n",
       "\n",
       "    .dataframe tbody tr th {\n",
       "        vertical-align: top;\n",
       "    }\n",
       "\n",
       "    .dataframe thead th {\n",
       "        text-align: right;\n",
       "    }\n",
       "</style>\n",
       "<table border=\"1\" class=\"dataframe\">\n",
       "  <thead>\n",
       "    <tr style=\"text-align: right;\">\n",
       "      <th></th>\n",
       "      <th>sample_id</th>\n",
       "      <th>t1</th>\n",
       "      <th>t2</th>\n",
       "      <th>t3</th>\n",
       "      <th>user_feat_1</th>\n",
       "      <th>user_feat_2</th>\n",
       "      <th>user_feat_3</th>\n",
       "      <th>user_feat_4</th>\n",
       "      <th>user_feat_5</th>\n",
       "      <th>user_feat_6</th>\n",
       "      <th>...</th>\n",
       "      <th>ad_feat_17</th>\n",
       "      <th>ad_feat_18</th>\n",
       "      <th>ad_feat_19</th>\n",
       "      <th>ad_feat_20</th>\n",
       "      <th>ad_feat_21</th>\n",
       "      <th>ad_feat_22</th>\n",
       "      <th>ad_feat_23</th>\n",
       "      <th>ad_feat_24</th>\n",
       "      <th>session_feat_25</th>\n",
       "      <th>session_feat_26</th>\n",
       "    </tr>\n",
       "  </thead>\n",
       "  <tbody>\n",
       "    <tr>\n",
       "      <th>0</th>\n",
       "      <td>2508928549</td>\n",
       "      <td>-</td>\n",
       "      <td>0</td>\n",
       "      <td>-</td>\n",
       "      <td>[647]</td>\n",
       "      <td>[160]</td>\n",
       "      <td>[53969151]</td>\n",
       "      <td>[53969152]</td>\n",
       "      <td>[163]</td>\n",
       "      <td>[164]</td>\n",
       "      <td>...</td>\n",
       "      <td>[17008585, 53969153, 215231, 2701633, 215228, ...</td>\n",
       "      <td>[5443472, 48817, 53969156, 2357473, 22149274, ...</td>\n",
       "      <td>[25877104]</td>\n",
       "      <td>[3282, 39155, 676, 111764, 341173, 225674]</td>\n",
       "      <td>[224]</td>\n",
       "      <td>[53969157, 53969158, 1975821, 53969159, 486020...</td>\n",
       "      <td>[25877111]</td>\n",
       "      <td>[15224]</td>\n",
       "      <td>[]</td>\n",
       "      <td>[312, 60, 152, 442, 510, 185, 186, 155, 2699, ...</td>\n",
       "    </tr>\n",
       "    <tr>\n",
       "      <th>1</th>\n",
       "      <td>64787212</td>\n",
       "      <td>-</td>\n",
       "      <td>0</td>\n",
       "      <td>-</td>\n",
       "      <td>[258]</td>\n",
       "      <td>[259]</td>\n",
       "      <td>[53969162]</td>\n",
       "      <td>[53969163]</td>\n",
       "      <td>[163]</td>\n",
       "      <td>[164]</td>\n",
       "      <td>...</td>\n",
       "      <td>[30990708, 40077635, 30556615, 53969164, 50916...</td>\n",
       "      <td>[]</td>\n",
       "      <td>[42168349]</td>\n",
       "      <td>[47819, 629, 401805]</td>\n",
       "      <td>[179]</td>\n",
       "      <td>[51405889, 53969166, 53969167, 53969168, 53969...</td>\n",
       "      <td>[42168350]</td>\n",
       "      <td>[2696]</td>\n",
       "      <td>[311]</td>\n",
       "      <td>[150, 151, 182, 183, 184, 185, 154, 155, 188, ...</td>\n",
       "    </tr>\n",
       "    <tr>\n",
       "      <th>2</th>\n",
       "      <td>3102011900</td>\n",
       "      <td>0</td>\n",
       "      <td>-</td>\n",
       "      <td>-</td>\n",
       "      <td>[906]</td>\n",
       "      <td>[975]</td>\n",
       "      <td>[30111173]</td>\n",
       "      <td>[5335]</td>\n",
       "      <td>[317]</td>\n",
       "      <td>[318]</td>\n",
       "      <td>...</td>\n",
       "      <td>[742548, 40461, 94199, 44785472, 539079, 19679...</td>\n",
       "      <td>[898426, 108899, 119236, 30111175, 89088, 2618...</td>\n",
       "      <td>[19349153]</td>\n",
       "      <td>[291, 961, 4845, 92, 30690, 91288]</td>\n",
       "      <td>[337, 1570]</td>\n",
       "      <td>[53969175, 25632633, 24487436, 53969176, 24487...</td>\n",
       "      <td>[19349171]</td>\n",
       "      <td>[2043]</td>\n",
       "      <td>[2185]</td>\n",
       "      <td>[700, 60, 61, 183, 443, 1032, 65, 2046, 4108, ...</td>\n",
       "    </tr>\n",
       "  </tbody>\n",
       "</table>\n",
       "<p>3 rows × 30 columns</p>\n",
       "</div>"
      ],
      "text/plain": [
       "    sample_id t1 t2 t3 user_feat_1 user_feat_2 user_feat_3 user_feat_4  \\\n",
       "0  2508928549  -  0  -       [647]       [160]  [53969151]  [53969152]   \n",
       "1    64787212  -  0  -       [258]       [259]  [53969162]  [53969163]   \n",
       "2  3102011900  0  -  -       [906]       [975]  [30111173]      [5335]   \n",
       "\n",
       "  user_feat_5 user_feat_6  ...  \\\n",
       "0       [163]       [164]  ...   \n",
       "1       [163]       [164]  ...   \n",
       "2       [317]       [318]  ...   \n",
       "\n",
       "                                          ad_feat_17  \\\n",
       "0  [17008585, 53969153, 215231, 2701633, 215228, ...   \n",
       "1  [30990708, 40077635, 30556615, 53969164, 50916...   \n",
       "2  [742548, 40461, 94199, 44785472, 539079, 19679...   \n",
       "\n",
       "                                          ad_feat_18  ad_feat_19  \\\n",
       "0  [5443472, 48817, 53969156, 2357473, 22149274, ...  [25877104]   \n",
       "1                                                 []  [42168349]   \n",
       "2  [898426, 108899, 119236, 30111175, 89088, 2618...  [19349153]   \n",
       "\n",
       "                                   ad_feat_20   ad_feat_21  \\\n",
       "0  [3282, 39155, 676, 111764, 341173, 225674]        [224]   \n",
       "1                        [47819, 629, 401805]        [179]   \n",
       "2          [291, 961, 4845, 92, 30690, 91288]  [337, 1570]   \n",
       "\n",
       "                                          ad_feat_22  ad_feat_23 ad_feat_24  \\\n",
       "0  [53969157, 53969158, 1975821, 53969159, 486020...  [25877111]    [15224]   \n",
       "1  [51405889, 53969166, 53969167, 53969168, 53969...  [42168350]     [2696]   \n",
       "2  [53969175, 25632633, 24487436, 53969176, 24487...  [19349171]     [2043]   \n",
       "\n",
       "  session_feat_25                                    session_feat_26  \n",
       "0              []  [312, 60, 152, 442, 510, 185, 186, 155, 2699, ...  \n",
       "1           [311]  [150, 151, 182, 183, 184, 185, 154, 155, 188, ...  \n",
       "2          [2185]  [700, 60, 61, 183, 443, 1032, 65, 2046, 4108, ...  \n",
       "\n",
       "[3 rows x 30 columns]"
      ]
     },
     "execution_count": 44,
     "metadata": {},
     "output_type": "execute_result"
    }
   ],
   "source": [
    "train_df.head(3)"
   ]
  },
  {
   "cell_type": "code",
   "execution_count": null,
   "id": "6c9d3422-d576-4809-abee-f681a9839211",
   "metadata": {},
   "outputs": [],
   "source": []
  },
  {
   "cell_type": "code",
   "execution_count": null,
   "id": "b820cceb-e940-4d27-9712-58d7e330b305",
   "metadata": {},
   "outputs": [],
   "source": []
  },
  {
   "cell_type": "code",
   "execution_count": null,
   "id": "5204ab72-6205-40ac-ba40-f25eeb86245e",
   "metadata": {},
   "outputs": [],
   "source": []
  },
  {
   "cell_type": "code",
   "execution_count": null,
   "id": "87926b4d-5a76-4535-aa08-4708b1ab5c55",
   "metadata": {},
   "outputs": [],
   "source": []
  },
  {
   "cell_type": "code",
   "execution_count": null,
   "id": "ce46e05f-b97a-40a8-a723-a39b42e626ea",
   "metadata": {},
   "outputs": [],
   "source": []
  },
  {
   "cell_type": "code",
   "execution_count": null,
   "id": "3d7c76b6-38cc-4cfb-b0de-4449a89932e5",
   "metadata": {},
   "outputs": [],
   "source": []
  },
  {
   "cell_type": "code",
   "execution_count": null,
   "id": "536eb170-d311-41ec-96c3-65b713e9ef1f",
   "metadata": {
    "tags": []
   },
   "outputs": [],
   "source": [
    "clean_test = joblib.load(\"../data/data204194/test_data/clean_test.pkl\")\n",
    "\n",
    "clean_test.head()"
   ]
  },
  {
   "cell_type": "code",
   "execution_count": null,
   "id": "c244b76b-e17a-469b-83b8-4dc2a75e88e8",
   "metadata": {
    "tags": []
   },
   "outputs": [],
   "source": [
    "feature_cols = list(clean_test.columns[4:])\n",
    "unique_elements = {}\n",
    "\n",
    "\n",
    "clean_test.apply(lambda x: fill_unique_elements(x, feature_cols, unique_elements), axis=1)    "
   ]
  },
  {
   "cell_type": "code",
   "execution_count": null,
   "id": "01c14dce-2f86-42f3-be3f-1bb332f015e7",
   "metadata": {
    "tags": []
   },
   "outputs": [],
   "source": [
    "# single_element_cols = [\n",
    "#     'user_feat_1',\n",
    "#     'user_feat_11',\n",
    "#     'user_feat_12',\n",
    "#     'user_feat_13',\n",
    "#     'user_feat_2',\n",
    "#     'user_feat_3',\n",
    "#     'user_feat_4',\n",
    "#     'user_feat_5',\n",
    "#     'user_feat_6',\n",
    "#     'user_feat_7',\n",
    "#     'user_feat_8',\n",
    "#     'user_feat_9',\n",
    "#     'scene_feat_14',\n",
    "#     'scene_feat_15',\n",
    "#     'scene_feat_16',\n",
    "#     'ad_feat_19',\n",
    "#     'ad_feat_21',\n",
    "#     'ad_feat_23',\n",
    "#     'ad_feat_24'\n",
    "# ]\n",
    "\n",
    "# for _col in single_element_cols:\n",
    "#     clean_test[_col] = clean_test[_col].map(lambda x: x[0] if len(x) != 0 else \"-1\")"
   ]
  },
  {
   "cell_type": "code",
   "execution_count": null,
   "id": "7b4706c3-d961-4294-83a4-66052afdb60e",
   "metadata": {},
   "outputs": [],
   "source": []
  },
  {
   "cell_type": "code",
   "execution_count": null,
   "id": "8e1f233b-8603-4008-890d-e63000cbc564",
   "metadata": {},
   "outputs": [],
   "source": []
  },
  {
   "cell_type": "code",
   "execution_count": null,
   "id": "c83ef433-9d2e-45b1-ab37-a9ba6ce537ed",
   "metadata": {},
   "outputs": [],
   "source": []
  },
  {
   "cell_type": "code",
   "execution_count": null,
   "id": "d18f6f4a-634d-46c7-aa5d-be59d01aff8d",
   "metadata": {},
   "outputs": [],
   "source": []
  }
 ],
 "metadata": {
  "kernelspec": {
   "display_name": "Python 3 (ipykernel)",
   "language": "python",
   "name": "python3"
  },
  "language_info": {
   "codemirror_mode": {
    "name": "ipython",
    "version": 3
   },
   "file_extension": ".py",
   "mimetype": "text/x-python",
   "name": "python",
   "nbconvert_exporter": "python",
   "pygments_lexer": "ipython3",
   "version": "3.8.9"
  }
 },
 "nbformat": 4,
 "nbformat_minor": 5
}
