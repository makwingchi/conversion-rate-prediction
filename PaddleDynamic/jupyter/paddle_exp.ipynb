{
 "cells": [
  {
   "cell_type": "code",
   "execution_count": 1,
   "id": "9c5d8d93-b1fb-4e3e-851c-7cbc0da5666c",
   "metadata": {
    "execution": {
     "iopub.execute_input": "2023-06-27T03:57:15.706647Z",
     "iopub.status.busy": "2023-06-27T03:57:15.706306Z",
     "iopub.status.idle": "2023-06-27T03:57:16.135756Z",
     "shell.execute_reply": "2023-06-27T03:57:16.135109Z",
     "shell.execute_reply.started": "2023-06-27T03:57:15.706621Z"
    },
    "tags": []
   },
   "outputs": [],
   "source": [
    "import os\n",
    "\n",
    "import tqdm\n",
    "\n",
    "import numpy as np\n",
    "import pandas as pd"
   ]
  },
  {
   "cell_type": "code",
   "execution_count": null,
   "id": "a0e6ec27-ce22-4820-bd91-aa0db2219cfe",
   "metadata": {},
   "outputs": [],
   "source": []
  },
  {
   "cell_type": "code",
   "execution_count": null,
   "id": "fcf74d4f-444c-469e-97c2-154d45e02b0c",
   "metadata": {},
   "outputs": [],
   "source": []
  },
  {
   "cell_type": "markdown",
   "id": "675aeaf0-c28e-4524-bc6d-4f4656a7ec8c",
   "metadata": {},
   "source": [
    "# Exp 1: 可以凭借某些字段来辨别广告类型"
   ]
  },
  {
   "cell_type": "code",
   "execution_count": 2,
   "id": "1cb3ad09-5a92-40e1-bc23-f85e7ee6c3c3",
   "metadata": {
    "execution": {
     "iopub.execute_input": "2023-06-27T03:57:31.283910Z",
     "iopub.status.busy": "2023-06-27T03:57:31.283556Z",
     "iopub.status.idle": "2023-06-27T03:57:31.293001Z",
     "shell.execute_reply": "2023-06-27T03:57:31.292151Z",
     "shell.execute_reply.started": "2023-06-27T03:57:31.283881Z"
    },
    "scrolled": true,
    "tags": []
   },
   "outputs": [
    {
     "data": {
      "text/plain": [
       "['file_01.txt',\n",
       " 'file_02.txt',\n",
       " 'file_03.txt',\n",
       " 'file_04.txt',\n",
       " 'file_05.txt',\n",
       " 'file_06.txt',\n",
       " 'file_07.txt',\n",
       " 'file_08.txt',\n",
       " 'file_09.txt',\n",
       " 'file_10.txt',\n",
       " 'file_11.txt',\n",
       " 'file_12.txt',\n",
       " 'file_13.txt',\n",
       " 'file_14.txt',\n",
       " 'file_15.txt',\n",
       " 'file_16.txt',\n",
       " 'file_17.txt',\n",
       " 'file_18.txt',\n",
       " 'file_19.txt',\n",
       " 'file_20.txt',\n",
       " 'file_21.txt',\n",
       " 'file_22.txt',\n",
       " 'file_23.txt',\n",
       " 'file_24.txt',\n",
       " 'file_25.txt',\n",
       " 'file_26.txt',\n",
       " 'file_27.txt',\n",
       " 'file_28.txt',\n",
       " 'file_29.txt',\n",
       " 'file_30.txt']"
      ]
     },
     "execution_count": 2,
     "metadata": {},
     "output_type": "execute_result"
    }
   ],
   "source": [
    "train_folder = \"../../data/data205411/2023-cvr-contest-data/train_data\"\n",
    "train_file_ls = sorted(os.listdir(train_folder))\n",
    "\n",
    "train_file_ls"
   ]
  },
  {
   "cell_type": "code",
   "execution_count": 3,
   "id": "b0551db9-8979-4f84-9723-f6e51f8d14e2",
   "metadata": {
    "execution": {
     "iopub.execute_input": "2023-06-27T03:57:34.162883Z",
     "iopub.status.busy": "2023-06-27T03:57:34.162279Z",
     "iopub.status.idle": "2023-06-27T03:57:34.168404Z",
     "shell.execute_reply": "2023-06-27T03:57:34.167496Z",
     "shell.execute_reply.started": "2023-06-27T03:57:34.162855Z"
    },
    "tags": []
   },
   "outputs": [],
   "source": [
    "record = \"1,2,3,4,5,6,7,8,9,10,11,12,13,14,15,16,17,18,19,20,21,22,23,24,25,26\"\n",
    "\n",
    "conv1, conv2, conv3, duplicated123, duplicated12, duplicated13, duplicated23 = {}, {}, {}, {}, {}, {}, {}\n",
    "\n",
    "for _key in record.split(\",\"):\n",
    "    conv1[_key] = set()\n",
    "    conv2[_key] = set()\n",
    "    conv3[_key] = set()\n",
    "    duplicated123[_key] = set()\n",
    "    duplicated12[_key] = set()\n",
    "    duplicated13[_key] = set()\n",
    "    duplicated23[_key] = set()"
   ]
  },
  {
   "cell_type": "code",
   "execution_count": 4,
   "id": "f61471f1-913a-4fa2-80e9-e43145bf4b82",
   "metadata": {
    "execution": {
     "iopub.execute_input": "2023-06-27T03:57:37.887080Z",
     "iopub.status.busy": "2023-06-27T03:57:37.886426Z",
     "iopub.status.idle": "2023-06-27T04:06:01.690195Z",
     "shell.execute_reply": "2023-06-27T04:06:01.677781Z",
     "shell.execute_reply.started": "2023-06-27T03:57:37.887038Z"
    },
    "tags": []
   },
   "outputs": [
    {
     "name": "stderr",
     "output_type": "stream",
     "text": [
      "100%|███████████████████████████████████████████████████████████████████████████████████████████████████████████████████████████████████████████████████████████████████████████████████████████████████████| 30/30 [08:23<00:00, 16.79s/it]\n"
     ]
    }
   ],
   "source": [
    "for _file in tqdm.tqdm(train_file_ls):\n",
    "    with open(os.path.join(train_folder, _file), \"r\") as f:\n",
    "        for line in f:\n",
    "            items = line.strip().split(\"\\t\")\n",
    "            \n",
    "            log_key = items[0]\n",
    "            t1 = items[1]\n",
    "            t2 = items[2]\n",
    "            t3 = items[3]\n",
    "            features = items[4]\n",
    "            \n",
    "            if t1 in [\"0\", \"1\"]:\n",
    "                curr_conv = conv1\n",
    "            elif t2 in [\"0\", \"1\"]:\n",
    "                curr_conv = conv2\n",
    "            elif t3 in [\"0\", \"1\"]:\n",
    "                curr_conv = conv3\n",
    "            \n",
    "            feature_ls = features.split(\" \")\n",
    "            \n",
    "            for _f in feature_ls:\n",
    "                _value = _f.split(\":\")[0]\n",
    "                _key = _f.split(\":\")[1]\n",
    "                \n",
    "                curr_conv[_key].add(_value)"
   ]
  },
  {
   "cell_type": "code",
   "execution_count": null,
   "id": "63427eeb-afe9-463a-b00e-a2bcbcd2bf19",
   "metadata": {},
   "outputs": [],
   "source": []
  },
  {
   "cell_type": "code",
   "execution_count": 5,
   "id": "9cddd557-e9ab-4eb6-bd4c-b9f78a0d2580",
   "metadata": {
    "execution": {
     "iopub.execute_input": "2023-06-26T16:51:20.382359Z",
     "iopub.status.busy": "2023-06-26T16:51:20.378612Z",
     "iopub.status.idle": "2023-06-26T16:51:31.262823Z",
     "shell.execute_reply": "2023-06-26T16:51:31.261587Z",
     "shell.execute_reply.started": "2023-06-26T16:51:20.382306Z"
    },
    "tags": []
   },
   "outputs": [],
   "source": [
    "for _key in record.split(\",\"):\n",
    "    intersection12 = conv1[_key].intersection(conv2[_key])\n",
    "    intersection23 = conv2[_key].intersection(conv3[_key])\n",
    "    intersection13 = conv1[_key].intersection(conv3[_key])\n",
    "    intersection123 = conv1[_key].intersection(conv2[_key]).intersection(conv3[_key])\n",
    "    \n",
    "    duplicated12[_key].update(intersection12)\n",
    "    duplicated13[_key].update(intersection13)\n",
    "    duplicated23[_key].update(intersection23)\n",
    "    duplicated123[_key].update(intersection123)"
   ]
  },
  {
   "cell_type": "code",
   "execution_count": 42,
   "id": "5a3259ae-a480-4146-9933-ded7df3aa72a",
   "metadata": {
    "execution": {
     "iopub.execute_input": "2023-06-26T17:20:45.804039Z",
     "iopub.status.busy": "2023-06-26T17:20:45.803425Z",
     "iopub.status.idle": "2023-06-26T17:20:45.809716Z",
     "shell.execute_reply": "2023-06-26T17:20:45.808914Z",
     "shell.execute_reply.started": "2023-06-26T17:20:45.804010Z"
    },
    "scrolled": true,
    "tags": []
   },
   "outputs": [
    {
     "name": "stdout",
     "output_type": "stream",
     "text": [
      "[1] -- conv1: 7; \tconv2: 7; \tconv3: 7; \tduplicated: 0\n",
      "[2] -- conv1: 3; \tconv2: 3; \tconv3: 3; \tduplicated: 0\n",
      "[3] -- conv1: 2150413; \tconv2: 2115505; \tconv3: 2691446; \tduplicated: 0\n",
      "[4] -- conv1: 1765698; \tconv2: 1508849; \tconv3: 2051660; \tduplicated: 0\n",
      "[5] -- conv1: 4; \tconv2: 4; \tconv3: 4; \tduplicated: 0\n",
      "[6] -- conv1: 3; \tconv2: 3; \tconv3: 3; \tduplicated: 0\n",
      "[7] -- conv1: 6; \tconv2: 6; \tconv3: 6; \tduplicated: 6\n",
      "[8] -- conv1: 6; \tconv2: 6; \tconv3: 6; \tduplicated: 0\n",
      "[9] -- conv1: 2; \tconv2: 2; \tconv3: 2; \tduplicated: 0\n",
      "[10] -- conv1: 2058747; \tconv2: 1360987; \tconv3: 2599295; \tduplicated: 52\n",
      "[11] -- conv1: 37; \tconv2: 37; \tconv3: 37; \tduplicated: 0\n",
      "[12] -- conv1: 0; \tconv2: 0; \tconv3: 0; \tduplicated: 0\n",
      "[13] -- conv1: 24; \tconv2: 24; \tconv3: 24; \tduplicated: 24\n",
      "[14] -- conv1: 2; \tconv2: 2; \tconv3: 2; \tduplicated: 0\n",
      "[15] -- conv1: 346; \tconv2: 398; \tconv3: 368; \tduplicated: 0\n",
      "[16] -- conv1: 1; \tconv2: 1; \tconv3: 1; \tduplicated: 1\n",
      "[17] -- conv1: 6565679; \tconv2: 2944406; \tconv3: 8161049; \tduplicated: 0\n",
      "[18] -- conv1: 1733638; \tconv2: 574389; \tconv3: 1057223; \tduplicated: 5079\n",
      "[19] -- conv1: 98891; \tconv2: 96438; \tconv3: 174708; \tduplicated: 0\n",
      "[20] -- conv1: 15419; \tconv2: 13502; \tconv3: 14936; \tduplicated: 3780\n",
      "[21] -- conv1: 7; \tconv2: 5; \tconv3: 2; \tduplicated: 0\n",
      "[22] -- conv1: 15123167; \tconv2: 12696954; \tconv3: 16736240; \tduplicated: 1298\n",
      "[23] -- conv1: 89467; \tconv2: 101374; \tconv3: 127921; \tduplicated: 0\n",
      "[24] -- conv1: 285; \tconv2: 284; \tconv3: 410; \tduplicated: 240\n",
      "[25] -- conv1: 348; \tconv2: 395; \tconv3: 275; \tduplicated: 0\n",
      "[26] -- conv1: 1643; \tconv2: 1609; \tconv3: 1503; \tduplicated: 1324\n"
     ]
    }
   ],
   "source": [
    "for k, v in conv1.items():\n",
    "    print(f\"[{k}] -- conv1: {len(v)}; \\tconv2: {len(conv2[k])}; \\tconv3: {len(conv3[k])}; \\tduplicated: {len(duplicated123[k])}\")"
   ]
  },
  {
   "cell_type": "code",
   "execution_count": null,
   "id": "e944d444-4239-4f99-b8d4-440965b44fb1",
   "metadata": {},
   "outputs": [],
   "source": []
  },
  {
   "cell_type": "code",
   "execution_count": 31,
   "id": "95e8efde-c8f5-4027-add4-4b86f901e1c7",
   "metadata": {
    "execution": {
     "iopub.execute_input": "2023-06-26T17:10:37.398324Z",
     "iopub.status.busy": "2023-06-26T17:10:37.397706Z",
     "iopub.status.idle": "2023-06-26T17:10:37.403695Z",
     "shell.execute_reply": "2023-06-26T17:10:37.402559Z",
     "shell.execute_reply.started": "2023-06-26T17:10:37.398295Z"
    },
    "scrolled": true,
    "tags": []
   },
   "outputs": [
    {
     "name": "stdout",
     "output_type": "stream",
     "text": [
      "1, 0, 0.0\n",
      "2, 0, 0.0\n",
      "3, 0, 0.0\n",
      "4, 0, 0.0\n",
      "5, 0, 0.0\n",
      "6, 0, 0.0\n",
      "7, 6, 1.0\n",
      "8, 0, 0.0\n",
      "9, 0, 0.0\n",
      "10, 577, 9.58749989407225e-05\n",
      "11, 0, 0.0\n",
      "13, 24, 1.0\n",
      "14, 0, 0.0\n",
      "15, 0, 0.0\n",
      "16, 1, 1.0\n",
      "17, 6131, 0.0003473604205718274\n",
      "18, 89000, 0.02737303448541002\n",
      "19, 0, 0.0\n",
      "20, 5556, 0.18554635319262625\n",
      "21, 0, 0.0\n",
      "22, 4016, 9.014580028202436e-05\n",
      "23, 0, 0.0\n",
      "24, 240, 0.5607476635514018\n",
      "25, 0, 0.0\n",
      "26, 1433, 0.7691894793344068\n"
     ]
    }
   ],
   "source": [
    "for k, v in duplicated12.items():\n",
    "    if k == \"12\":\n",
    "        continue\n",
    "    print(f\"{k}, {len(v)}, {len(v) / len(conv[k])}\")"
   ]
  },
  {
   "cell_type": "code",
   "execution_count": 32,
   "id": "9b0a4b7a-bc32-495e-aa88-3f6dfb9ba771",
   "metadata": {
    "execution": {
     "iopub.execute_input": "2023-06-26T17:10:37.550493Z",
     "iopub.status.busy": "2023-06-26T17:10:37.549892Z",
     "iopub.status.idle": "2023-06-26T17:10:37.561190Z",
     "shell.execute_reply": "2023-06-26T17:10:37.559526Z",
     "shell.execute_reply.started": "2023-06-26T17:10:37.550463Z"
    },
    "scrolled": true,
    "tags": []
   },
   "outputs": [
    {
     "name": "stdout",
     "output_type": "stream",
     "text": [
      "1, 0, 0.0\n",
      "2, 0, 0.0\n",
      "3, 0, 0.0\n",
      "4, 0, 0.0\n",
      "5, 0, 0.0\n",
      "6, 0, 0.0\n",
      "7, 6, 1.0\n",
      "8, 0, 0.0\n",
      "9, 0, 0.0\n",
      "10, 170, 2.8247400034528292e-05\n",
      "11, 0, 0.0\n",
      "13, 24, 1.0\n",
      "14, 0, 0.0\n",
      "15, 0, 0.0\n",
      "16, 1, 1.0\n",
      "17, 14711, 0.0008334723775945446\n",
      "18, 10793, 0.0033195186651801163\n",
      "19, 0, 0.0\n",
      "20, 7015, 0.23427063852524713\n",
      "21, 0, 0.0\n",
      "22, 2054, 4.610544665818677e-05\n",
      "23, 0, 0.0\n",
      "24, 267, 0.6238317757009346\n",
      "25, 0, 0.0\n",
      "26, 1397, 0.7498658078368223\n"
     ]
    }
   ],
   "source": [
    "for k, v in duplicated13.items():\n",
    "    if k == \"12\":\n",
    "        continue\n",
    "    print(f\"{k}, {len(v)}, {len(v) / len(conv[k])}\")"
   ]
  },
  {
   "cell_type": "code",
   "execution_count": 33,
   "id": "1048fb34-ff28-4394-ad15-2f31566f6cc6",
   "metadata": {
    "execution": {
     "iopub.execute_input": "2023-06-26T17:10:37.706763Z",
     "iopub.status.busy": "2023-06-26T17:10:37.704334Z",
     "iopub.status.idle": "2023-06-26T17:10:37.726201Z",
     "shell.execute_reply": "2023-06-26T17:10:37.722509Z",
     "shell.execute_reply.started": "2023-06-26T17:10:37.706715Z"
    },
    "scrolled": true,
    "tags": []
   },
   "outputs": [
    {
     "name": "stdout",
     "output_type": "stream",
     "text": [
      "1, 0, 0.0\n",
      "2, 0, 0.0\n",
      "3, 0, 0.0\n",
      "4, 0, 0.0\n",
      "5, 0, 0.0\n",
      "6, 0, 0.0\n",
      "7, 6, 1.0\n",
      "8, 0, 0.0\n",
      "9, 0, 0.0\n",
      "10, 81, 1.3459055310569363e-05\n",
      "11, 0, 0.0\n",
      "13, 24, 1.0\n",
      "14, 0, 0.0\n",
      "15, 0, 0.0\n",
      "16, 1, 1.0\n",
      "17, 37, 2.0962869941539086e-06\n",
      "18, 19161, 0.005893199031179117\n",
      "19, 0, 0.0\n",
      "20, 5122, 0.17105263157894737\n",
      "21, 0, 0.0\n",
      "22, 1538, 3.452296833509798e-05\n",
      "23, 0, 0.0\n",
      "24, 284, 0.6635514018691588\n",
      "25, 0, 0.0\n",
      "26, 1386, 0.7439613526570048\n"
     ]
    }
   ],
   "source": [
    "for k, v in duplicated23.items():\n",
    "    if k == \"12\":\n",
    "        continue\n",
    "    print(f\"{k}, {len(v)}, {len(v) / len(conv[k])}\")"
   ]
  },
  {
   "cell_type": "code",
   "execution_count": 34,
   "id": "02a8378a-bd8b-44e0-9742-2493d91873b2",
   "metadata": {
    "execution": {
     "iopub.execute_input": "2023-06-26T17:10:37.841428Z",
     "iopub.status.busy": "2023-06-26T17:10:37.840857Z",
     "iopub.status.idle": "2023-06-26T17:10:37.849519Z",
     "shell.execute_reply": "2023-06-26T17:10:37.848351Z",
     "shell.execute_reply.started": "2023-06-26T17:10:37.841396Z"
    },
    "scrolled": true,
    "tags": []
   },
   "outputs": [
    {
     "name": "stdout",
     "output_type": "stream",
     "text": [
      "1, 0, 0.0\n",
      "2, 0, 0.0\n",
      "3, 0, 0.0\n",
      "4, 0, 0.0\n",
      "5, 0, 0.0\n",
      "6, 0, 0.0\n",
      "7, 6, 1.0\n",
      "8, 0, 0.0\n",
      "9, 0, 0.0\n",
      "10, 52, 8.640381187032184e-06\n",
      "11, 0, 0.0\n",
      "13, 24, 1.0\n",
      "14, 0, 0.0\n",
      "15, 0, 0.0\n",
      "16, 1, 1.0\n",
      "17, 0, 0.0\n",
      "18, 5079, 0.001562108338779747\n",
      "19, 0, 0.0\n",
      "20, 3780, 0.126235639861074\n",
      "21, 0, 0.0\n",
      "22, 1298, 2.913576911505668e-05\n",
      "23, 0, 0.0\n",
      "24, 240, 0.5607476635514018\n",
      "25, 0, 0.0\n",
      "26, 1324, 0.7106816961889426\n"
     ]
    }
   ],
   "source": [
    "for k, v in duplicated123.items():\n",
    "    if k == \"12\":\n",
    "        continue\n",
    "    print(f\"{k}, {len(v)}, {len(v) / len(conv[k])}\")"
   ]
  },
  {
   "cell_type": "code",
   "execution_count": 29,
   "id": "2f263b9e-686b-42f0-8036-d6a84a881661",
   "metadata": {
    "execution": {
     "iopub.execute_input": "2023-06-26T17:10:11.136665Z",
     "iopub.status.busy": "2023-06-26T17:10:11.136148Z",
     "iopub.status.idle": "2023-06-26T17:10:11.142435Z",
     "shell.execute_reply": "2023-06-26T17:10:11.141691Z",
     "shell.execute_reply.started": "2023-06-26T17:10:11.136637Z"
    },
    "scrolled": true,
    "tags": []
   },
   "outputs": [
    {
     "name": "stdout",
     "output_type": "stream",
     "text": [
      "1, 21\n",
      "2, 9\n",
      "3, 6957364\n",
      "4, 5326207\n",
      "5, 12\n",
      "6, 9\n",
      "7, 6\n",
      "8, 18\n",
      "9, 6\n",
      "10, 6018253\n",
      "11, 111\n",
      "12, 0\n",
      "13, 24\n",
      "14, 6\n",
      "15, 1112\n",
      "16, 1\n",
      "17, 17650255\n",
      "18, 3251375\n",
      "19, 370037\n",
      "20, 29944\n",
      "21, 14\n",
      "22, 44550051\n",
      "23, 318762\n",
      "24, 428\n",
      "25, 1018\n",
      "26, 1863\n"
     ]
    }
   ],
   "source": [
    "id_cnt = 0\n",
    "\n",
    "for k, v in conv.items():\n",
    "    id_cnt += len(v)\n",
    "    print(f\"{k}, {len(v)}\")"
   ]
  },
  {
   "cell_type": "code",
   "execution_count": 30,
   "id": "94c7ff6f-8d10-4e6d-9770-92aabf4ea456",
   "metadata": {
    "execution": {
     "iopub.execute_input": "2023-06-26T17:10:11.571958Z",
     "iopub.status.busy": "2023-06-26T17:10:11.571067Z",
     "iopub.status.idle": "2023-06-26T17:10:11.594787Z",
     "shell.execute_reply": "2023-06-26T17:10:11.593640Z",
     "shell.execute_reply.started": "2023-06-26T17:10:11.571924Z"
    },
    "tags": []
   },
   "outputs": [
    {
     "data": {
      "text/plain": [
       "84476906"
      ]
     },
     "execution_count": 30,
     "metadata": {},
     "output_type": "execute_result"
    }
   ],
   "source": [
    "id_cnt"
   ]
  },
  {
   "cell_type": "code",
   "execution_count": null,
   "id": "b2160240-acc1-408e-ba71-6f9171e21ece",
   "metadata": {},
   "outputs": [],
   "source": []
  },
  {
   "cell_type": "code",
   "execution_count": null,
   "id": "f03f3474-0b90-48bc-9e28-7aae3cfe429f",
   "metadata": {},
   "outputs": [],
   "source": []
  },
  {
   "cell_type": "markdown",
   "id": "34366c2b-dc4a-4f2b-bd08-6e3bb0814b92",
   "metadata": {},
   "source": [
    "# Exp 2: 测试集中，某些字段包含了训练集中不包含的值"
   ]
  },
  {
   "cell_type": "code",
   "execution_count": 10,
   "id": "bb977ae2-18a1-4bd3-a0fc-a072a7439b35",
   "metadata": {
    "execution": {
     "iopub.execute_input": "2023-06-27T04:09:19.327935Z",
     "iopub.status.busy": "2023-06-27T04:09:19.327594Z",
     "iopub.status.idle": "2023-06-27T04:09:19.336953Z",
     "shell.execute_reply": "2023-06-27T04:09:19.335989Z",
     "shell.execute_reply.started": "2023-06-27T04:09:19.327910Z"
    },
    "tags": []
   },
   "outputs": [
    {
     "data": {
      "text/plain": [
       "['file_test.txt']"
      ]
     },
     "execution_count": 10,
     "metadata": {},
     "output_type": "execute_result"
    }
   ],
   "source": [
    "test_folder = \"../../data/data204194/test_data\"\n",
    "test_file_ls = sorted(os.listdir(test_folder))\n",
    "\n",
    "test_file_ls"
   ]
  },
  {
   "cell_type": "code",
   "execution_count": 12,
   "id": "dadff814-9dda-4c3c-a552-4025b1618a0a",
   "metadata": {
    "execution": {
     "iopub.execute_input": "2023-06-26T16:51:31.346129Z",
     "iopub.status.busy": "2023-06-26T16:51:31.345787Z",
     "iopub.status.idle": "2023-06-26T16:51:31.350124Z",
     "shell.execute_reply": "2023-06-26T16:51:31.349186Z",
     "shell.execute_reply.started": "2023-06-26T16:51:31.346109Z"
    },
    "tags": []
   },
   "outputs": [],
   "source": [
    "test = {}\n",
    "\n",
    "for _key in record.split(\",\"):\n",
    "    test[_key] = set()"
   ]
  },
  {
   "cell_type": "code",
   "execution_count": 13,
   "id": "41b1d2b5-9012-42e0-bae4-d7144e622ed4",
   "metadata": {
    "execution": {
     "iopub.execute_input": "2023-06-26T16:51:31.351827Z",
     "iopub.status.busy": "2023-06-26T16:51:31.351470Z",
     "iopub.status.idle": "2023-06-26T16:52:27.917850Z",
     "shell.execute_reply": "2023-06-26T16:52:27.914371Z",
     "shell.execute_reply.started": "2023-06-26T16:51:31.351806Z"
    },
    "tags": []
   },
   "outputs": [],
   "source": [
    "for _file in test_file_ls:\n",
    "    with open(os.path.join(test_folder, _file), \"r\") as f:\n",
    "        for line in f:\n",
    "            items = line.strip().split(\"\\t\")\n",
    "            \n",
    "            log_key = items[0]\n",
    "            t1 = items[1]\n",
    "            t2 = items[2]\n",
    "            t3 = items[3]\n",
    "            features = items[4]\n",
    "            \n",
    "            feature_ls = features.split(\" \")\n",
    "            \n",
    "            for _f in feature_ls:\n",
    "                _value = _f.split(\":\")[0]\n",
    "                _key = _f.split(\":\")[1]\n",
    "                \n",
    "                if _value not in conv1[_key] and _value not in conv2[_key] and _value not in conv3[_key]:\n",
    "                    test[_key].add(_value)"
   ]
  },
  {
   "cell_type": "code",
   "execution_count": 14,
   "id": "2370f681-3d5b-4f95-b2c7-c7493755a644",
   "metadata": {
    "execution": {
     "iopub.execute_input": "2023-06-26T16:52:27.923378Z",
     "iopub.status.busy": "2023-06-26T16:52:27.922326Z",
     "iopub.status.idle": "2023-06-26T16:52:27.933932Z",
     "shell.execute_reply": "2023-06-26T16:52:27.933130Z",
     "shell.execute_reply.started": "2023-06-26T16:52:27.923319Z"
    },
    "scrolled": true,
    "tags": []
   },
   "outputs": [
    {
     "name": "stdout",
     "output_type": "stream",
     "text": [
      "1, 0\n",
      "2, 0\n",
      "3, 224082\n",
      "4, 156423\n",
      "5, 0\n",
      "6, 0\n",
      "7, 0\n",
      "8, 0\n",
      "9, 0\n",
      "10, 152719\n",
      "11, 0\n",
      "12, 0\n",
      "13, 0\n",
      "14, 0\n",
      "15, 3\n",
      "16, 0\n",
      "17, 469086\n",
      "18, 64872\n",
      "19, 11218\n",
      "20, 234\n",
      "21, 0\n",
      "22, 1319059\n",
      "23, 8541\n",
      "24, 3\n",
      "25, 4\n",
      "26, 15\n"
     ]
    }
   ],
   "source": [
    "for _k, _v in test.items():\n",
    "    print(f\"{_k}, {len(_v)}\")"
   ]
  },
  {
   "cell_type": "code",
   "execution_count": null,
   "id": "e2c69041-2552-4d94-9601-5dbb0aed6fed",
   "metadata": {},
   "outputs": [],
   "source": []
  },
  {
   "cell_type": "code",
   "execution_count": 15,
   "id": "fd03d902-67a7-451f-817a-571cd5496b96",
   "metadata": {
    "execution": {
     "iopub.execute_input": "2023-06-26T16:52:27.935663Z",
     "iopub.status.busy": "2023-06-26T16:52:27.935273Z",
     "iopub.status.idle": "2023-06-26T16:52:27.944731Z",
     "shell.execute_reply": "2023-06-26T16:52:27.943834Z",
     "shell.execute_reply.started": "2023-06-26T16:52:27.935636Z"
    },
    "scrolled": true,
    "tags": []
   },
   "outputs": [
    {
     "name": "stdout",
     "output_type": "stream",
     "text": [
      "1, 0.0\n",
      "2, 0.0\n",
      "3, 0.03220788792996888\n",
      "4, 0.02936855439527604\n",
      "5, 0.0\n",
      "6, 0.0\n",
      "7, 0.0\n",
      "8, 0.0\n",
      "9, 0.0\n",
      "10, 0.025375968740430153\n",
      "11, 0.0\n",
      "12, 0.0\n",
      "13, 0.0\n",
      "14, 0.0\n",
      "15, 0.002697841726618705\n",
      "16, 0.0\n",
      "17, 0.026576726511883256\n",
      "18, 0.01995217408019684\n",
      "19, 0.0303158873301859\n",
      "20, 0.007814587229495058\n",
      "21, 0.0\n",
      "22, 0.029608473399951887\n",
      "23, 0.026794285391608788\n",
      "24, 0.007009345794392523\n",
      "25, 0.003929273084479371\n",
      "26, 0.008051529790660225\n"
     ]
    }
   ],
   "source": [
    "for _k, _v in test.items():\n",
    "    print(f\"{_k}, {len(_v) / len(conv[_k])}\") if len(conv[_k]) != 0 else print(f\"{_k}, 0.0\")"
   ]
  },
  {
   "cell_type": "code",
   "execution_count": null,
   "id": "ddc3fb8c-fa3c-4cb9-8660-d4a918382a6c",
   "metadata": {},
   "outputs": [],
   "source": []
  },
  {
   "cell_type": "markdown",
   "id": "626659d3-0dd2-48a6-8432-c13e27aa2b2f",
   "metadata": {},
   "source": [
    "# Exp 3: 根据各列特征长度猜测用户和广告id字段"
   ]
  },
  {
   "cell_type": "code",
   "execution_count": 4,
   "id": "cb21d848-e0fd-4514-b1e9-5a869825c92e",
   "metadata": {
    "execution": {
     "iopub.execute_input": "2023-06-27T02:14:55.292242Z",
     "iopub.status.busy": "2023-06-27T02:14:55.291894Z",
     "iopub.status.idle": "2023-06-27T02:14:55.297089Z",
     "shell.execute_reply": "2023-06-27T02:14:55.296284Z",
     "shell.execute_reply.started": "2023-06-27T02:14:55.292216Z"
    },
    "tags": []
   },
   "outputs": [],
   "source": [
    "len1, len2, len3 = {}, {}, {}\n",
    "\n",
    "for _key in record.split(\",\"):\n",
    "    len1[_key] = [100, -1]\n",
    "    len2[_key] = [100, -1]\n",
    "    len3[_key] = [100, -1]"
   ]
  },
  {
   "cell_type": "code",
   "execution_count": 5,
   "id": "074bcdff-74e6-49bf-8c8e-96cd8e44ef15",
   "metadata": {
    "execution": {
     "iopub.execute_input": "2023-06-27T02:16:26.544482Z",
     "iopub.status.busy": "2023-06-27T02:16:26.543892Z",
     "iopub.status.idle": "2023-06-27T02:28:09.158891Z",
     "shell.execute_reply": "2023-06-27T02:28:09.150333Z",
     "shell.execute_reply.started": "2023-06-27T02:16:26.544453Z"
    }
   },
   "outputs": [
    {
     "name": "stderr",
     "output_type": "stream",
     "text": [
      "100%|███████████████████████████████████████████████████████████████████████████████████████████████████████████████████████████████████████████████████████████████████████████████████████████████████████| 30/30 [11:42<00:00, 23.42s/it]\n"
     ]
    }
   ],
   "source": [
    "for _file in tqdm.tqdm(train_file_ls):\n",
    "    with open(os.path.join(train_folder, _file), \"r\") as f:\n",
    "        for line in f:\n",
    "            items = line.strip().split(\"\\t\")\n",
    "            \n",
    "            log_key = items[0]\n",
    "            t1 = items[1]\n",
    "            t2 = items[2]\n",
    "            t3 = items[3]\n",
    "            features = items[4]\n",
    "            \n",
    "            if t1 in [\"0\", \"1\"]:\n",
    "                curr_len = len1\n",
    "            elif t2 in [\"0\", \"1\"]:\n",
    "                curr_len = len2\n",
    "            elif t3 in [\"0\", \"1\"]:\n",
    "                curr_len = len3\n",
    "            \n",
    "            feature_ls = features.split(\" \")\n",
    "            \n",
    "            curr_line = {}\n",
    "            \n",
    "            for i in range(1, 26+1):\n",
    "                curr_line[str(i)] = 0\n",
    "            \n",
    "            for _f in feature_ls:\n",
    "                _value = _f.split(\":\")[0]\n",
    "                _key = _f.split(\":\")[1]\n",
    "                \n",
    "                curr_line[_key] += 1\n",
    "            \n",
    "            for _k, _v in curr_line.items():\n",
    "                curr_len[_k][0] = min(curr_len[_k][0], _v)\n",
    "                curr_len[_k][1] = max(curr_len[_k][1], _v)"
   ]
  },
  {
   "cell_type": "code",
   "execution_count": 8,
   "id": "67a5966b-4229-44b4-9036-61e318752de4",
   "metadata": {
    "execution": {
     "iopub.execute_input": "2023-06-27T02:29:29.465392Z",
     "iopub.status.busy": "2023-06-27T02:29:29.465039Z",
     "iopub.status.idle": "2023-06-27T02:29:29.471800Z",
     "shell.execute_reply": "2023-06-27T02:29:29.470774Z",
     "shell.execute_reply.started": "2023-06-27T02:29:29.465364Z"
    },
    "tags": []
   },
   "outputs": [
    {
     "name": "stdout",
     "output_type": "stream",
     "text": [
      "[1] -- conv1: [1, 1], conv2: [1, 1], conv3: [1, 1]\n",
      "[2] -- conv1: [1, 1], conv2: [1, 1], conv3: [1, 1]\n",
      "[3] -- conv1: [1, 1], conv2: [1, 1], conv3: [1, 1]\n",
      "[4] -- conv1: [1, 1], conv2: [1, 1], conv3: [1, 1]\n",
      "[5] -- conv1: [1, 1], conv2: [1, 1], conv3: [1, 1]\n",
      "[6] -- conv1: [1, 1], conv2: [1, 1], conv3: [1, 1]\n",
      "[7] -- conv1: [1, 1], conv2: [1, 1], conv3: [1, 1]\n",
      "[8] -- conv1: [1, 1], conv2: [1, 1], conv3: [1, 1]\n",
      "[9] -- conv1: [1, 1], conv2: [1, 1], conv3: [1, 1]\n",
      "[10] -- conv1: [0, 20], conv2: [0, 20], conv3: [0, 20]\n",
      "[11] -- conv1: [1, 1], conv2: [1, 1], conv3: [1, 1]\n",
      "[12] -- conv1: [0, 0], conv2: [0, 0], conv3: [0, 0]\n",
      "[13] -- conv1: [1, 1], conv2: [1, 1], conv3: [1, 1]\n",
      "[14] -- conv1: [1, 1], conv2: [1, 1], conv3: [1, 1]\n",
      "[15] -- conv1: [1, 1], conv2: [1, 1], conv3: [1, 1]\n",
      "[16] -- conv1: [1, 1], conv2: [1, 1], conv3: [1, 1]\n",
      "[17] -- conv1: [0, 10], conv2: [0, 10], conv3: [0, 10]\n",
      "[18] -- conv1: [0, 10], conv2: [0, 10], conv3: [0, 10]\n",
      "[19] -- conv1: [1, 1], conv2: [1, 1], conv3: [1, 1]\n",
      "[20] -- conv1: [1, 14], conv2: [1, 13], conv3: [1, 13]\n",
      "[21] -- conv1: [1, 2], conv2: [1, 2], conv3: [1, 1]\n",
      "[22] -- conv1: [0, 20], conv2: [0, 20], conv3: [0, 20]\n",
      "[23] -- conv1: [1, 1], conv2: [1, 1], conv3: [1, 1]\n",
      "[24] -- conv1: [1, 1], conv2: [1, 1], conv3: [1, 1]\n",
      "[25] -- conv1: [0, 6], conv2: [0, 6], conv3: [0, 6]\n",
      "[26] -- conv1: [1, 12], conv2: [1, 12], conv3: [1, 12]\n"
     ]
    }
   ],
   "source": [
    "for k, v in len1.items():\n",
    "    print(f\"[{k}] -- conv1: {v}, conv2: {len2[k]}, conv3: {len3[k]}\")"
   ]
  },
  {
   "cell_type": "code",
   "execution_count": null,
   "id": "f9b14e08-ecb2-4790-89e0-252ad9fe60f2",
   "metadata": {},
   "outputs": [],
   "source": []
  },
  {
   "cell_type": "code",
   "execution_count": 9,
   "id": "61cdb21e-d54e-48bc-aef9-c417fa6745a8",
   "metadata": {
    "execution": {
     "iopub.execute_input": "2023-06-27T03:39:25.299217Z",
     "iopub.status.busy": "2023-06-27T03:39:25.298847Z",
     "iopub.status.idle": "2023-06-27T03:39:25.307242Z",
     "shell.execute_reply": "2023-06-27T03:39:25.306414Z",
     "shell.execute_reply.started": "2023-06-27T03:39:25.299189Z"
    },
    "tags": []
   },
   "outputs": [],
   "source": [
    "test_len = {}\n",
    "\n",
    "for _key in record.split(\",\"):\n",
    "    test_len[_key] = [100, -1]"
   ]
  },
  {
   "cell_type": "code",
   "execution_count": 12,
   "id": "b6a9e8c2-35dc-432a-bc9f-3c400b52721c",
   "metadata": {
    "execution": {
     "iopub.execute_input": "2023-06-27T03:40:18.249182Z",
     "iopub.status.busy": "2023-06-27T03:40:18.248550Z",
     "iopub.status.idle": "2023-06-27T03:40:35.165754Z",
     "shell.execute_reply": "2023-06-27T03:40:35.165066Z",
     "shell.execute_reply.started": "2023-06-27T03:40:18.249153Z"
    },
    "tags": []
   },
   "outputs": [
    {
     "name": "stderr",
     "output_type": "stream",
     "text": [
      "100%|█████████████████████████████████████████████████████████████████████████████████████████████████████████████████████████████████████████████████████████████████████████████████████████████████████████| 1/1 [00:16<00:00, 16.91s/it]\n"
     ]
    }
   ],
   "source": [
    "for _file in tqdm.tqdm(test_file_ls):\n",
    "    with open(os.path.join(test_folder, _file), \"r\") as f:\n",
    "        for line in f:\n",
    "            items = line.strip().split(\"\\t\")\n",
    "            \n",
    "            log_key = items[0]\n",
    "            t1 = items[1]\n",
    "            t2 = items[2]\n",
    "            t3 = items[3]\n",
    "            features = items[4]\n",
    "            \n",
    "            feature_ls = features.split(\" \")\n",
    "            \n",
    "            curr_line = {}\n",
    "            \n",
    "            for i in range(1, 26+1):\n",
    "                curr_line[str(i)] = 0\n",
    "            \n",
    "            for _f in feature_ls:\n",
    "                _value = _f.split(\":\")[0]\n",
    "                _key = _f.split(\":\")[1]\n",
    "                \n",
    "                curr_line[_key] += 1\n",
    "            \n",
    "            for _k, _v in curr_line.items():\n",
    "                test_len[_k][0] = min(test_len[_k][0], _v)\n",
    "                test_len[_k][1] = max(test_len[_k][1], _v)"
   ]
  },
  {
   "cell_type": "code",
   "execution_count": 17,
   "id": "a5662f83-e79d-488a-8206-084d4d9acecc",
   "metadata": {
    "execution": {
     "iopub.execute_input": "2023-06-27T03:45:14.269836Z",
     "iopub.status.busy": "2023-06-27T03:45:14.269476Z",
     "iopub.status.idle": "2023-06-27T03:45:14.275059Z",
     "shell.execute_reply": "2023-06-27T03:45:14.274213Z",
     "shell.execute_reply.started": "2023-06-27T03:45:14.269807Z"
    },
    "tags": []
   },
   "outputs": [
    {
     "name": "stdout",
     "output_type": "stream",
     "text": [
      "[1] -- conv1: [1, 1], conv2: [1, 1], conv3: [1, 1], test: [1, 1]\n",
      "[2] -- conv1: [1, 1], conv2: [1, 1], conv3: [1, 1], test: [1, 1]\n",
      "[3] -- conv1: [1, 1], conv2: [1, 1], conv3: [1, 1], test: [1, 1]\n",
      "[4] -- conv1: [1, 1], conv2: [1, 1], conv3: [1, 1], test: [1, 1]\n",
      "[5] -- conv1: [1, 1], conv2: [1, 1], conv3: [1, 1], test: [1, 1]\n",
      "[6] -- conv1: [1, 1], conv2: [1, 1], conv3: [1, 1], test: [1, 1]\n",
      "[7] -- conv1: [1, 1], conv2: [1, 1], conv3: [1, 1], test: [1, 1]\n",
      "[8] -- conv1: [1, 1], conv2: [1, 1], conv3: [1, 1], test: [1, 1]\n",
      "[9] -- conv1: [1, 1], conv2: [1, 1], conv3: [1, 1], test: [1, 1]\n",
      "[10] -- conv1: [0, 20], conv2: [0, 20], conv3: [0, 20], test: [0, 20]\n",
      "[11] -- conv1: [1, 1], conv2: [1, 1], conv3: [1, 1], test: [1, 1]\n",
      "[12] -- conv1: [0, 0], conv2: [0, 0], conv3: [0, 0], test: [0, 0]\n",
      "[13] -- conv1: [1, 1], conv2: [1, 1], conv3: [1, 1], test: [1, 1]\n",
      "[14] -- conv1: [1, 1], conv2: [1, 1], conv3: [1, 1], test: [1, 1]\n",
      "[15] -- conv1: [1, 1], conv2: [1, 1], conv3: [1, 1], test: [1, 1]\n",
      "[16] -- conv1: [1, 1], conv2: [1, 1], conv3: [1, 1], test: [1, 1]\n",
      "[17] -- conv1: [0, 10], conv2: [0, 10], conv3: [0, 10], test: [0, 10]\n",
      "[18] -- conv1: [0, 10], conv2: [0, 10], conv3: [0, 10], test: [0, 10]\n",
      "[19] -- conv1: [1, 1], conv2: [1, 1], conv3: [1, 1], test: [1, 1]\n",
      "[20] -- conv1: [1, 14], conv2: [1, 13], conv3: [1, 13], test: [1, 13]\n",
      "[21] -- conv1: [1, 2], conv2: [1, 2], conv3: [1, 1], test: [1, 2]\n",
      "[22] -- conv1: [0, 20], conv2: [0, 20], conv3: [0, 20], test: [0, 20]\n",
      "[23] -- conv1: [1, 1], conv2: [1, 1], conv3: [1, 1], test: [1, 1]\n",
      "[24] -- conv1: [1, 1], conv2: [1, 1], conv3: [1, 1], test: [1, 1]\n",
      "[25] -- conv1: [0, 6], conv2: [0, 6], conv3: [0, 6], test: [0, 6]\n",
      "[26] -- conv1: [1, 12], conv2: [1, 12], conv3: [1, 12], test: [1, 12]\n"
     ]
    }
   ],
   "source": [
    "for k, v in test_len.items():\n",
    "    print(f\"[{k}] -- conv1: {len1[k]}, conv2: {len2[k]}, conv3: {len3[k]}, test: {v}\")"
   ]
  },
  {
   "cell_type": "code",
   "execution_count": null,
   "id": "e8195905-380a-4f08-9bf3-aa008be351d0",
   "metadata": {},
   "outputs": [],
   "source": []
  },
  {
   "cell_type": "markdown",
   "id": "69d1c8df-59a5-4ba3-beb3-0d3b24234c8f",
   "metadata": {},
   "source": [
    "# Exp 4: 根据字段9划分1/2/3"
   ]
  },
  {
   "cell_type": "markdown",
   "id": "96a99fa4-8f52-4ed1-80ca-306e4e410b0c",
   "metadata": {},
   "source": [
    "## train"
   ]
  },
  {
   "cell_type": "code",
   "execution_count": 19,
   "id": "15be0b4c-8de9-4c79-b958-9d1c90586e8b",
   "metadata": {
    "execution": {
     "iopub.execute_input": "2023-06-27T04:37:29.009980Z",
     "iopub.status.busy": "2023-06-27T04:37:29.008485Z",
     "iopub.status.idle": "2023-06-27T04:37:29.016422Z",
     "shell.execute_reply": "2023-06-27T04:37:29.015325Z",
     "shell.execute_reply.started": "2023-06-27T04:37:29.009939Z"
    },
    "tags": []
   },
   "outputs": [],
   "source": [
    "f1, f2, f3 = [], [], []\n",
    "\n",
    "cnt = 0"
   ]
  },
  {
   "cell_type": "code",
   "execution_count": 20,
   "id": "44b1ef92-3d7c-4429-8f38-b59fd10859ee",
   "metadata": {
    "execution": {
     "iopub.execute_input": "2023-06-27T04:37:29.018937Z",
     "iopub.status.busy": "2023-06-27T04:37:29.018498Z",
     "iopub.status.idle": "2023-06-27T04:37:52.353487Z",
     "shell.execute_reply": "2023-06-27T04:37:52.352507Z",
     "shell.execute_reply.started": "2023-06-27T04:37:29.018908Z"
    },
    "tags": []
   },
   "outputs": [
    {
     "name": "stderr",
     "output_type": "stream",
     "text": [
      "100%|███████████████████████████████████████████████████████████████████████████████████████████████████████████████████████████████████████████████████████████████████████████████████████████████████████| 30/30 [00:23<00:00,  1.29it/s]\n"
     ]
    }
   ],
   "source": [
    "for _file in tqdm.tqdm(train_file_ls):\n",
    "    with open(os.path.join(train_folder, _file), \"r\") as f:\n",
    "        for line in f:\n",
    "            cnt += 1\n",
    "            items = line.strip().split(\"\\t\")\n",
    "            \n",
    "            log_key = items[0]\n",
    "            t1 = items[1]\n",
    "            t2 = items[2]\n",
    "            t3 = items[3]\n",
    "            features = items[4]\n",
    "            \n",
    "            if t1 in [\"0\", \"1\"]:\n",
    "                curr_f = f1\n",
    "            elif t2 in [\"0\", \"1\"]:\n",
    "                curr_f = f2\n",
    "            elif t3 in [\"0\", \"1\"]:\n",
    "                curr_f = f3\n",
    "            \n",
    "            curr_f.append(line)"
   ]
  },
  {
   "cell_type": "code",
   "execution_count": 23,
   "id": "6811cb98-1e8d-430b-8e41-3dca8a9d74e9",
   "metadata": {
    "execution": {
     "iopub.execute_input": "2023-06-27T04:39:01.150497Z",
     "iopub.status.busy": "2023-06-27T04:39:01.149801Z",
     "iopub.status.idle": "2023-06-27T04:39:01.158832Z",
     "shell.execute_reply": "2023-06-27T04:39:01.157777Z",
     "shell.execute_reply.started": "2023-06-27T04:39:01.150468Z"
    },
    "tags": []
   },
   "outputs": [
    {
     "data": {
      "text/plain": [
       "(2214568, 2198547, 2777005, 7190120)"
      ]
     },
     "execution_count": 23,
     "metadata": {},
     "output_type": "execute_result"
    }
   ],
   "source": [
    "len(f1), len(f2), len(f3), cnt"
   ]
  },
  {
   "cell_type": "code",
   "execution_count": 21,
   "id": "a68a31e3-00f8-405d-b7fa-a4b307272181",
   "metadata": {
    "execution": {
     "iopub.execute_input": "2023-06-27T04:38:43.950910Z",
     "iopub.status.busy": "2023-06-27T04:38:43.950547Z",
     "iopub.status.idle": "2023-06-27T04:38:43.962651Z",
     "shell.execute_reply": "2023-06-27T04:38:43.961826Z",
     "shell.execute_reply.started": "2023-06-27T04:38:43.950883Z"
    },
    "tags": []
   },
   "outputs": [
    {
     "data": {
      "text/plain": [
       "True"
      ]
     },
     "execution_count": 21,
     "metadata": {},
     "output_type": "execute_result"
    }
   ],
   "source": [
    "len(f1) + len(f2) + len(f3) == cnt"
   ]
  },
  {
   "cell_type": "code",
   "execution_count": 25,
   "id": "baf2b2cc-4e51-4548-be03-4320f08de0f8",
   "metadata": {
    "execution": {
     "iopub.execute_input": "2023-06-27T04:57:36.548334Z",
     "iopub.status.busy": "2023-06-27T04:57:36.547955Z",
     "iopub.status.idle": "2023-06-27T04:57:52.392501Z",
     "shell.execute_reply": "2023-06-27T04:57:52.391670Z",
     "shell.execute_reply.started": "2023-06-27T04:57:36.548307Z"
    },
    "tags": []
   },
   "outputs": [],
   "source": [
    "for file_name, line_ls in {\n",
    "    \"./file_t1.txt\": f1, \n",
    "    \"./file_t2.txt\": f2, \n",
    "    \"./file_t3.txt\": f3\n",
    "}.items():\n",
    "    with open(file_name, \"w\") as f:\n",
    "        for line in line_ls:\n",
    "            f.write(line)"
   ]
  },
  {
   "cell_type": "code",
   "execution_count": null,
   "id": "7f96d7b1-8257-4bf6-918f-5fb90a7dff89",
   "metadata": {},
   "outputs": [],
   "source": []
  },
  {
   "cell_type": "code",
   "execution_count": null,
   "id": "d77eaaf9-9225-4375-b01c-0eb669e472a7",
   "metadata": {},
   "outputs": [],
   "source": []
  },
  {
   "cell_type": "markdown",
   "id": "24d68e5f-1839-46a1-befd-95246771bb57",
   "metadata": {},
   "source": [
    "## test"
   ]
  },
  {
   "cell_type": "code",
   "execution_count": 27,
   "id": "0ba54e9c-9090-4ffa-b707-403940d34958",
   "metadata": {
    "execution": {
     "iopub.execute_input": "2023-06-27T05:00:36.094355Z",
     "iopub.status.busy": "2023-06-27T05:00:36.093934Z",
     "iopub.status.idle": "2023-06-27T05:00:36.104246Z",
     "shell.execute_reply": "2023-06-27T05:00:36.103402Z",
     "shell.execute_reply.started": "2023-06-27T05:00:36.094325Z"
    },
    "tags": []
   },
   "outputs": [
    {
     "data": {
      "text/plain": [
       "({'2367', '321'}, {'167', '350'}, {'75', '9'})"
      ]
     },
     "execution_count": 27,
     "metadata": {},
     "output_type": "execute_result"
    }
   ],
   "source": [
    "conv1[\"9\"], conv2[\"9\"], conv3[\"9\"]"
   ]
  },
  {
   "cell_type": "code",
   "execution_count": 43,
   "id": "e8e1aff6-65c2-46c3-9798-83a7dfd5d0ab",
   "metadata": {
    "execution": {
     "iopub.execute_input": "2023-06-27T05:20:31.541600Z",
     "iopub.status.busy": "2023-06-27T05:20:31.541164Z",
     "iopub.status.idle": "2023-06-27T05:20:37.323680Z",
     "shell.execute_reply": "2023-06-27T05:20:37.322747Z",
     "shell.execute_reply.started": "2023-06-27T05:20:31.541572Z"
    },
    "tags": []
   },
   "outputs": [
    {
     "name": "stderr",
     "output_type": "stream",
     "text": [
      "100%|█████████████████████████████████████████████████████████████████████████████████████████████████████████████████████████████████████████████████████████████████████████████████████████████████████████| 1/1 [00:05<00:00,  5.77s/it]\n"
     ]
    }
   ],
   "source": [
    "f1, f2, f3 = [], [], []\n",
    "cnt = 0\n",
    "\n",
    "for _file in tqdm.tqdm(test_file_ls):\n",
    "    with open(os.path.join(test_folder, _file), \"r\") as f:\n",
    "        for line in f:\n",
    "            cnt += 1\n",
    "            items = line.strip().split(\"\\t\")\n",
    "            \n",
    "            log_key = items[0]\n",
    "            t1 = items[1]\n",
    "            t2 = items[2]\n",
    "            t3 = items[3]\n",
    "            features = items[4]\n",
    "            \n",
    "            feature_ls = features.split(\" \")\n",
    "            \n",
    "            for _f in feature_ls:\n",
    "                _key = _f.split(\":\")[1]\n",
    "                \n",
    "                if _key != \"9\":\n",
    "                    continue\n",
    "                    \n",
    "                _value = _f.split(\":\")[0]\n",
    "                \n",
    "                if _value in ['2367', '321']:\n",
    "                    curr_f = f1\n",
    "                elif _value in ['167', '350']:\n",
    "                    curr_f = f2\n",
    "                elif _value in ['75', '9']:\n",
    "                    curr_f = f3\n",
    "                    \n",
    "                curr_f.append(line)"
   ]
  },
  {
   "cell_type": "code",
   "execution_count": 44,
   "id": "faeaf5b4-db56-46ca-90c4-1077fe7d0922",
   "metadata": {
    "execution": {
     "iopub.execute_input": "2023-06-27T05:20:38.536056Z",
     "iopub.status.busy": "2023-06-27T05:20:38.535695Z",
     "iopub.status.idle": "2023-06-27T05:20:38.541962Z",
     "shell.execute_reply": "2023-06-27T05:20:38.541054Z",
     "shell.execute_reply.started": "2023-06-27T05:20:38.536029Z"
    },
    "tags": []
   },
   "outputs": [
    {
     "data": {
      "text/plain": [
       "(80383, 69659, 84870, 234912)"
      ]
     },
     "execution_count": 44,
     "metadata": {},
     "output_type": "execute_result"
    }
   ],
   "source": [
    "len(f1), len(f2), len(f3), cnt"
   ]
  },
  {
   "cell_type": "code",
   "execution_count": null,
   "id": "22457a3e-86d9-4577-ba40-b7fde74cb58b",
   "metadata": {},
   "outputs": [],
   "source": []
  },
  {
   "cell_type": "code",
   "execution_count": 46,
   "id": "504cf9d3-1585-4acf-9560-03e00b4ede07",
   "metadata": {
    "execution": {
     "iopub.execute_input": "2023-06-27T05:22:11.325810Z",
     "iopub.status.busy": "2023-06-27T05:22:11.325162Z",
     "iopub.status.idle": "2023-06-27T05:22:11.977373Z",
     "shell.execute_reply": "2023-06-27T05:22:11.976535Z",
     "shell.execute_reply.started": "2023-06-27T05:22:11.325780Z"
    },
    "tags": []
   },
   "outputs": [],
   "source": [
    "for file_name, line_ls in {\n",
    "    \"./test_t1.txt\": f1, \n",
    "    \"./test_t2.txt\": f2, \n",
    "    \"./test_t3.txt\": f3\n",
    "}.items():\n",
    "    with open(file_name, \"w\") as f:\n",
    "        for line in line_ls:\n",
    "            f.write(line)"
   ]
  },
  {
   "cell_type": "code",
   "execution_count": null,
   "id": "4510a7e9-a641-41c7-91c8-947d7bb02541",
   "metadata": {},
   "outputs": [],
   "source": []
  },
  {
   "cell_type": "markdown",
   "id": "0aa8670f-d446-4079-8e1e-4459eb00c098",
   "metadata": {},
   "source": [
    "# Unknown"
   ]
  },
  {
   "cell_type": "code",
   "execution_count": null,
   "id": "ae6f19f3-1931-43c1-8770-8402c73df2ae",
   "metadata": {},
   "outputs": [],
   "source": []
  },
  {
   "cell_type": "code",
   "execution_count": null,
   "id": "eda396bd-f055-4337-b62f-9506f983583d",
   "metadata": {},
   "outputs": [],
   "source": []
  },
  {
   "cell_type": "code",
   "execution_count": null,
   "id": "248c1dc9-4c49-4edd-8cb0-fb080dc1d623",
   "metadata": {},
   "outputs": [],
   "source": []
  },
  {
   "cell_type": "code",
   "execution_count": null,
   "id": "4aadeea2-be67-41b5-8d19-4c81b9070e4e",
   "metadata": {},
   "outputs": [],
   "source": []
  },
  {
   "cell_type": "code",
   "execution_count": null,
   "id": "482821d4-74aa-4215-8be3-9b3cf1af1c06",
   "metadata": {},
   "outputs": [],
   "source": []
  },
  {
   "cell_type": "code",
   "execution_count": null,
   "id": "c548abcf-b67d-4bc1-b248-2fbc05d97cc8",
   "metadata": {},
   "outputs": [],
   "source": []
  },
  {
   "cell_type": "code",
   "execution_count": null,
   "id": "6d844523-1937-462a-a577-e554cb742bce",
   "metadata": {},
   "outputs": [],
   "source": []
  }
 ],
 "metadata": {
  "kernelspec": {
   "display_name": "Python 3 (ipykernel)",
   "language": "python",
   "name": "python3"
  },
  "language_info": {
   "codemirror_mode": {
    "name": "ipython",
    "version": 3
   },
   "file_extension": ".py",
   "mimetype": "text/x-python",
   "name": "python",
   "nbconvert_exporter": "python",
   "pygments_lexer": "ipython3",
   "version": "3.8.9"
  },
  "toc-autonumbering": true,
  "toc-showmarkdowntxt": false
 },
 "nbformat": 4,
 "nbformat_minor": 5
}
