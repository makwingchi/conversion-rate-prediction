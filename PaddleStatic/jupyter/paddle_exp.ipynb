{
 "cells": [
  {
   "cell_type": "code",
   "execution_count": 1,
   "id": "b31ebe2e-4a75-4325-a0f4-976f1f3591ba",
   "metadata": {
    "execution": {
     "iopub.execute_input": "2023-06-24T04:27:49.972676Z",
     "iopub.status.busy": "2023-06-24T04:27:49.971928Z",
     "iopub.status.idle": "2023-06-24T04:27:52.488972Z",
     "shell.execute_reply": "2023-06-24T04:27:52.488026Z",
     "shell.execute_reply.started": "2023-06-24T04:27:49.972648Z"
    },
    "tags": []
   },
   "outputs": [],
   "source": [
    "import os\n",
    "import math\n",
    "import datetime\n",
    "import joblib\n",
    "import logging\n",
    "\n",
    "from tqdm import tqdm\n",
    "\n",
    "import numpy as np\n",
    "import pandas as pd\n",
    "\n",
    "import paddle\n",
    "from paddle.io import Dataset, DataLoader\n",
    "import paddle.nn.functional as F"
   ]
  },
  {
   "cell_type": "code",
   "execution_count": 2,
   "id": "ec18cb94-6391-403c-a4a5-d8b2b7727bd1",
   "metadata": {
    "execution": {
     "iopub.execute_input": "2023-06-22T13:13:21.176279Z",
     "iopub.status.busy": "2023-06-22T13:13:21.175740Z",
     "iopub.status.idle": "2023-06-22T13:13:21.180039Z",
     "shell.execute_reply": "2023-06-22T13:13:21.179233Z",
     "shell.execute_reply.started": "2023-06-22T13:13:21.176249Z"
    },
    "tags": []
   },
   "outputs": [],
   "source": [
    "paddle.enable_static()"
   ]
  },
  {
   "cell_type": "code",
   "execution_count": null,
   "id": "3fb1f78e-cd75-4e8d-a412-3fd8bda1f7b6",
   "metadata": {},
   "outputs": [],
   "source": []
  },
  {
   "cell_type": "code",
   "execution_count": 3,
   "id": "1559a3d0-c3ea-427d-88ae-54d581daca62",
   "metadata": {
    "execution": {
     "iopub.execute_input": "2023-06-22T13:13:21.181779Z",
     "iopub.status.busy": "2023-06-22T13:13:21.181501Z",
     "iopub.status.idle": "2023-06-22T13:13:21.232107Z",
     "shell.execute_reply": "2023-06-22T13:13:21.231161Z",
     "shell.execute_reply.started": "2023-06-22T13:13:21.181757Z"
    },
    "tags": []
   },
   "outputs": [],
   "source": [
    "class StaticModel:\n",
    "    def __init__(self):\n",
    "        self.cost = None\n",
    "        self.infer_target_var = None\n",
    "        self._init_hyper_parameters()\n",
    "\n",
    "    def _init_hyper_parameters(self):        \n",
    "        self.sparse_feature_number = 88000000\n",
    "        self.sparse_feature_dim = 9\n",
    "        self.sparse_inputs_slots = 28\n",
    "        self.learning_rate = 0.001\n",
    "        self.fc_sizes = [512, 256, 128, 32]\n",
    "        \n",
    "    def create_feeds(self, is_infer=False):\n",
    "        sparse_input_ids = [\n",
    "            paddle.static.data(\n",
    "                name=\"C\" + str(i), shape=[None, 1], lod_level=1, dtype=\"int64\")\n",
    "            for i in range(1, self.sparse_inputs_slots)\n",
    "        ]\n",
    "\n",
    "        label = paddle.static.data(\n",
    "            name=\"label\", shape=[None, 1], dtype=\"int64\"\n",
    "        )\n",
    "\n",
    "        feeds_list = [label] + sparse_input_ids\n",
    "        \n",
    "        return feeds_list\n",
    "\n",
    "    def net(self, _input, is_infer=False):\n",
    "        self.log_key = _input[0]\n",
    "        self.label_input = _input[1]\n",
    "        self.sparse_inputs = _input[2:self.sparse_inputs_slots]\n",
    "        sparse_number = self.sparse_inputs_slots - 2\n",
    "\n",
    "        def embedding_layer(_input):\n",
    "            emb = paddle.fluid.layers.embedding(\n",
    "                input=_input,\n",
    "                is_sparse=True,\n",
    "                is_distributed=False,\n",
    "                size=[\n",
    "                    self.sparse_feature_number, self.sparse_feature_dim\n",
    "                ],\n",
    "                param_attr=paddle.fluid.ParamAttr(\n",
    "                    name=\"SparseFeatFactors\",\n",
    "                    initializer=paddle.fluid.initializer.Uniform()\n",
    "                )\n",
    "            )\n",
    "            \n",
    "            emb_sum = paddle.fluid.layers.sequence_pool(\n",
    "                input=emb, \n",
    "                pool_type='sum'\n",
    "            )\n",
    "            \n",
    "            return emb_sum\n",
    "\n",
    "        sparse_embs = list(map(embedding_layer, self.sparse_inputs))\n",
    "\n",
    "        dnn_model = StaticDNNLayer(\n",
    "            self.sparse_feature_number, \n",
    "            self.sparse_feature_dim,\n",
    "            sparse_number, \n",
    "            self.fc_sizes\n",
    "        )\n",
    "\n",
    "        pred = dnn_model.forward(sparse_embs)\n",
    "\n",
    "        predict_2d = paddle.concat(x=[1 - pred, pred], axis=1)\n",
    "\n",
    "        auc, batch_auc_var, _ = paddle.static.auc(\n",
    "            input=predict_2d,\n",
    "            label=self.label_input,\n",
    "            slide_steps=0\n",
    "        )\n",
    "        self.inference_target_var = auc\n",
    "        \n",
    "        if is_infer:\n",
    "            fetch_dict = {'log_key': self.log_key,'pred': pred}\n",
    "            return fetch_dict\n",
    "\n",
    "        cost = paddle.nn.functional.log_loss(\n",
    "            input=pred, \n",
    "            label=paddle.cast(\n",
    "                self.label_input, \n",
    "                dtype=\"float32\"\n",
    "            )\n",
    "        )\n",
    "        \n",
    "        avg_cost = paddle.mean(x=cost)\n",
    "        self._cost = avg_cost\n",
    "        fetch_dict = {'cost': avg_cost, 'auc': auc}\n",
    "        \n",
    "        return fetch_dict\n",
    "\n",
    "    def create_optimizer(self, strategy=None):\n",
    "        optimizer = paddle.optimizer.Adam(\n",
    "            learning_rate=self.learning_rate, \n",
    "            lazy_mode=True\n",
    "        )\n",
    "        \n",
    "        if strategy != None:\n",
    "            import paddle.distributed.fleet as fleet\n",
    "            optimizer = fleet.distributed_optimizer(optimizer, strategy)\n",
    "            \n",
    "        optimizer.minimize(self._cost)\n",
    "\n",
    "    def infer_net(self, _input):\n",
    "        return self.net(_input, is_infer=True)"
   ]
  },
  {
   "cell_type": "code",
   "execution_count": 4,
   "id": "1362ea74-64b4-4b74-b3e4-d6db1d4bc6e6",
   "metadata": {
    "execution": {
     "iopub.execute_input": "2023-06-22T13:13:21.235029Z",
     "iopub.status.busy": "2023-06-22T13:13:21.234200Z",
     "iopub.status.idle": "2023-06-22T13:13:21.245373Z",
     "shell.execute_reply": "2023-06-22T13:13:21.244462Z",
     "shell.execute_reply.started": "2023-06-22T13:13:21.234996Z"
    },
    "tags": []
   },
   "outputs": [],
   "source": [
    "class StaticDNNLayer(paddle.nn.Layer):\n",
    "    def __init__(self, sparse_feature_number, sparse_feature_dim, num_field, layer_sizes):\n",
    "        super().__init__()\n",
    "        \n",
    "        self.sparse_feature_number = sparse_feature_number\n",
    "        self.sparse_feature_dim = sparse_feature_dim\n",
    "        self.num_field = num_field\n",
    "        self.layer_sizes = layer_sizes\n",
    "\n",
    "        sizes = [sparse_feature_dim * num_field \n",
    "                 ] + self.layer_sizes + [1]\n",
    "        acts = [\"relu\" for _ in range(len(self.layer_sizes))] + [None]\n",
    "        \n",
    "        self._mlp_layers = []\n",
    "        \n",
    "        for i in range(len(layer_sizes) + 1):\n",
    "            linear = paddle.nn.Linear(\n",
    "                in_features=sizes[i],\n",
    "                out_features=sizes[i + 1],\n",
    "                weight_attr=paddle.ParamAttr(\n",
    "                    initializer=paddle.nn.initializer.Normal(\n",
    "                        std=1.0 / math.sqrt(sizes[i])\n",
    "                    )\n",
    "                )\n",
    "            )\n",
    "            \n",
    "            self.add_sublayer('linear_%d' % i, linear)\n",
    "            self._mlp_layers.append(linear)\n",
    "            \n",
    "            if acts[i] == 'relu':\n",
    "                act = paddle.nn.ReLU()\n",
    "                self.add_sublayer('act_%d' % i, act)\n",
    "                self._mlp_layers.append(act)\n",
    "\n",
    "    def forward(self, sparse_embs):\n",
    "        y_dnn = paddle.concat(x=sparse_embs, axis=1)\n",
    "        \n",
    "        for n_layer in self._mlp_layers:\n",
    "            y_dnn = n_layer(y_dnn)\n",
    "\n",
    "        predict = F.sigmoid(y_dnn)\n",
    "        \n",
    "        return predict"
   ]
  },
  {
   "cell_type": "code",
   "execution_count": 5,
   "id": "51c32d4a-8b31-41fa-8c53-438011111ab0",
   "metadata": {
    "execution": {
     "iopub.execute_input": "2023-06-22T13:13:21.249430Z",
     "iopub.status.busy": "2023-06-22T13:13:21.249082Z",
     "iopub.status.idle": "2023-06-22T13:13:21.255800Z",
     "shell.execute_reply": "2023-06-22T13:13:21.253852Z",
     "shell.execute_reply.started": "2023-06-22T13:13:21.249402Z"
    },
    "tags": []
   },
   "outputs": [],
   "source": [
    "def get_filepath(dir_path, list_name):\n",
    "    for file in os.listdir(dir_path):\n",
    "        file_path = os.path.join(dir_path, file)\n",
    "        \n",
    "        if os.path.isdir(file_path):\n",
    "            get_filepath(file_path, list_name)\n",
    "        else:\n",
    "            list_name.append(file_path)\n",
    "    \n",
    "    return list_name"
   ]
  },
  {
   "cell_type": "code",
   "execution_count": 6,
   "id": "f0f1f7c0-8d66-439a-bc69-aabcc648bc52",
   "metadata": {
    "execution": {
     "iopub.execute_input": "2023-06-22T13:13:21.258941Z",
     "iopub.status.busy": "2023-06-22T13:13:21.258455Z",
     "iopub.status.idle": "2023-06-22T13:13:21.266054Z",
     "shell.execute_reply": "2023-06-22T13:13:21.264651Z",
     "shell.execute_reply.started": "2023-06-22T13:13:21.258908Z"
    },
    "tags": []
   },
   "outputs": [],
   "source": [
    "def get_file_list(data_path):\n",
    "    assert os.path.exists(data_path)\n",
    "    list_name = []\n",
    "    file_list = get_filepath(data_path, list_name)\n",
    "\n",
    "    print(\"File list: {}\".format(file_list))\n",
    "    \n",
    "    return file_list"
   ]
  },
  {
   "cell_type": "code",
   "execution_count": 7,
   "id": "0149c830-f3a5-4455-b5cd-b9f9d1c18423",
   "metadata": {
    "execution": {
     "iopub.execute_input": "2023-06-22T13:13:21.269860Z",
     "iopub.status.busy": "2023-06-22T13:13:21.268708Z",
     "iopub.status.idle": "2023-06-22T13:13:21.342247Z",
     "shell.execute_reply": "2023-06-22T13:13:21.341129Z",
     "shell.execute_reply.started": "2023-06-22T13:13:21.269804Z"
    },
    "tags": []
   },
   "outputs": [],
   "source": [
    "def get_reader(input_var):\n",
    "    reader_type = \"QueueDataset\"\n",
    "    train_data_path = \"../data/data205411/2023-cvr-contest-data/train_data\"\n",
    "    \n",
    "    assert train_data_path != \"\"\n",
    "\n",
    "    assert reader_type in [\n",
    "        \"QueueDataset\"\n",
    "    ]\n",
    "    \n",
    "    file_list = get_file_list(train_data_path)\n",
    "    print(\"train file_list: {}\".format(file_list))\n",
    "    \n",
    "    reader_instance = Queue(input_var, file_list)\n",
    "    return reader_instance.get_reader(), file_list"
   ]
  },
  {
   "cell_type": "code",
   "execution_count": 8,
   "id": "68e35ee1-c69d-4125-a93f-545d38784e75",
   "metadata": {
    "execution": {
     "iopub.execute_input": "2023-06-22T13:13:21.344050Z",
     "iopub.status.busy": "2023-06-22T13:13:21.343624Z",
     "iopub.status.idle": "2023-06-22T13:13:21.356203Z",
     "shell.execute_reply": "2023-06-22T13:13:21.354925Z",
     "shell.execute_reply.started": "2023-06-22T13:13:21.344022Z"
    },
    "tags": []
   },
   "outputs": [],
   "source": [
    "class Queue:\n",
    "    def __init__(self, input_var, file_list):\n",
    "        assert isinstance(input_var, list)\n",
    "        assert len(file_list) > 0\n",
    "\n",
    "        self.input_var = input_var\n",
    "        self.file_list = file_list\n",
    "\n",
    "        self.pipe_command = \"python3 queuedataset_reader.py\"\n",
    "        self.train_reader = \"criteo_reader\"\n",
    "        \n",
    "        assert self.pipe_command != None\n",
    "                        \n",
    "        print(\"pipe_command is: {}\".format(self.pipe_command))\n",
    "        \n",
    "        self.batch_size = 128\n",
    "        assert self.batch_size >= 1\n",
    "        \n",
    "        self.thread_num = 1\n",
    "        print(\"dataset init thread_num:\", self.thread_num)\n",
    "        assert self.thread_num >= 1\n",
    "\n",
    "    def get_reader(self):\n",
    "        print(\"Get Train Dataset\")\n",
    "        dataset = paddle.distributed.QueueDataset()\n",
    "        dataset.init(\n",
    "            use_var=self.input_var,\n",
    "            pipe_command=self.pipe_command,\n",
    "            batch_size=self.batch_size,\n",
    "            thread_num=self.thread_num\n",
    "        )\n",
    "        print(\"dataset get_reader thread_num:\", self.thread_num)\n",
    "        dataset.set_filelist(self.file_list)\n",
    "        return dataset\n",
    "\n",
    "    def get_infer_reader(self):\n",
    "        print(\"Get Infer Dataset\")\n",
    "        dataset = paddle.distributed.QueueDataset()\n",
    "        self.infer_batch_size = 128\n",
    "        self.infer_thread_num = self.thread_num\n",
    "        dataset.init(\n",
    "            use_var=self.input_var,\n",
    "            pipe_command=self.pipe_command,\n",
    "            batch_size=self.infer_batch_size,\n",
    "            thread_num=self.infer_thread_num\n",
    "        )\n",
    "        print(\"dataset get_infer_reader thread_num:\", self.infer_thread_num)\n",
    "        dataset.set_filelist(self.file_list)\n",
    "        return dataset"
   ]
  },
  {
   "cell_type": "code",
   "execution_count": 9,
   "id": "1ccd597d-f4d2-4ff2-8bbc-40f963ce4104",
   "metadata": {
    "execution": {
     "iopub.execute_input": "2023-06-22T13:13:21.359140Z",
     "iopub.status.busy": "2023-06-22T13:13:21.358599Z",
     "iopub.status.idle": "2023-06-22T13:13:21.366121Z",
     "shell.execute_reply": "2023-06-22T13:13:21.365049Z",
     "shell.execute_reply.started": "2023-06-22T13:13:21.359110Z"
    },
    "tags": []
   },
   "outputs": [],
   "source": [
    "def dataset_train(epoch_id, dataset, fetch_vars, exe):\n",
    "    fetch_info = [\n",
    "        \"Epoch {} Var {}\".format(epoch_id, var_name) for var_name in fetch_vars\n",
    "    ]\n",
    "    \n",
    "    fetch_vars = [var for _, var in fetch_vars.items()]\n",
    "    print_interval = 50\n",
    "    \n",
    "    exe.train_from_dataset(\n",
    "        program=paddle.static.default_main_program(),\n",
    "        dataset=dataset,\n",
    "        fetch_list=fetch_vars,\n",
    "        fetch_info=fetch_info,\n",
    "        print_period=print_interval,\n",
    "        debug=False\n",
    "    )"
   ]
  },
  {
   "cell_type": "code",
   "execution_count": null,
   "id": "955ea1de-c0dc-4bb3-b8c9-3a9d0cbd435f",
   "metadata": {},
   "outputs": [],
   "source": []
  },
  {
   "cell_type": "code",
   "execution_count": 10,
   "id": "a8e276d2-79df-4103-81a0-b5d99de7615c",
   "metadata": {
    "execution": {
     "iopub.execute_input": "2023-06-22T13:13:21.367753Z",
     "iopub.status.busy": "2023-06-22T13:13:21.367365Z",
     "iopub.status.idle": "2023-06-22T13:13:21.372015Z",
     "shell.execute_reply": "2023-06-22T13:13:21.371081Z",
     "shell.execute_reply.started": "2023-06-22T13:13:21.367724Z"
    },
    "tags": []
   },
   "outputs": [],
   "source": [
    "static_model_class = StaticModel()"
   ]
  },
  {
   "cell_type": "code",
   "execution_count": 11,
   "id": "c32ccad3-7cb4-4ee8-ab37-1734024fd1fb",
   "metadata": {
    "execution": {
     "iopub.execute_input": "2023-06-22T13:13:21.373557Z",
     "iopub.status.busy": "2023-06-22T13:13:21.373004Z",
     "iopub.status.idle": "2023-06-22T13:13:21.392978Z",
     "shell.execute_reply": "2023-06-22T13:13:21.391425Z",
     "shell.execute_reply.started": "2023-06-22T13:13:21.373527Z"
    },
    "tags": []
   },
   "outputs": [
    {
     "data": {
      "text/plain": [
       "[var label : LOD_TENSOR.shape(-1, 1).dtype(int64).stop_gradient(True),\n",
       " var C1 : LOD_TENSOR.shape(-1, 1).dtype(int64).stop_gradient(True),\n",
       " var C2 : LOD_TENSOR.shape(-1, 1).dtype(int64).stop_gradient(True),\n",
       " var C3 : LOD_TENSOR.shape(-1, 1).dtype(int64).stop_gradient(True),\n",
       " var C4 : LOD_TENSOR.shape(-1, 1).dtype(int64).stop_gradient(True),\n",
       " var C5 : LOD_TENSOR.shape(-1, 1).dtype(int64).stop_gradient(True),\n",
       " var C6 : LOD_TENSOR.shape(-1, 1).dtype(int64).stop_gradient(True),\n",
       " var C7 : LOD_TENSOR.shape(-1, 1).dtype(int64).stop_gradient(True),\n",
       " var C8 : LOD_TENSOR.shape(-1, 1).dtype(int64).stop_gradient(True),\n",
       " var C9 : LOD_TENSOR.shape(-1, 1).dtype(int64).stop_gradient(True),\n",
       " var C10 : LOD_TENSOR.shape(-1, 1).dtype(int64).stop_gradient(True),\n",
       " var C11 : LOD_TENSOR.shape(-1, 1).dtype(int64).stop_gradient(True),\n",
       " var C12 : LOD_TENSOR.shape(-1, 1).dtype(int64).stop_gradient(True),\n",
       " var C13 : LOD_TENSOR.shape(-1, 1).dtype(int64).stop_gradient(True),\n",
       " var C14 : LOD_TENSOR.shape(-1, 1).dtype(int64).stop_gradient(True),\n",
       " var C15 : LOD_TENSOR.shape(-1, 1).dtype(int64).stop_gradient(True),\n",
       " var C16 : LOD_TENSOR.shape(-1, 1).dtype(int64).stop_gradient(True),\n",
       " var C17 : LOD_TENSOR.shape(-1, 1).dtype(int64).stop_gradient(True),\n",
       " var C18 : LOD_TENSOR.shape(-1, 1).dtype(int64).stop_gradient(True),\n",
       " var C19 : LOD_TENSOR.shape(-1, 1).dtype(int64).stop_gradient(True),\n",
       " var C20 : LOD_TENSOR.shape(-1, 1).dtype(int64).stop_gradient(True),\n",
       " var C21 : LOD_TENSOR.shape(-1, 1).dtype(int64).stop_gradient(True),\n",
       " var C22 : LOD_TENSOR.shape(-1, 1).dtype(int64).stop_gradient(True),\n",
       " var C23 : LOD_TENSOR.shape(-1, 1).dtype(int64).stop_gradient(True),\n",
       " var C24 : LOD_TENSOR.shape(-1, 1).dtype(int64).stop_gradient(True),\n",
       " var C25 : LOD_TENSOR.shape(-1, 1).dtype(int64).stop_gradient(True),\n",
       " var C26 : LOD_TENSOR.shape(-1, 1).dtype(int64).stop_gradient(True),\n",
       " var C27 : LOD_TENSOR.shape(-1, 1).dtype(int64).stop_gradient(True)]"
      ]
     },
     "execution_count": 11,
     "metadata": {},
     "output_type": "execute_result"
    }
   ],
   "source": [
    "input_data = static_model_class.create_feeds()\n",
    "input_data"
   ]
  },
  {
   "cell_type": "code",
   "execution_count": 12,
   "id": "e4560e28-e91a-44b5-a48d-8ec1eef93e80",
   "metadata": {
    "execution": {
     "iopub.execute_input": "2023-06-22T13:13:21.395638Z",
     "iopub.status.busy": "2023-06-22T13:13:21.395216Z",
     "iopub.status.idle": "2023-06-22T13:13:21.405315Z",
     "shell.execute_reply": "2023-06-22T13:13:21.404036Z",
     "shell.execute_reply.started": "2023-06-22T13:13:21.395611Z"
    },
    "tags": []
   },
   "outputs": [
    {
     "data": {
      "text/plain": [
       "['label',\n",
       " 'C1',\n",
       " 'C2',\n",
       " 'C3',\n",
       " 'C4',\n",
       " 'C5',\n",
       " 'C6',\n",
       " 'C7',\n",
       " 'C8',\n",
       " 'C9',\n",
       " 'C10',\n",
       " 'C11',\n",
       " 'C12',\n",
       " 'C13',\n",
       " 'C14',\n",
       " 'C15',\n",
       " 'C16',\n",
       " 'C17',\n",
       " 'C18',\n",
       " 'C19',\n",
       " 'C20',\n",
       " 'C21',\n",
       " 'C22',\n",
       " 'C23',\n",
       " 'C24',\n",
       " 'C25',\n",
       " 'C26',\n",
       " 'C27']"
      ]
     },
     "execution_count": 12,
     "metadata": {},
     "output_type": "execute_result"
    }
   ],
   "source": [
    "input_data_names = [data.name for data in input_data]\n",
    "input_data_names"
   ]
  },
  {
   "cell_type": "code",
   "execution_count": 13,
   "id": "bf7359a8-2b53-491b-b618-ca817cc052dc",
   "metadata": {
    "execution": {
     "iopub.execute_input": "2023-06-22T13:13:21.407969Z",
     "iopub.status.busy": "2023-06-22T13:13:21.407473Z",
     "iopub.status.idle": "2023-06-22T13:13:21.548039Z",
     "shell.execute_reply": "2023-06-22T13:13:21.547195Z",
     "shell.execute_reply.started": "2023-06-22T13:13:21.407938Z"
    },
    "tags": []
   },
   "outputs": [],
   "source": [
    "fetch_vars = static_model_class.net(input_data)"
   ]
  },
  {
   "cell_type": "code",
   "execution_count": 14,
   "id": "5bed1211-56b6-4c66-9403-1ab8fc25155d",
   "metadata": {
    "execution": {
     "iopub.execute_input": "2023-06-22T13:13:21.554208Z",
     "iopub.status.busy": "2023-06-22T13:13:21.553885Z",
     "iopub.status.idle": "2023-06-22T13:13:21.559535Z",
     "shell.execute_reply": "2023-06-22T13:13:21.558649Z",
     "shell.execute_reply.started": "2023-06-22T13:13:21.554184Z"
    },
    "tags": []
   },
   "outputs": [
    {
     "data": {
      "text/plain": [
       "{'cost': var mean_0.tmp_0 : LOD_TENSOR.shape(1,).dtype(float32).stop_gradient(False),\n",
       " 'auc': var auc_0.tmp_0 : LOD_TENSOR.shape(1,).dtype(int64).stop_gradient(False)}"
      ]
     },
     "execution_count": 14,
     "metadata": {},
     "output_type": "execute_result"
    }
   ],
   "source": [
    "fetch_vars"
   ]
  },
  {
   "cell_type": "code",
   "execution_count": null,
   "id": "5794e96a-1b07-45ad-a59a-e0945ad648b1",
   "metadata": {},
   "outputs": [],
   "source": []
  },
  {
   "cell_type": "code",
   "execution_count": 15,
   "id": "3f9b3324-bf26-438d-807c-0ef86cf3d01f",
   "metadata": {
    "execution": {
     "iopub.execute_input": "2023-06-22T13:13:21.561091Z",
     "iopub.status.busy": "2023-06-22T13:13:21.560753Z",
     "iopub.status.idle": "2023-06-22T13:13:21.565821Z",
     "shell.execute_reply": "2023-06-22T13:13:21.564827Z",
     "shell.execute_reply.started": "2023-06-22T13:13:21.561069Z"
    },
    "tags": []
   },
   "outputs": [],
   "source": [
    "place = paddle.set_device(\"cpu\")"
   ]
  },
  {
   "cell_type": "code",
   "execution_count": 16,
   "id": "46286ab4-e0ea-4cd9-a7e4-458a05a7e74d",
   "metadata": {
    "execution": {
     "iopub.execute_input": "2023-06-22T13:13:21.568283Z",
     "iopub.status.busy": "2023-06-22T13:13:21.567659Z",
     "iopub.status.idle": "2023-06-22T13:13:21.652680Z",
     "shell.execute_reply": "2023-06-22T13:13:21.650873Z",
     "shell.execute_reply.started": "2023-06-22T13:13:21.568253Z"
    },
    "tags": []
   },
   "outputs": [],
   "source": [
    "static_model_class.create_optimizer()"
   ]
  },
  {
   "cell_type": "code",
   "execution_count": 17,
   "id": "e2c6cdac-b55b-4326-8b5e-26bbbc337a08",
   "metadata": {
    "execution": {
     "iopub.execute_input": "2023-06-22T13:13:21.654813Z",
     "iopub.status.busy": "2023-06-22T13:13:21.654386Z",
     "iopub.status.idle": "2023-06-22T13:13:21.660195Z",
     "shell.execute_reply": "2023-06-22T13:13:21.658949Z",
     "shell.execute_reply.started": "2023-06-22T13:13:21.654786Z"
    },
    "tags": []
   },
   "outputs": [],
   "source": [
    "exe = paddle.static.Executor(place)"
   ]
  },
  {
   "cell_type": "code",
   "execution_count": 18,
   "id": "35c5f0d5-8481-4ca5-b2e6-66a941e86431",
   "metadata": {
    "execution": {
     "iopub.execute_input": "2023-06-22T13:13:21.663291Z",
     "iopub.status.busy": "2023-06-22T13:13:21.662631Z",
     "iopub.status.idle": "2023-06-22T13:13:34.782059Z",
     "shell.execute_reply": "2023-06-22T13:13:34.780476Z",
     "shell.execute_reply.started": "2023-06-22T13:13:21.663258Z"
    },
    "tags": []
   },
   "outputs": [
    {
     "data": {
      "text/plain": [
       "[]"
      ]
     },
     "execution_count": 18,
     "metadata": {},
     "output_type": "execute_result"
    }
   ],
   "source": [
    "exe.run(paddle.static.default_startup_program())"
   ]
  },
  {
   "cell_type": "code",
   "execution_count": null,
   "id": "963da6da-c07b-411f-91df-2061c4523f95",
   "metadata": {},
   "outputs": [],
   "source": []
  },
  {
   "cell_type": "code",
   "execution_count": 19,
   "id": "d3b71f46-e557-4726-9cd6-0d2b91fed043",
   "metadata": {
    "execution": {
     "iopub.execute_input": "2023-06-22T13:13:34.784499Z",
     "iopub.status.busy": "2023-06-22T13:13:34.784145Z",
     "iopub.status.idle": "2023-06-22T13:13:34.791804Z",
     "shell.execute_reply": "2023-06-22T13:13:34.790627Z",
     "shell.execute_reply.started": "2023-06-22T13:13:34.784460Z"
    },
    "tags": []
   },
   "outputs": [],
   "source": [
    "last_epoch_id = -1\n",
    "step_num = 0"
   ]
  },
  {
   "cell_type": "code",
   "execution_count": null,
   "id": "af9972fe-ac2f-4f24-9237-a3dc152c1f7a",
   "metadata": {},
   "outputs": [],
   "source": []
  },
  {
   "cell_type": "code",
   "execution_count": 20,
   "id": "49ed65de-92d2-4572-9194-d47821940ce4",
   "metadata": {
    "execution": {
     "iopub.execute_input": "2023-06-22T13:13:34.793648Z",
     "iopub.status.busy": "2023-06-22T13:13:34.793254Z",
     "iopub.status.idle": "2023-06-22T13:13:34.810973Z",
     "shell.execute_reply": "2023-06-22T13:13:34.809488Z",
     "shell.execute_reply.started": "2023-06-22T13:13:34.793621Z"
    },
    "tags": []
   },
   "outputs": [
    {
     "name": "stdout",
     "output_type": "stream",
     "text": [
      "File list: ['../data/data205411/2023-cvr-contest-data/train_data/file_27.txt', '../data/data205411/2023-cvr-contest-data/train_data/file_26.txt', '../data/data205411/2023-cvr-contest-data/train_data/file_18.txt', '../data/data205411/2023-cvr-contest-data/train_data/file_24.txt', '../data/data205411/2023-cvr-contest-data/train_data/file_30.txt', '../data/data205411/2023-cvr-contest-data/train_data/file_25.txt', '../data/data205411/2023-cvr-contest-data/train_data/file_19.txt', '../data/data205411/2023-cvr-contest-data/train_data/file_21.txt', '../data/data205411/2023-cvr-contest-data/train_data/file_09.txt', '../data/data205411/2023-cvr-contest-data/train_data/file_08.txt', '../data/data205411/2023-cvr-contest-data/train_data/file_20.txt', '../data/data205411/2023-cvr-contest-data/train_data/file_22.txt', '../data/data205411/2023-cvr-contest-data/train_data/file_23.txt', '../data/data205411/2023-cvr-contest-data/train_data/file_12.txt', '../data/data205411/2023-cvr-contest-data/train_data/file_06.txt', '../data/data205411/2023-cvr-contest-data/train_data/file_07.txt', '../data/data205411/2023-cvr-contest-data/train_data/file_13.txt', '../data/data205411/2023-cvr-contest-data/train_data/file_05.txt', '../data/data205411/2023-cvr-contest-data/train_data/file_11.txt', '../data/data205411/2023-cvr-contest-data/train_data/file_10.txt', '../data/data205411/2023-cvr-contest-data/train_data/file_04.txt', '../data/data205411/2023-cvr-contest-data/train_data/file_14.txt', '../data/data205411/2023-cvr-contest-data/train_data/file_28.txt', '../data/data205411/2023-cvr-contest-data/train_data/file_29.txt', '../data/data205411/2023-cvr-contest-data/train_data/file_15.txt', '../data/data205411/2023-cvr-contest-data/train_data/file_01.txt', '../data/data205411/2023-cvr-contest-data/train_data/file_17.txt', '../data/data205411/2023-cvr-contest-data/train_data/file_03.txt', '../data/data205411/2023-cvr-contest-data/train_data/file_02.txt', '../data/data205411/2023-cvr-contest-data/train_data/file_16.txt']\n",
      "train file_list: ['../data/data205411/2023-cvr-contest-data/train_data/file_27.txt', '../data/data205411/2023-cvr-contest-data/train_data/file_26.txt', '../data/data205411/2023-cvr-contest-data/train_data/file_18.txt', '../data/data205411/2023-cvr-contest-data/train_data/file_24.txt', '../data/data205411/2023-cvr-contest-data/train_data/file_30.txt', '../data/data205411/2023-cvr-contest-data/train_data/file_25.txt', '../data/data205411/2023-cvr-contest-data/train_data/file_19.txt', '../data/data205411/2023-cvr-contest-data/train_data/file_21.txt', '../data/data205411/2023-cvr-contest-data/train_data/file_09.txt', '../data/data205411/2023-cvr-contest-data/train_data/file_08.txt', '../data/data205411/2023-cvr-contest-data/train_data/file_20.txt', '../data/data205411/2023-cvr-contest-data/train_data/file_22.txt', '../data/data205411/2023-cvr-contest-data/train_data/file_23.txt', '../data/data205411/2023-cvr-contest-data/train_data/file_12.txt', '../data/data205411/2023-cvr-contest-data/train_data/file_06.txt', '../data/data205411/2023-cvr-contest-data/train_data/file_07.txt', '../data/data205411/2023-cvr-contest-data/train_data/file_13.txt', '../data/data205411/2023-cvr-contest-data/train_data/file_05.txt', '../data/data205411/2023-cvr-contest-data/train_data/file_11.txt', '../data/data205411/2023-cvr-contest-data/train_data/file_10.txt', '../data/data205411/2023-cvr-contest-data/train_data/file_04.txt', '../data/data205411/2023-cvr-contest-data/train_data/file_14.txt', '../data/data205411/2023-cvr-contest-data/train_data/file_28.txt', '../data/data205411/2023-cvr-contest-data/train_data/file_29.txt', '../data/data205411/2023-cvr-contest-data/train_data/file_15.txt', '../data/data205411/2023-cvr-contest-data/train_data/file_01.txt', '../data/data205411/2023-cvr-contest-data/train_data/file_17.txt', '../data/data205411/2023-cvr-contest-data/train_data/file_03.txt', '../data/data205411/2023-cvr-contest-data/train_data/file_02.txt', '../data/data205411/2023-cvr-contest-data/train_data/file_16.txt']\n",
      "pipe_command is: python3 queuedataset_reader.py\n",
      "dataset init thread_num: 1\n",
      "Get Train Dataset\n",
      "dataset get_reader thread_num: 1\n"
     ]
    }
   ],
   "source": [
    "dataset, file_list = get_reader(input_data)"
   ]
  },
  {
   "cell_type": "code",
   "execution_count": null,
   "id": "19fb32ec-bef6-4e36-a184-e8a8889b0d7d",
   "metadata": {},
   "outputs": [],
   "source": []
  },
  {
   "cell_type": "code",
   "execution_count": 21,
   "id": "53d46076-2dbb-435d-a733-9f6e4ed5fd56",
   "metadata": {
    "execution": {
     "iopub.execute_input": "2023-06-22T13:11:54.899108Z",
     "iopub.status.busy": "2023-06-22T13:11:54.898725Z",
     "iopub.status.idle": "2023-06-22T13:11:54.953757Z",
     "shell.execute_reply": "2023-06-22T13:11:54.952750Z",
     "shell.execute_reply.started": "2023-06-22T13:11:54.899079Z"
    },
    "tags": []
   },
   "outputs": [
    {
     "name": "stdout",
     "output_type": "stream",
     "text": [
      "device worker program id: 4875610480\n"
     ]
    }
   ],
   "source": [
    "for epoch_id in range(last_epoch_id + 1, 1):\n",
    "    fetch_batch_var = dataset_train(epoch_id, dataset, fetch_vars, exe)"
   ]
  },
  {
   "cell_type": "code",
   "execution_count": 22,
   "id": "106cd05c-08b2-451c-86c2-dd2e7ca23824",
   "metadata": {
    "execution": {
     "iopub.execute_input": "2023-06-22T13:12:33.519439Z",
     "iopub.status.busy": "2023-06-22T13:12:33.519077Z",
     "iopub.status.idle": "2023-06-22T13:12:33.529426Z",
     "shell.execute_reply": "2023-06-22T13:12:33.528622Z",
     "shell.execute_reply.started": "2023-06-22T13:12:33.519394Z"
    },
    "tags": []
   },
   "outputs": [],
   "source": [
    "fetch_batch_var"
   ]
  },
  {
   "cell_type": "code",
   "execution_count": null,
   "id": "43e4ba44-7100-427f-8816-5ae703c94b4e",
   "metadata": {},
   "outputs": [],
   "source": []
  },
  {
   "cell_type": "code",
   "execution_count": null,
   "id": "01a14759-c34a-4e6d-bdc7-987291417ff0",
   "metadata": {},
   "outputs": [],
   "source": []
  },
  {
   "cell_type": "code",
   "execution_count": 17,
   "id": "404ebaef-e974-4eea-8feb-a6dc629efe8c",
   "metadata": {
    "execution": {
     "iopub.execute_input": "2023-06-23T12:27:38.440893Z",
     "iopub.status.busy": "2023-06-23T12:27:38.440287Z",
     "iopub.status.idle": "2023-06-23T12:27:38.462177Z",
     "shell.execute_reply": "2023-06-23T12:27:38.460971Z",
     "shell.execute_reply.started": "2023-06-23T12:27:38.440864Z"
    },
    "tags": []
   },
   "outputs": [],
   "source": [
    "x = paddle.to_tensor([[1, 2, 3], [4, 5, 6]], dtype=\"float32\")"
   ]
  },
  {
   "cell_type": "code",
   "execution_count": 18,
   "id": "bfc81972-3f26-4e8a-9123-3c571faa81f7",
   "metadata": {
    "execution": {
     "iopub.execute_input": "2023-06-23T12:27:38.762184Z",
     "iopub.status.busy": "2023-06-23T12:27:38.761831Z",
     "iopub.status.idle": "2023-06-23T12:27:38.766069Z",
     "shell.execute_reply": "2023-06-23T12:27:38.765225Z",
     "shell.execute_reply.started": "2023-06-23T12:27:38.762157Z"
    },
    "tags": []
   },
   "outputs": [],
   "source": [
    "x0 = x.unsqueeze(-1)"
   ]
  },
  {
   "cell_type": "code",
   "execution_count": 19,
   "id": "0a2c2bad-6f7c-4d46-8ded-752920c14eef",
   "metadata": {
    "execution": {
     "iopub.execute_input": "2023-06-23T12:27:39.021580Z",
     "iopub.status.busy": "2023-06-23T12:27:39.021217Z",
     "iopub.status.idle": "2023-06-23T12:27:39.027905Z",
     "shell.execute_reply": "2023-06-23T12:27:39.026946Z",
     "shell.execute_reply.started": "2023-06-23T12:27:39.021551Z"
    },
    "tags": []
   },
   "outputs": [
    {
     "data": {
      "text/plain": [
       "Tensor(shape=[2, 3, 1], dtype=float32, place=Place(cpu), stop_gradient=True,\n",
       "       [[[1.],\n",
       "         [2.],\n",
       "         [3.]],\n",
       "\n",
       "        [[4.],\n",
       "         [5.],\n",
       "         [6.]]])"
      ]
     },
     "execution_count": 19,
     "metadata": {},
     "output_type": "execute_result"
    }
   ],
   "source": [
    "xl = x0\n",
    "xl"
   ]
  },
  {
   "cell_type": "code",
   "execution_count": 20,
   "id": "6ab6058a-8c78-45b5-b518-baeed3599d73",
   "metadata": {
    "execution": {
     "iopub.execute_input": "2023-06-23T12:27:41.364064Z",
     "iopub.status.busy": "2023-06-23T12:27:41.363513Z",
     "iopub.status.idle": "2023-06-23T12:27:41.374819Z",
     "shell.execute_reply": "2023-06-23T12:27:41.373958Z",
     "shell.execute_reply.started": "2023-06-23T12:27:41.364031Z"
    },
    "tags": []
   },
   "outputs": [
    {
     "data": {
      "text/plain": [
       "Tensor(shape=[2, 1, 3], dtype=float32, place=Place(cpu), stop_gradient=True,\n",
       "       [[[1., 2., 3.]],\n",
       "\n",
       "        [[4., 5., 6.]]])"
      ]
     },
     "execution_count": 20,
     "metadata": {},
     "output_type": "execute_result"
    }
   ],
   "source": [
    "xl_T = paddle.transpose(xl, perm=(0, 2, 1))\n",
    "xl_T"
   ]
  },
  {
   "cell_type": "code",
   "execution_count": 21,
   "id": "940f22f1-2f1f-4de7-987e-09763ba81fa3",
   "metadata": {
    "execution": {
     "iopub.execute_input": "2023-06-23T12:27:42.794979Z",
     "iopub.status.busy": "2023-06-23T12:27:42.794373Z",
     "iopub.status.idle": "2023-06-23T12:27:42.799396Z",
     "shell.execute_reply": "2023-06-23T12:27:42.798558Z",
     "shell.execute_reply.started": "2023-06-23T12:27:42.794952Z"
    },
    "tags": []
   },
   "outputs": [],
   "source": [
    "cross_network = paddle.nn.Linear(\n",
    "    in_features=3, out_features=1\n",
    ")"
   ]
  },
  {
   "cell_type": "code",
   "execution_count": null,
   "id": "f6aaae54-8fce-491d-ae13-998e54b461ec",
   "metadata": {},
   "outputs": [],
   "source": []
  },
  {
   "cell_type": "code",
   "execution_count": 24,
   "id": "afc86ce5-a3b4-4a0a-b115-463f07a061c9",
   "metadata": {
    "execution": {
     "iopub.execute_input": "2023-06-23T12:27:45.121921Z",
     "iopub.status.busy": "2023-06-23T12:27:45.121474Z",
     "iopub.status.idle": "2023-06-23T12:27:45.128893Z",
     "shell.execute_reply": "2023-06-23T12:27:45.128107Z",
     "shell.execute_reply.started": "2023-06-23T12:27:45.121892Z"
    },
    "tags": []
   },
   "outputs": [
    {
     "data": {
      "text/plain": [
       "Tensor(shape=[2, 3, 3], dtype=float32, place=Place(cpu), stop_gradient=True,\n",
       "       [[[1. , 2. , 3. ],\n",
       "         [2. , 4. , 6. ],\n",
       "         [3. , 6. , 9. ]],\n",
       "\n",
       "        [[16., 20., 24.],\n",
       "         [20., 25., 30.],\n",
       "         [24., 30., 36.]]])"
      ]
     },
     "execution_count": 24,
     "metadata": {},
     "output_type": "execute_result"
    }
   ],
   "source": [
    "paddle.matmul(x0, xl_T)"
   ]
  },
  {
   "cell_type": "code",
   "execution_count": 27,
   "id": "670aaebf-07bc-4411-a430-d5421119e71b",
   "metadata": {
    "execution": {
     "iopub.execute_input": "2023-06-23T12:28:31.802084Z",
     "iopub.status.busy": "2023-06-23T12:28:31.801448Z",
     "iopub.status.idle": "2023-06-23T12:28:31.811627Z",
     "shell.execute_reply": "2023-06-23T12:28:31.810777Z",
     "shell.execute_reply.started": "2023-06-23T12:28:31.802055Z"
    },
    "tags": []
   },
   "outputs": [
    {
     "data": {
      "text/plain": [
       "Tensor(shape=[2, 3], dtype=float32, place=Place(cpu), stop_gradient=False,\n",
       "       [[2.77003670 , 5.54007339 , 8.31011009 ],\n",
       "        [27.47306442, 34.34133148, 41.20959473]])"
      ]
     },
     "execution_count": 27,
     "metadata": {},
     "output_type": "execute_result"
    }
   ],
   "source": [
    "(cross_network(paddle.matmul(x0, xl_T)) + xl).squeeze(-1)"
   ]
  },
  {
   "cell_type": "code",
   "execution_count": null,
   "id": "56b7e36a-bf43-46e9-97a0-11af5258b07c",
   "metadata": {},
   "outputs": [],
   "source": []
  },
  {
   "cell_type": "code",
   "execution_count": 46,
   "id": "0e4189ab-be8a-4e64-a6aa-ab450cd8c567",
   "metadata": {
    "execution": {
     "iopub.execute_input": "2023-06-23T13:08:47.053323Z",
     "iopub.status.busy": "2023-06-23T13:08:47.052967Z",
     "iopub.status.idle": "2023-06-23T13:08:47.060694Z",
     "shell.execute_reply": "2023-06-23T13:08:47.059103Z",
     "shell.execute_reply.started": "2023-06-23T13:08:47.053294Z"
    },
    "tags": []
   },
   "outputs": [
    {
     "data": {
      "text/plain": [
       "Parameter containing:\n",
       "Tensor(shape=[1, 1], dtype=float32, place=Place(cpu), stop_gradient=False,\n",
       "       [[-0.15144837]])"
      ]
     },
     "execution_count": 46,
     "metadata": {},
     "output_type": "execute_result"
    }
   ],
   "source": [
    "w0 = paddle.create_parameter(shape=[1,1], dtype=\"float32\")\n",
    "w0"
   ]
  },
  {
   "cell_type": "code",
   "execution_count": 39,
   "id": "54ab7782-c0ec-4bf7-aa8b-595e17f56426",
   "metadata": {
    "execution": {
     "iopub.execute_input": "2023-06-23T13:07:09.074821Z",
     "iopub.status.busy": "2023-06-23T13:07:09.074169Z",
     "iopub.status.idle": "2023-06-23T13:07:09.082869Z",
     "shell.execute_reply": "2023-06-23T13:07:09.081908Z",
     "shell.execute_reply.started": "2023-06-23T13:07:09.074788Z"
    },
    "tags": []
   },
   "outputs": [
    {
     "data": {
      "text/plain": [
       "Tensor(shape=[2, 1], dtype=float32, place=Place(cpu), stop_gradient=False,\n",
       "       [[-0.82814622],\n",
       "        [-0.82814622]])"
      ]
     },
     "execution_count": 39,
     "metadata": {},
     "output_type": "execute_result"
    }
   ],
   "source": [
    "w0.expand(shape=(2, 1))"
   ]
  },
  {
   "cell_type": "code",
   "execution_count": 40,
   "id": "ef613a2e-6f6f-440f-a975-755aa9ec6d1e",
   "metadata": {
    "execution": {
     "iopub.execute_input": "2023-06-23T13:07:09.635093Z",
     "iopub.status.busy": "2023-06-23T13:07:09.634747Z",
     "iopub.status.idle": "2023-06-23T13:07:09.642295Z",
     "shell.execute_reply": "2023-06-23T13:07:09.641296Z",
     "shell.execute_reply.started": "2023-06-23T13:07:09.635066Z"
    },
    "tags": []
   },
   "outputs": [
    {
     "data": {
      "text/plain": [
       "Tensor(shape=[2, 3], dtype=float32, place=Place(cpu), stop_gradient=True,\n",
       "       [[1., 2., 3.],\n",
       "        [4., 5., 6.]])"
      ]
     },
     "execution_count": 40,
     "metadata": {},
     "output_type": "execute_result"
    }
   ],
   "source": [
    "x"
   ]
  },
  {
   "cell_type": "code",
   "execution_count": 45,
   "id": "21abc51a-3bb3-4ff7-ab5a-84415208eeab",
   "metadata": {
    "execution": {
     "iopub.execute_input": "2023-06-23T13:07:42.989367Z",
     "iopub.status.busy": "2023-06-23T13:07:42.988993Z",
     "iopub.status.idle": "2023-06-23T13:07:42.998621Z",
     "shell.execute_reply": "2023-06-23T13:07:42.997860Z",
     "shell.execute_reply.started": "2023-06-23T13:07:42.989338Z"
    },
    "tags": []
   },
   "outputs": [
    {
     "data": {
      "text/plain": [
       "Tensor(shape=[2, 4], dtype=float32, place=Place(cpu), stop_gradient=False,\n",
       "       [[-0.82814622,  1.        ,  2.        ,  3.        ],\n",
       "        [-0.82814622,  4.        ,  5.        ,  6.        ]])"
      ]
     },
     "execution_count": 45,
     "metadata": {},
     "output_type": "execute_result"
    }
   ],
   "source": [
    "paddle.concat([w0.expand(shape=(2, 1)), x], axis=-1)"
   ]
  },
  {
   "cell_type": "code",
   "execution_count": null,
   "id": "ffb7920b-7a9e-4d6f-85e5-04fa5999389b",
   "metadata": {},
   "outputs": [],
   "source": []
  },
  {
   "cell_type": "code",
   "execution_count": 18,
   "id": "1683b274-bfe2-4aef-a0ea-5d16b190b286",
   "metadata": {
    "execution": {
     "iopub.execute_input": "2023-06-23T14:16:53.407563Z",
     "iopub.status.busy": "2023-06-23T14:16:53.406867Z",
     "iopub.status.idle": "2023-06-23T14:16:53.414161Z",
     "shell.execute_reply": "2023-06-23T14:16:53.413194Z",
     "shell.execute_reply.started": "2023-06-23T14:16:53.407533Z"
    },
    "scrolled": true,
    "tags": []
   },
   "outputs": [
    {
     "data": {
      "text/plain": [
       "Tensor(shape=[3, 15], dtype=float32, place=Place(cpu), stop_gradient=True,\n",
       "       [[0.64861107, 0.33811730, 0.66795737, 0.55047876, 0.53967911, 0.96403658,\n",
       "         0.40827477, 0.38332576, 0.45271787, 0.89102578, 0.22485089, 0.32955831,\n",
       "         0.11219117, 0.54765588, 0.51901442],\n",
       "        [0.67763549, 0.22279523, 0.23241772, 0.32972619, 0.25060549, 0.24740583,\n",
       "         0.30024922, 0.39849868, 0.81412715, 0.31648001, 0.45057923, 0.28084281,\n",
       "         0.50915974, 0.77315301, 0.97476274],\n",
       "        [0.89788783, 0.50603282, 0.61585224, 0.04976138, 0.14215194, 0.92916489,\n",
       "         0.93003160, 0.64014935, 0.73386419, 0.85679454, 0.07925825, 0.06251020,\n",
       "         0.62031645, 0.18634364, 0.09363453]])"
      ]
     },
     "execution_count": 18,
     "metadata": {},
     "output_type": "execute_result"
    }
   ],
   "source": [
    "x = paddle.rand(shape=[3, 5*3])\n",
    "x"
   ]
  },
  {
   "cell_type": "code",
   "execution_count": 20,
   "id": "6c768053-a302-4fde-aefc-bfd12ce25bef",
   "metadata": {
    "execution": {
     "iopub.execute_input": "2023-06-23T14:17:26.877551Z",
     "iopub.status.busy": "2023-06-23T14:17:26.877176Z",
     "iopub.status.idle": "2023-06-23T14:17:26.886024Z",
     "shell.execute_reply": "2023-06-23T14:17:26.885165Z",
     "shell.execute_reply.started": "2023-06-23T14:17:26.877522Z"
    },
    "tags": []
   },
   "outputs": [
    {
     "data": {
      "text/plain": [
       "Tensor(shape=[3, 3, 5], dtype=float32, place=Place(cpu), stop_gradient=True,\n",
       "       [[[0.64861107, 0.55047876, 0.40827477, 0.89102578, 0.11219117],\n",
       "         [0.33811730, 0.53967911, 0.38332576, 0.22485089, 0.54765588],\n",
       "         [0.66795737, 0.96403658, 0.45271787, 0.32955831, 0.51901442]],\n",
       "\n",
       "        [[0.67763549, 0.32972619, 0.30024922, 0.31648001, 0.50915974],\n",
       "         [0.22279523, 0.25060549, 0.39849868, 0.45057923, 0.77315301],\n",
       "         [0.23241772, 0.24740583, 0.81412715, 0.28084281, 0.97476274]],\n",
       "\n",
       "        [[0.89788783, 0.04976138, 0.93003160, 0.85679454, 0.62031645],\n",
       "         [0.50603282, 0.14215194, 0.64014935, 0.07925825, 0.18634364],\n",
       "         [0.61585224, 0.92916489, 0.73386419, 0.06251020, 0.09363453]]])"
      ]
     },
     "execution_count": 20,
     "metadata": {},
     "output_type": "execute_result"
    }
   ],
   "source": [
    "# field=5, embedding_dim=3\n",
    "f = x.reshape(shape=[-1, 5, 3]).transpose(perm=(0, 2, 1))\n",
    "f"
   ]
  },
  {
   "cell_type": "code",
   "execution_count": 21,
   "id": "755bce60-ed9b-4819-b225-3c2e64199da6",
   "metadata": {
    "execution": {
     "iopub.execute_input": "2023-06-23T14:17:50.766255Z",
     "iopub.status.busy": "2023-06-23T14:17:50.765630Z",
     "iopub.status.idle": "2023-06-23T14:17:50.773308Z",
     "shell.execute_reply": "2023-06-23T14:17:50.771919Z",
     "shell.execute_reply.started": "2023-06-23T14:17:50.766225Z"
    },
    "tags": []
   },
   "outputs": [
    {
     "data": {
      "text/plain": [
       "Tensor(shape=[3, 5, 3], dtype=float32, place=Place(cpu), stop_gradient=True,\n",
       "       [[[0.64861107, 0.33811730, 0.66795737],\n",
       "         [0.55047876, 0.53967911, 0.96403658],\n",
       "         [0.40827477, 0.38332576, 0.45271787],\n",
       "         [0.89102578, 0.22485089, 0.32955831],\n",
       "         [0.11219117, 0.54765588, 0.51901442]],\n",
       "\n",
       "        [[0.67763549, 0.22279523, 0.23241772],\n",
       "         [0.32972619, 0.25060549, 0.24740583],\n",
       "         [0.30024922, 0.39849868, 0.81412715],\n",
       "         [0.31648001, 0.45057923, 0.28084281],\n",
       "         [0.50915974, 0.77315301, 0.97476274]],\n",
       "\n",
       "        [[0.89788783, 0.50603282, 0.61585224],\n",
       "         [0.04976138, 0.14215194, 0.92916489],\n",
       "         [0.93003160, 0.64014935, 0.73386419],\n",
       "         [0.85679454, 0.07925825, 0.06251020],\n",
       "         [0.62031645, 0.18634364, 0.09363453]]])"
      ]
     },
     "execution_count": 21,
     "metadata": {},
     "output_type": "execute_result"
    }
   ],
   "source": [
    "f_prime = f.transpose(perm=(0, 2, 1))\n",
    "f_prime"
   ]
  },
  {
   "cell_type": "code",
   "execution_count": 23,
   "id": "4c233622-d595-434b-8b83-f18c1037da23",
   "metadata": {
    "execution": {
     "iopub.execute_input": "2023-06-23T14:18:16.461172Z",
     "iopub.status.busy": "2023-06-23T14:18:16.460736Z",
     "iopub.status.idle": "2023-06-23T14:18:16.469044Z",
     "shell.execute_reply": "2023-06-23T14:18:16.468095Z",
     "shell.execute_reply.started": "2023-06-23T14:18:16.461140Z"
    },
    "tags": []
   },
   "outputs": [
    {
     "data": {
      "text/plain": [
       "Tensor(shape=[3, 5, 5], dtype=float32, place=Place(cpu), stop_gradient=True,\n",
       "       [[[0.98118669, 1.18345678, 0.69681686, 0.87408608, 0.60461986],\n",
       "         [1.18345678, 1.52364695, 0.86805606, 0.92954439, 0.85766619],\n",
       "         [0.69681686, 0.86805606, 0.51858038, 0.59917146, 0.49070254],\n",
       "         [0.87408608, 0.92954439, 0.59917146, 0.95309353, 0.39415166],\n",
       "         [0.60461986, 0.85766619, 0.49070254, 0.39415166, 0.58188981]],\n",
       "\n",
       "        [[0.56284559, 0.33676937, 0.48146072, 0.38011783, 0.74383163],\n",
       "         [0.33676937, 0.23273212, 0.40028578, 0.28675154, 0.60280168],\n",
       "         [0.48146072, 0.40028578, 0.91175383, 0.50321984, 1.25455606],\n",
       "         [0.38011783, 0.28675154, 0.50321984, 0.38205391, 0.78326070],\n",
       "         [0.74383163, 0.60280168, 1.25455606, 0.78326070, 1.80717158]],\n",
       "\n",
       "        [[1.44154572, 0.68884194, 1.61095250, 0.84790969, 0.70893562],\n",
       "         [0.68884194, 0.88603073, 0.81915897, 0.11198428, 0.14435883],\n",
       "         [1.61095250, 0.81915897, 1.81330669, 0.89345711, 0.76491672],\n",
       "         [0.84790969, 0.11198428, 0.89345711, 0.74428624, 0.55210614],\n",
       "         [0.70893562, 0.14435883, 0.76491672, 0.55210614, 0.42828387]]])"
      ]
     },
     "execution_count": 23,
     "metadata": {},
     "output_type": "execute_result"
    }
   ],
   "source": [
    "p = paddle.matmul(f_prime, f)\n",
    "p"
   ]
  },
  {
   "cell_type": "code",
   "execution_count": null,
   "id": "71d65501-14f9-4e8c-91e6-2ae67a7ef04f",
   "metadata": {},
   "outputs": [],
   "source": []
  },
  {
   "cell_type": "code",
   "execution_count": 23,
   "id": "f19d7088-9dfd-4d42-aa6b-b3733cb0b439",
   "metadata": {
    "execution": {
     "iopub.execute_input": "2023-06-24T09:10:01.813484Z",
     "iopub.status.busy": "2023-06-24T09:10:01.812872Z",
     "iopub.status.idle": "2023-06-24T09:10:01.823614Z",
     "shell.execute_reply": "2023-06-24T09:10:01.822791Z",
     "shell.execute_reply.started": "2023-06-24T09:10:01.813455Z"
    },
    "tags": []
   },
   "outputs": [],
   "source": [
    "paddle.disable_static()"
   ]
  },
  {
   "cell_type": "code",
   "execution_count": 24,
   "id": "bb470483-5052-4e07-a3c1-7b9dd0637535",
   "metadata": {
    "execution": {
     "iopub.execute_input": "2023-06-24T09:10:01.979707Z",
     "iopub.status.busy": "2023-06-24T09:10:01.979076Z",
     "iopub.status.idle": "2023-06-24T09:10:01.986235Z",
     "shell.execute_reply": "2023-06-24T09:10:01.985201Z",
     "shell.execute_reply.started": "2023-06-24T09:10:01.979681Z"
    },
    "tags": []
   },
   "outputs": [
    {
     "data": {
      "text/plain": [
       "Tensor(shape=[3, 2], dtype=float32, place=Place(cpu), stop_gradient=True,\n",
       "       [[1., 2.],\n",
       "        [3., 3.],\n",
       "        [5., 3.]])"
      ]
     },
     "execution_count": 24,
     "metadata": {},
     "output_type": "execute_result"
    }
   ],
   "source": [
    "a = paddle.to_tensor([[1, 2], [3, 3], [5, 3]], dtype=\"float32\")\n",
    "a"
   ]
  },
  {
   "cell_type": "code",
   "execution_count": 25,
   "id": "3d52fbb2-c712-4890-8ee6-4a8340161b1a",
   "metadata": {
    "execution": {
     "iopub.execute_input": "2023-06-24T09:10:02.710088Z",
     "iopub.status.busy": "2023-06-24T09:10:02.709281Z",
     "iopub.status.idle": "2023-06-24T09:10:02.715935Z",
     "shell.execute_reply": "2023-06-24T09:10:02.715161Z",
     "shell.execute_reply.started": "2023-06-24T09:10:02.710058Z"
    },
    "tags": []
   },
   "outputs": [
    {
     "data": {
      "text/plain": [
       "Tensor(shape=[3, 2], dtype=float32, place=Place(cpu), stop_gradient=True,\n",
       "       [[0.26894143, 0.73105860],\n",
       "        [0.50000000, 0.50000000],\n",
       "        [0.88079703, 0.11920291]])"
      ]
     },
     "execution_count": 25,
     "metadata": {},
     "output_type": "execute_result"
    }
   ],
   "source": [
    "softmax_a = paddle.nn.functional.softmax(a)\n",
    "softmax_a"
   ]
  },
  {
   "cell_type": "code",
   "execution_count": 26,
   "id": "c3dfe25e-5363-415b-bc79-ca4bd68ec448",
   "metadata": {
    "execution": {
     "iopub.execute_input": "2023-06-24T09:10:02.845517Z",
     "iopub.status.busy": "2023-06-24T09:10:02.844887Z",
     "iopub.status.idle": "2023-06-24T09:10:02.851340Z",
     "shell.execute_reply": "2023-06-24T09:10:02.850577Z",
     "shell.execute_reply.started": "2023-06-24T09:10:02.845490Z"
    },
    "tags": []
   },
   "outputs": [
    {
     "data": {
      "text/plain": [
       "Tensor(shape=[3, 1], dtype=float32, place=Place(cpu), stop_gradient=True,\n",
       "       [[0.73105860],\n",
       "        [0.50000000],\n",
       "        [0.11920291]])"
      ]
     },
     "execution_count": 26,
     "metadata": {},
     "output_type": "execute_result"
    }
   ],
   "source": [
    "paddle.slice(softmax_a, axes=[1], starts=[1], ends=[2])"
   ]
  },
  {
   "cell_type": "code",
   "execution_count": 27,
   "id": "4dedc9c3-94ce-4923-bb60-ce61b4f33747",
   "metadata": {
    "execution": {
     "iopub.execute_input": "2023-06-24T09:10:04.248010Z",
     "iopub.status.busy": "2023-06-24T09:10:04.247650Z",
     "iopub.status.idle": "2023-06-24T09:10:04.254970Z",
     "shell.execute_reply": "2023-06-24T09:10:04.253446Z",
     "shell.execute_reply.started": "2023-06-24T09:10:04.247981Z"
    },
    "tags": []
   },
   "outputs": [
    {
     "data": {
      "text/plain": [
       "Tensor(shape=[3, 1], dtype=float32, place=Place(cpu), stop_gradient=True,\n",
       "       [[1.],\n",
       "        [0.],\n",
       "        [0.]])"
      ]
     },
     "execution_count": 27,
     "metadata": {},
     "output_type": "execute_result"
    }
   ],
   "source": [
    "label = paddle.to_tensor([[1], [0], [0]], dtype=\"float32\")\n",
    "label"
   ]
  },
  {
   "cell_type": "code",
   "execution_count": null,
   "id": "d05a48a0-a20a-453a-a71a-dbd41832877d",
   "metadata": {},
   "outputs": [],
   "source": []
  },
  {
   "cell_type": "code",
   "execution_count": null,
   "id": "0a10bb09-7597-4637-8705-03cd2577abf8",
   "metadata": {},
   "outputs": [],
   "source": []
  },
  {
   "cell_type": "code",
   "execution_count": null,
   "id": "cf493ec2-035d-4745-b75a-971e02a43dc4",
   "metadata": {},
   "outputs": [],
   "source": []
  },
  {
   "cell_type": "code",
   "execution_count": null,
   "id": "e2391a43-db1c-493e-9c15-c2acb3124bba",
   "metadata": {},
   "outputs": [],
   "source": []
  }
 ],
 "metadata": {
  "kernelspec": {
   "display_name": "Python 3 (ipykernel)",
   "language": "python",
   "name": "python3"
  },
  "language_info": {
   "codemirror_mode": {
    "name": "ipython",
    "version": 3
   },
   "file_extension": ".py",
   "mimetype": "text/x-python",
   "name": "python",
   "nbconvert_exporter": "python",
   "pygments_lexer": "ipython3",
   "version": "3.8.9"
  }
 },
 "nbformat": 4,
 "nbformat_minor": 5
}
