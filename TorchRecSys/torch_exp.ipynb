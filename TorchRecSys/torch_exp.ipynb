{
 "cells": [
  {
   "cell_type": "code",
   "execution_count": 1,
   "id": "2a4f27a4-de32-454e-bed5-545862cb6b6c",
   "metadata": {
    "execution": {
     "iopub.execute_input": "2023-06-22T02:23:14.253784Z",
     "iopub.status.busy": "2023-06-22T02:23:14.253429Z",
     "iopub.status.idle": "2023-06-22T02:23:17.084506Z",
     "shell.execute_reply": "2023-06-22T02:23:17.083273Z",
     "shell.execute_reply.started": "2023-06-22T02:23:14.253759Z"
    },
    "tags": []
   },
   "outputs": [],
   "source": [
    "import os\n",
    "import datetime\n",
    "import joblib\n",
    "\n",
    "from tqdm import tqdm\n",
    "\n",
    "import numpy as np\n",
    "import pandas as pd\n",
    "\n",
    "import paddle\n",
    "from paddle.io import Dataset, DataLoader"
   ]
  },
  {
   "cell_type": "code",
   "execution_count": null,
   "id": "9b6b21dc-65c6-4b39-8343-57818b789e19",
   "metadata": {},
   "outputs": [],
   "source": []
  },
  {
   "cell_type": "markdown",
   "id": "5c4bc95c-6dcb-4ac1-8abe-41a828009340",
   "metadata": {},
   "source": [
    "# Process training sets"
   ]
  },
  {
   "cell_type": "code",
   "execution_count": 2,
   "id": "17188edd-59ef-4a0a-a187-36c566aeb028",
   "metadata": {
    "execution": {
     "iopub.execute_input": "2023-06-22T02:23:23.127057Z",
     "iopub.status.busy": "2023-06-22T02:23:23.126377Z",
     "iopub.status.idle": "2023-06-22T02:23:23.130785Z",
     "shell.execute_reply": "2023-06-22T02:23:23.129876Z",
     "shell.execute_reply.started": "2023-06-22T02:23:23.127016Z"
    },
    "tags": []
   },
   "outputs": [],
   "source": [
    "clean_train_folder = \"../data/data205411/2023-cvr-contest-data/clean_train\""
   ]
  },
  {
   "cell_type": "code",
   "execution_count": 3,
   "id": "d2acb6db-f6a2-44f9-8b03-e2a23c446867",
   "metadata": {
    "execution": {
     "iopub.execute_input": "2023-06-22T02:23:24.550451Z",
     "iopub.status.busy": "2023-06-22T02:23:24.549797Z",
     "iopub.status.idle": "2023-06-22T02:24:26.634943Z",
     "shell.execute_reply": "2023-06-22T02:24:26.633893Z",
     "shell.execute_reply.started": "2023-06-22T02:23:24.550423Z"
    },
    "tags": []
   },
   "outputs": [
    {
     "name": "stderr",
     "output_type": "stream",
     "text": [
      "100%|█████████████████████████████████████████████████████████████████████████████████████████████████████████████████████████████████████████████████████████████████████████████████████████████████████████| 1/1 [01:02<00:00, 62.06s/it]\n"
     ]
    }
   ],
   "source": [
    "train_file_ls = os.listdir(clean_train_folder)\n",
    "train_file_ls = [_file for _file in train_file_ls if not _file.startswith(\"train\")]\n",
    "\n",
    "train_df_ls = []\n",
    "\n",
    "for _file in tqdm(train_file_ls[:1]):\n",
    "    curr_train = joblib.load(os.path.join(clean_train_folder, _file))\n",
    "    train_df_ls.append(curr_train)"
   ]
  },
  {
   "cell_type": "code",
   "execution_count": 4,
   "id": "5011c54f-131a-42cc-9942-b73411f86e1b",
   "metadata": {
    "execution": {
     "iopub.execute_input": "2023-06-22T02:24:26.637828Z",
     "iopub.status.busy": "2023-06-22T02:24:26.637458Z",
     "iopub.status.idle": "2023-06-22T02:24:26.968223Z",
     "shell.execute_reply": "2023-06-22T02:24:26.967196Z",
     "shell.execute_reply.started": "2023-06-22T02:24:26.637801Z"
    },
    "tags": []
   },
   "outputs": [],
   "source": [
    "col_names = [\n",
    "    'sample_id', 't1', 't2', 't3', 'user_feat_1', 'user_feat_2',\n",
    "    'user_feat_3', 'user_feat_4', 'user_feat_5', 'user_feat_6',\n",
    "    'user_feat_7', 'user_feat_8', 'user_feat_9', 'user_feat_10',\n",
    "    'user_feat_11', 'user_feat_12', 'user_feat_13', 'scene_feat_14',\n",
    "    'scene_feat_15', 'scene_feat_16', 'ad_feat_17', 'ad_feat_18',\n",
    "    'ad_feat_19', 'ad_feat_20', 'ad_feat_21', 'ad_feat_22', 'ad_feat_23',\n",
    "    'ad_feat_24', 'session_feat_25', 'session_feat_26'\n",
    "]\n",
    "\n",
    "for _df in train_df_ls:\n",
    "    _df.drop(\"index\", axis=1, inplace=True, errors=\"ignore\")\n",
    "    _df.columns = col_names"
   ]
  },
  {
   "cell_type": "code",
   "execution_count": 5,
   "id": "f80a5b01-ca27-4e86-9d82-d687054ab77c",
   "metadata": {
    "execution": {
     "iopub.execute_input": "2023-06-22T02:24:26.969928Z",
     "iopub.status.busy": "2023-06-22T02:24:26.969445Z",
     "iopub.status.idle": "2023-06-22T02:24:27.103054Z",
     "shell.execute_reply": "2023-06-22T02:24:27.102026Z",
     "shell.execute_reply.started": "2023-06-22T02:24:26.969898Z"
    },
    "tags": []
   },
   "outputs": [],
   "source": [
    "train_df = pd.concat(train_df_ls, axis=0, ignore_index=True)"
   ]
  },
  {
   "cell_type": "code",
   "execution_count": 6,
   "id": "0ba49808-8778-4e2e-ad81-f9b9dd2a621a",
   "metadata": {
    "execution": {
     "iopub.execute_input": "2023-06-21T10:47:59.442622Z",
     "iopub.status.busy": "2023-06-21T10:47:59.442141Z",
     "iopub.status.idle": "2023-06-21T10:47:59.447559Z",
     "shell.execute_reply": "2023-06-21T10:47:59.446409Z",
     "shell.execute_reply.started": "2023-06-21T10:47:59.442592Z"
    },
    "tags": []
   },
   "outputs": [],
   "source": [
    "# joblib.dump(train_df, os.path.join(clean_train_folder, \"train_file_first10.pkl\"))"
   ]
  },
  {
   "cell_type": "code",
   "execution_count": null,
   "id": "25ec8231-f16b-4e9d-921e-a0021023fc47",
   "metadata": {},
   "outputs": [],
   "source": []
  },
  {
   "cell_type": "code",
   "execution_count": 7,
   "id": "611b0b38-c571-478b-8815-e66faa76631c",
   "metadata": {
    "execution": {
     "iopub.execute_input": "2023-06-21T10:47:59.449761Z",
     "iopub.status.busy": "2023-06-21T10:47:59.449111Z",
     "iopub.status.idle": "2023-06-21T10:47:59.453378Z",
     "shell.execute_reply": "2023-06-21T10:47:59.452468Z",
     "shell.execute_reply.started": "2023-06-21T10:47:59.449730Z"
    },
    "tags": []
   },
   "outputs": [],
   "source": [
    "# train_df = joblib.load(os.path.join(clean_train_folder, \"train_file.pkl\"))"
   ]
  },
  {
   "cell_type": "code",
   "execution_count": null,
   "id": "5b345e65-aa63-4e89-9323-bc2ac31f1ad8",
   "metadata": {},
   "outputs": [],
   "source": []
  },
  {
   "cell_type": "code",
   "execution_count": 6,
   "id": "d3a44856-2b9e-4e84-bb54-a239bdb40cc3",
   "metadata": {
    "execution": {
     "iopub.execute_input": "2023-06-22T02:27:27.086943Z",
     "iopub.status.busy": "2023-06-22T02:27:27.086567Z",
     "iopub.status.idle": "2023-06-22T02:27:51.044639Z",
     "shell.execute_reply": "2023-06-22T02:27:51.042302Z",
     "shell.execute_reply.started": "2023-06-22T02:27:27.086915Z"
    },
    "tags": []
   },
   "outputs": [
    {
     "data": {
      "text/plain": [
       "0         None\n",
       "1         None\n",
       "2         None\n",
       "3         None\n",
       "4         None\n",
       "          ... \n",
       "272186    None\n",
       "272187    None\n",
       "272188    None\n",
       "272189    None\n",
       "272190    None\n",
       "Length: 272191, dtype: object"
      ]
     },
     "execution_count": 6,
     "metadata": {},
     "output_type": "execute_result"
    }
   ],
   "source": [
    "feature_cols = list(train_df.columns[4:])\n",
    "unique_elements = {}\n",
    "\n",
    "def fill_unique_elements(row, feature_cols, unique_elements):\n",
    "    for _col in feature_cols:\n",
    "        if _col not in unique_elements:\n",
    "            unique_elements[_col] = set()\n",
    "        \n",
    "        unique_elements[_col].update(row[_col])\n",
    "\n",
    "train_df.apply(lambda x: fill_unique_elements(x, feature_cols, unique_elements), axis=1)    "
   ]
  },
  {
   "cell_type": "code",
   "execution_count": null,
   "id": "a1e98e6d-720c-42a4-be13-86f323e9c85f",
   "metadata": {},
   "outputs": [],
   "source": []
  },
  {
   "cell_type": "code",
   "execution_count": 9,
   "id": "3b0954b6-2b4b-4565-b36c-ef06479c1a4d",
   "metadata": {
    "execution": {
     "iopub.execute_input": "2023-06-21T10:48:26.392970Z",
     "iopub.status.busy": "2023-06-21T10:48:26.392504Z",
     "iopub.status.idle": "2023-06-21T10:48:26.398959Z",
     "shell.execute_reply": "2023-06-21T10:48:26.397892Z",
     "shell.execute_reply.started": "2023-06-21T10:48:26.392938Z"
    },
    "tags": []
   },
   "outputs": [
    {
     "name": "stdout",
     "output_type": "stream",
     "text": [
      "user_feat_1, \t length=21\n",
      "user_feat_2, \t length=9\n",
      "user_feat_3, \t length=269856\n",
      "user_feat_4, \t length=231628\n",
      "user_feat_5, \t length=12\n",
      "user_feat_6, \t length=9\n",
      "user_feat_7, \t length=6\n",
      "user_feat_8, \t length=18\n",
      "user_feat_9, \t length=6\n",
      "user_feat_10, \t length=726325\n",
      "user_feat_11, \t length=111\n",
      "user_feat_12, \t length=0\n",
      "user_feat_13, \t length=24\n",
      "scene_feat_14, \t length=6\n",
      "scene_feat_15, \t length=447\n",
      "scene_feat_16, \t length=1\n",
      "ad_feat_17, \t length=1287144\n",
      "ad_feat_18, \t length=446183\n",
      "ad_feat_19, \t length=50225\n",
      "ad_feat_20, \t length=17547\n",
      "ad_feat_21, \t length=11\n",
      "ad_feat_22, \t length=2386616\n",
      "ad_feat_23, \t length=47897\n",
      "ad_feat_24, \t length=372\n",
      "session_feat_25, \t length=452\n",
      "session_feat_26, \t length=1052\n"
     ]
    }
   ],
   "source": [
    "sparse_id_cnt = -1\n",
    "\n",
    "for k, v in unique_elements.items():\n",
    "    print(f\"{k}, \\t length={len(v)}\")\n",
    "    sparse_id_cnt += len(v)"
   ]
  },
  {
   "cell_type": "code",
   "execution_count": 10,
   "id": "1b9eec29-5cd5-4a37-893f-3d1db17048b2",
   "metadata": {
    "execution": {
     "iopub.execute_input": "2023-06-21T10:48:26.400664Z",
     "iopub.status.busy": "2023-06-21T10:48:26.400204Z",
     "iopub.status.idle": "2023-06-21T10:48:26.406150Z",
     "shell.execute_reply": "2023-06-21T10:48:26.405084Z",
     "shell.execute_reply.started": "2023-06-21T10:48:26.400631Z"
    },
    "tags": []
   },
   "outputs": [
    {
     "data": {
      "text/plain": [
       "5465977"
      ]
     },
     "execution_count": 10,
     "metadata": {},
     "output_type": "execute_result"
    }
   ],
   "source": [
    "sparse_id_cnt"
   ]
  },
  {
   "cell_type": "code",
   "execution_count": null,
   "id": "80c87fa5-bdb9-4e9a-800c-8aa085cccd19",
   "metadata": {},
   "outputs": [],
   "source": []
  },
  {
   "cell_type": "code",
   "execution_count": 11,
   "id": "e591067f-3a5b-40c2-9468-61ea4bab879f",
   "metadata": {
    "execution": {
     "iopub.execute_input": "2023-06-21T10:48:26.408325Z",
     "iopub.status.busy": "2023-06-21T10:48:26.407749Z",
     "iopub.status.idle": "2023-06-21T10:48:26.896306Z",
     "shell.execute_reply": "2023-06-21T10:48:26.895382Z",
     "shell.execute_reply.started": "2023-06-21T10:48:26.408294Z"
    },
    "tags": []
   },
   "outputs": [],
   "source": [
    "intersection_dict = {\"col1\": [], \"col2\": [], \"intersections\": []}\n",
    "\n",
    "for k1, v1 in unique_elements.items():\n",
    "    for k2, v2 in unique_elements.items():\n",
    "        if k1 == k2:\n",
    "            continue\n",
    "            \n",
    "        intersection = v1.intersection(v2)\n",
    "        \n",
    "        intersection_dict[\"col1\"].append(k1)\n",
    "        intersection_dict[\"col2\"].append(k2)\n",
    "        intersection_dict[\"intersections\"].append(len(intersection))"
   ]
  },
  {
   "cell_type": "code",
   "execution_count": 12,
   "id": "f717a076-1c48-41bf-9886-f2f06c9f0dd2",
   "metadata": {
    "execution": {
     "iopub.execute_input": "2023-06-21T10:48:26.897969Z",
     "iopub.status.busy": "2023-06-21T10:48:26.897278Z",
     "iopub.status.idle": "2023-06-21T10:48:26.913017Z",
     "shell.execute_reply": "2023-06-21T10:48:26.912205Z",
     "shell.execute_reply.started": "2023-06-21T10:48:26.897941Z"
    },
    "tags": []
   },
   "outputs": [
    {
     "data": {
      "text/html": [
       "<div>\n",
       "<style scoped>\n",
       "    .dataframe tbody tr th:only-of-type {\n",
       "        vertical-align: middle;\n",
       "    }\n",
       "\n",
       "    .dataframe tbody tr th {\n",
       "        vertical-align: top;\n",
       "    }\n",
       "\n",
       "    .dataframe thead th {\n",
       "        text-align: right;\n",
       "    }\n",
       "</style>\n",
       "<table border=\"1\" class=\"dataframe\">\n",
       "  <thead>\n",
       "    <tr style=\"text-align: right;\">\n",
       "      <th></th>\n",
       "      <th>intersections</th>\n",
       "    </tr>\n",
       "  </thead>\n",
       "  <tbody>\n",
       "    <tr>\n",
       "      <th>count</th>\n",
       "      <td>650.0</td>\n",
       "    </tr>\n",
       "    <tr>\n",
       "      <th>mean</th>\n",
       "      <td>0.0</td>\n",
       "    </tr>\n",
       "    <tr>\n",
       "      <th>std</th>\n",
       "      <td>0.0</td>\n",
       "    </tr>\n",
       "    <tr>\n",
       "      <th>min</th>\n",
       "      <td>0.0</td>\n",
       "    </tr>\n",
       "    <tr>\n",
       "      <th>25%</th>\n",
       "      <td>0.0</td>\n",
       "    </tr>\n",
       "    <tr>\n",
       "      <th>50%</th>\n",
       "      <td>0.0</td>\n",
       "    </tr>\n",
       "    <tr>\n",
       "      <th>75%</th>\n",
       "      <td>0.0</td>\n",
       "    </tr>\n",
       "    <tr>\n",
       "      <th>max</th>\n",
       "      <td>0.0</td>\n",
       "    </tr>\n",
       "  </tbody>\n",
       "</table>\n",
       "</div>"
      ],
      "text/plain": [
       "       intersections\n",
       "count          650.0\n",
       "mean             0.0\n",
       "std              0.0\n",
       "min              0.0\n",
       "25%              0.0\n",
       "50%              0.0\n",
       "75%              0.0\n",
       "max              0.0"
      ]
     },
     "execution_count": 12,
     "metadata": {},
     "output_type": "execute_result"
    }
   ],
   "source": [
    "intersection_df = pd.DataFrame(intersection_dict)\n",
    "intersection_df.describe()"
   ]
  },
  {
   "cell_type": "code",
   "execution_count": null,
   "id": "43dce2eb-d0c7-4a67-9020-c3eb61761da4",
   "metadata": {},
   "outputs": [],
   "source": []
  },
  {
   "cell_type": "code",
   "execution_count": null,
   "id": "d69f66be-4ff0-48a6-9d98-1c511c34a0e1",
   "metadata": {},
   "outputs": [],
   "source": []
  },
  {
   "cell_type": "code",
   "execution_count": 13,
   "id": "1790e244-2a2c-4fb6-971a-e1bb1f6241aa",
   "metadata": {
    "execution": {
     "iopub.execute_input": "2023-06-21T10:48:26.914586Z",
     "iopub.status.busy": "2023-06-21T10:48:26.914192Z",
     "iopub.status.idle": "2023-06-21T10:48:26.919852Z",
     "shell.execute_reply": "2023-06-21T10:48:26.919049Z",
     "shell.execute_reply.started": "2023-06-21T10:48:26.914559Z"
    },
    "tags": []
   },
   "outputs": [],
   "source": [
    "features = []\n",
    "\n",
    "def construct(row, feature_cols, features):\n",
    "    curr_features = []\n",
    "    \n",
    "    for _col in feature_cols:\n",
    "        if len(row[_col]) == 0:\n",
    "            curr_features.append(torch.tensor([0], dtype=torch.long))\n",
    "        else:\n",
    "            tmp = []\n",
    "            for i in row[_col]:\n",
    "                tmp.append(int(i))\n",
    "            \n",
    "            curr_features.append(torch.tensor(tmp, dtype=torch.long))\n",
    "        \n",
    "    features.append(curr_features)"
   ]
  },
  {
   "cell_type": "code",
   "execution_count": 24,
   "id": "7cedb6c4-f6d0-4720-85ac-8f048bfa0a42",
   "metadata": {
    "execution": {
     "iopub.execute_input": "2023-06-22T02:35:53.149960Z",
     "iopub.status.busy": "2023-06-22T02:35:53.149350Z",
     "iopub.status.idle": "2023-06-22T02:35:54.430947Z",
     "shell.execute_reply": "2023-06-22T02:35:54.430063Z",
     "shell.execute_reply.started": "2023-06-22T02:35:53.149932Z"
    },
    "scrolled": true,
    "tags": []
   },
   "outputs": [
    {
     "name": "stdout",
     "output_type": "stream",
     "text": [
      "0\n",
      "2023-06-22 10:35:53.156854\n"
     ]
    }
   ],
   "source": [
    "features = []\n",
    "\n",
    "for idx, row in train_df.head(1000).iterrows():\n",
    "    if idx % 1000 == 0:\n",
    "        print(idx)\n",
    "        print(datetime.datetime.now())\n",
    "    \n",
    "    curr_features = []\n",
    "    \n",
    "    curr_features.append([row[\"sample_id\"]])\n",
    "    curr_features.append([row[\"t1\"]])\n",
    "    curr_features.append([row[\"t2\"]])\n",
    "    curr_features.append([row[\"t3\"]])\n",
    "    \n",
    "    for _col in feature_cols:\n",
    "        if len(row[_col]) == 0:\n",
    "            curr_features.append(paddle.to_tensor([0], dtype=\"int64\"))\n",
    "        else:\n",
    "            tmp = []\n",
    "            for i in row[_col]:\n",
    "                tmp.append(int(i))\n",
    "            \n",
    "            curr_features.append(paddle.to_tensor(tmp, dtype=\"int64\"))\n",
    "        \n",
    "    features.append(curr_features)"
   ]
  },
  {
   "cell_type": "code",
   "execution_count": null,
   "id": "f8d5f179-1f2b-451f-91f8-b64bad145f75",
   "metadata": {},
   "outputs": [],
   "source": []
  },
  {
   "cell_type": "code",
   "execution_count": null,
   "id": "8c928f5f-d559-4df6-ad43-3a975584e1d0",
   "metadata": {},
   "outputs": [],
   "source": []
  },
  {
   "cell_type": "markdown",
   "id": "5261242a-5020-4f7a-bbd4-e0850eff68e4",
   "metadata": {},
   "source": [
    "# Tensor dim experiments"
   ]
  },
  {
   "cell_type": "markdown",
   "id": "895f404a-78c0-471b-81b3-ab1608d725c7",
   "metadata": {},
   "source": [
    "## Sum Pooling"
   ]
  },
  {
   "cell_type": "code",
   "execution_count": 9,
   "id": "ee9f31c7-e8a5-467d-a2b7-67a8ecf3ca9f",
   "metadata": {
    "execution": {
     "iopub.execute_input": "2023-06-22T02:28:56.750589Z",
     "iopub.status.busy": "2023-06-22T02:28:56.749863Z",
     "iopub.status.idle": "2023-06-22T02:28:56.930536Z",
     "shell.execute_reply": "2023-06-22T02:28:56.929694Z",
     "shell.execute_reply.started": "2023-06-22T02:28:56.750561Z"
    },
    "tags": []
   },
   "outputs": [],
   "source": [
    "emb = paddle.nn.Embedding(num_embeddings=10, embedding_dim=5)"
   ]
  },
  {
   "cell_type": "code",
   "execution_count": 11,
   "id": "35f843b9-895c-4043-a68e-61cd90a348ec",
   "metadata": {
    "execution": {
     "iopub.execute_input": "2023-06-22T02:29:51.716212Z",
     "iopub.status.busy": "2023-06-22T02:29:51.715849Z",
     "iopub.status.idle": "2023-06-22T02:29:51.725275Z",
     "shell.execute_reply": "2023-06-22T02:29:51.724311Z",
     "shell.execute_reply.started": "2023-06-22T02:29:51.716187Z"
    },
    "tags": []
   },
   "outputs": [],
   "source": [
    "ls = [[[1], [2], [3]], [[4], [5], [6, 7, 4]]]\n",
    "\n",
    "tensor_ls = []\n",
    "\n",
    "for e1 in ls:\n",
    "    curr = []\n",
    "    \n",
    "    for e2 in e1:\n",
    "        curr.append(paddle.to_tensor(e2))\n",
    "        \n",
    "    tensor_ls.append(curr)"
   ]
  },
  {
   "cell_type": "code",
   "execution_count": 12,
   "id": "33eb254d-cc7c-4e3f-add0-8637dde6a1fd",
   "metadata": {
    "execution": {
     "iopub.execute_input": "2023-06-22T02:29:52.936367Z",
     "iopub.status.busy": "2023-06-22T02:29:52.935782Z",
     "iopub.status.idle": "2023-06-22T02:29:52.950805Z",
     "shell.execute_reply": "2023-06-22T02:29:52.949692Z",
     "shell.execute_reply.started": "2023-06-22T02:29:52.936320Z"
    },
    "tags": []
   },
   "outputs": [
    {
     "data": {
      "text/plain": [
       "[[Tensor(shape=[1], dtype=int64, place=Place(cpu), stop_gradient=True,\n",
       "         [1]),\n",
       "  Tensor(shape=[1], dtype=int64, place=Place(cpu), stop_gradient=True,\n",
       "         [2]),\n",
       "  Tensor(shape=[1], dtype=int64, place=Place(cpu), stop_gradient=True,\n",
       "         [3])],\n",
       " [Tensor(shape=[1], dtype=int64, place=Place(cpu), stop_gradient=True,\n",
       "         [4]),\n",
       "  Tensor(shape=[1], dtype=int64, place=Place(cpu), stop_gradient=True,\n",
       "         [5]),\n",
       "  Tensor(shape=[3], dtype=int64, place=Place(cpu), stop_gradient=True,\n",
       "         [6, 7, 4])]]"
      ]
     },
     "execution_count": 12,
     "metadata": {},
     "output_type": "execute_result"
    }
   ],
   "source": [
    "tensor_ls"
   ]
  },
  {
   "cell_type": "code",
   "execution_count": 16,
   "id": "08acb112-d018-4de4-a141-23c4fff24fe7",
   "metadata": {
    "execution": {
     "iopub.execute_input": "2023-06-22T02:31:35.197664Z",
     "iopub.status.busy": "2023-06-22T02:31:35.197251Z",
     "iopub.status.idle": "2023-06-22T02:31:35.203237Z",
     "shell.execute_reply": "2023-06-22T02:31:35.202176Z",
     "shell.execute_reply.started": "2023-06-22T02:31:35.197635Z"
    },
    "tags": []
   },
   "outputs": [],
   "source": [
    "def sum_pooling(in_list):    \n",
    "    return paddle.sum(in_list, axis=0, keepdim=True)"
   ]
  },
  {
   "cell_type": "code",
   "execution_count": 17,
   "id": "a114f3e3-121f-4f49-abcf-f5b32ab2d088",
   "metadata": {
    "execution": {
     "iopub.execute_input": "2023-06-22T02:32:02.055835Z",
     "iopub.status.busy": "2023-06-22T02:32:02.055231Z",
     "iopub.status.idle": "2023-06-22T02:32:02.060113Z",
     "shell.execute_reply": "2023-06-22T02:32:02.059294Z",
     "shell.execute_reply.started": "2023-06-22T02:32:02.055809Z"
    },
    "tags": []
   },
   "outputs": [],
   "source": [
    "def flatten_features(input_list):\n",
    "    embedded_list = list(map(emb, input_list))\n",
    "    summed_list = list(map(sum_pooling, embedded_list))\n",
    "\n",
    "    concatted_list = paddle.concat(summed_list, axis=1)\n",
    "    \n",
    "    return concatted_list"
   ]
  },
  {
   "cell_type": "code",
   "execution_count": null,
   "id": "ded8114e-2b90-434f-9832-3d2f5b01269c",
   "metadata": {},
   "outputs": [],
   "source": []
  },
  {
   "cell_type": "code",
   "execution_count": 18,
   "id": "0fecedeb-6822-4bc9-a51e-78d661c11c21",
   "metadata": {
    "execution": {
     "iopub.execute_input": "2023-06-22T02:32:02.590618Z",
     "iopub.status.busy": "2023-06-22T02:32:02.589800Z",
     "iopub.status.idle": "2023-06-22T02:32:02.610742Z",
     "shell.execute_reply": "2023-06-22T02:32:02.609991Z",
     "shell.execute_reply.started": "2023-06-22T02:32:02.590586Z"
    },
    "tags": []
   },
   "outputs": [
    {
     "data": {
      "text/plain": [
       "[Tensor(shape=[1, 15], dtype=float32, place=Place(cpu), stop_gradient=False,\n",
       "        [[-0.52190387,  0.07194221,  0.03799814, -0.49266735,  0.30468524,\n",
       "          -0.55060506, -0.23874933,  0.12390065, -0.51309252, -0.06103414,\n",
       "          -0.51643449, -0.14627051, -0.06078577, -0.17923266,  0.47464710]]),\n",
       " Tensor(shape=[1, 15], dtype=float32, place=Place(cpu), stop_gradient=False,\n",
       "        [[ 0.51779944, -0.52479392, -0.50556695,  0.52239817, -0.14765447,\n",
       "          -0.50262690, -0.21480486,  0.24494112, -0.34089866, -0.40321022,\n",
       "           1.04577839, -1.59343457, -0.57175392,  0.36989284,  0.67018896]])]"
      ]
     },
     "execution_count": 18,
     "metadata": {},
     "output_type": "execute_result"
    }
   ],
   "source": [
    "flattened_list = list(map(flatten_features, tensor_ls))\n",
    "flattened_list"
   ]
  },
  {
   "cell_type": "code",
   "execution_count": 19,
   "id": "3777d6a6-f926-4efa-a5ec-8d7a9d1d2df9",
   "metadata": {
    "execution": {
     "iopub.execute_input": "2023-06-22T02:32:19.805226Z",
     "iopub.status.busy": "2023-06-22T02:32:19.804623Z",
     "iopub.status.idle": "2023-06-22T02:32:19.811807Z",
     "shell.execute_reply": "2023-06-22T02:32:19.810949Z",
     "shell.execute_reply.started": "2023-06-22T02:32:19.805199Z"
    },
    "tags": []
   },
   "outputs": [
    {
     "data": {
      "text/plain": [
       "Tensor(shape=[2, 15], dtype=float32, place=Place(cpu), stop_gradient=False,\n",
       "       [[-0.52190387,  0.07194221,  0.03799814, -0.49266735,  0.30468524,\n",
       "         -0.55060506, -0.23874933,  0.12390065, -0.51309252, -0.06103414,\n",
       "         -0.51643449, -0.14627051, -0.06078577, -0.17923266,  0.47464710],\n",
       "        [ 0.51779944, -0.52479392, -0.50556695,  0.52239817, -0.14765447,\n",
       "         -0.50262690, -0.21480486,  0.24494112, -0.34089866, -0.40321022,\n",
       "          1.04577839, -1.59343457, -0.57175392,  0.36989284,  0.67018896]])"
      ]
     },
     "execution_count": 19,
     "metadata": {},
     "output_type": "execute_result"
    }
   ],
   "source": [
    "paddle.concat(flattened_list)"
   ]
  },
  {
   "cell_type": "code",
   "execution_count": null,
   "id": "dad8a7b0-4a86-43f0-8295-e3717ccabdda",
   "metadata": {},
   "outputs": [],
   "source": []
  },
  {
   "cell_type": "code",
   "execution_count": null,
   "id": "e32737d4-ab51-4dea-881d-1e0bfed320b0",
   "metadata": {},
   "outputs": [],
   "source": []
  },
  {
   "cell_type": "markdown",
   "id": "f9121908-8946-4936-92a5-4a6fcbd9eb14",
   "metadata": {},
   "source": [
    "# Dataloader utils"
   ]
  },
  {
   "cell_type": "code",
   "execution_count": 61,
   "id": "8d9f0546-a992-4ca8-8261-5a02d85a23ad",
   "metadata": {
    "execution": {
     "iopub.execute_input": "2023-06-22T03:02:14.995349Z",
     "iopub.status.busy": "2023-06-22T03:02:14.994872Z",
     "iopub.status.idle": "2023-06-22T03:02:15.004269Z",
     "shell.execute_reply": "2023-06-22T03:02:15.003411Z",
     "shell.execute_reply.started": "2023-06-22T03:02:14.995320Z"
    },
    "tags": []
   },
   "outputs": [],
   "source": [
    "class EarlyStopper:\n",
    "    def __init__(self, num_trials, delta):\n",
    "        self.num_trials = num_trials\n",
    "        self.trial_counter = 0\n",
    "        self.best_accuracy = -1\n",
    "        self.delta = delta\n",
    "        # self.save_path = save_path\n",
    "\n",
    "    def is_continuable(self, model, accuracy):\n",
    "        if accuracy > self.best_accuracy + self.delta:\n",
    "            self.best_accuracy = accuracy\n",
    "            self.trial_counter = 0\n",
    "            # torch.save(model, self.save_path)\n",
    "            return True\n",
    "        elif self.trial_counter + 1 < self.num_trials:\n",
    "            self.trial_counter += 1\n",
    "            return True\n",
    "        else:\n",
    "            return False"
   ]
  },
  {
   "cell_type": "code",
   "execution_count": 75,
   "id": "8ffa19b6-029f-4387-abd5-2f8eefaac9e4",
   "metadata": {
    "execution": {
     "iopub.execute_input": "2023-06-22T03:13:14.476747Z",
     "iopub.status.busy": "2023-06-22T03:13:14.475134Z",
     "iopub.status.idle": "2023-06-22T03:13:14.494682Z",
     "shell.execute_reply": "2023-06-22T03:13:14.493699Z",
     "shell.execute_reply.started": "2023-06-22T03:13:14.476716Z"
    },
    "tags": []
   },
   "outputs": [],
   "source": [
    "class CVRDataset(Dataset):\n",
    "    def __init__(self, features):\n",
    "        self.t1 = []\n",
    "        self.t2 = []\n",
    "        self.t3 = []\n",
    "        \n",
    "        self.features = []\n",
    "        \n",
    "        for feature in features:\n",
    "            if feature[1][0] == \"-\":\n",
    "                self.t1.append([0])\n",
    "            else:\n",
    "                self.t1.append([int(feature[1][0])])\n",
    "            \n",
    "            if feature[2][0] == \"-\":\n",
    "                self.t2.append([0])\n",
    "            else:\n",
    "                self.t2.append([int(feature[2][0])])\n",
    "                \n",
    "            if feature[3][0] == \"-\":\n",
    "                self.t3.append([0])\n",
    "            else:\n",
    "                self.t3.append([int(feature[3][0])])\n",
    "                \n",
    "            self.features.append(feature[4:])\n",
    "            \n",
    "        self.t1 = paddle.to_tensor(self.t1, dtype=\"float32\")\n",
    "        self.t2 = paddle.to_tensor(self.t2, dtype=\"float32\")\n",
    "        self.t3 = paddle.to_tensor(self.t3, dtype=\"float32\")\n",
    "        \n",
    "    def __len__(self):\n",
    "        return len(self.t1)\n",
    "\n",
    "    def __getitem__(self, idx):\n",
    "        return self.t1[[idx]], self.t2[[idx]], self.t3[[idx]], self.features[idx]"
   ]
  },
  {
   "cell_type": "code",
   "execution_count": 76,
   "id": "8b877ee7-edfd-4170-84e0-0dc5a6072fe4",
   "metadata": {
    "execution": {
     "iopub.execute_input": "2023-06-22T03:13:15.593372Z",
     "iopub.status.busy": "2023-06-22T03:13:15.592996Z",
     "iopub.status.idle": "2023-06-22T03:13:15.752858Z",
     "shell.execute_reply": "2023-06-22T03:13:15.752196Z",
     "shell.execute_reply.started": "2023-06-22T03:13:15.593344Z"
    },
    "tags": []
   },
   "outputs": [],
   "source": [
    "cvr_dataset = CVRDataset(features)"
   ]
  },
  {
   "cell_type": "code",
   "execution_count": null,
   "id": "903279ab-14c5-4b24-98a4-b7147eb2df78",
   "metadata": {},
   "outputs": [],
   "source": []
  },
  {
   "cell_type": "code",
   "execution_count": null,
   "id": "69c06747-39b9-4ad4-aa00-2f3b710cadcc",
   "metadata": {},
   "outputs": [],
   "source": []
  },
  {
   "cell_type": "code",
   "execution_count": 77,
   "id": "1b66ef20-eea4-4811-85ff-297d8af64bc6",
   "metadata": {
    "execution": {
     "iopub.execute_input": "2023-06-22T03:13:27.662222Z",
     "iopub.status.busy": "2023-06-22T03:13:27.661863Z",
     "iopub.status.idle": "2023-06-22T03:13:27.670728Z",
     "shell.execute_reply": "2023-06-22T03:13:27.669260Z",
     "shell.execute_reply.started": "2023-06-22T03:13:27.662197Z"
    },
    "tags": []
   },
   "outputs": [],
   "source": [
    "def train(model, optimizer, data_loader, criterion, log_interval=100):\n",
    "    model.train()\n",
    "    total_loss = 0\n",
    "\n",
    "    tk0 = tqdm(data_loader, smoothing=0, mininterval=1.0)\n",
    "\n",
    "    for i, (t1, t2, t3, fields) in enumerate(tk0):\n",
    "        # t1, t2, t3 = t1.to(device), t2.to(device), t3.to(device)\n",
    "        y = model(fields)\n",
    "        \n",
    "        cat = paddle.concat([t1, t2, t3], axis=1)\n",
    "        target = paddle.max(cat, axis=1, keepdim=True)\n",
    "                \n",
    "        loss = criterion(y, target)\n",
    "\n",
    "        total_loss += loss.item()\n",
    "        loss.backward()\n",
    "        optimizer.step()\n",
    "        optimizer.clear_grad()\n",
    "\n",
    "        if (i + 1) % log_interval == 0:\n",
    "            tk0.set_postfix(loss=total_loss / log_interval)\n",
    "            total_loss = 0"
   ]
  },
  {
   "cell_type": "code",
   "execution_count": 43,
   "id": "0fcfa46d-d30a-4cd4-b05e-87e0358a7778",
   "metadata": {
    "execution": {
     "iopub.execute_input": "2023-06-22T02:53:18.429928Z",
     "iopub.status.busy": "2023-06-22T02:53:18.429233Z",
     "iopub.status.idle": "2023-06-22T02:53:18.437272Z",
     "shell.execute_reply": "2023-06-22T02:53:18.436336Z",
     "shell.execute_reply.started": "2023-06-22T02:53:18.429897Z"
    },
    "tags": []
   },
   "outputs": [],
   "source": [
    "def test(model, data_loader):\n",
    "    model.eval()\n",
    "    targets, predicts = list(), list()\n",
    "\n",
    "    with paddle.no_grad():\n",
    "        for i, (t1, t2, t3, fields) in tqdm(data_loader, smoothing=0, mininterval=1.0):\n",
    "            # t1, t2, t3 = t1.to(device), t2.to(device), t3.to(device)\n",
    "            \n",
    "            y = model(fields)\n",
    "            cat = paddle.concat([t1, t2, t3], axis=1)\n",
    "            target = paddle.max(cat, axis=1, keepdim=True)\n",
    "            \n",
    "            targets.extend(target.tolist())\n",
    "            predicts.extend(y.tolist())\n",
    "\n",
    "    return roc_auc_score(targets, predicts)"
   ]
  },
  {
   "cell_type": "code",
   "execution_count": 45,
   "id": "b3aa0bc2-e37e-4676-9fe4-2171496bd41e",
   "metadata": {
    "execution": {
     "iopub.execute_input": "2023-06-22T02:53:40.719610Z",
     "iopub.status.busy": "2023-06-22T02:53:40.719250Z",
     "iopub.status.idle": "2023-06-22T02:53:40.730104Z",
     "shell.execute_reply": "2023-06-22T02:53:40.724933Z",
     "shell.execute_reply.started": "2023-06-22T02:53:40.719582Z"
    },
    "tags": []
   },
   "outputs": [],
   "source": [
    "def collate_fn(data):\n",
    "    t1, t2, t3, fields = [], [], [], []\n",
    "    \n",
    "    for d in data:\n",
    "        t1.append(d[0])\n",
    "        t2.append(d[1])\n",
    "        t3.append(d[2])\n",
    "        \n",
    "        fields.append(d[3])\n",
    "        \n",
    "    return paddle.concat(t1, axis=0), paddle.concat(t2, axis=0), paddle.concat(t3, axis=0), fields"
   ]
  },
  {
   "cell_type": "code",
   "execution_count": 78,
   "id": "f66d1564-2e0e-426f-9455-aa8eb357dc8f",
   "metadata": {
    "execution": {
     "iopub.execute_input": "2023-06-22T03:13:29.830598Z",
     "iopub.status.busy": "2023-06-22T03:13:29.830215Z",
     "iopub.status.idle": "2023-06-22T03:13:29.841117Z",
     "shell.execute_reply": "2023-06-22T03:13:29.840256Z",
     "shell.execute_reply.started": "2023-06-22T03:13:29.830572Z"
    },
    "tags": []
   },
   "outputs": [],
   "source": [
    "def run(dataset, model, epoch, learning_rate, batch_size, weight_decay, num_trials, delta, collate_fn=None):\n",
    "    train_length = int(len(dataset) * 0.8)\n",
    "    valid_length = int(len(dataset) * 0.1)\n",
    "    test_length = len(dataset) - train_length - valid_length\n",
    "\n",
    "    print(f\"training set size: {train_length}, validation set size: {valid_length}, test set size: {test_length}\")\n",
    "\n",
    "    train_dataset, valid_dataset, test_dataset = paddle.io.random_split(dataset, (train_length, valid_length, test_length))\n",
    "\n",
    "    train_data_loader = DataLoader(train_dataset, batch_size=batch_size, collate_fn=collate_fn)\n",
    "    valid_data_loader = DataLoader(valid_dataset, batch_size=batch_size, collate_fn=collate_fn)\n",
    "    test_data_loader = DataLoader(test_dataset, batch_size=batch_size, collate_fn=collate_fn)\n",
    "\n",
    "    criterion = paddle.nn.BCELoss()\n",
    "    optimizer = paddle.optimizer.Adam(parameters=model.parameters(), learning_rate=learning_rate, weight_decay=weight_decay)\n",
    "    early_stopper = EarlyStopper(num_trials=num_trials, delta=delta)\n",
    "\n",
    "    for epoch_i in range(epoch):\n",
    "        train(model, optimizer, train_data_loader, criterion)\n",
    "\n",
    "        auc = test(model, valid_data_loader)\n",
    "        print(f\"epoch: {epoch_i}, validation auc: {auc}\")\n",
    "\n",
    "        if not early_stopper.is_continuable(model, auc):\n",
    "            print(f\"validation best auc: {early_stopper.best_accuracy}\")\n",
    "            break\n",
    "\n",
    "    print(f\"testing using {device}\")\n",
    "    auc = test(model, test_data_loader)\n",
    "    print(f\"test auc: {auc}\")"
   ]
  },
  {
   "cell_type": "code",
   "execution_count": null,
   "id": "8e21cb79-971e-43d1-8ab1-5290f3686eea",
   "metadata": {},
   "outputs": [],
   "source": []
  },
  {
   "cell_type": "code",
   "execution_count": null,
   "id": "76fe845b-f496-4066-9f67-c79bcfa365be",
   "metadata": {},
   "outputs": [],
   "source": []
  },
  {
   "cell_type": "markdown",
   "id": "8081cf8d-13b6-4d68-9334-c2df730c7d54",
   "metadata": {},
   "source": [
    "# Networks"
   ]
  },
  {
   "cell_type": "markdown",
   "id": "5f004a1e-b73a-4a3c-baaf-300237d4c149",
   "metadata": {},
   "source": [
    "## Deep Crossing"
   ]
  },
  {
   "cell_type": "code",
   "execution_count": 52,
   "id": "806deb5f-0bfa-4352-ac77-880da6a50b07",
   "metadata": {
    "execution": {
     "iopub.execute_input": "2023-06-22T02:56:54.538980Z",
     "iopub.status.busy": "2023-06-22T02:56:54.538640Z",
     "iopub.status.idle": "2023-06-22T02:56:54.546832Z",
     "shell.execute_reply": "2023-06-22T02:56:54.545938Z",
     "shell.execute_reply.started": "2023-06-22T02:56:54.538956Z"
    },
    "tags": []
   },
   "outputs": [],
   "source": [
    "class DeepCrossingResidualBlock(paddle.nn.Layer):\n",
    "    def __init__(self, input_dim, hidden_dim):\n",
    "        super().__init__()\n",
    "\n",
    "        self.linear1 = paddle.nn.Linear(in_features=input_dim, out_features=hidden_dim)\n",
    "        self.linear2 = paddle.nn.Linear(in_features=hidden_dim, out_features=input_dim)\n",
    "        self.relu = paddle.nn.ReLU()\n",
    "\n",
    "    def forward(self, x):\n",
    "        out1 = self.relu(self.linear1(x))\n",
    "        out2 = self.linear2(out1) + x\n",
    "\n",
    "        return self.relu(out2)"
   ]
  },
  {
   "cell_type": "code",
   "execution_count": 79,
   "id": "0316ef07-fae8-4ce5-bc13-31a86714893f",
   "metadata": {
    "execution": {
     "iopub.execute_input": "2023-06-22T03:13:39.581444Z",
     "iopub.status.busy": "2023-06-22T03:13:39.581015Z",
     "iopub.status.idle": "2023-06-22T03:13:39.593517Z",
     "shell.execute_reply": "2023-06-22T03:13:39.592668Z",
     "shell.execute_reply.started": "2023-06-22T03:13:39.581415Z"
    },
    "tags": []
   },
   "outputs": [],
   "source": [
    "class DeepCrossing(paddle.nn.Layer):\n",
    "    def __init__(self, sparse_feature_cnt, sparse_id_num, embedding_dim, hidden_layers):\n",
    "        super().__init__()\n",
    "        \n",
    "        self.embedding = paddle.nn.Embedding(\n",
    "            num_embeddings=sparse_id_num, \n",
    "            embedding_dim=embedding_dim, \n",
    "        )\n",
    "\n",
    "        self.residual_layers = paddle.nn.LayerList(\n",
    "            [DeepCrossingResidualBlock(sparse_feature_cnt * embedding_dim, layer) for layer in hidden_layers]\n",
    "        )\n",
    "\n",
    "        self.lin = paddle.nn.Linear(sparse_feature_cnt * embedding_dim, 1)\n",
    "        self.relu = paddle.nn.ReLU()\n",
    "        self.sigmoid = paddle.nn.Sigmoid()\n",
    "\n",
    "        \n",
    "    def forward(self, x):\n",
    "        flattened_list = list(map(self.__flatten_features, x))        \n",
    "        features = paddle.concat(flattened_list)\n",
    "                        \n",
    "        for residual_layer in self.residual_layers:\n",
    "            features = residual_layer(features)\n",
    "\n",
    "        output = self.lin(features)\n",
    "        return self.sigmoid(output)\n",
    "    \n",
    "    \n",
    "    def __sum_pooling(self, input_list):    \n",
    "        return paddle.sum(input_list, axis=0, keepdim=True)\n",
    "    \n",
    "    \n",
    "    def __flatten_features(self, input_list):\n",
    "        embedded_list = list(map(self.embedding, input_list))\n",
    "        summed_list = list(map(self.__sum_pooling, embedded_list))\n",
    "\n",
    "        concatted_list = paddle.concat(summed_list, axis=1)\n",
    "\n",
    "        return concatted_list"
   ]
  },
  {
   "cell_type": "code",
   "execution_count": 54,
   "id": "a4b7c4f4-5821-47ea-870a-8443c33327bd",
   "metadata": {
    "execution": {
     "iopub.execute_input": "2023-06-22T03:01:21.070720Z",
     "iopub.status.busy": "2023-06-22T03:01:21.070335Z",
     "iopub.status.idle": "2023-06-22T03:01:21.084993Z",
     "shell.execute_reply": "2023-06-22T03:01:21.084217Z",
     "shell.execute_reply.started": "2023-06-22T03:01:21.070694Z"
    },
    "tags": []
   },
   "outputs": [
    {
     "data": {
      "text/plain": [
       "Place(cpu)"
      ]
     },
     "execution_count": 54,
     "metadata": {},
     "output_type": "execute_result"
    }
   ],
   "source": [
    "paddle.device.set_device(\"cpu\")"
   ]
  },
  {
   "cell_type": "code",
   "execution_count": 80,
   "id": "5204ab72-6205-40ac-ba40-f25eeb86245e",
   "metadata": {
    "execution": {
     "iopub.execute_input": "2023-06-22T03:13:40.830989Z",
     "iopub.status.busy": "2023-06-22T03:13:40.830302Z",
     "iopub.status.idle": "2023-06-22T03:13:46.303832Z",
     "shell.execute_reply": "2023-06-22T03:13:46.300963Z",
     "shell.execute_reply.started": "2023-06-22T03:13:40.830960Z"
    },
    "tags": []
   },
   "outputs": [],
   "source": [
    "deepcrossing = DeepCrossing(\n",
    "    sparse_feature_cnt=26, \n",
    "    sparse_id_num=88000000, \n",
    "    embedding_dim=5, \n",
    "    hidden_layers=[64, 32, 16], \n",
    ")"
   ]
  },
  {
   "cell_type": "code",
   "execution_count": null,
   "id": "87926b4d-5a76-4535-aa08-4708b1ab5c55",
   "metadata": {},
   "outputs": [],
   "source": []
  },
  {
   "cell_type": "code",
   "execution_count": 56,
   "id": "e33480a4-b3f0-4169-a6a5-8d1795e90a15",
   "metadata": {
    "execution": {
     "iopub.execute_input": "2023-06-22T03:01:35.970235Z",
     "iopub.status.busy": "2023-06-22T03:01:35.969205Z",
     "iopub.status.idle": "2023-06-22T03:01:35.975540Z",
     "shell.execute_reply": "2023-06-22T03:01:35.974523Z",
     "shell.execute_reply.started": "2023-06-22T03:01:35.970207Z"
    },
    "tags": []
   },
   "outputs": [],
   "source": [
    "epoch = 1000\n",
    "learning_rate = 0.005\n",
    "batch_size = 16\n",
    "weight_decay = 1e-6\n",
    "num_trials = 3\n",
    "delta = 0.001"
   ]
  },
  {
   "cell_type": "code",
   "execution_count": null,
   "id": "22d7c497-1ebf-4a86-bd24-3f7132d136c4",
   "metadata": {},
   "outputs": [],
   "source": []
  },
  {
   "cell_type": "code",
   "execution_count": null,
   "id": "64a77d0e-755d-4eef-afea-83878d080fd0",
   "metadata": {
    "execution": {
     "iopub.execute_input": "2023-06-22T03:13:48.052305Z",
     "iopub.status.busy": "2023-06-22T03:13:48.051698Z"
    },
    "tags": []
   },
   "outputs": [
    {
     "name": "stdout",
     "output_type": "stream",
     "text": [
      "training set size: 800, validation set size: 100, test set size: 100\n"
     ]
    },
    {
     "name": "stderr",
     "output_type": "stream",
     "text": [
      "  2%|███▉                                                                                                                                                                                                 | 1/50 [11:54<9:43:16, 714.22s/it]"
     ]
    }
   ],
   "source": [
    "run(\n",
    "    dataset=cvr_dataset, \n",
    "    model=deepcrossing, \n",
    "    epoch=epoch, \n",
    "    learning_rate=learning_rate, \n",
    "    batch_size=batch_size, \n",
    "    weight_decay=weight_decay, \n",
    "    num_trials=num_trials, \n",
    "    delta=delta,\n",
    "    collate_fn=collate_fn\n",
    ")"
   ]
  },
  {
   "cell_type": "code",
   "execution_count": null,
   "id": "3d7c76b6-38cc-4cfb-b0de-4449a89932e5",
   "metadata": {},
   "outputs": [],
   "source": []
  },
  {
   "cell_type": "code",
   "execution_count": null,
   "id": "1fbe92d6-8bd3-4ac4-a34d-13732a973dbc",
   "metadata": {},
   "outputs": [],
   "source": []
  },
  {
   "cell_type": "code",
   "execution_count": null,
   "id": "536eb170-d311-41ec-96c3-65b713e9ef1f",
   "metadata": {
    "tags": []
   },
   "outputs": [],
   "source": [
    "clean_test = joblib.load(\"../data/data204194/test_data/clean_test.pkl\")\n",
    "\n",
    "clean_test.head()"
   ]
  },
  {
   "cell_type": "code",
   "execution_count": null,
   "id": "c244b76b-e17a-469b-83b8-4dc2a75e88e8",
   "metadata": {
    "tags": []
   },
   "outputs": [],
   "source": [
    "feature_cols = list(clean_test.columns[4:])\n",
    "unique_elements = {}\n",
    "\n",
    "\n",
    "clean_test.apply(lambda x: fill_unique_elements(x, feature_cols, unique_elements), axis=1)    "
   ]
  },
  {
   "cell_type": "code",
   "execution_count": null,
   "id": "01c14dce-2f86-42f3-be3f-1bb332f015e7",
   "metadata": {
    "tags": []
   },
   "outputs": [],
   "source": [
    "# single_element_cols = [\n",
    "#     'user_feat_1',\n",
    "#     'user_feat_11',\n",
    "#     'user_feat_12',\n",
    "#     'user_feat_13',\n",
    "#     'user_feat_2',\n",
    "#     'user_feat_3',\n",
    "#     'user_feat_4',\n",
    "#     'user_feat_5',\n",
    "#     'user_feat_6',\n",
    "#     'user_feat_7',\n",
    "#     'user_feat_8',\n",
    "#     'user_feat_9',\n",
    "#     'scene_feat_14',\n",
    "#     'scene_feat_15',\n",
    "#     'scene_feat_16',\n",
    "#     'ad_feat_19',\n",
    "#     'ad_feat_21',\n",
    "#     'ad_feat_23',\n",
    "#     'ad_feat_24'\n",
    "# ]\n",
    "\n",
    "# for _col in single_element_cols:\n",
    "#     clean_test[_col] = clean_test[_col].map(lambda x: x[0] if len(x) != 0 else \"-1\")"
   ]
  },
  {
   "cell_type": "code",
   "execution_count": null,
   "id": "7b4706c3-d961-4294-83a4-66052afdb60e",
   "metadata": {},
   "outputs": [],
   "source": []
  },
  {
   "cell_type": "code",
   "execution_count": null,
   "id": "8e1f233b-8603-4008-890d-e63000cbc564",
   "metadata": {},
   "outputs": [],
   "source": []
  },
  {
   "cell_type": "code",
   "execution_count": null,
   "id": "c83ef433-9d2e-45b1-ab37-a9ba6ce537ed",
   "metadata": {},
   "outputs": [],
   "source": []
  },
  {
   "cell_type": "code",
   "execution_count": null,
   "id": "d18f6f4a-634d-46c7-aa5d-be59d01aff8d",
   "metadata": {},
   "outputs": [],
   "source": []
  }
 ],
 "metadata": {
  "kernelspec": {
   "display_name": "Python 3 (ipykernel)",
   "language": "python",
   "name": "python3"
  },
  "language_info": {
   "codemirror_mode": {
    "name": "ipython",
    "version": 3
   },
   "file_extension": ".py",
   "mimetype": "text/x-python",
   "name": "python",
   "nbconvert_exporter": "python",
   "pygments_lexer": "ipython3",
   "version": "3.8.9"
  },
  "toc-autonumbering": true
 },
 "nbformat": 4,
 "nbformat_minor": 5
}
