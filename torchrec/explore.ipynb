{
 "cells": [
  {
   "cell_type": "code",
   "execution_count": 1,
   "id": "2a4f27a4-de32-454e-bed5-545862cb6b6c",
   "metadata": {
    "execution": {
     "iopub.execute_input": "2023-06-19T10:48:46.615317Z",
     "iopub.status.busy": "2023-06-19T10:48:46.614834Z",
     "iopub.status.idle": "2023-06-19T10:48:57.406354Z",
     "shell.execute_reply": "2023-06-19T10:48:57.405352Z",
     "shell.execute_reply.started": "2023-06-19T10:48:46.615278Z"
    },
    "tags": []
   },
   "outputs": [],
   "source": [
    "import os\n",
    "\n",
    "import numpy as np\n",
    "import pandas as pd\n",
    "\n",
    "import torch"
   ]
  },
  {
   "cell_type": "code",
   "execution_count": null,
   "id": "9b6b21dc-65c6-4b39-8343-57818b789e19",
   "metadata": {},
   "outputs": [],
   "source": []
  },
  {
   "cell_type": "code",
   "execution_count": 4,
   "id": "9c2a1791-c103-4ee2-b40a-ad9d8e0413c4",
   "metadata": {
    "execution": {
     "iopub.execute_input": "2023-06-19T10:49:10.866672Z",
     "iopub.status.busy": "2023-06-19T10:49:10.865808Z",
     "iopub.status.idle": "2023-06-19T10:49:10.873125Z",
     "shell.execute_reply": "2023-06-19T10:49:10.872303Z",
     "shell.execute_reply.started": "2023-06-19T10:49:10.866594Z"
    },
    "tags": []
   },
   "outputs": [
    {
     "data": {
      "text/plain": [
       "<module 'torch' from '/Users/rongzhimai/Library/Caches/pypoetry/virtualenvs/baidu-rec-vTnPSIao-py3.8/lib/python3.8/site-packages/torch/__init__.py'>"
      ]
     },
     "execution_count": 4,
     "metadata": {},
     "output_type": "execute_result"
    }
   ],
   "source": []
  },
  {
   "cell_type": "code",
   "execution_count": null,
   "id": "343900a1-dd6a-4b32-918d-7d462cfb1420",
   "metadata": {},
   "outputs": [],
   "source": []
  },
  {
   "cell_type": "code",
   "execution_count": null,
   "id": "01c14dce-2f86-42f3-be3f-1bb332f015e7",
   "metadata": {},
   "outputs": [],
   "source": []
  },
  {
   "cell_type": "code",
   "execution_count": null,
   "id": "d3a44856-2b9e-4e84-bb54-a239bdb40cc3",
   "metadata": {},
   "outputs": [],
   "source": []
  },
  {
   "cell_type": "code",
   "execution_count": null,
   "id": "e591067f-3a5b-40c2-9468-61ea4bab879f",
   "metadata": {},
   "outputs": [],
   "source": []
  },
  {
   "cell_type": "code",
   "execution_count": null,
   "id": "c83ef433-9d2e-45b1-ab37-a9ba6ce537ed",
   "metadata": {},
   "outputs": [],
   "source": []
  },
  {
   "cell_type": "code",
   "execution_count": null,
   "id": "d18f6f4a-634d-46c7-aa5d-be59d01aff8d",
   "metadata": {},
   "outputs": [],
   "source": []
  }
 ],
 "metadata": {
  "kernelspec": {
   "display_name": "Python 3 (ipykernel)",
   "language": "python",
   "name": "python3"
  },
  "language_info": {
   "codemirror_mode": {
    "name": "ipython",
    "version": 3
   },
   "file_extension": ".py",
   "mimetype": "text/x-python",
   "name": "python",
   "nbconvert_exporter": "python",
   "pygments_lexer": "ipython3",
   "version": "3.8.9"
  }
 },
 "nbformat": 4,
 "nbformat_minor": 5
}
