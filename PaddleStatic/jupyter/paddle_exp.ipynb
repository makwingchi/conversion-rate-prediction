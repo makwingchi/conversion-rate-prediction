{
 "cells": [
  {
   "cell_type": "code",
   "execution_count": 2,
   "id": "b31ebe2e-4a75-4325-a0f4-976f1f3591ba",
   "metadata": {
    "execution": {
     "iopub.execute_input": "2023-07-07T02:25:10.902803Z",
     "iopub.status.busy": "2023-07-07T02:25:10.902468Z",
     "iopub.status.idle": "2023-07-07T02:25:13.078204Z",
     "shell.execute_reply": "2023-07-07T02:25:13.077145Z",
     "shell.execute_reply.started": "2023-07-07T02:25:10.902778Z"
    },
    "tags": []
   },
   "outputs": [],
   "source": [
    "import os\n",
    "import math\n",
    "import datetime\n",
    "import joblib\n",
    "import logging\n",
    "\n",
    "from tqdm import tqdm\n",
    "\n",
    "import numpy as np\n",
    "import pandas as pd\n",
    "\n",
    "import paddle\n",
    "from paddle.io import Dataset, IterableDataset, DataLoader\n",
    "import paddle.nn.functional as F"
   ]
  },
  {
   "cell_type": "code",
   "execution_count": 2,
   "id": "ec18cb94-6391-403c-a4a5-d8b2b7727bd1",
   "metadata": {
    "execution": {
     "iopub.execute_input": "2023-06-22T13:13:21.176279Z",
     "iopub.status.busy": "2023-06-22T13:13:21.175740Z",
     "iopub.status.idle": "2023-06-22T13:13:21.180039Z",
     "shell.execute_reply": "2023-06-22T13:13:21.179233Z",
     "shell.execute_reply.started": "2023-06-22T13:13:21.176249Z"
    },
    "tags": []
   },
   "outputs": [],
   "source": [
    "paddle.enable_static()"
   ]
  },
  {
   "cell_type": "code",
   "execution_count": null,
   "id": "3fb1f78e-cd75-4e8d-a412-3fd8bda1f7b6",
   "metadata": {},
   "outputs": [],
   "source": []
  },
  {
   "cell_type": "code",
   "execution_count": 3,
   "id": "1559a3d0-c3ea-427d-88ae-54d581daca62",
   "metadata": {
    "execution": {
     "iopub.execute_input": "2023-06-22T13:13:21.181779Z",
     "iopub.status.busy": "2023-06-22T13:13:21.181501Z",
     "iopub.status.idle": "2023-06-22T13:13:21.232107Z",
     "shell.execute_reply": "2023-06-22T13:13:21.231161Z",
     "shell.execute_reply.started": "2023-06-22T13:13:21.181757Z"
    },
    "tags": []
   },
   "outputs": [],
   "source": [
    "class StaticModel:\n",
    "    def __init__(self):\n",
    "        self.cost = None\n",
    "        self.infer_target_var = None\n",
    "        self._init_hyper_parameters()\n",
    "\n",
    "    def _init_hyper_parameters(self):        \n",
    "        self.sparse_feature_number = 88000000\n",
    "        self.sparse_feature_dim = 9\n",
    "        self.sparse_inputs_slots = 28\n",
    "        self.learning_rate = 0.001\n",
    "        self.fc_sizes = [512, 256, 128, 32]\n",
    "        \n",
    "    def create_feeds(self, is_infer=False):\n",
    "        sparse_input_ids = [\n",
    "            paddle.static.data(\n",
    "                name=\"C\" + str(i), shape=[None, 1], lod_level=1, dtype=\"int64\")\n",
    "            for i in range(1, self.sparse_inputs_slots)\n",
    "        ]\n",
    "\n",
    "        label = paddle.static.data(\n",
    "            name=\"label\", shape=[None, 1], dtype=\"int64\"\n",
    "        )\n",
    "\n",
    "        feeds_list = [label] + sparse_input_ids\n",
    "        \n",
    "        return feeds_list\n",
    "\n",
    "    def net(self, _input, is_infer=False):\n",
    "        self.log_key = _input[0]\n",
    "        self.label_input = _input[1]\n",
    "        self.sparse_inputs = _input[2:self.sparse_inputs_slots]\n",
    "        sparse_number = self.sparse_inputs_slots - 2\n",
    "\n",
    "        def embedding_layer(_input):\n",
    "            emb = paddle.fluid.layers.embedding(\n",
    "                input=_input,\n",
    "                is_sparse=True,\n",
    "                is_distributed=False,\n",
    "                size=[\n",
    "                    self.sparse_feature_number, self.sparse_feature_dim\n",
    "                ],\n",
    "                param_attr=paddle.fluid.ParamAttr(\n",
    "                    name=\"SparseFeatFactors\",\n",
    "                    initializer=paddle.fluid.initializer.Uniform()\n",
    "                )\n",
    "            )\n",
    "            \n",
    "            emb_sum = paddle.fluid.layers.sequence_pool(\n",
    "                input=emb, \n",
    "                pool_type='sum'\n",
    "            )\n",
    "            \n",
    "            return emb_sum\n",
    "\n",
    "        sparse_embs = list(map(embedding_layer, self.sparse_inputs))\n",
    "\n",
    "        dnn_model = StaticDNNLayer(\n",
    "            self.sparse_feature_number, \n",
    "            self.sparse_feature_dim,\n",
    "            sparse_number, \n",
    "            self.fc_sizes\n",
    "        )\n",
    "\n",
    "        pred = dnn_model.forward(sparse_embs)\n",
    "\n",
    "        predict_2d = paddle.concat(x=[1 - pred, pred], axis=1)\n",
    "\n",
    "        auc, batch_auc_var, _ = paddle.static.auc(\n",
    "            input=predict_2d,\n",
    "            label=self.label_input,\n",
    "            slide_steps=0\n",
    "        )\n",
    "        self.inference_target_var = auc\n",
    "        \n",
    "        if is_infer:\n",
    "            fetch_dict = {'log_key': self.log_key,'pred': pred}\n",
    "            return fetch_dict\n",
    "\n",
    "        cost = paddle.nn.functional.log_loss(\n",
    "            input=pred, \n",
    "            label=paddle.cast(\n",
    "                self.label_input, \n",
    "                dtype=\"float32\"\n",
    "            )\n",
    "        )\n",
    "        \n",
    "        avg_cost = paddle.mean(x=cost)\n",
    "        self._cost = avg_cost\n",
    "        fetch_dict = {'cost': avg_cost, 'auc': auc}\n",
    "        \n",
    "        return fetch_dict\n",
    "\n",
    "    def create_optimizer(self, strategy=None):\n",
    "        optimizer = paddle.optimizer.Adam(\n",
    "            learning_rate=self.learning_rate, \n",
    "            lazy_mode=True\n",
    "        )\n",
    "        \n",
    "        if strategy != None:\n",
    "            import paddle.distributed.fleet as fleet\n",
    "            optimizer = fleet.distributed_optimizer(optimizer, strategy)\n",
    "            \n",
    "        optimizer.minimize(self._cost)\n",
    "\n",
    "    def infer_net(self, _input):\n",
    "        return self.net(_input, is_infer=True)"
   ]
  },
  {
   "cell_type": "code",
   "execution_count": 4,
   "id": "1362ea74-64b4-4b74-b3e4-d6db1d4bc6e6",
   "metadata": {
    "execution": {
     "iopub.execute_input": "2023-06-22T13:13:21.235029Z",
     "iopub.status.busy": "2023-06-22T13:13:21.234200Z",
     "iopub.status.idle": "2023-06-22T13:13:21.245373Z",
     "shell.execute_reply": "2023-06-22T13:13:21.244462Z",
     "shell.execute_reply.started": "2023-06-22T13:13:21.234996Z"
    },
    "tags": []
   },
   "outputs": [],
   "source": [
    "class StaticDNNLayer(paddle.nn.Layer):\n",
    "    def __init__(self, sparse_feature_number, sparse_feature_dim, num_field, layer_sizes):\n",
    "        super().__init__()\n",
    "        \n",
    "        self.sparse_feature_number = sparse_feature_number\n",
    "        self.sparse_feature_dim = sparse_feature_dim\n",
    "        self.num_field = num_field\n",
    "        self.layer_sizes = layer_sizes\n",
    "\n",
    "        sizes = [sparse_feature_dim * num_field \n",
    "                 ] + self.layer_sizes + [1]\n",
    "        acts = [\"relu\" for _ in range(len(self.layer_sizes))] + [None]\n",
    "        \n",
    "        self._mlp_layers = []\n",
    "        \n",
    "        for i in range(len(layer_sizes) + 1):\n",
    "            linear = paddle.nn.Linear(\n",
    "                in_features=sizes[i],\n",
    "                out_features=sizes[i + 1],\n",
    "                weight_attr=paddle.ParamAttr(\n",
    "                    initializer=paddle.nn.initializer.Normal(\n",
    "                        std=1.0 / math.sqrt(sizes[i])\n",
    "                    )\n",
    "                )\n",
    "            )\n",
    "            \n",
    "            self.add_sublayer('linear_%d' % i, linear)\n",
    "            self._mlp_layers.append(linear)\n",
    "            \n",
    "            if acts[i] == 'relu':\n",
    "                act = paddle.nn.ReLU()\n",
    "                self.add_sublayer('act_%d' % i, act)\n",
    "                self._mlp_layers.append(act)\n",
    "\n",
    "    def forward(self, sparse_embs):\n",
    "        y_dnn = paddle.concat(x=sparse_embs, axis=1)\n",
    "        \n",
    "        for n_layer in self._mlp_layers:\n",
    "            y_dnn = n_layer(y_dnn)\n",
    "\n",
    "        predict = F.sigmoid(y_dnn)\n",
    "        \n",
    "        return predict"
   ]
  },
  {
   "cell_type": "code",
   "execution_count": 5,
   "id": "51c32d4a-8b31-41fa-8c53-438011111ab0",
   "metadata": {
    "execution": {
     "iopub.execute_input": "2023-06-22T13:13:21.249430Z",
     "iopub.status.busy": "2023-06-22T13:13:21.249082Z",
     "iopub.status.idle": "2023-06-22T13:13:21.255800Z",
     "shell.execute_reply": "2023-06-22T13:13:21.253852Z",
     "shell.execute_reply.started": "2023-06-22T13:13:21.249402Z"
    },
    "tags": []
   },
   "outputs": [],
   "source": [
    "def get_filepath(dir_path, list_name):\n",
    "    for file in os.listdir(dir_path):\n",
    "        file_path = os.path.join(dir_path, file)\n",
    "        \n",
    "        if os.path.isdir(file_path):\n",
    "            get_filepath(file_path, list_name)\n",
    "        else:\n",
    "            list_name.append(file_path)\n",
    "    \n",
    "    return list_name"
   ]
  },
  {
   "cell_type": "code",
   "execution_count": 6,
   "id": "f0f1f7c0-8d66-439a-bc69-aabcc648bc52",
   "metadata": {
    "execution": {
     "iopub.execute_input": "2023-06-22T13:13:21.258941Z",
     "iopub.status.busy": "2023-06-22T13:13:21.258455Z",
     "iopub.status.idle": "2023-06-22T13:13:21.266054Z",
     "shell.execute_reply": "2023-06-22T13:13:21.264651Z",
     "shell.execute_reply.started": "2023-06-22T13:13:21.258908Z"
    },
    "tags": []
   },
   "outputs": [],
   "source": [
    "def get_file_list(data_path):\n",
    "    assert os.path.exists(data_path)\n",
    "    list_name = []\n",
    "    file_list = get_filepath(data_path, list_name)\n",
    "\n",
    "    print(\"File list: {}\".format(file_list))\n",
    "    \n",
    "    return file_list"
   ]
  },
  {
   "cell_type": "code",
   "execution_count": 7,
   "id": "0149c830-f3a5-4455-b5cd-b9f9d1c18423",
   "metadata": {
    "execution": {
     "iopub.execute_input": "2023-06-22T13:13:21.269860Z",
     "iopub.status.busy": "2023-06-22T13:13:21.268708Z",
     "iopub.status.idle": "2023-06-22T13:13:21.342247Z",
     "shell.execute_reply": "2023-06-22T13:13:21.341129Z",
     "shell.execute_reply.started": "2023-06-22T13:13:21.269804Z"
    },
    "tags": []
   },
   "outputs": [],
   "source": [
    "def get_reader(input_var):\n",
    "    reader_type = \"QueueDataset\"\n",
    "    train_data_path = \"../data/data205411/2023-cvr-contest-data/train_data\"\n",
    "    \n",
    "    assert train_data_path != \"\"\n",
    "\n",
    "    assert reader_type in [\n",
    "        \"QueueDataset\"\n",
    "    ]\n",
    "    \n",
    "    file_list = get_file_list(train_data_path)\n",
    "    print(\"train file_list: {}\".format(file_list))\n",
    "    \n",
    "    reader_instance = Queue(input_var, file_list)\n",
    "    return reader_instance.get_reader(), file_list"
   ]
  },
  {
   "cell_type": "code",
   "execution_count": 8,
   "id": "68e35ee1-c69d-4125-a93f-545d38784e75",
   "metadata": {
    "execution": {
     "iopub.execute_input": "2023-06-22T13:13:21.344050Z",
     "iopub.status.busy": "2023-06-22T13:13:21.343624Z",
     "iopub.status.idle": "2023-06-22T13:13:21.356203Z",
     "shell.execute_reply": "2023-06-22T13:13:21.354925Z",
     "shell.execute_reply.started": "2023-06-22T13:13:21.344022Z"
    },
    "tags": []
   },
   "outputs": [],
   "source": [
    "class Queue:\n",
    "    def __init__(self, input_var, file_list):\n",
    "        assert isinstance(input_var, list)\n",
    "        assert len(file_list) > 0\n",
    "\n",
    "        self.input_var = input_var\n",
    "        self.file_list = file_list\n",
    "\n",
    "        self.pipe_command = \"python3 queuedataset_reader.py\"\n",
    "        self.train_reader = \"criteo_reader\"\n",
    "        \n",
    "        assert self.pipe_command != None\n",
    "                        \n",
    "        print(\"pipe_command is: {}\".format(self.pipe_command))\n",
    "        \n",
    "        self.batch_size = 128\n",
    "        assert self.batch_size >= 1\n",
    "        \n",
    "        self.thread_num = 1\n",
    "        print(\"dataset init thread_num:\", self.thread_num)\n",
    "        assert self.thread_num >= 1\n",
    "\n",
    "    def get_reader(self):\n",
    "        print(\"Get Train Dataset\")\n",
    "        dataset = paddle.distributed.QueueDataset()\n",
    "        dataset.init(\n",
    "            use_var=self.input_var,\n",
    "            pipe_command=self.pipe_command,\n",
    "            batch_size=self.batch_size,\n",
    "            thread_num=self.thread_num\n",
    "        )\n",
    "        print(\"dataset get_reader thread_num:\", self.thread_num)\n",
    "        dataset.set_filelist(self.file_list)\n",
    "        return dataset\n",
    "\n",
    "    def get_infer_reader(self):\n",
    "        print(\"Get Infer Dataset\")\n",
    "        dataset = paddle.distributed.QueueDataset()\n",
    "        self.infer_batch_size = 128\n",
    "        self.infer_thread_num = self.thread_num\n",
    "        dataset.init(\n",
    "            use_var=self.input_var,\n",
    "            pipe_command=self.pipe_command,\n",
    "            batch_size=self.infer_batch_size,\n",
    "            thread_num=self.infer_thread_num\n",
    "        )\n",
    "        print(\"dataset get_infer_reader thread_num:\", self.infer_thread_num)\n",
    "        dataset.set_filelist(self.file_list)\n",
    "        return dataset"
   ]
  },
  {
   "cell_type": "code",
   "execution_count": 9,
   "id": "1ccd597d-f4d2-4ff2-8bbc-40f963ce4104",
   "metadata": {
    "execution": {
     "iopub.execute_input": "2023-06-22T13:13:21.359140Z",
     "iopub.status.busy": "2023-06-22T13:13:21.358599Z",
     "iopub.status.idle": "2023-06-22T13:13:21.366121Z",
     "shell.execute_reply": "2023-06-22T13:13:21.365049Z",
     "shell.execute_reply.started": "2023-06-22T13:13:21.359110Z"
    },
    "tags": []
   },
   "outputs": [],
   "source": [
    "def dataset_train(epoch_id, dataset, fetch_vars, exe):\n",
    "    fetch_info = [\n",
    "        \"Epoch {} Var {}\".format(epoch_id, var_name) for var_name in fetch_vars\n",
    "    ]\n",
    "    \n",
    "    fetch_vars = [var for _, var in fetch_vars.items()]\n",
    "    print_interval = 50\n",
    "    \n",
    "    exe.train_from_dataset(\n",
    "        program=paddle.static.default_main_program(),\n",
    "        dataset=dataset,\n",
    "        fetch_list=fetch_vars,\n",
    "        fetch_info=fetch_info,\n",
    "        print_period=print_interval,\n",
    "        debug=False\n",
    "    )"
   ]
  },
  {
   "cell_type": "code",
   "execution_count": null,
   "id": "955ea1de-c0dc-4bb3-b8c9-3a9d0cbd435f",
   "metadata": {},
   "outputs": [],
   "source": []
  },
  {
   "cell_type": "code",
   "execution_count": 10,
   "id": "a8e276d2-79df-4103-81a0-b5d99de7615c",
   "metadata": {
    "execution": {
     "iopub.execute_input": "2023-06-22T13:13:21.367753Z",
     "iopub.status.busy": "2023-06-22T13:13:21.367365Z",
     "iopub.status.idle": "2023-06-22T13:13:21.372015Z",
     "shell.execute_reply": "2023-06-22T13:13:21.371081Z",
     "shell.execute_reply.started": "2023-06-22T13:13:21.367724Z"
    },
    "tags": []
   },
   "outputs": [],
   "source": [
    "static_model_class = StaticModel()"
   ]
  },
  {
   "cell_type": "code",
   "execution_count": 11,
   "id": "c32ccad3-7cb4-4ee8-ab37-1734024fd1fb",
   "metadata": {
    "execution": {
     "iopub.execute_input": "2023-06-22T13:13:21.373557Z",
     "iopub.status.busy": "2023-06-22T13:13:21.373004Z",
     "iopub.status.idle": "2023-06-22T13:13:21.392978Z",
     "shell.execute_reply": "2023-06-22T13:13:21.391425Z",
     "shell.execute_reply.started": "2023-06-22T13:13:21.373527Z"
    },
    "tags": []
   },
   "outputs": [
    {
     "data": {
      "text/plain": [
       "[var label : LOD_TENSOR.shape(-1, 1).dtype(int64).stop_gradient(True),\n",
       " var C1 : LOD_TENSOR.shape(-1, 1).dtype(int64).stop_gradient(True),\n",
       " var C2 : LOD_TENSOR.shape(-1, 1).dtype(int64).stop_gradient(True),\n",
       " var C3 : LOD_TENSOR.shape(-1, 1).dtype(int64).stop_gradient(True),\n",
       " var C4 : LOD_TENSOR.shape(-1, 1).dtype(int64).stop_gradient(True),\n",
       " var C5 : LOD_TENSOR.shape(-1, 1).dtype(int64).stop_gradient(True),\n",
       " var C6 : LOD_TENSOR.shape(-1, 1).dtype(int64).stop_gradient(True),\n",
       " var C7 : LOD_TENSOR.shape(-1, 1).dtype(int64).stop_gradient(True),\n",
       " var C8 : LOD_TENSOR.shape(-1, 1).dtype(int64).stop_gradient(True),\n",
       " var C9 : LOD_TENSOR.shape(-1, 1).dtype(int64).stop_gradient(True),\n",
       " var C10 : LOD_TENSOR.shape(-1, 1).dtype(int64).stop_gradient(True),\n",
       " var C11 : LOD_TENSOR.shape(-1, 1).dtype(int64).stop_gradient(True),\n",
       " var C12 : LOD_TENSOR.shape(-1, 1).dtype(int64).stop_gradient(True),\n",
       " var C13 : LOD_TENSOR.shape(-1, 1).dtype(int64).stop_gradient(True),\n",
       " var C14 : LOD_TENSOR.shape(-1, 1).dtype(int64).stop_gradient(True),\n",
       " var C15 : LOD_TENSOR.shape(-1, 1).dtype(int64).stop_gradient(True),\n",
       " var C16 : LOD_TENSOR.shape(-1, 1).dtype(int64).stop_gradient(True),\n",
       " var C17 : LOD_TENSOR.shape(-1, 1).dtype(int64).stop_gradient(True),\n",
       " var C18 : LOD_TENSOR.shape(-1, 1).dtype(int64).stop_gradient(True),\n",
       " var C19 : LOD_TENSOR.shape(-1, 1).dtype(int64).stop_gradient(True),\n",
       " var C20 : LOD_TENSOR.shape(-1, 1).dtype(int64).stop_gradient(True),\n",
       " var C21 : LOD_TENSOR.shape(-1, 1).dtype(int64).stop_gradient(True),\n",
       " var C22 : LOD_TENSOR.shape(-1, 1).dtype(int64).stop_gradient(True),\n",
       " var C23 : LOD_TENSOR.shape(-1, 1).dtype(int64).stop_gradient(True),\n",
       " var C24 : LOD_TENSOR.shape(-1, 1).dtype(int64).stop_gradient(True),\n",
       " var C25 : LOD_TENSOR.shape(-1, 1).dtype(int64).stop_gradient(True),\n",
       " var C26 : LOD_TENSOR.shape(-1, 1).dtype(int64).stop_gradient(True),\n",
       " var C27 : LOD_TENSOR.shape(-1, 1).dtype(int64).stop_gradient(True)]"
      ]
     },
     "execution_count": 11,
     "metadata": {},
     "output_type": "execute_result"
    }
   ],
   "source": [
    "input_data = static_model_class.create_feeds()\n",
    "input_data"
   ]
  },
  {
   "cell_type": "code",
   "execution_count": 12,
   "id": "e4560e28-e91a-44b5-a48d-8ec1eef93e80",
   "metadata": {
    "execution": {
     "iopub.execute_input": "2023-06-22T13:13:21.395638Z",
     "iopub.status.busy": "2023-06-22T13:13:21.395216Z",
     "iopub.status.idle": "2023-06-22T13:13:21.405315Z",
     "shell.execute_reply": "2023-06-22T13:13:21.404036Z",
     "shell.execute_reply.started": "2023-06-22T13:13:21.395611Z"
    },
    "tags": []
   },
   "outputs": [
    {
     "data": {
      "text/plain": [
       "['label',\n",
       " 'C1',\n",
       " 'C2',\n",
       " 'C3',\n",
       " 'C4',\n",
       " 'C5',\n",
       " 'C6',\n",
       " 'C7',\n",
       " 'C8',\n",
       " 'C9',\n",
       " 'C10',\n",
       " 'C11',\n",
       " 'C12',\n",
       " 'C13',\n",
       " 'C14',\n",
       " 'C15',\n",
       " 'C16',\n",
       " 'C17',\n",
       " 'C18',\n",
       " 'C19',\n",
       " 'C20',\n",
       " 'C21',\n",
       " 'C22',\n",
       " 'C23',\n",
       " 'C24',\n",
       " 'C25',\n",
       " 'C26',\n",
       " 'C27']"
      ]
     },
     "execution_count": 12,
     "metadata": {},
     "output_type": "execute_result"
    }
   ],
   "source": [
    "input_data_names = [data.name for data in input_data]\n",
    "input_data_names"
   ]
  },
  {
   "cell_type": "code",
   "execution_count": 13,
   "id": "bf7359a8-2b53-491b-b618-ca817cc052dc",
   "metadata": {
    "execution": {
     "iopub.execute_input": "2023-06-22T13:13:21.407969Z",
     "iopub.status.busy": "2023-06-22T13:13:21.407473Z",
     "iopub.status.idle": "2023-06-22T13:13:21.548039Z",
     "shell.execute_reply": "2023-06-22T13:13:21.547195Z",
     "shell.execute_reply.started": "2023-06-22T13:13:21.407938Z"
    },
    "tags": []
   },
   "outputs": [],
   "source": [
    "fetch_vars = static_model_class.net(input_data)"
   ]
  },
  {
   "cell_type": "code",
   "execution_count": 14,
   "id": "5bed1211-56b6-4c66-9403-1ab8fc25155d",
   "metadata": {
    "execution": {
     "iopub.execute_input": "2023-06-22T13:13:21.554208Z",
     "iopub.status.busy": "2023-06-22T13:13:21.553885Z",
     "iopub.status.idle": "2023-06-22T13:13:21.559535Z",
     "shell.execute_reply": "2023-06-22T13:13:21.558649Z",
     "shell.execute_reply.started": "2023-06-22T13:13:21.554184Z"
    },
    "tags": []
   },
   "outputs": [
    {
     "data": {
      "text/plain": [
       "{'cost': var mean_0.tmp_0 : LOD_TENSOR.shape(1,).dtype(float32).stop_gradient(False),\n",
       " 'auc': var auc_0.tmp_0 : LOD_TENSOR.shape(1,).dtype(int64).stop_gradient(False)}"
      ]
     },
     "execution_count": 14,
     "metadata": {},
     "output_type": "execute_result"
    }
   ],
   "source": [
    "fetch_vars"
   ]
  },
  {
   "cell_type": "code",
   "execution_count": null,
   "id": "5794e96a-1b07-45ad-a59a-e0945ad648b1",
   "metadata": {},
   "outputs": [],
   "source": []
  },
  {
   "cell_type": "code",
   "execution_count": 15,
   "id": "3f9b3324-bf26-438d-807c-0ef86cf3d01f",
   "metadata": {
    "execution": {
     "iopub.execute_input": "2023-06-22T13:13:21.561091Z",
     "iopub.status.busy": "2023-06-22T13:13:21.560753Z",
     "iopub.status.idle": "2023-06-22T13:13:21.565821Z",
     "shell.execute_reply": "2023-06-22T13:13:21.564827Z",
     "shell.execute_reply.started": "2023-06-22T13:13:21.561069Z"
    },
    "tags": []
   },
   "outputs": [],
   "source": [
    "place = paddle.set_device(\"cpu\")"
   ]
  },
  {
   "cell_type": "code",
   "execution_count": 16,
   "id": "46286ab4-e0ea-4cd9-a7e4-458a05a7e74d",
   "metadata": {
    "execution": {
     "iopub.execute_input": "2023-06-22T13:13:21.568283Z",
     "iopub.status.busy": "2023-06-22T13:13:21.567659Z",
     "iopub.status.idle": "2023-06-22T13:13:21.652680Z",
     "shell.execute_reply": "2023-06-22T13:13:21.650873Z",
     "shell.execute_reply.started": "2023-06-22T13:13:21.568253Z"
    },
    "tags": []
   },
   "outputs": [],
   "source": [
    "static_model_class.create_optimizer()"
   ]
  },
  {
   "cell_type": "code",
   "execution_count": 17,
   "id": "e2c6cdac-b55b-4326-8b5e-26bbbc337a08",
   "metadata": {
    "execution": {
     "iopub.execute_input": "2023-06-22T13:13:21.654813Z",
     "iopub.status.busy": "2023-06-22T13:13:21.654386Z",
     "iopub.status.idle": "2023-06-22T13:13:21.660195Z",
     "shell.execute_reply": "2023-06-22T13:13:21.658949Z",
     "shell.execute_reply.started": "2023-06-22T13:13:21.654786Z"
    },
    "tags": []
   },
   "outputs": [],
   "source": [
    "exe = paddle.static.Executor(place)"
   ]
  },
  {
   "cell_type": "code",
   "execution_count": 18,
   "id": "35c5f0d5-8481-4ca5-b2e6-66a941e86431",
   "metadata": {
    "execution": {
     "iopub.execute_input": "2023-06-22T13:13:21.663291Z",
     "iopub.status.busy": "2023-06-22T13:13:21.662631Z",
     "iopub.status.idle": "2023-06-22T13:13:34.782059Z",
     "shell.execute_reply": "2023-06-22T13:13:34.780476Z",
     "shell.execute_reply.started": "2023-06-22T13:13:21.663258Z"
    },
    "tags": []
   },
   "outputs": [
    {
     "data": {
      "text/plain": [
       "[]"
      ]
     },
     "execution_count": 18,
     "metadata": {},
     "output_type": "execute_result"
    }
   ],
   "source": [
    "exe.run(paddle.static.default_startup_program())"
   ]
  },
  {
   "cell_type": "code",
   "execution_count": null,
   "id": "963da6da-c07b-411f-91df-2061c4523f95",
   "metadata": {},
   "outputs": [],
   "source": []
  },
  {
   "cell_type": "code",
   "execution_count": 19,
   "id": "d3b71f46-e557-4726-9cd6-0d2b91fed043",
   "metadata": {
    "execution": {
     "iopub.execute_input": "2023-06-22T13:13:34.784499Z",
     "iopub.status.busy": "2023-06-22T13:13:34.784145Z",
     "iopub.status.idle": "2023-06-22T13:13:34.791804Z",
     "shell.execute_reply": "2023-06-22T13:13:34.790627Z",
     "shell.execute_reply.started": "2023-06-22T13:13:34.784460Z"
    },
    "tags": []
   },
   "outputs": [],
   "source": [
    "last_epoch_id = -1\n",
    "step_num = 0"
   ]
  },
  {
   "cell_type": "code",
   "execution_count": null,
   "id": "af9972fe-ac2f-4f24-9237-a3dc152c1f7a",
   "metadata": {},
   "outputs": [],
   "source": []
  },
  {
   "cell_type": "code",
   "execution_count": 20,
   "id": "49ed65de-92d2-4572-9194-d47821940ce4",
   "metadata": {
    "execution": {
     "iopub.execute_input": "2023-06-22T13:13:34.793648Z",
     "iopub.status.busy": "2023-06-22T13:13:34.793254Z",
     "iopub.status.idle": "2023-06-22T13:13:34.810973Z",
     "shell.execute_reply": "2023-06-22T13:13:34.809488Z",
     "shell.execute_reply.started": "2023-06-22T13:13:34.793621Z"
    },
    "tags": []
   },
   "outputs": [
    {
     "name": "stdout",
     "output_type": "stream",
     "text": [
      "File list: ['../data/data205411/2023-cvr-contest-data/train_data/file_27.txt', '../data/data205411/2023-cvr-contest-data/train_data/file_26.txt', '../data/data205411/2023-cvr-contest-data/train_data/file_18.txt', '../data/data205411/2023-cvr-contest-data/train_data/file_24.txt', '../data/data205411/2023-cvr-contest-data/train_data/file_30.txt', '../data/data205411/2023-cvr-contest-data/train_data/file_25.txt', '../data/data205411/2023-cvr-contest-data/train_data/file_19.txt', '../data/data205411/2023-cvr-contest-data/train_data/file_21.txt', '../data/data205411/2023-cvr-contest-data/train_data/file_09.txt', '../data/data205411/2023-cvr-contest-data/train_data/file_08.txt', '../data/data205411/2023-cvr-contest-data/train_data/file_20.txt', '../data/data205411/2023-cvr-contest-data/train_data/file_22.txt', '../data/data205411/2023-cvr-contest-data/train_data/file_23.txt', '../data/data205411/2023-cvr-contest-data/train_data/file_12.txt', '../data/data205411/2023-cvr-contest-data/train_data/file_06.txt', '../data/data205411/2023-cvr-contest-data/train_data/file_07.txt', '../data/data205411/2023-cvr-contest-data/train_data/file_13.txt', '../data/data205411/2023-cvr-contest-data/train_data/file_05.txt', '../data/data205411/2023-cvr-contest-data/train_data/file_11.txt', '../data/data205411/2023-cvr-contest-data/train_data/file_10.txt', '../data/data205411/2023-cvr-contest-data/train_data/file_04.txt', '../data/data205411/2023-cvr-contest-data/train_data/file_14.txt', '../data/data205411/2023-cvr-contest-data/train_data/file_28.txt', '../data/data205411/2023-cvr-contest-data/train_data/file_29.txt', '../data/data205411/2023-cvr-contest-data/train_data/file_15.txt', '../data/data205411/2023-cvr-contest-data/train_data/file_01.txt', '../data/data205411/2023-cvr-contest-data/train_data/file_17.txt', '../data/data205411/2023-cvr-contest-data/train_data/file_03.txt', '../data/data205411/2023-cvr-contest-data/train_data/file_02.txt', '../data/data205411/2023-cvr-contest-data/train_data/file_16.txt']\n",
      "train file_list: ['../data/data205411/2023-cvr-contest-data/train_data/file_27.txt', '../data/data205411/2023-cvr-contest-data/train_data/file_26.txt', '../data/data205411/2023-cvr-contest-data/train_data/file_18.txt', '../data/data205411/2023-cvr-contest-data/train_data/file_24.txt', '../data/data205411/2023-cvr-contest-data/train_data/file_30.txt', '../data/data205411/2023-cvr-contest-data/train_data/file_25.txt', '../data/data205411/2023-cvr-contest-data/train_data/file_19.txt', '../data/data205411/2023-cvr-contest-data/train_data/file_21.txt', '../data/data205411/2023-cvr-contest-data/train_data/file_09.txt', '../data/data205411/2023-cvr-contest-data/train_data/file_08.txt', '../data/data205411/2023-cvr-contest-data/train_data/file_20.txt', '../data/data205411/2023-cvr-contest-data/train_data/file_22.txt', '../data/data205411/2023-cvr-contest-data/train_data/file_23.txt', '../data/data205411/2023-cvr-contest-data/train_data/file_12.txt', '../data/data205411/2023-cvr-contest-data/train_data/file_06.txt', '../data/data205411/2023-cvr-contest-data/train_data/file_07.txt', '../data/data205411/2023-cvr-contest-data/train_data/file_13.txt', '../data/data205411/2023-cvr-contest-data/train_data/file_05.txt', '../data/data205411/2023-cvr-contest-data/train_data/file_11.txt', '../data/data205411/2023-cvr-contest-data/train_data/file_10.txt', '../data/data205411/2023-cvr-contest-data/train_data/file_04.txt', '../data/data205411/2023-cvr-contest-data/train_data/file_14.txt', '../data/data205411/2023-cvr-contest-data/train_data/file_28.txt', '../data/data205411/2023-cvr-contest-data/train_data/file_29.txt', '../data/data205411/2023-cvr-contest-data/train_data/file_15.txt', '../data/data205411/2023-cvr-contest-data/train_data/file_01.txt', '../data/data205411/2023-cvr-contest-data/train_data/file_17.txt', '../data/data205411/2023-cvr-contest-data/train_data/file_03.txt', '../data/data205411/2023-cvr-contest-data/train_data/file_02.txt', '../data/data205411/2023-cvr-contest-data/train_data/file_16.txt']\n",
      "pipe_command is: python3 queuedataset_reader.py\n",
      "dataset init thread_num: 1\n",
      "Get Train Dataset\n",
      "dataset get_reader thread_num: 1\n"
     ]
    }
   ],
   "source": [
    "dataset, file_list = get_reader(input_data)"
   ]
  },
  {
   "cell_type": "code",
   "execution_count": null,
   "id": "19fb32ec-bef6-4e36-a184-e8a8889b0d7d",
   "metadata": {},
   "outputs": [],
   "source": []
  },
  {
   "cell_type": "code",
   "execution_count": 21,
   "id": "53d46076-2dbb-435d-a733-9f6e4ed5fd56",
   "metadata": {
    "execution": {
     "iopub.execute_input": "2023-06-22T13:11:54.899108Z",
     "iopub.status.busy": "2023-06-22T13:11:54.898725Z",
     "iopub.status.idle": "2023-06-22T13:11:54.953757Z",
     "shell.execute_reply": "2023-06-22T13:11:54.952750Z",
     "shell.execute_reply.started": "2023-06-22T13:11:54.899079Z"
    },
    "tags": []
   },
   "outputs": [
    {
     "name": "stdout",
     "output_type": "stream",
     "text": [
      "device worker program id: 4875610480\n"
     ]
    }
   ],
   "source": [
    "for epoch_id in range(last_epoch_id + 1, 1):\n",
    "    fetch_batch_var = dataset_train(epoch_id, dataset, fetch_vars, exe)"
   ]
  },
  {
   "cell_type": "code",
   "execution_count": 22,
   "id": "106cd05c-08b2-451c-86c2-dd2e7ca23824",
   "metadata": {
    "execution": {
     "iopub.execute_input": "2023-06-22T13:12:33.519439Z",
     "iopub.status.busy": "2023-06-22T13:12:33.519077Z",
     "iopub.status.idle": "2023-06-22T13:12:33.529426Z",
     "shell.execute_reply": "2023-06-22T13:12:33.528622Z",
     "shell.execute_reply.started": "2023-06-22T13:12:33.519394Z"
    },
    "tags": []
   },
   "outputs": [],
   "source": [
    "fetch_batch_var"
   ]
  },
  {
   "cell_type": "code",
   "execution_count": null,
   "id": "43e4ba44-7100-427f-8816-5ae703c94b4e",
   "metadata": {},
   "outputs": [],
   "source": []
  },
  {
   "cell_type": "code",
   "execution_count": null,
   "id": "01a14759-c34a-4e6d-bdc7-987291417ff0",
   "metadata": {},
   "outputs": [],
   "source": []
  },
  {
   "cell_type": "code",
   "execution_count": 17,
   "id": "404ebaef-e974-4eea-8feb-a6dc629efe8c",
   "metadata": {
    "execution": {
     "iopub.execute_input": "2023-06-23T12:27:38.440893Z",
     "iopub.status.busy": "2023-06-23T12:27:38.440287Z",
     "iopub.status.idle": "2023-06-23T12:27:38.462177Z",
     "shell.execute_reply": "2023-06-23T12:27:38.460971Z",
     "shell.execute_reply.started": "2023-06-23T12:27:38.440864Z"
    },
    "tags": []
   },
   "outputs": [],
   "source": [
    "x = paddle.to_tensor([[1, 2, 3], [4, 5, 6]], dtype=\"float32\")"
   ]
  },
  {
   "cell_type": "code",
   "execution_count": 18,
   "id": "bfc81972-3f26-4e8a-9123-3c571faa81f7",
   "metadata": {
    "execution": {
     "iopub.execute_input": "2023-06-23T12:27:38.762184Z",
     "iopub.status.busy": "2023-06-23T12:27:38.761831Z",
     "iopub.status.idle": "2023-06-23T12:27:38.766069Z",
     "shell.execute_reply": "2023-06-23T12:27:38.765225Z",
     "shell.execute_reply.started": "2023-06-23T12:27:38.762157Z"
    },
    "tags": []
   },
   "outputs": [],
   "source": [
    "x0 = x.unsqueeze(-1)"
   ]
  },
  {
   "cell_type": "code",
   "execution_count": 19,
   "id": "0a2c2bad-6f7c-4d46-8ded-752920c14eef",
   "metadata": {
    "execution": {
     "iopub.execute_input": "2023-06-23T12:27:39.021580Z",
     "iopub.status.busy": "2023-06-23T12:27:39.021217Z",
     "iopub.status.idle": "2023-06-23T12:27:39.027905Z",
     "shell.execute_reply": "2023-06-23T12:27:39.026946Z",
     "shell.execute_reply.started": "2023-06-23T12:27:39.021551Z"
    },
    "tags": []
   },
   "outputs": [
    {
     "data": {
      "text/plain": [
       "Tensor(shape=[2, 3, 1], dtype=float32, place=Place(cpu), stop_gradient=True,\n",
       "       [[[1.],\n",
       "         [2.],\n",
       "         [3.]],\n",
       "\n",
       "        [[4.],\n",
       "         [5.],\n",
       "         [6.]]])"
      ]
     },
     "execution_count": 19,
     "metadata": {},
     "output_type": "execute_result"
    }
   ],
   "source": [
    "xl = x0\n",
    "xl"
   ]
  },
  {
   "cell_type": "code",
   "execution_count": 20,
   "id": "6ab6058a-8c78-45b5-b518-baeed3599d73",
   "metadata": {
    "execution": {
     "iopub.execute_input": "2023-06-23T12:27:41.364064Z",
     "iopub.status.busy": "2023-06-23T12:27:41.363513Z",
     "iopub.status.idle": "2023-06-23T12:27:41.374819Z",
     "shell.execute_reply": "2023-06-23T12:27:41.373958Z",
     "shell.execute_reply.started": "2023-06-23T12:27:41.364031Z"
    },
    "tags": []
   },
   "outputs": [
    {
     "data": {
      "text/plain": [
       "Tensor(shape=[2, 1, 3], dtype=float32, place=Place(cpu), stop_gradient=True,\n",
       "       [[[1., 2., 3.]],\n",
       "\n",
       "        [[4., 5., 6.]]])"
      ]
     },
     "execution_count": 20,
     "metadata": {},
     "output_type": "execute_result"
    }
   ],
   "source": [
    "xl_T = paddle.transpose(xl, perm=(0, 2, 1))\n",
    "xl_T"
   ]
  },
  {
   "cell_type": "code",
   "execution_count": 21,
   "id": "940f22f1-2f1f-4de7-987e-09763ba81fa3",
   "metadata": {
    "execution": {
     "iopub.execute_input": "2023-06-23T12:27:42.794979Z",
     "iopub.status.busy": "2023-06-23T12:27:42.794373Z",
     "iopub.status.idle": "2023-06-23T12:27:42.799396Z",
     "shell.execute_reply": "2023-06-23T12:27:42.798558Z",
     "shell.execute_reply.started": "2023-06-23T12:27:42.794952Z"
    },
    "tags": []
   },
   "outputs": [],
   "source": [
    "cross_network = paddle.nn.Linear(\n",
    "    in_features=3, out_features=1\n",
    ")"
   ]
  },
  {
   "cell_type": "code",
   "execution_count": null,
   "id": "f6aaae54-8fce-491d-ae13-998e54b461ec",
   "metadata": {},
   "outputs": [],
   "source": []
  },
  {
   "cell_type": "code",
   "execution_count": 24,
   "id": "afc86ce5-a3b4-4a0a-b115-463f07a061c9",
   "metadata": {
    "execution": {
     "iopub.execute_input": "2023-06-23T12:27:45.121921Z",
     "iopub.status.busy": "2023-06-23T12:27:45.121474Z",
     "iopub.status.idle": "2023-06-23T12:27:45.128893Z",
     "shell.execute_reply": "2023-06-23T12:27:45.128107Z",
     "shell.execute_reply.started": "2023-06-23T12:27:45.121892Z"
    },
    "tags": []
   },
   "outputs": [
    {
     "data": {
      "text/plain": [
       "Tensor(shape=[2, 3, 3], dtype=float32, place=Place(cpu), stop_gradient=True,\n",
       "       [[[1. , 2. , 3. ],\n",
       "         [2. , 4. , 6. ],\n",
       "         [3. , 6. , 9. ]],\n",
       "\n",
       "        [[16., 20., 24.],\n",
       "         [20., 25., 30.],\n",
       "         [24., 30., 36.]]])"
      ]
     },
     "execution_count": 24,
     "metadata": {},
     "output_type": "execute_result"
    }
   ],
   "source": [
    "paddle.matmul(x0, xl_T)"
   ]
  },
  {
   "cell_type": "code",
   "execution_count": 27,
   "id": "670aaebf-07bc-4411-a430-d5421119e71b",
   "metadata": {
    "execution": {
     "iopub.execute_input": "2023-06-23T12:28:31.802084Z",
     "iopub.status.busy": "2023-06-23T12:28:31.801448Z",
     "iopub.status.idle": "2023-06-23T12:28:31.811627Z",
     "shell.execute_reply": "2023-06-23T12:28:31.810777Z",
     "shell.execute_reply.started": "2023-06-23T12:28:31.802055Z"
    },
    "tags": []
   },
   "outputs": [
    {
     "data": {
      "text/plain": [
       "Tensor(shape=[2, 3], dtype=float32, place=Place(cpu), stop_gradient=False,\n",
       "       [[2.77003670 , 5.54007339 , 8.31011009 ],\n",
       "        [27.47306442, 34.34133148, 41.20959473]])"
      ]
     },
     "execution_count": 27,
     "metadata": {},
     "output_type": "execute_result"
    }
   ],
   "source": [
    "(cross_network(paddle.matmul(x0, xl_T)) + xl).squeeze(-1)"
   ]
  },
  {
   "cell_type": "code",
   "execution_count": null,
   "id": "56b7e36a-bf43-46e9-97a0-11af5258b07c",
   "metadata": {},
   "outputs": [],
   "source": []
  },
  {
   "cell_type": "code",
   "execution_count": 46,
   "id": "0e4189ab-be8a-4e64-a6aa-ab450cd8c567",
   "metadata": {
    "execution": {
     "iopub.execute_input": "2023-06-23T13:08:47.053323Z",
     "iopub.status.busy": "2023-06-23T13:08:47.052967Z",
     "iopub.status.idle": "2023-06-23T13:08:47.060694Z",
     "shell.execute_reply": "2023-06-23T13:08:47.059103Z",
     "shell.execute_reply.started": "2023-06-23T13:08:47.053294Z"
    },
    "tags": []
   },
   "outputs": [
    {
     "data": {
      "text/plain": [
       "Parameter containing:\n",
       "Tensor(shape=[1, 1], dtype=float32, place=Place(cpu), stop_gradient=False,\n",
       "       [[-0.15144837]])"
      ]
     },
     "execution_count": 46,
     "metadata": {},
     "output_type": "execute_result"
    }
   ],
   "source": [
    "w0 = paddle.create_parameter(shape=[1,1], dtype=\"float32\")\n",
    "w0"
   ]
  },
  {
   "cell_type": "code",
   "execution_count": 39,
   "id": "54ab7782-c0ec-4bf7-aa8b-595e17f56426",
   "metadata": {
    "execution": {
     "iopub.execute_input": "2023-06-23T13:07:09.074821Z",
     "iopub.status.busy": "2023-06-23T13:07:09.074169Z",
     "iopub.status.idle": "2023-06-23T13:07:09.082869Z",
     "shell.execute_reply": "2023-06-23T13:07:09.081908Z",
     "shell.execute_reply.started": "2023-06-23T13:07:09.074788Z"
    },
    "tags": []
   },
   "outputs": [
    {
     "data": {
      "text/plain": [
       "Tensor(shape=[2, 1], dtype=float32, place=Place(cpu), stop_gradient=False,\n",
       "       [[-0.82814622],\n",
       "        [-0.82814622]])"
      ]
     },
     "execution_count": 39,
     "metadata": {},
     "output_type": "execute_result"
    }
   ],
   "source": [
    "w0.expand(shape=(2, 1))"
   ]
  },
  {
   "cell_type": "code",
   "execution_count": 40,
   "id": "ef613a2e-6f6f-440f-a975-755aa9ec6d1e",
   "metadata": {
    "execution": {
     "iopub.execute_input": "2023-06-23T13:07:09.635093Z",
     "iopub.status.busy": "2023-06-23T13:07:09.634747Z",
     "iopub.status.idle": "2023-06-23T13:07:09.642295Z",
     "shell.execute_reply": "2023-06-23T13:07:09.641296Z",
     "shell.execute_reply.started": "2023-06-23T13:07:09.635066Z"
    },
    "tags": []
   },
   "outputs": [
    {
     "data": {
      "text/plain": [
       "Tensor(shape=[2, 3], dtype=float32, place=Place(cpu), stop_gradient=True,\n",
       "       [[1., 2., 3.],\n",
       "        [4., 5., 6.]])"
      ]
     },
     "execution_count": 40,
     "metadata": {},
     "output_type": "execute_result"
    }
   ],
   "source": [
    "x"
   ]
  },
  {
   "cell_type": "code",
   "execution_count": 45,
   "id": "21abc51a-3bb3-4ff7-ab5a-84415208eeab",
   "metadata": {
    "execution": {
     "iopub.execute_input": "2023-06-23T13:07:42.989367Z",
     "iopub.status.busy": "2023-06-23T13:07:42.988993Z",
     "iopub.status.idle": "2023-06-23T13:07:42.998621Z",
     "shell.execute_reply": "2023-06-23T13:07:42.997860Z",
     "shell.execute_reply.started": "2023-06-23T13:07:42.989338Z"
    },
    "tags": []
   },
   "outputs": [
    {
     "data": {
      "text/plain": [
       "Tensor(shape=[2, 4], dtype=float32, place=Place(cpu), stop_gradient=False,\n",
       "       [[-0.82814622,  1.        ,  2.        ,  3.        ],\n",
       "        [-0.82814622,  4.        ,  5.        ,  6.        ]])"
      ]
     },
     "execution_count": 45,
     "metadata": {},
     "output_type": "execute_result"
    }
   ],
   "source": [
    "paddle.concat([w0.expand(shape=(2, 1)), x], axis=-1)"
   ]
  },
  {
   "cell_type": "code",
   "execution_count": null,
   "id": "ffb7920b-7a9e-4d6f-85e5-04fa5999389b",
   "metadata": {},
   "outputs": [],
   "source": []
  },
  {
   "cell_type": "code",
   "execution_count": 18,
   "id": "1683b274-bfe2-4aef-a0ea-5d16b190b286",
   "metadata": {
    "execution": {
     "iopub.execute_input": "2023-06-23T14:16:53.407563Z",
     "iopub.status.busy": "2023-06-23T14:16:53.406867Z",
     "iopub.status.idle": "2023-06-23T14:16:53.414161Z",
     "shell.execute_reply": "2023-06-23T14:16:53.413194Z",
     "shell.execute_reply.started": "2023-06-23T14:16:53.407533Z"
    },
    "scrolled": true,
    "tags": []
   },
   "outputs": [
    {
     "data": {
      "text/plain": [
       "Tensor(shape=[3, 15], dtype=float32, place=Place(cpu), stop_gradient=True,\n",
       "       [[0.64861107, 0.33811730, 0.66795737, 0.55047876, 0.53967911, 0.96403658,\n",
       "         0.40827477, 0.38332576, 0.45271787, 0.89102578, 0.22485089, 0.32955831,\n",
       "         0.11219117, 0.54765588, 0.51901442],\n",
       "        [0.67763549, 0.22279523, 0.23241772, 0.32972619, 0.25060549, 0.24740583,\n",
       "         0.30024922, 0.39849868, 0.81412715, 0.31648001, 0.45057923, 0.28084281,\n",
       "         0.50915974, 0.77315301, 0.97476274],\n",
       "        [0.89788783, 0.50603282, 0.61585224, 0.04976138, 0.14215194, 0.92916489,\n",
       "         0.93003160, 0.64014935, 0.73386419, 0.85679454, 0.07925825, 0.06251020,\n",
       "         0.62031645, 0.18634364, 0.09363453]])"
      ]
     },
     "execution_count": 18,
     "metadata": {},
     "output_type": "execute_result"
    }
   ],
   "source": [
    "x = paddle.rand(shape=[3, 5*3])\n",
    "x"
   ]
  },
  {
   "cell_type": "code",
   "execution_count": 20,
   "id": "6c768053-a302-4fde-aefc-bfd12ce25bef",
   "metadata": {
    "execution": {
     "iopub.execute_input": "2023-06-23T14:17:26.877551Z",
     "iopub.status.busy": "2023-06-23T14:17:26.877176Z",
     "iopub.status.idle": "2023-06-23T14:17:26.886024Z",
     "shell.execute_reply": "2023-06-23T14:17:26.885165Z",
     "shell.execute_reply.started": "2023-06-23T14:17:26.877522Z"
    },
    "tags": []
   },
   "outputs": [
    {
     "data": {
      "text/plain": [
       "Tensor(shape=[3, 3, 5], dtype=float32, place=Place(cpu), stop_gradient=True,\n",
       "       [[[0.64861107, 0.55047876, 0.40827477, 0.89102578, 0.11219117],\n",
       "         [0.33811730, 0.53967911, 0.38332576, 0.22485089, 0.54765588],\n",
       "         [0.66795737, 0.96403658, 0.45271787, 0.32955831, 0.51901442]],\n",
       "\n",
       "        [[0.67763549, 0.32972619, 0.30024922, 0.31648001, 0.50915974],\n",
       "         [0.22279523, 0.25060549, 0.39849868, 0.45057923, 0.77315301],\n",
       "         [0.23241772, 0.24740583, 0.81412715, 0.28084281, 0.97476274]],\n",
       "\n",
       "        [[0.89788783, 0.04976138, 0.93003160, 0.85679454, 0.62031645],\n",
       "         [0.50603282, 0.14215194, 0.64014935, 0.07925825, 0.18634364],\n",
       "         [0.61585224, 0.92916489, 0.73386419, 0.06251020, 0.09363453]]])"
      ]
     },
     "execution_count": 20,
     "metadata": {},
     "output_type": "execute_result"
    }
   ],
   "source": [
    "# field=5, embedding_dim=3\n",
    "f = x.reshape(shape=[-1, 5, 3]).transpose(perm=(0, 2, 1))\n",
    "f"
   ]
  },
  {
   "cell_type": "code",
   "execution_count": 21,
   "id": "755bce60-ed9b-4819-b225-3c2e64199da6",
   "metadata": {
    "execution": {
     "iopub.execute_input": "2023-06-23T14:17:50.766255Z",
     "iopub.status.busy": "2023-06-23T14:17:50.765630Z",
     "iopub.status.idle": "2023-06-23T14:17:50.773308Z",
     "shell.execute_reply": "2023-06-23T14:17:50.771919Z",
     "shell.execute_reply.started": "2023-06-23T14:17:50.766225Z"
    },
    "tags": []
   },
   "outputs": [
    {
     "data": {
      "text/plain": [
       "Tensor(shape=[3, 5, 3], dtype=float32, place=Place(cpu), stop_gradient=True,\n",
       "       [[[0.64861107, 0.33811730, 0.66795737],\n",
       "         [0.55047876, 0.53967911, 0.96403658],\n",
       "         [0.40827477, 0.38332576, 0.45271787],\n",
       "         [0.89102578, 0.22485089, 0.32955831],\n",
       "         [0.11219117, 0.54765588, 0.51901442]],\n",
       "\n",
       "        [[0.67763549, 0.22279523, 0.23241772],\n",
       "         [0.32972619, 0.25060549, 0.24740583],\n",
       "         [0.30024922, 0.39849868, 0.81412715],\n",
       "         [0.31648001, 0.45057923, 0.28084281],\n",
       "         [0.50915974, 0.77315301, 0.97476274]],\n",
       "\n",
       "        [[0.89788783, 0.50603282, 0.61585224],\n",
       "         [0.04976138, 0.14215194, 0.92916489],\n",
       "         [0.93003160, 0.64014935, 0.73386419],\n",
       "         [0.85679454, 0.07925825, 0.06251020],\n",
       "         [0.62031645, 0.18634364, 0.09363453]]])"
      ]
     },
     "execution_count": 21,
     "metadata": {},
     "output_type": "execute_result"
    }
   ],
   "source": [
    "f_prime = f.transpose(perm=(0, 2, 1))\n",
    "f_prime"
   ]
  },
  {
   "cell_type": "code",
   "execution_count": 23,
   "id": "4c233622-d595-434b-8b83-f18c1037da23",
   "metadata": {
    "execution": {
     "iopub.execute_input": "2023-06-23T14:18:16.461172Z",
     "iopub.status.busy": "2023-06-23T14:18:16.460736Z",
     "iopub.status.idle": "2023-06-23T14:18:16.469044Z",
     "shell.execute_reply": "2023-06-23T14:18:16.468095Z",
     "shell.execute_reply.started": "2023-06-23T14:18:16.461140Z"
    },
    "tags": []
   },
   "outputs": [
    {
     "data": {
      "text/plain": [
       "Tensor(shape=[3, 5, 5], dtype=float32, place=Place(cpu), stop_gradient=True,\n",
       "       [[[0.98118669, 1.18345678, 0.69681686, 0.87408608, 0.60461986],\n",
       "         [1.18345678, 1.52364695, 0.86805606, 0.92954439, 0.85766619],\n",
       "         [0.69681686, 0.86805606, 0.51858038, 0.59917146, 0.49070254],\n",
       "         [0.87408608, 0.92954439, 0.59917146, 0.95309353, 0.39415166],\n",
       "         [0.60461986, 0.85766619, 0.49070254, 0.39415166, 0.58188981]],\n",
       "\n",
       "        [[0.56284559, 0.33676937, 0.48146072, 0.38011783, 0.74383163],\n",
       "         [0.33676937, 0.23273212, 0.40028578, 0.28675154, 0.60280168],\n",
       "         [0.48146072, 0.40028578, 0.91175383, 0.50321984, 1.25455606],\n",
       "         [0.38011783, 0.28675154, 0.50321984, 0.38205391, 0.78326070],\n",
       "         [0.74383163, 0.60280168, 1.25455606, 0.78326070, 1.80717158]],\n",
       "\n",
       "        [[1.44154572, 0.68884194, 1.61095250, 0.84790969, 0.70893562],\n",
       "         [0.68884194, 0.88603073, 0.81915897, 0.11198428, 0.14435883],\n",
       "         [1.61095250, 0.81915897, 1.81330669, 0.89345711, 0.76491672],\n",
       "         [0.84790969, 0.11198428, 0.89345711, 0.74428624, 0.55210614],\n",
       "         [0.70893562, 0.14435883, 0.76491672, 0.55210614, 0.42828387]]])"
      ]
     },
     "execution_count": 23,
     "metadata": {},
     "output_type": "execute_result"
    }
   ],
   "source": [
    "p = paddle.matmul(f_prime, f)\n",
    "p"
   ]
  },
  {
   "cell_type": "code",
   "execution_count": null,
   "id": "71d65501-14f9-4e8c-91e6-2ae67a7ef04f",
   "metadata": {},
   "outputs": [],
   "source": []
  },
  {
   "cell_type": "code",
   "execution_count": 23,
   "id": "f19d7088-9dfd-4d42-aa6b-b3733cb0b439",
   "metadata": {
    "execution": {
     "iopub.execute_input": "2023-06-24T09:10:01.813484Z",
     "iopub.status.busy": "2023-06-24T09:10:01.812872Z",
     "iopub.status.idle": "2023-06-24T09:10:01.823614Z",
     "shell.execute_reply": "2023-06-24T09:10:01.822791Z",
     "shell.execute_reply.started": "2023-06-24T09:10:01.813455Z"
    },
    "tags": []
   },
   "outputs": [],
   "source": [
    "paddle.disable_static()"
   ]
  },
  {
   "cell_type": "code",
   "execution_count": 24,
   "id": "bb470483-5052-4e07-a3c1-7b9dd0637535",
   "metadata": {
    "execution": {
     "iopub.execute_input": "2023-06-24T09:10:01.979707Z",
     "iopub.status.busy": "2023-06-24T09:10:01.979076Z",
     "iopub.status.idle": "2023-06-24T09:10:01.986235Z",
     "shell.execute_reply": "2023-06-24T09:10:01.985201Z",
     "shell.execute_reply.started": "2023-06-24T09:10:01.979681Z"
    },
    "tags": []
   },
   "outputs": [
    {
     "data": {
      "text/plain": [
       "Tensor(shape=[3, 2], dtype=float32, place=Place(cpu), stop_gradient=True,\n",
       "       [[1., 2.],\n",
       "        [3., 3.],\n",
       "        [5., 3.]])"
      ]
     },
     "execution_count": 24,
     "metadata": {},
     "output_type": "execute_result"
    }
   ],
   "source": [
    "a = paddle.to_tensor([[1, 2], [3, 3], [5, 3]], dtype=\"float32\")\n",
    "a"
   ]
  },
  {
   "cell_type": "code",
   "execution_count": 25,
   "id": "3d52fbb2-c712-4890-8ee6-4a8340161b1a",
   "metadata": {
    "execution": {
     "iopub.execute_input": "2023-06-24T09:10:02.710088Z",
     "iopub.status.busy": "2023-06-24T09:10:02.709281Z",
     "iopub.status.idle": "2023-06-24T09:10:02.715935Z",
     "shell.execute_reply": "2023-06-24T09:10:02.715161Z",
     "shell.execute_reply.started": "2023-06-24T09:10:02.710058Z"
    },
    "tags": []
   },
   "outputs": [
    {
     "data": {
      "text/plain": [
       "Tensor(shape=[3, 2], dtype=float32, place=Place(cpu), stop_gradient=True,\n",
       "       [[0.26894143, 0.73105860],\n",
       "        [0.50000000, 0.50000000],\n",
       "        [0.88079703, 0.11920291]])"
      ]
     },
     "execution_count": 25,
     "metadata": {},
     "output_type": "execute_result"
    }
   ],
   "source": [
    "softmax_a = paddle.nn.functional.softmax(a)\n",
    "softmax_a"
   ]
  },
  {
   "cell_type": "code",
   "execution_count": 26,
   "id": "c3dfe25e-5363-415b-bc79-ca4bd68ec448",
   "metadata": {
    "execution": {
     "iopub.execute_input": "2023-06-24T09:10:02.845517Z",
     "iopub.status.busy": "2023-06-24T09:10:02.844887Z",
     "iopub.status.idle": "2023-06-24T09:10:02.851340Z",
     "shell.execute_reply": "2023-06-24T09:10:02.850577Z",
     "shell.execute_reply.started": "2023-06-24T09:10:02.845490Z"
    },
    "tags": []
   },
   "outputs": [
    {
     "data": {
      "text/plain": [
       "Tensor(shape=[3, 1], dtype=float32, place=Place(cpu), stop_gradient=True,\n",
       "       [[0.73105860],\n",
       "        [0.50000000],\n",
       "        [0.11920291]])"
      ]
     },
     "execution_count": 26,
     "metadata": {},
     "output_type": "execute_result"
    }
   ],
   "source": [
    "paddle.slice(softmax_a, axes=[1], starts=[1], ends=[2])"
   ]
  },
  {
   "cell_type": "code",
   "execution_count": 27,
   "id": "4dedc9c3-94ce-4923-bb60-ce61b4f33747",
   "metadata": {
    "execution": {
     "iopub.execute_input": "2023-06-24T09:10:04.248010Z",
     "iopub.status.busy": "2023-06-24T09:10:04.247650Z",
     "iopub.status.idle": "2023-06-24T09:10:04.254970Z",
     "shell.execute_reply": "2023-06-24T09:10:04.253446Z",
     "shell.execute_reply.started": "2023-06-24T09:10:04.247981Z"
    },
    "tags": []
   },
   "outputs": [
    {
     "data": {
      "text/plain": [
       "Tensor(shape=[3, 1], dtype=float32, place=Place(cpu), stop_gradient=True,\n",
       "       [[1.],\n",
       "        [0.],\n",
       "        [0.]])"
      ]
     },
     "execution_count": 27,
     "metadata": {},
     "output_type": "execute_result"
    }
   ],
   "source": [
    "label = paddle.to_tensor([[1], [0], [0]], dtype=\"float32\")\n",
    "label"
   ]
  },
  {
   "cell_type": "code",
   "execution_count": null,
   "id": "ea39c39f-9e57-4bdb-880b-9af998e6ad17",
   "metadata": {},
   "outputs": [],
   "source": []
  },
  {
   "cell_type": "code",
   "execution_count": null,
   "id": "311e5a9a-999d-484c-828c-38002ceb77d8",
   "metadata": {},
   "outputs": [],
   "source": []
  },
  {
   "cell_type": "code",
   "execution_count": 35,
   "id": "d05a48a0-a20a-453a-a71a-dbd41832877d",
   "metadata": {
    "execution": {
     "iopub.execute_input": "2023-06-25T08:17:41.274952Z",
     "iopub.status.busy": "2023-06-25T08:17:41.274350Z",
     "iopub.status.idle": "2023-06-25T08:17:41.294462Z",
     "shell.execute_reply": "2023-06-25T08:17:41.293531Z",
     "shell.execute_reply.started": "2023-06-25T08:17:41.274922Z"
    },
    "tags": []
   },
   "outputs": [],
   "source": [
    "logging.basicConfig(\n",
    "    format='%(asctime)s - %(levelname)s - %(message)s', level=logging.INFO)\n",
    "logger = logging.getLogger(__name__)\n",
    "\n",
    "\n",
    "class RecDataset(IterableDataset):\n",
    "    def __init__(self, file_list, config):\n",
    "        super().__init__()\n",
    "        self.file_list = file_list\n",
    "        self.max_len = config[\"runner\"][\"max_len\"]\n",
    "        self.init()\n",
    "\n",
    "    def init(self):\n",
    "        padding = 0\n",
    "        sparse_slots = \"log_key click 1 2 3 4 5 6 7 8 9 10 11 12 13 14 15 16 17 18 19 20 21 22 23 24 25 26\"\n",
    "        self.sparse_slots = sparse_slots.strip().split(\" \")\n",
    "        self.dense_slots = [\"dense_feature\"]\n",
    "        self.dense_slots_shape = [13]\n",
    "        self.slots = self.sparse_slots\n",
    "        self.slot2index = {}\n",
    "        self.visit = {}\n",
    "\n",
    "        for i in range(len(self.slots)):\n",
    "            self.slot2index[self.slots[i]] = i\n",
    "            self.visit[self.slots[i]] = False\n",
    "\n",
    "        self.padding = padding\n",
    "\n",
    "    def __iter__(self):\n",
    "        for file in self.file_list:\n",
    "            with open(file, \"r\") as rf:\n",
    "                for line in rf:\n",
    "                    items = line.strip(\"\\n\").split(\"\\t\")\n",
    "                    log_key = int(items[0])\n",
    "                    conv1 = items[1]\n",
    "                    conv2 = items[2]\n",
    "                    conv3 = items[3]\n",
    "\n",
    "                    if conv1 == \"1\" or conv2 == \"1\" or conv3 == \"1\":\n",
    "                        conv = 1\n",
    "                    else:\n",
    "                        conv = 0\n",
    "\n",
    "                    output = [(i, []) for i in self.slots]\n",
    "                    feasigns = items[4].split(\" \")\n",
    "\n",
    "                    for i in feasigns:\n",
    "                        slot_feasign = i.split(\":\")\n",
    "                        slot = slot_feasign[1]\n",
    "                        if slot not in self.slots:\n",
    "                            continue\n",
    "                        if slot in self.sparse_slots:\n",
    "                            feasign = int(slot_feasign[0])\n",
    "                        else:\n",
    "                            feasign = float(slot_feasign[0])\n",
    "                        output[self.slot2index[slot]][1].append(feasign)\n",
    "                        self.visit[slot] = True\n",
    "\n",
    "                    output[0][1].append(log_key)\n",
    "                    self.visit['log_key'] = True\n",
    "                    output[1][1].append(conv)\n",
    "                    self.visit['click'] = True\n",
    "\n",
    "                    for i in self.visit:\n",
    "                        slot = i\n",
    "                        if not self.visit[slot]:\n",
    "                            if i in self.dense_slots:\n",
    "                                output[self.slot2index[i]][1].extend(\n",
    "                                    [self.padding] *\n",
    "                                    self.dense_slots_shape[self.slot2index[i]]\n",
    "                                )\n",
    "                            else:\n",
    "                                output[self.slot2index[i]][1].extend([self.padding])\n",
    "                        else:\n",
    "                            self.visit[slot] = False\n",
    "\n",
    "                    res = []\n",
    "                    for key, value in output:\n",
    "                        if key == \"log_key\":\n",
    "                            continue\n",
    "\n",
    "                        if key == \"click\":\n",
    "                            res.append(np.array(value).astype(\"float32\").reshape([-1,]))\n",
    "                            continue\n",
    "\n",
    "                        padding = [0] * (self.max_len - len(value))\n",
    "                        res.append(\n",
    "                            np.array(value + padding).astype(\"int64\").reshape([self.max_len,])\n",
    "                        )\n",
    "\n",
    "                    len_array = [len(value) for key, value in output][2:]\n",
    "                    mask = np.array(\n",
    "                        [[0] * x + [-1e9] * (self.max_len - x) for x in len_array]\n",
    "                    ).reshape([-1, self.max_len])\n",
    "\n",
    "                    res.append(mask)\n",
    "                    yield res"
   ]
  },
  {
   "cell_type": "code",
   "execution_count": 25,
   "id": "0a10bb09-7597-4637-8705-03cd2577abf8",
   "metadata": {
    "execution": {
     "iopub.execute_input": "2023-06-25T08:08:43.707793Z",
     "iopub.status.busy": "2023-06-25T08:08:43.706759Z",
     "iopub.status.idle": "2023-06-25T08:08:43.716399Z",
     "shell.execute_reply": "2023-06-25T08:08:43.715402Z",
     "shell.execute_reply.started": "2023-06-25T08:08:43.707762Z"
    },
    "tags": []
   },
   "outputs": [],
   "source": [
    "data_dir = \"../../data/data205411/2023-cvr-contest-data/train_data\"\n",
    "file_list = [os.path.join(data_dir, x) for x in os.listdir(data_dir)]\n",
    "\n",
    "config = {\"runner\": {\"max_len\": 20}}"
   ]
  },
  {
   "cell_type": "code",
   "execution_count": 36,
   "id": "539f72e2-e8c6-4af3-a77c-e2b0cb4ff4cb",
   "metadata": {
    "execution": {
     "iopub.execute_input": "2023-06-25T08:17:50.744140Z",
     "iopub.status.busy": "2023-06-25T08:17:50.743539Z",
     "iopub.status.idle": "2023-06-25T08:17:50.749363Z",
     "shell.execute_reply": "2023-06-25T08:17:50.748485Z",
     "shell.execute_reply.started": "2023-06-25T08:17:50.744112Z"
    },
    "tags": []
   },
   "outputs": [],
   "source": [
    "dataset = RecDataset(file_list[:1], config)"
   ]
  },
  {
   "cell_type": "code",
   "execution_count": 37,
   "id": "3534f05c-0876-45c0-a068-5f51f4023f5b",
   "metadata": {
    "execution": {
     "iopub.execute_input": "2023-06-25T08:17:50.957394Z",
     "iopub.status.busy": "2023-06-25T08:17:50.957045Z",
     "iopub.status.idle": "2023-06-25T08:17:50.961382Z",
     "shell.execute_reply": "2023-06-25T08:17:50.960611Z",
     "shell.execute_reply.started": "2023-06-25T08:17:50.957366Z"
    },
    "tags": []
   },
   "outputs": [],
   "source": [
    "loader = DataLoader(\n",
    "    dataset,\n",
    "    batch_size=4,\n",
    "    places=\"cpu\",\n",
    "    drop_last=True\n",
    ")"
   ]
  },
  {
   "cell_type": "code",
   "execution_count": 75,
   "id": "304a95a5-24f4-434f-98de-adbee0dcd0cd",
   "metadata": {
    "execution": {
     "iopub.execute_input": "2023-06-25T08:53:48.983787Z",
     "iopub.status.busy": "2023-06-25T08:53:48.983437Z",
     "iopub.status.idle": "2023-06-25T08:53:48.990588Z",
     "shell.execute_reply": "2023-06-25T08:53:48.989657Z",
     "shell.execute_reply.started": "2023-06-25T08:53:48.983759Z"
    },
    "tags": []
   },
   "outputs": [],
   "source": [
    "f1 = paddle.to_tensor([[1, 2, 0, 0], [5, 0, 0, 0]])\n",
    "f2 = paddle.to_tensor([[3, 0, 0, 0], [4, 1, 0, 0]])\n",
    "f3 = paddle.to_tensor([[3, 1, 2, 0], [5, 7, 8, 0]])"
   ]
  },
  {
   "cell_type": "code",
   "execution_count": 43,
   "id": "c9ad8b5b-455f-4b57-9f0a-6f42e791deb1",
   "metadata": {
    "execution": {
     "iopub.execute_input": "2023-06-25T08:27:32.487648Z",
     "iopub.status.busy": "2023-06-25T08:27:32.487282Z",
     "iopub.status.idle": "2023-06-25T08:27:32.494039Z",
     "shell.execute_reply": "2023-06-25T08:27:32.493210Z",
     "shell.execute_reply.started": "2023-06-25T08:27:32.487618Z"
    },
    "tags": []
   },
   "outputs": [
    {
     "data": {
      "text/plain": [
       "Tensor(shape=[2, 4], dtype=int64, place=Place(cpu), stop_gradient=True,\n",
       "       [[1, 2, 0, 0],\n",
       "        [5, 0, 0, 0]])"
      ]
     },
     "execution_count": 43,
     "metadata": {},
     "output_type": "execute_result"
    }
   ],
   "source": [
    "f1"
   ]
  },
  {
   "cell_type": "code",
   "execution_count": 44,
   "id": "26319292-e98c-471e-90ab-e1b181e69dbb",
   "metadata": {
    "execution": {
     "iopub.execute_input": "2023-06-25T08:27:32.614445Z",
     "iopub.status.busy": "2023-06-25T08:27:32.613787Z",
     "iopub.status.idle": "2023-06-25T08:27:32.620308Z",
     "shell.execute_reply": "2023-06-25T08:27:32.619453Z",
     "shell.execute_reply.started": "2023-06-25T08:27:32.614415Z"
    },
    "tags": []
   },
   "outputs": [
    {
     "data": {
      "text/plain": [
       "Tensor(shape=[2, 4], dtype=int64, place=Place(cpu), stop_gradient=True,\n",
       "       [[3, 0, 0, 0],\n",
       "        [4, 1, 0, 0]])"
      ]
     },
     "execution_count": 44,
     "metadata": {},
     "output_type": "execute_result"
    }
   ],
   "source": [
    "f2"
   ]
  },
  {
   "cell_type": "code",
   "execution_count": 71,
   "id": "e9ebea1a-015f-4eb5-b537-6d0e9c2b3c4a",
   "metadata": {
    "execution": {
     "iopub.execute_input": "2023-06-25T08:45:18.042592Z",
     "iopub.status.busy": "2023-06-25T08:45:18.041907Z",
     "iopub.status.idle": "2023-06-25T08:45:18.047726Z",
     "shell.execute_reply": "2023-06-25T08:45:18.046504Z",
     "shell.execute_reply.started": "2023-06-25T08:45:18.042562Z"
    },
    "tags": []
   },
   "outputs": [],
   "source": [
    "mask = paddle.to_tensor([[[0, 0, -1e9, -1e9], [0, -1e9, -1e9, -1e9]], [[0, -1e9, -1e9, -1e9], [0, 0, -1e9, -1e9]]], dtype=\"float32\")"
   ]
  },
  {
   "cell_type": "code",
   "execution_count": 61,
   "id": "03232044-c2ed-4998-afe9-5ba14245b4d5",
   "metadata": {
    "execution": {
     "iopub.execute_input": "2023-06-25T08:35:35.071512Z",
     "iopub.status.busy": "2023-06-25T08:35:35.070836Z",
     "iopub.status.idle": "2023-06-25T08:35:35.075808Z",
     "shell.execute_reply": "2023-06-25T08:35:35.074851Z",
     "shell.execute_reply.started": "2023-06-25T08:35:35.071484Z"
    },
    "tags": []
   },
   "outputs": [],
   "source": [
    "emb = paddle.nn.Embedding(\n",
    "    num_embeddings=10,\n",
    "    embedding_dim=5\n",
    ")"
   ]
  },
  {
   "cell_type": "code",
   "execution_count": 72,
   "id": "d9880d91-fbc4-485c-b23e-39f7b66712c6",
   "metadata": {
    "execution": {
     "iopub.execute_input": "2023-06-25T08:45:20.595308Z",
     "iopub.status.busy": "2023-06-25T08:45:20.594967Z",
     "iopub.status.idle": "2023-06-25T08:45:20.601925Z",
     "shell.execute_reply": "2023-06-25T08:45:20.601144Z",
     "shell.execute_reply.started": "2023-06-25T08:45:20.595283Z"
    },
    "tags": []
   },
   "outputs": [
    {
     "data": {
      "text/plain": [
       "Tensor(shape=[2, 4], dtype=float32, place=Place(cpu), stop_gradient=True,\n",
       "       [[ 0.         ,  0.         , -1000000000., -1000000000.],\n",
       "        [ 0.         , -1000000000., -1000000000., -1000000000.]])"
      ]
     },
     "execution_count": 72,
     "metadata": {},
     "output_type": "execute_result"
    }
   ],
   "source": [
    "mask[0]"
   ]
  },
  {
   "cell_type": "code",
   "execution_count": 73,
   "id": "f8d7dfd5-cb13-4d55-ab29-7b28f0e25426",
   "metadata": {
    "execution": {
     "iopub.execute_input": "2023-06-25T08:46:00.387425Z",
     "iopub.status.busy": "2023-06-25T08:46:00.386536Z",
     "iopub.status.idle": "2023-06-25T08:46:00.393484Z",
     "shell.execute_reply": "2023-06-25T08:46:00.392667Z",
     "shell.execute_reply.started": "2023-06-25T08:46:00.387395Z"
    },
    "tags": []
   },
   "outputs": [
    {
     "data": {
      "text/plain": [
       "Tensor(shape=[2, 4, 5], dtype=float32, place=Place(cpu), stop_gradient=False,\n",
       "       [[[ 0.52326089, -0.39613602, -0.11836523,  0.05948782, -0.17124951],\n",
       "         [ 0.22142595,  0.50726551, -0.32140428,  0.61215407, -0.55660534],\n",
       "         [-0.61016905,  0.16292155,  0.06961745, -0.06022114, -0.22813851],\n",
       "         [-0.61016905,  0.16292155,  0.06961745, -0.06022114, -0.22813851]],\n",
       "\n",
       "        [[ 0.53894895,  0.24171901,  0.61883634,  0.09842485, -0.40532160],\n",
       "         [-0.61016905,  0.16292155,  0.06961745, -0.06022114, -0.22813851],\n",
       "         [-0.61016905,  0.16292155,  0.06961745, -0.06022114, -0.22813851],\n",
       "         [-0.61016905,  0.16292155,  0.06961745, -0.06022114, -0.22813851]]])"
      ]
     },
     "execution_count": 73,
     "metadata": {},
     "output_type": "execute_result"
    }
   ],
   "source": [
    "emb(f1)"
   ]
  },
  {
   "cell_type": "code",
   "execution_count": 63,
   "id": "42256d6b-5728-40d9-b2e4-d1ac5861e6b2",
   "metadata": {
    "execution": {
     "iopub.execute_input": "2023-06-25T08:35:36.719902Z",
     "iopub.status.busy": "2023-06-25T08:35:36.719564Z",
     "iopub.status.idle": "2023-06-25T08:35:36.726595Z",
     "shell.execute_reply": "2023-06-25T08:35:36.725801Z",
     "shell.execute_reply.started": "2023-06-25T08:35:36.719876Z"
    },
    "tags": []
   },
   "outputs": [
    {
     "data": {
      "text/plain": [
       "Tensor(shape=[2, 4, 1], dtype=float32, place=Place(cpu), stop_gradient=True,\n",
       "       [[[1.],\n",
       "         [1.],\n",
       "         [0.],\n",
       "         [0.]],\n",
       "\n",
       "        [[1.],\n",
       "         [0.],\n",
       "         [0.],\n",
       "         [0.]]])"
      ]
     },
     "execution_count": 63,
     "metadata": {},
     "output_type": "execute_result"
    }
   ],
   "source": [
    "paddle.exp(mask[0].unsqueeze(-1))"
   ]
  },
  {
   "cell_type": "code",
   "execution_count": 64,
   "id": "92cd4626-3283-4b63-91d3-96241d2a05d0",
   "metadata": {
    "execution": {
     "iopub.execute_input": "2023-06-25T08:35:39.733370Z",
     "iopub.status.busy": "2023-06-25T08:35:39.732702Z",
     "iopub.status.idle": "2023-06-25T08:35:39.740338Z",
     "shell.execute_reply": "2023-06-25T08:35:39.739556Z",
     "shell.execute_reply.started": "2023-06-25T08:35:39.733341Z"
    },
    "tags": []
   },
   "outputs": [
    {
     "data": {
      "text/plain": [
       "Tensor(shape=[2, 4, 5], dtype=float32, place=Place(cpu), stop_gradient=False,\n",
       "       [[[ 0.52326089, -0.39613602, -0.11836523,  0.05948782, -0.17124951],\n",
       "         [ 0.22142595,  0.50726551, -0.32140428,  0.61215407, -0.55660534],\n",
       "         [ -0.       ,  0.        ,  0.        ,  -0.       ,  -0.       ],\n",
       "         [ -0.       ,  0.        ,  0.        ,  -0.       ,  -0.       ]],\n",
       "\n",
       "        [[ 0.53894895,  0.24171901,  0.61883634,  0.09842485, -0.40532160],\n",
       "         [ -0.       ,  0.        ,  0.        ,  -0.       ,  -0.       ],\n",
       "         [ -0.       ,  0.        ,  0.        ,  -0.       ,  -0.       ],\n",
       "         [ -0.       ,  0.        ,  0.        ,  -0.       ,  -0.       ]]])"
      ]
     },
     "execution_count": 64,
     "metadata": {},
     "output_type": "execute_result"
    }
   ],
   "source": [
    "paddle.exp(mask[0].unsqueeze(-1)) * emb(f1)"
   ]
  },
  {
   "cell_type": "code",
   "execution_count": 67,
   "id": "ba21ddc8-ec05-447a-9d0b-4226c232068f",
   "metadata": {
    "execution": {
     "iopub.execute_input": "2023-06-25T08:37:26.072717Z",
     "iopub.status.busy": "2023-06-25T08:37:26.072086Z",
     "iopub.status.idle": "2023-06-25T08:37:26.081369Z",
     "shell.execute_reply": "2023-06-25T08:37:26.080568Z",
     "shell.execute_reply.started": "2023-06-25T08:37:26.072687Z"
    },
    "tags": []
   },
   "outputs": [
    {
     "data": {
      "text/plain": [
       "Tensor(shape=[2, 5], dtype=float32, place=Place(cpu), stop_gradient=False,\n",
       "       [[ 0.74468684,  0.11112949, -0.43976951,  0.67164189, -0.72785485],\n",
       "        [ 0.53894895,  0.24171901,  0.61883634,  0.09842485, -0.40532160]])"
      ]
     },
     "execution_count": 67,
     "metadata": {},
     "output_type": "execute_result"
    }
   ],
   "source": [
    "emb_1 = paddle.sum(\n",
    "    paddle.exp(mask[0].unsqueeze(-1)) * emb(f1),\n",
    "    axis=1\n",
    ")\n",
    "\n",
    "emb_1"
   ]
  },
  {
   "cell_type": "code",
   "execution_count": 68,
   "id": "1ffef50e-5a07-4cbb-b679-1390c9aa5dd0",
   "metadata": {
    "execution": {
     "iopub.execute_input": "2023-06-25T08:37:32.789170Z",
     "iopub.status.busy": "2023-06-25T08:37:32.788764Z",
     "iopub.status.idle": "2023-06-25T08:37:32.799632Z",
     "shell.execute_reply": "2023-06-25T08:37:32.798884Z",
     "shell.execute_reply.started": "2023-06-25T08:37:32.789142Z"
    },
    "tags": []
   },
   "outputs": [
    {
     "data": {
      "text/plain": [
       "Tensor(shape=[2, 5], dtype=float32, place=Place(cpu), stop_gradient=False,\n",
       "       [[-0.29778719, -0.16829005,  0.26603258,  0.48641241, -0.30877686],\n",
       "        [ 0.28506643,  0.05156046, -0.13683656, -0.12907267,  0.46634430]])"
      ]
     },
     "execution_count": 68,
     "metadata": {},
     "output_type": "execute_result"
    }
   ],
   "source": [
    "emb_2 = paddle.sum(\n",
    "    paddle.exp(mask[1].unsqueeze(-1)) * emb(f2),\n",
    "    axis=1\n",
    ")\n",
    "\n",
    "emb_2"
   ]
  },
  {
   "cell_type": "code",
   "execution_count": 70,
   "id": "9e493c7d-00e4-486f-a8fb-d60ac19f7c7a",
   "metadata": {
    "execution": {
     "iopub.execute_input": "2023-06-25T08:37:47.608728Z",
     "iopub.status.busy": "2023-06-25T08:37:47.608339Z",
     "iopub.status.idle": "2023-06-25T08:37:47.616709Z",
     "shell.execute_reply": "2023-06-25T08:37:47.615890Z",
     "shell.execute_reply.started": "2023-06-25T08:37:47.608698Z"
    },
    "tags": []
   },
   "outputs": [
    {
     "data": {
      "text/plain": [
       "Tensor(shape=[2, 10], dtype=float32, place=Place(cpu), stop_gradient=False,\n",
       "       [[ 0.74468684,  0.11112949, -0.43976951,  0.67164189, -0.72785485,\n",
       "         -0.29778719, -0.16829005,  0.26603258,  0.48641241, -0.30877686],\n",
       "        [ 0.53894895,  0.24171901,  0.61883634,  0.09842485, -0.40532160,\n",
       "          0.28506643,  0.05156046, -0.13683656, -0.12907267,  0.46634430]])"
      ]
     },
     "execution_count": 70,
     "metadata": {},
     "output_type": "execute_result"
    }
   ],
   "source": [
    "paddle.concat([emb_1, emb_2], axis=1)"
   ]
  },
  {
   "cell_type": "code",
   "execution_count": null,
   "id": "3c3b11d9-1f6a-4ea4-a458-dde9e50bfcb4",
   "metadata": {},
   "outputs": [],
   "source": []
  },
  {
   "cell_type": "code",
   "execution_count": null,
   "id": "ef974ad1-34aa-4c99-896d-f6b10b04ca16",
   "metadata": {},
   "outputs": [],
   "source": []
  },
  {
   "cell_type": "code",
   "execution_count": 76,
   "id": "34ab528b-8457-4014-a47a-207edff15f4b",
   "metadata": {
    "execution": {
     "iopub.execute_input": "2023-06-25T08:58:01.793518Z",
     "iopub.status.busy": "2023-06-25T08:58:01.792908Z",
     "iopub.status.idle": "2023-06-25T08:58:01.813594Z",
     "shell.execute_reply": "2023-06-25T08:58:01.810019Z",
     "shell.execute_reply.started": "2023-06-25T08:58:01.793489Z"
    },
    "tags": []
   },
   "outputs": [
    {
     "name": "stdout",
     "output_type": "stream",
     "text": [
      "0\n"
     ]
    }
   ],
   "source": [
    "for batch_id, batch in enumerate(loader()):\n",
    "    print(batch_id)\n",
    "    mask = batch[-1]\n",
    "    break"
   ]
  },
  {
   "cell_type": "code",
   "execution_count": null,
   "id": "ba1a053d-a9df-4f5c-b94f-55f10c957354",
   "metadata": {},
   "outputs": [],
   "source": []
  },
  {
   "cell_type": "code",
   "execution_count": 92,
   "id": "636a64a1-67af-48c0-a480-d0efe5799416",
   "metadata": {
    "execution": {
     "iopub.execute_input": "2023-06-25T08:59:50.264813Z",
     "iopub.status.busy": "2023-06-25T08:59:50.264432Z",
     "iopub.status.idle": "2023-06-25T08:59:50.271549Z",
     "shell.execute_reply": "2023-06-25T08:59:50.270722Z",
     "shell.execute_reply.started": "2023-06-25T08:59:50.264783Z"
    },
    "tags": []
   },
   "outputs": [
    {
     "data": {
      "text/plain": [
       "Tensor(shape=[4, 20], dtype=int64, place=Place(cpu), stop_gradient=True,\n",
       "       [[1140, 0   , 0   , 0   , 0   , 0   , 0   , 0   , 0   , 0   , 0   , 0   ,\n",
       "         0   , 0   , 0   , 0   , 0   , 0   , 0   , 0   ],\n",
       "        [1   , 0   , 0   , 0   , 0   , 0   , 0   , 0   , 0   , 0   , 0   , 0   ,\n",
       "         0   , 0   , 0   , 0   , 0   , 0   , 0   , 0   ],\n",
       "        [1457, 0   , 0   , 0   , 0   , 0   , 0   , 0   , 0   , 0   , 0   , 0   ,\n",
       "         0   , 0   , 0   , 0   , 0   , 0   , 0   , 0   ],\n",
       "        [1   , 0   , 0   , 0   , 0   , 0   , 0   , 0   , 0   , 0   , 0   , 0   ,\n",
       "         0   , 0   , 0   , 0   , 0   , 0   , 0   , 0   ]])"
      ]
     },
     "execution_count": 92,
     "metadata": {},
     "output_type": "execute_result"
    }
   ],
   "source": [
    "batch[1]"
   ]
  },
  {
   "cell_type": "code",
   "execution_count": 93,
   "id": "16cff963-0b42-4f8a-9463-8d792acce903",
   "metadata": {
    "execution": {
     "iopub.execute_input": "2023-06-25T08:59:56.395474Z",
     "iopub.status.busy": "2023-06-25T08:59:56.394877Z",
     "iopub.status.idle": "2023-06-25T08:59:56.401670Z",
     "shell.execute_reply": "2023-06-25T08:59:56.400647Z",
     "shell.execute_reply.started": "2023-06-25T08:59:56.395446Z"
    },
    "tags": []
   },
   "outputs": [
    {
     "data": {
      "text/plain": [
       "Tensor(shape=[4, 20], dtype=int64, place=Place(cpu), stop_gradient=True,\n",
       "       [[0       , 0       , 0       , 0       , 0       , 0       , 0       ,\n",
       "         0       , 0       , 0       , 0       , 0       , 0       , 0       ,\n",
       "         0       , 0       , 0       , 0       , 0       , 0       ],\n",
       "        [76971848, 76971849, 76971850, 76971851, 76971852, 54333065, 76971853,\n",
       "         76971854, 37832108, 76971855, 0       , 0       , 0       , 0       ,\n",
       "         0       , 0       , 0       , 0       , 0       , 0       ],\n",
       "        [8340766 , 76971868, 4547522 , 76971869, 76971870, 76971871, 8323787 ,\n",
       "         1098057 , 12330399, 1098055 , 0       , 0       , 0       , 0       ,\n",
       "         0       , 0       , 0       , 0       , 0       , 0       ],\n",
       "        [76971884, 76971885, 76263073, 76971886, 66572142, 76971887, 72082292,\n",
       "         75392845, 66572136, 74450315, 0       , 0       , 0       , 0       ,\n",
       "         0       , 0       , 0       , 0       , 0       , 0       ]])"
      ]
     },
     "execution_count": 93,
     "metadata": {},
     "output_type": "execute_result"
    }
   ],
   "source": [
    "batch[17]"
   ]
  },
  {
   "cell_type": "code",
   "execution_count": null,
   "id": "816ed592-dbec-43a7-8c07-934e1f680954",
   "metadata": {},
   "outputs": [],
   "source": []
  },
  {
   "cell_type": "code",
   "execution_count": 95,
   "id": "337a54a5-3fba-4f6a-9686-2a8797076b4b",
   "metadata": {
    "execution": {
     "iopub.execute_input": "2023-06-25T09:01:34.070970Z",
     "iopub.status.busy": "2023-06-25T09:01:34.070013Z",
     "iopub.status.idle": "2023-06-25T09:01:34.079020Z",
     "shell.execute_reply": "2023-06-25T09:01:34.078012Z",
     "shell.execute_reply.started": "2023-06-25T09:01:34.070935Z"
    },
    "tags": []
   },
   "outputs": [],
   "source": [
    "f1 = paddle.to_tensor([\n",
    "    [1, 0   , 0   , 0   , 0   , 0   , 0   , 0   , 0   , 0   , 0   , 0   , 0   , 0   , 0   , 0   , 0   , 0   , 0   , 0   ],\n",
    "    [2   , 0   , 0   , 0   , 0   , 0   , 0   , 0   , 0   , 0   , 0   , 0   , 0   , 0   , 0   , 0   , 0   , 0   , 0   , 0   ],\n",
    "    [3, 0   , 0   , 0   , 0   , 0   , 0   , 0   , 0   , 0   , 0   , 0   , 0   , 0   , 0   , 0   , 0   , 0   , 0   , 0   ],\n",
    "    [4   , 0   , 0   , 0   , 0   , 0   , 0   , 0   , 0   , 0   , 0   , 0   , 0   , 0   , 0   , 0   , 0   , 0   , 0   , 0   ]]\n",
    ")"
   ]
  },
  {
   "cell_type": "code",
   "execution_count": 96,
   "id": "a7b4c54b-2ea2-45d7-b39b-b534ce42ff5d",
   "metadata": {
    "execution": {
     "iopub.execute_input": "2023-06-25T09:01:36.157166Z",
     "iopub.status.busy": "2023-06-25T09:01:36.156229Z",
     "iopub.status.idle": "2023-06-25T09:01:36.163792Z",
     "shell.execute_reply": "2023-06-25T09:01:36.163050Z",
     "shell.execute_reply.started": "2023-06-25T09:01:36.157128Z"
    },
    "tags": []
   },
   "outputs": [
    {
     "data": {
      "text/plain": [
       "Tensor(shape=[4, 20], dtype=int64, place=Place(cpu), stop_gradient=True,\n",
       "       [[1, 0, 0, 0, 0, 0, 0, 0, 0, 0, 0, 0, 0, 0, 0, 0, 0, 0, 0, 0],\n",
       "        [2, 0, 0, 0, 0, 0, 0, 0, 0, 0, 0, 0, 0, 0, 0, 0, 0, 0, 0, 0],\n",
       "        [3, 0, 0, 0, 0, 0, 0, 0, 0, 0, 0, 0, 0, 0, 0, 0, 0, 0, 0, 0],\n",
       "        [4, 0, 0, 0, 0, 0, 0, 0, 0, 0, 0, 0, 0, 0, 0, 0, 0, 0, 0, 0]])"
      ]
     },
     "execution_count": 96,
     "metadata": {},
     "output_type": "execute_result"
    }
   ],
   "source": [
    "f1"
   ]
  },
  {
   "cell_type": "code",
   "execution_count": 102,
   "id": "22d30f36-b0d8-491e-af22-30eb6bdefd8c",
   "metadata": {
    "execution": {
     "iopub.execute_input": "2023-06-25T09:03:12.917880Z",
     "iopub.status.busy": "2023-06-25T09:03:12.917257Z",
     "iopub.status.idle": "2023-06-25T09:03:12.925620Z",
     "shell.execute_reply": "2023-06-25T09:03:12.924608Z",
     "shell.execute_reply.started": "2023-06-25T09:03:12.917850Z"
    },
    "tags": []
   },
   "outputs": [],
   "source": [
    "f2 = paddle.to_tensor(\n",
    "    [[2       , 0       , 0       , 0       , 0       , 0       , 0       ,\n",
    "         0       , 0       , 0       , 0       , 0       , 0       , 0       ,\n",
    "         0       , 0       , 0       , 0       , 0       , 0       ],\n",
    "        [1, 1, 2, 3, 4, 5, 6,\n",
    "         7, 8, 9, 0       , 0       , 0       , 0       ,\n",
    "         0       , 0       , 0       , 0       , 0       , 0       ],\n",
    "        [8 , 9, 2 , 3, 1, 5, 6 ,\n",
    "         7 , 5, 6 , 0       , 0       , 0       , 0       ,\n",
    "         0       , 0       , 0       , 0       , 0       , 0       ],\n",
    "        [1, 2, 3, 4, 5, 6, 7,\n",
    "         8, 9, 1, 0       , 0       , 0       , 0       ,\n",
    "         0       , 0       , 0       , 0       , 0       , 0       ]]\n",
    ")"
   ]
  },
  {
   "cell_type": "code",
   "execution_count": 103,
   "id": "6bcfcd04-e317-43fb-816b-3dbc2d1beb0f",
   "metadata": {
    "execution": {
     "iopub.execute_input": "2023-06-25T09:03:13.071674Z",
     "iopub.status.busy": "2023-06-25T09:03:13.070943Z",
     "iopub.status.idle": "2023-06-25T09:03:13.078455Z",
     "shell.execute_reply": "2023-06-25T09:03:13.077519Z",
     "shell.execute_reply.started": "2023-06-25T09:03:13.071641Z"
    },
    "tags": []
   },
   "outputs": [
    {
     "data": {
      "text/plain": [
       "Tensor(shape=[4, 20], dtype=int64, place=Place(cpu), stop_gradient=True,\n",
       "       [[2, 0, 0, 0, 0, 0, 0, 0, 0, 0, 0, 0, 0, 0, 0, 0, 0, 0, 0, 0],\n",
       "        [1, 1, 2, 3, 4, 5, 6, 7, 8, 9, 0, 0, 0, 0, 0, 0, 0, 0, 0, 0],\n",
       "        [8, 9, 2, 3, 1, 5, 6, 7, 5, 6, 0, 0, 0, 0, 0, 0, 0, 0, 0, 0],\n",
       "        [1, 2, 3, 4, 5, 6, 7, 8, 9, 1, 0, 0, 0, 0, 0, 0, 0, 0, 0, 0]])"
      ]
     },
     "execution_count": 103,
     "metadata": {},
     "output_type": "execute_result"
    }
   ],
   "source": [
    "f2"
   ]
  },
  {
   "cell_type": "code",
   "execution_count": 104,
   "id": "07d894a7-c43e-435c-a5a7-8728b66b5653",
   "metadata": {
    "execution": {
     "iopub.execute_input": "2023-06-25T09:03:13.338329Z",
     "iopub.status.busy": "2023-06-25T09:03:13.337835Z",
     "iopub.status.idle": "2023-06-25T09:03:13.348271Z",
     "shell.execute_reply": "2023-06-25T09:03:13.347306Z",
     "shell.execute_reply.started": "2023-06-25T09:03:13.338299Z"
    },
    "tags": []
   },
   "outputs": [
    {
     "data": {
      "text/plain": [
       "Tensor(shape=[4, 20, 5], dtype=float32, place=Place(cpu), stop_gradient=False,\n",
       "       [[[ 0.22142595,  0.50726551, -0.32140428,  0.61215407, -0.55660534],\n",
       "         [-0.61016905,  0.16292155,  0.06961745, -0.06022114, -0.22813851],\n",
       "         [-0.61016905,  0.16292155,  0.06961745, -0.06022114, -0.22813851],\n",
       "         [-0.61016905,  0.16292155,  0.06961745, -0.06022114, -0.22813851],\n",
       "         [-0.61016905,  0.16292155,  0.06961745, -0.06022114, -0.22813851],\n",
       "         [-0.61016905,  0.16292155,  0.06961745, -0.06022114, -0.22813851],\n",
       "         [-0.61016905,  0.16292155,  0.06961745, -0.06022114, -0.22813851],\n",
       "         [-0.61016905,  0.16292155,  0.06961745, -0.06022114, -0.22813851],\n",
       "         [-0.61016905,  0.16292155,  0.06961745, -0.06022114, -0.22813851],\n",
       "         [-0.61016905,  0.16292155,  0.06961745, -0.06022114, -0.22813851],\n",
       "         [-0.61016905,  0.16292155,  0.06961745, -0.06022114, -0.22813851],\n",
       "         [-0.61016905,  0.16292155,  0.06961745, -0.06022114, -0.22813851],\n",
       "         [-0.61016905,  0.16292155,  0.06961745, -0.06022114, -0.22813851],\n",
       "         [-0.61016905,  0.16292155,  0.06961745, -0.06022114, -0.22813851],\n",
       "         [-0.61016905,  0.16292155,  0.06961745, -0.06022114, -0.22813851],\n",
       "         [-0.61016905,  0.16292155,  0.06961745, -0.06022114, -0.22813851],\n",
       "         [-0.61016905,  0.16292155,  0.06961745, -0.06022114, -0.22813851],\n",
       "         [-0.61016905,  0.16292155,  0.06961745, -0.06022114, -0.22813851],\n",
       "         [-0.61016905,  0.16292155,  0.06961745, -0.06022114, -0.22813851],\n",
       "         [-0.61016905,  0.16292155,  0.06961745, -0.06022114, -0.22813851]],\n",
       "\n",
       "        [[ 0.52326089, -0.39613602, -0.11836523,  0.05948782, -0.17124951],\n",
       "         [ 0.52326089, -0.39613602, -0.11836523,  0.05948782, -0.17124951],\n",
       "         [ 0.22142595,  0.50726551, -0.32140428,  0.61215407, -0.55660534],\n",
       "         [ 0.31238186, -0.33121160,  0.19641513,  0.54663354, -0.08063835],\n",
       "         [ 0.28506643,  0.05156046, -0.13683656, -0.12907267,  0.46634430],\n",
       "         [ 0.53894895,  0.24171901,  0.61883634,  0.09842485, -0.40532160],\n",
       "         [-0.62038660, -0.17067182,  0.59875494,  0.48605603, -0.28674233],\n",
       "         [-0.21516374,  0.04859906,  0.29573840, -0.26310751,  0.50567621],\n",
       "         [-0.14327335,  0.20375228, -0.02116400, -0.58342016, -0.18440634],\n",
       "         [-0.17511517,  0.09032196, -0.23729756, -0.17499620, -0.50260121],\n",
       "         [-0.61016905,  0.16292155,  0.06961745, -0.06022114, -0.22813851],\n",
       "         [-0.61016905,  0.16292155,  0.06961745, -0.06022114, -0.22813851],\n",
       "         [-0.61016905,  0.16292155,  0.06961745, -0.06022114, -0.22813851],\n",
       "         [-0.61016905,  0.16292155,  0.06961745, -0.06022114, -0.22813851],\n",
       "         [-0.61016905,  0.16292155,  0.06961745, -0.06022114, -0.22813851],\n",
       "         [-0.61016905,  0.16292155,  0.06961745, -0.06022114, -0.22813851],\n",
       "         [-0.61016905,  0.16292155,  0.06961745, -0.06022114, -0.22813851],\n",
       "         [-0.61016905,  0.16292155,  0.06961745, -0.06022114, -0.22813851],\n",
       "         [-0.61016905,  0.16292155,  0.06961745, -0.06022114, -0.22813851],\n",
       "         [-0.61016905,  0.16292155,  0.06961745, -0.06022114, -0.22813851]],\n",
       "\n",
       "        [[-0.14327335,  0.20375228, -0.02116400, -0.58342016, -0.18440634],\n",
       "         [-0.17511517,  0.09032196, -0.23729756, -0.17499620, -0.50260121],\n",
       "         [ 0.22142595,  0.50726551, -0.32140428,  0.61215407, -0.55660534],\n",
       "         [ 0.31238186, -0.33121160,  0.19641513,  0.54663354, -0.08063835],\n",
       "         [ 0.52326089, -0.39613602, -0.11836523,  0.05948782, -0.17124951],\n",
       "         [ 0.53894895,  0.24171901,  0.61883634,  0.09842485, -0.40532160],\n",
       "         [-0.62038660, -0.17067182,  0.59875494,  0.48605603, -0.28674233],\n",
       "         [-0.21516374,  0.04859906,  0.29573840, -0.26310751,  0.50567621],\n",
       "         [ 0.53894895,  0.24171901,  0.61883634,  0.09842485, -0.40532160],\n",
       "         [-0.62038660, -0.17067182,  0.59875494,  0.48605603, -0.28674233],\n",
       "         [-0.61016905,  0.16292155,  0.06961745, -0.06022114, -0.22813851],\n",
       "         [-0.61016905,  0.16292155,  0.06961745, -0.06022114, -0.22813851],\n",
       "         [-0.61016905,  0.16292155,  0.06961745, -0.06022114, -0.22813851],\n",
       "         [-0.61016905,  0.16292155,  0.06961745, -0.06022114, -0.22813851],\n",
       "         [-0.61016905,  0.16292155,  0.06961745, -0.06022114, -0.22813851],\n",
       "         [-0.61016905,  0.16292155,  0.06961745, -0.06022114, -0.22813851],\n",
       "         [-0.61016905,  0.16292155,  0.06961745, -0.06022114, -0.22813851],\n",
       "         [-0.61016905,  0.16292155,  0.06961745, -0.06022114, -0.22813851],\n",
       "         [-0.61016905,  0.16292155,  0.06961745, -0.06022114, -0.22813851],\n",
       "         [-0.61016905,  0.16292155,  0.06961745, -0.06022114, -0.22813851]],\n",
       "\n",
       "        [[ 0.52326089, -0.39613602, -0.11836523,  0.05948782, -0.17124951],\n",
       "         [ 0.22142595,  0.50726551, -0.32140428,  0.61215407, -0.55660534],\n",
       "         [ 0.31238186, -0.33121160,  0.19641513,  0.54663354, -0.08063835],\n",
       "         [ 0.28506643,  0.05156046, -0.13683656, -0.12907267,  0.46634430],\n",
       "         [ 0.53894895,  0.24171901,  0.61883634,  0.09842485, -0.40532160],\n",
       "         [-0.62038660, -0.17067182,  0.59875494,  0.48605603, -0.28674233],\n",
       "         [-0.21516374,  0.04859906,  0.29573840, -0.26310751,  0.50567621],\n",
       "         [-0.14327335,  0.20375228, -0.02116400, -0.58342016, -0.18440634],\n",
       "         [-0.17511517,  0.09032196, -0.23729756, -0.17499620, -0.50260121],\n",
       "         [ 0.52326089, -0.39613602, -0.11836523,  0.05948782, -0.17124951],\n",
       "         [-0.61016905,  0.16292155,  0.06961745, -0.06022114, -0.22813851],\n",
       "         [-0.61016905,  0.16292155,  0.06961745, -0.06022114, -0.22813851],\n",
       "         [-0.61016905,  0.16292155,  0.06961745, -0.06022114, -0.22813851],\n",
       "         [-0.61016905,  0.16292155,  0.06961745, -0.06022114, -0.22813851],\n",
       "         [-0.61016905,  0.16292155,  0.06961745, -0.06022114, -0.22813851],\n",
       "         [-0.61016905,  0.16292155,  0.06961745, -0.06022114, -0.22813851],\n",
       "         [-0.61016905,  0.16292155,  0.06961745, -0.06022114, -0.22813851],\n",
       "         [-0.61016905,  0.16292155,  0.06961745, -0.06022114, -0.22813851],\n",
       "         [-0.61016905,  0.16292155,  0.06961745, -0.06022114, -0.22813851],\n",
       "         [-0.61016905,  0.16292155,  0.06961745, -0.06022114, -0.22813851]]])"
      ]
     },
     "execution_count": 104,
     "metadata": {},
     "output_type": "execute_result"
    }
   ],
   "source": [
    "emb(f2)"
   ]
  },
  {
   "cell_type": "code",
   "execution_count": null,
   "id": "6f96f9b9-3d83-4844-ac93-b1885093c1ee",
   "metadata": {},
   "outputs": [],
   "source": []
  },
  {
   "cell_type": "code",
   "execution_count": null,
   "id": "fc15a892-cbbd-4e67-b5df-76ea28e84888",
   "metadata": {},
   "outputs": [],
   "source": []
  },
  {
   "cell_type": "code",
   "execution_count": null,
   "id": "fefb3f2f-b825-4924-baa7-f7c02408cce4",
   "metadata": {},
   "outputs": [],
   "source": []
  },
  {
   "cell_type": "code",
   "execution_count": 87,
   "id": "b834b07c-6d04-4bc5-aee7-1591c5c80596",
   "metadata": {
    "execution": {
     "iopub.execute_input": "2023-06-25T08:59:15.231501Z",
     "iopub.status.busy": "2023-06-25T08:59:15.230839Z",
     "iopub.status.idle": "2023-06-25T08:59:15.241400Z",
     "shell.execute_reply": "2023-06-25T08:59:15.240499Z",
     "shell.execute_reply.started": "2023-06-25T08:59:15.231470Z"
    },
    "tags": []
   },
   "outputs": [
    {
     "data": {
      "text/plain": [
       "Tensor(shape=[4, 20], dtype=float64, place=Place(cpu), stop_gradient=True,\n",
       "       [[ 0.         , -1000000000., -1000000000., -1000000000., -1000000000.,\n",
       "         -1000000000., -1000000000., -1000000000., -1000000000., -1000000000.,\n",
       "         -1000000000., -1000000000., -1000000000., -1000000000., -1000000000.,\n",
       "         -1000000000., -1000000000., -1000000000., -1000000000., -1000000000.],\n",
       "        [ 0.         , -1000000000., -1000000000., -1000000000., -1000000000.,\n",
       "         -1000000000., -1000000000., -1000000000., -1000000000., -1000000000.,\n",
       "         -1000000000., -1000000000., -1000000000., -1000000000., -1000000000.,\n",
       "         -1000000000., -1000000000., -1000000000., -1000000000., -1000000000.],\n",
       "        [ 0.         , -1000000000., -1000000000., -1000000000., -1000000000.,\n",
       "         -1000000000., -1000000000., -1000000000., -1000000000., -1000000000.,\n",
       "         -1000000000., -1000000000., -1000000000., -1000000000., -1000000000.,\n",
       "         -1000000000., -1000000000., -1000000000., -1000000000., -1000000000.],\n",
       "        [ 0.         , -1000000000., -1000000000., -1000000000., -1000000000.,\n",
       "         -1000000000., -1000000000., -1000000000., -1000000000., -1000000000.,\n",
       "         -1000000000., -1000000000., -1000000000., -1000000000., -1000000000.,\n",
       "         -1000000000., -1000000000., -1000000000., -1000000000., -1000000000.]])"
      ]
     },
     "execution_count": 87,
     "metadata": {},
     "output_type": "execute_result"
    }
   ],
   "source": [
    "mask[:, 0, :]"
   ]
  },
  {
   "cell_type": "code",
   "execution_count": 124,
   "id": "0fbc59b0-8f63-486a-9679-8464d063e989",
   "metadata": {
    "execution": {
     "iopub.execute_input": "2023-06-25T09:16:31.965048Z",
     "iopub.status.busy": "2023-06-25T09:16:31.964699Z",
     "iopub.status.idle": "2023-06-25T09:16:31.971236Z",
     "shell.execute_reply": "2023-06-25T09:16:31.970305Z",
     "shell.execute_reply.started": "2023-06-25T09:16:31.965019Z"
    },
    "tags": []
   },
   "outputs": [],
   "source": [
    "lin = paddle.nn.Linear(5, 1)"
   ]
  },
  {
   "cell_type": "code",
   "execution_count": 128,
   "id": "e2cd15ba-b8b8-4d79-9e59-241a875648f7",
   "metadata": {
    "execution": {
     "iopub.execute_input": "2023-06-25T09:17:41.574445Z",
     "iopub.status.busy": "2023-06-25T09:17:41.573906Z",
     "iopub.status.idle": "2023-06-25T09:17:41.596358Z",
     "shell.execute_reply": "2023-06-25T09:17:41.595366Z",
     "shell.execute_reply.started": "2023-06-25T09:17:41.574411Z"
    },
    "tags": []
   },
   "outputs": [
    {
     "data": {
      "text/plain": [
       "Tensor(shape=[4, 1], dtype=float32, place=Place(cpu), stop_gradient=False,\n",
       "       [[-0.38755727],\n",
       "        [-0.77973664],\n",
       "        [-0.67935890],\n",
       "        [-0.77973664]])"
      ]
     },
     "execution_count": 128,
     "metadata": {},
     "output_type": "execute_result"
    }
   ],
   "source": [
    "lin(paddle.sum(paddle.exp(mask[:, 16, :].unsqueeze(-1)) * emb(f2), axis=1).astype(\"float32\"))"
   ]
  },
  {
   "cell_type": "code",
   "execution_count": 137,
   "id": "e0fc4bcb-5529-4238-9e39-3b057df4d1bd",
   "metadata": {
    "execution": {
     "iopub.execute_input": "2023-06-25T09:50:51.233108Z",
     "iopub.status.busy": "2023-06-25T09:50:51.232742Z",
     "iopub.status.idle": "2023-06-25T09:50:51.264468Z",
     "shell.execute_reply": "2023-06-25T09:50:51.263563Z",
     "shell.execute_reply.started": "2023-06-25T09:50:51.233082Z"
    },
    "tags": []
   },
   "outputs": [
    {
     "data": {
      "text/plain": [
       "Tensor(shape=[4, 5], dtype=float64, place=Place(cpu), stop_gradient=False,\n",
       "       [[ 0.22142595,  0.50726551, -0.32140428,  0.61215407, -0.55660534],\n",
       "        [ 1.25040612, -0.15093717,  0.75631195,  0.71164760, -1.38679367],\n",
       "        [ 0.36064115,  0.26468557,  2.22910503,  1.36571333, -2.37395239],\n",
       "        [ 1.25040612, -0.15093717,  0.75631195,  0.71164760, -1.38679367]])"
      ]
     },
     "execution_count": 137,
     "metadata": {},
     "output_type": "execute_result"
    }
   ],
   "source": [
    "paddle.sum(paddle.exp(mask[:, 16, :].unsqueeze(-1)) * emb(f2), axis=1)"
   ]
  },
  {
   "cell_type": "code",
   "execution_count": 107,
   "id": "f9da5688-c977-4318-b123-28edf71cdcdb",
   "metadata": {
    "execution": {
     "iopub.execute_input": "2023-06-25T09:04:00.050871Z",
     "iopub.status.busy": "2023-06-25T09:04:00.050281Z",
     "iopub.status.idle": "2023-06-25T09:04:00.061418Z",
     "shell.execute_reply": "2023-06-25T09:04:00.060584Z",
     "shell.execute_reply.started": "2023-06-25T09:04:00.050843Z"
    },
    "tags": []
   },
   "outputs": [
    {
     "data": {
      "text/plain": [
       "Tensor(shape=[4, 20, 5], dtype=float64, place=Place(cpu), stop_gradient=False,\n",
       "       [[[ 0.22142595,  0.50726551, -0.32140428,  0.61215407, -0.55660534],\n",
       "         [ -0.       ,  0.        ,  0.        ,  -0.       ,  -0.       ],\n",
       "         [ -0.       ,  0.        ,  0.        ,  -0.       ,  -0.       ],\n",
       "         [ -0.       ,  0.        ,  0.        ,  -0.       ,  -0.       ],\n",
       "         [ -0.       ,  0.        ,  0.        ,  -0.       ,  -0.       ],\n",
       "         [ -0.       ,  0.        ,  0.        ,  -0.       ,  -0.       ],\n",
       "         [ -0.       ,  0.        ,  0.        ,  -0.       ,  -0.       ],\n",
       "         [ -0.       ,  0.        ,  0.        ,  -0.       ,  -0.       ],\n",
       "         [ -0.       ,  0.        ,  0.        ,  -0.       ,  -0.       ],\n",
       "         [ -0.       ,  0.        ,  0.        ,  -0.       ,  -0.       ],\n",
       "         [ -0.       ,  0.        ,  0.        ,  -0.       ,  -0.       ],\n",
       "         [ -0.       ,  0.        ,  0.        ,  -0.       ,  -0.       ],\n",
       "         [ -0.       ,  0.        ,  0.        ,  -0.       ,  -0.       ],\n",
       "         [ -0.       ,  0.        ,  0.        ,  -0.       ,  -0.       ],\n",
       "         [ -0.       ,  0.        ,  0.        ,  -0.       ,  -0.       ],\n",
       "         [ -0.       ,  0.        ,  0.        ,  -0.       ,  -0.       ],\n",
       "         [ -0.       ,  0.        ,  0.        ,  -0.       ,  -0.       ],\n",
       "         [ -0.       ,  0.        ,  0.        ,  -0.       ,  -0.       ],\n",
       "         [ -0.       ,  0.        ,  0.        ,  -0.       ,  -0.       ],\n",
       "         [ -0.       ,  0.        ,  0.        ,  -0.       ,  -0.       ]],\n",
       "\n",
       "        [[ 0.52326089, -0.39613602, -0.11836523,  0.05948782, -0.17124951],\n",
       "         [ 0.52326089, -0.39613602, -0.11836523,  0.05948782, -0.17124951],\n",
       "         [ 0.22142595,  0.50726551, -0.32140428,  0.61215407, -0.55660534],\n",
       "         [ 0.31238186, -0.33121160,  0.19641513,  0.54663354, -0.08063835],\n",
       "         [ 0.28506643,  0.05156046, -0.13683656, -0.12907267,  0.46634430],\n",
       "         [ 0.53894895,  0.24171901,  0.61883634,  0.09842485, -0.40532160],\n",
       "         [-0.62038660, -0.17067182,  0.59875494,  0.48605603, -0.28674233],\n",
       "         [-0.21516374,  0.04859906,  0.29573840, -0.26310751,  0.50567621],\n",
       "         [-0.14327335,  0.20375228, -0.02116400, -0.58342016, -0.18440634],\n",
       "         [-0.17511517,  0.09032196, -0.23729756, -0.17499620, -0.50260121],\n",
       "         [ -0.       ,  0.        ,  0.        ,  -0.       ,  -0.       ],\n",
       "         [ -0.       ,  0.        ,  0.        ,  -0.       ,  -0.       ],\n",
       "         [ -0.       ,  0.        ,  0.        ,  -0.       ,  -0.       ],\n",
       "         [ -0.       ,  0.        ,  0.        ,  -0.       ,  -0.       ],\n",
       "         [ -0.       ,  0.        ,  0.        ,  -0.       ,  -0.       ],\n",
       "         [ -0.       ,  0.        ,  0.        ,  -0.       ,  -0.       ],\n",
       "         [ -0.       ,  0.        ,  0.        ,  -0.       ,  -0.       ],\n",
       "         [ -0.       ,  0.        ,  0.        ,  -0.       ,  -0.       ],\n",
       "         [ -0.       ,  0.        ,  0.        ,  -0.       ,  -0.       ],\n",
       "         [ -0.       ,  0.        ,  0.        ,  -0.       ,  -0.       ]],\n",
       "\n",
       "        [[-0.14327335,  0.20375228, -0.02116400, -0.58342016, -0.18440634],\n",
       "         [-0.17511517,  0.09032196, -0.23729756, -0.17499620, -0.50260121],\n",
       "         [ 0.22142595,  0.50726551, -0.32140428,  0.61215407, -0.55660534],\n",
       "         [ 0.31238186, -0.33121160,  0.19641513,  0.54663354, -0.08063835],\n",
       "         [ 0.52326089, -0.39613602, -0.11836523,  0.05948782, -0.17124951],\n",
       "         [ 0.53894895,  0.24171901,  0.61883634,  0.09842485, -0.40532160],\n",
       "         [-0.62038660, -0.17067182,  0.59875494,  0.48605603, -0.28674233],\n",
       "         [-0.21516374,  0.04859906,  0.29573840, -0.26310751,  0.50567621],\n",
       "         [ 0.53894895,  0.24171901,  0.61883634,  0.09842485, -0.40532160],\n",
       "         [-0.62038660, -0.17067182,  0.59875494,  0.48605603, -0.28674233],\n",
       "         [ -0.       ,  0.        ,  0.        ,  -0.       ,  -0.       ],\n",
       "         [ -0.       ,  0.        ,  0.        ,  -0.       ,  -0.       ],\n",
       "         [ -0.       ,  0.        ,  0.        ,  -0.       ,  -0.       ],\n",
       "         [ -0.       ,  0.        ,  0.        ,  -0.       ,  -0.       ],\n",
       "         [ -0.       ,  0.        ,  0.        ,  -0.       ,  -0.       ],\n",
       "         [ -0.       ,  0.        ,  0.        ,  -0.       ,  -0.       ],\n",
       "         [ -0.       ,  0.        ,  0.        ,  -0.       ,  -0.       ],\n",
       "         [ -0.       ,  0.        ,  0.        ,  -0.       ,  -0.       ],\n",
       "         [ -0.       ,  0.        ,  0.        ,  -0.       ,  -0.       ],\n",
       "         [ -0.       ,  0.        ,  0.        ,  -0.       ,  -0.       ]],\n",
       "\n",
       "        [[ 0.52326089, -0.39613602, -0.11836523,  0.05948782, -0.17124951],\n",
       "         [ 0.22142595,  0.50726551, -0.32140428,  0.61215407, -0.55660534],\n",
       "         [ 0.31238186, -0.33121160,  0.19641513,  0.54663354, -0.08063835],\n",
       "         [ 0.28506643,  0.05156046, -0.13683656, -0.12907267,  0.46634430],\n",
       "         [ 0.53894895,  0.24171901,  0.61883634,  0.09842485, -0.40532160],\n",
       "         [-0.62038660, -0.17067182,  0.59875494,  0.48605603, -0.28674233],\n",
       "         [-0.21516374,  0.04859906,  0.29573840, -0.26310751,  0.50567621],\n",
       "         [-0.14327335,  0.20375228, -0.02116400, -0.58342016, -0.18440634],\n",
       "         [-0.17511517,  0.09032196, -0.23729756, -0.17499620, -0.50260121],\n",
       "         [ 0.52326089, -0.39613602, -0.11836523,  0.05948782, -0.17124951],\n",
       "         [ -0.       ,  0.        ,  0.        ,  -0.       ,  -0.       ],\n",
       "         [ -0.       ,  0.        ,  0.        ,  -0.       ,  -0.       ],\n",
       "         [ -0.       ,  0.        ,  0.        ,  -0.       ,  -0.       ],\n",
       "         [ -0.       ,  0.        ,  0.        ,  -0.       ,  -0.       ],\n",
       "         [ -0.       ,  0.        ,  0.        ,  -0.       ,  -0.       ],\n",
       "         [ -0.       ,  0.        ,  0.        ,  -0.       ,  -0.       ],\n",
       "         [ -0.       ,  0.        ,  0.        ,  -0.       ,  -0.       ],\n",
       "         [ -0.       ,  0.        ,  0.        ,  -0.       ,  -0.       ],\n",
       "         [ -0.       ,  0.        ,  0.        ,  -0.       ,  -0.       ],\n",
       "         [ -0.       ,  0.        ,  0.        ,  -0.       ,  -0.       ]]])"
      ]
     },
     "execution_count": 107,
     "metadata": {},
     "output_type": "execute_result"
    }
   ],
   "source": [
    "paddle.exp(mask[:, 16, :].unsqueeze(-1)) * emb(f2)"
   ]
  },
  {
   "cell_type": "code",
   "execution_count": 106,
   "id": "06a8fddd-486c-4719-8dba-c5eeb08c1b05",
   "metadata": {
    "execution": {
     "iopub.execute_input": "2023-06-25T09:03:42.787197Z",
     "iopub.status.busy": "2023-06-25T09:03:42.786752Z",
     "iopub.status.idle": "2023-06-25T09:03:42.795605Z",
     "shell.execute_reply": "2023-06-25T09:03:42.794720Z",
     "shell.execute_reply.started": "2023-06-25T09:03:42.787169Z"
    },
    "tags": []
   },
   "outputs": [
    {
     "data": {
      "text/plain": [
       "Tensor(shape=[4, 20, 1], dtype=float64, place=Place(cpu), stop_gradient=True,\n",
       "       [[[1.],\n",
       "         [0.],\n",
       "         [0.],\n",
       "         [0.],\n",
       "         [0.],\n",
       "         [0.],\n",
       "         [0.],\n",
       "         [0.],\n",
       "         [0.],\n",
       "         [0.],\n",
       "         [0.],\n",
       "         [0.],\n",
       "         [0.],\n",
       "         [0.],\n",
       "         [0.],\n",
       "         [0.],\n",
       "         [0.],\n",
       "         [0.],\n",
       "         [0.],\n",
       "         [0.]],\n",
       "\n",
       "        [[1.],\n",
       "         [1.],\n",
       "         [1.],\n",
       "         [1.],\n",
       "         [1.],\n",
       "         [1.],\n",
       "         [1.],\n",
       "         [1.],\n",
       "         [1.],\n",
       "         [1.],\n",
       "         [0.],\n",
       "         [0.],\n",
       "         [0.],\n",
       "         [0.],\n",
       "         [0.],\n",
       "         [0.],\n",
       "         [0.],\n",
       "         [0.],\n",
       "         [0.],\n",
       "         [0.]],\n",
       "\n",
       "        [[1.],\n",
       "         [1.],\n",
       "         [1.],\n",
       "         [1.],\n",
       "         [1.],\n",
       "         [1.],\n",
       "         [1.],\n",
       "         [1.],\n",
       "         [1.],\n",
       "         [1.],\n",
       "         [0.],\n",
       "         [0.],\n",
       "         [0.],\n",
       "         [0.],\n",
       "         [0.],\n",
       "         [0.],\n",
       "         [0.],\n",
       "         [0.],\n",
       "         [0.],\n",
       "         [0.]],\n",
       "\n",
       "        [[1.],\n",
       "         [1.],\n",
       "         [1.],\n",
       "         [1.],\n",
       "         [1.],\n",
       "         [1.],\n",
       "         [1.],\n",
       "         [1.],\n",
       "         [1.],\n",
       "         [1.],\n",
       "         [0.],\n",
       "         [0.],\n",
       "         [0.],\n",
       "         [0.],\n",
       "         [0.],\n",
       "         [0.],\n",
       "         [0.],\n",
       "         [0.],\n",
       "         [0.],\n",
       "         [0.]]])"
      ]
     },
     "execution_count": 106,
     "metadata": {},
     "output_type": "execute_result"
    }
   ],
   "source": [
    "paddle.exp(mask[:, 16, :].unsqueeze(-1))"
   ]
  },
  {
   "cell_type": "code",
   "execution_count": null,
   "id": "3e56e0da-f083-475e-b1fc-87764c298bd5",
   "metadata": {},
   "outputs": [],
   "source": []
  },
  {
   "cell_type": "code",
   "execution_count": 133,
   "id": "c43d7f80-6400-4b5c-a2b5-9cffc8cc1aae",
   "metadata": {
    "execution": {
     "iopub.execute_input": "2023-06-25T09:23:28.606808Z",
     "iopub.status.busy": "2023-06-25T09:23:28.606169Z",
     "iopub.status.idle": "2023-06-25T09:23:28.617499Z",
     "shell.execute_reply": "2023-06-25T09:23:28.616567Z",
     "shell.execute_reply.started": "2023-06-25T09:23:28.606779Z"
    },
    "tags": []
   },
   "outputs": [],
   "source": [
    "import paddle\n",
    "import paddle.nn.functional as F\n",
    "\n",
    "\n",
    "class DNN(paddle.nn.Layer):\n",
    "    def __init__(self):\n",
    "        super().__init__()\n",
    "\n",
    "        self.sparse_feature_number = 10\n",
    "        self.sparse_feature_dim = 5\n",
    "        self.num_field = 2\n",
    "        self.layer_sizes = [8]\n",
    "\n",
    "        self.embedding = paddle.nn.Embedding(\n",
    "            num_embeddings=self.sparse_feature_number,\n",
    "            embedding_dim=self.sparse_feature_dim,\n",
    "            weight_attr=paddle.framework.ParamAttr(\n",
    "                initializer=paddle.nn.initializer.XavierUniform()\n",
    "            )\n",
    "        )\n",
    "\n",
    "        sizes = [self.sparse_feature_dim * self.num_field] + self.layer_sizes + [1]\n",
    "\n",
    "        self.layers = []\n",
    "\n",
    "        for i in range(len(sizes) - 1):\n",
    "            linear = paddle.nn.Linear(\n",
    "                in_features=sizes[i],\n",
    "                out_features=sizes[i+1],\n",
    "                weight_attr=paddle.framework.ParamAttr(\n",
    "                    initializer=paddle.nn.initializer.XavierUniform()),\n",
    "                bias_attr=paddle.ParamAttr(\n",
    "                    initializer=paddle.nn.initializer.Constant(value=0.0))\n",
    "            )\n",
    "            self.layers.append(linear)\n",
    "\n",
    "    def forward(self, features, mask):\n",
    "        feature_ls = []\n",
    "\n",
    "        for idx, feature in enumerate(features):\n",
    "            emb = paddle.sum(\n",
    "                paddle.exp(mask[:, idx, :].unsqueeze(-1)) * self.embedding(feature),\n",
    "                axis=1\n",
    "            )\n",
    "\n",
    "            feature_ls.append(emb)\n",
    "\n",
    "        x = paddle.concat(feature_ls, axis=1).astype(\"float32\")\n",
    "\n",
    "        for idx, layer in enumerate(self.layers):\n",
    "            x = layer(x)\n",
    "\n",
    "            if idx != len(self.layers) - 1:\n",
    "                x = F.relu(x)\n",
    "\n",
    "        return F.sigmoid(x)\n"
   ]
  },
  {
   "cell_type": "code",
   "execution_count": 134,
   "id": "91d7ac58-b662-44aa-a2ee-ac790bf72f76",
   "metadata": {
    "execution": {
     "iopub.execute_input": "2023-06-25T09:23:28.871856Z",
     "iopub.status.busy": "2023-06-25T09:23:28.871222Z",
     "iopub.status.idle": "2023-06-25T09:23:28.877754Z",
     "shell.execute_reply": "2023-06-25T09:23:28.876959Z",
     "shell.execute_reply.started": "2023-06-25T09:23:28.871827Z"
    },
    "tags": []
   },
   "outputs": [],
   "source": [
    "dnn = DNN()"
   ]
  },
  {
   "cell_type": "code",
   "execution_count": null,
   "id": "e0e8ad74-b4e6-4c8f-8fe1-6c3f0025ce96",
   "metadata": {},
   "outputs": [],
   "source": []
  },
  {
   "cell_type": "code",
   "execution_count": 131,
   "id": "c00fe048-577e-482d-b0f0-6d3e4ae42783",
   "metadata": {
    "execution": {
     "iopub.execute_input": "2023-06-25T09:23:14.024126Z",
     "iopub.status.busy": "2023-06-25T09:23:14.023699Z",
     "iopub.status.idle": "2023-06-25T09:23:14.027925Z",
     "shell.execute_reply": "2023-06-25T09:23:14.027002Z",
     "shell.execute_reply.started": "2023-06-25T09:23:14.024096Z"
    },
    "tags": []
   },
   "outputs": [],
   "source": [
    "features = [f1, f2]"
   ]
  },
  {
   "cell_type": "code",
   "execution_count": 135,
   "id": "b94d5ffe-315c-498a-9579-505c76933b24",
   "metadata": {
    "execution": {
     "iopub.execute_input": "2023-06-25T09:23:30.766721Z",
     "iopub.status.busy": "2023-06-25T09:23:30.766351Z",
     "iopub.status.idle": "2023-06-25T09:23:30.782451Z",
     "shell.execute_reply": "2023-06-25T09:23:30.781426Z",
     "shell.execute_reply.started": "2023-06-25T09:23:30.766691Z"
    },
    "tags": []
   },
   "outputs": [
    {
     "data": {
      "text/plain": [
       "Tensor(shape=[4, 1], dtype=float32, place=Place(cpu), stop_gradient=False,\n",
       "       [[0.48766893],\n",
       "        [0.54612899],\n",
       "        [0.55225706],\n",
       "        [0.44780943]])"
      ]
     },
     "execution_count": 135,
     "metadata": {},
     "output_type": "execute_result"
    }
   ],
   "source": [
    "dnn(features, mask)"
   ]
  },
  {
   "cell_type": "code",
   "execution_count": null,
   "id": "cf493ec2-035d-4745-b75a-971e02a43dc4",
   "metadata": {},
   "outputs": [],
   "source": []
  },
  {
   "cell_type": "code",
   "execution_count": null,
   "id": "aaa341d9-a3ee-4d76-bad5-6267e9d01df3",
   "metadata": {},
   "outputs": [],
   "source": []
  },
  {
   "cell_type": "code",
   "execution_count": 68,
   "id": "99f780a2-a211-4d45-8b79-dec7505a9095",
   "metadata": {
    "execution": {
     "iopub.execute_input": "2023-06-29T06:26:54.466694Z",
     "iopub.status.busy": "2023-06-29T06:26:54.460363Z",
     "iopub.status.idle": "2023-06-29T06:26:54.526510Z",
     "shell.execute_reply": "2023-06-29T06:26:54.525382Z",
     "shell.execute_reply.started": "2023-06-29T06:26:54.466609Z"
    },
    "tags": []
   },
   "outputs": [
    {
     "data": {
      "text/plain": [
       "Tensor(shape=[4, 3, 5], dtype=float32, place=Place(cpu), stop_gradient=True,\n",
       "       [[[15., 19., 46., 63., 66.],\n",
       "         [93., 41., 28., 45., 6. ],\n",
       "         [45., 82., 53., 12., 37.]],\n",
       "\n",
       "        [[28., 82., 41., 88., 57.],\n",
       "         [6. , 92., 36., 12., 60.],\n",
       "         [29., 1. , 43., 43., 11.]],\n",
       "\n",
       "        [[16., 91., 46., 99., 94.],\n",
       "         [23., 37., 56., 58., 3. ],\n",
       "         [36., 14., 32., 38., 52.]],\n",
       "\n",
       "        [[3. , 56., 7. , 47., 52.],\n",
       "         [58., 21., 37., 73., 31.],\n",
       "         [47., 80., 2. , 17., 10.]]])"
      ]
     },
     "execution_count": 68,
     "metadata": {},
     "output_type": "execute_result"
    }
   ],
   "source": [
    "b = paddle.randint(low=1, high=101, shape=[4, 3, 5])\n",
    "b = paddle.cast(b, dtype=\"float32\")\n",
    "b"
   ]
  },
  {
   "cell_type": "code",
   "execution_count": 69,
   "id": "293040bd-dd60-49b9-9260-8ac7d3218370",
   "metadata": {
    "execution": {
     "iopub.execute_input": "2023-06-29T06:27:00.010237Z",
     "iopub.status.busy": "2023-06-29T06:27:00.009829Z",
     "iopub.status.idle": "2023-06-29T06:27:00.026555Z",
     "shell.execute_reply": "2023-06-29T06:27:00.025817Z",
     "shell.execute_reply.started": "2023-06-29T06:27:00.010209Z"
    },
    "tags": []
   },
   "outputs": [
    {
     "data": {
      "text/plain": [
       "Tensor(shape=[4, 3, 1], dtype=float32, place=Place(cpu), stop_gradient=True,\n",
       "       [[[105.00952911],\n",
       "         [114.78239441],\n",
       "         [114.32847595]],\n",
       "\n",
       "        [[142.06335449],\n",
       "         [116.36151123],\n",
       "         [68.27151489 ]],\n",
       "\n",
       "        [[171.14321899],\n",
       "         [91.68968964 ],\n",
       "         [81.63332367 ]],\n",
       "\n",
       "        [[90.03887939 ],\n",
       "         [107.07006836],\n",
       "         [94.87886810 ]]])"
      ]
     },
     "execution_count": 69,
     "metadata": {},
     "output_type": "execute_result"
    }
   ],
   "source": [
    "paddle.sqrt(paddle.sum(b**2, axis=-1, keepdim=True))"
   ]
  },
  {
   "cell_type": "code",
   "execution_count": 70,
   "id": "a166cea3-9c91-4583-9db3-382fb4757448",
   "metadata": {
    "execution": {
     "iopub.execute_input": "2023-06-29T06:27:04.684508Z",
     "iopub.status.busy": "2023-06-29T06:27:04.684134Z",
     "iopub.status.idle": "2023-06-29T06:27:04.700887Z",
     "shell.execute_reply": "2023-06-29T06:27:04.699443Z",
     "shell.execute_reply.started": "2023-06-29T06:27:04.684483Z"
    },
    "tags": []
   },
   "outputs": [
    {
     "data": {
      "text/plain": [
       "Tensor(shape=[4, 3, 5], dtype=float32, place=Place(cpu), stop_gradient=True,\n",
       "       [[[0.14284419, 0.18093596, 0.43805549, 0.59994555, 0.62851441],\n",
       "         [0.81022877, 0.35719764, 0.24393985, 0.39204618, 0.05227283],\n",
       "         [0.39360273, 0.71723163, 0.46357656, 0.10496072, 0.32362890]],\n",
       "\n",
       "        [[0.19709516, 0.57720727, 0.28860363, 0.61944193, 0.40122944],\n",
       "         [0.05156344, 0.79063946, 0.30938065, 0.10312688, 0.51563442],\n",
       "         [0.42477453, 0.01464740, 0.62983811, 0.62983811, 0.16112137]],\n",
       "\n",
       "        [[0.09348895, 0.53171843, 0.26878074, 0.57846290, 0.54924756],\n",
       "         [0.25084609, 0.40353501, 0.61075568, 0.63256842, 0.03271905],\n",
       "         [0.44099638, 0.17149860, 0.39199677, 0.46549618, 0.63699478]],\n",
       "\n",
       "        [[0.03331894, 0.62195355, 0.07774419, 0.52199674, 0.57752830],\n",
       "         [0.54170132, 0.19613324, 0.34556809, 0.68179649, 0.28953004],\n",
       "         [0.49536848, 0.84318036, 0.02107951, 0.17917582, 0.10539754]]])"
      ]
     },
     "execution_count": 70,
     "metadata": {},
     "output_type": "execute_result"
    }
   ],
   "source": [
    "normalized_b = b / paddle.sqrt(paddle.sum(b**2, axis=-1, keepdim=True))\n",
    "normalized_b"
   ]
  },
  {
   "cell_type": "code",
   "execution_count": 71,
   "id": "0d4ae0d5-f087-4dc4-b5cb-65534d5c3f68",
   "metadata": {
    "execution": {
     "iopub.execute_input": "2023-06-29T06:27:11.242767Z",
     "iopub.status.busy": "2023-06-29T06:27:11.241490Z",
     "iopub.status.idle": "2023-06-29T06:27:11.266284Z",
     "shell.execute_reply": "2023-06-29T06:27:11.265347Z",
     "shell.execute_reply.started": "2023-06-29T06:27:11.242732Z"
    },
    "tags": []
   },
   "outputs": [
    {
     "data": {
      "text/plain": [
       "Tensor(shape=[4, 5, 3], dtype=float32, place=Place(cpu), stop_gradient=True,\n",
       "       [[[0.14284419, 0.81022877, 0.39360273],\n",
       "         [0.18093596, 0.35719764, 0.71723163],\n",
       "         [0.43805549, 0.24393985, 0.46357656],\n",
       "         [0.59994555, 0.39204618, 0.10496072],\n",
       "         [0.62851441, 0.05227283, 0.32362890]],\n",
       "\n",
       "        [[0.19709516, 0.05156344, 0.42477453],\n",
       "         [0.57720727, 0.79063946, 0.01464740],\n",
       "         [0.28860363, 0.30938065, 0.62983811],\n",
       "         [0.61944193, 0.10312688, 0.62983811],\n",
       "         [0.40122944, 0.51563442, 0.16112137]],\n",
       "\n",
       "        [[0.09348895, 0.25084609, 0.44099638],\n",
       "         [0.53171843, 0.40353501, 0.17149860],\n",
       "         [0.26878074, 0.61075568, 0.39199677],\n",
       "         [0.57846290, 0.63256842, 0.46549618],\n",
       "         [0.54924756, 0.03271905, 0.63699478]],\n",
       "\n",
       "        [[0.03331894, 0.54170132, 0.49536848],\n",
       "         [0.62195355, 0.19613324, 0.84318036],\n",
       "         [0.07774419, 0.34556809, 0.02107951],\n",
       "         [0.52199674, 0.68179649, 0.17917582],\n",
       "         [0.57752830, 0.28953004, 0.10539754]]])"
      ]
     },
     "execution_count": 71,
     "metadata": {},
     "output_type": "execute_result"
    }
   ],
   "source": [
    "normalized_b_transpose = normalized_b.transpose(perm=(0, 2, 1))\n",
    "normalized_b_transpose"
   ]
  },
  {
   "cell_type": "code",
   "execution_count": 73,
   "id": "5e1c3ea8-6b79-4f7c-a363-31c996204127",
   "metadata": {
    "execution": {
     "iopub.execute_input": "2023-06-29T06:27:20.729166Z",
     "iopub.status.busy": "2023-06-29T06:27:20.728707Z",
     "iopub.status.idle": "2023-06-29T06:27:20.740596Z",
     "shell.execute_reply": "2023-06-29T06:27:20.739825Z",
     "shell.execute_reply.started": "2023-06-29T06:27:20.729139Z"
    },
    "tags": []
   },
   "outputs": [
    {
     "data": {
      "text/plain": [
       "Tensor(shape=[4, 3, 5], dtype=float32, place=Place(cpu), stop_gradient=True,\n",
       "       [[[1., 1., 1., 1., 1.],\n",
       "         [1., 1., 1., 1., 1.],\n",
       "         [1., 1., 1., 1., 1.]],\n",
       "\n",
       "        [[1., 1., 1., 1., 1.],\n",
       "         [1., 1., 1., 1., 1.],\n",
       "         [1., 1., 1., 1., 1.]],\n",
       "\n",
       "        [[1., 1., 1., 1., 1.],\n",
       "         [1., 1., 1., 1., 1.],\n",
       "         [1., 1., 1., 1., 1.]],\n",
       "\n",
       "        [[1., 1., 1., 1., 1.],\n",
       "         [1., 1., 1., 1., 1.],\n",
       "         [1., 1., 1., 1., 1.]]])"
      ]
     },
     "execution_count": 73,
     "metadata": {},
     "output_type": "execute_result"
    }
   ],
   "source": [
    "a = paddle.ones(shape=[4, 3, 5]) # batch_size=4, non_zero_values=3, emb_dim=5\n",
    "a"
   ]
  },
  {
   "cell_type": "code",
   "execution_count": 74,
   "id": "3ca03cc7-6f61-4671-acae-733068b10e24",
   "metadata": {
    "execution": {
     "iopub.execute_input": "2023-06-29T06:27:20.858261Z",
     "iopub.status.busy": "2023-06-29T06:27:20.857872Z",
     "iopub.status.idle": "2023-06-29T06:27:20.866689Z",
     "shell.execute_reply": "2023-06-29T06:27:20.865918Z",
     "shell.execute_reply.started": "2023-06-29T06:27:20.858233Z"
    },
    "tags": []
   },
   "outputs": [
    {
     "data": {
      "text/plain": [
       "Tensor(shape=[4, 3, 5], dtype=float32, place=Place(cpu), stop_gradient=True,\n",
       "       [[[0.44721359, 0.44721359, 0.44721359, 0.44721359, 0.44721359],\n",
       "         [0.44721359, 0.44721359, 0.44721359, 0.44721359, 0.44721359],\n",
       "         [0.44721359, 0.44721359, 0.44721359, 0.44721359, 0.44721359]],\n",
       "\n",
       "        [[0.44721359, 0.44721359, 0.44721359, 0.44721359, 0.44721359],\n",
       "         [0.44721359, 0.44721359, 0.44721359, 0.44721359, 0.44721359],\n",
       "         [0.44721359, 0.44721359, 0.44721359, 0.44721359, 0.44721359]],\n",
       "\n",
       "        [[0.44721359, 0.44721359, 0.44721359, 0.44721359, 0.44721359],\n",
       "         [0.44721359, 0.44721359, 0.44721359, 0.44721359, 0.44721359],\n",
       "         [0.44721359, 0.44721359, 0.44721359, 0.44721359, 0.44721359]],\n",
       "\n",
       "        [[0.44721359, 0.44721359, 0.44721359, 0.44721359, 0.44721359],\n",
       "         [0.44721359, 0.44721359, 0.44721359, 0.44721359, 0.44721359],\n",
       "         [0.44721359, 0.44721359, 0.44721359, 0.44721359, 0.44721359]]])"
      ]
     },
     "execution_count": 74,
     "metadata": {},
     "output_type": "execute_result"
    }
   ],
   "source": [
    "normalized_a = a / paddle.sqrt(paddle.sum(a**2, axis=-1, keepdim=True))\n",
    "normalized_a"
   ]
  },
  {
   "cell_type": "code",
   "execution_count": 82,
   "id": "41c08863-fae2-4521-9ccb-9dce722b3b62",
   "metadata": {
    "execution": {
     "iopub.execute_input": "2023-06-29T06:30:32.825304Z",
     "iopub.status.busy": "2023-06-29T06:30:32.824893Z",
     "iopub.status.idle": "2023-06-29T06:30:32.832737Z",
     "shell.execute_reply": "2023-06-29T06:30:32.831958Z",
     "shell.execute_reply.started": "2023-06-29T06:30:32.825277Z"
    },
    "tags": []
   },
   "outputs": [
    {
     "data": {
      "text/plain": [
       "Tensor(shape=[4, 3, 3], dtype=float32, place=Place(cpu), stop_gradient=True,\n",
       "       [[[0.39805910, 0.37113702, 0.40060008],\n",
       "         [0.39805910, 0.37113702, 0.40060008],\n",
       "         [0.39805910, 0.37113702, 0.40060008]],\n",
       "\n",
       "        [[0.41671550, 0.35406896, 0.37204388],\n",
       "         [0.41671550, 0.35406896, 0.37204388],\n",
       "         [0.41671550, 0.35406896, 0.37204388]],\n",
       "\n",
       "        [[0.40433973, 0.38608482, 0.42139652],\n",
       "         [0.40433973, 0.38608482, 0.42139652],\n",
       "         [0.40433973, 0.38608482, 0.42139652]],\n",
       "\n",
       "        [[0.36650831, 0.41094583, 0.32884037],\n",
       "         [0.36650831, 0.41094583, 0.32884037],\n",
       "         [0.36650831, 0.41094583, 0.32884037]]])"
      ]
     },
     "execution_count": 82,
     "metadata": {},
     "output_type": "execute_result"
    }
   ],
   "source": [
    "(normalized_a @ normalized_b_transpose) / 5**0.5"
   ]
  },
  {
   "cell_type": "code",
   "execution_count": 83,
   "id": "26b5c610-b444-4ec8-93f0-12a01ca1a9fe",
   "metadata": {
    "execution": {
     "iopub.execute_input": "2023-06-29T06:30:54.817884Z",
     "iopub.status.busy": "2023-06-29T06:30:54.817524Z",
     "iopub.status.idle": "2023-06-29T06:30:54.833395Z",
     "shell.execute_reply": "2023-06-29T06:30:54.832480Z",
     "shell.execute_reply.started": "2023-06-29T06:30:54.817856Z"
    },
    "tags": []
   },
   "outputs": [
    {
     "data": {
      "text/plain": [
       "Tensor(shape=[4, 3, 3], dtype=float32, place=Place(cpu), stop_gradient=True,\n",
       "       [[[0.33602360, 0.32709783, 0.33687851],\n",
       "         [0.33602360, 0.32709783, 0.33687851],\n",
       "         [0.33602360, 0.32709783, 0.33687851]],\n",
       "\n",
       "        [[0.34535313, 0.32438171, 0.33026513],\n",
       "         [0.34535313, 0.32438171, 0.33026513],\n",
       "         [0.34535313, 0.32438171, 0.33026513]],\n",
       "\n",
       "        [[0.33343184, 0.32740030, 0.33916789],\n",
       "         [0.33343184, 0.32740030, 0.33916789],\n",
       "         [0.33343184, 0.32740030, 0.33916789]],\n",
       "\n",
       "        [[0.33239460, 0.34749851, 0.32010686],\n",
       "         [0.33239460, 0.34749851, 0.32010686],\n",
       "         [0.33239460, 0.34749851, 0.32010686]]])"
      ]
     },
     "execution_count": 83,
     "metadata": {},
     "output_type": "execute_result"
    }
   ],
   "source": [
    "attention = paddle.nn.functional.softmax((normalized_a @ normalized_b_transpose) / 5**0.5)\n",
    "attention"
   ]
  },
  {
   "cell_type": "code",
   "execution_count": 62,
   "id": "8e6cb837-76ee-4f93-9020-74f85547b646",
   "metadata": {
    "execution": {
     "iopub.execute_input": "2023-06-29T05:16:29.878210Z",
     "iopub.status.busy": "2023-06-29T05:16:29.877891Z",
     "iopub.status.idle": "2023-06-29T05:16:29.886666Z",
     "shell.execute_reply": "2023-06-29T05:16:29.885738Z",
     "shell.execute_reply.started": "2023-06-29T05:16:29.878184Z"
    },
    "tags": []
   },
   "outputs": [
    {
     "data": {
      "text/plain": [
       "Tensor(shape=[4, 3, 1], dtype=float32, place=Place(cpu), stop_gradient=True,\n",
       "       [[[1.88326001],\n",
       "         [1.88326001],\n",
       "         [1.88326001]],\n",
       "\n",
       "        [[1.59917104],\n",
       "         [1.59917104],\n",
       "         [1.59917104]],\n",
       "\n",
       "        [[1.75510931],\n",
       "         [1.75510931],\n",
       "         [1.75510931]],\n",
       "\n",
       "        [[1.89605808],\n",
       "         [1.89605808],\n",
       "         [1.89605808]]])"
      ]
     },
     "execution_count": 62,
     "metadata": {},
     "output_type": "execute_result"
    }
   ],
   "source": [
    "paddle.sum(normalized_a @ normalized_b_transpose, axis=2, keepdim=True)"
   ]
  },
  {
   "cell_type": "code",
   "execution_count": 63,
   "id": "0fc952e1-1658-41be-9b25-0e6f6e689579",
   "metadata": {
    "execution": {
     "iopub.execute_input": "2023-06-29T05:16:44.097477Z",
     "iopub.status.busy": "2023-06-29T05:16:44.097106Z",
     "iopub.status.idle": "2023-06-29T05:16:44.106419Z",
     "shell.execute_reply": "2023-06-29T05:16:44.105641Z",
     "shell.execute_reply.started": "2023-06-29T05:16:44.097451Z"
    },
    "tags": []
   },
   "outputs": [
    {
     "data": {
      "text/plain": [
       "Tensor(shape=[4, 3, 5], dtype=float32, place=Place(cpu), stop_gradient=True,\n",
       "       [[[1.88326001, 1.88326001, 1.88326001, 1.88326001, 1.88326001],\n",
       "         [1.88326001, 1.88326001, 1.88326001, 1.88326001, 1.88326001],\n",
       "         [1.88326001, 1.88326001, 1.88326001, 1.88326001, 1.88326001]],\n",
       "\n",
       "        [[1.59917104, 1.59917104, 1.59917104, 1.59917104, 1.59917104],\n",
       "         [1.59917104, 1.59917104, 1.59917104, 1.59917104, 1.59917104],\n",
       "         [1.59917104, 1.59917104, 1.59917104, 1.59917104, 1.59917104]],\n",
       "\n",
       "        [[1.75510931, 1.75510931, 1.75510931, 1.75510931, 1.75510931],\n",
       "         [1.75510931, 1.75510931, 1.75510931, 1.75510931, 1.75510931],\n",
       "         [1.75510931, 1.75510931, 1.75510931, 1.75510931, 1.75510931]],\n",
       "\n",
       "        [[1.89605808, 1.89605808, 1.89605808, 1.89605808, 1.89605808],\n",
       "         [1.89605808, 1.89605808, 1.89605808, 1.89605808, 1.89605808],\n",
       "         [1.89605808, 1.89605808, 1.89605808, 1.89605808, 1.89605808]]])"
      ]
     },
     "execution_count": 63,
     "metadata": {},
     "output_type": "execute_result"
    }
   ],
   "source": [
    "a * paddle.sum(normalized_a @ normalized_b_transpose, axis=2, keepdim=True)"
   ]
  },
  {
   "cell_type": "code",
   "execution_count": 64,
   "id": "86c90a41-5511-4913-a8da-2791d6bf0c81",
   "metadata": {
    "execution": {
     "iopub.execute_input": "2023-06-29T05:16:53.002800Z",
     "iopub.status.busy": "2023-06-29T05:16:53.002429Z",
     "iopub.status.idle": "2023-06-29T05:16:53.011265Z",
     "shell.execute_reply": "2023-06-29T05:16:53.010101Z",
     "shell.execute_reply.started": "2023-06-29T05:16:53.002773Z"
    },
    "tags": []
   },
   "outputs": [
    {
     "data": {
      "text/plain": [
       "Tensor(shape=[4, 5], dtype=float32, place=Place(cpu), stop_gradient=True,\n",
       "       [[5.64978027, 5.64978027, 5.64978027, 5.64978027, 5.64978027],\n",
       "        [4.79751301, 4.79751301, 4.79751301, 4.79751301, 4.79751301],\n",
       "        [5.26532793, 5.26532793, 5.26532793, 5.26532793, 5.26532793],\n",
       "        [5.68817425, 5.68817425, 5.68817425, 5.68817425, 5.68817425]])"
      ]
     },
     "execution_count": 64,
     "metadata": {},
     "output_type": "execute_result"
    }
   ],
   "source": [
    "paddle.sum(a * paddle.sum(normalized_a @ normalized_b_transpose, axis=2, keepdim=True), axis=1)"
   ]
  },
  {
   "cell_type": "code",
   "execution_count": null,
   "id": "2c1926ff-fc65-480d-8ab9-f86467e87307",
   "metadata": {},
   "outputs": [],
   "source": []
  },
  {
   "cell_type": "code",
   "execution_count": 85,
   "id": "af2b58b6-4511-44b6-91da-47f8304d4d93",
   "metadata": {
    "execution": {
     "iopub.execute_input": "2023-06-29T06:31:16.805344Z",
     "iopub.status.busy": "2023-06-29T06:31:16.804898Z",
     "iopub.status.idle": "2023-06-29T06:31:16.813873Z",
     "shell.execute_reply": "2023-06-29T06:31:16.812952Z",
     "shell.execute_reply.started": "2023-06-29T06:31:16.805324Z"
    },
    "tags": []
   },
   "outputs": [
    {
     "data": {
      "text/plain": [
       "Tensor(shape=[4, 3, 3], dtype=float32, place=Place(cpu), stop_gradient=True,\n",
       "       [[[0.33602360, 0.32709783, 0.33687851],\n",
       "         [0.33602360, 0.32709783, 0.33687851],\n",
       "         [0.33602360, 0.32709783, 0.33687851]],\n",
       "\n",
       "        [[0.34535313, 0.32438171, 0.33026513],\n",
       "         [0.34535313, 0.32438171, 0.33026513],\n",
       "         [0.34535313, 0.32438171, 0.33026513]],\n",
       "\n",
       "        [[0.33343184, 0.32740030, 0.33916789],\n",
       "         [0.33343184, 0.32740030, 0.33916789],\n",
       "         [0.33343184, 0.32740030, 0.33916789]],\n",
       "\n",
       "        [[0.33239460, 0.34749851, 0.32010686],\n",
       "         [0.33239460, 0.34749851, 0.32010686],\n",
       "         [0.33239460, 0.34749851, 0.32010686]]])"
      ]
     },
     "execution_count": 85,
     "metadata": {},
     "output_type": "execute_result"
    }
   ],
   "source": [
    "attention"
   ]
  },
  {
   "cell_type": "code",
   "execution_count": 86,
   "id": "108e2b76-5639-454c-9238-bda1723423de",
   "metadata": {
    "execution": {
     "iopub.execute_input": "2023-06-29T06:31:18.466444Z",
     "iopub.status.busy": "2023-06-29T06:31:18.466069Z",
     "iopub.status.idle": "2023-06-29T06:31:18.474959Z",
     "shell.execute_reply": "2023-06-29T06:31:18.473914Z",
     "shell.execute_reply.started": "2023-06-29T06:31:18.466414Z"
    },
    "tags": []
   },
   "outputs": [
    {
     "data": {
      "text/plain": [
       "Tensor(shape=[4, 3, 5], dtype=float32, place=Place(cpu), stop_gradient=True,\n",
       "       [[[1., 1., 1., 1., 1.],\n",
       "         [1., 1., 1., 1., 1.],\n",
       "         [1., 1., 1., 1., 1.]],\n",
       "\n",
       "        [[1., 1., 1., 1., 1.],\n",
       "         [1., 1., 1., 1., 1.],\n",
       "         [1., 1., 1., 1., 1.]],\n",
       "\n",
       "        [[1., 1., 1., 1., 1.],\n",
       "         [1., 1., 1., 1., 1.],\n",
       "         [1., 1., 1., 1., 1.]],\n",
       "\n",
       "        [[1., 1., 1., 1., 1.],\n",
       "         [1., 1., 1., 1., 1.],\n",
       "         [1., 1., 1., 1., 1.]]])"
      ]
     },
     "execution_count": 86,
     "metadata": {},
     "output_type": "execute_result"
    }
   ],
   "source": [
    "a"
   ]
  },
  {
   "cell_type": "code",
   "execution_count": 84,
   "id": "3f43ef0b-d89f-4cbf-898e-c9a30233e038",
   "metadata": {
    "execution": {
     "iopub.execute_input": "2023-06-29T06:31:07.793636Z",
     "iopub.status.busy": "2023-06-29T06:31:07.793283Z",
     "iopub.status.idle": "2023-06-29T06:31:07.800324Z",
     "shell.execute_reply": "2023-06-29T06:31:07.799349Z",
     "shell.execute_reply.started": "2023-06-29T06:31:07.793609Z"
    },
    "tags": []
   },
   "outputs": [
    {
     "data": {
      "text/plain": [
       "Tensor(shape=[4, 3, 5], dtype=float32, place=Place(cpu), stop_gradient=True,\n",
       "       [[[1., 1., 1., 1., 1.],\n",
       "         [1., 1., 1., 1., 1.],\n",
       "         [1., 1., 1., 1., 1.]],\n",
       "\n",
       "        [[1., 1., 1., 1., 1.],\n",
       "         [1., 1., 1., 1., 1.],\n",
       "         [1., 1., 1., 1., 1.]],\n",
       "\n",
       "        [[1., 1., 1., 1., 1.],\n",
       "         [1., 1., 1., 1., 1.],\n",
       "         [1., 1., 1., 1., 1.]],\n",
       "\n",
       "        [[1., 1., 1., 1., 1.],\n",
       "         [1., 1., 1., 1., 1.],\n",
       "         [1., 1., 1., 1., 1.]]])"
      ]
     },
     "execution_count": 84,
     "metadata": {},
     "output_type": "execute_result"
    }
   ],
   "source": [
    "attention @ a"
   ]
  },
  {
   "cell_type": "code",
   "execution_count": 87,
   "id": "e0df89a8-2449-4cdf-a623-c192b6072aa8",
   "metadata": {
    "execution": {
     "iopub.execute_input": "2023-06-29T06:46:29.062670Z",
     "iopub.status.busy": "2023-06-29T06:46:29.054674Z",
     "iopub.status.idle": "2023-06-29T06:46:29.109914Z",
     "shell.execute_reply": "2023-06-29T06:46:29.107509Z",
     "shell.execute_reply.started": "2023-06-29T06:46:29.062596Z"
    },
    "tags": []
   },
   "outputs": [
    {
     "data": {
      "text/plain": [
       "Tensor(shape=[4, 5], dtype=float32, place=Place(cpu), stop_gradient=True,\n",
       "       [[3., 3., 3., 3., 3.],\n",
       "        [3., 3., 3., 3., 3.],\n",
       "        [3., 3., 3., 3., 3.],\n",
       "        [3., 3., 3., 3., 3.]])"
      ]
     },
     "execution_count": 87,
     "metadata": {},
     "output_type": "execute_result"
    }
   ],
   "source": [
    "paddle.sum(attention @ a, axis=1)"
   ]
  },
  {
   "cell_type": "code",
   "execution_count": null,
   "id": "fc7ab720-f42e-448b-bc80-ce74c21634e3",
   "metadata": {},
   "outputs": [],
   "source": []
  },
  {
   "cell_type": "code",
   "execution_count": 183,
   "id": "b7ca089c-4916-44cd-8862-fb9ed62c3289",
   "metadata": {
    "execution": {
     "iopub.execute_input": "2023-06-30T05:19:32.724875Z",
     "iopub.status.busy": "2023-06-30T05:19:32.724395Z",
     "iopub.status.idle": "2023-06-30T05:19:32.730879Z",
     "shell.execute_reply": "2023-06-30T05:19:32.729964Z",
     "shell.execute_reply.started": "2023-06-30T05:19:32.724847Z"
    },
    "tags": []
   },
   "outputs": [],
   "source": [
    "WQ = paddle.randn(shape=[10,3])\n",
    "WK = paddle.randn(shape=[10,3])\n",
    "WV = paddle.randn(shape=[10,3])"
   ]
  },
  {
   "cell_type": "code",
   "execution_count": 184,
   "id": "95f43eaa-3aec-44ad-bdb5-5affb117bca0",
   "metadata": {
    "execution": {
     "iopub.execute_input": "2023-06-30T05:19:32.890101Z",
     "iopub.status.busy": "2023-06-30T05:19:32.889525Z",
     "iopub.status.idle": "2023-06-30T05:19:32.900843Z",
     "shell.execute_reply": "2023-06-30T05:19:32.899506Z",
     "shell.execute_reply.started": "2023-06-30T05:19:32.890029Z"
    },
    "tags": []
   },
   "outputs": [
    {
     "data": {
      "text/plain": [
       "(Tensor(shape=[10, 3], dtype=float32, place=Place(cpu), stop_gradient=True,\n",
       "        [[-0.02911364, -0.47811183,  0.40014619],\n",
       "         [-0.13354546,  0.10683342, -1.58571506],\n",
       "         [-0.38840693, -0.95521319,  0.09084713],\n",
       "         [ 1.75245047, -0.95999950,  0.46159360],\n",
       "         [-1.33324468, -0.60996574,  0.49316347],\n",
       "         [ 0.52573293,  0.57017356,  0.51194710],\n",
       "         [ 0.21334632,  0.19572523,  0.19105043],\n",
       "         [-0.99943167,  0.13115218, -0.67968792],\n",
       "         [ 0.67731380,  1.28376007,  0.30227867],\n",
       "         [-0.88605523, -1.04832232, -0.60421520]]),\n",
       " Tensor(shape=[10, 3], dtype=float32, place=Place(cpu), stop_gradient=True,\n",
       "        [[-0.99107218, -1.02872157, -0.01977291],\n",
       "         [ 0.27816173, -0.27780670, -0.61071074],\n",
       "         [-0.28916654, -1.01661170,  1.64721584],\n",
       "         [-0.86218989, -0.43323833, -1.11205029],\n",
       "         [-0.05574733,  0.46919966, -0.27491590],\n",
       "         [ 1.23608959, -0.48388645, -0.34201142],\n",
       "         [ 0.61169046,  1.54798615,  0.63943136],\n",
       "         [-1.08239043, -0.39685589, -0.32210499],\n",
       "         [-1.44310343,  0.55312836, -1.57509577],\n",
       "         [-1.35690093,  2.94937921, -0.20378490]]),\n",
       " Tensor(shape=[10, 3], dtype=float32, place=Place(cpu), stop_gradient=True,\n",
       "        [[-0.50590646, -0.68394017, -0.95781499],\n",
       "         [ 1.14082682,  0.36098528,  0.61194438],\n",
       "         [ 0.23106818, -1.53053296,  2.19611526],\n",
       "         [-0.22787425, -0.62963492, -1.67061222],\n",
       "         [ 1.27132583,  1.34778655, -0.80717009],\n",
       "         [ 0.66299516, -1.31033635, -1.30088437],\n",
       "         [-0.02620860,  0.03174008, -1.15006351],\n",
       "         [ 1.48656547,  1.30229592,  0.09652900],\n",
       "         [ 1.99961209,  1.10096025, -0.21829709],\n",
       "         [-1.19365478,  0.67662525,  0.08930988]]))"
      ]
     },
     "execution_count": 184,
     "metadata": {},
     "output_type": "execute_result"
    }
   ],
   "source": [
    "WQ, WK, WV"
   ]
  },
  {
   "cell_type": "code",
   "execution_count": 185,
   "id": "e6193e6b-2fd2-44c9-9eca-5d73dcad8b3c",
   "metadata": {
    "execution": {
     "iopub.execute_input": "2023-06-30T05:19:33.027340Z",
     "iopub.status.busy": "2023-06-30T05:19:33.026989Z",
     "iopub.status.idle": "2023-06-30T05:19:33.035534Z",
     "shell.execute_reply": "2023-06-30T05:19:33.034691Z",
     "shell.execute_reply.started": "2023-06-30T05:19:33.027312Z"
    },
    "tags": []
   },
   "outputs": [
    {
     "data": {
      "text/plain": [
       "(Tensor(shape=[2, 3, 10], dtype=float32, place=Place(cpu), stop_gradient=True,\n",
       "        [[[0.22601740, 0.14923583, 0.34761751, 0.05315388, 0.13177596,\n",
       "           0.83874351, 0.94392550, 0.74413365, 0.23427728, 0.95526809],\n",
       "          [0.23121725, 0.99879581, 0.89045691, 0.56941539, 0.15396763,\n",
       "           0.84482205, 0.29068530, 0.84894836, 0.87598592, 0.99289370],\n",
       "          [0.68629593, 0.01225852, 0.69453418, 0.59595186, 0.79729217,\n",
       "           0.85709256, 0.67777288, 0.46706274, 0.27853531, 0.85552394]],\n",
       " \n",
       "         [[0.17263722, 0.06319062, 0.61965865, 0.16608801, 0.00190719,\n",
       "           0.64621472, 0.80712038, 0.64940017, 0.34340176, 0.30346230],\n",
       "          [0.03234544, 0.36421672, 0.72796488, 0.56136560, 0.88940006,\n",
       "           0.63393033, 0.64482522, 0.02115875, 0.37731385, 0.59155494],\n",
       "          [0.88369453, 0.02426497, 0.47848526, 0.15510882, 0.07602921,\n",
       "           0.57549298, 0.90019351, 0.62567103, 0.41393134, 0.12018152]]]),\n",
       " Tensor(shape=[2, 3, 10], dtype=float32, place=Place(cpu), stop_gradient=True,\n",
       "        [[[0.14204416, 0.52158093, 0.89627624, 0.30561233, 0.05896373,\n",
       "           0.69075704, 0.16991428, 0.09038220, 0.31861377, 0.44900793],\n",
       "          [0.68168646, 0.78342730, 0.50771642, 0.82231581, 0.82065779,\n",
       "           0.20955226, 0.09865968, 0.50425911, 0.08482269, 0.67514211],\n",
       "          [0.70994622, 0.99890590, 0.47064129, 0.04362010, 0.50890225,\n",
       "           0.58002007, 0.63963532, 0.95849329, 0.41871896, 0.09995396]],\n",
       " \n",
       "         [[0.69887447, 0.59716439, 0.44794869, 0.61361986, 0.67519510,\n",
       "           0.96582699, 0.11911754, 0.95674312, 0.12266093, 0.04593930],\n",
       "          [0.51778275, 0.71244097, 0.17121103, 0.68487471, 0.54240108,\n",
       "           0.35882533, 0.25478151, 0.52104795, 0.79899704, 0.72757798],\n",
       "          [0.99305278, 0.67191756, 0.30939913, 0.85022378, 0.91360742,\n",
       "           0.01552705, 0.71160901, 0.51707166, 0.91294479, 0.70887476]]]))"
      ]
     },
     "execution_count": 185,
     "metadata": {},
     "output_type": "execute_result"
    }
   ],
   "source": [
    "f1 = paddle.rand(shape=[2, 3, 10])\n",
    "f2 = paddle.rand(shape=[2, 3, 10])\n",
    "\n",
    "f1, f2"
   ]
  },
  {
   "cell_type": "code",
   "execution_count": 186,
   "id": "bb87c5d5-10b5-4161-b518-8814c4cd722a",
   "metadata": {
    "execution": {
     "iopub.execute_input": "2023-06-30T05:19:33.185750Z",
     "iopub.status.busy": "2023-06-30T05:19:33.185395Z",
     "iopub.status.idle": "2023-06-30T05:19:33.191316Z",
     "shell.execute_reply": "2023-06-30T05:19:33.190103Z",
     "shell.execute_reply.started": "2023-06-30T05:19:33.185722Z"
    },
    "tags": []
   },
   "outputs": [],
   "source": [
    "Q1 = f1 @ WQ\n",
    "K1 = f1 @ WK\n",
    "V1 = f1 @ WV\n",
    "\n",
    "Q2 = f2 @ WQ\n",
    "K2 = f2 @ WK\n",
    "V2 = f2 @ WV"
   ]
  },
  {
   "cell_type": "code",
   "execution_count": 187,
   "id": "9a6077b2-ec43-4d02-8e70-f5d07f30106c",
   "metadata": {
    "execution": {
     "iopub.execute_input": "2023-06-30T05:19:33.318553Z",
     "iopub.status.busy": "2023-06-30T05:19:33.318192Z",
     "iopub.status.idle": "2023-06-30T05:19:33.326146Z",
     "shell.execute_reply": "2023-06-30T05:19:33.325166Z",
     "shell.execute_reply.started": "2023-06-30T05:19:33.318523Z"
    },
    "tags": []
   },
   "outputs": [],
   "source": [
    "att11 = Q1 @ K1.transpose(perm=(0,2,1))\n",
    "att12 = Q1 @ K2.transpose(perm=(0,2,1))\n",
    "att21 = Q2 @ K1.transpose(perm=(0,2,1))\n",
    "att22 = Q2 @ K2.transpose(perm=(0,2,1))"
   ]
  },
  {
   "cell_type": "code",
   "execution_count": null,
   "id": "ff82ea5d-bd91-4d3e-bfaa-9ef309c1fdf6",
   "metadata": {},
   "outputs": [],
   "source": []
  },
  {
   "cell_type": "code",
   "execution_count": 188,
   "id": "cec8b14b-4102-487e-a35f-591268c6a7f6",
   "metadata": {
    "execution": {
     "iopub.execute_input": "2023-06-30T05:19:35.027914Z",
     "iopub.status.busy": "2023-06-30T05:19:35.027553Z",
     "iopub.status.idle": "2023-06-30T05:19:35.032531Z",
     "shell.execute_reply": "2023-06-30T05:19:35.031662Z",
     "shell.execute_reply.started": "2023-06-30T05:19:35.027890Z"
    },
    "tags": []
   },
   "outputs": [],
   "source": [
    "v11 = att11 @ V1\n",
    "v12 = att12 @ V1\n",
    "v21 = att21 @ V2\n",
    "v22 = att22 @ V2"
   ]
  },
  {
   "cell_type": "code",
   "execution_count": 189,
   "id": "b14a862a-d5b9-4602-a957-9627faca84f9",
   "metadata": {
    "execution": {
     "iopub.execute_input": "2023-06-30T05:19:35.726903Z",
     "iopub.status.busy": "2023-06-30T05:19:35.725400Z",
     "iopub.status.idle": "2023-06-30T05:19:35.734527Z",
     "shell.execute_reply": "2023-06-30T05:19:35.733730Z",
     "shell.execute_reply.started": "2023-06-30T05:19:35.726869Z"
    },
    "tags": []
   },
   "outputs": [
    {
     "data": {
      "text/plain": [
       "(Tensor(shape=[2, 3, 3], dtype=float32, place=Place(cpu), stop_gradient=True,\n",
       "        [[[ 13.11691284,  0.35256189 , -3.60694551 ],\n",
       "          [ 6.54435873 ,  0.31446952 ,  2.97256708 ],\n",
       "          [-17.44693565, -1.32715344 ,  14.64944267]],\n",
       " \n",
       "         [[ 0.22234079 , -0.14395532 , -0.26214507 ],\n",
       "          [-5.93603134 ,  0.44208062 ,  3.50922155 ],\n",
       "          [-0.58429468 , -0.02209246 ,  0.43169656 ]]]),\n",
       " Tensor(shape=[2, 3, 3], dtype=float32, place=Place(cpu), stop_gradient=True,\n",
       "        [[[14.70955753,  0.39050823, -6.59274006],\n",
       "          [11.57777119, -0.04599017, -5.65099573],\n",
       "          [ 2.36672425, -0.32883200, -3.55854321]],\n",
       " \n",
       "         [[ 1.01845992, -0.29503533, -0.74935389],\n",
       "          [-4.35839844,  0.62893754,  5.80981445],\n",
       "          [-6.91150713,  1.56529462,  5.66818810]]]),\n",
       " Tensor(shape=[2, 3, 3], dtype=float32, place=Place(cpu), stop_gradient=True,\n",
       "        [[[-12.58084202,  2.07626796 ,  1.89076865 ],\n",
       "          [-17.91967964,  7.95994663 , -1.20150900 ],\n",
       "          [ 24.44716835,  3.48403573 , -10.32843018]],\n",
       " \n",
       "         [[-3.17983651 , -0.60862255 ,  1.76327026 ],\n",
       "          [-5.50920153 , -1.35238063 ,  3.77858949 ],\n",
       "          [-9.10438633 , -2.61165404 ,  6.07497835 ]]]),\n",
       " Tensor(shape=[2, 3, 3], dtype=float32, place=Place(cpu), stop_gradient=True,\n",
       "        [[[ 0.78459036,  0.47370133, -0.01922459],\n",
       "          [15.33976746,  2.88975739, -5.43922663],\n",
       "          [20.02411079,  3.54392481, -8.73442650]],\n",
       " \n",
       "         [[10.33060360,  0.82451200, -7.25813293],\n",
       "          [10.71958637,  1.23725677, -7.51473379],\n",
       "          [ 4.40801430, -4.50901413, -1.55520248]]]))"
      ]
     },
     "execution_count": 189,
     "metadata": {},
     "output_type": "execute_result"
    }
   ],
   "source": [
    "v11, v12, v21, v22"
   ]
  },
  {
   "cell_type": "code",
   "execution_count": null,
   "id": "026c927d-d773-45b9-950f-e900d22b894a",
   "metadata": {},
   "outputs": [],
   "source": []
  },
  {
   "cell_type": "code",
   "execution_count": 190,
   "id": "f28e5abb-eb97-40a7-8e91-ce50d2187381",
   "metadata": {
    "execution": {
     "iopub.execute_input": "2023-06-30T05:19:44.953444Z",
     "iopub.status.busy": "2023-06-30T05:19:44.953077Z",
     "iopub.status.idle": "2023-06-30T05:19:44.961316Z",
     "shell.execute_reply": "2023-06-30T05:19:44.960392Z",
     "shell.execute_reply.started": "2023-06-30T05:19:44.953415Z"
    },
    "tags": []
   },
   "outputs": [
    {
     "data": {
      "text/plain": [
       "(Tensor(shape=[2, 3, 10], dtype=float32, place=Place(cpu), stop_gradient=True,\n",
       "        [[[0.22601740, 0.14923583, 0.34761751, 0.05315388, 0.13177596,\n",
       "           0.83874351, 0.94392550, 0.74413365, 0.23427728, 0.95526809],\n",
       "          [0.23121725, 0.99879581, 0.89045691, 0.56941539, 0.15396763,\n",
       "           0.84482205, 0.29068530, 0.84894836, 0.87598592, 0.99289370],\n",
       "          [0.68629593, 0.01225852, 0.69453418, 0.59595186, 0.79729217,\n",
       "           0.85709256, 0.67777288, 0.46706274, 0.27853531, 0.85552394]],\n",
       " \n",
       "         [[0.17263722, 0.06319062, 0.61965865, 0.16608801, 0.00190719,\n",
       "           0.64621472, 0.80712038, 0.64940017, 0.34340176, 0.30346230],\n",
       "          [0.03234544, 0.36421672, 0.72796488, 0.56136560, 0.88940006,\n",
       "           0.63393033, 0.64482522, 0.02115875, 0.37731385, 0.59155494],\n",
       "          [0.88369453, 0.02426497, 0.47848526, 0.15510882, 0.07602921,\n",
       "           0.57549298, 0.90019351, 0.62567103, 0.41393134, 0.12018152]]]),\n",
       " Tensor(shape=[2, 3, 10], dtype=float32, place=Place(cpu), stop_gradient=True,\n",
       "        [[[0.14204416, 0.52158093, 0.89627624, 0.30561233, 0.05896373,\n",
       "           0.69075704, 0.16991428, 0.09038220, 0.31861377, 0.44900793],\n",
       "          [0.68168646, 0.78342730, 0.50771642, 0.82231581, 0.82065779,\n",
       "           0.20955226, 0.09865968, 0.50425911, 0.08482269, 0.67514211],\n",
       "          [0.70994622, 0.99890590, 0.47064129, 0.04362010, 0.50890225,\n",
       "           0.58002007, 0.63963532, 0.95849329, 0.41871896, 0.09995396]],\n",
       " \n",
       "         [[0.69887447, 0.59716439, 0.44794869, 0.61361986, 0.67519510,\n",
       "           0.96582699, 0.11911754, 0.95674312, 0.12266093, 0.04593930],\n",
       "          [0.51778275, 0.71244097, 0.17121103, 0.68487471, 0.54240108,\n",
       "           0.35882533, 0.25478151, 0.52104795, 0.79899704, 0.72757798],\n",
       "          [0.99305278, 0.67191756, 0.30939913, 0.85022378, 0.91360742,\n",
       "           0.01552705, 0.71160901, 0.51707166, 0.91294479, 0.70887476]]]))"
      ]
     },
     "execution_count": 190,
     "metadata": {},
     "output_type": "execute_result"
    }
   ],
   "source": [
    "f1, f2"
   ]
  },
  {
   "cell_type": "code",
   "execution_count": 191,
   "id": "f84580c9-a1a0-41fa-b78c-a9023641212e",
   "metadata": {
    "execution": {
     "iopub.execute_input": "2023-06-30T05:19:47.495469Z",
     "iopub.status.busy": "2023-06-30T05:19:47.494858Z",
     "iopub.status.idle": "2023-06-30T05:19:47.503738Z",
     "shell.execute_reply": "2023-06-30T05:19:47.502957Z",
     "shell.execute_reply.started": "2023-06-30T05:19:47.495442Z"
    },
    "tags": []
   },
   "outputs": [
    {
     "data": {
      "text/plain": [
       "Tensor(shape=[2, 6, 10], dtype=float32, place=Place(cpu), stop_gradient=True,\n",
       "       [[[0.22601740, 0.14923583, 0.34761751, 0.05315388, 0.13177596,\n",
       "          0.83874351, 0.94392550, 0.74413365, 0.23427728, 0.95526809],\n",
       "         [0.23121725, 0.99879581, 0.89045691, 0.56941539, 0.15396763,\n",
       "          0.84482205, 0.29068530, 0.84894836, 0.87598592, 0.99289370],\n",
       "         [0.68629593, 0.01225852, 0.69453418, 0.59595186, 0.79729217,\n",
       "          0.85709256, 0.67777288, 0.46706274, 0.27853531, 0.85552394],\n",
       "         [0.14204416, 0.52158093, 0.89627624, 0.30561233, 0.05896373,\n",
       "          0.69075704, 0.16991428, 0.09038220, 0.31861377, 0.44900793],\n",
       "         [0.68168646, 0.78342730, 0.50771642, 0.82231581, 0.82065779,\n",
       "          0.20955226, 0.09865968, 0.50425911, 0.08482269, 0.67514211],\n",
       "         [0.70994622, 0.99890590, 0.47064129, 0.04362010, 0.50890225,\n",
       "          0.58002007, 0.63963532, 0.95849329, 0.41871896, 0.09995396]],\n",
       "\n",
       "        [[0.17263722, 0.06319062, 0.61965865, 0.16608801, 0.00190719,\n",
       "          0.64621472, 0.80712038, 0.64940017, 0.34340176, 0.30346230],\n",
       "         [0.03234544, 0.36421672, 0.72796488, 0.56136560, 0.88940006,\n",
       "          0.63393033, 0.64482522, 0.02115875, 0.37731385, 0.59155494],\n",
       "         [0.88369453, 0.02426497, 0.47848526, 0.15510882, 0.07602921,\n",
       "          0.57549298, 0.90019351, 0.62567103, 0.41393134, 0.12018152],\n",
       "         [0.69887447, 0.59716439, 0.44794869, 0.61361986, 0.67519510,\n",
       "          0.96582699, 0.11911754, 0.95674312, 0.12266093, 0.04593930],\n",
       "         [0.51778275, 0.71244097, 0.17121103, 0.68487471, 0.54240108,\n",
       "          0.35882533, 0.25478151, 0.52104795, 0.79899704, 0.72757798],\n",
       "         [0.99305278, 0.67191756, 0.30939913, 0.85022378, 0.91360742,\n",
       "          0.01552705, 0.71160901, 0.51707166, 0.91294479, 0.70887476]]])"
      ]
     },
     "execution_count": 191,
     "metadata": {},
     "output_type": "execute_result"
    }
   ],
   "source": [
    "paddle.concat([f1, f2], axis=1)"
   ]
  },
  {
   "cell_type": "code",
   "execution_count": 192,
   "id": "e7796e9f-0d01-444c-8162-e17355099b87",
   "metadata": {
    "execution": {
     "iopub.execute_input": "2023-06-30T05:19:51.026792Z",
     "iopub.status.busy": "2023-06-30T05:19:51.026181Z",
     "iopub.status.idle": "2023-06-30T05:19:51.032723Z",
     "shell.execute_reply": "2023-06-30T05:19:51.031862Z",
     "shell.execute_reply.started": "2023-06-30T05:19:51.026764Z"
    },
    "tags": []
   },
   "outputs": [],
   "source": [
    "Q12 = paddle.concat([f1, f2], axis=1) @ WQ\n",
    "K12 = paddle.concat([f1, f2], axis=1) @ WK\n",
    "V12 = paddle.concat([f1, f2], axis=1) @ WV"
   ]
  },
  {
   "cell_type": "code",
   "execution_count": null,
   "id": "6dcbb0a5-20a1-4f3a-85a7-d592d6addcf8",
   "metadata": {},
   "outputs": [],
   "source": []
  },
  {
   "cell_type": "code",
   "execution_count": 193,
   "id": "4acda112-b360-4948-be9e-4a537ca18ed2",
   "metadata": {
    "execution": {
     "iopub.execute_input": "2023-06-30T05:19:52.095850Z",
     "iopub.status.busy": "2023-06-30T05:19:52.095483Z",
     "iopub.status.idle": "2023-06-30T05:19:52.105230Z",
     "shell.execute_reply": "2023-06-30T05:19:52.104017Z",
     "shell.execute_reply.started": "2023-06-30T05:19:52.095821Z"
    },
    "tags": []
   },
   "outputs": [
    {
     "data": {
      "text/plain": [
       "(Tensor(shape=[2, 6, 3], dtype=float32, place=Place(cpu), stop_gradient=True,\n",
       "        [[[ 1.25740039,  0.31568274, -1.62759519],\n",
       "          [ 3.67519450,  0.33257985, -0.18418433],\n",
       "          [ 1.48565042, -0.43640757, -2.59749222],\n",
       "          [ 1.42461216, -1.52103603,  0.47856456],\n",
       "          [ 1.77182758,  0.56325567, -1.39030528],\n",
       "          [ 4.03681755,  0.85027134, -0.99889898]],\n",
       " \n",
       "         [[ 1.78961289, -0.53770232, -0.79891741],\n",
       "          [ 2.05336618, -0.12652537, -1.45887959],\n",
       "          [ 1.72479475, -0.69683164, -1.90441430],\n",
       "          [ 3.39968443, -0.27404481, -2.21407437],\n",
       "          [ 2.85888791,  1.52924919, -2.08488464],\n",
       "          [ 3.04307914,  1.94621503, -2.94300508]]]),\n",
       " Tensor(shape=[2, 3, 3], dtype=float32, place=Place(cpu), stop_gradient=True,\n",
       "        [[[ 1.25740039,  0.31568274, -1.62759519],\n",
       "          [ 3.67519450,  0.33257985, -0.18418433],\n",
       "          [ 1.48565042, -0.43640757, -2.59749222]],\n",
       " \n",
       "         [[ 1.78961289, -0.53770232, -0.79891741],\n",
       "          [ 2.05336618, -0.12652537, -1.45887959],\n",
       "          [ 1.72479475, -0.69683164, -1.90441430]]]),\n",
       " Tensor(shape=[2, 3, 3], dtype=float32, place=Place(cpu), stop_gradient=True,\n",
       "        [[[ 1.42461216, -1.52103603,  0.47856456],\n",
       "          [ 1.77182758,  0.56325567, -1.39030528],\n",
       "          [ 4.03681755,  0.85027134, -0.99889898]],\n",
       " \n",
       "         [[ 3.39968443, -0.27404481, -2.21407437],\n",
       "          [ 2.85888791,  1.52924919, -2.08488464],\n",
       "          [ 3.04307914,  1.94621503, -2.94300508]]]))"
      ]
     },
     "execution_count": 193,
     "metadata": {},
     "output_type": "execute_result"
    }
   ],
   "source": [
    "V12, V1, V2"
   ]
  },
  {
   "cell_type": "code",
   "execution_count": null,
   "id": "73db6e72-4258-4bf9-a621-7fd66c93b5b2",
   "metadata": {},
   "outputs": [],
   "source": []
  },
  {
   "cell_type": "code",
   "execution_count": 194,
   "id": "edd31265-6fbb-437e-8944-2402ba930176",
   "metadata": {
    "execution": {
     "iopub.execute_input": "2023-06-30T05:20:01.334258Z",
     "iopub.status.busy": "2023-06-30T05:20:01.333647Z",
     "iopub.status.idle": "2023-06-30T05:20:01.341502Z",
     "shell.execute_reply": "2023-06-30T05:20:01.340562Z",
     "shell.execute_reply.started": "2023-06-30T05:20:01.334229Z"
    },
    "tags": []
   },
   "outputs": [
    {
     "data": {
      "text/plain": [
       "Tensor(shape=[2, 6, 3], dtype=float32, place=Place(cpu), stop_gradient=True,\n",
       "       [[[-1.16176343,  3.11848760, -0.10499684],\n",
       "         [-3.01654911,  1.52219141, -1.78193367],\n",
       "         [-2.03019595,  1.82683682, -0.38217762],\n",
       "         [-0.73075640,  0.08651253,  0.04889122],\n",
       "         [-2.62417698,  0.48311013, -1.23787141],\n",
       "         [-1.29695380, -0.41091371, -0.81524318]],\n",
       "\n",
       "        [[-0.79375899,  0.86780554,  0.27666277],\n",
       "         [-0.86689240,  1.93604314, -0.41889307],\n",
       "         [-1.32102883,  0.01635419,  0.06326835],\n",
       "         [-1.23096108, -1.74858344, -1.27353597],\n",
       "         [-3.09010053,  1.65498805, -2.60844707],\n",
       "         [-4.05528164,  2.02209878, -2.41626263]]])"
      ]
     },
     "execution_count": 194,
     "metadata": {},
     "output_type": "execute_result"
    }
   ],
   "source": [
    "K12"
   ]
  },
  {
   "cell_type": "code",
   "execution_count": 195,
   "id": "b1c5ef40-a769-453f-9d97-0b7559ecfb74",
   "metadata": {
    "execution": {
     "iopub.execute_input": "2023-06-30T05:20:01.546541Z",
     "iopub.status.busy": "2023-06-30T05:20:01.546185Z",
     "iopub.status.idle": "2023-06-30T05:20:01.553303Z",
     "shell.execute_reply": "2023-06-30T05:20:01.552294Z",
     "shell.execute_reply.started": "2023-06-30T05:20:01.546514Z"
    },
    "tags": []
   },
   "outputs": [
    {
     "data": {
      "text/plain": [
       "Tensor(shape=[2, 3, 6], dtype=float32, place=Place(cpu), stop_gradient=True,\n",
       "       [[[-1.16176343, -3.01654911, -2.03019595, -0.73075640, -2.62417698,\n",
       "          -1.29695380],\n",
       "         [ 3.11848760,  1.52219141,  1.82683682,  0.08651253,  0.48311013,\n",
       "          -0.41091371],\n",
       "         [-0.10499684, -1.78193367, -0.38217762,  0.04889122, -1.23787141,\n",
       "          -0.81524318]],\n",
       "\n",
       "        [[-0.79375899, -0.86689240, -1.32102883, -1.23096108, -3.09010053,\n",
       "          -4.05528164],\n",
       "         [ 0.86780554,  1.93604314,  0.01635419, -1.74858344,  1.65498805,\n",
       "           2.02209878],\n",
       "         [ 0.27666277, -0.41889307,  0.06326835, -1.27353597, -2.60844707,\n",
       "          -2.41626263]]])"
      ]
     },
     "execution_count": 195,
     "metadata": {},
     "output_type": "execute_result"
    }
   ],
   "source": [
    "K12.transpose(perm=(0,2,1))"
   ]
  },
  {
   "cell_type": "code",
   "execution_count": null,
   "id": "219d8494-502f-443a-801e-7a988278dd7b",
   "metadata": {},
   "outputs": [],
   "source": []
  },
  {
   "cell_type": "code",
   "execution_count": 196,
   "id": "8283e0e1-7708-4a3e-9664-28d9ca849fe3",
   "metadata": {
    "execution": {
     "iopub.execute_input": "2023-06-30T05:20:22.090989Z",
     "iopub.status.busy": "2023-06-30T05:20:22.090534Z",
     "iopub.status.idle": "2023-06-30T05:20:22.100689Z",
     "shell.execute_reply": "2023-06-30T05:20:22.099851Z",
     "shell.execute_reply.started": "2023-06-30T05:20:22.090958Z"
    },
    "tags": []
   },
   "outputs": [
    {
     "data": {
      "text/plain": [
       "Tensor(shape=[2, 6, 6], dtype=float32, place=Place(cpu), stop_gradient=True,\n",
       "       [[[-0.30054840,  3.12394857,  1.35543597,  0.69121939,  3.00100255,\n",
       "           1.89220095],\n",
       "         [-1.84301293,  2.47804785, -0.16527693,  0.09639604,  2.32900023,\n",
       "           1.95001042],\n",
       "         [-5.15389776, -2.06883192, -2.26369762,  0.42327836,  0.05411994,\n",
       "           1.10092700],\n",
       "         [-2.70795441, -1.08019197, -1.68676019, -0.20745376, -0.36489257,\n",
       "           0.42772758],\n",
       "         [-6.40970278,  0.32431003, -2.31939125,  0.40442321,  2.07964325,\n",
       "           2.74445200],\n",
       "         [ 1.52228880,  5.82451773,  2.96234751,  0.86298549,  4.72409058,\n",
       "           2.58233571]],\n",
       "\n",
       "        [[ 0.04728505, -0.08945351,  0.18634082,  0.25031447,  0.09962809,\n",
       "           0.21215336],\n",
       "         [-0.82568324, -2.56469464,  0.46839160,  2.38476038, -2.23856521,\n",
       "          -2.33627939],\n",
       "         [ 0.08647355, -0.38998175,  0.03578772, -0.57296872, -1.59423816,\n",
       "          -1.51470804],\n",
       "         [-0.42908779, -1.25184357,  0.61050236,  2.31802559,  0.35827714,\n",
       "           0.46852985],\n",
       "         [-0.75376713, -1.08830976,  0.05413083,  2.20841289,  0.70724589,\n",
       "           0.39096692],\n",
       "         [-1.01726449, -2.40836501,  0.40723154,  3.10584879, -0.92242557,\n",
       "          -1.15467918]]])"
      ]
     },
     "execution_count": 196,
     "metadata": {},
     "output_type": "execute_result"
    }
   ],
   "source": [
    "(Q12 @ K12.transpose(perm=(0,2,1)))"
   ]
  },
  {
   "cell_type": "code",
   "execution_count": 199,
   "id": "de756575-f058-4e8a-a08a-0d2296237fa3",
   "metadata": {
    "execution": {
     "iopub.execute_input": "2023-06-30T05:20:53.373501Z",
     "iopub.status.busy": "2023-06-30T05:20:53.373135Z",
     "iopub.status.idle": "2023-06-30T05:20:53.381161Z",
     "shell.execute_reply": "2023-06-30T05:20:53.380352Z",
     "shell.execute_reply.started": "2023-06-30T05:20:53.373475Z"
    },
    "tags": []
   },
   "outputs": [
    {
     "data": {
      "text/plain": [
       "Tensor(shape=[2, 3, 3], dtype=float32, place=Place(cpu), stop_gradient=True,\n",
       "       [[[ 0.69121939,  3.00100255,  1.89220095],\n",
       "         [ 0.09639604,  2.32900023,  1.95001042],\n",
       "         [ 0.42327836,  0.05411994,  1.10092700]],\n",
       "\n",
       "        [[ 0.25031447,  0.09962809,  0.21215336],\n",
       "         [ 2.38476038, -2.23856521, -2.33627939],\n",
       "         [-0.57296872, -1.59423816, -1.51470804]]])"
      ]
     },
     "execution_count": 199,
     "metadata": {},
     "output_type": "execute_result"
    }
   ],
   "source": [
    "att12"
   ]
  },
  {
   "cell_type": "code",
   "execution_count": null,
   "id": "253f4b32-3bd6-4b67-ac97-55cc03118040",
   "metadata": {},
   "outputs": [],
   "source": []
  },
  {
   "cell_type": "code",
   "execution_count": null,
   "id": "e1badf84-496e-4ea7-8951-d2bc28c7ac96",
   "metadata": {},
   "outputs": [],
   "source": []
  },
  {
   "cell_type": "code",
   "execution_count": 200,
   "id": "189e9176-029d-406e-a531-a81602ccd67d",
   "metadata": {
    "execution": {
     "iopub.execute_input": "2023-06-30T05:21:09.672134Z",
     "iopub.status.busy": "2023-06-30T05:21:09.670726Z",
     "iopub.status.idle": "2023-06-30T05:21:09.688892Z",
     "shell.execute_reply": "2023-06-30T05:21:09.688125Z",
     "shell.execute_reply.started": "2023-06-30T05:21:09.672105Z"
    },
    "tags": []
   },
   "outputs": [
    {
     "data": {
      "text/plain": [
       "[Tensor(shape=[2, 3, 6], dtype=float32, place=Place(cpu), stop_gradient=True,\n",
       "        [[[-0.30054840,  3.12394857,  1.35543597,  0.69121939,  3.00100255,\n",
       "            1.89220095],\n",
       "          [-1.84301293,  2.47804785, -0.16527693,  0.09639604,  2.32900023,\n",
       "            1.95001042],\n",
       "          [-5.15389776, -2.06883192, -2.26369762,  0.42327836,  0.05411994,\n",
       "            1.10092700]],\n",
       " \n",
       "         [[ 0.04728505, -0.08945351,  0.18634082,  0.25031447,  0.09962809,\n",
       "            0.21215336],\n",
       "          [-0.82568324, -2.56469464,  0.46839160,  2.38476038, -2.23856521,\n",
       "           -2.33627939],\n",
       "          [ 0.08647355, -0.38998175,  0.03578772, -0.57296872, -1.59423816,\n",
       "           -1.51470804]]]),\n",
       " Tensor(shape=[2, 3, 6], dtype=float32, place=Place(cpu), stop_gradient=True,\n",
       "        [[[-2.70795441, -1.08019197, -1.68676019, -0.20745376, -0.36489257,\n",
       "            0.42772758],\n",
       "          [-6.40970278,  0.32431003, -2.31939125,  0.40442321,  2.07964325,\n",
       "            2.74445200],\n",
       "          [ 1.52228880,  5.82451773,  2.96234751,  0.86298549,  4.72409058,\n",
       "            2.58233571]],\n",
       " \n",
       "         [[-0.42908779, -1.25184357,  0.61050236,  2.31802559,  0.35827714,\n",
       "            0.46852985],\n",
       "          [-0.75376713, -1.08830976,  0.05413083,  2.20841289,  0.70724589,\n",
       "            0.39096692],\n",
       "          [-1.01726449, -2.40836501,  0.40723154,  3.10584879, -0.92242557,\n",
       "           -1.15467918]]])]"
      ]
     },
     "execution_count": 200,
     "metadata": {},
     "output_type": "execute_result"
    }
   ],
   "source": [
    "paddle.split(Q12 @ K12.transpose(perm=(0,2,1)), num_or_sections=2, axis=1)"
   ]
  },
  {
   "cell_type": "code",
   "execution_count": 204,
   "id": "3c6a6c1e-9783-49ec-a37b-995895e4683a",
   "metadata": {
    "execution": {
     "iopub.execute_input": "2023-06-30T05:24:31.336091Z",
     "iopub.status.busy": "2023-06-30T05:24:31.335717Z",
     "iopub.status.idle": "2023-06-30T05:24:31.345782Z",
     "shell.execute_reply": "2023-06-30T05:24:31.344962Z",
     "shell.execute_reply.started": "2023-06-30T05:24:31.336062Z"
    },
    "tags": []
   },
   "outputs": [
    {
     "data": {
      "text/plain": [
       "Tensor(shape=[2, 3, 3], dtype=float32, place=Place(cpu), stop_gradient=True,\n",
       "       [[[14.70955753,  0.39050823, -6.59274006],\n",
       "         [11.57777119, -0.04599017, -5.65099573],\n",
       "         [ 2.36672425, -0.32883200, -3.55854321]],\n",
       "\n",
       "        [[ 1.01845992, -0.29503533, -0.74935389],\n",
       "         [-4.35839844,  0.62893754,  5.80981445],\n",
       "         [-6.91150713,  1.56529462,  5.66818810]]])"
      ]
     },
     "execution_count": 204,
     "metadata": {},
     "output_type": "execute_result"
    }
   ],
   "source": [
    "paddle.split(\n",
    "    paddle.split(Q12 @ K12.transpose(perm=(0,2,1)), num_or_sections=2, axis=1)[0],\n",
    "    num_or_sections=2,\n",
    "    axis=-1\n",
    ")[1] @ V1"
   ]
  },
  {
   "cell_type": "code",
   "execution_count": 205,
   "id": "c01ae892-e166-44cf-b601-40f658de2e23",
   "metadata": {
    "execution": {
     "iopub.execute_input": "2023-06-30T05:24:33.819882Z",
     "iopub.status.busy": "2023-06-30T05:24:33.819440Z",
     "iopub.status.idle": "2023-06-30T05:24:33.826278Z",
     "shell.execute_reply": "2023-06-30T05:24:33.825464Z",
     "shell.execute_reply.started": "2023-06-30T05:24:33.819856Z"
    },
    "tags": []
   },
   "outputs": [
    {
     "data": {
      "text/plain": [
       "Tensor(shape=[2, 3, 3], dtype=float32, place=Place(cpu), stop_gradient=True,\n",
       "       [[[14.70955753,  0.39050823, -6.59274006],\n",
       "         [11.57777119, -0.04599017, -5.65099573],\n",
       "         [ 2.36672425, -0.32883200, -3.55854321]],\n",
       "\n",
       "        [[ 1.01845992, -0.29503533, -0.74935389],\n",
       "         [-4.35839844,  0.62893754,  5.80981445],\n",
       "         [-6.91150713,  1.56529462,  5.66818810]]])"
      ]
     },
     "execution_count": 205,
     "metadata": {},
     "output_type": "execute_result"
    }
   ],
   "source": [
    "v12"
   ]
  },
  {
   "cell_type": "code",
   "execution_count": 203,
   "id": "106f3cdf-34c1-4fbf-a1d5-facabd679369",
   "metadata": {
    "execution": {
     "iopub.execute_input": "2023-06-30T05:21:19.029471Z",
     "iopub.status.busy": "2023-06-30T05:21:19.028826Z",
     "iopub.status.idle": "2023-06-30T05:21:19.041038Z",
     "shell.execute_reply": "2023-06-30T05:21:19.040224Z",
     "shell.execute_reply.started": "2023-06-30T05:21:19.029442Z"
    },
    "tags": []
   },
   "outputs": [
    {
     "data": {
      "text/plain": [
       "Tensor(shape=[2, 3], dtype=float32, place=Place(cpu), stop_gradient=True,\n",
       "       [[ 2.21433640, -0.66012204, 14.01506424],\n",
       "        [-6.29798555,  0.27603284,  3.67877316]])"
      ]
     },
     "execution_count": 203,
     "metadata": {},
     "output_type": "execute_result"
    }
   ],
   "source": [
    "paddle.sum(v11, axis=1)"
   ]
  },
  {
   "cell_type": "code",
   "execution_count": null,
   "id": "e2391a43-db1c-493e-9c15-c2acb3124bba",
   "metadata": {},
   "outputs": [],
   "source": []
  },
  {
   "cell_type": "code",
   "execution_count": null,
   "id": "be8df671-885f-4f64-8478-1e950c0bbfd1",
   "metadata": {},
   "outputs": [],
   "source": []
  },
  {
   "cell_type": "code",
   "execution_count": 208,
   "id": "a9cb7779-6dce-4393-bd8c-e178709d6b98",
   "metadata": {
    "execution": {
     "iopub.execute_input": "2023-06-30T06:30:51.215385Z",
     "iopub.status.busy": "2023-06-30T06:30:51.213952Z",
     "iopub.status.idle": "2023-06-30T06:30:51.226749Z",
     "shell.execute_reply": "2023-06-30T06:30:51.225789Z",
     "shell.execute_reply.started": "2023-06-30T06:30:51.215353Z"
    },
    "tags": []
   },
   "outputs": [
    {
     "data": {
      "text/plain": [
       "Tensor(shape=[2, 3, 4], dtype=float32, place=Place(cpu), stop_gradient=True,\n",
       "       [[[-0.43987498, -0.28947183, -0.54199237,  0.05782108],\n",
       "         [-2.25413513, -1.09585834, -0.83873957, -0.33688429],\n",
       "         [-1.20188248,  0.57606184, -0.12936078, -2.04433656]],\n",
       "\n",
       "        [[-0.75086045, -1.43526423, -1.65541399, -0.55382407],\n",
       "         [ 1.38693011, -1.06155503,  0.35375360, -0.57037371],\n",
       "         [-1.11362147,  0.63797563, -0.87924236,  0.69093412]]])"
      ]
     },
     "execution_count": 208,
     "metadata": {},
     "output_type": "execute_result"
    }
   ],
   "source": [
    "T = paddle.randn(shape=[2, 3, 4]) # batch_size, seq_len, emb_dim\n",
    "T"
   ]
  },
  {
   "cell_type": "code",
   "execution_count": 211,
   "id": "bc7c416c-f85e-4151-a3c8-33e0257aac80",
   "metadata": {
    "execution": {
     "iopub.execute_input": "2023-06-30T06:31:39.037869Z",
     "iopub.status.busy": "2023-06-30T06:31:39.037060Z",
     "iopub.status.idle": "2023-06-30T06:31:39.047980Z",
     "shell.execute_reply": "2023-06-30T06:31:39.046970Z",
     "shell.execute_reply.started": "2023-06-30T06:31:39.037832Z"
    },
    "tags": []
   },
   "outputs": [
    {
     "data": {
      "text/plain": [
       "Tensor(shape=[2, 3, 3], dtype=float32, place=Place(cpu), stop_gradient=True,\n",
       "       [[[ 0.57438296,  1.74386919,  0.31383112],\n",
       "         [ 1.74386919,  7.09900570,  2.87512851],\n",
       "         [ 0.31383112,  2.87512851,  5.97241497]],\n",
       "\n",
       "        [[ 5.67089128,  0.21249898,  0.99336487],\n",
       "         [ 0.21249898,  3.50094199, -2.92688727],\n",
       "         [ 0.99336487, -2.92688727,  2.89762306]]])"
      ]
     },
     "execution_count": 211,
     "metadata": {},
     "output_type": "execute_result"
    }
   ],
   "source": [
    "Z = paddle.bmm(T, paddle.transpose(T, perm=[0, 2, 1]))\n",
    "Z"
   ]
  },
  {
   "cell_type": "code",
   "execution_count": 212,
   "id": "a34faf2a-f141-4213-b7cd-372a426dbf91",
   "metadata": {
    "execution": {
     "iopub.execute_input": "2023-06-30T06:32:00.455411Z",
     "iopub.status.busy": "2023-06-30T06:32:00.455041Z",
     "iopub.status.idle": "2023-06-30T06:32:00.498857Z",
     "shell.execute_reply": "2023-06-30T06:32:00.498065Z",
     "shell.execute_reply.started": "2023-06-30T06:32:00.455385Z"
    },
    "tags": []
   },
   "outputs": [
    {
     "data": {
      "text/plain": [
       "-3.4028234663852885e+36"
      ]
     },
     "execution_count": 212,
     "metadata": {},
     "output_type": "execute_result"
    }
   ],
   "source": [
    "MIN_FLOAT = np.finfo(np.float32).min / 100.0\n",
    "MIN_FLOAT"
   ]
  },
  {
   "cell_type": "code",
   "execution_count": 225,
   "id": "132d8ad4-0b67-475a-8a27-4515e84a4de6",
   "metadata": {
    "execution": {
     "iopub.execute_input": "2023-06-30T06:56:36.318027Z",
     "iopub.status.busy": "2023-06-30T06:56:36.317641Z",
     "iopub.status.idle": "2023-06-30T06:56:36.326749Z",
     "shell.execute_reply": "2023-06-30T06:56:36.325904Z",
     "shell.execute_reply.started": "2023-06-30T06:56:36.317998Z"
    },
    "tags": []
   },
   "outputs": [
    {
     "data": {
      "text/plain": [
       "Tensor(shape=[2, 3, 3], dtype=float32, place=Place(cpu), stop_gradient=True,\n",
       "       [[[-3402823593150348620939981984515489792.,\n",
       "           1.74386919                            ,\n",
       "           0.31383112                            ],\n",
       "         [-3402823593150348620939981984515489792.,\n",
       "          -3402823593150348620939981984515489792.,\n",
       "           2.87512851                            ],\n",
       "         [-3402823593150348620939981984515489792.,\n",
       "          -3402823593150348620939981984515489792.,\n",
       "          -3402823593150348620939981984515489792.]],\n",
       "\n",
       "        [[-3402823593150348620939981984515489792.,\n",
       "           0.21249898                            ,\n",
       "           0.99336487                            ],\n",
       "         [-3402823593150348620939981984515489792.,\n",
       "          -3402823593150348620939981984515489792.,\n",
       "          -2.92688727                            ],\n",
       "         [-3402823593150348620939981984515489792.,\n",
       "          -3402823593150348620939981984515489792.,\n",
       "          -3402823593150348620939981984515489792.]]])"
      ]
     },
     "execution_count": 225,
     "metadata": {},
     "output_type": "execute_result"
    }
   ],
   "source": [
    "Zflat = paddle.triu(Z, 1) + paddle.tril(paddle.ones_like(Z) * MIN_FLOAT, 0)\n",
    "Zflat"
   ]
  },
  {
   "cell_type": "code",
   "execution_count": 226,
   "id": "e7fe625a-78e6-4015-b663-15d909065ec3",
   "metadata": {
    "execution": {
     "iopub.execute_input": "2023-06-30T06:56:37.887137Z",
     "iopub.status.busy": "2023-06-30T06:56:37.886790Z",
     "iopub.status.idle": "2023-06-30T06:56:37.894824Z",
     "shell.execute_reply": "2023-06-30T06:56:37.893945Z",
     "shell.execute_reply.started": "2023-06-30T06:56:37.887109Z"
    },
    "tags": []
   },
   "outputs": [
    {
     "data": {
      "text/plain": [
       "Tensor(shape=[6], dtype=float32, place=Place(cpu), stop_gradient=True,\n",
       "       [ 1.74386919,  0.31383112,  2.87512851,  0.21249898,  0.99336487,\n",
       "        -2.92688727])"
      ]
     },
     "execution_count": 226,
     "metadata": {},
     "output_type": "execute_result"
    }
   ],
   "source": [
    "paddle.masked_select(Zflat, paddle.greater_than(Zflat, paddle.ones_like(Zflat) * MIN_FLOAT))"
   ]
  },
  {
   "cell_type": "code",
   "execution_count": 227,
   "id": "338f0d8c-09a4-4924-bee4-21ed14518da5",
   "metadata": {
    "execution": {
     "iopub.execute_input": "2023-06-30T06:56:38.158776Z",
     "iopub.status.busy": "2023-06-30T06:56:38.158156Z",
     "iopub.status.idle": "2023-06-30T06:56:38.170375Z",
     "shell.execute_reply": "2023-06-30T06:56:38.169607Z",
     "shell.execute_reply.started": "2023-06-30T06:56:38.158747Z"
    },
    "tags": []
   },
   "outputs": [
    {
     "data": {
      "text/plain": [
       "Tensor(shape=[2, 3], dtype=float32, place=Place(cpu), stop_gradient=True,\n",
       "       [[ 1.74386919,  0.31383112,  2.87512851],\n",
       "        [ 0.21249898,  0.99336487, -2.92688727]])"
      ]
     },
     "execution_count": 227,
     "metadata": {},
     "output_type": "execute_result"
    }
   ],
   "source": [
    "paddle.masked_select(Zflat, paddle.greater_than(Zflat, paddle.ones_like(Zflat) * MIN_FLOAT)).reshape(shape=[2, -1])"
   ]
  },
  {
   "cell_type": "code",
   "execution_count": null,
   "id": "5f601211-d05b-4627-a1d1-65e52606723d",
   "metadata": {},
   "outputs": [],
   "source": []
  },
  {
   "cell_type": "code",
   "execution_count": null,
   "id": "1c3259c8-19ea-4138-a01b-09ea5f01873e",
   "metadata": {},
   "outputs": [],
   "source": []
  },
  {
   "cell_type": "code",
   "execution_count": 18,
   "id": "6a260194-66a0-4f81-bb44-ca46193cc0f4",
   "metadata": {
    "execution": {
     "iopub.execute_input": "2023-07-06T06:41:05.285859Z",
     "iopub.status.busy": "2023-07-06T06:41:05.285227Z",
     "iopub.status.idle": "2023-07-06T06:41:05.291476Z",
     "shell.execute_reply": "2023-07-06T06:41:05.290225Z",
     "shell.execute_reply.started": "2023-07-06T06:41:05.285831Z"
    },
    "tags": []
   },
   "outputs": [],
   "source": [
    "padding = 0\n",
    "sparse_slots = \"log_key click 1 2 3 4 5 6 7 8 9 10 11 12 13 14 15 16 17 18 19 20 21 22 23 24 25 26\"\n",
    "sparse_slots = sparse_slots.strip().split(\" \")\n",
    "dense_slots = [\"dense_feature\"]\n",
    "dense_slots_shape = [13]\n",
    "slots = sparse_slots\n",
    "slot2index = {}\n",
    "visit = {}\n",
    "\n",
    "for i in range(len(slots)):\n",
    "    slot2index[slots[i]] = i\n",
    "    visit[slots[i]] = False"
   ]
  },
  {
   "cell_type": "code",
   "execution_count": 19,
   "id": "f3557ce4-380d-45ad-bc6e-7b83cce65828",
   "metadata": {
    "execution": {
     "iopub.execute_input": "2023-07-06T06:41:06.320335Z",
     "iopub.status.busy": "2023-07-06T06:41:06.319977Z",
     "iopub.status.idle": "2023-07-06T06:41:06.323842Z",
     "shell.execute_reply": "2023-07-06T06:41:06.322996Z",
     "shell.execute_reply.started": "2023-07-06T06:41:06.320308Z"
    },
    "tags": []
   },
   "outputs": [],
   "source": [
    "max_len = 20"
   ]
  },
  {
   "cell_type": "code",
   "execution_count": 13,
   "id": "f0a2b3da-6c44-4a23-afcd-e5357b485cc1",
   "metadata": {
    "execution": {
     "iopub.execute_input": "2023-07-06T06:36:18.830404Z",
     "iopub.status.busy": "2023-07-06T06:36:18.829466Z",
     "iopub.status.idle": "2023-07-06T06:36:18.836025Z",
     "shell.execute_reply": "2023-07-06T06:36:18.834612Z",
     "shell.execute_reply.started": "2023-07-06T06:36:18.830366Z"
    },
    "tags": []
   },
   "outputs": [],
   "source": [
    "train_folder = \"../../data/data205411/2023-cvr-contest-data/train_data\"\n",
    "file_list = sorted(os.listdir(train_folder))\n",
    "\n",
    "file_list = [os.path.join(train_folder, _file) for _file in file_list]"
   ]
  },
  {
   "cell_type": "code",
   "execution_count": 20,
   "id": "8f9437fc-bc93-449a-9830-33f5dfbda265",
   "metadata": {
    "execution": {
     "iopub.execute_input": "2023-07-06T06:41:07.909078Z",
     "iopub.status.busy": "2023-07-06T06:41:07.908197Z",
     "iopub.status.idle": "2023-07-06T06:42:06.859560Z",
     "shell.execute_reply": "2023-07-06T06:42:06.853061Z",
     "shell.execute_reply.started": "2023-07-06T06:41:07.909049Z"
    },
    "tags": []
   },
   "outputs": [],
   "source": [
    "all_res = []\n",
    "\n",
    "for file in file_list[:1]:\n",
    "    with open(file, \"r\") as rf:\n",
    "        for line in rf:\n",
    "            items = line.strip(\"\\n\").split(\"\\t\")\n",
    "            log_key = int(items[0])\n",
    "            conv1 = items[1]\n",
    "            conv2 = items[2]\n",
    "            conv3 = items[3]\n",
    "\n",
    "            if conv1 == \"1\" or conv2 == \"1\" or conv3 == \"1\":\n",
    "                conv = 1\n",
    "            else:\n",
    "                conv = 0\n",
    "\n",
    "            output = [(i, []) for i in slots]\n",
    "            feasigns = items[4].split(\" \")\n",
    "\n",
    "            for i in feasigns:\n",
    "                slot_feasign = i.split(\":\")\n",
    "                slot = slot_feasign[1]\n",
    "                if slot not in slots:\n",
    "                    continue\n",
    "                if slot in sparse_slots:\n",
    "                    feasign = int(slot_feasign[0])\n",
    "                else:\n",
    "                    feasign = float(slot_feasign[0])\n",
    "                output[slot2index[slot]][1].append(feasign)\n",
    "                visit[slot] = True\n",
    "\n",
    "            output[0][1].append(log_key)\n",
    "            visit['log_key'] = True\n",
    "            output[1][1].append(conv)\n",
    "            visit['click'] = True\n",
    "\n",
    "            for i in visit:\n",
    "                slot = i\n",
    "                if not visit[slot]:\n",
    "                    if i in dense_slots:\n",
    "                        output[slot2index[i]][1].extend(\n",
    "                            [padding] *\n",
    "                            dense_slots_shape[slot2index[i]]\n",
    "                        )\n",
    "                    else:\n",
    "                        output[slot2index[i]][1].extend([padding])\n",
    "                else:\n",
    "                    visit[slot] = False\n",
    "\n",
    "            res = []\n",
    "            for key, value in output:\n",
    "                if key == \"log_key\":\n",
    "                    continue\n",
    "\n",
    "                if key == \"click\":\n",
    "                    res.append(np.array(value).astype(\"float32\").reshape([-1,]))\n",
    "                    continue\n",
    "\n",
    "                padding_zeros = [0] * (max_len - len(value))\n",
    "                res.append(\n",
    "                    np.array(value + padding_zeros).astype(\"int64\").reshape([max_len,])\n",
    "                )\n",
    "\n",
    "            len_array = [len(value) for key, value in output][2:]\n",
    "            mask = np.array(\n",
    "                [[0] * x + [-1e9] * (max_len - x) for x in len_array]\n",
    "            ).reshape([-1, max_len])\n",
    "\n",
    "            res.append(mask)\n",
    "            all_res.append(res)"
   ]
  },
  {
   "cell_type": "code",
   "execution_count": 26,
   "id": "7ae832a7-f972-4674-b74d-65f96de31a6e",
   "metadata": {
    "execution": {
     "iopub.execute_input": "2023-07-06T06:54:34.253888Z",
     "iopub.status.busy": "2023-07-06T06:54:34.252738Z",
     "iopub.status.idle": "2023-07-06T06:54:34.260632Z",
     "shell.execute_reply": "2023-07-06T06:54:34.259782Z",
     "shell.execute_reply.started": "2023-07-06T06:54:34.253857Z"
    },
    "tags": []
   },
   "outputs": [],
   "source": [
    "class CVRDataset(Dataset):\n",
    "    def __init__(self, features):\n",
    "        super().__init__()\n",
    "        self.features = features\n",
    "    \n",
    "    def __len__(self):\n",
    "        return len(self.features)\n",
    "    \n",
    "    def __getitem__(self, idx):\n",
    "        return self.features[idx]"
   ]
  },
  {
   "cell_type": "code",
   "execution_count": 27,
   "id": "64bb6ca1-afa9-46f5-a073-c0331db5c444",
   "metadata": {
    "execution": {
     "iopub.execute_input": "2023-07-06T06:54:45.447246Z",
     "iopub.status.busy": "2023-07-06T06:54:45.446865Z",
     "iopub.status.idle": "2023-07-06T06:54:45.452596Z",
     "shell.execute_reply": "2023-07-06T06:54:45.451542Z",
     "shell.execute_reply.started": "2023-07-06T06:54:45.447216Z"
    },
    "tags": []
   },
   "outputs": [],
   "source": [
    "dataset = CVRDataset(all_res)"
   ]
  },
  {
   "cell_type": "code",
   "execution_count": 33,
   "id": "5d1b1bf9-e577-4732-b4e2-753d36c499ac",
   "metadata": {
    "execution": {
     "iopub.execute_input": "2023-07-06T07:03:38.922611Z",
     "iopub.status.busy": "2023-07-06T07:03:38.922214Z",
     "iopub.status.idle": "2023-07-06T07:03:38.931160Z",
     "shell.execute_reply": "2023-07-06T07:03:38.927691Z",
     "shell.execute_reply.started": "2023-07-06T07:03:38.922582Z"
    },
    "tags": []
   },
   "outputs": [],
   "source": [
    "dataloader = DataLoader(\n",
    "    dataset,\n",
    "    batch_size=2,\n",
    "    places=\"cpu\",\n",
    "    shuffle=False,\n",
    "    drop_last=False\n",
    ")"
   ]
  },
  {
   "cell_type": "code",
   "execution_count": 34,
   "id": "7bffea4b-abe0-4160-8761-61d9484c0138",
   "metadata": {
    "execution": {
     "iopub.execute_input": "2023-07-06T07:03:39.491539Z",
     "iopub.status.busy": "2023-07-06T07:03:39.490913Z",
     "iopub.status.idle": "2023-07-06T07:03:39.531199Z",
     "shell.execute_reply": "2023-07-06T07:03:39.529949Z",
     "shell.execute_reply.started": "2023-07-06T07:03:39.491511Z"
    },
    "tags": []
   },
   "outputs": [
    {
     "name": "stdout",
     "output_type": "stream",
     "text": [
      "[Tensor(shape=[2, 1], dtype=float32, place=Place(cpu), stop_gradient=True,\n",
      "       [[0.],\n",
      "        [0.]]), Tensor(shape=[2, 20], dtype=int64, place=Place(cpu), stop_gradient=True,\n",
      "       [[159, 0  , 0  , 0  , 0  , 0  , 0  , 0  , 0  , 0  , 0  , 0  , 0  , 0  ,\n",
      "         0  , 0  , 0  , 0  , 0  , 0  ],\n",
      "        [704, 0  , 0  , 0  , 0  , 0  , 0  , 0  , 0  , 0  , 0  , 0  , 0  , 0  ,\n",
      "         0  , 0  , 0  , 0  , 0  , 0  ]]), Tensor(shape=[2, 20], dtype=int64, place=Place(cpu), stop_gradient=True,\n",
      "       [[259, 0  , 0  , 0  , 0  , 0  , 0  , 0  , 0  , 0  , 0  , 0  , 0  , 0  ,\n",
      "         0  , 0  , 0  , 0  , 0  , 0  ],\n",
      "        [2  , 0  , 0  , 0  , 0  , 0  , 0  , 0  , 0  , 0  , 0  , 0  , 0  , 0  ,\n",
      "         0  , 0  , 0  , 0  , 0  , 0  ]]), Tensor(shape=[2, 20], dtype=int64, place=Place(cpu), stop_gradient=True,\n",
      "       [[4630199, 0      , 0      , 0      , 0      , 0      , 0      , 0      ,\n",
      "         0      , 0      , 0      , 0      , 0      , 0      , 0      , 0      ,\n",
      "         0      , 0      , 0      , 0      ],\n",
      "        [4630203, 0      , 0      , 0      , 0      , 0      , 0      , 0      ,\n",
      "         0      , 0      , 0      , 0      , 0      , 0      , 0      , 0      ,\n",
      "         0      , 0      , 0      , 0      ]]), Tensor(shape=[2, 20], dtype=int64, place=Place(cpu), stop_gradient=True,\n",
      "       [[4630200, 0      , 0      , 0      , 0      , 0      , 0      , 0      ,\n",
      "         0      , 0      , 0      , 0      , 0      , 0      , 0      , 0      ,\n",
      "         0      , 0      , 0      , 0      ],\n",
      "        [4630204, 0      , 0      , 0      , 0      , 0      , 0      , 0      ,\n",
      "         0      , 0      , 0      , 0      , 0      , 0      , 0      , 0      ,\n",
      "         0      , 0      , 0      , 0      ]]), Tensor(shape=[2, 20], dtype=int64, place=Place(cpu), stop_gradient=True,\n",
      "       [[163, 0  , 0  , 0  , 0  , 0  , 0  , 0  , 0  , 0  , 0  , 0  , 0  , 0  ,\n",
      "         0  , 0  , 0  , 0  , 0  , 0  ],\n",
      "        [230, 0  , 0  , 0  , 0  , 0  , 0  , 0  , 0  , 0  , 0  , 0  , 0  , 0  ,\n",
      "         0  , 0  , 0  , 0  , 0  , 0  ]]), Tensor(shape=[2, 20], dtype=int64, place=Place(cpu), stop_gradient=True,\n",
      "       [[164, 0  , 0  , 0  , 0  , 0  , 0  , 0  , 0  , 0  , 0  , 0  , 0  , 0  ,\n",
      "         0  , 0  , 0  , 0  , 0  , 0  ],\n",
      "        [6  , 0  , 0  , 0  , 0  , 0  , 0  , 0  , 0  , 0  , 0  , 0  , 0  , 0  ,\n",
      "         0  , 0  , 0  , 0  , 0  , 0  ]]), Tensor(shape=[2, 20], dtype=int64, place=Place(cpu), stop_gradient=True,\n",
      "       [[165, 0  , 0  , 0  , 0  , 0  , 0  , 0  , 0  , 0  , 0  , 0  , 0  , 0  ,\n",
      "         0  , 0  , 0  , 0  , 0  , 0  ],\n",
      "        [165, 0  , 0  , 0  , 0  , 0  , 0  , 0  , 0  , 0  , 0  , 0  , 0  , 0  ,\n",
      "         0  , 0  , 0  , 0  , 0  , 0  ]]), Tensor(shape=[2, 20], dtype=int64, place=Place(cpu), stop_gradient=True,\n",
      "       [[650 , 0   , 0   , 0   , 0   , 0   , 0   , 0   , 0   , 0   , 0   , 0   ,\n",
      "         0   , 0   , 0   , 0   , 0   , 0   , 0   , 0   ],\n",
      "        [1715, 0   , 0   , 0   , 0   , 0   , 0   , 0   , 0   , 0   , 0   , 0   ,\n",
      "         0   , 0   , 0   , 0   , 0   , 0   , 0   , 0   ]]), Tensor(shape=[2, 20], dtype=int64, place=Place(cpu), stop_gradient=True,\n",
      "       [[167, 0  , 0  , 0  , 0  , 0  , 0  , 0  , 0  , 0  , 0  , 0  , 0  , 0  ,\n",
      "         0  , 0  , 0  , 0  , 0  , 0  ],\n",
      "        [9  , 0  , 0  , 0  , 0  , 0  , 0  , 0  , 0  , 0  , 0  , 0  , 0  , 0  ,\n",
      "         0  , 0  , 0  , 0  , 0  , 0  ]]), Tensor(shape=[2, 20], dtype=int64, place=Place(cpu), stop_gradient=True,\n",
      "       [[14905  , 14906  , 24619  , 24620  , 34783  , 34784  , 47965  , 47966  ,\n",
      "         534208 , 534209 , 14907  , 14908  , 31584  , 31585  , 14909  , 14910  ,\n",
      "         14911  , 14912  , 58501  , 58502  ],\n",
      "        [1660776, 1660777, 4630205, 4630206, 4630207, 4630208, 1660780, 1660781,\n",
      "         4630209, 4630210, 4630211, 4630212, 4630213, 4630214, 1660784, 1660785,\n",
      "         4630215, 4630216, 1660786, 1660787]]), Tensor(shape=[2, 20], dtype=int64, place=Place(cpu), stop_gradient=True,\n",
      "       [[3135, 0   , 0   , 0   , 0   , 0   , 0   , 0   , 0   , 0   , 0   , 0   ,\n",
      "         0   , 0   , 0   , 0   , 0   , 0   , 0   , 0   ],\n",
      "        [81  , 0   , 0   , 0   , 0   , 0   , 0   , 0   , 0   , 0   , 0   , 0   ,\n",
      "         0   , 0   , 0   , 0   , 0   , 0   , 0   , 0   ]]), Tensor(shape=[2, 20], dtype=int64, place=Place(cpu), stop_gradient=True,\n",
      "       [[0, 0, 0, 0, 0, 0, 0, 0, 0, 0, 0, 0, 0, 0, 0, 0, 0, 0, 0, 0],\n",
      "        [0, 0, 0, 0, 0, 0, 0, 0, 0, 0, 0, 0, 0, 0, 0, 0, 0, 0, 0, 0]]), Tensor(shape=[2, 20], dtype=int64, place=Place(cpu), stop_gradient=True,\n",
      "       [[652361, 0     , 0     , 0     , 0     , 0     , 0     , 0     , 0     ,\n",
      "         0     , 0     , 0     , 0     , 0     , 0     , 0     , 0     , 0     ,\n",
      "         0     , 0     ],\n",
      "        [21    , 0     , 0     , 0     , 0     , 0     , 0     , 0     , 0     ,\n",
      "         0     , 0     , 0     , 0     , 0     , 0     , 0     , 0     , 0     ,\n",
      "         0     , 0     ]]), Tensor(shape=[2, 20], dtype=int64, place=Place(cpu), stop_gradient=True,\n",
      "       [[169, 0  , 0  , 0  , 0  , 0  , 0  , 0  , 0  , 0  , 0  , 0  , 0  , 0  ,\n",
      "         0  , 0  , 0  , 0  , 0  , 0  ],\n",
      "        [22 , 0  , 0  , 0  , 0  , 0  , 0  , 0  , 0  , 0  , 0  , 0  , 0  , 0  ,\n",
      "         0  , 0  , 0  , 0  , 0  , 0  ]]), Tensor(shape=[2, 20], dtype=int64, place=Place(cpu), stop_gradient=True,\n",
      "       [[714906, 0     , 0     , 0     , 0     , 0     , 0     , 0     , 0     ,\n",
      "         0     , 0     , 0     , 0     , 0     , 0     , 0     , 0     , 0     ,\n",
      "         0     , 0     ],\n",
      "        [146609, 0     , 0     , 0     , 0     , 0     , 0     , 0     , 0     ,\n",
      "         0     , 0     , 0     , 0     , 0     , 0     , 0     , 0     , 0     ,\n",
      "         0     , 0     ]]), Tensor(shape=[2, 20], dtype=int64, place=Place(cpu), stop_gradient=True,\n",
      "       [[24, 0 , 0 , 0 , 0 , 0 , 0 , 0 , 0 , 0 , 0 , 0 , 0 , 0 , 0 , 0 , 0 , 0 ,\n",
      "         0 , 0 ],\n",
      "        [24, 0 , 0 , 0 , 0 , 0 , 0 , 0 , 0 , 0 , 0 , 0 , 0 , 0 , 0 , 0 , 0 , 0 ,\n",
      "         0 , 0 ]]), Tensor(shape=[2, 20], dtype=int64, place=Place(cpu), stop_gradient=True,\n",
      "       [[0      , 0      , 0      , 0      , 0      , 0      , 0      , 0      ,\n",
      "         0      , 0      , 0      , 0      , 0      , 0      , 0      , 0      ,\n",
      "         0      , 0      , 0      , 0      ],\n",
      "        [4630217, 4630218, 4630219, 4630220, 4630221, 4630222, 1280982, 1846160,\n",
      "         4630223, 4630224, 0      , 0      , 0      , 0      , 0      , 0      ,\n",
      "         0      , 0      , 0      , 0      ]]), Tensor(shape=[2, 20], dtype=int64, place=Place(cpu), stop_gradient=True,\n",
      "       [[4630201, 4630202, 36394  , 49120  , 162046 , 4606292, 109362 , 109363 ,\n",
      "         20147  , 854338 , 0      , 0      , 0      , 0      , 0      , 0      ,\n",
      "         0      , 0      , 0      , 0      ],\n",
      "        [3705569, 4630225, 4630226, 84353  , 3902604, 70361  , 0      , 0      ,\n",
      "         0      , 0      , 0      , 0      , 0      , 0      , 0      , 0      ,\n",
      "         0      , 0      , 0      , 0      ]]), Tensor(shape=[2, 20], dtype=int64, place=Place(cpu), stop_gradient=True,\n",
      "       [[1000438, 0      , 0      , 0      , 0      , 0      , 0      , 0      ,\n",
      "         0      , 0      , 0      , 0      , 0      , 0      , 0      , 0      ,\n",
      "         0      , 0      , 0      , 0      ],\n",
      "        [1660800, 0      , 0      , 0      , 0      , 0      , 0      , 0      ,\n",
      "         0      , 0      , 0      , 0      , 0      , 0      , 0      , 0      ,\n",
      "         0      , 0      , 0      , 0      ]]), Tensor(shape=[2, 20], dtype=int64, place=Place(cpu), stop_gradient=True,\n",
      "       [[3333 , 14922, 58231, 792  , 8968 , 0    , 0    , 0    , 0    , 0    ,\n",
      "         0    , 0    , 0    , 0    , 0    , 0    , 0    , 0    , 0    , 0    ],\n",
      "        [8530 , 3771 , 55100, 14392, 0    , 0    , 0    , 0    , 0    , 0    ,\n",
      "         0    , 0    , 0    , 0    , 0    , 0    , 0    , 0    , 0    , 0    ]]), Tensor(shape=[2, 20], dtype=int64, place=Place(cpu), stop_gradient=True,\n",
      "       [[298, 0  , 0  , 0  , 0  , 0  , 0  , 0  , 0  , 0  , 0  , 0  , 0  , 0  ,\n",
      "         0  , 0  , 0  , 0  , 0  , 0  ],\n",
      "        [46 , 0  , 0  , 0  , 0  , 0  , 0  , 0  , 0  , 0  , 0  , 0  , 0  , 0  ,\n",
      "         0  , 0  , 0  , 0  , 0  , 0  ]]), Tensor(shape=[2, 20], dtype=int64, place=Place(cpu), stop_gradient=True,\n",
      "       [[0      , 0      , 0      , 0      , 0      , 0      , 0      , 0      ,\n",
      "         0      , 0      , 0      , 0      , 0      , 0      , 0      , 0      ,\n",
      "         0      , 0      , 0      , 0      ],\n",
      "        [4630227, 4630228, 4630229, 4630230, 4630231, 4630232, 3334094, 4630233,\n",
      "         4630234, 4630235, 4630236, 4630237, 4630238, 4630239, 4630240, 4630241,\n",
      "         3334104, 4630242, 4630243, 4630244]]), Tensor(shape=[2, 20], dtype=int64, place=Place(cpu), stop_gradient=True,\n",
      "       [[1000441, 0      , 0      , 0      , 0      , 0      , 0      , 0      ,\n",
      "         0      , 0      , 0      , 0      , 0      , 0      , 0      , 0      ,\n",
      "         0      , 0      , 0      , 0      ],\n",
      "        [1660821, 0      , 0      , 0      , 0      , 0      , 0      , 0      ,\n",
      "         0      , 0      , 0      , 0      , 0      , 0      , 0      , 0      ,\n",
      "         0      , 0      , 0      , 0      ]]), Tensor(shape=[2, 20], dtype=int64, place=Place(cpu), stop_gradient=True,\n",
      "       [[3251, 0   , 0   , 0   , 0   , 0   , 0   , 0   , 0   , 0   , 0   , 0   ,\n",
      "         0   , 0   , 0   , 0   , 0   , 0   , 0   , 0   ],\n",
      "        [6212, 0   , 0   , 0   , 0   , 0   , 0   , 0   , 0   , 0   , 0   , 0   ,\n",
      "         0   , 0   , 0   , 0   , 0   , 0   , 0   , 0   ]]), Tensor(shape=[2, 20], dtype=int64, place=Place(cpu), stop_gradient=True,\n",
      "       [[3061, 311 , 0   , 0   , 0   , 0   , 0   , 0   , 0   , 0   , 0   , 0   ,\n",
      "         0   , 0   , 0   , 0   , 0   , 0   , 0   , 0   ],\n",
      "        [0   , 0   , 0   , 0   , 0   , 0   , 0   , 0   , 0   , 0   , 0   , 0   ,\n",
      "         0   , 0   , 0   , 0   , 0   , 0   , 0   , 0   ]]), Tensor(shape=[2, 20], dtype=int64, place=Place(cpu), stop_gradient=True,\n",
      "       [[312  , 151  , 252  , 183  , 184  , 64   , 65   , 155  , 188  , 157  ,\n",
      "         396  , 70   , 0    , 0    , 0    , 0    , 0    , 0    , 0    , 0    ],\n",
      "        [59   , 601  , 29429, 62   , 153  , 344  , 345  , 187  , 188  , 189  ,\n",
      "         158  , 70   , 0    , 0    , 0    , 0    , 0    , 0    , 0    , 0    ]]), Tensor(shape=[2, 26, 20], dtype=float64, place=Place(cpu), stop_gradient=True,\n",
      "       [[[ 0.         , -1000000000., -1000000000., ..., -1000000000.,\n",
      "          -1000000000., -1000000000.],\n",
      "         [ 0.         , -1000000000., -1000000000., ..., -1000000000.,\n",
      "          -1000000000., -1000000000.],\n",
      "         [ 0.         , -1000000000., -1000000000., ..., -1000000000.,\n",
      "          -1000000000., -1000000000.],\n",
      "         ...,\n",
      "         [ 0.         , -1000000000., -1000000000., ..., -1000000000.,\n",
      "          -1000000000., -1000000000.],\n",
      "         [ 0.         ,  0.         , -1000000000., ..., -1000000000.,\n",
      "          -1000000000., -1000000000.],\n",
      "         [ 0.         ,  0.         ,  0.         , ..., -1000000000.,\n",
      "          -1000000000., -1000000000.]],\n",
      "\n",
      "        [[ 0.         , -1000000000., -1000000000., ..., -1000000000.,\n",
      "          -1000000000., -1000000000.],\n",
      "         [ 0.         , -1000000000., -1000000000., ..., -1000000000.,\n",
      "          -1000000000., -1000000000.],\n",
      "         [ 0.         , -1000000000., -1000000000., ..., -1000000000.,\n",
      "          -1000000000., -1000000000.],\n",
      "         ...,\n",
      "         [ 0.         , -1000000000., -1000000000., ..., -1000000000.,\n",
      "          -1000000000., -1000000000.],\n",
      "         [ 0.         , -1000000000., -1000000000., ..., -1000000000.,\n",
      "          -1000000000., -1000000000.],\n",
      "         [ 0.         ,  0.         ,  0.         , ..., -1000000000.,\n",
      "          -1000000000., -1000000000.]]])]\n"
     ]
    }
   ],
   "source": [
    "for batch_id, batch in enumerate(dataloader):\n",
    "    print(batch)\n",
    "    break"
   ]
  },
  {
   "cell_type": "code",
   "execution_count": null,
   "id": "6e460be6-72fc-46ab-8533-21d2b7b61a1f",
   "metadata": {},
   "outputs": [],
   "source": []
  },
  {
   "cell_type": "code",
   "execution_count": 7,
   "id": "53aa9576-c263-47a5-81c2-ecda2377ad95",
   "metadata": {
    "execution": {
     "iopub.execute_input": "2023-07-07T02:29:22.833861Z",
     "iopub.status.busy": "2023-07-07T02:29:22.833473Z",
     "iopub.status.idle": "2023-07-07T02:29:22.838046Z",
     "shell.execute_reply": "2023-07-07T02:29:22.837132Z",
     "shell.execute_reply.started": "2023-07-07T02:29:22.833831Z"
    },
    "tags": []
   },
   "outputs": [],
   "source": [
    "cel = paddle.nn.CrossEntropyLoss(soft_label=True)"
   ]
  },
  {
   "cell_type": "code",
   "execution_count": 13,
   "id": "43f8e6a9-f135-4b1c-b782-a8c22e935f24",
   "metadata": {
    "execution": {
     "iopub.execute_input": "2023-07-07T02:30:19.481531Z",
     "iopub.status.busy": "2023-07-07T02:30:19.481173Z",
     "iopub.status.idle": "2023-07-07T02:30:19.486729Z",
     "shell.execute_reply": "2023-07-07T02:30:19.485868Z",
     "shell.execute_reply.started": "2023-07-07T02:30:19.481506Z"
    },
    "tags": []
   },
   "outputs": [],
   "source": [
    "pred = paddle.to_tensor([[0.8, 0.15, 0.05], [0.3, 0.6, 0.1]], dtype=\"float32\")\n",
    "label = paddle.to_tensor([[1, 0, 0], [0, 1, 0]], dtype=\"float32\")"
   ]
  },
  {
   "cell_type": "code",
   "execution_count": 14,
   "id": "5a1f8675-8d52-494d-b73d-5ca9302384de",
   "metadata": {
    "execution": {
     "iopub.execute_input": "2023-07-07T02:30:19.853470Z",
     "iopub.status.busy": "2023-07-07T02:30:19.853081Z",
     "iopub.status.idle": "2023-07-07T02:30:19.859728Z",
     "shell.execute_reply": "2023-07-07T02:30:19.858775Z",
     "shell.execute_reply.started": "2023-07-07T02:30:19.853442Z"
    },
    "tags": []
   },
   "outputs": [
    {
     "data": {
      "text/plain": [
       "Tensor(shape=[1], dtype=float32, place=Place(cpu), stop_gradient=True,\n",
       "       [0.77181804])"
      ]
     },
     "execution_count": 14,
     "metadata": {},
     "output_type": "execute_result"
    }
   ],
   "source": [
    "cel(pred, label)"
   ]
  },
  {
   "cell_type": "code",
   "execution_count": 18,
   "id": "b5b72cc4-fa3e-4297-b912-a93517d37092",
   "metadata": {
    "execution": {
     "iopub.execute_input": "2023-07-07T02:36:27.316893Z",
     "iopub.status.busy": "2023-07-07T02:36:27.316459Z",
     "iopub.status.idle": "2023-07-07T02:36:27.323401Z",
     "shell.execute_reply": "2023-07-07T02:36:27.322489Z",
     "shell.execute_reply.started": "2023-07-07T02:36:27.316866Z"
    },
    "tags": []
   },
   "outputs": [
    {
     "data": {
      "text/plain": [
       "Tensor(shape=[2, 1], dtype=float32, place=Place(cpu), stop_gradient=True,\n",
       "       [[0.05000000],\n",
       "        [0.10000000]])"
      ]
     },
     "execution_count": 18,
     "metadata": {},
     "output_type": "execute_result"
    }
   ],
   "source": [
    "paddle.slice(pred, axes=[1], starts=[2], ends=[3])"
   ]
  },
  {
   "cell_type": "code",
   "execution_count": null,
   "id": "d3e127ea-a516-40ce-b4bf-187dfacf4e12",
   "metadata": {},
   "outputs": [],
   "source": []
  },
  {
   "cell_type": "code",
   "execution_count": 41,
   "id": "7396c98a-cddb-43b6-af2e-7f2499cca9e7",
   "metadata": {
    "execution": {
     "iopub.execute_input": "2023-07-07T07:28:05.350403Z",
     "iopub.status.busy": "2023-07-07T07:28:05.350017Z",
     "iopub.status.idle": "2023-07-07T07:28:05.358608Z",
     "shell.execute_reply": "2023-07-07T07:28:05.357601Z",
     "shell.execute_reply.started": "2023-07-07T07:28:05.350373Z"
    },
    "tags": []
   },
   "outputs": [
    {
     "data": {
      "text/plain": [
       "Tensor(shape=[1], dtype=float32, place=Place(cpu), stop_gradient=True,\n",
       "       [1.24787295])"
      ]
     },
     "execution_count": 41,
     "metadata": {},
     "output_type": "execute_result"
    }
   ],
   "source": [
    "pred = paddle.to_tensor([[0.05, 0.75, 0.05, 0.05, 0.05, 0.05], [0.05, 0.05, 0.75, 0.05, 0.05, 0.05]])\n",
    "label = paddle.to_tensor([[0, 1, 0, 0, 0, 0], [0, 0, 1, 0, 0, 0]], dtype=\"float32\")\n",
    "\n",
    "\n",
    "F.cross_entropy(pred, label, soft_label=True)"
   ]
  },
  {
   "cell_type": "code",
   "execution_count": null,
   "id": "da77ba0c-1f06-4d10-8b39-ad678fa1dc0f",
   "metadata": {},
   "outputs": [],
   "source": []
  },
  {
   "cell_type": "code",
   "execution_count": null,
   "id": "347c5d23-aada-4d2d-ae77-b37786813a73",
   "metadata": {},
   "outputs": [],
   "source": []
  }
 ],
 "metadata": {
  "kernelspec": {
   "display_name": "Python 3 (ipykernel)",
   "language": "python",
   "name": "python3"
  },
  "language_info": {
   "codemirror_mode": {
    "name": "ipython",
    "version": 3
   },
   "file_extension": ".py",
   "mimetype": "text/x-python",
   "name": "python",
   "nbconvert_exporter": "python",
   "pygments_lexer": "ipython3",
   "version": "3.8.9"
  }
 },
 "nbformat": 4,
 "nbformat_minor": 5
}
