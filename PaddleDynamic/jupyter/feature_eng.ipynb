{
 "cells": [
  {
   "cell_type": "code",
   "execution_count": 2,
   "id": "9c5d8d93-b1fb-4e3e-851c-7cbc0da5666c",
   "metadata": {
    "execution": {
     "iopub.execute_input": "2023-06-29T07:24:50.115747Z",
     "iopub.status.busy": "2023-06-29T07:24:50.115356Z",
     "iopub.status.idle": "2023-06-29T07:24:50.725606Z",
     "shell.execute_reply": "2023-06-29T07:24:50.725042Z",
     "shell.execute_reply.started": "2023-06-29T07:24:50.115722Z"
    },
    "scrolled": true,
    "tags": []
   },
   "outputs": [],
   "source": [
    "import os\n",
    "import joblib\n",
    "\n",
    "import tqdm\n",
    "\n",
    "import numpy as np\n",
    "import pandas as pd"
   ]
  },
  {
   "cell_type": "code",
   "execution_count": null,
   "id": "a0e6ec27-ce22-4820-bd91-aa0db2219cfe",
   "metadata": {
    "scrolled": true
   },
   "outputs": [],
   "source": []
  },
  {
   "cell_type": "markdown",
   "id": "a1a5fcd0-fb75-4d70-be8c-2ca90ebbb957",
   "metadata": {},
   "source": [
    "# log_key包含重复值"
   ]
  },
  {
   "cell_type": "code",
   "execution_count": 27,
   "id": "cbb79ae6-aefc-4b2d-a7c0-495bdbb0ad71",
   "metadata": {
    "execution": {
     "iopub.execute_input": "2023-06-27T07:44:47.162896Z",
     "iopub.status.busy": "2023-06-27T07:44:47.162335Z",
     "iopub.status.idle": "2023-06-27T07:45:08.756616Z",
     "shell.execute_reply": "2023-06-27T07:45:08.755680Z",
     "shell.execute_reply.started": "2023-06-27T07:44:47.162867Z"
    },
    "scrolled": true,
    "tags": []
   },
   "outputs": [
    {
     "name": "stderr",
     "output_type": "stream",
     "text": [
      "100%|██████████| 30/30 [00:21<00:00,  1.35it/s]\n"
     ]
    }
   ],
   "source": [
    "log_keys = {}\n",
    "\n",
    "for _file in tqdm.tqdm(train_file_ls):\n",
    "    with open(os.path.join(train_folder, _file), \"r\") as f:\n",
    "        for line in f:\n",
    "            items = line.strip().split(\"\\t\")\n",
    "            \n",
    "            log_key = items[0]\n",
    "\n",
    "            if log_key not in log_keys:\n",
    "                log_keys[log_key] = 0\n",
    "            \n",
    "            log_keys[log_key] += 1"
   ]
  },
  {
   "cell_type": "code",
   "execution_count": 36,
   "id": "d2b6c3b5-a543-4360-bdc1-34bfd5f3a6bf",
   "metadata": {
    "execution": {
     "iopub.execute_input": "2023-06-27T07:49:54.288246Z",
     "iopub.status.busy": "2023-06-27T07:49:54.287478Z",
     "iopub.status.idle": "2023-06-27T07:49:55.792004Z",
     "shell.execute_reply": "2023-06-27T07:49:55.791215Z",
     "shell.execute_reply.started": "2023-06-27T07:49:54.288214Z"
    },
    "scrolled": true,
    "tags": []
   },
   "outputs": [],
   "source": [
    "log_keys_freq = {}\n",
    "\n",
    "for k, v in log_keys.items():\n",
    "    if v not in log_keys_freq:\n",
    "        log_keys_freq[v] = 0\n",
    "    \n",
    "    log_keys_freq[v] += 1"
   ]
  },
  {
   "cell_type": "code",
   "execution_count": 34,
   "id": "05cadfd4-c837-45da-b61c-126dffd8236c",
   "metadata": {
    "execution": {
     "iopub.execute_input": "2023-06-27T07:48:15.235595Z",
     "iopub.status.busy": "2023-06-27T07:48:15.234832Z",
     "iopub.status.idle": "2023-06-27T07:48:15.239827Z",
     "shell.execute_reply": "2023-06-27T07:48:15.239128Z",
     "shell.execute_reply.started": "2023-06-27T07:48:15.235564Z"
    },
    "scrolled": true
   },
   "outputs": [
    {
     "data": {
      "text/plain": [
       "{1: 7178128, 2: 5990, 3: 4}"
      ]
     },
     "execution_count": 34,
     "metadata": {},
     "output_type": "execute_result"
    }
   ],
   "source": [
    "log_keys_freq"
   ]
  },
  {
   "cell_type": "code",
   "execution_count": 35,
   "id": "68247fa6-bd8a-4db2-b1c8-98e253bd022d",
   "metadata": {
    "execution": {
     "iopub.execute_input": "2023-06-27T07:48:37.678416Z",
     "iopub.status.busy": "2023-06-27T07:48:37.677639Z",
     "iopub.status.idle": "2023-06-27T07:48:38.299770Z",
     "shell.execute_reply": "2023-06-27T07:48:38.298953Z",
     "shell.execute_reply.started": "2023-06-27T07:48:37.678385Z"
    },
    "scrolled": true,
    "tags": []
   },
   "outputs": [
    {
     "name": "stdout",
     "output_type": "stream",
     "text": [
      "4193316555 3\n",
      "1399076553 3\n",
      "3799200581 3\n",
      "1994649457 3\n"
     ]
    }
   ],
   "source": [
    "for k, v in log_keys.items():\n",
    "    if v == 3:\n",
    "        print(k, v)"
   ]
  },
  {
   "cell_type": "code",
   "execution_count": null,
   "id": "fcf74d4f-444c-469e-97c2-154d45e02b0c",
   "metadata": {
    "scrolled": true
   },
   "outputs": [],
   "source": []
  },
  {
   "cell_type": "markdown",
   "id": "675aeaf0-c28e-4524-bc6d-4f4656a7ec8c",
   "metadata": {},
   "source": [
    "# 可以凭借某些字段来辨别广告类型"
   ]
  },
  {
   "cell_type": "code",
   "execution_count": 149,
   "id": "1cb3ad09-5a92-40e1-bc23-f85e7ee6c3c3",
   "metadata": {
    "execution": {
     "iopub.execute_input": "2023-06-27T10:14:14.585449Z",
     "iopub.status.busy": "2023-06-27T10:14:14.584582Z",
     "iopub.status.idle": "2023-06-27T10:14:14.591266Z",
     "shell.execute_reply": "2023-06-27T10:14:14.590386Z",
     "shell.execute_reply.started": "2023-06-27T10:14:14.585418Z"
    },
    "scrolled": true,
    "tags": []
   },
   "outputs": [
    {
     "data": {
      "text/plain": [
       "['file_01.txt',\n",
       " 'file_02.txt',\n",
       " 'file_03.txt',\n",
       " 'file_04.txt',\n",
       " 'file_05.txt',\n",
       " 'file_06.txt',\n",
       " 'file_07.txt',\n",
       " 'file_08.txt',\n",
       " 'file_09.txt',\n",
       " 'file_10.txt',\n",
       " 'file_11.txt',\n",
       " 'file_12.txt',\n",
       " 'file_13.txt',\n",
       " 'file_14.txt',\n",
       " 'file_15.txt',\n",
       " 'file_16.txt',\n",
       " 'file_17.txt',\n",
       " 'file_18.txt',\n",
       " 'file_19.txt',\n",
       " 'file_20.txt',\n",
       " 'file_21.txt',\n",
       " 'file_22.txt',\n",
       " 'file_23.txt',\n",
       " 'file_24.txt',\n",
       " 'file_25.txt',\n",
       " 'file_26.txt',\n",
       " 'file_27.txt',\n",
       " 'file_28.txt',\n",
       " 'file_29.txt',\n",
       " 'file_30.txt']"
      ]
     },
     "execution_count": 149,
     "metadata": {},
     "output_type": "execute_result"
    }
   ],
   "source": [
    "train_folder = \"../../work_data/data205411/2023-cvr-contest-data/train_data\"\n",
    "train_file_ls = sorted(os.listdir(train_folder))\n",
    "\n",
    "train_file_ls"
   ]
  },
  {
   "cell_type": "code",
   "execution_count": 150,
   "id": "b0551db9-8979-4f84-9723-f6e51f8d14e2",
   "metadata": {
    "execution": {
     "iopub.execute_input": "2023-06-27T10:14:17.041088Z",
     "iopub.status.busy": "2023-06-27T10:14:17.040650Z",
     "iopub.status.idle": "2023-06-27T10:14:17.046432Z",
     "shell.execute_reply": "2023-06-27T10:14:17.045704Z",
     "shell.execute_reply.started": "2023-06-27T10:14:17.041052Z"
    },
    "scrolled": true,
    "tags": []
   },
   "outputs": [],
   "source": [
    "record = \"1,2,3,4,5,6,7,8,9,10,11,12,13,14,15,16,17,18,19,20,21,22,23,24,25,26\"\n",
    "\n",
    "conv1, conv2, conv3, duplicated123, duplicated12, duplicated13, duplicated23 = {}, {}, {}, {}, {}, {}, {}\n",
    "\n",
    "for _key in record.split(\",\"):\n",
    "    conv1[_key] = set()\n",
    "    conv2[_key] = set()\n",
    "    conv3[_key] = set()\n",
    "    duplicated123[_key] = set()\n",
    "    duplicated12[_key] = set()\n",
    "    duplicated13[_key] = set()\n",
    "    duplicated23[_key] = set()"
   ]
  },
  {
   "cell_type": "code",
   "execution_count": 151,
   "id": "f61471f1-913a-4fa2-80e9-e43145bf4b82",
   "metadata": {
    "execution": {
     "iopub.execute_input": "2023-06-27T10:14:19.244983Z",
     "iopub.status.busy": "2023-06-27T10:14:19.244361Z",
     "iopub.status.idle": "2023-06-27T10:22:18.417839Z",
     "shell.execute_reply": "2023-06-27T10:22:18.416858Z",
     "shell.execute_reply.started": "2023-06-27T10:14:19.244954Z"
    },
    "scrolled": true,
    "tags": []
   },
   "outputs": [
    {
     "name": "stderr",
     "output_type": "stream",
     "text": [
      "\n",
      "  0%|          | 0/30 [00:00<?, ?it/s]\u001b[A\n",
      "  3%|▎         | 1/30 [00:15<07:23, 15.29s/it]\u001b[A\n",
      "  7%|▋         | 2/30 [00:30<07:04, 15.14s/it]\u001b[A\n",
      " 10%|█         | 3/30 [00:45<06:51, 15.24s/it]\u001b[A\n",
      " 13%|█▎        | 4/30 [01:01<06:39, 15.37s/it]\u001b[A\n",
      " 17%|█▋        | 5/30 [01:17<06:30, 15.60s/it]\u001b[A\n",
      " 20%|██        | 6/30 [01:31<06:03, 15.14s/it]\u001b[A\n",
      " 23%|██▎       | 7/30 [01:45<05:41, 14.87s/it]\u001b[A\n",
      " 27%|██▋       | 8/30 [02:00<05:29, 14.99s/it]\u001b[A\n",
      " 30%|███       | 9/30 [02:17<05:23, 15.41s/it]\u001b[A\n",
      " 33%|███▎      | 10/30 [02:33<05:11, 15.58s/it]\u001b[A\n",
      " 37%|███▋      | 11/30 [02:51<05:08, 16.25s/it]\u001b[A\n",
      " 40%|████      | 12/30 [03:10<05:07, 17.10s/it]\u001b[A\n",
      " 43%|████▎     | 13/30 [03:25<04:41, 16.54s/it]\u001b[A\n",
      " 47%|████▋     | 14/30 [03:39<04:11, 15.69s/it]\u001b[A\n",
      " 50%|█████     | 15/30 [03:52<03:45, 15.01s/it]\u001b[A\n",
      " 53%|█████▎    | 16/30 [04:06<03:25, 14.68s/it]\u001b[A\n",
      " 57%|█████▋    | 17/30 [04:22<03:15, 15.01s/it]\u001b[A\n",
      " 60%|██████    | 18/30 [04:40<03:11, 16.00s/it]\u001b[A\n",
      " 63%|██████▎   | 19/30 [04:58<03:02, 16.58s/it]\u001b[A\n",
      " 67%|██████▋   | 20/30 [05:13<02:42, 16.21s/it]\u001b[A\n",
      " 70%|███████   | 21/30 [05:28<02:22, 15.82s/it]\u001b[A\n",
      " 73%|███████▎  | 22/30 [05:44<02:06, 15.84s/it]\u001b[A\n",
      " 77%|███████▋  | 23/30 [05:59<01:49, 15.69s/it]\u001b[A\n",
      " 80%|████████  | 24/30 [06:16<01:36, 16.04s/it]\u001b[A\n",
      " 83%|████████▎ | 25/30 [06:35<01:24, 16.86s/it]\u001b[A\n",
      " 87%|████████▋ | 26/30 [06:53<01:08, 17.25s/it]\u001b[A\n",
      " 90%|█████████ | 27/30 [07:09<00:50, 16.80s/it]\u001b[A\n",
      " 93%|█████████▎| 28/30 [07:25<00:33, 16.64s/it]\u001b[A\n",
      " 97%|█████████▋| 29/30 [07:42<00:16, 16.54s/it]\u001b[A\n",
      "100%|██████████| 30/30 [07:59<00:00, 16.70s/it]\u001b[A\n",
      "\u001b[A"
     ]
    }
   ],
   "source": [
    "for _file in tqdm.tqdm(train_file_ls):\n",
    "    with open(os.path.join(train_folder, _file), \"r\") as f:\n",
    "        for line in f:\n",
    "            items = line.strip().split(\"\\t\")\n",
    "            \n",
    "            log_key = items[0]\n",
    "            t1 = items[1]\n",
    "            t2 = items[2]\n",
    "            t3 = items[3]\n",
    "            features = items[4]\n",
    "            \n",
    "            if t1 in [\"0\", \"1\"]:\n",
    "                curr_conv = conv1\n",
    "            elif t2 in [\"0\", \"1\"]:\n",
    "                curr_conv = conv2\n",
    "            elif t3 in [\"0\", \"1\"]:\n",
    "                curr_conv = conv3\n",
    "            \n",
    "            feature_ls = features.split(\" \")\n",
    "            \n",
    "            for _f in feature_ls:\n",
    "                _value = _f.split(\":\")[0]\n",
    "                _key = _f.split(\":\")[1]\n",
    "                \n",
    "                curr_conv[_key].add(_value)"
   ]
  },
  {
   "cell_type": "code",
   "execution_count": null,
   "id": "63427eeb-afe9-463a-b00e-a2bcbcd2bf19",
   "metadata": {
    "scrolled": true
   },
   "outputs": [],
   "source": []
  },
  {
   "cell_type": "code",
   "execution_count": 163,
   "id": "9cddd557-e9ab-4eb6-bd4c-b9f78a0d2580",
   "metadata": {
    "execution": {
     "iopub.execute_input": "2023-06-27T10:23:04.995733Z",
     "iopub.status.busy": "2023-06-27T10:23:04.994984Z",
     "iopub.status.idle": "2023-06-27T10:23:08.235383Z",
     "shell.execute_reply": "2023-06-27T10:23:08.234433Z",
     "shell.execute_reply.started": "2023-06-27T10:23:04.995703Z"
    },
    "scrolled": true,
    "tags": []
   },
   "outputs": [],
   "source": [
    "for _key in record.split(\",\"):\n",
    "    intersection12 = conv1[_key].intersection(conv2[_key])\n",
    "    intersection23 = conv2[_key].intersection(conv3[_key])\n",
    "    intersection13 = conv1[_key].intersection(conv3[_key])\n",
    "    intersection123 = conv1[_key].intersection(conv2[_key]).intersection(conv3[_key])\n",
    "    \n",
    "    duplicated12[_key].update(intersection12)\n",
    "    duplicated13[_key].update(intersection13)\n",
    "    duplicated23[_key].update(intersection23)\n",
    "    duplicated123[_key].update(intersection123)"
   ]
  },
  {
   "cell_type": "code",
   "execution_count": 153,
   "id": "5a3259ae-a480-4146-9933-ded7df3aa72a",
   "metadata": {
    "execution": {
     "iopub.execute_input": "2023-06-27T10:22:21.787342Z",
     "iopub.status.busy": "2023-06-27T10:22:21.787025Z",
     "iopub.status.idle": "2023-06-27T10:22:21.796501Z",
     "shell.execute_reply": "2023-06-27T10:22:21.795820Z",
     "shell.execute_reply.started": "2023-06-27T10:22:21.787317Z"
    },
    "scrolled": true,
    "tags": []
   },
   "outputs": [
    {
     "name": "stdout",
     "output_type": "stream",
     "text": [
      "[1] -- conv1: 7; \tconv2: 7; \tconv3: 7; \tduplicated: 0\n",
      "[2] -- conv1: 3; \tconv2: 3; \tconv3: 3; \tduplicated: 0\n",
      "[3] -- conv1: 2150413; \tconv2: 2115505; \tconv3: 2691446; \tduplicated: 0\n",
      "[4] -- conv1: 1765698; \tconv2: 1508849; \tconv3: 2051660; \tduplicated: 0\n",
      "[5] -- conv1: 4; \tconv2: 4; \tconv3: 4; \tduplicated: 0\n",
      "[6] -- conv1: 3; \tconv2: 3; \tconv3: 3; \tduplicated: 0\n",
      "[7] -- conv1: 6; \tconv2: 6; \tconv3: 6; \tduplicated: 6\n",
      "[8] -- conv1: 6; \tconv2: 6; \tconv3: 6; \tduplicated: 0\n",
      "[9] -- conv1: 2; \tconv2: 2; \tconv3: 2; \tduplicated: 0\n",
      "[10] -- conv1: 2058747; \tconv2: 1360987; \tconv3: 2599295; \tduplicated: 52\n",
      "[11] -- conv1: 37; \tconv2: 37; \tconv3: 37; \tduplicated: 0\n",
      "[12] -- conv1: 0; \tconv2: 0; \tconv3: 0; \tduplicated: 0\n",
      "[13] -- conv1: 24; \tconv2: 24; \tconv3: 24; \tduplicated: 24\n",
      "[14] -- conv1: 2; \tconv2: 2; \tconv3: 2; \tduplicated: 0\n",
      "[15] -- conv1: 346; \tconv2: 398; \tconv3: 368; \tduplicated: 0\n",
      "[16] -- conv1: 1; \tconv2: 1; \tconv3: 1; \tduplicated: 1\n",
      "[17] -- conv1: 6565679; \tconv2: 2944406; \tconv3: 8161049; \tduplicated: 0\n",
      "[18] -- conv1: 1733638; \tconv2: 574389; \tconv3: 1057223; \tduplicated: 5079\n",
      "[19] -- conv1: 98891; \tconv2: 96438; \tconv3: 174708; \tduplicated: 0\n",
      "[20] -- conv1: 15419; \tconv2: 13502; \tconv3: 14936; \tduplicated: 3780\n",
      "[21] -- conv1: 7; \tconv2: 5; \tconv3: 2; \tduplicated: 0\n",
      "[22] -- conv1: 15123167; \tconv2: 12696954; \tconv3: 16736240; \tduplicated: 1298\n",
      "[23] -- conv1: 89467; \tconv2: 101374; \tconv3: 127921; \tduplicated: 0\n",
      "[24] -- conv1: 285; \tconv2: 284; \tconv3: 410; \tduplicated: 240\n",
      "[25] -- conv1: 348; \tconv2: 395; \tconv3: 275; \tduplicated: 0\n",
      "[26] -- conv1: 1643; \tconv2: 1609; \tconv3: 1503; \tduplicated: 1324\n"
     ]
    }
   ],
   "source": [
    "for k, v in conv1.items():\n",
    "    print(f\"[{k}] -- conv1: {len(v)}; \\tconv2: {len(conv2[k])}; \\tconv3: {len(conv3[k])}; \\tduplicated: {len(duplicated123[k])}\")"
   ]
  },
  {
   "cell_type": "code",
   "execution_count": null,
   "id": "e944d444-4239-4f99-b8d4-440965b44fb1",
   "metadata": {
    "scrolled": true
   },
   "outputs": [],
   "source": []
  },
  {
   "cell_type": "code",
   "execution_count": 154,
   "id": "95e8efde-c8f5-4027-add4-4b86f901e1c7",
   "metadata": {
    "execution": {
     "iopub.execute_input": "2023-06-27T10:22:21.797789Z",
     "iopub.status.busy": "2023-06-27T10:22:21.797349Z",
     "iopub.status.idle": "2023-06-27T10:22:22.077679Z",
     "shell.execute_reply": "2023-06-27T10:22:22.076912Z",
     "shell.execute_reply.started": "2023-06-27T10:22:21.797764Z"
    },
    "scrolled": true,
    "tags": []
   },
   "outputs": [
    {
     "name": "stdout",
     "output_type": "stream",
     "text": [
      "1, 0\n",
      "2, 0\n",
      "3, 0\n",
      "4, 0\n",
      "5, 0\n",
      "6, 0\n",
      "7, 6\n",
      "8, 0\n",
      "9, 0\n",
      "10, 577\n",
      "11, 0\n",
      "13, 24\n",
      "14, 0\n",
      "15, 0\n",
      "16, 1\n",
      "17, 6131\n",
      "18, 89000\n",
      "19, 0\n",
      "20, 5556\n",
      "21, 0\n",
      "22, 4016\n",
      "23, 0\n",
      "24, 240\n",
      "25, 0\n",
      "26, 1433\n"
     ]
    }
   ],
   "source": [
    "for k, v in duplicated12.items():\n",
    "    if k == \"12\":\n",
    "        continue\n",
    "    print(f\"{k}, {len(v)}\")"
   ]
  },
  {
   "cell_type": "code",
   "execution_count": 155,
   "id": "9b0a4b7a-bc32-495e-aa88-3f6dfb9ba771",
   "metadata": {
    "execution": {
     "iopub.execute_input": "2023-06-27T10:22:22.079139Z",
     "iopub.status.busy": "2023-06-27T10:22:22.078824Z",
     "iopub.status.idle": "2023-06-27T10:22:23.027158Z",
     "shell.execute_reply": "2023-06-27T10:22:23.026324Z",
     "shell.execute_reply.started": "2023-06-27T10:22:22.079117Z"
    },
    "scrolled": true,
    "tags": []
   },
   "outputs": [
    {
     "name": "stdout",
     "output_type": "stream",
     "text": [
      "1, 0\n",
      "2, 0\n",
      "3, 0\n",
      "4, 0\n",
      "5, 0\n",
      "6, 0\n",
      "7, 6\n",
      "8, 0\n",
      "9, 0\n",
      "10, 170\n",
      "11, 0\n",
      "13, 24\n",
      "14, 0\n",
      "15, 0\n",
      "16, 1\n",
      "17, 14711\n",
      "18, 10793\n",
      "19, 0\n",
      "20, 7015\n",
      "21, 0\n",
      "22, 2054\n",
      "23, 0\n",
      "24, 267\n",
      "25, 0\n",
      "26, 1397\n"
     ]
    }
   ],
   "source": [
    "for k, v in duplicated13.items():\n",
    "    if k == \"12\":\n",
    "        continue\n",
    "    print(f\"{k}, {len(v)}\")"
   ]
  },
  {
   "cell_type": "code",
   "execution_count": 156,
   "id": "1048fb34-ff28-4394-ad15-2f31566f6cc6",
   "metadata": {
    "execution": {
     "iopub.execute_input": "2023-06-27T10:22:23.028359Z",
     "iopub.status.busy": "2023-06-27T10:22:23.028127Z",
     "iopub.status.idle": "2023-06-27T10:22:35.401107Z",
     "shell.execute_reply": "2023-06-27T10:22:35.400345Z",
     "shell.execute_reply.started": "2023-06-27T10:22:23.028337Z"
    },
    "scrolled": true,
    "tags": []
   },
   "outputs": [
    {
     "name": "stdout",
     "output_type": "stream",
     "text": [
      "1, 0\n",
      "2, 0\n",
      "3, 0\n",
      "4, 0\n",
      "5, 0\n",
      "6, 0\n",
      "7, 6\n",
      "8, 0\n",
      "9, 0\n",
      "10, 81\n",
      "11, 0\n",
      "13, 24\n",
      "14, 0\n",
      "15, 0\n",
      "16, 1\n",
      "17, 37\n",
      "18, 19161\n",
      "19, 0\n",
      "20, 5122\n",
      "21, 0\n",
      "22, 1538\n",
      "23, 0\n",
      "24, 284\n",
      "25, 0\n",
      "26, 1386\n"
     ]
    }
   ],
   "source": [
    "for k, v in duplicated23.items():\n",
    "    if k == \"12\":\n",
    "        continue\n",
    "    print(f\"{k}, {len(v)}\")"
   ]
  },
  {
   "cell_type": "code",
   "execution_count": 157,
   "id": "02a8378a-bd8b-44e0-9742-2493d91873b2",
   "metadata": {
    "execution": {
     "iopub.execute_input": "2023-06-27T10:22:35.402484Z",
     "iopub.status.busy": "2023-06-27T10:22:35.402159Z",
     "iopub.status.idle": "2023-06-27T10:22:35.409327Z",
     "shell.execute_reply": "2023-06-27T10:22:35.408599Z",
     "shell.execute_reply.started": "2023-06-27T10:22:35.402461Z"
    },
    "scrolled": true,
    "tags": []
   },
   "outputs": [
    {
     "name": "stdout",
     "output_type": "stream",
     "text": [
      "1, 0\n",
      "2, 0\n",
      "3, 0\n",
      "4, 0\n",
      "5, 0\n",
      "6, 0\n",
      "7, 6\n",
      "8, 0\n",
      "9, 0\n",
      "10, 52\n",
      "11, 0\n",
      "13, 24\n",
      "14, 0\n",
      "15, 0\n",
      "16, 1\n",
      "17, 0\n",
      "18, 5079\n",
      "19, 0\n",
      "20, 3780\n",
      "21, 0\n",
      "22, 1298\n",
      "23, 0\n",
      "24, 240\n",
      "25, 0\n",
      "26, 1324\n"
     ]
    }
   ],
   "source": [
    "for k, v in duplicated123.items():\n",
    "    if k == \"12\":\n",
    "        continue\n",
    "    print(f\"{k}, {len(v)}\")"
   ]
  },
  {
   "cell_type": "code",
   "execution_count": null,
   "id": "b2160240-acc1-408e-ba71-6f9171e21ece",
   "metadata": {
    "scrolled": true
   },
   "outputs": [],
   "source": []
  },
  {
   "cell_type": "code",
   "execution_count": null,
   "id": "f03f3474-0b90-48bc-9e28-7aae3cfe429f",
   "metadata": {
    "scrolled": true
   },
   "outputs": [],
   "source": []
  },
  {
   "cell_type": "markdown",
   "id": "34366c2b-dc4a-4f2b-bd08-6e3bb0814b92",
   "metadata": {},
   "source": [
    "# 测试集中，某些字段包含了训练集中不包含的值"
   ]
  },
  {
   "cell_type": "code",
   "execution_count": 158,
   "id": "bb977ae2-18a1-4bd3-a0fc-a072a7439b35",
   "metadata": {
    "execution": {
     "iopub.execute_input": "2023-06-27T10:22:35.410645Z",
     "iopub.status.busy": "2023-06-27T10:22:35.410302Z",
     "iopub.status.idle": "2023-06-27T10:22:35.995768Z",
     "shell.execute_reply": "2023-06-27T10:22:35.994892Z",
     "shell.execute_reply.started": "2023-06-27T10:22:35.410614Z"
    },
    "scrolled": true,
    "tags": []
   },
   "outputs": [
    {
     "data": {
      "text/plain": [
       "['file_test.txt']"
      ]
     },
     "execution_count": 158,
     "metadata": {},
     "output_type": "execute_result"
    }
   ],
   "source": [
    "test_folder = \"../../work_data/data204194/test_data\"\n",
    "test_file_ls = sorted(os.listdir(test_folder))\n",
    "\n",
    "test_file_ls"
   ]
  },
  {
   "cell_type": "code",
   "execution_count": 159,
   "id": "dadff814-9dda-4c3c-a552-4025b1618a0a",
   "metadata": {
    "execution": {
     "iopub.execute_input": "2023-06-27T10:22:36.000069Z",
     "iopub.status.busy": "2023-06-27T10:22:35.999392Z",
     "iopub.status.idle": "2023-06-27T10:22:37.008574Z",
     "shell.execute_reply": "2023-06-27T10:22:37.007806Z",
     "shell.execute_reply.started": "2023-06-27T10:22:36.000033Z"
    },
    "scrolled": true,
    "tags": []
   },
   "outputs": [],
   "source": [
    "test = {}\n",
    "\n",
    "for _key in record.split(\",\"):\n",
    "    test[_key] = set()"
   ]
  },
  {
   "cell_type": "code",
   "execution_count": 160,
   "id": "41b1d2b5-9012-42e0-bae4-d7144e622ed4",
   "metadata": {
    "execution": {
     "iopub.execute_input": "2023-06-27T10:22:37.009847Z",
     "iopub.status.busy": "2023-06-27T10:22:37.009522Z",
     "iopub.status.idle": "2023-06-27T10:22:57.276996Z",
     "shell.execute_reply": "2023-06-27T10:22:57.275730Z",
     "shell.execute_reply.started": "2023-06-27T10:22:37.009825Z"
    },
    "scrolled": true,
    "tags": []
   },
   "outputs": [],
   "source": [
    "for _file in test_file_ls:\n",
    "    with open(os.path.join(test_folder, _file), \"r\") as f:\n",
    "        for line in f:\n",
    "            items = line.strip().split(\"\\t\")\n",
    "            \n",
    "            log_key = items[0]\n",
    "            t1 = items[1]\n",
    "            t2 = items[2]\n",
    "            t3 = items[3]\n",
    "            features = items[4]\n",
    "            \n",
    "            feature_ls = features.split(\" \")\n",
    "            \n",
    "            for _f in feature_ls:\n",
    "                _value = _f.split(\":\")[0]\n",
    "                _key = _f.split(\":\")[1]\n",
    "                \n",
    "                if _value not in conv1[_key] and _value not in conv2[_key] and _value not in conv3[_key]:\n",
    "                    test[_key].add(_value)"
   ]
  },
  {
   "cell_type": "code",
   "execution_count": 161,
   "id": "2370f681-3d5b-4f95-b2c7-c7493755a644",
   "metadata": {
    "execution": {
     "iopub.execute_input": "2023-06-27T10:22:57.278854Z",
     "iopub.status.busy": "2023-06-27T10:22:57.278476Z",
     "iopub.status.idle": "2023-06-27T10:22:57.288068Z",
     "shell.execute_reply": "2023-06-27T10:22:57.287284Z",
     "shell.execute_reply.started": "2023-06-27T10:22:57.278823Z"
    },
    "scrolled": true,
    "tags": []
   },
   "outputs": [
    {
     "name": "stdout",
     "output_type": "stream",
     "text": [
      "1, 0\n",
      "2, 0\n",
      "3, 224082\n",
      "4, 156423\n",
      "5, 0\n",
      "6, 0\n",
      "7, 0\n",
      "8, 0\n",
      "9, 0\n",
      "10, 152719\n",
      "11, 0\n",
      "12, 0\n",
      "13, 0\n",
      "14, 0\n",
      "15, 3\n",
      "16, 0\n",
      "17, 469086\n",
      "18, 64872\n",
      "19, 11218\n",
      "20, 234\n",
      "21, 0\n",
      "22, 1319059\n",
      "23, 8541\n",
      "24, 3\n",
      "25, 4\n",
      "26, 15\n"
     ]
    }
   ],
   "source": [
    "for _k, _v in test.items():\n",
    "    print(f\"{_k}, {len(_v)}\")"
   ]
  },
  {
   "cell_type": "code",
   "execution_count": null,
   "id": "e2c69041-2552-4d94-9601-5dbb0aed6fed",
   "metadata": {
    "scrolled": true
   },
   "outputs": [],
   "source": []
  },
  {
   "cell_type": "code",
   "execution_count": null,
   "id": "ddc3fb8c-fa3c-4cb9-8660-d4a918382a6c",
   "metadata": {
    "scrolled": true
   },
   "outputs": [],
   "source": []
  },
  {
   "cell_type": "markdown",
   "id": "626659d3-0dd2-48a6-8432-c13e27aa2b2f",
   "metadata": {},
   "source": [
    "# 根据各列特征长度猜测用户和广告id字段"
   ]
  },
  {
   "cell_type": "code",
   "execution_count": 167,
   "id": "cb21d848-e0fd-4514-b1e9-5a869825c92e",
   "metadata": {
    "execution": {
     "iopub.execute_input": "2023-06-27T10:24:12.477773Z",
     "iopub.status.busy": "2023-06-27T10:24:12.477183Z",
     "iopub.status.idle": "2023-06-27T10:24:12.481917Z",
     "shell.execute_reply": "2023-06-27T10:24:12.481223Z",
     "shell.execute_reply.started": "2023-06-27T10:24:12.477731Z"
    },
    "scrolled": true,
    "tags": []
   },
   "outputs": [],
   "source": [
    "len1, len2, len3 = {}, {}, {}\n",
    "\n",
    "for _key in record.split(\",\"):\n",
    "    len1[_key] = [100, -1]\n",
    "    len2[_key] = [100, -1]\n",
    "    len3[_key] = [100, -1]"
   ]
  },
  {
   "cell_type": "code",
   "execution_count": 5,
   "id": "074bcdff-74e6-49bf-8c8e-96cd8e44ef15",
   "metadata": {
    "execution": {
     "iopub.execute_input": "2023-06-27T02:16:26.544482Z",
     "iopub.status.busy": "2023-06-27T02:16:26.543892Z",
     "iopub.status.idle": "2023-06-27T02:28:09.158891Z",
     "shell.execute_reply": "2023-06-27T02:28:09.150333Z",
     "shell.execute_reply.started": "2023-06-27T02:16:26.544453Z"
    },
    "scrolled": true
   },
   "outputs": [
    {
     "name": "stderr",
     "output_type": "stream",
     "text": [
      "100%|███████████████████████████████████████████████████████████████████████████████████████████████████████████████████████████████████████████████████████████████████████████████████████████████████████| 30/30 [11:42<00:00, 23.42s/it]\n"
     ]
    }
   ],
   "source": [
    "for _file in tqdm.tqdm(train_file_ls):\n",
    "    with open(os.path.join(train_folder, _file), \"r\") as f:\n",
    "        for line in f:\n",
    "            items = line.strip().split(\"\\t\")\n",
    "            \n",
    "            log_key = items[0]\n",
    "            t1 = items[1]\n",
    "            t2 = items[2]\n",
    "            t3 = items[3]\n",
    "            features = items[4]\n",
    "            \n",
    "            if t1 in [\"0\", \"1\"]:\n",
    "                curr_len = len1\n",
    "            elif t2 in [\"0\", \"1\"]:\n",
    "                curr_len = len2\n",
    "            elif t3 in [\"0\", \"1\"]:\n",
    "                curr_len = len3\n",
    "            \n",
    "            feature_ls = features.split(\" \")\n",
    "            \n",
    "            curr_line = {}\n",
    "            \n",
    "            for i in range(1, 26+1):\n",
    "                curr_line[str(i)] = 0\n",
    "            \n",
    "            for _f in feature_ls:\n",
    "                _value = _f.split(\":\")[0]\n",
    "                _key = _f.split(\":\")[1]\n",
    "                \n",
    "                curr_line[_key] += 1\n",
    "            \n",
    "            for _k, _v in curr_line.items():\n",
    "                curr_len[_k][0] = min(curr_len[_k][0], _v)\n",
    "                curr_len[_k][1] = max(curr_len[_k][1], _v)"
   ]
  },
  {
   "cell_type": "code",
   "execution_count": 8,
   "id": "67a5966b-4229-44b4-9036-61e318752de4",
   "metadata": {
    "execution": {
     "iopub.execute_input": "2023-06-27T02:29:29.465392Z",
     "iopub.status.busy": "2023-06-27T02:29:29.465039Z",
     "iopub.status.idle": "2023-06-27T02:29:29.471800Z",
     "shell.execute_reply": "2023-06-27T02:29:29.470774Z",
     "shell.execute_reply.started": "2023-06-27T02:29:29.465364Z"
    },
    "scrolled": true,
    "tags": []
   },
   "outputs": [
    {
     "name": "stdout",
     "output_type": "stream",
     "text": [
      "[1] -- conv1: [1, 1], conv2: [1, 1], conv3: [1, 1]\n",
      "[2] -- conv1: [1, 1], conv2: [1, 1], conv3: [1, 1]\n",
      "[3] -- conv1: [1, 1], conv2: [1, 1], conv3: [1, 1]\n",
      "[4] -- conv1: [1, 1], conv2: [1, 1], conv3: [1, 1]\n",
      "[5] -- conv1: [1, 1], conv2: [1, 1], conv3: [1, 1]\n",
      "[6] -- conv1: [1, 1], conv2: [1, 1], conv3: [1, 1]\n",
      "[7] -- conv1: [1, 1], conv2: [1, 1], conv3: [1, 1]\n",
      "[8] -- conv1: [1, 1], conv2: [1, 1], conv3: [1, 1]\n",
      "[9] -- conv1: [1, 1], conv2: [1, 1], conv3: [1, 1]\n",
      "[10] -- conv1: [0, 20], conv2: [0, 20], conv3: [0, 20]\n",
      "[11] -- conv1: [1, 1], conv2: [1, 1], conv3: [1, 1]\n",
      "[12] -- conv1: [0, 0], conv2: [0, 0], conv3: [0, 0]\n",
      "[13] -- conv1: [1, 1], conv2: [1, 1], conv3: [1, 1]\n",
      "[14] -- conv1: [1, 1], conv2: [1, 1], conv3: [1, 1]\n",
      "[15] -- conv1: [1, 1], conv2: [1, 1], conv3: [1, 1]\n",
      "[16] -- conv1: [1, 1], conv2: [1, 1], conv3: [1, 1]\n",
      "[17] -- conv1: [0, 10], conv2: [0, 10], conv3: [0, 10]\n",
      "[18] -- conv1: [0, 10], conv2: [0, 10], conv3: [0, 10]\n",
      "[19] -- conv1: [1, 1], conv2: [1, 1], conv3: [1, 1]\n",
      "[20] -- conv1: [1, 14], conv2: [1, 13], conv3: [1, 13]\n",
      "[21] -- conv1: [1, 2], conv2: [1, 2], conv3: [1, 1]\n",
      "[22] -- conv1: [0, 20], conv2: [0, 20], conv3: [0, 20]\n",
      "[23] -- conv1: [1, 1], conv2: [1, 1], conv3: [1, 1]\n",
      "[24] -- conv1: [1, 1], conv2: [1, 1], conv3: [1, 1]\n",
      "[25] -- conv1: [0, 6], conv2: [0, 6], conv3: [0, 6]\n",
      "[26] -- conv1: [1, 12], conv2: [1, 12], conv3: [1, 12]\n"
     ]
    }
   ],
   "source": [
    "for k, v in len1.items():\n",
    "    print(f\"[{k}] -- conv1: {v}, conv2: {len2[k]}, conv3: {len3[k]}\")"
   ]
  },
  {
   "cell_type": "code",
   "execution_count": null,
   "id": "f9b14e08-ecb2-4790-89e0-252ad9fe60f2",
   "metadata": {
    "scrolled": true
   },
   "outputs": [],
   "source": []
  },
  {
   "cell_type": "code",
   "execution_count": 9,
   "id": "61cdb21e-d54e-48bc-aef9-c417fa6745a8",
   "metadata": {
    "execution": {
     "iopub.execute_input": "2023-06-27T03:39:25.299217Z",
     "iopub.status.busy": "2023-06-27T03:39:25.298847Z",
     "iopub.status.idle": "2023-06-27T03:39:25.307242Z",
     "shell.execute_reply": "2023-06-27T03:39:25.306414Z",
     "shell.execute_reply.started": "2023-06-27T03:39:25.299189Z"
    },
    "scrolled": true,
    "tags": []
   },
   "outputs": [],
   "source": [
    "test_len = {}\n",
    "\n",
    "for _key in record.split(\",\"):\n",
    "    test_len[_key] = [100, -1]"
   ]
  },
  {
   "cell_type": "code",
   "execution_count": 12,
   "id": "b6a9e8c2-35dc-432a-bc9f-3c400b52721c",
   "metadata": {
    "execution": {
     "iopub.execute_input": "2023-06-27T03:40:18.249182Z",
     "iopub.status.busy": "2023-06-27T03:40:18.248550Z",
     "iopub.status.idle": "2023-06-27T03:40:35.165754Z",
     "shell.execute_reply": "2023-06-27T03:40:35.165066Z",
     "shell.execute_reply.started": "2023-06-27T03:40:18.249153Z"
    },
    "scrolled": true,
    "tags": []
   },
   "outputs": [
    {
     "name": "stderr",
     "output_type": "stream",
     "text": [
      "100%|█████████████████████████████████████████████████████████████████████████████████████████████████████████████████████████████████████████████████████████████████████████████████████████████████████████| 1/1 [00:16<00:00, 16.91s/it]\n"
     ]
    }
   ],
   "source": [
    "for _file in tqdm.tqdm(test_file_ls):\n",
    "    with open(os.path.join(test_folder, _file), \"r\") as f:\n",
    "        for line in f:\n",
    "            items = line.strip().split(\"\\t\")\n",
    "            \n",
    "            log_key = items[0]\n",
    "            t1 = items[1]\n",
    "            t2 = items[2]\n",
    "            t3 = items[3]\n",
    "            features = items[4]\n",
    "            \n",
    "            feature_ls = features.split(\" \")\n",
    "            \n",
    "            curr_line = {}\n",
    "            \n",
    "            for i in range(1, 26+1):\n",
    "                curr_line[str(i)] = 0\n",
    "            \n",
    "            for _f in feature_ls:\n",
    "                _value = _f.split(\":\")[0]\n",
    "                _key = _f.split(\":\")[1]\n",
    "                \n",
    "                curr_line[_key] += 1\n",
    "            \n",
    "            for _k, _v in curr_line.items():\n",
    "                test_len[_k][0] = min(test_len[_k][0], _v)\n",
    "                test_len[_k][1] = max(test_len[_k][1], _v)"
   ]
  },
  {
   "cell_type": "code",
   "execution_count": 17,
   "id": "a5662f83-e79d-488a-8206-084d4d9acecc",
   "metadata": {
    "execution": {
     "iopub.execute_input": "2023-06-27T03:45:14.269836Z",
     "iopub.status.busy": "2023-06-27T03:45:14.269476Z",
     "iopub.status.idle": "2023-06-27T03:45:14.275059Z",
     "shell.execute_reply": "2023-06-27T03:45:14.274213Z",
     "shell.execute_reply.started": "2023-06-27T03:45:14.269807Z"
    },
    "scrolled": true,
    "tags": []
   },
   "outputs": [
    {
     "name": "stdout",
     "output_type": "stream",
     "text": [
      "[1] -- conv1: [1, 1], conv2: [1, 1], conv3: [1, 1], test: [1, 1]\n",
      "[2] -- conv1: [1, 1], conv2: [1, 1], conv3: [1, 1], test: [1, 1]\n",
      "[3] -- conv1: [1, 1], conv2: [1, 1], conv3: [1, 1], test: [1, 1]\n",
      "[4] -- conv1: [1, 1], conv2: [1, 1], conv3: [1, 1], test: [1, 1]\n",
      "[5] -- conv1: [1, 1], conv2: [1, 1], conv3: [1, 1], test: [1, 1]\n",
      "[6] -- conv1: [1, 1], conv2: [1, 1], conv3: [1, 1], test: [1, 1]\n",
      "[7] -- conv1: [1, 1], conv2: [1, 1], conv3: [1, 1], test: [1, 1]\n",
      "[8] -- conv1: [1, 1], conv2: [1, 1], conv3: [1, 1], test: [1, 1]\n",
      "[9] -- conv1: [1, 1], conv2: [1, 1], conv3: [1, 1], test: [1, 1]\n",
      "[10] -- conv1: [0, 20], conv2: [0, 20], conv3: [0, 20], test: [0, 20]\n",
      "[11] -- conv1: [1, 1], conv2: [1, 1], conv3: [1, 1], test: [1, 1]\n",
      "[12] -- conv1: [0, 0], conv2: [0, 0], conv3: [0, 0], test: [0, 0]\n",
      "[13] -- conv1: [1, 1], conv2: [1, 1], conv3: [1, 1], test: [1, 1]\n",
      "[14] -- conv1: [1, 1], conv2: [1, 1], conv3: [1, 1], test: [1, 1]\n",
      "[15] -- conv1: [1, 1], conv2: [1, 1], conv3: [1, 1], test: [1, 1]\n",
      "[16] -- conv1: [1, 1], conv2: [1, 1], conv3: [1, 1], test: [1, 1]\n",
      "[17] -- conv1: [0, 10], conv2: [0, 10], conv3: [0, 10], test: [0, 10]\n",
      "[18] -- conv1: [0, 10], conv2: [0, 10], conv3: [0, 10], test: [0, 10]\n",
      "[19] -- conv1: [1, 1], conv2: [1, 1], conv3: [1, 1], test: [1, 1]\n",
      "[20] -- conv1: [1, 14], conv2: [1, 13], conv3: [1, 13], test: [1, 13]\n",
      "[21] -- conv1: [1, 2], conv2: [1, 2], conv3: [1, 1], test: [1, 2]\n",
      "[22] -- conv1: [0, 20], conv2: [0, 20], conv3: [0, 20], test: [0, 20]\n",
      "[23] -- conv1: [1, 1], conv2: [1, 1], conv3: [1, 1], test: [1, 1]\n",
      "[24] -- conv1: [1, 1], conv2: [1, 1], conv3: [1, 1], test: [1, 1]\n",
      "[25] -- conv1: [0, 6], conv2: [0, 6], conv3: [0, 6], test: [0, 6]\n",
      "[26] -- conv1: [1, 12], conv2: [1, 12], conv3: [1, 12], test: [1, 12]\n"
     ]
    }
   ],
   "source": [
    "for k, v in test_len.items():\n",
    "    print(f\"[{k}] -- conv1: {len1[k]}, conv2: {len2[k]}, conv3: {len3[k]}, test: {v}\")"
   ]
  },
  {
   "cell_type": "code",
   "execution_count": null,
   "id": "e8195905-380a-4f08-9bf3-aa008be351d0",
   "metadata": {
    "scrolled": true
   },
   "outputs": [],
   "source": []
  },
  {
   "cell_type": "markdown",
   "id": "69d1c8df-59a5-4ba3-beb3-0d3b24234c8f",
   "metadata": {},
   "source": [
    "# 根据字段9划分1/2/3"
   ]
  },
  {
   "cell_type": "markdown",
   "id": "96a99fa4-8f52-4ed1-80ca-306e4e410b0c",
   "metadata": {},
   "source": [
    "## train"
   ]
  },
  {
   "cell_type": "code",
   "execution_count": 19,
   "id": "15be0b4c-8de9-4c79-b958-9d1c90586e8b",
   "metadata": {
    "execution": {
     "iopub.execute_input": "2023-06-27T04:37:29.009980Z",
     "iopub.status.busy": "2023-06-27T04:37:29.008485Z",
     "iopub.status.idle": "2023-06-27T04:37:29.016422Z",
     "shell.execute_reply": "2023-06-27T04:37:29.015325Z",
     "shell.execute_reply.started": "2023-06-27T04:37:29.009939Z"
    },
    "scrolled": true,
    "tags": []
   },
   "outputs": [],
   "source": [
    "f1, f2, f3 = [], [], []\n",
    "\n",
    "cnt = 0"
   ]
  },
  {
   "cell_type": "code",
   "execution_count": 20,
   "id": "44b1ef92-3d7c-4429-8f38-b59fd10859ee",
   "metadata": {
    "execution": {
     "iopub.execute_input": "2023-06-27T04:37:29.018937Z",
     "iopub.status.busy": "2023-06-27T04:37:29.018498Z",
     "iopub.status.idle": "2023-06-27T04:37:52.353487Z",
     "shell.execute_reply": "2023-06-27T04:37:52.352507Z",
     "shell.execute_reply.started": "2023-06-27T04:37:29.018908Z"
    },
    "scrolled": true,
    "tags": []
   },
   "outputs": [
    {
     "name": "stderr",
     "output_type": "stream",
     "text": [
      "100%|███████████████████████████████████████████████████████████████████████████████████████████████████████████████████████████████████████████████████████████████████████████████████████████████████████| 30/30 [00:23<00:00,  1.29it/s]\n"
     ]
    }
   ],
   "source": [
    "for _file in tqdm.tqdm(train_file_ls):\n",
    "    with open(os.path.join(train_folder, _file), \"r\") as f:\n",
    "        for line in f:\n",
    "            cnt += 1\n",
    "            items = line.strip().split(\"\\t\")\n",
    "            \n",
    "            log_key = items[0]\n",
    "            t1 = items[1]\n",
    "            t2 = items[2]\n",
    "            t3 = items[3]\n",
    "            features = items[4]\n",
    "            \n",
    "            if t1 in [\"0\", \"1\"]:\n",
    "                curr_f = f1\n",
    "            elif t2 in [\"0\", \"1\"]:\n",
    "                curr_f = f2\n",
    "            elif t3 in [\"0\", \"1\"]:\n",
    "                curr_f = f3\n",
    "            \n",
    "            curr_f.append(line)"
   ]
  },
  {
   "cell_type": "code",
   "execution_count": 23,
   "id": "6811cb98-1e8d-430b-8e41-3dca8a9d74e9",
   "metadata": {
    "execution": {
     "iopub.execute_input": "2023-06-27T04:39:01.150497Z",
     "iopub.status.busy": "2023-06-27T04:39:01.149801Z",
     "iopub.status.idle": "2023-06-27T04:39:01.158832Z",
     "shell.execute_reply": "2023-06-27T04:39:01.157777Z",
     "shell.execute_reply.started": "2023-06-27T04:39:01.150468Z"
    },
    "scrolled": true,
    "tags": []
   },
   "outputs": [
    {
     "data": {
      "text/plain": [
       "(2214568, 2198547, 2777005, 7190120)"
      ]
     },
     "execution_count": 23,
     "metadata": {},
     "output_type": "execute_result"
    }
   ],
   "source": [
    "len(f1), len(f2), len(f3), cnt"
   ]
  },
  {
   "cell_type": "code",
   "execution_count": 21,
   "id": "a68a31e3-00f8-405d-b7fa-a4b307272181",
   "metadata": {
    "execution": {
     "iopub.execute_input": "2023-06-27T04:38:43.950910Z",
     "iopub.status.busy": "2023-06-27T04:38:43.950547Z",
     "iopub.status.idle": "2023-06-27T04:38:43.962651Z",
     "shell.execute_reply": "2023-06-27T04:38:43.961826Z",
     "shell.execute_reply.started": "2023-06-27T04:38:43.950883Z"
    },
    "scrolled": true,
    "tags": []
   },
   "outputs": [
    {
     "data": {
      "text/plain": [
       "True"
      ]
     },
     "execution_count": 21,
     "metadata": {},
     "output_type": "execute_result"
    }
   ],
   "source": [
    "len(f1) + len(f2) + len(f3) == cnt"
   ]
  },
  {
   "cell_type": "code",
   "execution_count": 25,
   "id": "baf2b2cc-4e51-4548-be03-4320f08de0f8",
   "metadata": {
    "execution": {
     "iopub.execute_input": "2023-06-27T04:57:36.548334Z",
     "iopub.status.busy": "2023-06-27T04:57:36.547955Z",
     "iopub.status.idle": "2023-06-27T04:57:52.392501Z",
     "shell.execute_reply": "2023-06-27T04:57:52.391670Z",
     "shell.execute_reply.started": "2023-06-27T04:57:36.548307Z"
    },
    "scrolled": true,
    "tags": []
   },
   "outputs": [],
   "source": [
    "for file_name, line_ls in {\n",
    "    \"./file_t1.txt\": f1, \n",
    "    \"./file_t2.txt\": f2, \n",
    "    \"./file_t3.txt\": f3\n",
    "}.items():\n",
    "    with open(file_name, \"w\") as f:\n",
    "        for line in line_ls:\n",
    "            f.write(line)"
   ]
  },
  {
   "cell_type": "code",
   "execution_count": null,
   "id": "7f96d7b1-8257-4bf6-918f-5fb90a7dff89",
   "metadata": {
    "scrolled": true
   },
   "outputs": [],
   "source": []
  },
  {
   "cell_type": "code",
   "execution_count": null,
   "id": "d77eaaf9-9225-4375-b01c-0eb669e472a7",
   "metadata": {
    "scrolled": true
   },
   "outputs": [],
   "source": []
  },
  {
   "cell_type": "markdown",
   "id": "24d68e5f-1839-46a1-befd-95246771bb57",
   "metadata": {},
   "source": [
    "## test"
   ]
  },
  {
   "cell_type": "code",
   "execution_count": 27,
   "id": "0ba54e9c-9090-4ffa-b707-403940d34958",
   "metadata": {
    "execution": {
     "iopub.execute_input": "2023-06-27T05:00:36.094355Z",
     "iopub.status.busy": "2023-06-27T05:00:36.093934Z",
     "iopub.status.idle": "2023-06-27T05:00:36.104246Z",
     "shell.execute_reply": "2023-06-27T05:00:36.103402Z",
     "shell.execute_reply.started": "2023-06-27T05:00:36.094325Z"
    },
    "scrolled": true,
    "tags": []
   },
   "outputs": [
    {
     "data": {
      "text/plain": [
       "({'2367', '321'}, {'167', '350'}, {'75', '9'})"
      ]
     },
     "execution_count": 27,
     "metadata": {},
     "output_type": "execute_result"
    }
   ],
   "source": [
    "conv1[\"9\"], conv2[\"9\"], conv3[\"9\"]"
   ]
  },
  {
   "cell_type": "code",
   "execution_count": 43,
   "id": "e8e1aff6-65c2-46c3-9798-83a7dfd5d0ab",
   "metadata": {
    "execution": {
     "iopub.execute_input": "2023-06-27T05:20:31.541600Z",
     "iopub.status.busy": "2023-06-27T05:20:31.541164Z",
     "iopub.status.idle": "2023-06-27T05:20:37.323680Z",
     "shell.execute_reply": "2023-06-27T05:20:37.322747Z",
     "shell.execute_reply.started": "2023-06-27T05:20:31.541572Z"
    },
    "scrolled": true,
    "tags": []
   },
   "outputs": [
    {
     "name": "stderr",
     "output_type": "stream",
     "text": [
      "100%|█████████████████████████████████████████████████████████████████████████████████████████████████████████████████████████████████████████████████████████████████████████████████████████████████████████| 1/1 [00:05<00:00,  5.77s/it]\n"
     ]
    }
   ],
   "source": [
    "f1, f2, f3 = [], [], []\n",
    "cnt = 0\n",
    "\n",
    "for _file in tqdm.tqdm(test_file_ls):\n",
    "    with open(os.path.join(test_folder, _file), \"r\") as f:\n",
    "        for line in f:\n",
    "            cnt += 1\n",
    "            items = line.strip().split(\"\\t\")\n",
    "            \n",
    "            log_key = items[0]\n",
    "            t1 = items[1]\n",
    "            t2 = items[2]\n",
    "            t3 = items[3]\n",
    "            features = items[4]\n",
    "            \n",
    "            feature_ls = features.split(\" \")\n",
    "            \n",
    "            for _f in feature_ls:\n",
    "                _key = _f.split(\":\")[1]\n",
    "                \n",
    "                if _key != \"9\":\n",
    "                    continue\n",
    "                    \n",
    "                _value = _f.split(\":\")[0]\n",
    "                \n",
    "                if _value in ['2367', '321']:\n",
    "                    curr_f = f1\n",
    "                elif _value in ['167', '350']:\n",
    "                    curr_f = f2\n",
    "                elif _value in ['75', '9']:\n",
    "                    curr_f = f3\n",
    "                    \n",
    "                curr_f.append(line)"
   ]
  },
  {
   "cell_type": "code",
   "execution_count": 44,
   "id": "faeaf5b4-db56-46ca-90c4-1077fe7d0922",
   "metadata": {
    "execution": {
     "iopub.execute_input": "2023-06-27T05:20:38.536056Z",
     "iopub.status.busy": "2023-06-27T05:20:38.535695Z",
     "iopub.status.idle": "2023-06-27T05:20:38.541962Z",
     "shell.execute_reply": "2023-06-27T05:20:38.541054Z",
     "shell.execute_reply.started": "2023-06-27T05:20:38.536029Z"
    },
    "scrolled": true,
    "tags": []
   },
   "outputs": [
    {
     "data": {
      "text/plain": [
       "(80383, 69659, 84870, 234912)"
      ]
     },
     "execution_count": 44,
     "metadata": {},
     "output_type": "execute_result"
    }
   ],
   "source": [
    "len(f1), len(f2), len(f3), cnt"
   ]
  },
  {
   "cell_type": "code",
   "execution_count": null,
   "id": "22457a3e-86d9-4577-ba40-b7fde74cb58b",
   "metadata": {
    "scrolled": true
   },
   "outputs": [],
   "source": []
  },
  {
   "cell_type": "code",
   "execution_count": 46,
   "id": "504cf9d3-1585-4acf-9560-03e00b4ede07",
   "metadata": {
    "execution": {
     "iopub.execute_input": "2023-06-27T05:22:11.325810Z",
     "iopub.status.busy": "2023-06-27T05:22:11.325162Z",
     "iopub.status.idle": "2023-06-27T05:22:11.977373Z",
     "shell.execute_reply": "2023-06-27T05:22:11.976535Z",
     "shell.execute_reply.started": "2023-06-27T05:22:11.325780Z"
    },
    "scrolled": true,
    "tags": []
   },
   "outputs": [],
   "source": [
    "for file_name, line_ls in {\n",
    "    \"./test_t1.txt\": f1, \n",
    "    \"./test_t2.txt\": f2, \n",
    "    \"./test_t3.txt\": f3\n",
    "}.items():\n",
    "    with open(file_name, \"w\") as f:\n",
    "        for line in line_ls:\n",
    "            f.write(line)"
   ]
  },
  {
   "cell_type": "code",
   "execution_count": null,
   "id": "4510a7e9-a641-41c7-91c8-947d7bb02541",
   "metadata": {
    "scrolled": true
   },
   "outputs": [],
   "source": []
  },
  {
   "cell_type": "markdown",
   "id": "33e1f6ba-6403-4368-8fd9-1bde083a4dea",
   "metadata": {},
   "source": [
    "# 用户id探索"
   ]
  },
  {
   "cell_type": "markdown",
   "id": "1413096b-c06f-4812-aadd-1a720743a500",
   "metadata": {
    "execution": {
     "iopub.execute_input": "2023-06-27T07:17:57.438702Z",
     "iopub.status.busy": "2023-06-27T07:17:57.438022Z",
     "iopub.status.idle": "2023-06-27T07:17:57.442234Z",
     "shell.execute_reply": "2023-06-27T07:17:57.441424Z",
     "shell.execute_reply.started": "2023-06-27T07:17:57.438661Z"
    }
   },
   "source": [
    "## 假设3是用户id"
   ]
  },
  {
   "cell_type": "code",
   "execution_count": 19,
   "id": "70b536e2-b67d-4228-ac6c-59a75e6f96de",
   "metadata": {
    "execution": {
     "iopub.execute_input": "2023-06-27T07:32:10.541869Z",
     "iopub.status.busy": "2023-06-27T07:32:10.541126Z",
     "iopub.status.idle": "2023-06-27T07:32:10.707872Z",
     "shell.execute_reply": "2023-06-27T07:32:10.707078Z",
     "shell.execute_reply.started": "2023-06-27T07:32:10.541843Z"
    },
    "scrolled": true,
    "tags": []
   },
   "outputs": [],
   "source": [
    "user_count = {}"
   ]
  },
  {
   "cell_type": "code",
   "execution_count": 20,
   "id": "ae6f19f3-1931-43c1-8770-8402c73df2ae",
   "metadata": {
    "execution": {
     "iopub.execute_input": "2023-06-27T07:32:10.709404Z",
     "iopub.status.busy": "2023-06-27T07:32:10.709101Z",
     "iopub.status.idle": "2023-06-27T07:35:03.921996Z",
     "shell.execute_reply": "2023-06-27T07:35:03.920941Z",
     "shell.execute_reply.started": "2023-06-27T07:32:10.709381Z"
    },
    "scrolled": true,
    "tags": []
   },
   "outputs": [
    {
     "name": "stderr",
     "output_type": "stream",
     "text": [
      "100%|██████████| 30/30 [02:53<00:00,  5.74s/it]\n"
     ]
    }
   ],
   "source": [
    "for _file in tqdm.tqdm(train_file_ls):\n",
    "    with open(os.path.join(train_folder, _file), \"r\") as f:\n",
    "        for line in f:\n",
    "            items = line.strip().split(\"\\t\")\n",
    "\n",
    "            features = items[4]\n",
    "            feature_ls = features.split(\" \")\n",
    "            \n",
    "            for _f in feature_ls:\n",
    "                _key = _f.split(\":\")[1]\n",
    "\n",
    "                if _key != \"3\":\n",
    "                    continue\n",
    "\n",
    "                _value = _f.split(\":\")[0]\n",
    "\n",
    "                if _value not in user_count:\n",
    "                    user_count[_value] = 0\n",
    "\n",
    "                user_count[_value] += 1"
   ]
  },
  {
   "cell_type": "code",
   "execution_count": 21,
   "id": "eda396bd-f055-4337-b62f-9506f983583d",
   "metadata": {
    "execution": {
     "iopub.execute_input": "2023-06-27T07:35:03.944133Z",
     "iopub.status.busy": "2023-06-27T07:35:03.943844Z",
     "iopub.status.idle": "2023-06-27T07:35:05.473806Z",
     "shell.execute_reply": "2023-06-27T07:35:05.473046Z",
     "shell.execute_reply.started": "2023-06-27T07:35:03.944113Z"
    },
    "scrolled": true,
    "tags": []
   },
   "outputs": [],
   "source": [
    "freq = {}\n",
    "\n",
    "for k, v in user_count.items():\n",
    "    if v not in freq:\n",
    "        freq[v] = 0\n",
    "\n",
    "    freq[v] += 1"
   ]
  },
  {
   "cell_type": "code",
   "execution_count": 22,
   "id": "286ac68c-13e2-4e34-b088-7352b1bb887a",
   "metadata": {
    "execution": {
     "iopub.execute_input": "2023-06-27T07:35:05.475017Z",
     "iopub.status.busy": "2023-06-27T07:35:05.474781Z",
     "iopub.status.idle": "2023-06-27T07:35:05.480055Z",
     "shell.execute_reply": "2023-06-27T07:35:05.479451Z",
     "shell.execute_reply.started": "2023-06-27T07:35:05.474996Z"
    },
    "scrolled": true,
    "tags": []
   },
   "outputs": [
    {
     "data": {
      "text/plain": [
       "{1: 6756306,\n",
       " 2: 177874,\n",
       " 3: 17727,\n",
       " 4: 3668,\n",
       " 5: 1100,\n",
       " 6: 391,\n",
       " 7: 163,\n",
       " 8: 72,\n",
       " 9: 31,\n",
       " 10: 16,\n",
       " 11: 6,\n",
       " 12: 1,\n",
       " 13: 2,\n",
       " 14: 2,\n",
       " 15: 2,\n",
       " 16: 2,\n",
       " 17: 1}"
      ]
     },
     "execution_count": 22,
     "metadata": {},
     "output_type": "execute_result"
    }
   ],
   "source": [
    "dict(sorted(freq.items()))"
   ]
  },
  {
   "cell_type": "markdown",
   "id": "8b84e846-3fda-417e-86c6-87f6e372011e",
   "metadata": {},
   "source": [
    "## 假设4是用户id"
   ]
  },
  {
   "cell_type": "code",
   "execution_count": 23,
   "id": "761b5d6b-00fc-44d7-82b9-b253490ac7e9",
   "metadata": {
    "execution": {
     "iopub.execute_input": "2023-06-27T07:36:06.770952Z",
     "iopub.status.busy": "2023-06-27T07:36:06.769815Z",
     "iopub.status.idle": "2023-06-27T07:39:02.039962Z",
     "shell.execute_reply": "2023-06-27T07:39:02.039065Z",
     "shell.execute_reply.started": "2023-06-27T07:36:06.770912Z"
    },
    "scrolled": true,
    "tags": []
   },
   "outputs": [
    {
     "name": "stderr",
     "output_type": "stream",
     "text": [
      "100%|██████████| 30/30 [02:54<00:00,  5.70s/it]\n"
     ]
    }
   ],
   "source": [
    "user_count = {}\n",
    "\n",
    "for _file in tqdm.tqdm(train_file_ls):\n",
    "    with open(os.path.join(train_folder, _file), \"r\") as f:\n",
    "        for line in f:\n",
    "            items = line.strip().split(\"\\t\")\n",
    "\n",
    "            features = items[4]\n",
    "            feature_ls = features.split(\" \")\n",
    "            \n",
    "            for _f in feature_ls:\n",
    "                _key = _f.split(\":\")[1]\n",
    "\n",
    "                if _key != \"4\":\n",
    "                    continue\n",
    "\n",
    "                _value = _f.split(\":\")[0]\n",
    "\n",
    "                if _value not in user_count:\n",
    "                    user_count[_value] = 0\n",
    "\n",
    "                user_count[_value] += 1"
   ]
  },
  {
   "cell_type": "code",
   "execution_count": 25,
   "id": "daf587a7-4108-40cb-b846-7c94a617ae80",
   "metadata": {
    "execution": {
     "iopub.execute_input": "2023-06-27T07:40:33.078220Z",
     "iopub.status.busy": "2023-06-27T07:40:33.077586Z",
     "iopub.status.idle": "2023-06-27T07:40:34.571298Z",
     "shell.execute_reply": "2023-06-27T07:40:34.570528Z",
     "shell.execute_reply.started": "2023-06-27T07:40:33.078181Z"
    },
    "scrolled": true,
    "tags": []
   },
   "outputs": [
    {
     "name": "stdout",
     "output_type": "stream",
     "text": [
      "1528 494026\n",
      "15363 48797\n",
      "5335 201027\n"
     ]
    }
   ],
   "source": [
    "freq = {}\n",
    "\n",
    "for k, v in user_count.items():\n",
    "    if v not in freq:\n",
    "        freq[v] = 0\n",
    "\n",
    "    if v in [48797, 201027, 494026]:\n",
    "        print(k, v)\n",
    "\n",
    "    freq[v] += 1"
   ]
  },
  {
   "cell_type": "code",
   "execution_count": 18,
   "id": "d6888391-c36c-446f-814f-d87b9089d0be",
   "metadata": {
    "execution": {
     "iopub.execute_input": "2023-06-27T07:31:40.190566Z",
     "iopub.status.busy": "2023-06-27T07:31:40.189801Z",
     "iopub.status.idle": "2023-06-27T07:31:40.195414Z",
     "shell.execute_reply": "2023-06-27T07:31:40.194760Z",
     "shell.execute_reply.started": "2023-06-27T07:31:40.190537Z"
    },
    "scrolled": true,
    "tags": []
   },
   "outputs": [
    {
     "data": {
      "text/plain": [
       "{1: 4585770,\n",
       " 2: 530651,\n",
       " 3: 127643,\n",
       " 4: 44093,\n",
       " 5: 18278,\n",
       " 6: 8748,\n",
       " 7: 4504,\n",
       " 8: 2531,\n",
       " 9: 1391,\n",
       " 10: 850,\n",
       " 11: 589,\n",
       " 12: 358,\n",
       " 13: 243,\n",
       " 14: 156,\n",
       " 15: 120,\n",
       " 16: 79,\n",
       " 17: 58,\n",
       " 18: 32,\n",
       " 19: 26,\n",
       " 20: 21,\n",
       " 21: 14,\n",
       " 22: 11,\n",
       " 23: 9,\n",
       " 24: 3,\n",
       " 25: 5,\n",
       " 26: 3,\n",
       " 27: 6,\n",
       " 28: 4,\n",
       " 29: 1,\n",
       " 30: 1,\n",
       " 31: 2,\n",
       " 35: 1,\n",
       " 38: 1,\n",
       " 40: 2,\n",
       " 48797: 1,\n",
       " 201027: 1,\n",
       " 494026: 1}"
      ]
     },
     "execution_count": 18,
     "metadata": {},
     "output_type": "execute_result"
    }
   ],
   "source": [
    "dict(sorted(freq.items()))"
   ]
  },
  {
   "cell_type": "code",
   "execution_count": null,
   "id": "73d30cf7-5e47-46f5-9e68-0d295aba50f2",
   "metadata": {
    "scrolled": true
   },
   "outputs": [],
   "source": []
  },
  {
   "cell_type": "markdown",
   "id": "3d731bc0-ab60-46f0-ba11-d4be9bfa4e64",
   "metadata": {},
   "source": [
    "# 广告id探索"
   ]
  },
  {
   "cell_type": "markdown",
   "id": "1a210c35-73e6-43c9-9589-86b6d6a1f67c",
   "metadata": {},
   "source": [
    "## 假设19是广告id"
   ]
  },
  {
   "cell_type": "code",
   "execution_count": 46,
   "id": "5f3af3f4-bcc5-4c92-a501-a6e8d3337a3d",
   "metadata": {
    "execution": {
     "iopub.execute_input": "2023-06-27T08:12:17.111576Z",
     "iopub.status.busy": "2023-06-27T08:12:17.111005Z",
     "iopub.status.idle": "2023-06-27T08:15:16.331609Z",
     "shell.execute_reply": "2023-06-27T08:15:16.330687Z",
     "shell.execute_reply.started": "2023-06-27T08:12:17.111547Z"
    },
    "scrolled": true,
    "tags": []
   },
   "outputs": [
    {
     "name": "stderr",
     "output_type": "stream",
     "text": [
      "100%|██████████| 30/30 [02:59<00:00,  5.84s/it]\n"
     ]
    }
   ],
   "source": [
    "ad_count = {}\n",
    "\n",
    "for _file in tqdm.tqdm(train_file_ls):\n",
    "    with open(os.path.join(train_folder, _file), \"r\") as f:\n",
    "        for line in f:\n",
    "            items = line.strip().split(\"\\t\")\n",
    "\n",
    "            features = items[4]\n",
    "            feature_ls = features.split(\" \")\n",
    "            \n",
    "            for _f in feature_ls:\n",
    "                _key = _f.split(\":\")[1]\n",
    "\n",
    "                if _key != \"19\":\n",
    "                    continue\n",
    "\n",
    "                _value = _f.split(\":\")[0]\n",
    "\n",
    "                if _value not in ad_count:\n",
    "                    ad_count[_value] = 0\n",
    "\n",
    "                ad_count[_value] += 1"
   ]
  },
  {
   "cell_type": "code",
   "execution_count": 47,
   "id": "5576beb7-d10d-438e-94ec-eee52d102d43",
   "metadata": {
    "execution": {
     "iopub.execute_input": "2023-06-27T08:15:16.333563Z",
     "iopub.status.busy": "2023-06-27T08:15:16.333226Z",
     "iopub.status.idle": "2023-06-27T08:15:16.422033Z",
     "shell.execute_reply": "2023-06-27T08:15:16.421279Z",
     "shell.execute_reply.started": "2023-06-27T08:15:16.333535Z"
    },
    "scrolled": true,
    "tags": []
   },
   "outputs": [],
   "source": [
    "ad_count_freq = {}\n",
    "\n",
    "for k, v in ad_count.items():\n",
    "    if v not in ad_count_freq:\n",
    "        ad_count_freq[v] = 0\n",
    "\n",
    "    ad_count_freq[v] += 1"
   ]
  },
  {
   "cell_type": "code",
   "execution_count": 48,
   "id": "a6440343-5257-4fbd-bd40-266f0a07780f",
   "metadata": {
    "execution": {
     "iopub.execute_input": "2023-06-27T08:15:16.423316Z",
     "iopub.status.busy": "2023-06-27T08:15:16.422996Z",
     "iopub.status.idle": "2023-06-27T08:15:16.448090Z",
     "shell.execute_reply": "2023-06-27T08:15:16.447471Z",
     "shell.execute_reply.started": "2023-06-27T08:15:16.423294Z"
    },
    "scrolled": true,
    "tags": []
   },
   "outputs": [
    {
     "data": {
      "text/plain": [
       "{23771: 1,\n",
       " 21747: 1,\n",
       " 19614: 1,\n",
       " 19318: 1,\n",
       " 18671: 1,\n",
       " 17658: 1,\n",
       " 15437: 1,\n",
       " 14901: 1,\n",
       " 14749: 1,\n",
       " 10977: 1,\n",
       " 10754: 1,\n",
       " 10361: 1,\n",
       " 8862: 1,\n",
       " 8649: 1,\n",
       " 8268: 1,\n",
       " 8058: 1,\n",
       " 7590: 1,\n",
       " 7493: 1,\n",
       " 7071: 1,\n",
       " 6726: 1,\n",
       " 6678: 1,\n",
       " 6561: 1,\n",
       " 6397: 1,\n",
       " 6152: 1,\n",
       " 6040: 1,\n",
       " 5541: 1,\n",
       " 5503: 1,\n",
       " 5459: 1,\n",
       " 5302: 1,\n",
       " 5300: 1,\n",
       " 5218: 1,\n",
       " 5153: 1,\n",
       " 5018: 1,\n",
       " 4926: 1,\n",
       " 4902: 1,\n",
       " 4786: 1,\n",
       " 4688: 1,\n",
       " 4573: 1,\n",
       " 4427: 1,\n",
       " 4422: 1,\n",
       " 4335: 1,\n",
       " 4279: 1,\n",
       " 4223: 1,\n",
       " 4163: 1,\n",
       " 4141: 1,\n",
       " 4024: 1,\n",
       " 4023: 1,\n",
       " 3945: 1,\n",
       " 3917: 1,\n",
       " 3857: 1,\n",
       " 3828: 1,\n",
       " 3750: 1,\n",
       " 3727: 1,\n",
       " 3718: 1,\n",
       " 3650: 1,\n",
       " 3543: 1,\n",
       " 3494: 1,\n",
       " 3444: 1,\n",
       " 3422: 1,\n",
       " 3303: 1,\n",
       " 3274: 1,\n",
       " 3244: 1,\n",
       " 3170: 1,\n",
       " 3118: 1,\n",
       " 3115: 1,\n",
       " 3111: 1,\n",
       " 3096: 1,\n",
       " 3046: 1,\n",
       " 2994: 1,\n",
       " 2982: 1,\n",
       " 2970: 1,\n",
       " 2938: 1,\n",
       " 2916: 1,\n",
       " 2905: 1,\n",
       " 2843: 1,\n",
       " 2811: 1,\n",
       " 2804: 1,\n",
       " 2802: 1,\n",
       " 2761: 1,\n",
       " 2751: 1,\n",
       " 2737: 1,\n",
       " 2702: 1,\n",
       " 2687: 1,\n",
       " 2612: 1,\n",
       " 2591: 1,\n",
       " 2565: 1,\n",
       " 2558: 1,\n",
       " 2549: 1,\n",
       " 2525: 1,\n",
       " 2500: 1,\n",
       " 2496: 2,\n",
       " 2480: 1,\n",
       " 2469: 1,\n",
       " 2443: 1,\n",
       " 2421: 1,\n",
       " 2384: 1,\n",
       " 2374: 1,\n",
       " 2359: 1,\n",
       " 2354: 1,\n",
       " 2331: 1,\n",
       " 2330: 1,\n",
       " 2322: 1,\n",
       " 2308: 1,\n",
       " 2295: 1,\n",
       " 2278: 1,\n",
       " 2269: 1,\n",
       " 2256: 1,\n",
       " 2254: 2,\n",
       " 2228: 1,\n",
       " 2224: 1,\n",
       " 2221: 2,\n",
       " 2214: 1,\n",
       " 2209: 1,\n",
       " 2207: 1,\n",
       " 2193: 1,\n",
       " 2185: 1,\n",
       " 2177: 1,\n",
       " 2171: 1,\n",
       " 2168: 1,\n",
       " 2167: 1,\n",
       " 2165: 1,\n",
       " 2156: 1,\n",
       " 2129: 1,\n",
       " 2124: 1,\n",
       " 2118: 1,\n",
       " 2103: 1,\n",
       " 2102: 1,\n",
       " 2068: 1,\n",
       " 2067: 1,\n",
       " 2062: 1,\n",
       " 2059: 1,\n",
       " 2047: 1,\n",
       " 2041: 1,\n",
       " 2021: 1,\n",
       " 2009: 1,\n",
       " 1992: 1,\n",
       " 1959: 1,\n",
       " 1958: 1,\n",
       " 1940: 1,\n",
       " 1939: 1,\n",
       " 1937: 1,\n",
       " 1923: 1,\n",
       " 1919: 1,\n",
       " 1916: 1,\n",
       " 1909: 1,\n",
       " 1906: 1,\n",
       " 1901: 1,\n",
       " 1896: 1,\n",
       " 1892: 1,\n",
       " 1890: 1,\n",
       " 1883: 1,\n",
       " 1877: 1,\n",
       " 1870: 1,\n",
       " 1868: 1,\n",
       " 1863: 1,\n",
       " 1852: 1,\n",
       " 1847: 1,\n",
       " 1842: 1,\n",
       " 1829: 1,\n",
       " 1816: 2,\n",
       " 1809: 2,\n",
       " 1807: 1,\n",
       " 1805: 1,\n",
       " 1802: 1,\n",
       " 1793: 1,\n",
       " 1789: 1,\n",
       " 1777: 1,\n",
       " 1774: 1,\n",
       " 1773: 1,\n",
       " 1771: 1,\n",
       " 1762: 1,\n",
       " 1745: 1,\n",
       " 1743: 1,\n",
       " 1737: 1,\n",
       " 1733: 2,\n",
       " 1723: 1,\n",
       " 1716: 1,\n",
       " 1711: 2,\n",
       " 1689: 1,\n",
       " 1686: 1,\n",
       " 1685: 1,\n",
       " 1681: 2,\n",
       " 1662: 1,\n",
       " 1661: 1,\n",
       " 1655: 1,\n",
       " 1649: 1,\n",
       " 1648: 1,\n",
       " 1647: 1,\n",
       " 1641: 1,\n",
       " 1638: 2,\n",
       " 1634: 1,\n",
       " 1633: 1,\n",
       " 1626: 1,\n",
       " 1620: 1,\n",
       " 1615: 1,\n",
       " 1609: 1,\n",
       " 1606: 1,\n",
       " 1594: 2,\n",
       " 1592: 1,\n",
       " 1587: 1,\n",
       " 1585: 2,\n",
       " 1572: 2,\n",
       " 1570: 1,\n",
       " 1558: 1,\n",
       " 1555: 1,\n",
       " 1543: 2,\n",
       " 1534: 1,\n",
       " 1531: 1,\n",
       " 1526: 1,\n",
       " 1524: 1,\n",
       " 1520: 1,\n",
       " 1514: 1,\n",
       " 1501: 1,\n",
       " 1497: 1,\n",
       " 1495: 1,\n",
       " 1485: 1,\n",
       " 1484: 1,\n",
       " 1483: 1,\n",
       " 1476: 1,\n",
       " 1475: 1,\n",
       " 1472: 1,\n",
       " 1470: 2,\n",
       " 1469: 1,\n",
       " 1468: 1,\n",
       " 1466: 1,\n",
       " 1464: 1,\n",
       " 1462: 1,\n",
       " 1455: 2,\n",
       " 1448: 1,\n",
       " 1439: 1,\n",
       " 1438: 1,\n",
       " 1435: 1,\n",
       " 1434: 1,\n",
       " 1433: 3,\n",
       " 1430: 1,\n",
       " 1424: 1,\n",
       " 1422: 1,\n",
       " 1420: 3,\n",
       " 1415: 1,\n",
       " 1404: 1,\n",
       " 1403: 1,\n",
       " 1399: 1,\n",
       " 1392: 1,\n",
       " 1385: 1,\n",
       " 1384: 1,\n",
       " 1381: 1,\n",
       " 1379: 1,\n",
       " 1378: 1,\n",
       " 1370: 1,\n",
       " 1368: 1,\n",
       " 1366: 1,\n",
       " 1364: 1,\n",
       " 1359: 3,\n",
       " 1358: 1,\n",
       " 1356: 1,\n",
       " 1348: 1,\n",
       " 1346: 2,\n",
       " 1345: 1,\n",
       " 1341: 1,\n",
       " 1340: 1,\n",
       " 1338: 1,\n",
       " 1331: 1,\n",
       " 1323: 1,\n",
       " 1322: 1,\n",
       " 1320: 1,\n",
       " 1318: 2,\n",
       " 1317: 2,\n",
       " 1316: 1,\n",
       " 1312: 1,\n",
       " 1310: 1,\n",
       " 1309: 1,\n",
       " 1308: 1,\n",
       " 1304: 1,\n",
       " 1295: 1,\n",
       " 1284: 1,\n",
       " 1278: 1,\n",
       " 1275: 1,\n",
       " 1271: 1,\n",
       " 1270: 1,\n",
       " 1264: 1,\n",
       " 1260: 1,\n",
       " 1259: 2,\n",
       " 1257: 1,\n",
       " 1256: 1,\n",
       " 1250: 1,\n",
       " 1249: 1,\n",
       " 1245: 1,\n",
       " 1243: 1,\n",
       " 1240: 1,\n",
       " 1239: 1,\n",
       " 1233: 1,\n",
       " 1231: 1,\n",
       " 1220: 1,\n",
       " 1218: 1,\n",
       " 1215: 1,\n",
       " 1214: 1,\n",
       " 1213: 1,\n",
       " 1211: 1,\n",
       " 1210: 1,\n",
       " 1204: 1,\n",
       " 1202: 1,\n",
       " 1201: 1,\n",
       " 1199: 1,\n",
       " 1197: 1,\n",
       " 1192: 1,\n",
       " 1186: 2,\n",
       " 1183: 1,\n",
       " 1181: 1,\n",
       " 1180: 1,\n",
       " 1179: 1,\n",
       " 1176: 1,\n",
       " 1175: 1,\n",
       " 1174: 1,\n",
       " 1173: 2,\n",
       " 1171: 1,\n",
       " 1169: 1,\n",
       " 1168: 1,\n",
       " 1167: 1,\n",
       " 1166: 2,\n",
       " 1165: 1,\n",
       " 1164: 2,\n",
       " 1157: 1,\n",
       " 1155: 2,\n",
       " 1149: 1,\n",
       " 1148: 1,\n",
       " 1145: 1,\n",
       " 1144: 1,\n",
       " 1143: 1,\n",
       " 1142: 1,\n",
       " 1141: 1,\n",
       " 1140: 2,\n",
       " 1139: 2,\n",
       " 1134: 1,\n",
       " 1133: 1,\n",
       " 1132: 1,\n",
       " 1130: 1,\n",
       " 1128: 1,\n",
       " 1124: 1,\n",
       " 1123: 1,\n",
       " 1119: 1,\n",
       " 1118: 1,\n",
       " 1114: 3,\n",
       " 1112: 1,\n",
       " 1108: 2,\n",
       " 1106: 1,\n",
       " 1105: 1,\n",
       " 1104: 1,\n",
       " 1102: 1,\n",
       " 1098: 1,\n",
       " 1095: 2,\n",
       " 1094: 1,\n",
       " 1092: 1,\n",
       " 1090: 3,\n",
       " 1089: 1,\n",
       " 1088: 1,\n",
       " 1087: 2,\n",
       " 1086: 1,\n",
       " 1084: 1,\n",
       " 1083: 1,\n",
       " 1082: 1,\n",
       " 1081: 1,\n",
       " 1079: 1,\n",
       " 1078: 1,\n",
       " 1075: 1,\n",
       " 1071: 1,\n",
       " 1070: 1,\n",
       " 1069: 1,\n",
       " 1064: 1,\n",
       " 1062: 1,\n",
       " 1059: 1,\n",
       " 1054: 1,\n",
       " 1053: 2,\n",
       " 1052: 1,\n",
       " 1051: 1,\n",
       " 1049: 2,\n",
       " 1047: 3,\n",
       " 1042: 1,\n",
       " 1041: 1,\n",
       " 1038: 1,\n",
       " 1037: 1,\n",
       " 1035: 1,\n",
       " 1034: 3,\n",
       " 1033: 2,\n",
       " 1031: 2,\n",
       " 1030: 1,\n",
       " 1027: 1,\n",
       " 1026: 1,\n",
       " 1024: 1,\n",
       " 1022: 1,\n",
       " 1021: 1,\n",
       " 1018: 3,\n",
       " 1017: 1,\n",
       " 1016: 1,\n",
       " 1015: 1,\n",
       " 1010: 2,\n",
       " 1006: 2,\n",
       " 1005: 1,\n",
       " 1003: 1,\n",
       " 1000: 1,\n",
       " 999: 1,\n",
       " 997: 1,\n",
       " 996: 1,\n",
       " 993: 2,\n",
       " 985: 1,\n",
       " 983: 2,\n",
       " 981: 3,\n",
       " 974: 1,\n",
       " 973: 1,\n",
       " 972: 2,\n",
       " 970: 1,\n",
       " 969: 1,\n",
       " 968: 3,\n",
       " 967: 1,\n",
       " 965: 1,\n",
       " 961: 2,\n",
       " 957: 2,\n",
       " 956: 1,\n",
       " 955: 2,\n",
       " 952: 2,\n",
       " 951: 2,\n",
       " 950: 1,\n",
       " 948: 1,\n",
       " 947: 3,\n",
       " 946: 1,\n",
       " 945: 1,\n",
       " 942: 1,\n",
       " 940: 1,\n",
       " 936: 1,\n",
       " 928: 1,\n",
       " 927: 1,\n",
       " 923: 1,\n",
       " 922: 2,\n",
       " 921: 2,\n",
       " 920: 1,\n",
       " 919: 1,\n",
       " 918: 2,\n",
       " 914: 1,\n",
       " 913: 4,\n",
       " 912: 1,\n",
       " 908: 2,\n",
       " 906: 2,\n",
       " 905: 1,\n",
       " 904: 1,\n",
       " 903: 2,\n",
       " 901: 1,\n",
       " 896: 1,\n",
       " 894: 3,\n",
       " 892: 2,\n",
       " 891: 2,\n",
       " 890: 1,\n",
       " 889: 1,\n",
       " 888: 1,\n",
       " 887: 1,\n",
       " 886: 2,\n",
       " 885: 1,\n",
       " 884: 1,\n",
       " 883: 3,\n",
       " 882: 2,\n",
       " 881: 2,\n",
       " 880: 1,\n",
       " 879: 1,\n",
       " 877: 2,\n",
       " 876: 2,\n",
       " 875: 3,\n",
       " 874: 3,\n",
       " 873: 3,\n",
       " 872: 3,\n",
       " 871: 2,\n",
       " 869: 2,\n",
       " 867: 1,\n",
       " 864: 1,\n",
       " 862: 3,\n",
       " 859: 3,\n",
       " 858: 2,\n",
       " 857: 1,\n",
       " 855: 3,\n",
       " 854: 1,\n",
       " 853: 1,\n",
       " 852: 2,\n",
       " 851: 4,\n",
       " 848: 1,\n",
       " 845: 1,\n",
       " 844: 3,\n",
       " 842: 1,\n",
       " 841: 2,\n",
       " 840: 3,\n",
       " 839: 1,\n",
       " 838: 2,\n",
       " 837: 1,\n",
       " 836: 1,\n",
       " 834: 1,\n",
       " 832: 3,\n",
       " 831: 1,\n",
       " 830: 3,\n",
       " 829: 3,\n",
       " 828: 1,\n",
       " 825: 1,\n",
       " 823: 3,\n",
       " 822: 2,\n",
       " 821: 2,\n",
       " 820: 1,\n",
       " 819: 2,\n",
       " 818: 2,\n",
       " 817: 2,\n",
       " 816: 2,\n",
       " 815: 1,\n",
       " 814: 1,\n",
       " 812: 1,\n",
       " 811: 2,\n",
       " 808: 1,\n",
       " 807: 2,\n",
       " 806: 1,\n",
       " 805: 2,\n",
       " 804: 1,\n",
       " 803: 3,\n",
       " 802: 1,\n",
       " 800: 1,\n",
       " 798: 2,\n",
       " 796: 2,\n",
       " 795: 1,\n",
       " 793: 3,\n",
       " 792: 1,\n",
       " 791: 1,\n",
       " 787: 3,\n",
       " 783: 2,\n",
       " 782: 1,\n",
       " 781: 2,\n",
       " 780: 1,\n",
       " 779: 1,\n",
       " 777: 1,\n",
       " 776: 3,\n",
       " 775: 1,\n",
       " 774: 3,\n",
       " 773: 1,\n",
       " 771: 1,\n",
       " 770: 2,\n",
       " 768: 3,\n",
       " 766: 1,\n",
       " 765: 1,\n",
       " 763: 2,\n",
       " 762: 1,\n",
       " 761: 1,\n",
       " 760: 1,\n",
       " 759: 1,\n",
       " 758: 1,\n",
       " 757: 1,\n",
       " 756: 1,\n",
       " 755: 4,\n",
       " 754: 1,\n",
       " 753: 2,\n",
       " 752: 1,\n",
       " 751: 1,\n",
       " 750: 2,\n",
       " 748: 1,\n",
       " 747: 1,\n",
       " 746: 1,\n",
       " 743: 2,\n",
       " 740: 1,\n",
       " 739: 3,\n",
       " 738: 2,\n",
       " 737: 3,\n",
       " 736: 3,\n",
       " 735: 3,\n",
       " 733: 1,\n",
       " 732: 2,\n",
       " 731: 3,\n",
       " 730: 2,\n",
       " 729: 4,\n",
       " 728: 1,\n",
       " 727: 3,\n",
       " 726: 2,\n",
       " 725: 2,\n",
       " 724: 1,\n",
       " 723: 1,\n",
       " 720: 2,\n",
       " 719: 2,\n",
       " 718: 3,\n",
       " 717: 2,\n",
       " 716: 3,\n",
       " 715: 6,\n",
       " 714: 1,\n",
       " 713: 2,\n",
       " 712: 1,\n",
       " 711: 1,\n",
       " 710: 2,\n",
       " 709: 4,\n",
       " 708: 4,\n",
       " 707: 1,\n",
       " 706: 1,\n",
       " 705: 2,\n",
       " 704: 1,\n",
       " 703: 1,\n",
       " 702: 1,\n",
       " 701: 1,\n",
       " 700: 3,\n",
       " 699: 3,\n",
       " 698: 1,\n",
       " 697: 1,\n",
       " 696: 5,\n",
       " 694: 3,\n",
       " 693: 1,\n",
       " 692: 1,\n",
       " 691: 2,\n",
       " 690: 2,\n",
       " 689: 1,\n",
       " 688: 3,\n",
       " 686: 2,\n",
       " 685: 1,\n",
       " 684: 2,\n",
       " 683: 2,\n",
       " 681: 2,\n",
       " 680: 3,\n",
       " 679: 2,\n",
       " 678: 2,\n",
       " 677: 2,\n",
       " 676: 4,\n",
       " 675: 5,\n",
       " 674: 2,\n",
       " 672: 6,\n",
       " 671: 2,\n",
       " 670: 2,\n",
       " 668: 2,\n",
       " 667: 5,\n",
       " 666: 2,\n",
       " 665: 3,\n",
       " 664: 4,\n",
       " 663: 3,\n",
       " 662: 1,\n",
       " 661: 1,\n",
       " 660: 3,\n",
       " 659: 2,\n",
       " 658: 2,\n",
       " 657: 2,\n",
       " 656: 1,\n",
       " 655: 3,\n",
       " 654: 1,\n",
       " 653: 2,\n",
       " 652: 3,\n",
       " 651: 2,\n",
       " 650: 3,\n",
       " 649: 2,\n",
       " 648: 2,\n",
       " 647: 2,\n",
       " 646: 1,\n",
       " 645: 5,\n",
       " 644: 2,\n",
       " 643: 1,\n",
       " 642: 3,\n",
       " 641: 4,\n",
       " 640: 1,\n",
       " 638: 3,\n",
       " 637: 3,\n",
       " 636: 5,\n",
       " 635: 2,\n",
       " 634: 4,\n",
       " 633: 1,\n",
       " 632: 1,\n",
       " 631: 4,\n",
       " 630: 2,\n",
       " 628: 2,\n",
       " 627: 2,\n",
       " 626: 1,\n",
       " 625: 1,\n",
       " 624: 1,\n",
       " 623: 2,\n",
       " 622: 4,\n",
       " 621: 2,\n",
       " 620: 2,\n",
       " 619: 3,\n",
       " 618: 1,\n",
       " 617: 1,\n",
       " 616: 7,\n",
       " 615: 3,\n",
       " 613: 3,\n",
       " 612: 2,\n",
       " 611: 3,\n",
       " 610: 3,\n",
       " 609: 1,\n",
       " 607: 1,\n",
       " 606: 1,\n",
       " 605: 3,\n",
       " 604: 2,\n",
       " 603: 3,\n",
       " 602: 3,\n",
       " 600: 1,\n",
       " 599: 5,\n",
       " 598: 1,\n",
       " 597: 4,\n",
       " 596: 2,\n",
       " 595: 6,\n",
       " 594: 3,\n",
       " 593: 2,\n",
       " 592: 2,\n",
       " 591: 1,\n",
       " 590: 3,\n",
       " 589: 2,\n",
       " 588: 3,\n",
       " 587: 2,\n",
       " 586: 2,\n",
       " 585: 3,\n",
       " 584: 1,\n",
       " 582: 3,\n",
       " 581: 3,\n",
       " 580: 3,\n",
       " 579: 3,\n",
       " 578: 2,\n",
       " 577: 3,\n",
       " 576: 4,\n",
       " 575: 6,\n",
       " 574: 6,\n",
       " 573: 2,\n",
       " 572: 3,\n",
       " 571: 6,\n",
       " 570: 3,\n",
       " 569: 3,\n",
       " 568: 4,\n",
       " 567: 4,\n",
       " 566: 5,\n",
       " 565: 4,\n",
       " 564: 5,\n",
       " 563: 3,\n",
       " 562: 7,\n",
       " 561: 1,\n",
       " 560: 8,\n",
       " 559: 5,\n",
       " 558: 1,\n",
       " 557: 2,\n",
       " 556: 3,\n",
       " 555: 3,\n",
       " 554: 3,\n",
       " 553: 2,\n",
       " 552: 5,\n",
       " 551: 3,\n",
       " 550: 5,\n",
       " 548: 4,\n",
       " 547: 5,\n",
       " 546: 6,\n",
       " 545: 6,\n",
       " 544: 4,\n",
       " 543: 4,\n",
       " 542: 3,\n",
       " 541: 2,\n",
       " 540: 2,\n",
       " 539: 8,\n",
       " 538: 5,\n",
       " 537: 1,\n",
       " 536: 6,\n",
       " 535: 4,\n",
       " 534: 4,\n",
       " 533: 5,\n",
       " 532: 4,\n",
       " 531: 1,\n",
       " 530: 3,\n",
       " 529: 5,\n",
       " 528: 3,\n",
       " 527: 4,\n",
       " 526: 1,\n",
       " 525: 3,\n",
       " 524: 3,\n",
       " 523: 2,\n",
       " 522: 4,\n",
       " 521: 5,\n",
       " 520: 1,\n",
       " 519: 2,\n",
       " 518: 4,\n",
       " 517: 5,\n",
       " 516: 7,\n",
       " 515: 6,\n",
       " 514: 4,\n",
       " 513: 3,\n",
       " 512: 6,\n",
       " 511: 4,\n",
       " 510: 4,\n",
       " 509: 2,\n",
       " 508: 6,\n",
       " 507: 9,\n",
       " 506: 2,\n",
       " 505: 7,\n",
       " 504: 6,\n",
       " 503: 5,\n",
       " 502: 8,\n",
       " 501: 5,\n",
       " 500: 5,\n",
       " 499: 1,\n",
       " 498: 5,\n",
       " 497: 8,\n",
       " 496: 6,\n",
       " 495: 2,\n",
       " 494: 6,\n",
       " 493: 2,\n",
       " 492: 4,\n",
       " 491: 7,\n",
       " 490: 7,\n",
       " 489: 5,\n",
       " 488: 2,\n",
       " 487: 3,\n",
       " 486: 4,\n",
       " 485: 4,\n",
       " 484: 7,\n",
       " 483: 8,\n",
       " 482: 6,\n",
       " 481: 4,\n",
       " 480: 4,\n",
       " 479: 7,\n",
       " 478: 2,\n",
       " 477: 4,\n",
       " 476: 1,\n",
       " 475: 2,\n",
       " 474: 5,\n",
       " 473: 3,\n",
       " 472: 2,\n",
       " 471: 6,\n",
       " 470: 7,\n",
       " 469: 5,\n",
       " 468: 2,\n",
       " 467: 3,\n",
       " 466: 4,\n",
       " 465: 1,\n",
       " 464: 6,\n",
       " 463: 6,\n",
       " 462: 6,\n",
       " 461: 2,\n",
       " 460: 4,\n",
       " 459: 2,\n",
       " 458: 9,\n",
       " 457: 2,\n",
       " 456: 1,\n",
       " 455: 2,\n",
       " 454: 9,\n",
       " 453: 6,\n",
       " 452: 11,\n",
       " 451: 5,\n",
       " 450: 5,\n",
       " 449: 10,\n",
       " 448: 5,\n",
       " 447: 3,\n",
       " 446: 5,\n",
       " 445: 8,\n",
       " 444: 5,\n",
       " 443: 7,\n",
       " 442: 4,\n",
       " 441: 6,\n",
       " 440: 6,\n",
       " 439: 6,\n",
       " 438: 4,\n",
       " 437: 6,\n",
       " 436: 11,\n",
       " 435: 3,\n",
       " 434: 9,\n",
       " 433: 10,\n",
       " 432: 8,\n",
       " 431: 4,\n",
       " 430: 8,\n",
       " 429: 4,\n",
       " 428: 6,\n",
       " 427: 6,\n",
       " 426: 14,\n",
       " 425: 7,\n",
       " 424: 6,\n",
       " 423: 8,\n",
       " 422: 3,\n",
       " 421: 9,\n",
       " 420: 4,\n",
       " 419: 8,\n",
       " 418: 6,\n",
       " 417: 6,\n",
       " 416: 5,\n",
       " 415: 6,\n",
       " 414: 5,\n",
       " 413: 4,\n",
       " 412: 6,\n",
       " 411: 9,\n",
       " 410: 10,\n",
       " 409: 4,\n",
       " 408: 10,\n",
       " 407: 6,\n",
       " 406: 7,\n",
       " 405: 7,\n",
       " 404: 4,\n",
       " 403: 11,\n",
       " 402: 7,\n",
       " 401: 12,\n",
       " 400: 17,\n",
       " 399: 15,\n",
       " 398: 7,\n",
       " 397: 6,\n",
       " 396: 12,\n",
       " 395: 6,\n",
       " 394: 11,\n",
       " 393: 8,\n",
       " 392: 8,\n",
       " 391: 4,\n",
       " 390: 7,\n",
       " 389: 13,\n",
       " 388: 6,\n",
       " 387: 2,\n",
       " 386: 5,\n",
       " 385: 9,\n",
       " 384: 7,\n",
       " 383: 9,\n",
       " 382: 9,\n",
       " 381: 10,\n",
       " 380: 11,\n",
       " 379: 8,\n",
       " 378: 7,\n",
       " 377: 5,\n",
       " 376: 8,\n",
       " 375: 10,\n",
       " 374: 4,\n",
       " 373: 4,\n",
       " 372: 5,\n",
       " 371: 12,\n",
       " 370: 13,\n",
       " 369: 14,\n",
       " 368: 6,\n",
       " 367: 8,\n",
       " 366: 9,\n",
       " 365: 11,\n",
       " 364: 16,\n",
       " 363: 6,\n",
       " 362: 9,\n",
       " 361: 14,\n",
       " 360: 10,\n",
       " 359: 4,\n",
       " 358: 11,\n",
       " 357: 13,\n",
       " 356: 9,\n",
       " 355: 8,\n",
       " 354: 8,\n",
       " 353: 10,\n",
       " 352: 10,\n",
       " 351: 15,\n",
       " 350: 9,\n",
       " 349: 8,\n",
       " 348: 17,\n",
       " 347: 12,\n",
       " 346: 13,\n",
       " 345: 14,\n",
       " 344: 4,\n",
       " 343: 11,\n",
       " 342: 13,\n",
       " 341: 11,\n",
       " 340: 12,\n",
       " 339: 9,\n",
       " 338: 12,\n",
       " 337: 10,\n",
       " 336: 13,\n",
       " 335: 20,\n",
       " 334: 19,\n",
       " 333: 9,\n",
       " 332: 12,\n",
       " 331: 16,\n",
       " 330: 7,\n",
       " 329: 11,\n",
       " 328: 8,\n",
       " 327: 11,\n",
       " 326: 17,\n",
       " 325: 13,\n",
       " 324: 14,\n",
       " 323: 17,\n",
       " 322: 16,\n",
       " 321: 13,\n",
       " 320: 20,\n",
       " 319: 14,\n",
       " 318: 19,\n",
       " 317: 21,\n",
       " 316: 18,\n",
       " 315: 13,\n",
       " 314: 12,\n",
       " 313: 13,\n",
       " 312: 14,\n",
       " 311: 9,\n",
       " 310: 17,\n",
       " 309: 11,\n",
       " 308: 15,\n",
       " 307: 14,\n",
       " 306: 14,\n",
       " 305: 21,\n",
       " 304: 14,\n",
       " 303: 13,\n",
       " 302: 13,\n",
       " 301: 9,\n",
       " 300: 10,\n",
       " 299: 17,\n",
       " 298: 18,\n",
       " 297: 18,\n",
       " 296: 16,\n",
       " 295: 12,\n",
       " 294: 18,\n",
       " 293: 16,\n",
       " 292: 12,\n",
       " 291: 21,\n",
       " 290: 11,\n",
       " 289: 28,\n",
       " 288: 12,\n",
       " 287: 24,\n",
       " 286: 16,\n",
       " 285: 20,\n",
       " 284: 26,\n",
       " 283: 11,\n",
       " ...}"
      ]
     },
     "execution_count": 48,
     "metadata": {},
     "output_type": "execute_result"
    }
   ],
   "source": [
    "dict(sorted(ad_count_freq.items(), reverse=True))"
   ]
  },
  {
   "cell_type": "code",
   "execution_count": null,
   "id": "75989867-a358-46b5-8bc8-b9c92a7c0670",
   "metadata": {
    "scrolled": true
   },
   "outputs": [],
   "source": []
  },
  {
   "cell_type": "markdown",
   "id": "38355d63-4071-432c-b96b-9027694d925a",
   "metadata": {},
   "source": [
    "## 假设23是广告id"
   ]
  },
  {
   "cell_type": "code",
   "execution_count": 42,
   "id": "1dbf028c-189b-442d-bfaa-3ad49f9efea1",
   "metadata": {
    "execution": {
     "iopub.execute_input": "2023-06-27T08:05:22.304212Z",
     "iopub.status.busy": "2023-06-27T08:05:22.303630Z",
     "iopub.status.idle": "2023-06-27T08:08:19.920730Z",
     "shell.execute_reply": "2023-06-27T08:08:19.919797Z",
     "shell.execute_reply.started": "2023-06-27T08:05:22.304184Z"
    },
    "scrolled": true
   },
   "outputs": [
    {
     "name": "stderr",
     "output_type": "stream",
     "text": [
      "100%|██████████| 30/30 [02:57<00:00,  5.92s/it]\n"
     ]
    }
   ],
   "source": [
    "ad_count = {}\n",
    "\n",
    "for _file in tqdm.tqdm(train_file_ls):\n",
    "    with open(os.path.join(train_folder, _file), \"r\") as f:\n",
    "        for line in f:\n",
    "            items = line.strip().split(\"\\t\")\n",
    "\n",
    "            features = items[4]\n",
    "            feature_ls = features.split(\" \")\n",
    "            \n",
    "            for _f in feature_ls:\n",
    "                _key = _f.split(\":\")[1]\n",
    "\n",
    "                if _key != \"23\":\n",
    "                    continue\n",
    "\n",
    "                _value = _f.split(\":\")[0]\n",
    "\n",
    "                if _value not in ad_count:\n",
    "                    ad_count[_value] = 0\n",
    "\n",
    "                ad_count[_value] += 1"
   ]
  },
  {
   "cell_type": "code",
   "execution_count": 43,
   "id": "0dd2a727-ed0d-4c92-bfbc-4f62ede8b0bb",
   "metadata": {
    "execution": {
     "iopub.execute_input": "2023-06-27T08:11:05.488165Z",
     "iopub.status.busy": "2023-06-27T08:11:05.487714Z",
     "iopub.status.idle": "2023-06-27T08:11:05.565307Z",
     "shell.execute_reply": "2023-06-27T08:11:05.564551Z",
     "shell.execute_reply.started": "2023-06-27T08:11:05.488134Z"
    },
    "scrolled": true
   },
   "outputs": [],
   "source": [
    "ad_count_freq = {}\n",
    "\n",
    "for k, v in ad_count.items():\n",
    "    if v not in ad_count_freq:\n",
    "        ad_count_freq[v] = 0\n",
    "\n",
    "    ad_count_freq[v] += 1"
   ]
  },
  {
   "cell_type": "code",
   "execution_count": 45,
   "id": "ac58bc61-a4b0-4e7a-bf7b-30a722158ad6",
   "metadata": {
    "execution": {
     "iopub.execute_input": "2023-06-27T08:11:56.834762Z",
     "iopub.status.busy": "2023-06-27T08:11:56.834192Z",
     "iopub.status.idle": "2023-06-27T08:11:56.859494Z",
     "shell.execute_reply": "2023-06-27T08:11:56.858846Z",
     "shell.execute_reply.started": "2023-06-27T08:11:56.834733Z"
    },
    "scrolled": true,
    "tags": []
   },
   "outputs": [
    {
     "data": {
      "text/plain": [
       "{49983: 1,\n",
       " 28734: 1,\n",
       " 19192: 1,\n",
       " 18445: 1,\n",
       " 17148: 1,\n",
       " 16093: 1,\n",
       " 14613: 1,\n",
       " 13369: 1,\n",
       " 12255: 1,\n",
       " 10307: 1,\n",
       " 9780: 1,\n",
       " 9064: 1,\n",
       " 8772: 1,\n",
       " 8659: 1,\n",
       " 8331: 1,\n",
       " 8251: 1,\n",
       " 8058: 1,\n",
       " 8013: 1,\n",
       " 7784: 1,\n",
       " 7670: 1,\n",
       " 7493: 1,\n",
       " 7413: 1,\n",
       " 7398: 1,\n",
       " 7374: 1,\n",
       " 7229: 1,\n",
       " 7101: 1,\n",
       " 6971: 1,\n",
       " 6876: 1,\n",
       " 6778: 1,\n",
       " 6555: 1,\n",
       " 6512: 1,\n",
       " 6483: 1,\n",
       " 6429: 1,\n",
       " 6149: 1,\n",
       " 6109: 1,\n",
       " 6028: 1,\n",
       " 5991: 1,\n",
       " 5918: 1,\n",
       " 5855: 1,\n",
       " 5834: 1,\n",
       " 5738: 1,\n",
       " 5529: 1,\n",
       " 5494: 1,\n",
       " 5459: 1,\n",
       " 5452: 1,\n",
       " 5383: 1,\n",
       " 5300: 1,\n",
       " 5220: 1,\n",
       " 5219: 1,\n",
       " 5217: 1,\n",
       " 5174: 1,\n",
       " 5163: 1,\n",
       " 5149: 1,\n",
       " 5135: 1,\n",
       " 5018: 1,\n",
       " 5006: 1,\n",
       " 4982: 1,\n",
       " 4845: 1,\n",
       " 4811: 1,\n",
       " 4681: 1,\n",
       " 4655: 1,\n",
       " 4618: 1,\n",
       " 4608: 1,\n",
       " 4598: 1,\n",
       " 4583: 1,\n",
       " 4571: 1,\n",
       " 4554: 1,\n",
       " 4540: 1,\n",
       " 4466: 1,\n",
       " 4446: 1,\n",
       " 4445: 1,\n",
       " 4361: 1,\n",
       " 4352: 1,\n",
       " 4278: 1,\n",
       " 4213: 1,\n",
       " 4202: 1,\n",
       " 4077: 1,\n",
       " 4012: 1,\n",
       " 3964: 1,\n",
       " 3956: 1,\n",
       " 3945: 1,\n",
       " 3930: 1,\n",
       " 3898: 1,\n",
       " 3897: 1,\n",
       " 3886: 1,\n",
       " 3857: 2,\n",
       " 3854: 1,\n",
       " 3836: 1,\n",
       " 3755: 1,\n",
       " 3749: 1,\n",
       " 3748: 1,\n",
       " 3734: 1,\n",
       " 3687: 1,\n",
       " 3655: 2,\n",
       " 3627: 1,\n",
       " 3598: 1,\n",
       " 3562: 1,\n",
       " 3546: 2,\n",
       " 3525: 1,\n",
       " 3521: 1,\n",
       " 3504: 1,\n",
       " 3502: 1,\n",
       " 3491: 1,\n",
       " 3463: 1,\n",
       " 3460: 1,\n",
       " 3453: 1,\n",
       " 3422: 1,\n",
       " 3387: 1,\n",
       " 3352: 1,\n",
       " 3318: 1,\n",
       " 3308: 1,\n",
       " 3239: 1,\n",
       " 3231: 1,\n",
       " 3145: 1,\n",
       " 3123: 1,\n",
       " 3121: 1,\n",
       " 3115: 1,\n",
       " 3099: 1,\n",
       " 3067: 1,\n",
       " 3050: 1,\n",
       " 3045: 1,\n",
       " 3041: 1,\n",
       " 3030: 1,\n",
       " 3018: 1,\n",
       " 2987: 1,\n",
       " 2982: 1,\n",
       " 2967: 1,\n",
       " 2957: 1,\n",
       " 2932: 1,\n",
       " 2919: 1,\n",
       " 2911: 1,\n",
       " 2909: 1,\n",
       " 2902: 1,\n",
       " 2856: 1,\n",
       " 2844: 1,\n",
       " 2821: 1,\n",
       " 2792: 1,\n",
       " 2756: 1,\n",
       " 2745: 1,\n",
       " 2742: 1,\n",
       " 2719: 1,\n",
       " 2712: 1,\n",
       " 2706: 1,\n",
       " 2705: 1,\n",
       " 2685: 1,\n",
       " 2679: 1,\n",
       " 2678: 1,\n",
       " 2675: 2,\n",
       " 2661: 1,\n",
       " 2629: 1,\n",
       " 2628: 1,\n",
       " 2609: 1,\n",
       " 2605: 1,\n",
       " 2599: 1,\n",
       " 2594: 1,\n",
       " 2593: 1,\n",
       " 2583: 2,\n",
       " 2574: 1,\n",
       " 2573: 1,\n",
       " 2569: 1,\n",
       " 2554: 1,\n",
       " 2543: 1,\n",
       " 2525: 1,\n",
       " 2513: 1,\n",
       " 2477: 1,\n",
       " 2471: 1,\n",
       " 2466: 1,\n",
       " 2456: 1,\n",
       " 2439: 1,\n",
       " 2421: 1,\n",
       " 2391: 1,\n",
       " 2378: 1,\n",
       " 2359: 1,\n",
       " 2357: 1,\n",
       " 2353: 1,\n",
       " 2349: 1,\n",
       " 2322: 1,\n",
       " 2309: 1,\n",
       " 2300: 1,\n",
       " 2298: 1,\n",
       " 2296: 1,\n",
       " 2295: 1,\n",
       " 2286: 1,\n",
       " 2280: 1,\n",
       " 2278: 1,\n",
       " 2275: 1,\n",
       " 2265: 1,\n",
       " 2263: 1,\n",
       " 2261: 1,\n",
       " 2251: 1,\n",
       " 2248: 1,\n",
       " 2228: 1,\n",
       " 2209: 1,\n",
       " 2207: 1,\n",
       " 2204: 1,\n",
       " 2203: 1,\n",
       " 2194: 1,\n",
       " 2184: 1,\n",
       " 2164: 1,\n",
       " 2156: 1,\n",
       " 2154: 1,\n",
       " 2124: 1,\n",
       " 2123: 1,\n",
       " 2119: 1,\n",
       " 2113: 1,\n",
       " 2111: 1,\n",
       " 2103: 1,\n",
       " 2098: 1,\n",
       " 2096: 1,\n",
       " 2095: 1,\n",
       " 2091: 1,\n",
       " 2079: 1,\n",
       " 2075: 1,\n",
       " 2063: 2,\n",
       " 2048: 1,\n",
       " 2045: 1,\n",
       " 2040: 1,\n",
       " 2037: 1,\n",
       " 2029: 1,\n",
       " 2002: 1,\n",
       " 1989: 1,\n",
       " 1982: 1,\n",
       " 1961: 1,\n",
       " 1960: 1,\n",
       " 1948: 1,\n",
       " 1940: 1,\n",
       " 1938: 1,\n",
       " 1937: 1,\n",
       " 1927: 1,\n",
       " 1917: 1,\n",
       " 1913: 1,\n",
       " 1910: 1,\n",
       " 1909: 1,\n",
       " 1905: 1,\n",
       " 1904: 1,\n",
       " 1900: 1,\n",
       " 1898: 1,\n",
       " 1895: 1,\n",
       " 1893: 2,\n",
       " 1889: 1,\n",
       " 1882: 2,\n",
       " 1880: 1,\n",
       " 1879: 1,\n",
       " 1876: 1,\n",
       " 1869: 1,\n",
       " 1864: 1,\n",
       " 1860: 2,\n",
       " 1849: 1,\n",
       " 1847: 1,\n",
       " 1842: 1,\n",
       " 1835: 1,\n",
       " 1834: 1,\n",
       " 1825: 2,\n",
       " 1823: 1,\n",
       " 1822: 1,\n",
       " 1820: 1,\n",
       " 1811: 1,\n",
       " 1809: 1,\n",
       " 1804: 2,\n",
       " 1801: 1,\n",
       " 1797: 1,\n",
       " 1790: 1,\n",
       " 1789: 1,\n",
       " 1788: 1,\n",
       " 1787: 1,\n",
       " 1785: 1,\n",
       " 1780: 1,\n",
       " 1779: 1,\n",
       " 1778: 1,\n",
       " 1769: 1,\n",
       " 1768: 2,\n",
       " 1763: 1,\n",
       " 1760: 1,\n",
       " 1753: 1,\n",
       " 1752: 1,\n",
       " 1745: 1,\n",
       " 1738: 1,\n",
       " 1736: 1,\n",
       " 1733: 2,\n",
       " 1716: 1,\n",
       " 1711: 1,\n",
       " 1710: 1,\n",
       " 1709: 2,\n",
       " 1705: 1,\n",
       " 1699: 2,\n",
       " 1696: 1,\n",
       " 1687: 1,\n",
       " 1686: 1,\n",
       " 1684: 1,\n",
       " 1678: 1,\n",
       " 1675: 2,\n",
       " 1670: 1,\n",
       " 1666: 1,\n",
       " 1665: 1,\n",
       " 1662: 1,\n",
       " 1654: 1,\n",
       " 1649: 2,\n",
       " 1646: 1,\n",
       " 1643: 1,\n",
       " 1635: 1,\n",
       " 1632: 1,\n",
       " 1631: 1,\n",
       " 1623: 1,\n",
       " 1617: 1,\n",
       " 1616: 2,\n",
       " 1615: 1,\n",
       " 1614: 1,\n",
       " 1613: 1,\n",
       " 1611: 1,\n",
       " 1610: 1,\n",
       " 1607: 1,\n",
       " 1605: 1,\n",
       " 1604: 1,\n",
       " 1603: 1,\n",
       " 1601: 1,\n",
       " 1600: 1,\n",
       " 1598: 1,\n",
       " 1597: 1,\n",
       " 1594: 2,\n",
       " 1593: 1,\n",
       " 1586: 1,\n",
       " 1585: 1,\n",
       " 1579: 1,\n",
       " 1576: 1,\n",
       " 1573: 1,\n",
       " 1570: 3,\n",
       " 1568: 2,\n",
       " 1567: 1,\n",
       " 1566: 2,\n",
       " 1565: 2,\n",
       " 1564: 1,\n",
       " 1562: 1,\n",
       " 1561: 2,\n",
       " 1555: 1,\n",
       " 1549: 1,\n",
       " 1544: 1,\n",
       " 1543: 2,\n",
       " 1538: 2,\n",
       " 1534: 1,\n",
       " 1533: 1,\n",
       " 1530: 1,\n",
       " 1526: 1,\n",
       " 1522: 1,\n",
       " 1521: 1,\n",
       " 1517: 2,\n",
       " 1512: 1,\n",
       " 1511: 1,\n",
       " 1508: 1,\n",
       " 1505: 1,\n",
       " 1499: 1,\n",
       " 1498: 1,\n",
       " 1489: 2,\n",
       " 1485: 1,\n",
       " 1484: 2,\n",
       " 1481: 1,\n",
       " 1479: 1,\n",
       " 1476: 1,\n",
       " 1474: 1,\n",
       " 1472: 1,\n",
       " 1467: 1,\n",
       " 1464: 1,\n",
       " 1461: 1,\n",
       " 1458: 2,\n",
       " 1454: 1,\n",
       " 1453: 1,\n",
       " 1452: 1,\n",
       " 1449: 2,\n",
       " 1448: 1,\n",
       " 1439: 3,\n",
       " 1438: 1,\n",
       " 1436: 1,\n",
       " 1434: 1,\n",
       " 1431: 1,\n",
       " 1430: 1,\n",
       " 1429: 1,\n",
       " 1425: 2,\n",
       " 1423: 1,\n",
       " 1421: 1,\n",
       " 1418: 1,\n",
       " 1417: 1,\n",
       " 1415: 1,\n",
       " 1407: 1,\n",
       " 1403: 3,\n",
       " 1398: 1,\n",
       " 1397: 2,\n",
       " 1395: 1,\n",
       " 1394: 2,\n",
       " 1390: 1,\n",
       " 1386: 1,\n",
       " 1378: 1,\n",
       " 1377: 2,\n",
       " 1373: 1,\n",
       " 1371: 1,\n",
       " 1370: 1,\n",
       " 1369: 2,\n",
       " 1368: 1,\n",
       " 1366: 1,\n",
       " 1365: 1,\n",
       " 1361: 1,\n",
       " 1360: 2,\n",
       " 1359: 1,\n",
       " 1356: 1,\n",
       " 1353: 1,\n",
       " 1351: 1,\n",
       " 1349: 1,\n",
       " 1348: 2,\n",
       " 1346: 1,\n",
       " 1345: 2,\n",
       " 1344: 2,\n",
       " 1340: 1,\n",
       " 1339: 1,\n",
       " 1338: 1,\n",
       " 1337: 1,\n",
       " 1334: 1,\n",
       " 1331: 1,\n",
       " 1329: 1,\n",
       " 1328: 1,\n",
       " 1327: 1,\n",
       " 1321: 1,\n",
       " 1319: 1,\n",
       " 1318: 1,\n",
       " 1316: 1,\n",
       " 1315: 1,\n",
       " 1314: 1,\n",
       " 1309: 1,\n",
       " 1307: 1,\n",
       " 1306: 1,\n",
       " 1305: 1,\n",
       " 1304: 3,\n",
       " 1302: 1,\n",
       " 1300: 1,\n",
       " 1297: 1,\n",
       " 1296: 3,\n",
       " 1293: 1,\n",
       " 1292: 2,\n",
       " 1291: 2,\n",
       " 1287: 1,\n",
       " 1286: 1,\n",
       " 1285: 1,\n",
       " 1277: 1,\n",
       " 1275: 1,\n",
       " 1274: 1,\n",
       " 1270: 1,\n",
       " 1269: 1,\n",
       " 1266: 1,\n",
       " 1262: 1,\n",
       " 1260: 4,\n",
       " 1257: 1,\n",
       " 1256: 1,\n",
       " 1250: 1,\n",
       " 1249: 1,\n",
       " 1245: 1,\n",
       " 1236: 1,\n",
       " 1235: 1,\n",
       " 1231: 2,\n",
       " 1227: 1,\n",
       " 1226: 1,\n",
       " 1225: 1,\n",
       " 1224: 1,\n",
       " 1219: 1,\n",
       " 1218: 3,\n",
       " 1217: 1,\n",
       " 1212: 2,\n",
       " 1209: 2,\n",
       " 1208: 1,\n",
       " 1207: 1,\n",
       " 1206: 1,\n",
       " 1205: 1,\n",
       " 1204: 2,\n",
       " 1200: 1,\n",
       " 1192: 1,\n",
       " 1188: 1,\n",
       " 1187: 2,\n",
       " 1184: 1,\n",
       " 1183: 1,\n",
       " 1182: 1,\n",
       " 1180: 1,\n",
       " 1174: 2,\n",
       " 1171: 1,\n",
       " 1169: 1,\n",
       " 1164: 1,\n",
       " 1160: 1,\n",
       " 1157: 2,\n",
       " 1147: 1,\n",
       " 1146: 1,\n",
       " 1141: 1,\n",
       " 1139: 1,\n",
       " 1137: 2,\n",
       " 1136: 1,\n",
       " 1135: 1,\n",
       " 1133: 1,\n",
       " 1132: 1,\n",
       " 1131: 2,\n",
       " 1130: 3,\n",
       " 1126: 1,\n",
       " 1124: 2,\n",
       " 1119: 2,\n",
       " 1118: 3,\n",
       " 1117: 1,\n",
       " 1116: 2,\n",
       " 1114: 1,\n",
       " 1113: 1,\n",
       " 1110: 2,\n",
       " 1108: 1,\n",
       " 1107: 1,\n",
       " 1106: 1,\n",
       " 1105: 5,\n",
       " 1104: 1,\n",
       " 1103: 2,\n",
       " 1102: 2,\n",
       " 1101: 1,\n",
       " 1100: 1,\n",
       " 1099: 1,\n",
       " 1098: 1,\n",
       " 1097: 1,\n",
       " 1094: 1,\n",
       " 1093: 1,\n",
       " 1092: 2,\n",
       " 1091: 2,\n",
       " 1090: 1,\n",
       " 1086: 1,\n",
       " 1085: 2,\n",
       " 1084: 3,\n",
       " 1081: 3,\n",
       " 1080: 1,\n",
       " 1077: 1,\n",
       " 1075: 1,\n",
       " 1073: 2,\n",
       " 1071: 1,\n",
       " 1070: 1,\n",
       " 1069: 1,\n",
       " 1068: 1,\n",
       " 1067: 1,\n",
       " 1063: 1,\n",
       " 1062: 1,\n",
       " 1061: 1,\n",
       " 1058: 3,\n",
       " 1055: 2,\n",
       " 1054: 1,\n",
       " 1053: 1,\n",
       " 1052: 2,\n",
       " 1050: 1,\n",
       " 1049: 1,\n",
       " 1044: 1,\n",
       " 1040: 1,\n",
       " 1038: 1,\n",
       " 1036: 1,\n",
       " 1033: 1,\n",
       " 1032: 1,\n",
       " 1030: 1,\n",
       " 1026: 1,\n",
       " 1021: 1,\n",
       " 1019: 2,\n",
       " 1018: 2,\n",
       " 1014: 1,\n",
       " 1013: 1,\n",
       " 1012: 1,\n",
       " 1008: 1,\n",
       " 1006: 2,\n",
       " 1005: 3,\n",
       " 1003: 3,\n",
       " 999: 1,\n",
       " 997: 1,\n",
       " 996: 2,\n",
       " 995: 1,\n",
       " 993: 1,\n",
       " 991: 1,\n",
       " 990: 2,\n",
       " 988: 3,\n",
       " 985: 1,\n",
       " 984: 3,\n",
       " 982: 1,\n",
       " 981: 3,\n",
       " 978: 1,\n",
       " 977: 3,\n",
       " 975: 3,\n",
       " 974: 1,\n",
       " 972: 2,\n",
       " 971: 1,\n",
       " 970: 3,\n",
       " 969: 2,\n",
       " 967: 3,\n",
       " 963: 1,\n",
       " 961: 1,\n",
       " 960: 1,\n",
       " 959: 2,\n",
       " 958: 1,\n",
       " 957: 1,\n",
       " 956: 3,\n",
       " 955: 1,\n",
       " 953: 2,\n",
       " 952: 1,\n",
       " 951: 3,\n",
       " 948: 2,\n",
       " 947: 2,\n",
       " 946: 1,\n",
       " 944: 1,\n",
       " 943: 1,\n",
       " 942: 2,\n",
       " 941: 1,\n",
       " 939: 3,\n",
       " 937: 3,\n",
       " 935: 1,\n",
       " 934: 2,\n",
       " 932: 1,\n",
       " 931: 2,\n",
       " 930: 2,\n",
       " 929: 2,\n",
       " 925: 1,\n",
       " 924: 2,\n",
       " 923: 1,\n",
       " 921: 1,\n",
       " 920: 2,\n",
       " 919: 3,\n",
       " 918: 2,\n",
       " 917: 1,\n",
       " 915: 2,\n",
       " 913: 1,\n",
       " 912: 2,\n",
       " 911: 3,\n",
       " 909: 1,\n",
       " 908: 3,\n",
       " 906: 2,\n",
       " 905: 1,\n",
       " 903: 1,\n",
       " 901: 1,\n",
       " 900: 3,\n",
       " 898: 1,\n",
       " 895: 3,\n",
       " 894: 3,\n",
       " 891: 1,\n",
       " 890: 2,\n",
       " 889: 1,\n",
       " 888: 2,\n",
       " 887: 1,\n",
       " 886: 2,\n",
       " 883: 1,\n",
       " 882: 3,\n",
       " 881: 1,\n",
       " 879: 3,\n",
       " 878: 1,\n",
       " 877: 4,\n",
       " 876: 5,\n",
       " 875: 2,\n",
       " 873: 3,\n",
       " 872: 3,\n",
       " 871: 1,\n",
       " 869: 1,\n",
       " 867: 1,\n",
       " 866: 3,\n",
       " 865: 2,\n",
       " 863: 3,\n",
       " 861: 1,\n",
       " 860: 1,\n",
       " 859: 1,\n",
       " 858: 2,\n",
       " 856: 2,\n",
       " 854: 1,\n",
       " 853: 4,\n",
       " 852: 1,\n",
       " 851: 2,\n",
       " 850: 1,\n",
       " 849: 1,\n",
       " 848: 1,\n",
       " 847: 1,\n",
       " 846: 2,\n",
       " 845: 2,\n",
       " 844: 2,\n",
       " 843: 1,\n",
       " 841: 3,\n",
       " 840: 2,\n",
       " 839: 2,\n",
       " 837: 2,\n",
       " 836: 3,\n",
       " 835: 1,\n",
       " 834: 4,\n",
       " 832: 3,\n",
       " 830: 1,\n",
       " 829: 1,\n",
       " 828: 3,\n",
       " 827: 1,\n",
       " 826: 2,\n",
       " 824: 1,\n",
       " 823: 2,\n",
       " 821: 2,\n",
       " 820: 4,\n",
       " 819: 2,\n",
       " 818: 2,\n",
       " 817: 1,\n",
       " 816: 2,\n",
       " 815: 2,\n",
       " 814: 2,\n",
       " 813: 3,\n",
       " 812: 2,\n",
       " 811: 1,\n",
       " 810: 1,\n",
       " 806: 1,\n",
       " 805: 4,\n",
       " 804: 2,\n",
       " 803: 2,\n",
       " 802: 2,\n",
       " 799: 2,\n",
       " 798: 3,\n",
       " 796: 3,\n",
       " 795: 1,\n",
       " 791: 2,\n",
       " 790: 1,\n",
       " 789: 1,\n",
       " 788: 3,\n",
       " 787: 3,\n",
       " 785: 2,\n",
       " 784: 1,\n",
       " 782: 3,\n",
       " 781: 5,\n",
       " 780: 2,\n",
       " 779: 2,\n",
       " 777: 2,\n",
       " 776: 1,\n",
       " 774: 1,\n",
       " 773: 2,\n",
       " 772: 1,\n",
       " 771: 2,\n",
       " 770: 2,\n",
       " 769: 1,\n",
       " 768: 1,\n",
       " 767: 2,\n",
       " 765: 4,\n",
       " 764: 3,\n",
       " 762: 2,\n",
       " 760: 2,\n",
       " 759: 2,\n",
       " 758: 3,\n",
       " 756: 2,\n",
       " 755: 5,\n",
       " 754: 2,\n",
       " 753: 2,\n",
       " 752: 3,\n",
       " 751: 3,\n",
       " 750: 2,\n",
       " 749: 1,\n",
       " 748: 3,\n",
       " 747: 1,\n",
       " 746: 1,\n",
       " 745: 3,\n",
       " 744: 1,\n",
       " 743: 1,\n",
       " 741: 2,\n",
       " 740: 2,\n",
       " 739: 1,\n",
       " 738: 4,\n",
       " 737: 2,\n",
       " 736: 3,\n",
       " 735: 3,\n",
       " 734: 2,\n",
       " 733: 1,\n",
       " 731: 2,\n",
       " 730: 1,\n",
       " 729: 5,\n",
       " 727: 1,\n",
       " 726: 5,\n",
       " 725: 2,\n",
       " 724: 3,\n",
       " 723: 5,\n",
       " 722: 2,\n",
       " 721: 1,\n",
       " 720: 2,\n",
       " 719: 4,\n",
       " 718: 6,\n",
       " 717: 1,\n",
       " 716: 3,\n",
       " 715: 2,\n",
       " 714: 1,\n",
       " 713: 3,\n",
       " 712: 1,\n",
       " 711: 6,\n",
       " 710: 4,\n",
       " 709: 1,\n",
       " 708: 2,\n",
       " 707: 3,\n",
       " 705: 5,\n",
       " 704: 5,\n",
       " 703: 3,\n",
       " 700: 3,\n",
       " 699: 1,\n",
       " 698: 1,\n",
       " 697: 3,\n",
       " 696: 2,\n",
       " 695: 2,\n",
       " 694: 3,\n",
       " 693: 3,\n",
       " 692: 3,\n",
       " 691: 1,\n",
       " 690: 1,\n",
       " 689: 1,\n",
       " 688: 4,\n",
       " 687: 2,\n",
       " 686: 5,\n",
       " 685: 1,\n",
       " 684: 2,\n",
       " 683: 2,\n",
       " 682: 5,\n",
       " 681: 5,\n",
       " 680: 4,\n",
       " 679: 1,\n",
       " 678: 3,\n",
       " 677: 1,\n",
       " 676: 5,\n",
       " 675: 1,\n",
       " 674: 3,\n",
       " 672: 4,\n",
       " 670: 3,\n",
       " 669: 1,\n",
       " 668: 1,\n",
       " 664: 3,\n",
       " 663: 4,\n",
       " 662: 4,\n",
       " 661: 3,\n",
       " 660: 2,\n",
       " 659: 3,\n",
       " 658: 5,\n",
       " 657: 4,\n",
       " 656: 2,\n",
       " 655: 1,\n",
       " 654: 2,\n",
       " 653: 4,\n",
       " 652: 3,\n",
       " 651: 1,\n",
       " 650: 2,\n",
       " 649: 5,\n",
       " 648: 2,\n",
       " 647: 3,\n",
       " 646: 2,\n",
       " 645: 3,\n",
       " 644: 1,\n",
       " 643: 2,\n",
       " 642: 5,\n",
       " 641: 2,\n",
       " 640: 3,\n",
       " 639: 2,\n",
       " 637: 5,\n",
       " 636: 4,\n",
       " 635: 4,\n",
       " 634: 3,\n",
       " 633: 3,\n",
       " 632: 4,\n",
       " 631: 3,\n",
       " 630: 1,\n",
       " 629: 7,\n",
       " 628: 4,\n",
       " 627: 4,\n",
       " 626: 1,\n",
       " 625: 3,\n",
       " 624: 5,\n",
       " 623: 2,\n",
       " 622: 6,\n",
       " 621: 6,\n",
       " 620: 7,\n",
       " 619: 4,\n",
       " 618: 7,\n",
       " 617: 3,\n",
       " 616: 2,\n",
       " 615: 1,\n",
       " 614: 1,\n",
       " 613: 2,\n",
       " 612: 1,\n",
       " 611: 4,\n",
       " 610: 3,\n",
       " 609: 8,\n",
       " 608: 1,\n",
       " 607: 2,\n",
       " 606: 2,\n",
       " 605: 4,\n",
       " 604: 6,\n",
       " 603: 3,\n",
       " 602: 1,\n",
       " 601: 6,\n",
       " 600: 4,\n",
       " 599: 6,\n",
       " 598: 5,\n",
       " 597: 4,\n",
       " 596: 4,\n",
       " 595: 7,\n",
       " 594: 5,\n",
       " 593: 2,\n",
       " 592: 5,\n",
       " 591: 1,\n",
       " 590: 6,\n",
       " 589: 1,\n",
       " 588: 3,\n",
       " 587: 5,\n",
       " 586: 3,\n",
       " 585: 4,\n",
       " 584: 3,\n",
       " 583: 1,\n",
       " 582: 4,\n",
       " 581: 5,\n",
       " 580: 6,\n",
       " 579: 2,\n",
       " 578: 2,\n",
       " 577: 4,\n",
       " 576: 4,\n",
       " 575: 2,\n",
       " 574: 7,\n",
       " 573: 4,\n",
       " 572: 2,\n",
       " 571: 2,\n",
       " 570: 5,\n",
       " 569: 3,\n",
       " 568: 4,\n",
       " 567: 7,\n",
       " 566: 4,\n",
       " 565: 1,\n",
       " 564: 9,\n",
       " 563: 3,\n",
       " 562: 6,\n",
       " 561: 3,\n",
       " 560: 3,\n",
       " 559: 5,\n",
       " 558: 2,\n",
       " 557: 2,\n",
       " 556: 8,\n",
       " 555: 6,\n",
       " 554: 6,\n",
       " 553: 1,\n",
       " 552: 4,\n",
       " 551: 3,\n",
       " 550: 4,\n",
       " 549: 3,\n",
       " 548: 9,\n",
       " 547: 5,\n",
       " 546: 3,\n",
       " 545: 4,\n",
       " 544: 6,\n",
       " 543: 2,\n",
       " 542: 1,\n",
       " 541: 3,\n",
       " 540: 2,\n",
       " 539: 6,\n",
       " 538: 4,\n",
       " 537: 1,\n",
       " 536: 3,\n",
       " 535: 5,\n",
       " 534: 2,\n",
       " 533: 4,\n",
       " 532: 5,\n",
       " 531: 3,\n",
       " 530: 2,\n",
       " 529: 8,\n",
       " 528: 3,\n",
       " 527: 3,\n",
       " 526: 3,\n",
       " 525: 4,\n",
       " 524: 3,\n",
       " 523: 5,\n",
       " 522: 3,\n",
       " 521: 1,\n",
       " 520: 3,\n",
       " 519: 4,\n",
       " 518: 9,\n",
       " 517: 4,\n",
       " 516: 6,\n",
       " 515: 4,\n",
       " 514: 7,\n",
       " 513: 6,\n",
       " 512: 3,\n",
       " 511: 3,\n",
       " 510: 4,\n",
       " 509: 2,\n",
       " 508: 2,\n",
       " 507: 7,\n",
       " 506: 5,\n",
       " 505: 5,\n",
       " 504: 6,\n",
       " 503: 1,\n",
       " 502: 2,\n",
       " 501: 6,\n",
       " 500: 5,\n",
       " 499: 6,\n",
       " 498: 4,\n",
       " 497: 4,\n",
       " 496: 7,\n",
       " 495: 3,\n",
       " 494: 12,\n",
       " 493: 4,\n",
       " 492: 6,\n",
       " 491: 2,\n",
       " 490: 7,\n",
       " 489: 6,\n",
       " 488: 7,\n",
       " 487: 3,\n",
       " 486: 3,\n",
       " 485: 9,\n",
       " 484: 3,\n",
       " 483: 7,\n",
       " 482: 9,\n",
       " 481: 5,\n",
       " 480: 2,\n",
       " 479: 8,\n",
       " 478: 9,\n",
       " 477: 5,\n",
       " ...}"
      ]
     },
     "execution_count": 45,
     "metadata": {},
     "output_type": "execute_result"
    }
   ],
   "source": [
    "dict(sorted(ad_count_freq.items(), reverse=True))"
   ]
  },
  {
   "cell_type": "code",
   "execution_count": null,
   "id": "d8ab5b85-65a0-4dec-85e8-8594b6fdad96",
   "metadata": {
    "scrolled": true
   },
   "outputs": [],
   "source": []
  },
  {
   "cell_type": "markdown",
   "id": "69d23aad-9322-4d25-8b0d-6bcf4d1c310a",
   "metadata": {},
   "source": [
    "# 统计转化比例"
   ]
  },
  {
   "cell_type": "code",
   "execution_count": 49,
   "id": "21cd7aca-cc97-4e8e-bf47-fea50e35e55b",
   "metadata": {
    "execution": {
     "iopub.execute_input": "2023-06-27T08:18:51.834232Z",
     "iopub.status.busy": "2023-06-27T08:18:51.833498Z",
     "iopub.status.idle": "2023-06-27T08:19:11.028268Z",
     "shell.execute_reply": "2023-06-27T08:19:11.027073Z",
     "shell.execute_reply.started": "2023-06-27T08:18:51.834203Z"
    },
    "scrolled": true
   },
   "outputs": [
    {
     "name": "stderr",
     "output_type": "stream",
     "text": [
      "100%|██████████| 30/30 [00:19<00:00,  1.56it/s]\n"
     ]
    }
   ],
   "source": [
    "conv1_cnt, conv2_cnt, conv3_cnt = {\"0\": 0, \"1\": 0}, {\"0\": 0, \"1\": 0}, {\"0\": 0, \"1\": 0}\n",
    "\n",
    "for _file in tqdm.tqdm(train_file_ls):\n",
    "    with open(os.path.join(train_folder, _file), \"r\") as f:\n",
    "        for line in f:\n",
    "            items = line.strip().split(\"\\t\")\n",
    "            \n",
    "            log_key = items[0]\n",
    "            t1 = items[1]\n",
    "            t2 = items[2]\n",
    "            t3 = items[3]\n",
    "            features = items[4]\n",
    "            \n",
    "            if t1 in [\"0\", \"1\"]:\n",
    "                conv1_cnt[t1] += 1\n",
    "            elif t2 in [\"0\", \"1\"]:\n",
    "                conv2_cnt[t2] += 1\n",
    "            elif t3 in [\"0\", \"1\"]:\n",
    "                conv3_cnt[t3] += 1"
   ]
  },
  {
   "cell_type": "code",
   "execution_count": 137,
   "id": "30940e4d-f7d8-4b5d-acd1-5eea50f9db30",
   "metadata": {
    "execution": {
     "iopub.execute_input": "2023-06-27T09:34:58.456970Z",
     "iopub.status.busy": "2023-06-27T09:34:58.456361Z",
     "iopub.status.idle": "2023-06-27T09:34:58.461614Z",
     "shell.execute_reply": "2023-06-27T09:34:58.460937Z",
     "shell.execute_reply.started": "2023-06-27T09:34:58.456935Z"
    },
    "scrolled": true,
    "tags": []
   },
   "outputs": [
    {
     "name": "stdout",
     "output_type": "stream",
     "text": [
      "conv1: [total]2214568, [pos]131286, [neg]2083282, [pct]5.928289400009392%\n",
      "conv2: [total]2198547, [pos]232199, [neg]1966348, [pct]10.561475374417741%\n",
      "conv3: [total]2777005, [pos]107183, [neg]2669822, [pct]3.859661757901048%\n"
     ]
    }
   ],
   "source": [
    "for idx, conv_cnt in enumerate([conv1_cnt, conv2_cnt, conv3_cnt]):\n",
    "    print(f\"conv{idx+1}: [total]{conv_cnt['1'] + conv_cnt['0']}, [pos]{conv_cnt['1']}, [neg]{conv_cnt['0']}, [pct]{100 * conv_cnt['1'] / (conv_cnt['0'] + conv_cnt['1'])}%\")"
   ]
  },
  {
   "cell_type": "code",
   "execution_count": null,
   "id": "740ebd84-4d9c-47b5-875e-d805b97b208e",
   "metadata": {
    "scrolled": true
   },
   "outputs": [],
   "source": []
  },
  {
   "cell_type": "markdown",
   "id": "2df33c81-bfc3-4982-8316-63700c4e0268",
   "metadata": {},
   "source": [
    "# 探索转化类型1"
   ]
  },
  {
   "cell_type": "code",
   "execution_count": 2,
   "id": "891050d0-409c-4ba6-9315-3f56537fe057",
   "metadata": {
    "execution": {
     "iopub.execute_input": "2023-06-28T09:31:45.565215Z",
     "iopub.status.busy": "2023-06-28T09:31:45.564646Z",
     "iopub.status.idle": "2023-06-28T09:31:45.576676Z",
     "shell.execute_reply": "2023-06-28T09:31:45.575855Z",
     "shell.execute_reply.started": "2023-06-28T09:31:45.565176Z"
    },
    "scrolled": true,
    "tags": []
   },
   "outputs": [
    {
     "data": {
      "text/plain": [
       "['file_t1.txt']"
      ]
     },
     "execution_count": 2,
     "metadata": {},
     "output_type": "execute_result"
    }
   ],
   "source": [
    "train_t1_folder = \"../../work_data/data205411/2023-cvr-contest-data/train_t1\"\n",
    "train_t1_file_ls = os.listdir(train_t1_folder)\n",
    "\n",
    "train_t1_file_ls"
   ]
  },
  {
   "cell_type": "code",
   "execution_count": null,
   "id": "c6bb12bd-67f2-475b-8057-6c9613afd1c0",
   "metadata": {
    "execution": {
     "iopub.execute_input": "2023-06-28T06:14:41.225439Z",
     "iopub.status.busy": "2023-06-28T06:14:41.224910Z"
    },
    "scrolled": true,
    "tags": []
   },
   "outputs": [],
   "source": [
    "t1_pos = []\n",
    "t1_neg = []\n",
    "\n",
    "for _file in train_t1_file_ls:\n",
    "    with open(os.path.join(train_t1_folder, _file), \"r\") as f:\n",
    "        for line in f:\n",
    "            items = line.strip().split(\"\\t\")\n",
    "            conv1 = items[1]\n",
    "            features = items[4]\n",
    "\n",
    "            if conv1 == \"0\":\n",
    "                curr_t1 = t1_neg\n",
    "            elif conv1 == \"1\":\n",
    "                curr_t1 = t1_pos\n",
    "\n",
    "            curr_features = {}\n",
    "\n",
    "            feature_ls = features.split(\" \")\n",
    "\n",
    "            for feature in feature_ls:\n",
    "                _value, _key = feature.split(\":\")\n",
    "\n",
    "                if _key in [\"12\", \"16\"]:\n",
    "                    continue\n",
    "\n",
    "                if _key not in curr_features:\n",
    "                    curr_features[_key] = []\n",
    "                \n",
    "                curr_features[_key].append(_value)\n",
    "            \n",
    "            curr_t1.append(curr_features)"
   ]
  },
  {
   "cell_type": "code",
   "execution_count": null,
   "id": "bc206a23-a643-4fdb-8823-2d296f55d535",
   "metadata": {
    "scrolled": true,
    "tags": []
   },
   "outputs": [],
   "source": [
    "len(t1_pos), len(t1_neg)"
   ]
  },
  {
   "cell_type": "markdown",
   "id": "e155b2e5-9de2-4cb8-8639-d0d4f0c5a828",
   "metadata": {},
   "source": [
    "## 统计序列长度类型"
   ]
  },
  {
   "cell_type": "code",
   "execution_count": null,
   "id": "e185007c-95a7-49f1-a833-16e6a8e780e6",
   "metadata": {
    "scrolled": true,
    "tags": []
   },
   "outputs": [],
   "source": [
    "t1_pos_len_cnt = {}\n",
    "t1_neg_len_cnt = {}\n",
    "\n",
    "for row in t1_pos:\n",
    "    for _k, _v in row.items():\n",
    "        if _k not in t1_pos_len_cnt:\n",
    "            t1_pos_len_cnt[_k] = set()\n",
    "        \n",
    "        t1_pos_len_cnt[_k].add(len(_v))"
   ]
  },
  {
   "cell_type": "code",
   "execution_count": null,
   "id": "52bc9156-2316-4306-b857-67172e06e6fc",
   "metadata": {
    "scrolled": true,
    "tags": []
   },
   "outputs": [],
   "source": [
    "for row in t1_neg:\n",
    "    for _k, _v in row.items():\n",
    "        if _k not in t1_neg_len_cnt:\n",
    "            t1_neg_len_cnt[_k] = set()\n",
    "        \n",
    "        t1_neg_len_cnt[_k].add(len(_v))"
   ]
  },
  {
   "cell_type": "code",
   "execution_count": null,
   "id": "d1e709bb-f4a0-4e58-aff8-a0faa0fdbacf",
   "metadata": {
    "scrolled": true,
    "tags": []
   },
   "outputs": [],
   "source": [
    "dict(sorted(t1_pos_len_cnt.items()))"
   ]
  },
  {
   "cell_type": "code",
   "execution_count": null,
   "id": "7ce91ba9-e9d9-43fb-8dc3-d71a2626821d",
   "metadata": {
    "scrolled": true,
    "tags": []
   },
   "outputs": [],
   "source": [
    "dict(sorted(t1_neg_len_cnt.items()))"
   ]
  },
  {
   "cell_type": "code",
   "execution_count": null,
   "id": "177f3b1e-d41f-4e2c-ab81-5185c1c430e9",
   "metadata": {
    "scrolled": true
   },
   "outputs": [],
   "source": []
  },
  {
   "cell_type": "markdown",
   "id": "05dd4f03-d0e7-4be2-abb2-9280da8f9d69",
   "metadata": {},
   "source": [
    "## 统计序列长度占比"
   ]
  },
  {
   "cell_type": "code",
   "execution_count": null,
   "id": "a18ebb66-d82e-45fd-b4e1-2dffe5ff4971",
   "metadata": {
    "scrolled": true,
    "tags": []
   },
   "outputs": [],
   "source": [
    "t1_pos_len_cnt_sum = {}\n",
    "\n",
    "for row in t1_pos:\n",
    "    for _k, _v in row.items():\n",
    "        if _k not in [\"10\", \"17\", \"18\", \"20\", \"21\", \"22\", \"25\", \"26\"]:\n",
    "            continue\n",
    "\n",
    "        if _k not in t1_pos_len_cnt_sum:\n",
    "            t1_pos_len_cnt_sum[_k] = {}\n",
    "\n",
    "        curr_len = len(_v)\n",
    "\n",
    "        if curr_len not in t1_pos_len_cnt_sum[_k]:\n",
    "            t1_pos_len_cnt_sum[_k][curr_len] = 0\n",
    "        \n",
    "        t1_pos_len_cnt_sum[_k][curr_len] += 1"
   ]
  },
  {
   "cell_type": "code",
   "execution_count": null,
   "id": "841ac349-08d3-41b7-ae31-df9f5eeb5b99",
   "metadata": {
    "scrolled": true,
    "tags": []
   },
   "outputs": [],
   "source": [
    "for _k, _v in t1_pos_len_cnt_sum.items():\n",
    "    t1_pos_len_cnt_sum[_k] = dict(sorted(_v.items()))"
   ]
  },
  {
   "cell_type": "code",
   "execution_count": null,
   "id": "f23735c1-0847-4d89-a7b3-5fec09758f6c",
   "metadata": {
    "scrolled": true
   },
   "outputs": [],
   "source": []
  },
  {
   "cell_type": "code",
   "execution_count": null,
   "id": "9568ff10-f759-463a-b414-d2f4406a397b",
   "metadata": {
    "scrolled": true,
    "tags": []
   },
   "outputs": [],
   "source": [
    "t1_neg_len_cnt_sum = {}\n",
    "\n",
    "for row in t1_neg:\n",
    "    for _k, _v in row.items():\n",
    "        if _k not in [\"10\", \"17\", \"18\", \"20\", \"21\", \"22\", \"25\", \"26\"]:\n",
    "            continue\n",
    "\n",
    "        if _k not in t1_neg_len_cnt_sum:\n",
    "            t1_neg_len_cnt_sum[_k] = {}\n",
    "\n",
    "        curr_len = len(_v)\n",
    "\n",
    "        if curr_len not in t1_neg_len_cnt_sum[_k]:\n",
    "            t1_neg_len_cnt_sum[_k][curr_len] = 0\n",
    "        \n",
    "        t1_neg_len_cnt_sum[_k][curr_len] += 1\n",
    "\n",
    "\n",
    "for _k, _v in t1_neg_len_cnt_sum.items():\n",
    "    t1_neg_len_cnt_sum[_k] = dict(sorted(_v.items()))"
   ]
  },
  {
   "cell_type": "code",
   "execution_count": null,
   "id": "c26621a0-9464-466f-b924-49300fb8c516",
   "metadata": {
    "scrolled": true
   },
   "outputs": [],
   "source": []
  },
  {
   "cell_type": "code",
   "execution_count": null,
   "id": "3f9e66b1-416a-4fe8-8d52-d69ca708e53a",
   "metadata": {
    "scrolled": true,
    "tags": []
   },
   "outputs": [],
   "source": [
    "for _k, _v in t1_pos_len_cnt_sum.items():\n",
    "    cnt = 0\n",
    "\n",
    "    for __k, __v in _v.items():\n",
    "        cnt += __v\n",
    "    \n",
    "    t1_pos_len_cnt_sum[_k][0] = 131286 - cnt\n",
    "\n",
    "    for __k, __v in _v.items():\n",
    "        t1_pos_len_cnt_sum[_k][__k] = __v / 131286\n",
    "    \n",
    "    t1_pos_len_cnt_sum[_k] = dict(sorted(t1_pos_len_cnt_sum[_k].items()))"
   ]
  },
  {
   "cell_type": "code",
   "execution_count": null,
   "id": "5dfb38ef-ed3f-4604-b763-7cc9254c7caf",
   "metadata": {
    "scrolled": true,
    "tags": []
   },
   "outputs": [],
   "source": [
    "for _k, _v in t1_neg_len_cnt_sum.items():\n",
    "    cnt = 0\n",
    "\n",
    "    for __k, __v in _v.items():\n",
    "        cnt += __v\n",
    "    \n",
    "    t1_neg_len_cnt_sum[_k][0] = 2083282 - cnt\n",
    "\n",
    "    for __k, __v in _v.items():\n",
    "        t1_neg_len_cnt_sum[_k][__k] = __v / 2083282\n",
    "    \n",
    "    t1_neg_len_cnt_sum[_k] = dict(sorted(t1_neg_len_cnt_sum[_k].items()))"
   ]
  },
  {
   "cell_type": "code",
   "execution_count": null,
   "id": "9ae21221-b90e-4e72-98b1-4fd6531f7969",
   "metadata": {
    "scrolled": true,
    "tags": []
   },
   "outputs": [],
   "source": [
    "t1_pos_len_cnt_sum[\"21\"], t1_neg_len_cnt_sum[\"21\"]"
   ]
  },
  {
   "cell_type": "code",
   "execution_count": null,
   "id": "043f2a27-f394-4be3-bed1-7ec5dff27c58",
   "metadata": {
    "scrolled": true,
    "tags": []
   },
   "outputs": [],
   "source": [
    "t1_pos_len_cnt_sum[\"18\"], t1_neg_len_cnt_sum[\"18\"]"
   ]
  },
  {
   "cell_type": "code",
   "execution_count": null,
   "id": "16eb45cc-1bde-4732-b1c2-a655f02503ed",
   "metadata": {
    "scrolled": true
   },
   "outputs": [],
   "source": []
  },
  {
   "cell_type": "markdown",
   "id": "d402eb7a-422d-46a0-8e0b-f842aab1eb83",
   "metadata": {},
   "source": [
    "## 探索序列id规律"
   ]
  },
  {
   "cell_type": "markdown",
   "id": "de2e0896-a00a-48fa-8ff7-389d18a8b662",
   "metadata": {},
   "source": [
    "### 序列id交集"
   ]
  },
  {
   "cell_type": "code",
   "execution_count": 3,
   "id": "04d13bde-2d20-4f9f-a99b-d9ba10891921",
   "metadata": {
    "execution": {
     "iopub.execute_input": "2023-06-28T09:31:49.998817Z",
     "iopub.status.busy": "2023-06-28T09:31:49.998262Z",
     "iopub.status.idle": "2023-06-28T09:33:58.744157Z",
     "shell.execute_reply": "2023-06-28T09:33:58.743031Z",
     "shell.execute_reply.started": "2023-06-28T09:31:49.998781Z"
    },
    "scrolled": true,
    "tags": []
   },
   "outputs": [],
   "source": [
    "t1_pos_id = {}\n",
    "t1_neg_id = {}\n",
    "\n",
    "\n",
    "for _file in train_t1_file_ls:\n",
    "    with open(os.path.join(train_t1_folder, _file), \"r\") as f:\n",
    "        for line in f:\n",
    "            items = line.strip().split(\"\\t\")\n",
    "            conv1 = items[1]\n",
    "            features = items[4]\n",
    "\n",
    "            if conv1 == \"0\":\n",
    "                curr_t1 = t1_neg_id\n",
    "            elif conv1 == \"1\":\n",
    "                curr_t1 = t1_pos_id\n",
    "\n",
    "            feature_ls = features.split(\" \")\n",
    "\n",
    "            for feature in feature_ls:\n",
    "                _value, _key = feature.split(\":\")\n",
    "\n",
    "                if _key not in curr_t1:\n",
    "                    curr_t1[_key] = set()\n",
    "\n",
    "                curr_t1[_key].add(_value)"
   ]
  },
  {
   "cell_type": "code",
   "execution_count": 4,
   "id": "33c066a5-58d4-43f5-8c6f-f8cf56fe975f",
   "metadata": {
    "execution": {
     "iopub.execute_input": "2023-06-28T09:35:44.577733Z",
     "iopub.status.busy": "2023-06-28T09:35:44.576669Z",
     "iopub.status.idle": "2023-06-28T09:35:54.278443Z",
     "shell.execute_reply": "2023-06-28T09:35:54.277545Z",
     "shell.execute_reply.started": "2023-06-28T09:35:44.577692Z"
    },
    "scrolled": true,
    "tags": []
   },
   "outputs": [],
   "source": [
    "t1_intersections = {}\n",
    "t1_pos_unique = {}\n",
    "t1_neg_unique = {}\n",
    "\n",
    "for _k, _v in t1_pos_id.items():\n",
    "    if _k not in t1_intersections:\n",
    "        t1_intersections[_k] = set()\n",
    "\n",
    "    if _k not in t1_pos_unique:\n",
    "        t1_pos_unique[_k] = set()\n",
    "\n",
    "    if _k not in t1_neg_unique:\n",
    "        t1_neg_unique[_k] = set()\n",
    "\n",
    "    curr_intersection = t1_pos_id[_k].intersection(t1_neg_id[_k])\n",
    "    t1_intersections[_k].update(curr_intersection)\n",
    "\n",
    "    curr_pos_unique = t1_pos_id[_k] - curr_intersection\n",
    "    t1_pos_unique[_k].update(curr_pos_unique)\n",
    "\n",
    "    curr_neg_unique = t1_neg_id[_k] - curr_intersection\n",
    "    t1_neg_unique[_k].update(curr_neg_unique)"
   ]
  },
  {
   "cell_type": "code",
   "execution_count": 5,
   "id": "e366f1b1-78f7-4947-88aa-3564a0b52e98",
   "metadata": {
    "execution": {
     "iopub.execute_input": "2023-06-28T09:36:16.965005Z",
     "iopub.status.busy": "2023-06-28T09:36:16.963988Z",
     "iopub.status.idle": "2023-06-28T09:36:16.973461Z",
     "shell.execute_reply": "2023-06-28T09:36:16.972729Z",
     "shell.execute_reply.started": "2023-06-28T09:36:16.964965Z"
    },
    "scrolled": true,
    "tags": []
   },
   "outputs": [
    {
     "name": "stdout",
     "output_type": "stream",
     "text": [
      "[1]: [pos]:7, [neg]:7, [inter]:7, [only in pos]:0, [only in neg]:0\n",
      "[2]: [pos]:3, [neg]:3, [inter]:3, [only in pos]:0, [only in neg]:0\n",
      "[3]: [pos]:130885, [neg]:2023011, [inter]:3483, [only in pos]:127402, [only in neg]:2019528\n",
      "[4]: [pos]:121043, [neg]:1666503, [inter]:21848, [only in pos]:99195, [only in neg]:1644655\n",
      "[5]: [pos]:4, [neg]:4, [inter]:4, [only in pos]:0, [only in neg]:0\n",
      "[6]: [pos]:3, [neg]:3, [inter]:3, [only in pos]:0, [only in neg]:0\n",
      "[7]: [pos]:6, [neg]:6, [inter]:6, [only in pos]:0, [only in neg]:0\n",
      "[8]: [pos]:6, [neg]:6, [inter]:6, [only in pos]:0, [only in neg]:0\n",
      "[9]: [pos]:2, [neg]:2, [inter]:2, [only in pos]:0, [only in neg]:0\n",
      "[10]: [pos]:491361, [neg]:1988503, [inter]:421117, [only in pos]:70244, [only in neg]:1567386\n",
      "[11]: [pos]:37, [neg]:37, [inter]:37, [only in pos]:0, [only in neg]:0\n",
      "[13]: [pos]:24, [neg]:24, [inter]:24, [only in pos]:0, [only in neg]:0\n",
      "[14]: [pos]:2, [neg]:2, [inter]:2, [only in pos]:0, [only in neg]:0\n",
      "[15]: [pos]:153, [neg]:341, [inter]:148, [only in pos]:5, [only in neg]:193\n",
      "[16]: [pos]:1, [neg]:1, [inter]:1, [only in pos]:0, [only in neg]:0\n",
      "[17]: [pos]:753031, [neg]:6218360, [inter]:405712, [only in pos]:347319, [only in neg]:5812648\n",
      "[19]: [pos]:31728, [neg]:96895, [inter]:29732, [only in pos]:1996, [only in neg]:67163\n",
      "[20]: [pos]:10314, [neg]:15315, [inter]:10210, [only in pos]:104, [only in neg]:5105\n",
      "[21]: [pos]:5, [neg]:7, [inter]:5, [only in pos]:0, [only in neg]:2\n",
      "[22]: [pos]:1333665, [neg]:14294458, [inter]:504956, [only in pos]:828709, [only in neg]:13789502\n",
      "[23]: [pos]:27158, [neg]:87452, [inter]:25143, [only in pos]:2015, [only in neg]:62309\n",
      "[24]: [pos]:230, [neg]:285, [inter]:230, [only in pos]:0, [only in neg]:55\n",
      "[25]: [pos]:143, [neg]:348, [inter]:143, [only in pos]:0, [only in neg]:205\n",
      "[26]: [pos]:753, [neg]:1641, [inter]:751, [only in pos]:2, [only in neg]:890\n",
      "[18]: [pos]:334019, [neg]:1652142, [inter]:252523, [only in pos]:81496, [only in neg]:1399619\n"
     ]
    }
   ],
   "source": [
    "for _k, _v in t1_intersections.items():\n",
    "    print(f\"[{_k}]: [pos]:{len(t1_pos_id[_k])}, [neg]:{len(t1_neg_id[_k])}, [inter]:{len(_v)}, [only in pos]:{len(t1_pos_unique[_k])}, [only in neg]:{len(t1_neg_unique[_k])}\")"
   ]
  },
  {
   "cell_type": "markdown",
   "id": "17b6e301-96d9-40d7-9e6f-dad2a2babf4f",
   "metadata": {},
   "source": [
    "### 序列id频率"
   ]
  },
  {
   "cell_type": "code",
   "execution_count": 6,
   "id": "c4cb02da-bcc2-490c-ae69-8626e7717fd4",
   "metadata": {
    "execution": {
     "iopub.execute_input": "2023-06-28T09:36:26.410910Z",
     "iopub.status.busy": "2023-06-28T09:36:26.410303Z",
     "iopub.status.idle": "2023-06-28T09:39:23.706600Z",
     "shell.execute_reply": "2023-06-28T09:39:23.705476Z",
     "shell.execute_reply.started": "2023-06-28T09:36:26.410868Z"
    },
    "scrolled": true,
    "tags": []
   },
   "outputs": [],
   "source": [
    "t1_pos_id_cnt = {}\n",
    "t1_neg_id_cnt = {}\n",
    "\n",
    "for _file in train_t1_file_ls:\n",
    "    with open(os.path.join(train_t1_folder, _file), \"r\") as f:\n",
    "        for line in f:\n",
    "            items = line.strip().split(\"\\t\")\n",
    "            conv1 = items[1]\n",
    "            features = items[4]\n",
    "\n",
    "            if conv1 == \"0\":\n",
    "                curr_t1 = t1_neg_id_cnt\n",
    "            elif conv1 == \"1\":\n",
    "                curr_t1 = t1_pos_id_cnt\n",
    "\n",
    "            feature_ls = features.split(\" \")\n",
    "\n",
    "            for feature in feature_ls:\n",
    "                _value, _key = feature.split(\":\")\n",
    "\n",
    "                cnt = curr_t1.get(_value, 0)\n",
    "                curr_t1.update({_value: cnt + 1})"
   ]
  },
  {
   "cell_type": "code",
   "execution_count": 7,
   "id": "fdffa23d-f2d5-45d5-902b-8c19140a5900",
   "metadata": {
    "execution": {
     "iopub.execute_input": "2023-06-28T09:39:31.680098Z",
     "iopub.status.busy": "2023-06-28T09:39:31.679492Z",
     "iopub.status.idle": "2023-06-28T09:39:33.053463Z",
     "shell.execute_reply": "2023-06-28T09:39:33.052357Z",
     "shell.execute_reply.started": "2023-06-28T09:39:31.680046Z"
    },
    "scrolled": true,
    "tags": []
   },
   "outputs": [],
   "source": [
    "t1_pos_id_cnt_freq = {}\n",
    "\n",
    "for _k, _v in t1_pos_id_cnt.items():\n",
    "    cnt = t1_pos_id_cnt_freq.get(_v, 0)\n",
    "    t1_pos_id_cnt_freq.update({_v: cnt + 1})"
   ]
  },
  {
   "cell_type": "code",
   "execution_count": 8,
   "id": "3b4c7689-d830-4248-9273-703681ff136a",
   "metadata": {
    "execution": {
     "iopub.execute_input": "2023-06-28T09:39:35.867687Z",
     "iopub.status.busy": "2023-06-28T09:39:35.866763Z",
     "iopub.status.idle": "2023-06-28T09:39:44.617939Z",
     "shell.execute_reply": "2023-06-28T09:39:44.617172Z",
     "shell.execute_reply.started": "2023-06-28T09:39:35.867645Z"
    },
    "scrolled": true,
    "tags": []
   },
   "outputs": [
    {
     "data": {
      "text/html": [
       "<div>\n",
       "<style scoped>\n",
       "    .dataframe tbody tr th:only-of-type {\n",
       "        vertical-align: middle;\n",
       "    }\n",
       "\n",
       "    .dataframe tbody tr th {\n",
       "        vertical-align: top;\n",
       "    }\n",
       "\n",
       "    .dataframe thead th {\n",
       "        text-align: right;\n",
       "    }\n",
       "</style>\n",
       "<table border=\"1\" class=\"dataframe\">\n",
       "  <thead>\n",
       "    <tr style=\"text-align: right;\">\n",
       "      <th></th>\n",
       "      <th>cnt</th>\n",
       "      <th>freq</th>\n",
       "      <th>sum_freq</th>\n",
       "      <th>cum_freq</th>\n",
       "      <th>cum_pct</th>\n",
       "    </tr>\n",
       "  </thead>\n",
       "  <tbody>\n",
       "    <tr>\n",
       "      <th>0</th>\n",
       "      <td>1</td>\n",
       "      <td>2669704</td>\n",
       "      <td>3234583</td>\n",
       "      <td>2669704</td>\n",
       "      <td>0.825363</td>\n",
       "    </tr>\n",
       "    <tr>\n",
       "      <th>1</th>\n",
       "      <td>2</td>\n",
       "      <td>272603</td>\n",
       "      <td>3234583</td>\n",
       "      <td>2942307</td>\n",
       "      <td>0.909640</td>\n",
       "    </tr>\n",
       "    <tr>\n",
       "      <th>2</th>\n",
       "      <td>3</td>\n",
       "      <td>100220</td>\n",
       "      <td>3234583</td>\n",
       "      <td>3042527</td>\n",
       "      <td>0.940624</td>\n",
       "    </tr>\n",
       "    <tr>\n",
       "      <th>3</th>\n",
       "      <td>4</td>\n",
       "      <td>52133</td>\n",
       "      <td>3234583</td>\n",
       "      <td>3094660</td>\n",
       "      <td>0.956742</td>\n",
       "    </tr>\n",
       "    <tr>\n",
       "      <th>4</th>\n",
       "      <td>5</td>\n",
       "      <td>31134</td>\n",
       "      <td>3234583</td>\n",
       "      <td>3125794</td>\n",
       "      <td>0.966367</td>\n",
       "    </tr>\n",
       "    <tr>\n",
       "      <th>...</th>\n",
       "      <td>...</td>\n",
       "      <td>...</td>\n",
       "      <td>...</td>\n",
       "      <td>...</td>\n",
       "      <td>...</td>\n",
       "    </tr>\n",
       "    <tr>\n",
       "      <th>1072</th>\n",
       "      <td>100071</td>\n",
       "      <td>1</td>\n",
       "      <td>3234583</td>\n",
       "      <td>3234579</td>\n",
       "      <td>0.999999</td>\n",
       "    </tr>\n",
       "    <tr>\n",
       "      <th>1073</th>\n",
       "      <td>112193</td>\n",
       "      <td>1</td>\n",
       "      <td>3234583</td>\n",
       "      <td>3234580</td>\n",
       "      <td>0.999999</td>\n",
       "    </tr>\n",
       "    <tr>\n",
       "      <th>1074</th>\n",
       "      <td>112207</td>\n",
       "      <td>1</td>\n",
       "      <td>3234583</td>\n",
       "      <td>3234581</td>\n",
       "      <td>0.999999</td>\n",
       "    </tr>\n",
       "    <tr>\n",
       "      <th>1075</th>\n",
       "      <td>130442</td>\n",
       "      <td>1</td>\n",
       "      <td>3234583</td>\n",
       "      <td>3234582</td>\n",
       "      <td>1.000000</td>\n",
       "    </tr>\n",
       "    <tr>\n",
       "      <th>1076</th>\n",
       "      <td>131286</td>\n",
       "      <td>1</td>\n",
       "      <td>3234583</td>\n",
       "      <td>3234583</td>\n",
       "      <td>1.000000</td>\n",
       "    </tr>\n",
       "  </tbody>\n",
       "</table>\n",
       "<p>1077 rows × 5 columns</p>\n",
       "</div>"
      ],
      "text/plain": [
       "         cnt     freq  sum_freq  cum_freq   cum_pct\n",
       "0          1  2669704   3234583   2669704  0.825363\n",
       "1          2   272603   3234583   2942307  0.909640\n",
       "2          3   100220   3234583   3042527  0.940624\n",
       "3          4    52133   3234583   3094660  0.956742\n",
       "4          5    31134   3234583   3125794  0.966367\n",
       "...      ...      ...       ...       ...       ...\n",
       "1072  100071        1   3234583   3234579  0.999999\n",
       "1073  112193        1   3234583   3234580  0.999999\n",
       "1074  112207        1   3234583   3234581  0.999999\n",
       "1075  130442        1   3234583   3234582  1.000000\n",
       "1076  131286        1   3234583   3234583  1.000000\n",
       "\n",
       "[1077 rows x 5 columns]"
      ]
     },
     "execution_count": 8,
     "metadata": {},
     "output_type": "execute_result"
    }
   ],
   "source": [
    "tmp = dict(sorted(t1_pos_id_cnt_freq.items()))\n",
    "\n",
    "tmp_df = pd.DataFrame()\n",
    "tmp_df[\"cnt\"] = list(tmp.keys())\n",
    "tmp_df[\"freq\"] = list(tmp.values())\n",
    "\n",
    "tmp_df[\"sum_freq\"] = tmp_df[\"freq\"].sum()\n",
    "tmp_df[\"cum_freq\"] = tmp_df[\"freq\"].cumsum()\n",
    "\n",
    "tmp_df[\"cum_pct\"] = tmp_df[\"cum_freq\"] / tmp_df[\"sum_freq\"]\n",
    "\n",
    "tmp_df"
   ]
  },
  {
   "cell_type": "code",
   "execution_count": null,
   "id": "2473c1ce-1a2b-4ced-8b51-1c372544f0e2",
   "metadata": {
    "scrolled": true
   },
   "outputs": [],
   "source": []
  },
  {
   "cell_type": "code",
   "execution_count": 9,
   "id": "382fa415-8e8b-45ce-9c69-5cbc0a896da8",
   "metadata": {
    "execution": {
     "iopub.execute_input": "2023-06-28T09:39:48.196088Z",
     "iopub.status.busy": "2023-06-28T09:39:48.195042Z",
     "iopub.status.idle": "2023-06-28T09:39:58.935070Z",
     "shell.execute_reply": "2023-06-28T09:39:58.934112Z",
     "shell.execute_reply.started": "2023-06-28T09:39:48.196050Z"
    },
    "scrolled": true,
    "tags": []
   },
   "outputs": [],
   "source": [
    "t1_neg_id_cnt_freq = {}\n",
    "\n",
    "for _k, _v in t1_neg_id_cnt.items():\n",
    "    cnt = t1_neg_id_cnt_freq.get(_v, 0)\n",
    "    t1_neg_id_cnt_freq.update({_v: cnt + 1})"
   ]
  },
  {
   "cell_type": "code",
   "execution_count": 10,
   "id": "9bc7f62c-3d42-4f16-8b22-46a865f989a9",
   "metadata": {
    "execution": {
     "iopub.execute_input": "2023-06-28T09:40:05.442079Z",
     "iopub.status.busy": "2023-06-28T09:40:05.441465Z",
     "iopub.status.idle": "2023-06-28T09:40:05.457799Z",
     "shell.execute_reply": "2023-06-28T09:40:05.457029Z",
     "shell.execute_reply.started": "2023-06-28T09:40:05.442040Z"
    },
    "scrolled": true,
    "tags": []
   },
   "outputs": [],
   "source": [
    "tmp = dict(sorted(t1_neg_id_cnt_freq.items()))\n",
    "\n",
    "tmp_df = pd.DataFrame()\n",
    "tmp_df[\"cnt\"] = list(tmp.keys())\n",
    "tmp_df[\"freq\"] = list(tmp.values())\n",
    "\n",
    "tmp_df[\"sum_freq\"] = tmp_df[\"freq\"].sum()\n",
    "tmp_df[\"cum_freq\"] = tmp_df[\"freq\"].cumsum()\n",
    "\n",
    "tmp_df[\"cum_pct\"] = tmp_df[\"cum_freq\"] / tmp_df[\"sum_freq\"]"
   ]
  },
  {
   "cell_type": "code",
   "execution_count": 11,
   "id": "d4b631a8-f4f1-4e8b-85bf-6ea08bfdaed1",
   "metadata": {
    "execution": {
     "iopub.execute_input": "2023-06-28T09:40:08.851554Z",
     "iopub.status.busy": "2023-06-28T09:40:08.850499Z",
     "iopub.status.idle": "2023-06-28T09:40:08.864067Z",
     "shell.execute_reply": "2023-06-28T09:40:08.863415Z",
     "shell.execute_reply.started": "2023-06-28T09:40:08.851509Z"
    },
    "scrolled": true,
    "tags": []
   },
   "outputs": [
    {
     "data": {
      "text/html": [
       "<div>\n",
       "<style scoped>\n",
       "    .dataframe tbody tr th:only-of-type {\n",
       "        vertical-align: middle;\n",
       "    }\n",
       "\n",
       "    .dataframe tbody tr th {\n",
       "        vertical-align: top;\n",
       "    }\n",
       "\n",
       "    .dataframe thead th {\n",
       "        text-align: right;\n",
       "    }\n",
       "</style>\n",
       "<table border=\"1\" class=\"dataframe\">\n",
       "  <thead>\n",
       "    <tr style=\"text-align: right;\">\n",
       "      <th></th>\n",
       "      <th>cnt</th>\n",
       "      <th>freq</th>\n",
       "      <th>sum_freq</th>\n",
       "      <th>cum_freq</th>\n",
       "      <th>cum_pct</th>\n",
       "    </tr>\n",
       "  </thead>\n",
       "  <tbody>\n",
       "    <tr>\n",
       "      <th>0</th>\n",
       "      <td>1</td>\n",
       "      <td>21720115</td>\n",
       "      <td>28045356</td>\n",
       "      <td>21720115</td>\n",
       "      <td>0.774464</td>\n",
       "    </tr>\n",
       "    <tr>\n",
       "      <th>1</th>\n",
       "      <td>2</td>\n",
       "      <td>2755201</td>\n",
       "      <td>28045356</td>\n",
       "      <td>24475316</td>\n",
       "      <td>0.872705</td>\n",
       "    </tr>\n",
       "    <tr>\n",
       "      <th>2</th>\n",
       "      <td>3</td>\n",
       "      <td>1048362</td>\n",
       "      <td>28045356</td>\n",
       "      <td>25523678</td>\n",
       "      <td>0.910086</td>\n",
       "    </tr>\n",
       "    <tr>\n",
       "      <th>3</th>\n",
       "      <td>4</td>\n",
       "      <td>561048</td>\n",
       "      <td>28045356</td>\n",
       "      <td>26084726</td>\n",
       "      <td>0.930091</td>\n",
       "    </tr>\n",
       "    <tr>\n",
       "      <th>4</th>\n",
       "      <td>5</td>\n",
       "      <td>352925</td>\n",
       "      <td>28045356</td>\n",
       "      <td>26437651</td>\n",
       "      <td>0.942675</td>\n",
       "    </tr>\n",
       "    <tr>\n",
       "      <th>...</th>\n",
       "      <td>...</td>\n",
       "      <td>...</td>\n",
       "      <td>...</td>\n",
       "      <td>...</td>\n",
       "      <td>...</td>\n",
       "    </tr>\n",
       "    <tr>\n",
       "      <th>3993</th>\n",
       "      <td>1667953</td>\n",
       "      <td>1</td>\n",
       "      <td>28045356</td>\n",
       "      <td>28045352</td>\n",
       "      <td>1.000000</td>\n",
       "    </tr>\n",
       "    <tr>\n",
       "      <th>3994</th>\n",
       "      <td>1784404</td>\n",
       "      <td>1</td>\n",
       "      <td>28045356</td>\n",
       "      <td>28045353</td>\n",
       "      <td>1.000000</td>\n",
       "    </tr>\n",
       "    <tr>\n",
       "      <th>3995</th>\n",
       "      <td>1802758</td>\n",
       "      <td>1</td>\n",
       "      <td>28045356</td>\n",
       "      <td>28045354</td>\n",
       "      <td>1.000000</td>\n",
       "    </tr>\n",
       "    <tr>\n",
       "      <th>3996</th>\n",
       "      <td>2058004</td>\n",
       "      <td>1</td>\n",
       "      <td>28045356</td>\n",
       "      <td>28045355</td>\n",
       "      <td>1.000000</td>\n",
       "    </tr>\n",
       "    <tr>\n",
       "      <th>3997</th>\n",
       "      <td>2083282</td>\n",
       "      <td>1</td>\n",
       "      <td>28045356</td>\n",
       "      <td>28045356</td>\n",
       "      <td>1.000000</td>\n",
       "    </tr>\n",
       "  </tbody>\n",
       "</table>\n",
       "<p>3998 rows × 5 columns</p>\n",
       "</div>"
      ],
      "text/plain": [
       "          cnt      freq  sum_freq  cum_freq   cum_pct\n",
       "0           1  21720115  28045356  21720115  0.774464\n",
       "1           2   2755201  28045356  24475316  0.872705\n",
       "2           3   1048362  28045356  25523678  0.910086\n",
       "3           4    561048  28045356  26084726  0.930091\n",
       "4           5    352925  28045356  26437651  0.942675\n",
       "...       ...       ...       ...       ...       ...\n",
       "3993  1667953         1  28045356  28045352  1.000000\n",
       "3994  1784404         1  28045356  28045353  1.000000\n",
       "3995  1802758         1  28045356  28045354  1.000000\n",
       "3996  2058004         1  28045356  28045355  1.000000\n",
       "3997  2083282         1  28045356  28045356  1.000000\n",
       "\n",
       "[3998 rows x 5 columns]"
      ]
     },
     "execution_count": 11,
     "metadata": {},
     "output_type": "execute_result"
    }
   ],
   "source": [
    "tmp_df"
   ]
  },
  {
   "cell_type": "code",
   "execution_count": null,
   "id": "e012bdfe-86b5-4f78-97c0-07bcf9308884",
   "metadata": {
    "scrolled": true
   },
   "outputs": [],
   "source": []
  },
  {
   "cell_type": "code",
   "execution_count": 12,
   "id": "422e524b-8c8a-4490-bce7-6a9657c6eb31",
   "metadata": {
    "execution": {
     "iopub.execute_input": "2023-06-28T09:40:37.807483Z",
     "iopub.status.busy": "2023-06-28T09:40:37.806656Z",
     "iopub.status.idle": "2023-06-28T09:40:53.348366Z",
     "shell.execute_reply": "2023-06-28T09:40:53.347375Z",
     "shell.execute_reply.started": "2023-06-28T09:40:37.807444Z"
    },
    "scrolled": true,
    "tags": []
   },
   "outputs": [],
   "source": [
    "t1_pos_neglect_id = set([_k for _k, _v in t1_pos_id_cnt.items() if _v <= 1])\n",
    "t1_neg_neglect_id = set([_k for _k, _v in t1_neg_id_cnt.items() if _v <= 2])\n",
    "\n",
    "t1_neglect_id = t1_pos_neglect_id.union(t1_neg_neglect_id)\n",
    "\n",
    "del t1_pos_neglect_id, t1_neg_neglect_id"
   ]
  },
  {
   "cell_type": "code",
   "execution_count": 13,
   "id": "0d5b8556-e984-4914-9b07-8540bd73fe18",
   "metadata": {
    "execution": {
     "iopub.execute_input": "2023-06-28T09:40:54.863168Z",
     "iopub.status.busy": "2023-06-28T09:40:54.862122Z",
     "iopub.status.idle": "2023-06-28T09:40:54.867777Z",
     "shell.execute_reply": "2023-06-28T09:40:54.867124Z",
     "shell.execute_reply.started": "2023-06-28T09:40:54.863126Z"
    },
    "scrolled": true,
    "tags": []
   },
   "outputs": [
    {
     "data": {
      "text/plain": [
       "26626164"
      ]
     },
     "execution_count": 13,
     "metadata": {},
     "output_type": "execute_result"
    }
   ],
   "source": [
    "len(t1_neglect_id)"
   ]
  },
  {
   "cell_type": "code",
   "execution_count": 14,
   "id": "306b726b-aa73-4284-8ef5-544ab3c28665",
   "metadata": {
    "execution": {
     "iopub.execute_input": "2023-06-28T09:41:00.956898Z",
     "iopub.status.busy": "2023-06-28T09:41:00.956312Z",
     "iopub.status.idle": "2023-06-28T09:41:00.962282Z",
     "shell.execute_reply": "2023-06-28T09:41:00.961586Z",
     "shell.execute_reply.started": "2023-06-28T09:41:00.956861Z"
    },
    "scrolled": true,
    "tags": []
   },
   "outputs": [
    {
     "data": {
      "text/plain": [
       "['test_t1.txt']"
      ]
     },
     "execution_count": 14,
     "metadata": {},
     "output_type": "execute_result"
    }
   ],
   "source": [
    "test_t1_folder = \"../../work_data/data204194/test_t1\"\n",
    "test_t1_file_ls = os.listdir(test_t1_folder)\n",
    "\n",
    "test_t1_file_ls"
   ]
  },
  {
   "cell_type": "code",
   "execution_count": 15,
   "id": "66642e39-4eca-4baf-a00e-2d4b53bb61c5",
   "metadata": {
    "execution": {
     "iopub.execute_input": "2023-06-28T09:41:07.721264Z",
     "iopub.status.busy": "2023-06-28T09:41:07.720243Z",
     "iopub.status.idle": "2023-06-28T09:41:11.560843Z",
     "shell.execute_reply": "2023-06-28T09:41:11.559948Z",
     "shell.execute_reply.started": "2023-06-28T09:41:07.721211Z"
    },
    "scrolled": true,
    "tags": []
   },
   "outputs": [],
   "source": [
    "test1_id = {}\n",
    "\n",
    "\n",
    "for _file in test_t1_file_ls:\n",
    "    with open(os.path.join(test_t1_folder, _file), \"r\") as f:\n",
    "        for line in f:\n",
    "            items = line.strip().split(\"\\t\")\n",
    "            conv1 = items[1]\n",
    "            features = items[4]\n",
    "\n",
    "            feature_ls = features.split(\" \")\n",
    "\n",
    "            for feature in feature_ls:\n",
    "                _value, _key = feature.split(\":\")\n",
    "\n",
    "                if _key not in test1_id:\n",
    "                    test1_id[_key] = set()\n",
    "\n",
    "                test1_id[_key].add(_value)"
   ]
  },
  {
   "cell_type": "code",
   "execution_count": null,
   "id": "abc05d38-b87f-4163-a95d-313a77548349",
   "metadata": {
    "scrolled": true
   },
   "outputs": [],
   "source": []
  },
  {
   "cell_type": "code",
   "execution_count": 16,
   "id": "54b1abbb-8cd6-4f57-ab53-c6fb4fc62f78",
   "metadata": {
    "execution": {
     "iopub.execute_input": "2023-06-28T09:41:15.212937Z",
     "iopub.status.busy": "2023-06-28T09:41:15.211867Z",
     "iopub.status.idle": "2023-06-28T09:41:50.089006Z",
     "shell.execute_reply": "2023-06-28T09:41:50.088139Z",
     "shell.execute_reply.started": "2023-06-28T09:41:15.212896Z"
    },
    "scrolled": true,
    "tags": []
   },
   "outputs": [],
   "source": [
    "test1_guess = {}\n",
    "\n",
    "for _file in test_t1_file_ls:\n",
    "    with open(os.path.join(test_t1_folder, _file), \"r\") as f:\n",
    "        for idx, line in enumerate(f):\n",
    "            test1_guess[idx] = []\n",
    "\n",
    "            items = line.strip().split(\"\\t\")\n",
    "            conv1 = items[1]\n",
    "            features = items[4]\n",
    "\n",
    "            feature_ls = features.split(\" \")\n",
    "\n",
    "            for feature in feature_ls:\n",
    "                _value, _key = feature.split(\":\")\n",
    "\n",
    "                if _value in t1_pos_unique[_key] and _value not in t1_neglect_id:\n",
    "                    test1_guess[idx].append(1)\n",
    "                \n",
    "                if _value in t1_neg_unique[_key] and _value not in t1_neglect_id:\n",
    "                    test1_guess[idx].append(0)"
   ]
  },
  {
   "cell_type": "code",
   "execution_count": 17,
   "id": "0c9d98d9-0912-4e3e-9141-e643fd2b3e0f",
   "metadata": {
    "execution": {
     "iopub.execute_input": "2023-06-28T09:42:04.770916Z",
     "iopub.status.busy": "2023-06-28T09:42:04.769859Z",
     "iopub.status.idle": "2023-06-28T09:42:04.813497Z",
     "shell.execute_reply": "2023-06-28T09:42:04.812695Z",
     "shell.execute_reply.started": "2023-06-28T09:42:04.770876Z"
    },
    "scrolled": true,
    "tags": []
   },
   "outputs": [],
   "source": [
    "test1_guess_cnt = {0: 0, 1: 0, 2: 0}\n",
    "\n",
    "for _k, _v in test1_guess.items():\n",
    "    curr_len = len(set(_v))\n",
    "    test1_guess_cnt[curr_len] += 1"
   ]
  },
  {
   "cell_type": "code",
   "execution_count": 18,
   "id": "7b810fc4-9cea-4d77-ac54-20abdc13a0db",
   "metadata": {
    "execution": {
     "iopub.execute_input": "2023-06-28T09:42:05.695738Z",
     "iopub.status.busy": "2023-06-28T09:42:05.694696Z",
     "iopub.status.idle": "2023-06-28T09:42:05.700024Z",
     "shell.execute_reply": "2023-06-28T09:42:05.699360Z",
     "shell.execute_reply.started": "2023-06-28T09:42:05.695690Z"
    },
    "scrolled": true,
    "tags": []
   },
   "outputs": [
    {
     "data": {
      "text/plain": [
       "{0: 7126, 1: 72565, 2: 692}"
      ]
     },
     "execution_count": 18,
     "metadata": {},
     "output_type": "execute_result"
    }
   ],
   "source": [
    "test1_guess_cnt"
   ]
  },
  {
   "cell_type": "code",
   "execution_count": 19,
   "id": "1bb9935e-de6e-4ef3-87c6-85b0a727416f",
   "metadata": {
    "execution": {
     "iopub.execute_input": "2023-06-28T09:43:20.981090Z",
     "iopub.status.busy": "2023-06-28T09:43:20.979989Z",
     "iopub.status.idle": "2023-06-28T09:43:21.024493Z",
     "shell.execute_reply": "2023-06-28T09:43:21.023768Z",
     "shell.execute_reply.started": "2023-06-28T09:43:20.981045Z"
    },
    "scrolled": true,
    "tags": []
   },
   "outputs": [],
   "source": [
    "test1_guess_len = {}\n",
    "\n",
    "for _k, _v in test1_guess.items():\n",
    "    curr_len = len(_v)\n",
    "    curr_len_cnt = test1_guess_len.get(curr_len, 0)\n",
    "\n",
    "    test1_guess_len.update({curr_len: curr_len_cnt + 1})"
   ]
  },
  {
   "cell_type": "code",
   "execution_count": 20,
   "id": "d40baaf6-27ef-4cb8-8a7c-61fb53180414",
   "metadata": {
    "execution": {
     "iopub.execute_input": "2023-06-28T09:43:23.113449Z",
     "iopub.status.busy": "2023-06-28T09:43:23.112373Z",
     "iopub.status.idle": "2023-06-28T09:43:23.119046Z",
     "shell.execute_reply": "2023-06-28T09:43:23.118395Z",
     "shell.execute_reply.started": "2023-06-28T09:43:23.113407Z"
    },
    "scrolled": true,
    "tags": []
   },
   "outputs": [
    {
     "data": {
      "text/plain": [
       "{0: 7126,\n",
       " 1: 6026,\n",
       " 2: 7583,\n",
       " 3: 7148,\n",
       " 4: 7327,\n",
       " 5: 6553,\n",
       " 6: 6248,\n",
       " 7: 5261,\n",
       " 8: 4701,\n",
       " 9: 3934,\n",
       " 10: 3377,\n",
       " 11: 2655,\n",
       " 12: 2139,\n",
       " 13: 1815,\n",
       " 14: 1481,\n",
       " 15: 1156,\n",
       " 16: 1024,\n",
       " 17: 822,\n",
       " 18: 640,\n",
       " 19: 529,\n",
       " 20: 479,\n",
       " 21: 352,\n",
       " 22: 302,\n",
       " 23: 260,\n",
       " 24: 226,\n",
       " 25: 176,\n",
       " 26: 170,\n",
       " 27: 126,\n",
       " 28: 131,\n",
       " 29: 111,\n",
       " 30: 89,\n",
       " 31: 70,\n",
       " 32: 67,\n",
       " 33: 52,\n",
       " 34: 58,\n",
       " 35: 39,\n",
       " 36: 41,\n",
       " 37: 21,\n",
       " 38: 16,\n",
       " 39: 18,\n",
       " 40: 10,\n",
       " 41: 7,\n",
       " 42: 8,\n",
       " 43: 5,\n",
       " 44: 2,\n",
       " 45: 2}"
      ]
     },
     "execution_count": 20,
     "metadata": {},
     "output_type": "execute_result"
    }
   ],
   "source": [
    "dict(sorted(test1_guess_len.items()))"
   ]
  },
  {
   "cell_type": "code",
   "execution_count": 21,
   "id": "40730e7f-c38c-4aa1-a269-a6995e76d981",
   "metadata": {
    "execution": {
     "iopub.execute_input": "2023-06-28T09:43:32.523586Z",
     "iopub.status.busy": "2023-06-28T09:43:32.522974Z",
     "iopub.status.idle": "2023-06-28T09:43:47.288226Z",
     "shell.execute_reply": "2023-06-28T09:43:47.287331Z",
     "shell.execute_reply.started": "2023-06-28T09:43:32.523544Z"
    },
    "scrolled": true,
    "tags": []
   },
   "outputs": [
    {
     "data": {
      "text/plain": [
       "['../cheat/t1/test1_guess.pkl']"
      ]
     },
     "execution_count": 21,
     "metadata": {},
     "output_type": "execute_result"
    }
   ],
   "source": [
    "joblib.dump(test1_guess, \"../cheat/t1/test1_guess.pkl\")"
   ]
  },
  {
   "cell_type": "code",
   "execution_count": null,
   "id": "4b715d25-26f1-4f78-afe4-3b43fab92418",
   "metadata": {
    "scrolled": true
   },
   "outputs": [],
   "source": []
  },
  {
   "cell_type": "markdown",
   "id": "0feb1911-8de5-420a-bae7-0ad4685bb198",
   "metadata": {},
   "source": [
    "# 探索转化类型2"
   ]
  },
  {
   "cell_type": "code",
   "execution_count": 22,
   "id": "0ee3e976-0ddb-4a10-b0cc-4b6932fd39d1",
   "metadata": {
    "execution": {
     "iopub.execute_input": "2023-06-28T09:44:56.177820Z",
     "iopub.status.busy": "2023-06-28T09:44:56.176462Z",
     "iopub.status.idle": "2023-06-28T09:44:56.182718Z",
     "shell.execute_reply": "2023-06-28T09:44:56.182061Z",
     "shell.execute_reply.started": "2023-06-28T09:44:56.177776Z"
    },
    "scrolled": true,
    "tags": []
   },
   "outputs": [
    {
     "data": {
      "text/plain": [
       "['file_t2.txt']"
      ]
     },
     "execution_count": 22,
     "metadata": {},
     "output_type": "execute_result"
    }
   ],
   "source": [
    "train_t2_folder = \"../../work_data/data205411/2023-cvr-contest-data/train_t2\"\n",
    "train_t2_file_ls = os.listdir(train_t2_folder)\n",
    "\n",
    "train_t2_file_ls"
   ]
  },
  {
   "cell_type": "code",
   "execution_count": 23,
   "id": "b667acfb-53da-4ad3-a88a-5564eb976174",
   "metadata": {
    "execution": {
     "iopub.execute_input": "2023-06-28T09:45:02.139801Z",
     "iopub.status.busy": "2023-06-28T09:45:02.139088Z",
     "iopub.status.idle": "2023-06-28T09:46:57.885437Z",
     "shell.execute_reply": "2023-06-28T09:46:57.884510Z",
     "shell.execute_reply.started": "2023-06-28T09:45:02.139759Z"
    },
    "scrolled": true,
    "tags": []
   },
   "outputs": [],
   "source": [
    "t2_pos_id = {}\n",
    "t2_neg_id = {}\n",
    "\n",
    "\n",
    "for _file in train_t2_file_ls:\n",
    "    with open(os.path.join(train_t2_folder, _file), \"r\") as f:\n",
    "        for line in f:\n",
    "            items = line.strip().split(\"\\t\")\n",
    "            conv = items[2]\n",
    "            features = items[4]\n",
    "\n",
    "            if conv == \"0\":\n",
    "                curr_t2 = t2_neg_id\n",
    "            elif conv == \"1\":\n",
    "                curr_t2 = t2_pos_id\n",
    "\n",
    "            feature_ls = features.split(\" \")\n",
    "\n",
    "            for feature in feature_ls:\n",
    "                _value, _key = feature.split(\":\")\n",
    "\n",
    "                if _key not in curr_t2:\n",
    "                    curr_t2[_key] = set()\n",
    "\n",
    "                curr_t2[_key].add(_value)"
   ]
  },
  {
   "cell_type": "code",
   "execution_count": 24,
   "id": "53c177bf-5b89-4268-a8cb-5c3908209487",
   "metadata": {
    "execution": {
     "iopub.execute_input": "2023-06-28T09:47:10.303129Z",
     "iopub.status.busy": "2023-06-28T09:47:10.302440Z",
     "iopub.status.idle": "2023-06-28T09:47:18.460210Z",
     "shell.execute_reply": "2023-06-28T09:47:18.459075Z",
     "shell.execute_reply.started": "2023-06-28T09:47:10.303093Z"
    },
    "scrolled": true,
    "tags": []
   },
   "outputs": [],
   "source": [
    "t2_intersections = {}\n",
    "t2_pos_unique = {}\n",
    "t2_neg_unique = {}\n",
    "\n",
    "for _k, _v in t2_pos_id.items():\n",
    "    if _k not in t2_intersections:\n",
    "        t2_intersections[_k] = set()\n",
    "\n",
    "    if _k not in t2_pos_unique:\n",
    "        t2_pos_unique[_k] = set()\n",
    "\n",
    "    if _k not in t2_neg_unique:\n",
    "        t2_neg_unique[_k] = set()\n",
    "\n",
    "    curr_intersection = t2_pos_id[_k].intersection(t2_neg_id[_k])\n",
    "    t2_intersections[_k].update(curr_intersection)\n",
    "\n",
    "    curr_pos_unique = t2_pos_id[_k] - curr_intersection\n",
    "    t2_pos_unique[_k].update(curr_pos_unique)\n",
    "\n",
    "    curr_neg_unique = t2_neg_id[_k] - curr_intersection\n",
    "    t2_neg_unique[_k].update(curr_neg_unique)"
   ]
  },
  {
   "cell_type": "code",
   "execution_count": 25,
   "id": "40bf3891-5291-4cf6-8ab6-767b1b6890de",
   "metadata": {
    "execution": {
     "iopub.execute_input": "2023-06-28T09:47:29.016707Z",
     "iopub.status.busy": "2023-06-28T09:47:29.015992Z",
     "iopub.status.idle": "2023-06-28T09:47:29.026229Z",
     "shell.execute_reply": "2023-06-28T09:47:29.025184Z",
     "shell.execute_reply.started": "2023-06-28T09:47:29.016666Z"
    },
    "scrolled": true,
    "tags": []
   },
   "outputs": [
    {
     "name": "stdout",
     "output_type": "stream",
     "text": [
      "[1]: [pos]:7, [neg]:7, [inter]:7, [only in pos]:0, [only in neg]:0\n",
      "[2]: [pos]:3, [neg]:3, [inter]:3, [only in pos]:0, [only in neg]:0\n",
      "[3]: [pos]:231537, [neg]:1889719, [inter]:5751, [only in pos]:225786, [only in neg]:1883968\n",
      "[4]: [pos]:188719, [neg]:1343242, [inter]:23112, [only in pos]:165607, [only in neg]:1320130\n",
      "[5]: [pos]:4, [neg]:4, [inter]:4, [only in pos]:0, [only in neg]:0\n",
      "[6]: [pos]:3, [neg]:3, [inter]:3, [only in pos]:0, [only in neg]:0\n",
      "[7]: [pos]:6, [neg]:6, [inter]:6, [only in pos]:0, [only in neg]:0\n",
      "[8]: [pos]:6, [neg]:6, [inter]:6, [only in pos]:0, [only in neg]:0\n",
      "[9]: [pos]:2, [neg]:2, [inter]:2, [only in pos]:0, [only in neg]:0\n",
      "[10]: [pos]:423630, [neg]:1281774, [inter]:344417, [only in pos]:79213, [only in neg]:937357\n",
      "[11]: [pos]:37, [neg]:37, [inter]:37, [only in pos]:0, [only in neg]:0\n",
      "[13]: [pos]:24, [neg]:24, [inter]:24, [only in pos]:0, [only in neg]:0\n",
      "[14]: [pos]:2, [neg]:2, [inter]:2, [only in pos]:0, [only in neg]:0\n",
      "[15]: [pos]:205, [neg]:389, [inter]:196, [only in pos]:9, [only in neg]:193\n",
      "[16]: [pos]:1, [neg]:1, [inter]:1, [only in pos]:0, [only in neg]:0\n",
      "[17]: [pos]:684645, [neg]:2675059, [inter]:415298, [only in pos]:269347, [only in neg]:2259761\n",
      "[18]: [pos]:192892, [neg]:533357, [inter]:151860, [only in pos]:41032, [only in neg]:381497\n",
      "[19]: [pos]:34573, [neg]:92524, [inter]:30659, [only in pos]:3914, [only in neg]:61865\n",
      "[20]: [pos]:9344, [neg]:13420, [inter]:9262, [only in pos]:82, [only in neg]:4158\n",
      "[21]: [pos]:5, [neg]:5, [inter]:5, [only in pos]:0, [only in neg]:0\n",
      "[22]: [pos]:1902807, [neg]:11588321, [inter]:794174, [only in pos]:1108633, [only in neg]:10794147\n",
      "[23]: [pos]:34409, [neg]:96838, [inter]:29873, [only in pos]:4536, [only in neg]:66965\n",
      "[24]: [pos]:260, [neg]:284, [inter]:260, [only in pos]:0, [only in neg]:24\n",
      "[26]: [pos]:790, [neg]:1604, [inter]:785, [only in pos]:5, [only in neg]:819\n",
      "[25]: [pos]:135, [neg]:395, [inter]:135, [only in pos]:0, [only in neg]:260\n"
     ]
    }
   ],
   "source": [
    "for _k, _v in t2_intersections.items():\n",
    "    print(f\"[{_k}]: [pos]:{len(t2_pos_id[_k])}, [neg]:{len(t2_neg_id[_k])}, [inter]:{len(_v)}, [only in pos]:{len(t2_pos_unique[_k])}, [only in neg]:{len(t2_neg_unique[_k])}\")"
   ]
  },
  {
   "cell_type": "code",
   "execution_count": null,
   "id": "b6d0e998-1ba7-4990-8df6-cef5f7ae0b0c",
   "metadata": {
    "scrolled": true
   },
   "outputs": [],
   "source": []
  },
  {
   "cell_type": "code",
   "execution_count": 26,
   "id": "73386bd6-fccb-46dd-9a0f-40720c0c44c0",
   "metadata": {
    "execution": {
     "iopub.execute_input": "2023-06-28T09:47:34.644616Z",
     "iopub.status.busy": "2023-06-28T09:47:34.643930Z",
     "iopub.status.idle": "2023-06-28T09:50:25.723980Z",
     "shell.execute_reply": "2023-06-28T09:50:25.723047Z",
     "shell.execute_reply.started": "2023-06-28T09:47:34.644575Z"
    },
    "scrolled": true,
    "tags": []
   },
   "outputs": [],
   "source": [
    "t2_pos_id_cnt = {}\n",
    "t2_neg_id_cnt = {}\n",
    "\n",
    "for _file in train_t2_file_ls:\n",
    "    with open(os.path.join(train_t2_folder, _file), \"r\") as f:\n",
    "        for line in f:\n",
    "            items = line.strip().split(\"\\t\")\n",
    "            conv = items[2]\n",
    "            features = items[4]\n",
    "\n",
    "            if conv == \"0\":\n",
    "                curr_t2 = t2_neg_id_cnt\n",
    "            elif conv == \"1\":\n",
    "                curr_t2 = t2_pos_id_cnt\n",
    "\n",
    "            feature_ls = features.split(\" \")\n",
    "\n",
    "            for feature in feature_ls:\n",
    "                _value, _key = feature.split(\":\")\n",
    "\n",
    "                cnt = curr_t2.get(_value, 0)\n",
    "                curr_t2.update({_value: cnt + 1})"
   ]
  },
  {
   "cell_type": "code",
   "execution_count": 27,
   "id": "00de2d42-309d-40e9-9450-cf2d01a8d365",
   "metadata": {
    "execution": {
     "iopub.execute_input": "2023-06-28T09:50:36.437657Z",
     "iopub.status.busy": "2023-06-28T09:50:36.436592Z",
     "iopub.status.idle": "2023-06-28T09:50:38.141225Z",
     "shell.execute_reply": "2023-06-28T09:50:38.140298Z",
     "shell.execute_reply.started": "2023-06-28T09:50:36.437619Z"
    },
    "scrolled": true,
    "tags": []
   },
   "outputs": [],
   "source": [
    "t2_pos_id_cnt_freq = {}\n",
    "\n",
    "for _k, _v in t2_pos_id_cnt.items():\n",
    "    cnt = t2_pos_id_cnt_freq.get(_v, 0)\n",
    "    t2_pos_id_cnt_freq.update({_v: cnt + 1})"
   ]
  },
  {
   "cell_type": "code",
   "execution_count": 28,
   "id": "66b1e7e9-45a2-4923-9cf6-6fc3f9854df3",
   "metadata": {
    "execution": {
     "iopub.execute_input": "2023-06-28T09:50:40.554542Z",
     "iopub.status.busy": "2023-06-28T09:50:40.553522Z",
     "iopub.status.idle": "2023-06-28T09:50:40.574957Z",
     "shell.execute_reply": "2023-06-28T09:50:40.574277Z",
     "shell.execute_reply.started": "2023-06-28T09:50:40.554505Z"
    },
    "scrolled": true,
    "tags": []
   },
   "outputs": [
    {
     "data": {
      "text/html": [
       "<div>\n",
       "<style scoped>\n",
       "    .dataframe tbody tr th:only-of-type {\n",
       "        vertical-align: middle;\n",
       "    }\n",
       "\n",
       "    .dataframe tbody tr th {\n",
       "        vertical-align: top;\n",
       "    }\n",
       "\n",
       "    .dataframe thead th {\n",
       "        text-align: right;\n",
       "    }\n",
       "</style>\n",
       "<table border=\"1\" class=\"dataframe\">\n",
       "  <thead>\n",
       "    <tr style=\"text-align: right;\">\n",
       "      <th></th>\n",
       "      <th>cnt</th>\n",
       "      <th>freq</th>\n",
       "      <th>sum_freq</th>\n",
       "      <th>cum_freq</th>\n",
       "      <th>cum_pct</th>\n",
       "    </tr>\n",
       "  </thead>\n",
       "  <tbody>\n",
       "    <tr>\n",
       "      <th>0</th>\n",
       "      <td>1</td>\n",
       "      <td>2938497</td>\n",
       "      <td>3704046</td>\n",
       "      <td>2938497</td>\n",
       "      <td>0.793321</td>\n",
       "    </tr>\n",
       "    <tr>\n",
       "      <th>1</th>\n",
       "      <td>2</td>\n",
       "      <td>335306</td>\n",
       "      <td>3704046</td>\n",
       "      <td>3273803</td>\n",
       "      <td>0.883845</td>\n",
       "    </tr>\n",
       "    <tr>\n",
       "      <th>2</th>\n",
       "      <td>3</td>\n",
       "      <td>129618</td>\n",
       "      <td>3704046</td>\n",
       "      <td>3403421</td>\n",
       "      <td>0.918839</td>\n",
       "    </tr>\n",
       "    <tr>\n",
       "      <th>3</th>\n",
       "      <td>4</td>\n",
       "      <td>69954</td>\n",
       "      <td>3704046</td>\n",
       "      <td>3473375</td>\n",
       "      <td>0.937725</td>\n",
       "    </tr>\n",
       "    <tr>\n",
       "      <th>4</th>\n",
       "      <td>5</td>\n",
       "      <td>43523</td>\n",
       "      <td>3704046</td>\n",
       "      <td>3516898</td>\n",
       "      <td>0.949475</td>\n",
       "    </tr>\n",
       "    <tr>\n",
       "      <th>...</th>\n",
       "      <td>...</td>\n",
       "      <td>...</td>\n",
       "      <td>...</td>\n",
       "      <td>...</td>\n",
       "      <td>...</td>\n",
       "    </tr>\n",
       "    <tr>\n",
       "      <th>1443</th>\n",
       "      <td>186632</td>\n",
       "      <td>1</td>\n",
       "      <td>3704046</td>\n",
       "      <td>3704042</td>\n",
       "      <td>0.999999</td>\n",
       "    </tr>\n",
       "    <tr>\n",
       "      <th>1444</th>\n",
       "      <td>189759</td>\n",
       "      <td>1</td>\n",
       "      <td>3704046</td>\n",
       "      <td>3704043</td>\n",
       "      <td>0.999999</td>\n",
       "    </tr>\n",
       "    <tr>\n",
       "      <th>1445</th>\n",
       "      <td>219579</td>\n",
       "      <td>1</td>\n",
       "      <td>3704046</td>\n",
       "      <td>3704044</td>\n",
       "      <td>0.999999</td>\n",
       "    </tr>\n",
       "    <tr>\n",
       "      <th>1446</th>\n",
       "      <td>230720</td>\n",
       "      <td>1</td>\n",
       "      <td>3704046</td>\n",
       "      <td>3704045</td>\n",
       "      <td>1.000000</td>\n",
       "    </tr>\n",
       "    <tr>\n",
       "      <th>1447</th>\n",
       "      <td>232199</td>\n",
       "      <td>1</td>\n",
       "      <td>3704046</td>\n",
       "      <td>3704046</td>\n",
       "      <td>1.000000</td>\n",
       "    </tr>\n",
       "  </tbody>\n",
       "</table>\n",
       "<p>1448 rows × 5 columns</p>\n",
       "</div>"
      ],
      "text/plain": [
       "         cnt     freq  sum_freq  cum_freq   cum_pct\n",
       "0          1  2938497   3704046   2938497  0.793321\n",
       "1          2   335306   3704046   3273803  0.883845\n",
       "2          3   129618   3704046   3403421  0.918839\n",
       "3          4    69954   3704046   3473375  0.937725\n",
       "4          5    43523   3704046   3516898  0.949475\n",
       "...      ...      ...       ...       ...       ...\n",
       "1443  186632        1   3704046   3704042  0.999999\n",
       "1444  189759        1   3704046   3704043  0.999999\n",
       "1445  219579        1   3704046   3704044  0.999999\n",
       "1446  230720        1   3704046   3704045  1.000000\n",
       "1447  232199        1   3704046   3704046  1.000000\n",
       "\n",
       "[1448 rows x 5 columns]"
      ]
     },
     "execution_count": 28,
     "metadata": {},
     "output_type": "execute_result"
    }
   ],
   "source": [
    "tmp = dict(sorted(t2_pos_id_cnt_freq.items()))\n",
    "\n",
    "tmp_df = pd.DataFrame()\n",
    "tmp_df[\"cnt\"] = list(tmp.keys())\n",
    "tmp_df[\"freq\"] = list(tmp.values())\n",
    "\n",
    "tmp_df[\"sum_freq\"] = tmp_df[\"freq\"].sum()\n",
    "tmp_df[\"cum_freq\"] = tmp_df[\"freq\"].cumsum()\n",
    "\n",
    "tmp_df[\"cum_pct\"] = tmp_df[\"cum_freq\"] / tmp_df[\"sum_freq\"]\n",
    "\n",
    "tmp_df"
   ]
  },
  {
   "cell_type": "code",
   "execution_count": null,
   "id": "11269c59-5b67-4155-b870-33ae23f6f3a0",
   "metadata": {
    "scrolled": true
   },
   "outputs": [],
   "source": []
  },
  {
   "cell_type": "code",
   "execution_count": 29,
   "id": "4db980c8-6092-48b2-b3fc-750c8a576732",
   "metadata": {
    "execution": {
     "iopub.execute_input": "2023-06-28T09:50:43.609880Z",
     "iopub.status.busy": "2023-06-28T09:50:43.609272Z",
     "iopub.status.idle": "2023-06-28T09:50:52.195175Z",
     "shell.execute_reply": "2023-06-28T09:50:52.194232Z",
     "shell.execute_reply.started": "2023-06-28T09:50:43.609844Z"
    },
    "scrolled": true,
    "tags": []
   },
   "outputs": [],
   "source": [
    "t2_neg_id_cnt_freq = {}\n",
    "\n",
    "for _k, _v in t2_neg_id_cnt.items():\n",
    "    cnt = t2_neg_id_cnt_freq.get(_v, 0)\n",
    "    t2_neg_id_cnt_freq.update({_v: cnt + 1})"
   ]
  },
  {
   "cell_type": "code",
   "execution_count": 30,
   "id": "e1011b71-2a35-42b4-9d99-de7d7af0fcb7",
   "metadata": {
    "execution": {
     "iopub.execute_input": "2023-06-28T09:50:54.789962Z",
     "iopub.status.busy": "2023-06-28T09:50:54.788911Z",
     "iopub.status.idle": "2023-06-28T09:51:01.510041Z",
     "shell.execute_reply": "2023-06-28T09:51:01.508809Z",
     "shell.execute_reply.started": "2023-06-28T09:50:54.789921Z"
    },
    "scrolled": true,
    "tags": []
   },
   "outputs": [],
   "source": [
    "tmp = dict(sorted(t2_neg_id_cnt_freq.items()))\n",
    "\n",
    "tmp_df = pd.DataFrame()\n",
    "tmp_df[\"cnt\"] = list(tmp.keys())\n",
    "tmp_df[\"freq\"] = list(tmp.values())\n",
    "\n",
    "tmp_df[\"sum_freq\"] = tmp_df[\"freq\"].sum()\n",
    "tmp_df[\"cum_freq\"] = tmp_df[\"freq\"].cumsum()\n",
    "\n",
    "tmp_df[\"cum_pct\"] = tmp_df[\"cum_freq\"] / tmp_df[\"sum_freq\"]"
   ]
  },
  {
   "cell_type": "code",
   "execution_count": 31,
   "id": "8acf50f5-6675-4674-a7ce-accf4e1f4865",
   "metadata": {
    "execution": {
     "iopub.execute_input": "2023-06-28T09:51:02.771408Z",
     "iopub.status.busy": "2023-06-28T09:51:02.770403Z",
     "iopub.status.idle": "2023-06-28T09:51:02.784723Z",
     "shell.execute_reply": "2023-06-28T09:51:02.783918Z",
     "shell.execute_reply.started": "2023-06-28T09:51:02.771372Z"
    },
    "scrolled": true,
    "tags": []
   },
   "outputs": [
    {
     "data": {
      "text/html": [
       "<div>\n",
       "<style scoped>\n",
       "    .dataframe tbody tr th:only-of-type {\n",
       "        vertical-align: middle;\n",
       "    }\n",
       "\n",
       "    .dataframe tbody tr th {\n",
       "        vertical-align: top;\n",
       "    }\n",
       "\n",
       "    .dataframe thead th {\n",
       "        text-align: right;\n",
       "    }\n",
       "</style>\n",
       "<table border=\"1\" class=\"dataframe\">\n",
       "  <thead>\n",
       "    <tr style=\"text-align: right;\">\n",
       "      <th></th>\n",
       "      <th>cnt</th>\n",
       "      <th>freq</th>\n",
       "      <th>sum_freq</th>\n",
       "      <th>cum_freq</th>\n",
       "      <th>cum_pct</th>\n",
       "    </tr>\n",
       "  </thead>\n",
       "  <tbody>\n",
       "    <tr>\n",
       "      <th>0</th>\n",
       "      <td>1</td>\n",
       "      <td>14877231</td>\n",
       "      <td>19517026</td>\n",
       "      <td>14877231</td>\n",
       "      <td>0.762269</td>\n",
       "    </tr>\n",
       "    <tr>\n",
       "      <th>1</th>\n",
       "      <td>2</td>\n",
       "      <td>1957483</td>\n",
       "      <td>19517026</td>\n",
       "      <td>16834714</td>\n",
       "      <td>0.862566</td>\n",
       "    </tr>\n",
       "    <tr>\n",
       "      <th>2</th>\n",
       "      <td>3</td>\n",
       "      <td>749825</td>\n",
       "      <td>19517026</td>\n",
       "      <td>17584539</td>\n",
       "      <td>0.900985</td>\n",
       "    </tr>\n",
       "    <tr>\n",
       "      <th>3</th>\n",
       "      <td>4</td>\n",
       "      <td>405555</td>\n",
       "      <td>19517026</td>\n",
       "      <td>17990094</td>\n",
       "      <td>0.921764</td>\n",
       "    </tr>\n",
       "    <tr>\n",
       "      <th>4</th>\n",
       "      <td>5</td>\n",
       "      <td>256938</td>\n",
       "      <td>19517026</td>\n",
       "      <td>18247032</td>\n",
       "      <td>0.934929</td>\n",
       "    </tr>\n",
       "    <tr>\n",
       "      <th>...</th>\n",
       "      <td>...</td>\n",
       "      <td>...</td>\n",
       "      <td>...</td>\n",
       "      <td>...</td>\n",
       "      <td>...</td>\n",
       "    </tr>\n",
       "    <tr>\n",
       "      <th>4305</th>\n",
       "      <td>1649642</td>\n",
       "      <td>1</td>\n",
       "      <td>19517026</td>\n",
       "      <td>19517022</td>\n",
       "      <td>1.000000</td>\n",
       "    </tr>\n",
       "    <tr>\n",
       "      <th>4306</th>\n",
       "      <td>1680991</td>\n",
       "      <td>1</td>\n",
       "      <td>19517026</td>\n",
       "      <td>19517023</td>\n",
       "      <td>1.000000</td>\n",
       "    </tr>\n",
       "    <tr>\n",
       "      <th>4307</th>\n",
       "      <td>1775766</td>\n",
       "      <td>1</td>\n",
       "      <td>19517026</td>\n",
       "      <td>19517024</td>\n",
       "      <td>1.000000</td>\n",
       "    </tr>\n",
       "    <tr>\n",
       "      <th>4308</th>\n",
       "      <td>1936741</td>\n",
       "      <td>1</td>\n",
       "      <td>19517026</td>\n",
       "      <td>19517025</td>\n",
       "      <td>1.000000</td>\n",
       "    </tr>\n",
       "    <tr>\n",
       "      <th>4309</th>\n",
       "      <td>1966348</td>\n",
       "      <td>1</td>\n",
       "      <td>19517026</td>\n",
       "      <td>19517026</td>\n",
       "      <td>1.000000</td>\n",
       "    </tr>\n",
       "  </tbody>\n",
       "</table>\n",
       "<p>4310 rows × 5 columns</p>\n",
       "</div>"
      ],
      "text/plain": [
       "          cnt      freq  sum_freq  cum_freq   cum_pct\n",
       "0           1  14877231  19517026  14877231  0.762269\n",
       "1           2   1957483  19517026  16834714  0.862566\n",
       "2           3    749825  19517026  17584539  0.900985\n",
       "3           4    405555  19517026  17990094  0.921764\n",
       "4           5    256938  19517026  18247032  0.934929\n",
       "...       ...       ...       ...       ...       ...\n",
       "4305  1649642         1  19517026  19517022  1.000000\n",
       "4306  1680991         1  19517026  19517023  1.000000\n",
       "4307  1775766         1  19517026  19517024  1.000000\n",
       "4308  1936741         1  19517026  19517025  1.000000\n",
       "4309  1966348         1  19517026  19517026  1.000000\n",
       "\n",
       "[4310 rows x 5 columns]"
      ]
     },
     "execution_count": 31,
     "metadata": {},
     "output_type": "execute_result"
    }
   ],
   "source": [
    "tmp_df"
   ]
  },
  {
   "cell_type": "code",
   "execution_count": null,
   "id": "57d32bfb-c7c8-4af0-b3d7-b2a899a1da58",
   "metadata": {
    "scrolled": true
   },
   "outputs": [],
   "source": []
  },
  {
   "cell_type": "code",
   "execution_count": 32,
   "id": "be27a2fc-da26-494b-8524-8a7b01c55273",
   "metadata": {
    "execution": {
     "iopub.execute_input": "2023-06-28T09:51:30.047926Z",
     "iopub.status.busy": "2023-06-28T09:51:30.047266Z",
     "iopub.status.idle": "2023-06-28T09:51:40.520442Z",
     "shell.execute_reply": "2023-06-28T09:51:40.519537Z",
     "shell.execute_reply.started": "2023-06-28T09:51:30.047885Z"
    },
    "scrolled": true,
    "tags": []
   },
   "outputs": [],
   "source": [
    "t2_pos_neglect_id = set([_k for _k, _v in t2_pos_id_cnt.items() if _v <= 2])\n",
    "t2_neg_neglect_id = set([_k for _k, _v in t2_neg_id_cnt.items() if _v <= 2])\n",
    "\n",
    "t2_neglect_id = t2_pos_neglect_id.union(t2_neg_neglect_id)\n",
    "\n",
    "del t2_pos_neglect_id, t2_neg_neglect_id"
   ]
  },
  {
   "cell_type": "code",
   "execution_count": 33,
   "id": "96291d4d-fce0-4b8f-b4d9-346c13130fe0",
   "metadata": {
    "execution": {
     "iopub.execute_input": "2023-06-28T09:51:42.542033Z",
     "iopub.status.busy": "2023-06-28T09:51:42.541433Z",
     "iopub.status.idle": "2023-06-28T09:51:42.546976Z",
     "shell.execute_reply": "2023-06-28T09:51:42.546339Z",
     "shell.execute_reply.started": "2023-06-28T09:51:42.541994Z"
    },
    "scrolled": true,
    "tags": []
   },
   "outputs": [
    {
     "data": {
      "text/plain": [
       "19467325"
      ]
     },
     "execution_count": 33,
     "metadata": {},
     "output_type": "execute_result"
    }
   ],
   "source": [
    "len(t2_neglect_id)"
   ]
  },
  {
   "cell_type": "code",
   "execution_count": null,
   "id": "549b05d2-a4c0-4bab-9d20-bff89369d57f",
   "metadata": {
    "scrolled": true
   },
   "outputs": [],
   "source": []
  },
  {
   "cell_type": "code",
   "execution_count": null,
   "id": "4919430e-a97e-41eb-9810-66cc83473346",
   "metadata": {
    "scrolled": true
   },
   "outputs": [],
   "source": []
  },
  {
   "cell_type": "code",
   "execution_count": 34,
   "id": "3c0e4cc6-54f2-4052-b915-3355e4358e95",
   "metadata": {
    "execution": {
     "iopub.execute_input": "2023-06-28T09:52:00.565583Z",
     "iopub.status.busy": "2023-06-28T09:52:00.564481Z",
     "iopub.status.idle": "2023-06-28T09:52:00.570518Z",
     "shell.execute_reply": "2023-06-28T09:52:00.569855Z",
     "shell.execute_reply.started": "2023-06-28T09:52:00.565546Z"
    },
    "scrolled": true,
    "tags": []
   },
   "outputs": [
    {
     "data": {
      "text/plain": [
       "['test_t2.txt']"
      ]
     },
     "execution_count": 34,
     "metadata": {},
     "output_type": "execute_result"
    }
   ],
   "source": [
    "test_t2_folder = \"../../work_data/data204194/test_t2\"\n",
    "test_t2_file_ls = os.listdir(test_t2_folder)\n",
    "\n",
    "test_t2_file_ls"
   ]
  },
  {
   "cell_type": "code",
   "execution_count": 35,
   "id": "168c7015-7d8e-4fa3-b4c9-efa65eff1af8",
   "metadata": {
    "execution": {
     "iopub.execute_input": "2023-06-28T09:52:05.525275Z",
     "iopub.status.busy": "2023-06-28T09:52:05.524674Z",
     "iopub.status.idle": "2023-06-28T09:52:08.659131Z",
     "shell.execute_reply": "2023-06-28T09:52:08.657956Z",
     "shell.execute_reply.started": "2023-06-28T09:52:05.525235Z"
    },
    "scrolled": true,
    "tags": []
   },
   "outputs": [],
   "source": [
    "test2_id = {}\n",
    "\n",
    "for _file in test_t2_file_ls:\n",
    "    with open(os.path.join(test_t2_folder, _file), \"r\") as f:\n",
    "        for line in f:\n",
    "            items = line.strip().split(\"\\t\")\n",
    "            conv = items[2]\n",
    "            features = items[4]\n",
    "\n",
    "            feature_ls = features.split(\" \")\n",
    "\n",
    "            for feature in feature_ls:\n",
    "                _value, _key = feature.split(\":\")\n",
    "\n",
    "                if _key not in test2_id:\n",
    "                    test2_id[_key] = set()\n",
    "\n",
    "                test2_id[_key].add(_value)"
   ]
  },
  {
   "cell_type": "code",
   "execution_count": 37,
   "id": "54487305-13f6-434e-ae73-27691ef8c223",
   "metadata": {
    "execution": {
     "iopub.execute_input": "2023-06-28T09:52:56.560971Z",
     "iopub.status.busy": "2023-06-28T09:52:56.560356Z",
     "iopub.status.idle": "2023-06-28T09:53:00.770289Z",
     "shell.execute_reply": "2023-06-28T09:53:00.769354Z",
     "shell.execute_reply.started": "2023-06-28T09:52:56.560930Z"
    },
    "scrolled": true,
    "tags": []
   },
   "outputs": [],
   "source": [
    "test2_guess = {}\n",
    "\n",
    "for _file in test_t2_file_ls:\n",
    "    with open(os.path.join(test_t2_folder, _file), \"r\") as f:\n",
    "        for idx, line in enumerate(f):\n",
    "            test2_guess[idx] = []\n",
    "\n",
    "            items = line.strip().split(\"\\t\")\n",
    "            conv = items[2]\n",
    "            features = items[4]\n",
    "\n",
    "            feature_ls = features.split(\" \")\n",
    "\n",
    "            for feature in feature_ls:\n",
    "                _value, _key = feature.split(\":\")\n",
    "\n",
    "                if _value in t2_pos_unique[_key] and _value not in t2_neglect_id:\n",
    "                    test2_guess[idx].append(1)\n",
    "                \n",
    "                if _value in t2_neg_unique[_key] and _value not in t2_neglect_id:\n",
    "                    test2_guess[idx].append(0)"
   ]
  },
  {
   "cell_type": "code",
   "execution_count": 38,
   "id": "fb1688e5-33bf-4d9a-9919-4b459aaa093c",
   "metadata": {
    "execution": {
     "iopub.execute_input": "2023-06-28T09:53:12.772527Z",
     "iopub.status.busy": "2023-06-28T09:53:12.771493Z",
     "iopub.status.idle": "2023-06-28T09:53:12.808588Z",
     "shell.execute_reply": "2023-06-28T09:53:12.807770Z",
     "shell.execute_reply.started": "2023-06-28T09:53:12.772488Z"
    },
    "scrolled": true,
    "tags": []
   },
   "outputs": [],
   "source": [
    "test2_guess_cnt = {0: 0, 1: 0, 2: 0}\n",
    "\n",
    "for _k, _v in test2_guess.items():\n",
    "    curr_len = len(set(_v))\n",
    "    test2_guess_cnt[curr_len] += 1"
   ]
  },
  {
   "cell_type": "code",
   "execution_count": 39,
   "id": "f7ba8a62-22ae-4961-a381-980b56bd7256",
   "metadata": {
    "execution": {
     "iopub.execute_input": "2023-06-28T09:53:13.694024Z",
     "iopub.status.busy": "2023-06-28T09:53:13.693431Z",
     "iopub.status.idle": "2023-06-28T09:53:13.698907Z",
     "shell.execute_reply": "2023-06-28T09:53:13.698251Z",
     "shell.execute_reply.started": "2023-06-28T09:53:13.693974Z"
    },
    "scrolled": true,
    "tags": []
   },
   "outputs": [
    {
     "data": {
      "text/plain": [
       "{0: 14325, 1: 55157, 2: 177}"
      ]
     },
     "execution_count": 39,
     "metadata": {},
     "output_type": "execute_result"
    }
   ],
   "source": [
    "test2_guess_cnt"
   ]
  },
  {
   "cell_type": "code",
   "execution_count": 40,
   "id": "c31b11c7-cc43-482d-93a2-ad1134b3ce7d",
   "metadata": {
    "execution": {
     "iopub.execute_input": "2023-06-28T09:53:25.680772Z",
     "iopub.status.busy": "2023-06-28T09:53:25.680190Z",
     "iopub.status.idle": "2023-06-28T09:53:25.706494Z",
     "shell.execute_reply": "2023-06-28T09:53:25.705623Z",
     "shell.execute_reply.started": "2023-06-28T09:53:25.680734Z"
    },
    "scrolled": true,
    "tags": []
   },
   "outputs": [],
   "source": [
    "test2_guess_len = {}\n",
    "\n",
    "for _k, _v in test2_guess.items():\n",
    "    curr_len = len(_v)\n",
    "\n",
    "    if curr_len not in test2_guess_len:\n",
    "        test2_guess_len[curr_len] = 0\n",
    "    \n",
    "    test2_guess_len[curr_len] += 1"
   ]
  },
  {
   "cell_type": "code",
   "execution_count": 42,
   "id": "440b95b7-798c-4cac-ad9d-9188876842b5",
   "metadata": {
    "execution": {
     "iopub.execute_input": "2023-06-28T09:53:39.535687Z",
     "iopub.status.busy": "2023-06-28T09:53:39.535084Z",
     "iopub.status.idle": "2023-06-28T09:54:04.296600Z",
     "shell.execute_reply": "2023-06-28T09:54:04.295747Z",
     "shell.execute_reply.started": "2023-06-28T09:53:39.535651Z"
    },
    "scrolled": true,
    "tags": []
   },
   "outputs": [
    {
     "data": {
      "text/plain": [
       "['../cheat/t2/test2_guess.pkl']"
      ]
     },
     "execution_count": 42,
     "metadata": {},
     "output_type": "execute_result"
    }
   ],
   "source": [
    "joblib.dump(test2_guess, \"../cheat/t2/test2_guess.pkl\")"
   ]
  },
  {
   "cell_type": "code",
   "execution_count": null,
   "id": "c29ef69f-a011-4c9a-b8b8-8c27754d4948",
   "metadata": {
    "scrolled": true
   },
   "outputs": [],
   "source": []
  },
  {
   "cell_type": "markdown",
   "id": "80108305-8357-4256-97f9-27931cca819e",
   "metadata": {},
   "source": [
    "# 探索转化类型3"
   ]
  },
  {
   "cell_type": "code",
   "execution_count": 43,
   "id": "92f10ae2-8700-45d8-92b5-c2ae4e8dba2d",
   "metadata": {
    "execution": {
     "iopub.execute_input": "2023-06-28T09:54:56.832137Z",
     "iopub.status.busy": "2023-06-28T09:54:56.831439Z",
     "iopub.status.idle": "2023-06-28T09:54:56.837742Z",
     "shell.execute_reply": "2023-06-28T09:54:56.836974Z",
     "shell.execute_reply.started": "2023-06-28T09:54:56.832097Z"
    },
    "scrolled": true,
    "tags": []
   },
   "outputs": [
    {
     "data": {
      "text/plain": [
       "['file_t3.txt']"
      ]
     },
     "execution_count": 43,
     "metadata": {},
     "output_type": "execute_result"
    }
   ],
   "source": [
    "train_t3_folder = \"../../work_data/data205411/2023-cvr-contest-data/train_t3\"\n",
    "train_t3_file_ls = os.listdir(train_t3_folder)\n",
    "\n",
    "train_t3_file_ls"
   ]
  },
  {
   "cell_type": "code",
   "execution_count": 44,
   "id": "c814352e-3c10-49ef-9477-0cb72dead468",
   "metadata": {
    "execution": {
     "iopub.execute_input": "2023-06-28T09:55:01.449857Z",
     "iopub.status.busy": "2023-06-28T09:55:01.449110Z",
     "iopub.status.idle": "2023-06-28T09:57:24.992183Z",
     "shell.execute_reply": "2023-06-28T09:57:24.991278Z",
     "shell.execute_reply.started": "2023-06-28T09:55:01.449813Z"
    },
    "scrolled": true,
    "tags": []
   },
   "outputs": [],
   "source": [
    "t3_pos_id = {}\n",
    "t3_neg_id = {}\n",
    "\n",
    "\n",
    "for _file in train_t3_file_ls:\n",
    "    with open(os.path.join(train_t3_folder, _file), \"r\") as f:\n",
    "        for line in f:\n",
    "            items = line.strip().split(\"\\t\")\n",
    "            conv = items[3]\n",
    "            features = items[4]\n",
    "\n",
    "            if conv == \"0\":\n",
    "                curr_t3 = t3_neg_id\n",
    "            elif conv == \"1\":\n",
    "                curr_t3 = t3_pos_id\n",
    "\n",
    "            feature_ls = features.split(\" \")\n",
    "\n",
    "            for feature in feature_ls:\n",
    "                _value, _key = feature.split(\":\")\n",
    "\n",
    "                if _key not in curr_t3:\n",
    "                    curr_t3[_key] = set()\n",
    "\n",
    "                curr_t3[_key].add(_value)"
   ]
  },
  {
   "cell_type": "code",
   "execution_count": 45,
   "id": "b44a0f57-b066-4030-a028-02ee47a9d26a",
   "metadata": {
    "execution": {
     "iopub.execute_input": "2023-06-28T09:57:25.004482Z",
     "iopub.status.busy": "2023-06-28T09:57:25.003992Z",
     "iopub.status.idle": "2023-06-28T09:57:35.461434Z",
     "shell.execute_reply": "2023-06-28T09:57:35.460254Z",
     "shell.execute_reply.started": "2023-06-28T09:57:25.004457Z"
    },
    "scrolled": true,
    "tags": []
   },
   "outputs": [],
   "source": [
    "t3_intersections = {}\n",
    "t3_pos_unique = {}\n",
    "t3_neg_unique = {}\n",
    "\n",
    "for _k, _v in t3_pos_id.items():\n",
    "    if _k not in t3_intersections:\n",
    "        t3_intersections[_k] = set()\n",
    "\n",
    "    if _k not in t3_pos_unique:\n",
    "        t3_pos_unique[_k] = set()\n",
    "\n",
    "    if _k not in t3_neg_unique:\n",
    "        t3_neg_unique[_k] = set()\n",
    "\n",
    "    curr_intersection = t3_pos_id[_k].intersection(t3_neg_id[_k])\n",
    "    t3_intersections[_k].update(curr_intersection)\n",
    "\n",
    "    curr_pos_unique = t3_pos_id[_k] - curr_intersection\n",
    "    t3_pos_unique[_k].update(curr_pos_unique)\n",
    "\n",
    "    curr_neg_unique = t3_neg_id[_k] - curr_intersection\n",
    "    t3_neg_unique[_k].update(curr_neg_unique)"
   ]
  },
  {
   "cell_type": "code",
   "execution_count": 46,
   "id": "6f431185-3914-49b9-86c5-51500f465b68",
   "metadata": {
    "execution": {
     "iopub.execute_input": "2023-06-28T09:57:35.464082Z",
     "iopub.status.busy": "2023-06-28T09:57:35.463578Z",
     "iopub.status.idle": "2023-06-28T09:57:35.473022Z",
     "shell.execute_reply": "2023-06-28T09:57:35.472168Z",
     "shell.execute_reply.started": "2023-06-28T09:57:35.464052Z"
    },
    "scrolled": true,
    "tags": []
   },
   "outputs": [
    {
     "name": "stdout",
     "output_type": "stream",
     "text": [
      "[1]: [pos]:7, [neg]:7, [inter]:7, [only in pos]:0, [only in neg]:0\n",
      "[2]: [pos]:3, [neg]:3, [inter]:3, [only in pos]:0, [only in neg]:0\n",
      "[3]: [pos]:107073, [neg]:2588712, [inter]:4339, [only in pos]:102734, [only in neg]:2584373\n",
      "[4]: [pos]:101817, [neg]:1987662, [inter]:37819, [only in pos]:63998, [only in neg]:1949843\n",
      "[5]: [pos]:4, [neg]:4, [inter]:4, [only in pos]:0, [only in neg]:0\n",
      "[6]: [pos]:3, [neg]:3, [inter]:3, [only in pos]:0, [only in neg]:0\n",
      "[7]: [pos]:6, [neg]:6, [inter]:6, [only in pos]:0, [only in neg]:0\n",
      "[8]: [pos]:6, [neg]:6, [inter]:6, [only in pos]:0, [only in neg]:0\n",
      "[9]: [pos]:2, [neg]:2, [inter]:2, [only in pos]:0, [only in neg]:0\n",
      "[10]: [pos]:352816, [neg]:2555613, [inter]:309134, [only in pos]:43682, [only in neg]:2246479\n",
      "[11]: [pos]:37, [neg]:37, [inter]:37, [only in pos]:0, [only in neg]:0\n",
      "[13]: [pos]:24, [neg]:24, [inter]:24, [only in pos]:0, [only in neg]:0\n",
      "[14]: [pos]:2, [neg]:2, [inter]:2, [only in pos]:0, [only in neg]:0\n",
      "[15]: [pos]:156, [neg]:363, [inter]:151, [only in pos]:5, [only in neg]:212\n",
      "[16]: [pos]:1, [neg]:1, [inter]:1, [only in pos]:0, [only in neg]:0\n",
      "[17]: [pos]:627518, [neg]:7942691, [inter]:409160, [only in pos]:218358, [only in neg]:7533531\n",
      "[19]: [pos]:31737, [neg]:172556, [inter]:29585, [only in pos]:2152, [only in neg]:142971\n",
      "[20]: [pos]:9085, [neg]:14891, [inter]:9040, [only in pos]:45, [only in neg]:5851\n",
      "[21]: [pos]:2, [neg]:2, [inter]:2, [only in pos]:0, [only in neg]:0\n",
      "[22]: [pos]:933342, [neg]:16220298, [inter]:417400, [only in pos]:515942, [only in neg]:15802898\n",
      "[23]: [pos]:23250, [neg]:126463, [inter]:21792, [only in pos]:1458, [only in neg]:104671\n",
      "[24]: [pos]:376, [neg]:410, [inter]:376, [only in pos]:0, [only in neg]:34\n",
      "[25]: [pos]:111, [neg]:275, [inter]:111, [only in pos]:0, [only in neg]:164\n",
      "[26]: [pos]:731, [neg]:1501, [inter]:729, [only in pos]:2, [only in neg]:772\n",
      "[18]: [pos]:187203, [neg]:1037102, [inter]:167082, [only in pos]:20121, [only in neg]:870020\n"
     ]
    }
   ],
   "source": [
    "for _k, _v in t3_intersections.items():\n",
    "    print(f\"[{_k}]: [pos]:{len(t3_pos_id[_k])}, [neg]:{len(t3_neg_id[_k])}, [inter]:{len(_v)}, [only in pos]:{len(t3_pos_unique[_k])}, [only in neg]:{len(t3_neg_unique[_k])}\")"
   ]
  },
  {
   "cell_type": "code",
   "execution_count": 47,
   "id": "9d6f1c88-af6d-406d-9043-43427c2ef87a",
   "metadata": {
    "execution": {
     "iopub.execute_input": "2023-06-28T09:58:15.143116Z",
     "iopub.status.busy": "2023-06-28T09:58:15.142416Z",
     "iopub.status.idle": "2023-06-28T10:01:54.137444Z",
     "shell.execute_reply": "2023-06-28T10:01:54.136280Z",
     "shell.execute_reply.started": "2023-06-28T09:58:15.143076Z"
    },
    "scrolled": true,
    "tags": []
   },
   "outputs": [],
   "source": [
    "t3_pos_id_cnt = {}\n",
    "t3_neg_id_cnt = {}\n",
    "\n",
    "for _file in train_t3_file_ls:\n",
    "    with open(os.path.join(train_t3_folder, _file), \"r\") as f:\n",
    "        for line in f:\n",
    "            items = line.strip().split(\"\\t\")\n",
    "            conv = items[3]\n",
    "            features = items[4]\n",
    "\n",
    "            if conv == \"0\":\n",
    "                curr_t3 = t3_neg_id_cnt\n",
    "            elif conv == \"1\":\n",
    "                curr_t3 = t3_pos_id_cnt\n",
    "\n",
    "            feature_ls = features.split(\" \")\n",
    "\n",
    "            for feature in feature_ls:\n",
    "                _value, _key = feature.split(\":\")\n",
    "\n",
    "                cnt = curr_t3.get(_value, 0)\n",
    "                curr_t3.update({_value: cnt + 1})"
   ]
  },
  {
   "cell_type": "code",
   "execution_count": 48,
   "id": "3205338e-1b3e-4760-aa02-8b67aa81480f",
   "metadata": {
    "execution": {
     "iopub.execute_input": "2023-06-28T10:01:54.149949Z",
     "iopub.status.busy": "2023-06-28T10:01:54.149704Z",
     "iopub.status.idle": "2023-06-28T10:01:55.208543Z",
     "shell.execute_reply": "2023-06-28T10:01:55.207670Z",
     "shell.execute_reply.started": "2023-06-28T10:01:54.149927Z"
    },
    "scrolled": true,
    "tags": []
   },
   "outputs": [],
   "source": [
    "t3_pos_id_cnt_freq = {}\n",
    "\n",
    "for _k, _v in t3_pos_id_cnt.items():\n",
    "    cnt = t3_pos_id_cnt_freq.get(_v, 0)\n",
    "    t3_pos_id_cnt_freq.update({_v: cnt + 1})"
   ]
  },
  {
   "cell_type": "code",
   "execution_count": 49,
   "id": "b4a396d1-ccf8-40d4-9692-7eb58cfc387b",
   "metadata": {
    "execution": {
     "iopub.execute_input": "2023-06-28T10:01:55.211203Z",
     "iopub.status.busy": "2023-06-28T10:01:55.210408Z",
     "iopub.status.idle": "2023-06-28T10:01:55.231583Z",
     "shell.execute_reply": "2023-06-28T10:01:55.230932Z",
     "shell.execute_reply.started": "2023-06-28T10:01:55.211170Z"
    },
    "scrolled": true,
    "tags": []
   },
   "outputs": [
    {
     "data": {
      "text/html": [
       "<div>\n",
       "<style scoped>\n",
       "    .dataframe tbody tr th:only-of-type {\n",
       "        vertical-align: middle;\n",
       "    }\n",
       "\n",
       "    .dataframe tbody tr th {\n",
       "        vertical-align: top;\n",
       "    }\n",
       "\n",
       "    .dataframe thead th {\n",
       "        text-align: right;\n",
       "    }\n",
       "</style>\n",
       "<table border=\"1\" class=\"dataframe\">\n",
       "  <thead>\n",
       "    <tr style=\"text-align: right;\">\n",
       "      <th></th>\n",
       "      <th>cnt</th>\n",
       "      <th>freq</th>\n",
       "      <th>sum_freq</th>\n",
       "      <th>cum_freq</th>\n",
       "      <th>cum_pct</th>\n",
       "    </tr>\n",
       "  </thead>\n",
       "  <tbody>\n",
       "    <tr>\n",
       "      <th>0</th>\n",
       "      <td>1</td>\n",
       "      <td>1971743</td>\n",
       "      <td>2375312</td>\n",
       "      <td>1971743</td>\n",
       "      <td>0.830099</td>\n",
       "    </tr>\n",
       "    <tr>\n",
       "      <th>1</th>\n",
       "      <td>2</td>\n",
       "      <td>195086</td>\n",
       "      <td>2375312</td>\n",
       "      <td>2166829</td>\n",
       "      <td>0.912229</td>\n",
       "    </tr>\n",
       "    <tr>\n",
       "      <th>2</th>\n",
       "      <td>3</td>\n",
       "      <td>70976</td>\n",
       "      <td>2375312</td>\n",
       "      <td>2237805</td>\n",
       "      <td>0.942110</td>\n",
       "    </tr>\n",
       "    <tr>\n",
       "      <th>3</th>\n",
       "      <td>4</td>\n",
       "      <td>36227</td>\n",
       "      <td>2375312</td>\n",
       "      <td>2274032</td>\n",
       "      <td>0.957361</td>\n",
       "    </tr>\n",
       "    <tr>\n",
       "      <th>4</th>\n",
       "      <td>5</td>\n",
       "      <td>21735</td>\n",
       "      <td>2375312</td>\n",
       "      <td>2295767</td>\n",
       "      <td>0.966512</td>\n",
       "    </tr>\n",
       "    <tr>\n",
       "      <th>...</th>\n",
       "      <td>...</td>\n",
       "      <td>...</td>\n",
       "      <td>...</td>\n",
       "      <td>...</td>\n",
       "      <td>...</td>\n",
       "    </tr>\n",
       "    <tr>\n",
       "      <th>1009</th>\n",
       "      <td>88201</td>\n",
       "      <td>1</td>\n",
       "      <td>2375312</td>\n",
       "      <td>2375308</td>\n",
       "      <td>0.999998</td>\n",
       "    </tr>\n",
       "    <tr>\n",
       "      <th>1010</th>\n",
       "      <td>96686</td>\n",
       "      <td>1</td>\n",
       "      <td>2375312</td>\n",
       "      <td>2375309</td>\n",
       "      <td>0.999999</td>\n",
       "    </tr>\n",
       "    <tr>\n",
       "      <th>1011</th>\n",
       "      <td>97818</td>\n",
       "      <td>1</td>\n",
       "      <td>2375312</td>\n",
       "      <td>2375310</td>\n",
       "      <td>0.999999</td>\n",
       "    </tr>\n",
       "    <tr>\n",
       "      <th>1012</th>\n",
       "      <td>106390</td>\n",
       "      <td>1</td>\n",
       "      <td>2375312</td>\n",
       "      <td>2375311</td>\n",
       "      <td>1.000000</td>\n",
       "    </tr>\n",
       "    <tr>\n",
       "      <th>1013</th>\n",
       "      <td>107183</td>\n",
       "      <td>1</td>\n",
       "      <td>2375312</td>\n",
       "      <td>2375312</td>\n",
       "      <td>1.000000</td>\n",
       "    </tr>\n",
       "  </tbody>\n",
       "</table>\n",
       "<p>1014 rows × 5 columns</p>\n",
       "</div>"
      ],
      "text/plain": [
       "         cnt     freq  sum_freq  cum_freq   cum_pct\n",
       "0          1  1971743   2375312   1971743  0.830099\n",
       "1          2   195086   2375312   2166829  0.912229\n",
       "2          3    70976   2375312   2237805  0.942110\n",
       "3          4    36227   2375312   2274032  0.957361\n",
       "4          5    21735   2375312   2295767  0.966512\n",
       "...      ...      ...       ...       ...       ...\n",
       "1009   88201        1   2375312   2375308  0.999998\n",
       "1010   96686        1   2375312   2375309  0.999999\n",
       "1011   97818        1   2375312   2375310  0.999999\n",
       "1012  106390        1   2375312   2375311  1.000000\n",
       "1013  107183        1   2375312   2375312  1.000000\n",
       "\n",
       "[1014 rows x 5 columns]"
      ]
     },
     "execution_count": 49,
     "metadata": {},
     "output_type": "execute_result"
    }
   ],
   "source": [
    "tmp = dict(sorted(t3_pos_id_cnt_freq.items()))\n",
    "\n",
    "tmp_df = pd.DataFrame()\n",
    "tmp_df[\"cnt\"] = list(tmp.keys())\n",
    "tmp_df[\"freq\"] = list(tmp.values())\n",
    "\n",
    "tmp_df[\"sum_freq\"] = tmp_df[\"freq\"].sum()\n",
    "tmp_df[\"cum_freq\"] = tmp_df[\"freq\"].cumsum()\n",
    "\n",
    "tmp_df[\"cum_pct\"] = tmp_df[\"cum_freq\"] / tmp_df[\"sum_freq\"]\n",
    "\n",
    "tmp_df"
   ]
  },
  {
   "cell_type": "code",
   "execution_count": null,
   "id": "8fc49956-649c-43e0-b6b7-a011b76f8eac",
   "metadata": {
    "scrolled": true
   },
   "outputs": [],
   "source": []
  },
  {
   "cell_type": "code",
   "execution_count": 50,
   "id": "395015e9-dc58-4f24-8974-b15d75b46e1e",
   "metadata": {
    "execution": {
     "iopub.execute_input": "2023-06-28T10:01:55.233478Z",
     "iopub.status.busy": "2023-06-28T10:01:55.232467Z",
     "iopub.status.idle": "2023-06-28T10:02:08.735205Z",
     "shell.execute_reply": "2023-06-28T10:02:08.734269Z",
     "shell.execute_reply.started": "2023-06-28T10:01:55.233452Z"
    },
    "scrolled": true,
    "tags": []
   },
   "outputs": [],
   "source": [
    "t3_neg_id_cnt_freq = {}\n",
    "\n",
    "for _k, _v in t3_neg_id_cnt.items():\n",
    "    cnt = t3_neg_id_cnt_freq.get(_v, 0)\n",
    "    t3_neg_id_cnt_freq.update({_v: cnt + 1})"
   ]
  },
  {
   "cell_type": "code",
   "execution_count": 51,
   "id": "bc97cd0e-fd25-4cb1-9806-7ed5639bc441",
   "metadata": {
    "execution": {
     "iopub.execute_input": "2023-06-28T10:02:08.736644Z",
     "iopub.status.busy": "2023-06-28T10:02:08.736342Z",
     "iopub.status.idle": "2023-06-28T10:02:08.753539Z",
     "shell.execute_reply": "2023-06-28T10:02:08.752745Z",
     "shell.execute_reply.started": "2023-06-28T10:02:08.736619Z"
    },
    "scrolled": true,
    "tags": []
   },
   "outputs": [],
   "source": [
    "tmp = dict(sorted(t3_neg_id_cnt_freq.items()))\n",
    "\n",
    "tmp_df = pd.DataFrame()\n",
    "tmp_df[\"cnt\"] = list(tmp.keys())\n",
    "tmp_df[\"freq\"] = list(tmp.values())\n",
    "\n",
    "tmp_df[\"sum_freq\"] = tmp_df[\"freq\"].sum()\n",
    "tmp_df[\"cum_freq\"] = tmp_df[\"freq\"].cumsum()\n",
    "\n",
    "tmp_df[\"cum_pct\"] = tmp_df[\"cum_freq\"] / tmp_df[\"sum_freq\"]"
   ]
  },
  {
   "cell_type": "code",
   "execution_count": 52,
   "id": "c55facb2-c373-4c8a-9a88-a0c2135a4cd9",
   "metadata": {
    "execution": {
     "iopub.execute_input": "2023-06-28T10:02:08.754748Z",
     "iopub.status.busy": "2023-06-28T10:02:08.754423Z",
     "iopub.status.idle": "2023-06-28T10:02:08.766871Z",
     "shell.execute_reply": "2023-06-28T10:02:08.766271Z",
     "shell.execute_reply.started": "2023-06-28T10:02:08.754726Z"
    },
    "scrolled": true,
    "tags": []
   },
   "outputs": [
    {
     "data": {
      "text/html": [
       "<div>\n",
       "<style scoped>\n",
       "    .dataframe tbody tr th:only-of-type {\n",
       "        vertical-align: middle;\n",
       "    }\n",
       "\n",
       "    .dataframe tbody tr th {\n",
       "        vertical-align: top;\n",
       "    }\n",
       "\n",
       "    .dataframe thead th {\n",
       "        text-align: right;\n",
       "    }\n",
       "</style>\n",
       "<table border=\"1\" class=\"dataframe\">\n",
       "  <thead>\n",
       "    <tr style=\"text-align: right;\">\n",
       "      <th></th>\n",
       "      <th>cnt</th>\n",
       "      <th>freq</th>\n",
       "      <th>sum_freq</th>\n",
       "      <th>cum_freq</th>\n",
       "      <th>cum_pct</th>\n",
       "    </tr>\n",
       "  </thead>\n",
       "  <tbody>\n",
       "    <tr>\n",
       "      <th>0</th>\n",
       "      <td>1</td>\n",
       "      <td>25090495</td>\n",
       "      <td>32648634</td>\n",
       "      <td>25090495</td>\n",
       "      <td>0.768501</td>\n",
       "    </tr>\n",
       "    <tr>\n",
       "      <th>1</th>\n",
       "      <td>2</td>\n",
       "      <td>3348446</td>\n",
       "      <td>32648634</td>\n",
       "      <td>28438941</td>\n",
       "      <td>0.871061</td>\n",
       "    </tr>\n",
       "    <tr>\n",
       "      <th>2</th>\n",
       "      <td>3</td>\n",
       "      <td>1266335</td>\n",
       "      <td>32648634</td>\n",
       "      <td>29705276</td>\n",
       "      <td>0.909847</td>\n",
       "    </tr>\n",
       "    <tr>\n",
       "      <th>3</th>\n",
       "      <td>4</td>\n",
       "      <td>667780</td>\n",
       "      <td>32648634</td>\n",
       "      <td>30373056</td>\n",
       "      <td>0.930301</td>\n",
       "    </tr>\n",
       "    <tr>\n",
       "      <th>4</th>\n",
       "      <td>5</td>\n",
       "      <td>414414</td>\n",
       "      <td>32648634</td>\n",
       "      <td>30787470</td>\n",
       "      <td>0.942994</td>\n",
       "    </tr>\n",
       "    <tr>\n",
       "      <th>...</th>\n",
       "      <td>...</td>\n",
       "      <td>...</td>\n",
       "      <td>...</td>\n",
       "      <td>...</td>\n",
       "      <td>...</td>\n",
       "    </tr>\n",
       "    <tr>\n",
       "      <th>4690</th>\n",
       "      <td>2288638</td>\n",
       "      <td>1</td>\n",
       "      <td>32648634</td>\n",
       "      <td>32648630</td>\n",
       "      <td>1.000000</td>\n",
       "    </tr>\n",
       "    <tr>\n",
       "      <th>4691</th>\n",
       "      <td>2359080</td>\n",
       "      <td>1</td>\n",
       "      <td>32648634</td>\n",
       "      <td>32648631</td>\n",
       "      <td>1.000000</td>\n",
       "    </tr>\n",
       "    <tr>\n",
       "      <th>4692</th>\n",
       "      <td>2475925</td>\n",
       "      <td>1</td>\n",
       "      <td>32648634</td>\n",
       "      <td>32648632</td>\n",
       "      <td>1.000000</td>\n",
       "    </tr>\n",
       "    <tr>\n",
       "      <th>4693</th>\n",
       "      <td>2640081</td>\n",
       "      <td>1</td>\n",
       "      <td>32648634</td>\n",
       "      <td>32648633</td>\n",
       "      <td>1.000000</td>\n",
       "    </tr>\n",
       "    <tr>\n",
       "      <th>4694</th>\n",
       "      <td>2669822</td>\n",
       "      <td>1</td>\n",
       "      <td>32648634</td>\n",
       "      <td>32648634</td>\n",
       "      <td>1.000000</td>\n",
       "    </tr>\n",
       "  </tbody>\n",
       "</table>\n",
       "<p>4695 rows × 5 columns</p>\n",
       "</div>"
      ],
      "text/plain": [
       "          cnt      freq  sum_freq  cum_freq   cum_pct\n",
       "0           1  25090495  32648634  25090495  0.768501\n",
       "1           2   3348446  32648634  28438941  0.871061\n",
       "2           3   1266335  32648634  29705276  0.909847\n",
       "3           4    667780  32648634  30373056  0.930301\n",
       "4           5    414414  32648634  30787470  0.942994\n",
       "...       ...       ...       ...       ...       ...\n",
       "4690  2288638         1  32648634  32648630  1.000000\n",
       "4691  2359080         1  32648634  32648631  1.000000\n",
       "4692  2475925         1  32648634  32648632  1.000000\n",
       "4693  2640081         1  32648634  32648633  1.000000\n",
       "4694  2669822         1  32648634  32648634  1.000000\n",
       "\n",
       "[4695 rows x 5 columns]"
      ]
     },
     "execution_count": 52,
     "metadata": {},
     "output_type": "execute_result"
    }
   ],
   "source": [
    "tmp_df"
   ]
  },
  {
   "cell_type": "code",
   "execution_count": null,
   "id": "6f97eaaa-7266-46bf-a1dd-72a1758ec1d9",
   "metadata": {
    "scrolled": true
   },
   "outputs": [],
   "source": []
  },
  {
   "cell_type": "code",
   "execution_count": 53,
   "id": "778903a5-2ab1-4016-8009-8b994c7fcd38",
   "metadata": {
    "execution": {
     "iopub.execute_input": "2023-06-28T10:02:50.826282Z",
     "iopub.status.busy": "2023-06-28T10:02:50.825681Z",
     "iopub.status.idle": "2023-06-28T10:03:06.503492Z",
     "shell.execute_reply": "2023-06-28T10:03:06.502287Z",
     "shell.execute_reply.started": "2023-06-28T10:02:50.826245Z"
    },
    "scrolled": true,
    "tags": []
   },
   "outputs": [],
   "source": [
    "t3_pos_neglect_id = set([_k for _k, _v in t3_pos_id_cnt.items() if _v <= 1])\n",
    "t3_neg_neglect_id = set([_k for _k, _v in t3_neg_id_cnt.items() if _v <= 2])\n",
    "\n",
    "t3_neglect_id = t3_pos_neglect_id.union(t3_neg_neglect_id)\n",
    "\n",
    "del t3_pos_neglect_id, t3_neg_neglect_id"
   ]
  },
  {
   "cell_type": "code",
   "execution_count": 54,
   "id": "747fd9d9-c3ef-4583-aa43-2610584d7704",
   "metadata": {
    "execution": {
     "iopub.execute_input": "2023-06-28T10:03:08.127127Z",
     "iopub.status.busy": "2023-06-28T10:03:08.126511Z",
     "iopub.status.idle": "2023-06-28T10:03:08.132591Z",
     "shell.execute_reply": "2023-06-28T10:03:08.131775Z",
     "shell.execute_reply.started": "2023-06-28T10:03:08.127088Z"
    },
    "scrolled": true,
    "tags": []
   },
   "outputs": [
    {
     "data": {
      "text/plain": [
       "30023937"
      ]
     },
     "execution_count": 54,
     "metadata": {},
     "output_type": "execute_result"
    }
   ],
   "source": [
    "len(t3_neglect_id)"
   ]
  },
  {
   "cell_type": "code",
   "execution_count": 55,
   "id": "09e44f8f-372a-4a9b-845e-b5bc7423b435",
   "metadata": {
    "execution": {
     "iopub.execute_input": "2023-06-28T10:03:12.535274Z",
     "iopub.status.busy": "2023-06-28T10:03:12.534017Z",
     "iopub.status.idle": "2023-06-28T10:03:12.540865Z",
     "shell.execute_reply": "2023-06-28T10:03:12.540152Z",
     "shell.execute_reply.started": "2023-06-28T10:03:12.535230Z"
    },
    "scrolled": true,
    "tags": []
   },
   "outputs": [
    {
     "data": {
      "text/plain": [
       "['test_t3.txt']"
      ]
     },
     "execution_count": 55,
     "metadata": {},
     "output_type": "execute_result"
    }
   ],
   "source": [
    "test_t3_folder = \"../../work_data/data204194/test_t3\"\n",
    "test_t3_file_ls = os.listdir(test_t3_folder)\n",
    "\n",
    "test_t3_file_ls"
   ]
  },
  {
   "cell_type": "code",
   "execution_count": 56,
   "id": "0737a3ff-85ae-464f-9a46-0cd60331f36c",
   "metadata": {
    "execution": {
     "iopub.execute_input": "2023-06-28T10:03:26.033435Z",
     "iopub.status.busy": "2023-06-28T10:03:26.032289Z",
     "iopub.status.idle": "2023-06-28T10:03:29.815939Z",
     "shell.execute_reply": "2023-06-28T10:03:29.814777Z",
     "shell.execute_reply.started": "2023-06-28T10:03:26.033386Z"
    },
    "scrolled": true,
    "tags": []
   },
   "outputs": [],
   "source": [
    "test3_id = {}\n",
    "\n",
    "for _file in test_t3_file_ls:\n",
    "    with open(os.path.join(test_t3_folder, _file), \"r\") as f:\n",
    "        for line in f:\n",
    "            items = line.strip().split(\"\\t\")\n",
    "            conv = items[3]\n",
    "            features = items[4]\n",
    "\n",
    "            feature_ls = features.split(\" \")\n",
    "\n",
    "            for feature in feature_ls:\n",
    "                _value, _key = feature.split(\":\")\n",
    "\n",
    "                if _key not in test3_id:\n",
    "                    test3_id[_key] = set()\n",
    "\n",
    "                test3_id[_key].add(_value)"
   ]
  },
  {
   "cell_type": "code",
   "execution_count": 57,
   "id": "90ad4231-d285-4c05-a44e-4b0bc9ce0357",
   "metadata": {
    "execution": {
     "iopub.execute_input": "2023-06-28T10:03:31.709948Z",
     "iopub.status.busy": "2023-06-28T10:03:31.709273Z",
     "iopub.status.idle": "2023-06-28T10:04:30.040589Z",
     "shell.execute_reply": "2023-06-28T10:04:30.039646Z",
     "shell.execute_reply.started": "2023-06-28T10:03:31.709906Z"
    },
    "scrolled": true,
    "tags": []
   },
   "outputs": [],
   "source": [
    "test3_guess = {}\n",
    "\n",
    "for _file in test_t3_file_ls:\n",
    "    with open(os.path.join(test_t3_folder, _file), \"r\") as f:\n",
    "        for idx, line in enumerate(f):\n",
    "            test3_guess[idx] = []\n",
    "\n",
    "            items = line.strip().split(\"\\t\")\n",
    "            conv = items[3]\n",
    "            features = items[4]\n",
    "\n",
    "            feature_ls = features.split(\" \")\n",
    "\n",
    "            for feature in feature_ls:\n",
    "                _value, _key = feature.split(\":\")\n",
    "\n",
    "                if _value in t3_pos_unique[_key] and _value not in t3_neglect_id:\n",
    "                    test3_guess[idx].append(1)\n",
    "                \n",
    "                if _value in t3_neg_unique[_key] and _value not in t3_neglect_id:\n",
    "                    test3_guess[idx].append(0)"
   ]
  },
  {
   "cell_type": "code",
   "execution_count": 58,
   "id": "9560dc71-6ed4-4506-83a7-aa57f3855e27",
   "metadata": {
    "execution": {
     "iopub.execute_input": "2023-06-28T10:05:08.693352Z",
     "iopub.status.busy": "2023-06-28T10:05:08.692243Z",
     "iopub.status.idle": "2023-06-28T10:05:08.737082Z",
     "shell.execute_reply": "2023-06-28T10:05:08.736373Z",
     "shell.execute_reply.started": "2023-06-28T10:05:08.693310Z"
    },
    "scrolled": true,
    "tags": []
   },
   "outputs": [],
   "source": [
    "test3_guess_cnt = {0: 0, 1: 0, 2: 0}\n",
    "\n",
    "for _k, _v in test3_guess.items():\n",
    "    curr_len = len(set(_v))\n",
    "    test3_guess_cnt[curr_len] += 1"
   ]
  },
  {
   "cell_type": "code",
   "execution_count": 59,
   "id": "d4979d8e-3421-4c2a-9903-c5d98cfe5b24",
   "metadata": {
    "execution": {
     "iopub.execute_input": "2023-06-28T10:05:09.594014Z",
     "iopub.status.busy": "2023-06-28T10:05:09.592961Z",
     "iopub.status.idle": "2023-06-28T10:05:09.598684Z",
     "shell.execute_reply": "2023-06-28T10:05:09.597938Z",
     "shell.execute_reply.started": "2023-06-28T10:05:09.593965Z"
    },
    "scrolled": true,
    "tags": []
   },
   "outputs": [
    {
     "data": {
      "text/plain": [
       "{0: 4676, 1: 79936, 2: 258}"
      ]
     },
     "execution_count": 59,
     "metadata": {},
     "output_type": "execute_result"
    }
   ],
   "source": [
    "test3_guess_cnt"
   ]
  },
  {
   "cell_type": "code",
   "execution_count": 60,
   "id": "55bf5c90-0de3-4931-be94-d6f60426fbe0",
   "metadata": {
    "execution": {
     "iopub.execute_input": "2023-06-28T10:05:15.402805Z",
     "iopub.status.busy": "2023-06-28T10:05:15.402200Z",
     "iopub.status.idle": "2023-06-28T10:05:15.430570Z",
     "shell.execute_reply": "2023-06-28T10:05:15.429782Z",
     "shell.execute_reply.started": "2023-06-28T10:05:15.402765Z"
    },
    "scrolled": true,
    "tags": []
   },
   "outputs": [],
   "source": [
    "test3_guess_len = {}\n",
    "\n",
    "for _k, _v in test3_guess.items():\n",
    "    curr_len = len(_v)\n",
    "\n",
    "    if curr_len not in test3_guess_len:\n",
    "        test3_guess_len[curr_len] = 0\n",
    "    \n",
    "    test3_guess_len[curr_len] += 1"
   ]
  },
  {
   "cell_type": "code",
   "execution_count": 62,
   "id": "b6175ef7-a32f-4435-8e5b-8ae852a4b12a",
   "metadata": {
    "execution": {
     "iopub.execute_input": "2023-06-28T10:05:36.169617Z",
     "iopub.status.busy": "2023-06-28T10:05:36.168509Z",
     "iopub.status.idle": "2023-06-28T10:06:14.234137Z",
     "shell.execute_reply": "2023-06-28T10:06:14.233329Z",
     "shell.execute_reply.started": "2023-06-28T10:05:36.169572Z"
    },
    "scrolled": true,
    "tags": []
   },
   "outputs": [
    {
     "data": {
      "text/plain": [
       "['../cheat/t3/test3_guess.pkl']"
      ]
     },
     "execution_count": 62,
     "metadata": {},
     "output_type": "execute_result"
    }
   ],
   "source": [
    "joblib.dump(test3_guess, \"../cheat/t3/test3_guess.pkl\")"
   ]
  },
  {
   "cell_type": "code",
   "execution_count": null,
   "id": "9d73e8db-1930-4374-8495-43afea261708",
   "metadata": {},
   "outputs": [],
   "source": []
  },
  {
   "cell_type": "markdown",
   "id": "e96542a7-dcbb-4128-90c4-e4db301f2fcf",
   "metadata": {
    "tags": []
   },
   "source": [
    "# 根据序列id值调整预测值"
   ]
  },
  {
   "cell_type": "code",
   "execution_count": 3,
   "id": "c73083cd-3d00-4a9a-a5fa-6375b2f32efa",
   "metadata": {
    "execution": {
     "iopub.execute_input": "2023-06-29T07:24:56.683347Z",
     "iopub.status.busy": "2023-06-29T07:24:56.682335Z",
     "iopub.status.idle": "2023-06-29T07:25:02.362129Z",
     "shell.execute_reply": "2023-06-29T07:25:02.361314Z",
     "shell.execute_reply.started": "2023-06-29T07:24:56.683315Z"
    },
    "scrolled": true,
    "tags": []
   },
   "outputs": [],
   "source": [
    "test_folder = \"../../data/data204194/test_data\"\n",
    "\n",
    "test_records = {\"log_key\": [], \"ad_type\": []}\n",
    "\n",
    "for _file in os.listdir(test_folder):\n",
    "    with open(os.path.join(test_folder, _file), \"r\") as f:\n",
    "        for line in f:\n",
    "            items = line.strip().split(\"\\t\")\n",
    "            \n",
    "            log_key = items[0]\n",
    "            test_records[\"log_key\"].append(log_key)\n",
    "            \n",
    "            features = items[4]\n",
    "            feature_ls = features.split(\" \")\n",
    "            \n",
    "            for _f in feature_ls:\n",
    "                _key = _f.split(\":\")[1]\n",
    "                \n",
    "                if _key != \"9\":\n",
    "                    continue\n",
    "\n",
    "                _value = _f.split(\":\")[0]\n",
    "                \n",
    "                if _value in ['2367', '321']:\n",
    "                    test_records[\"ad_type\"].append(1)\n",
    "                elif _value in ['167', '350']:\n",
    "                    test_records[\"ad_type\"].append(2)\n",
    "                elif _value in ['75', '9']:\n",
    "                    test_records[\"ad_type\"].append(3)\n",
    "\n",
    "\n",
    "test_df = pd.DataFrame(test_records)"
   ]
  },
  {
   "cell_type": "code",
   "execution_count": 4,
   "id": "dd5a1539-615c-4ca8-a1c5-09879711b0ee",
   "metadata": {
    "execution": {
     "iopub.execute_input": "2023-06-29T07:25:04.376404Z",
     "iopub.status.busy": "2023-06-29T07:25:04.376055Z",
     "iopub.status.idle": "2023-06-29T07:25:04.403240Z",
     "shell.execute_reply": "2023-06-29T07:25:04.402110Z",
     "shell.execute_reply.started": "2023-06-29T07:25:04.376376Z"
    },
    "scrolled": true,
    "tags": []
   },
   "outputs": [
    {
     "data": {
      "text/html": [
       "<div>\n",
       "<style scoped>\n",
       "    .dataframe tbody tr th:only-of-type {\n",
       "        vertical-align: middle;\n",
       "    }\n",
       "\n",
       "    .dataframe tbody tr th {\n",
       "        vertical-align: top;\n",
       "    }\n",
       "\n",
       "    .dataframe thead th {\n",
       "        text-align: right;\n",
       "    }\n",
       "</style>\n",
       "<table border=\"1\" class=\"dataframe\">\n",
       "  <thead>\n",
       "    <tr style=\"text-align: right;\">\n",
       "      <th></th>\n",
       "      <th>log_key</th>\n",
       "      <th>ad_type</th>\n",
       "    </tr>\n",
       "  </thead>\n",
       "  <tbody>\n",
       "    <tr>\n",
       "      <th>0</th>\n",
       "      <td>11116664971</td>\n",
       "      <td>3</td>\n",
       "    </tr>\n",
       "    <tr>\n",
       "      <th>1</th>\n",
       "      <td>3932004506</td>\n",
       "      <td>3</td>\n",
       "    </tr>\n",
       "    <tr>\n",
       "      <th>2</th>\n",
       "      <td>510184597</td>\n",
       "      <td>3</td>\n",
       "    </tr>\n",
       "    <tr>\n",
       "      <th>3</th>\n",
       "      <td>2381591187</td>\n",
       "      <td>2</td>\n",
       "    </tr>\n",
       "    <tr>\n",
       "      <th>4</th>\n",
       "      <td>2018401937</td>\n",
       "      <td>1</td>\n",
       "    </tr>\n",
       "  </tbody>\n",
       "</table>\n",
       "</div>"
      ],
      "text/plain": [
       "       log_key  ad_type\n",
       "0  11116664971        3\n",
       "1   3932004506        3\n",
       "2    510184597        3\n",
       "3   2381591187        2\n",
       "4   2018401937        1"
      ]
     },
     "execution_count": 4,
     "metadata": {},
     "output_type": "execute_result"
    }
   ],
   "source": [
    "test_df.head()"
   ]
  },
  {
   "cell_type": "code",
   "execution_count": null,
   "id": "8c3cac23-ad8f-4bfb-91db-1c9da95f8498",
   "metadata": {},
   "outputs": [],
   "source": []
  },
  {
   "cell_type": "code",
   "execution_count": 36,
   "id": "c8be0d4f-fee2-4290-9d50-18c166035aca",
   "metadata": {
    "execution": {
     "iopub.execute_input": "2023-06-29T07:46:14.254111Z",
     "iopub.status.busy": "2023-06-29T07:46:14.253515Z",
     "iopub.status.idle": "2023-06-29T07:46:14.617644Z",
     "shell.execute_reply": "2023-06-29T07:46:14.616741Z",
     "shell.execute_reply.started": "2023-06-29T07:46:14.254084Z"
    },
    "tags": []
   },
   "outputs": [],
   "source": [
    "infer0 = pd.read_csv(\"../../../test.txt\", names=[\"log_key\", \"pred\"], dtype={\"log_key\": str})\n",
    "infer1 = pd.read_csv(\"../../../test-1.txt\", names=[\"log_key\", \"pred\"], dtype={\"log_key\": str})"
   ]
  },
  {
   "cell_type": "code",
   "execution_count": 37,
   "id": "f9df8e6c-7874-4b39-aa71-60685f50b780",
   "metadata": {
    "execution": {
     "iopub.execute_input": "2023-06-29T07:46:16.745177Z",
     "iopub.status.busy": "2023-06-29T07:46:16.744735Z",
     "iopub.status.idle": "2023-06-29T07:46:16.768161Z",
     "shell.execute_reply": "2023-06-29T07:46:16.766989Z",
     "shell.execute_reply.started": "2023-06-29T07:46:16.745149Z"
    },
    "tags": []
   },
   "outputs": [
    {
     "data": {
      "text/html": [
       "<div>\n",
       "<style scoped>\n",
       "    .dataframe tbody tr th:only-of-type {\n",
       "        vertical-align: middle;\n",
       "    }\n",
       "\n",
       "    .dataframe tbody tr th {\n",
       "        vertical-align: top;\n",
       "    }\n",
       "\n",
       "    .dataframe thead th {\n",
       "        text-align: right;\n",
       "    }\n",
       "</style>\n",
       "<table border=\"1\" class=\"dataframe\">\n",
       "  <thead>\n",
       "    <tr style=\"text-align: right;\">\n",
       "      <th></th>\n",
       "      <th>pred</th>\n",
       "    </tr>\n",
       "  </thead>\n",
       "  <tbody>\n",
       "    <tr>\n",
       "      <th>count</th>\n",
       "      <td>234912.000000</td>\n",
       "    </tr>\n",
       "    <tr>\n",
       "      <th>mean</th>\n",
       "      <td>0.067311</td>\n",
       "    </tr>\n",
       "    <tr>\n",
       "      <th>std</th>\n",
       "      <td>0.065843</td>\n",
       "    </tr>\n",
       "    <tr>\n",
       "      <th>min</th>\n",
       "      <td>0.000000</td>\n",
       "    </tr>\n",
       "    <tr>\n",
       "      <th>25%</th>\n",
       "      <td>0.028012</td>\n",
       "    </tr>\n",
       "    <tr>\n",
       "      <th>50%</th>\n",
       "      <td>0.047572</td>\n",
       "    </tr>\n",
       "    <tr>\n",
       "      <th>75%</th>\n",
       "      <td>0.082649</td>\n",
       "    </tr>\n",
       "    <tr>\n",
       "      <th>max</th>\n",
       "      <td>0.580343</td>\n",
       "    </tr>\n",
       "  </tbody>\n",
       "</table>\n",
       "</div>"
      ],
      "text/plain": [
       "                pred\n",
       "count  234912.000000\n",
       "mean        0.067311\n",
       "std         0.065843\n",
       "min         0.000000\n",
       "25%         0.028012\n",
       "50%         0.047572\n",
       "75%         0.082649\n",
       "max         0.580343"
      ]
     },
     "execution_count": 37,
     "metadata": {},
     "output_type": "execute_result"
    }
   ],
   "source": [
    "infer0.describe()"
   ]
  },
  {
   "cell_type": "code",
   "execution_count": 38,
   "id": "c6b233bb-871d-47ff-bc30-2f85172814c3",
   "metadata": {
    "execution": {
     "iopub.execute_input": "2023-06-29T07:46:22.217641Z",
     "iopub.status.busy": "2023-06-29T07:46:22.217044Z",
     "iopub.status.idle": "2023-06-29T07:46:22.238521Z",
     "shell.execute_reply": "2023-06-29T07:46:22.237707Z",
     "shell.execute_reply.started": "2023-06-29T07:46:22.217613Z"
    },
    "tags": []
   },
   "outputs": [
    {
     "data": {
      "text/html": [
       "<div>\n",
       "<style scoped>\n",
       "    .dataframe tbody tr th:only-of-type {\n",
       "        vertical-align: middle;\n",
       "    }\n",
       "\n",
       "    .dataframe tbody tr th {\n",
       "        vertical-align: top;\n",
       "    }\n",
       "\n",
       "    .dataframe thead th {\n",
       "        text-align: right;\n",
       "    }\n",
       "</style>\n",
       "<table border=\"1\" class=\"dataframe\">\n",
       "  <thead>\n",
       "    <tr style=\"text-align: right;\">\n",
       "      <th></th>\n",
       "      <th>pred</th>\n",
       "    </tr>\n",
       "  </thead>\n",
       "  <tbody>\n",
       "    <tr>\n",
       "      <th>count</th>\n",
       "      <td>234912.000000</td>\n",
       "    </tr>\n",
       "    <tr>\n",
       "      <th>mean</th>\n",
       "      <td>0.189248</td>\n",
       "    </tr>\n",
       "    <tr>\n",
       "      <th>std</th>\n",
       "      <td>0.118152</td>\n",
       "    </tr>\n",
       "    <tr>\n",
       "      <th>min</th>\n",
       "      <td>0.001156</td>\n",
       "    </tr>\n",
       "    <tr>\n",
       "      <th>25%</th>\n",
       "      <td>0.103003</td>\n",
       "    </tr>\n",
       "    <tr>\n",
       "      <th>50%</th>\n",
       "      <td>0.167881</td>\n",
       "    </tr>\n",
       "    <tr>\n",
       "      <th>75%</th>\n",
       "      <td>0.253414</td>\n",
       "    </tr>\n",
       "    <tr>\n",
       "      <th>max</th>\n",
       "      <td>0.795004</td>\n",
       "    </tr>\n",
       "  </tbody>\n",
       "</table>\n",
       "</div>"
      ],
      "text/plain": [
       "                pred\n",
       "count  234912.000000\n",
       "mean        0.189248\n",
       "std         0.118152\n",
       "min         0.001156\n",
       "25%         0.103003\n",
       "50%         0.167881\n",
       "75%         0.253414\n",
       "max         0.795004"
      ]
     },
     "execution_count": 38,
     "metadata": {},
     "output_type": "execute_result"
    }
   ],
   "source": [
    "infer1.describe()"
   ]
  },
  {
   "cell_type": "code",
   "execution_count": 39,
   "id": "bbb4fb97-10b8-4f95-ae1e-b6e4ec63bf6b",
   "metadata": {
    "execution": {
     "iopub.execute_input": "2023-06-29T07:46:35.045491Z",
     "iopub.status.busy": "2023-06-29T07:46:35.045135Z",
     "iopub.status.idle": "2023-06-29T07:46:35.051384Z",
     "shell.execute_reply": "2023-06-29T07:46:35.050465Z",
     "shell.execute_reply.started": "2023-06-29T07:46:35.045463Z"
    },
    "tags": []
   },
   "outputs": [],
   "source": [
    "tmp = pd.DataFrame()"
   ]
  },
  {
   "cell_type": "code",
   "execution_count": 40,
   "id": "315c48e5-ebf3-4a81-bced-ed5746914bd1",
   "metadata": {
    "execution": {
     "iopub.execute_input": "2023-06-29T07:47:12.304543Z",
     "iopub.status.busy": "2023-06-29T07:47:12.303894Z",
     "iopub.status.idle": "2023-06-29T07:47:12.330806Z",
     "shell.execute_reply": "2023-06-29T07:47:12.329709Z",
     "shell.execute_reply.started": "2023-06-29T07:47:12.304504Z"
    },
    "tags": []
   },
   "outputs": [],
   "source": [
    "tmp[\"log_key\"] = infer0[\"log_key\"]\n",
    "tmp[\"ad_type\"] = test_df[\"ad_type\"]\n",
    "tmp[\"pred\"] = infer1[\"pred\"]"
   ]
  },
  {
   "cell_type": "code",
   "execution_count": null,
   "id": "c754849e-0e5f-4838-a15b-8036144cf256",
   "metadata": {},
   "outputs": [],
   "source": []
  },
  {
   "cell_type": "code",
   "execution_count": 29,
   "id": "64b42fe1-fb76-44d3-b8da-55f15d74c480",
   "metadata": {
    "execution": {
     "iopub.execute_input": "2023-06-29T07:41:12.481794Z",
     "iopub.status.busy": "2023-06-29T07:41:12.481424Z",
     "iopub.status.idle": "2023-06-29T07:41:12.489598Z",
     "shell.execute_reply": "2023-06-29T07:41:12.488715Z",
     "shell.execute_reply.started": "2023-06-29T07:41:12.481765Z"
    },
    "tags": []
   },
   "outputs": [],
   "source": [
    "test_df[\"pred\"] = infer[\"pred\"]"
   ]
  },
  {
   "cell_type": "code",
   "execution_count": 42,
   "id": "0b5e0f28-4f8c-4896-8f20-6f647f6bbf30",
   "metadata": {
    "execution": {
     "iopub.execute_input": "2023-06-29T07:47:34.205904Z",
     "iopub.status.busy": "2023-06-29T07:47:34.205513Z",
     "iopub.status.idle": "2023-06-29T07:47:34.343353Z",
     "shell.execute_reply": "2023-06-29T07:47:34.342561Z",
     "shell.execute_reply.started": "2023-06-29T07:47:34.205874Z"
    },
    "tags": []
   },
   "outputs": [],
   "source": [
    "tmp[\"coef\"] = tmp[\"ad_type\"].apply(lambda x: {\"1\": 12/47, \"2\": 4/9, \"3\": 1/6}[str(x)])"
   ]
  },
  {
   "cell_type": "code",
   "execution_count": 43,
   "id": "bf0eb12c-dc06-45d8-be69-d33f8d7446f8",
   "metadata": {
    "execution": {
     "iopub.execute_input": "2023-06-29T07:47:34.345234Z",
     "iopub.status.busy": "2023-06-29T07:47:34.344820Z",
     "iopub.status.idle": "2023-06-29T07:47:37.372927Z",
     "shell.execute_reply": "2023-06-29T07:47:37.372014Z",
     "shell.execute_reply.started": "2023-06-29T07:47:34.345208Z"
    },
    "tags": []
   },
   "outputs": [],
   "source": [
    "tmp[\"adjusted_pred\"] = tmp.apply(lambda x: x[\"pred\"] / (x[\"pred\"] + (1-x[\"pred\"]) / x[\"coef\"]), axis=1)"
   ]
  },
  {
   "cell_type": "code",
   "execution_count": 44,
   "id": "28a2a517-7385-49a8-bde4-c05ed604de82",
   "metadata": {
    "execution": {
     "iopub.execute_input": "2023-06-29T07:47:37.374677Z",
     "iopub.status.busy": "2023-06-29T07:47:37.374317Z",
     "iopub.status.idle": "2023-06-29T07:47:37.427748Z",
     "shell.execute_reply": "2023-06-29T07:47:37.426906Z",
     "shell.execute_reply.started": "2023-06-29T07:47:37.374651Z"
    },
    "tags": []
   },
   "outputs": [
    {
     "data": {
      "text/html": [
       "<div>\n",
       "<style scoped>\n",
       "    .dataframe tbody tr th:only-of-type {\n",
       "        vertical-align: middle;\n",
       "    }\n",
       "\n",
       "    .dataframe tbody tr th {\n",
       "        vertical-align: top;\n",
       "    }\n",
       "\n",
       "    .dataframe thead th {\n",
       "        text-align: right;\n",
       "    }\n",
       "</style>\n",
       "<table border=\"1\" class=\"dataframe\">\n",
       "  <thead>\n",
       "    <tr style=\"text-align: right;\">\n",
       "      <th></th>\n",
       "      <th>ad_type</th>\n",
       "      <th>pred</th>\n",
       "      <th>coef</th>\n",
       "      <th>adjusted_pred</th>\n",
       "    </tr>\n",
       "  </thead>\n",
       "  <tbody>\n",
       "    <tr>\n",
       "      <th>count</th>\n",
       "      <td>234912.000000</td>\n",
       "      <td>234912.000000</td>\n",
       "      <td>234912.000000</td>\n",
       "      <td>234912.000000</td>\n",
       "    </tr>\n",
       "    <tr>\n",
       "      <th>mean</th>\n",
       "      <td>2.019101</td>\n",
       "      <td>0.189248</td>\n",
       "      <td>0.279372</td>\n",
       "      <td>0.065233</td>\n",
       "    </tr>\n",
       "    <tr>\n",
       "      <th>std</th>\n",
       "      <td>0.838514</td>\n",
       "      <td>0.118152</td>\n",
       "      <td>0.113435</td>\n",
       "      <td>0.063073</td>\n",
       "    </tr>\n",
       "    <tr>\n",
       "      <th>min</th>\n",
       "      <td>1.000000</td>\n",
       "      <td>0.001156</td>\n",
       "      <td>0.166667</td>\n",
       "      <td>0.000295</td>\n",
       "    </tr>\n",
       "    <tr>\n",
       "      <th>25%</th>\n",
       "      <td>1.000000</td>\n",
       "      <td>0.103003</td>\n",
       "      <td>0.166667</td>\n",
       "      <td>0.027075</td>\n",
       "    </tr>\n",
       "    <tr>\n",
       "      <th>50%</th>\n",
       "      <td>2.000000</td>\n",
       "      <td>0.167881</td>\n",
       "      <td>0.255319</td>\n",
       "      <td>0.045030</td>\n",
       "    </tr>\n",
       "    <tr>\n",
       "      <th>75%</th>\n",
       "      <td>3.000000</td>\n",
       "      <td>0.253414</td>\n",
       "      <td>0.444444</td>\n",
       "      <td>0.079286</td>\n",
       "    </tr>\n",
       "    <tr>\n",
       "      <th>max</th>\n",
       "      <td>3.000000</td>\n",
       "      <td>0.795004</td>\n",
       "      <td>0.444444</td>\n",
       "      <td>0.632842</td>\n",
       "    </tr>\n",
       "  </tbody>\n",
       "</table>\n",
       "</div>"
      ],
      "text/plain": [
       "             ad_type           pred           coef  adjusted_pred\n",
       "count  234912.000000  234912.000000  234912.000000  234912.000000\n",
       "mean        2.019101       0.189248       0.279372       0.065233\n",
       "std         0.838514       0.118152       0.113435       0.063073\n",
       "min         1.000000       0.001156       0.166667       0.000295\n",
       "25%         1.000000       0.103003       0.166667       0.027075\n",
       "50%         2.000000       0.167881       0.255319       0.045030\n",
       "75%         3.000000       0.253414       0.444444       0.079286\n",
       "max         3.000000       0.795004       0.444444       0.632842"
      ]
     },
     "execution_count": 44,
     "metadata": {},
     "output_type": "execute_result"
    }
   ],
   "source": [
    "tmp.describe()"
   ]
  },
  {
   "cell_type": "code",
   "execution_count": null,
   "id": "6d569a4c-9d12-4129-aa27-7c0c3c9d6894",
   "metadata": {},
   "outputs": [],
   "source": []
  },
  {
   "cell_type": "code",
   "execution_count": 4,
   "id": "17bc3611-210f-4e11-9352-2f5665e3044a",
   "metadata": {
    "execution": {
     "iopub.execute_input": "2023-06-28T12:52:42.951918Z",
     "iopub.status.busy": "2023-06-28T12:52:42.951016Z",
     "iopub.status.idle": "2023-06-28T12:52:43.009357Z",
     "shell.execute_reply": "2023-06-28T12:52:43.008524Z",
     "shell.execute_reply.started": "2023-06-28T12:52:42.951886Z"
    },
    "scrolled": true,
    "tags": []
   },
   "outputs": [],
   "source": [
    "infer1 = pd.read_csv(\"../infer_1.csv\")\n",
    "infer2 = pd.read_csv(\"../infer_2.csv\")\n",
    "infer3 = pd.read_csv(\"../infer_3.csv\")"
   ]
  },
  {
   "cell_type": "code",
   "execution_count": 12,
   "id": "5fccdf98-42d4-4c1c-9703-2789b9f432a2",
   "metadata": {
    "execution": {
     "iopub.execute_input": "2023-06-28T12:57:13.544642Z",
     "iopub.status.busy": "2023-06-28T12:57:13.543545Z",
     "iopub.status.idle": "2023-06-28T12:57:15.493474Z",
     "shell.execute_reply": "2023-06-28T12:57:15.492621Z",
     "shell.execute_reply.started": "2023-06-28T12:57:13.544611Z"
    },
    "scrolled": true,
    "tags": []
   },
   "outputs": [],
   "source": [
    "test1_guess = joblib.load(\"../cheat/t1/test1_guess.pkl\")\n",
    "test2_guess = joblib.load(\"../cheat/t2/test2_guess.pkl\")\n",
    "test3_guess = joblib.load(\"../cheat/t3/test3_guess.pkl\")"
   ]
  },
  {
   "cell_type": "code",
   "execution_count": 68,
   "id": "4b36a983-0296-421f-962c-6b450ebab494",
   "metadata": {
    "execution": {
     "iopub.execute_input": "2023-06-28T16:22:14.499844Z",
     "iopub.status.busy": "2023-06-28T16:22:14.499311Z",
     "iopub.status.idle": "2023-06-28T16:22:14.675721Z",
     "shell.execute_reply": "2023-06-28T16:22:14.674722Z",
     "shell.execute_reply.started": "2023-06-28T16:22:14.499814Z"
    },
    "scrolled": true,
    "tags": []
   },
   "outputs": [],
   "source": [
    "guess1, guess2, guess3 = [], [], []\n",
    "\n",
    "for _idx, _ls in test1_guess.items():\n",
    "    if len(set(_ls)) == 1 and len(_ls) > 15:\n",
    "        guess1.append(_ls[0])\n",
    "    else:\n",
    "        guess1.append(-1)\n",
    "\n",
    "for _idx, _ls in test2_guess.items():\n",
    "    if len(set(_ls)) == 1 and len(_ls) > 15:\n",
    "        guess2.append(_ls[0])\n",
    "    else:\n",
    "        guess2.append(-1)\n",
    "\n",
    "for _idx, _ls in test3_guess.items():\n",
    "    if len(set(_ls)) == 1 and len(_ls) > 15:\n",
    "        guess3.append(_ls[0])\n",
    "    else:\n",
    "        guess3.append(-1)"
   ]
  },
  {
   "cell_type": "code",
   "execution_count": 69,
   "id": "513e97bc-4dd8-4961-b9c6-47705521b1de",
   "metadata": {
    "execution": {
     "iopub.execute_input": "2023-06-28T16:22:17.712030Z",
     "iopub.status.busy": "2023-06-28T16:22:17.711438Z",
     "iopub.status.idle": "2023-06-28T16:22:17.755735Z",
     "shell.execute_reply": "2023-06-28T16:22:17.754799Z",
     "shell.execute_reply.started": "2023-06-28T16:22:17.711999Z"
    },
    "scrolled": true,
    "tags": []
   },
   "outputs": [],
   "source": [
    "infer1[\"guess\"] = guess1\n",
    "infer2[\"guess\"] = guess2\n",
    "infer3[\"guess\"] = guess3"
   ]
  },
  {
   "cell_type": "code",
   "execution_count": null,
   "id": "9047e3fe-f893-4e8c-b6de-d181960d4906",
   "metadata": {},
   "outputs": [],
   "source": []
  },
  {
   "cell_type": "code",
   "execution_count": 34,
   "id": "5ab1427b-2fe2-4599-ba71-8b194d5fc0d9",
   "metadata": {
    "execution": {
     "iopub.execute_input": "2023-06-28T13:04:10.664994Z",
     "iopub.status.busy": "2023-06-28T13:04:10.664101Z",
     "iopub.status.idle": "2023-06-28T13:04:10.689301Z",
     "shell.execute_reply": "2023-06-28T13:04:10.688569Z",
     "shell.execute_reply.started": "2023-06-28T13:04:10.664960Z"
    },
    "scrolled": true
   },
   "outputs": [
    {
     "data": {
      "text/html": [
       "<div>\n",
       "<style scoped>\n",
       "    .dataframe tbody tr th:only-of-type {\n",
       "        vertical-align: middle;\n",
       "    }\n",
       "\n",
       "    .dataframe tbody tr th {\n",
       "        vertical-align: top;\n",
       "    }\n",
       "\n",
       "    .dataframe thead th {\n",
       "        text-align: right;\n",
       "    }\n",
       "</style>\n",
       "<table border=\"1\" class=\"dataframe\">\n",
       "  <thead>\n",
       "    <tr style=\"text-align: right;\">\n",
       "      <th></th>\n",
       "      <th>pred</th>\n",
       "      <th>guess</th>\n",
       "    </tr>\n",
       "  </thead>\n",
       "  <tbody>\n",
       "    <tr>\n",
       "      <th>count</th>\n",
       "      <td>80383.000000</td>\n",
       "      <td>80383.000000</td>\n",
       "    </tr>\n",
       "    <tr>\n",
       "      <th>mean</th>\n",
       "      <td>0.057288</td>\n",
       "      <td>-0.522586</td>\n",
       "    </tr>\n",
       "    <tr>\n",
       "      <th>std</th>\n",
       "      <td>0.050446</td>\n",
       "      <td>0.499543</td>\n",
       "    </tr>\n",
       "    <tr>\n",
       "      <th>min</th>\n",
       "      <td>0.000314</td>\n",
       "      <td>-1.000000</td>\n",
       "    </tr>\n",
       "    <tr>\n",
       "      <th>25%</th>\n",
       "      <td>0.018613</td>\n",
       "      <td>-1.000000</td>\n",
       "    </tr>\n",
       "    <tr>\n",
       "      <th>50%</th>\n",
       "      <td>0.044075</td>\n",
       "      <td>-1.000000</td>\n",
       "    </tr>\n",
       "    <tr>\n",
       "      <th>75%</th>\n",
       "      <td>0.080762</td>\n",
       "      <td>0.000000</td>\n",
       "    </tr>\n",
       "    <tr>\n",
       "      <th>max</th>\n",
       "      <td>0.436369</td>\n",
       "      <td>1.000000</td>\n",
       "    </tr>\n",
       "  </tbody>\n",
       "</table>\n",
       "</div>"
      ],
      "text/plain": [
       "               pred         guess\n",
       "count  80383.000000  80383.000000\n",
       "mean       0.057288     -0.522586\n",
       "std        0.050446      0.499543\n",
       "min        0.000314     -1.000000\n",
       "25%        0.018613     -1.000000\n",
       "50%        0.044075     -1.000000\n",
       "75%        0.080762      0.000000\n",
       "max        0.436369      1.000000"
      ]
     },
     "execution_count": 34,
     "metadata": {},
     "output_type": "execute_result"
    }
   ],
   "source": [
    "infer1.describe()"
   ]
  },
  {
   "cell_type": "code",
   "execution_count": 35,
   "id": "1ed285fc-3760-4b3d-bc48-e95ae40a7ec4",
   "metadata": {
    "execution": {
     "iopub.execute_input": "2023-06-28T13:06:41.211443Z",
     "iopub.status.busy": "2023-06-28T13:06:41.210321Z",
     "iopub.status.idle": "2023-06-28T13:06:41.232294Z",
     "shell.execute_reply": "2023-06-28T13:06:41.231444Z",
     "shell.execute_reply.started": "2023-06-28T13:06:41.211411Z"
    },
    "scrolled": true
   },
   "outputs": [
    {
     "data": {
      "text/html": [
       "<div>\n",
       "<style scoped>\n",
       "    .dataframe tbody tr th:only-of-type {\n",
       "        vertical-align: middle;\n",
       "    }\n",
       "\n",
       "    .dataframe tbody tr th {\n",
       "        vertical-align: top;\n",
       "    }\n",
       "\n",
       "    .dataframe thead th {\n",
       "        text-align: right;\n",
       "    }\n",
       "</style>\n",
       "<table border=\"1\" class=\"dataframe\">\n",
       "  <thead>\n",
       "    <tr style=\"text-align: right;\">\n",
       "      <th></th>\n",
       "      <th>pred</th>\n",
       "      <th>guess</th>\n",
       "    </tr>\n",
       "  </thead>\n",
       "  <tbody>\n",
       "    <tr>\n",
       "      <th>count</th>\n",
       "      <td>69659.000000</td>\n",
       "      <td>69659.000000</td>\n",
       "    </tr>\n",
       "    <tr>\n",
       "      <th>mean</th>\n",
       "      <td>0.108945</td>\n",
       "      <td>-0.765228</td>\n",
       "    </tr>\n",
       "    <tr>\n",
       "      <th>std</th>\n",
       "      <td>0.090318</td>\n",
       "      <td>0.423893</td>\n",
       "    </tr>\n",
       "    <tr>\n",
       "      <th>min</th>\n",
       "      <td>0.001275</td>\n",
       "      <td>-1.000000</td>\n",
       "    </tr>\n",
       "    <tr>\n",
       "      <th>25%</th>\n",
       "      <td>0.044262</td>\n",
       "      <td>-1.000000</td>\n",
       "    </tr>\n",
       "    <tr>\n",
       "      <th>50%</th>\n",
       "      <td>0.077906</td>\n",
       "      <td>-1.000000</td>\n",
       "    </tr>\n",
       "    <tr>\n",
       "      <th>75%</th>\n",
       "      <td>0.146845</td>\n",
       "      <td>-1.000000</td>\n",
       "    </tr>\n",
       "    <tr>\n",
       "      <th>max</th>\n",
       "      <td>0.580343</td>\n",
       "      <td>1.000000</td>\n",
       "    </tr>\n",
       "  </tbody>\n",
       "</table>\n",
       "</div>"
      ],
      "text/plain": [
       "               pred         guess\n",
       "count  69659.000000  69659.000000\n",
       "mean       0.108945     -0.765228\n",
       "std        0.090318      0.423893\n",
       "min        0.001275     -1.000000\n",
       "25%        0.044262     -1.000000\n",
       "50%        0.077906     -1.000000\n",
       "75%        0.146845     -1.000000\n",
       "max        0.580343      1.000000"
      ]
     },
     "execution_count": 35,
     "metadata": {},
     "output_type": "execute_result"
    }
   ],
   "source": [
    "infer2.describe()"
   ]
  },
  {
   "cell_type": "code",
   "execution_count": 36,
   "id": "dbad1a6b-c92a-4f6f-92ce-9f33e33bd0fe",
   "metadata": {
    "execution": {
     "iopub.execute_input": "2023-06-28T13:06:45.612616Z",
     "iopub.status.busy": "2023-06-28T13:06:45.611429Z",
     "iopub.status.idle": "2023-06-28T13:06:45.634501Z",
     "shell.execute_reply": "2023-06-28T13:06:45.633670Z",
     "shell.execute_reply.started": "2023-06-28T13:06:45.612582Z"
    },
    "scrolled": true
   },
   "outputs": [
    {
     "data": {
      "text/html": [
       "<div>\n",
       "<style scoped>\n",
       "    .dataframe tbody tr th:only-of-type {\n",
       "        vertical-align: middle;\n",
       "    }\n",
       "\n",
       "    .dataframe tbody tr th {\n",
       "        vertical-align: top;\n",
       "    }\n",
       "\n",
       "    .dataframe thead th {\n",
       "        text-align: right;\n",
       "    }\n",
       "</style>\n",
       "<table border=\"1\" class=\"dataframe\">\n",
       "  <thead>\n",
       "    <tr style=\"text-align: right;\">\n",
       "      <th></th>\n",
       "      <th>pred</th>\n",
       "      <th>guess</th>\n",
       "    </tr>\n",
       "  </thead>\n",
       "  <tbody>\n",
       "    <tr>\n",
       "      <th>count</th>\n",
       "      <td>84870.000000</td>\n",
       "      <td>84870.000000</td>\n",
       "    </tr>\n",
       "    <tr>\n",
       "      <th>mean</th>\n",
       "      <td>0.045225</td>\n",
       "      <td>-0.507388</td>\n",
       "    </tr>\n",
       "    <tr>\n",
       "      <th>std</th>\n",
       "      <td>0.025381</td>\n",
       "      <td>0.499948</td>\n",
       "    </tr>\n",
       "    <tr>\n",
       "      <th>min</th>\n",
       "      <td>0.002234</td>\n",
       "      <td>-1.000000</td>\n",
       "    </tr>\n",
       "    <tr>\n",
       "      <th>25%</th>\n",
       "      <td>0.028246</td>\n",
       "      <td>-1.000000</td>\n",
       "    </tr>\n",
       "    <tr>\n",
       "      <th>50%</th>\n",
       "      <td>0.039628</td>\n",
       "      <td>-1.000000</td>\n",
       "    </tr>\n",
       "    <tr>\n",
       "      <th>75%</th>\n",
       "      <td>0.055534</td>\n",
       "      <td>0.000000</td>\n",
       "    </tr>\n",
       "    <tr>\n",
       "      <th>max</th>\n",
       "      <td>0.301820</td>\n",
       "      <td>0.000000</td>\n",
       "    </tr>\n",
       "  </tbody>\n",
       "</table>\n",
       "</div>"
      ],
      "text/plain": [
       "               pred         guess\n",
       "count  84870.000000  84870.000000\n",
       "mean       0.045225     -0.507388\n",
       "std        0.025381      0.499948\n",
       "min        0.002234     -1.000000\n",
       "25%        0.028246     -1.000000\n",
       "50%        0.039628     -1.000000\n",
       "75%        0.055534      0.000000\n",
       "max        0.301820      0.000000"
      ]
     },
     "execution_count": 36,
     "metadata": {},
     "output_type": "execute_result"
    }
   ],
   "source": [
    "infer3.describe()"
   ]
  },
  {
   "cell_type": "code",
   "execution_count": 70,
   "id": "0657c1ab-e6d7-4f82-8999-6eb34f78b6c8",
   "metadata": {
    "execution": {
     "iopub.execute_input": "2023-06-28T16:22:25.111913Z",
     "iopub.status.busy": "2023-06-28T16:22:25.111393Z",
     "iopub.status.idle": "2023-06-28T16:22:25.129181Z",
     "shell.execute_reply": "2023-06-28T16:22:25.128289Z",
     "shell.execute_reply.started": "2023-06-28T16:22:25.111884Z"
    },
    "scrolled": true,
    "tags": []
   },
   "outputs": [],
   "source": [
    "test_df.loc[test_df.ad_type==1, \"pred\"] = infer1[\"pred\"].values\n",
    "test_df.loc[test_df.ad_type==2, \"pred\"] = infer2[\"pred\"].values\n",
    "test_df.loc[test_df.ad_type==3, \"pred\"] = infer3[\"pred\"].values\n",
    "\n",
    "test_df.loc[test_df.ad_type==1, \"guess\"] = infer1[\"guess\"].values\n",
    "test_df.loc[test_df.ad_type==2, \"guess\"] = infer2[\"guess\"].values\n",
    "test_df.loc[test_df.ad_type==3, \"guess\"] = infer3[\"guess\"].values"
   ]
  },
  {
   "cell_type": "code",
   "execution_count": 71,
   "id": "e28add1f-043a-4a05-802d-5a21749c189e",
   "metadata": {
    "execution": {
     "iopub.execute_input": "2023-06-28T16:22:56.784514Z",
     "iopub.status.busy": "2023-06-28T16:22:56.784000Z",
     "iopub.status.idle": "2023-06-28T16:22:59.548222Z",
     "shell.execute_reply": "2023-06-28T16:22:59.547240Z",
     "shell.execute_reply.started": "2023-06-28T16:22:56.784482Z"
    },
    "scrolled": true,
    "tags": []
   },
   "outputs": [],
   "source": [
    "def adjust(row):\n",
    "    if row[\"guess\"] == -1:\n",
    "        return row[\"pred\"]\n",
    "    return row[\"guess\"]\n",
    "\n",
    "\n",
    "test_df[\"adjusted_pred\"] = test_df.apply(adjust, axis=1)"
   ]
  },
  {
   "cell_type": "code",
   "execution_count": 72,
   "id": "8c856812-2de2-4a09-9d38-758ff208eed0",
   "metadata": {
    "execution": {
     "iopub.execute_input": "2023-06-28T16:22:59.560693Z",
     "iopub.status.busy": "2023-06-28T16:22:59.560066Z",
     "iopub.status.idle": "2023-06-28T16:22:59.638245Z",
     "shell.execute_reply": "2023-06-28T16:22:59.637313Z",
     "shell.execute_reply.started": "2023-06-28T16:22:59.560668Z"
    },
    "scrolled": true,
    "tags": []
   },
   "outputs": [
    {
     "data": {
      "text/html": [
       "<div>\n",
       "<style scoped>\n",
       "    .dataframe tbody tr th:only-of-type {\n",
       "        vertical-align: middle;\n",
       "    }\n",
       "\n",
       "    .dataframe tbody tr th {\n",
       "        vertical-align: top;\n",
       "    }\n",
       "\n",
       "    .dataframe thead th {\n",
       "        text-align: right;\n",
       "    }\n",
       "</style>\n",
       "<table border=\"1\" class=\"dataframe\">\n",
       "  <thead>\n",
       "    <tr style=\"text-align: right;\">\n",
       "      <th></th>\n",
       "      <th>ad_type</th>\n",
       "      <th>pred</th>\n",
       "      <th>guess</th>\n",
       "      <th>adjusted_pred</th>\n",
       "    </tr>\n",
       "  </thead>\n",
       "  <tbody>\n",
       "    <tr>\n",
       "      <th>count</th>\n",
       "      <td>234912.000000</td>\n",
       "      <td>234912.000000</td>\n",
       "      <td>234912.000000</td>\n",
       "      <td>234912.000000</td>\n",
       "    </tr>\n",
       "    <tr>\n",
       "      <th>mean</th>\n",
       "      <td>2.019101</td>\n",
       "      <td>0.068248</td>\n",
       "      <td>-0.959168</td>\n",
       "      <td>0.067311</td>\n",
       "    </tr>\n",
       "    <tr>\n",
       "      <th>std</th>\n",
       "      <td>0.838514</td>\n",
       "      <td>0.065162</td>\n",
       "      <td>0.197902</td>\n",
       "      <td>0.065843</td>\n",
       "    </tr>\n",
       "    <tr>\n",
       "      <th>min</th>\n",
       "      <td>1.000000</td>\n",
       "      <td>0.000314</td>\n",
       "      <td>-1.000000</td>\n",
       "      <td>0.000000</td>\n",
       "    </tr>\n",
       "    <tr>\n",
       "      <th>25%</th>\n",
       "      <td>1.000000</td>\n",
       "      <td>0.028882</td>\n",
       "      <td>-1.000000</td>\n",
       "      <td>0.028012</td>\n",
       "    </tr>\n",
       "    <tr>\n",
       "      <th>50%</th>\n",
       "      <td>2.000000</td>\n",
       "      <td>0.047938</td>\n",
       "      <td>-1.000000</td>\n",
       "      <td>0.047572</td>\n",
       "    </tr>\n",
       "    <tr>\n",
       "      <th>75%</th>\n",
       "      <td>3.000000</td>\n",
       "      <td>0.082836</td>\n",
       "      <td>-1.000000</td>\n",
       "      <td>0.082649</td>\n",
       "    </tr>\n",
       "    <tr>\n",
       "      <th>max</th>\n",
       "      <td>3.000000</td>\n",
       "      <td>0.580343</td>\n",
       "      <td>0.000000</td>\n",
       "      <td>0.580343</td>\n",
       "    </tr>\n",
       "  </tbody>\n",
       "</table>\n",
       "</div>"
      ],
      "text/plain": [
       "             ad_type           pred          guess  adjusted_pred\n",
       "count  234912.000000  234912.000000  234912.000000  234912.000000\n",
       "mean        2.019101       0.068248      -0.959168       0.067311\n",
       "std         0.838514       0.065162       0.197902       0.065843\n",
       "min         1.000000       0.000314      -1.000000       0.000000\n",
       "25%         1.000000       0.028882      -1.000000       0.028012\n",
       "50%         2.000000       0.047938      -1.000000       0.047572\n",
       "75%         3.000000       0.082836      -1.000000       0.082649\n",
       "max         3.000000       0.580343       0.000000       0.580343"
      ]
     },
     "execution_count": 72,
     "metadata": {},
     "output_type": "execute_result"
    }
   ],
   "source": [
    "test_df.describe()"
   ]
  },
  {
   "cell_type": "code",
   "execution_count": 47,
   "id": "35128fdd-5dd0-486a-ace3-964f59a53d3b",
   "metadata": {
    "execution": {
     "iopub.execute_input": "2023-06-29T07:48:10.736427Z",
     "iopub.status.busy": "2023-06-29T07:48:10.736065Z",
     "iopub.status.idle": "2023-06-29T07:48:11.341092Z",
     "shell.execute_reply": "2023-06-29T07:48:11.340240Z",
     "shell.execute_reply.started": "2023-06-29T07:48:10.736399Z"
    },
    "scrolled": true,
    "tags": []
   },
   "outputs": [],
   "source": [
    "tmp[[\"log_key\", \"adjusted_pred\"]].to_csv(\"../../../test-1.txt\", index=False, header=False)"
   ]
  },
  {
   "cell_type": "code",
   "execution_count": null,
   "id": "b16635f6-baa5-4e09-a389-3162ae33ebe9",
   "metadata": {},
   "outputs": [],
   "source": []
  },
  {
   "cell_type": "code",
   "execution_count": null,
   "id": "060779a8-0465-4fe2-be09-9bcae346c670",
   "metadata": {},
   "outputs": [],
   "source": [
    "\"\"\"\n",
    "[1] -- conv1: 7; \tconv2: 7; \tconv3: 7; \tduplicated: 0\n",
    "[2] -- conv1: 3; \tconv2: 3; \tconv3: 3; \tduplicated: 0\n",
    "[3] -- conv1: 2150413; \tconv2: 2115505; \tconv3: 2691446; \tduplicated: 0\n",
    "[4] -- conv1: 1765698; \tconv2: 1508849; \tconv3: 2051660; \tduplicated: 0\n",
    "[5] -- conv1: 4; \tconv2: 4; \tconv3: 4; \tduplicated: 0\n",
    "[6] -- conv1: 3; \tconv2: 3; \tconv3: 3; \tduplicated: 0\n",
    "[7] -- conv1: 6; \tconv2: 6; \tconv3: 6; \tduplicated: 6\n",
    "[8] -- conv1: 6; \tconv2: 6; \tconv3: 6; \tduplicated: 0\n",
    "[9] -- conv1: 2; \tconv2: 2; \tconv3: 2; \tduplicated: 0\n",
    "[10] -- conv1: 2058747; \tconv2: 1360987; \tconv3: 2599295; \tduplicated: 52\n",
    "[11] -- conv1: 37; \tconv2: 37; \tconv3: 37; \tduplicated: 0\n",
    "[12] -- conv1: 0; \tconv2: 0; \tconv3: 0; \tduplicated: 0\n",
    "[13] -- conv1: 24; \tconv2: 24; \tconv3: 24; \tduplicated: 24\n",
    "[14] -- conv1: 2; \tconv2: 2; \tconv3: 2; \tduplicated: 0\n",
    "[15] -- conv1: 346; \tconv2: 398; \tconv3: 368; \tduplicated: 0\n",
    "[16] -- conv1: 1; \tconv2: 1; \tconv3: 1; \tduplicated: 1\n",
    "[17] -- conv1: 6565679; \tconv2: 2944406; \tconv3: 8161049; \tduplicated: 0\n",
    "[18] -- conv1: 1733638; \tconv2: 574389; \tconv3: 1057223; \tduplicated: 5079\n",
    "[19] -- conv1: 98891; \tconv2: 96438; \tconv3: 174708; \tduplicated: 0\n",
    "[20] -- conv1: 15419; \tconv2: 13502; \tconv3: 14936; \tduplicated: 3780\n",
    "[21] -- conv1: 7; \tconv2: 5; \tconv3: 2; \tduplicated: 0\n",
    "[22] -- conv1: 15123167; \tconv2: 12696954; \tconv3: 16736240; \tduplicated: 1298\n",
    "[23] -- conv1: 89467; \tconv2: 101374; \tconv3: 127921; \tduplicated: 0\n",
    "[24] -- conv1: 285; \tconv2: 284; \tconv3: 410; \tduplicated: 240\n",
    "[25] -- conv1: 348; \tconv2: 395; \tconv3: 275; \tduplicated: 0\n",
    "[26] -- conv1: 1643; \tconv2: 1609; \tconv3: 1503; \tduplicated: 1324\n",
    "\"\"\""
   ]
  },
  {
   "cell_type": "code",
   "execution_count": 56,
   "id": "8efe8f6c-39ca-4041-ac61-82af49305d48",
   "metadata": {
    "execution": {
     "iopub.execute_input": "2023-06-29T10:04:33.805092Z",
     "iopub.status.busy": "2023-06-29T10:04:33.804667Z",
     "iopub.status.idle": "2023-06-29T10:04:33.836798Z",
     "shell.execute_reply": "2023-06-29T10:04:33.835791Z",
     "shell.execute_reply.started": "2023-06-29T10:04:33.805062Z"
    },
    "tags": []
   },
   "outputs": [
    {
     "data": {
      "text/plain": [
       "{0: 2,\n",
       " 1: 2,\n",
       " 2: 41,\n",
       " 3: 38,\n",
       " 4: 2,\n",
       " 5: 2,\n",
       " 6: 2,\n",
       " 7: 2,\n",
       " 8: 2,\n",
       " 9: 41,\n",
       " 10: 3,\n",
       " 11: 2,\n",
       " 12: 3,\n",
       " 13: 2,\n",
       " 14: 5,\n",
       " 15: 2,\n",
       " 16: 54,\n",
       " 17: 37,\n",
       " 18: 21,\n",
       " 19: 12,\n",
       " 20: 2,\n",
       " 21: 64,\n",
       " 22: 19,\n",
       " 23: 5,\n",
       " 24: 5,\n",
       " 25: 7}"
      ]
     },
     "execution_count": 56,
     "metadata": {},
     "output_type": "execute_result"
    }
   ],
   "source": [
    "emb_size_map = {\n",
    "    0: int(7**0.25+1),\n",
    "    1: int(3**0.25+1),\n",
    "    2: int(2691446**0.25+1),\n",
    "    3: int(2051660**0.25+1),\n",
    "    4: int(4**0.25+1),\n",
    "    5: int(3**0.25+1),\n",
    "    6: int(6**0.25+1),\n",
    "    7: int(6**0.25+1),\n",
    "    8: int(2**0.25+1),\n",
    "    9: int(2599295**0.25+1),\n",
    "    10: int(37**0.25+1),\n",
    "    11: int(3**0.25+1),\n",
    "    12: int(24**0.25+1),\n",
    "    13: int(2**0.25+1),\n",
    "    14: int(398**0.25+1),\n",
    "    15: int(2**0.25+1),\n",
    "    16: int(8161049**0.25+1),\n",
    "    17: int(1733638**0.25+1),\n",
    "    18: int(174708**0.25+1),\n",
    "    19: int(15419**0.25+1),\n",
    "    20: int(7**0.25+1),\n",
    "    21: int(16736240**0.25+1),\n",
    "    22: int(127921**0.25+1),\n",
    "    23: int(410**0.25+1),\n",
    "    24: int(395**0.25+1),\n",
    "    25: int(1643**0.25+1),\n",
    "}\n",
    "\n",
    "emb_size_map"
   ]
  },
  {
   "cell_type": "code",
   "execution_count": null,
   "id": "13aecde7-bf63-40a6-bc1d-34d17028df12",
   "metadata": {},
   "outputs": [],
   "source": []
  },
  {
   "cell_type": "code",
   "execution_count": null,
   "id": "24c9dafe-dac2-4679-9c77-597e0b0c2e02",
   "metadata": {},
   "outputs": [],
   "source": []
  }
 ],
 "metadata": {
  "kernelspec": {
   "display_name": "Python 3 (ipykernel)",
   "language": "python",
   "name": "python3"
  },
  "language_info": {
   "codemirror_mode": {
    "name": "ipython",
    "version": 3
   },
   "file_extension": ".py",
   "mimetype": "text/x-python",
   "name": "python",
   "nbconvert_exporter": "python",
   "pygments_lexer": "ipython3",
   "version": "3.8.9"
  },
  "toc-autonumbering": true,
  "toc-showmarkdowntxt": false,
  "toc-showtags": false
 },
 "nbformat": 4,
 "nbformat_minor": 5
}
