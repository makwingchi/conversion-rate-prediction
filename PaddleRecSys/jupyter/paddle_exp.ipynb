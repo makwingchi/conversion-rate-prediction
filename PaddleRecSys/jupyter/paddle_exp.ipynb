{
 "cells": [
  {
   "cell_type": "code",
   "execution_count": 1,
   "id": "b31ebe2e-4a75-4325-a0f4-976f1f3591ba",
   "metadata": {
    "execution": {
     "iopub.execute_input": "2023-06-22T13:13:19.749361Z",
     "iopub.status.busy": "2023-06-22T13:13:19.748971Z",
     "iopub.status.idle": "2023-06-22T13:13:21.173410Z",
     "shell.execute_reply": "2023-06-22T13:13:21.172437Z",
     "shell.execute_reply.started": "2023-06-22T13:13:19.749334Z"
    },
    "tags": []
   },
   "outputs": [],
   "source": [
    "import os\n",
    "import math\n",
    "import datetime\n",
    "import joblib\n",
    "import logging\n",
    "\n",
    "from tqdm import tqdm\n",
    "\n",
    "import numpy as np\n",
    "import pandas as pd\n",
    "\n",
    "import paddle\n",
    "from paddle.io import Dataset, DataLoader\n",
    "import paddle.nn.functional as F"
   ]
  },
  {
   "cell_type": "code",
   "execution_count": 2,
   "id": "ec18cb94-6391-403c-a4a5-d8b2b7727bd1",
   "metadata": {
    "execution": {
     "iopub.execute_input": "2023-06-22T13:13:21.176279Z",
     "iopub.status.busy": "2023-06-22T13:13:21.175740Z",
     "iopub.status.idle": "2023-06-22T13:13:21.180039Z",
     "shell.execute_reply": "2023-06-22T13:13:21.179233Z",
     "shell.execute_reply.started": "2023-06-22T13:13:21.176249Z"
    },
    "tags": []
   },
   "outputs": [],
   "source": [
    "paddle.enable_static()"
   ]
  },
  {
   "cell_type": "code",
   "execution_count": null,
   "id": "3fb1f78e-cd75-4e8d-a412-3fd8bda1f7b6",
   "metadata": {},
   "outputs": [],
   "source": []
  },
  {
   "cell_type": "code",
   "execution_count": 3,
   "id": "1559a3d0-c3ea-427d-88ae-54d581daca62",
   "metadata": {
    "execution": {
     "iopub.execute_input": "2023-06-22T13:13:21.181779Z",
     "iopub.status.busy": "2023-06-22T13:13:21.181501Z",
     "iopub.status.idle": "2023-06-22T13:13:21.232107Z",
     "shell.execute_reply": "2023-06-22T13:13:21.231161Z",
     "shell.execute_reply.started": "2023-06-22T13:13:21.181757Z"
    },
    "tags": []
   },
   "outputs": [],
   "source": [
    "class StaticModel:\n",
    "    def __init__(self):\n",
    "        self.cost = None\n",
    "        self.infer_target_var = None\n",
    "        self._init_hyper_parameters()\n",
    "\n",
    "    def _init_hyper_parameters(self):        \n",
    "        self.sparse_feature_number = 88000000\n",
    "        self.sparse_feature_dim = 9\n",
    "        self.sparse_inputs_slots = 28\n",
    "        self.learning_rate = 0.001\n",
    "        self.fc_sizes = [512, 256, 128, 32]\n",
    "        \n",
    "    def create_feeds(self, is_infer=False):\n",
    "        sparse_input_ids = [\n",
    "            paddle.static.data(\n",
    "                name=\"C\" + str(i), shape=[None, 1], lod_level=1, dtype=\"int64\")\n",
    "            for i in range(1, self.sparse_inputs_slots)\n",
    "        ]\n",
    "\n",
    "        label = paddle.static.data(\n",
    "            name=\"label\", shape=[None, 1], dtype=\"int64\"\n",
    "        )\n",
    "\n",
    "        feeds_list = [label] + sparse_input_ids\n",
    "        \n",
    "        return feeds_list\n",
    "\n",
    "    def net(self, _input, is_infer=False):\n",
    "        self.log_key = _input[0]\n",
    "        self.label_input = _input[1]\n",
    "        self.sparse_inputs = _input[2:self.sparse_inputs_slots]\n",
    "        sparse_number = self.sparse_inputs_slots - 2\n",
    "\n",
    "        def embedding_layer(_input):\n",
    "            emb = paddle.fluid.layers.embedding(\n",
    "                input=_input,\n",
    "                is_sparse=True,\n",
    "                is_distributed=False,\n",
    "                size=[\n",
    "                    self.sparse_feature_number, self.sparse_feature_dim\n",
    "                ],\n",
    "                param_attr=paddle.fluid.ParamAttr(\n",
    "                    name=\"SparseFeatFactors\",\n",
    "                    initializer=paddle.fluid.initializer.Uniform()\n",
    "                )\n",
    "            )\n",
    "            \n",
    "            emb_sum = paddle.fluid.layers.sequence_pool(\n",
    "                input=emb, \n",
    "                pool_type='sum'\n",
    "            )\n",
    "            \n",
    "            return emb_sum\n",
    "\n",
    "        sparse_embs = list(map(embedding_layer, self.sparse_inputs))\n",
    "\n",
    "        dnn_model = StaticDNNLayer(\n",
    "            self.sparse_feature_number, \n",
    "            self.sparse_feature_dim,\n",
    "            sparse_number, \n",
    "            self.fc_sizes\n",
    "        )\n",
    "\n",
    "        pred = dnn_model.forward(sparse_embs)\n",
    "\n",
    "        predict_2d = paddle.concat(x=[1 - pred, pred], axis=1)\n",
    "\n",
    "        auc, batch_auc_var, _ = paddle.static.auc(\n",
    "            input=predict_2d,\n",
    "            label=self.label_input,\n",
    "            slide_steps=0\n",
    "        )\n",
    "        self.inference_target_var = auc\n",
    "        \n",
    "        if is_infer:\n",
    "            fetch_dict = {'log_key': self.log_key,'pred': pred}\n",
    "            return fetch_dict\n",
    "\n",
    "        cost = paddle.nn.functional.log_loss(\n",
    "            input=pred, \n",
    "            label=paddle.cast(\n",
    "                self.label_input, \n",
    "                dtype=\"float32\"\n",
    "            )\n",
    "        )\n",
    "        \n",
    "        avg_cost = paddle.mean(x=cost)\n",
    "        self._cost = avg_cost\n",
    "        fetch_dict = {'cost': avg_cost, 'auc': auc}\n",
    "        \n",
    "        return fetch_dict\n",
    "\n",
    "    def create_optimizer(self, strategy=None):\n",
    "        optimizer = paddle.optimizer.Adam(\n",
    "            learning_rate=self.learning_rate, \n",
    "            lazy_mode=True\n",
    "        )\n",
    "        \n",
    "        if strategy != None:\n",
    "            import paddle.distributed.fleet as fleet\n",
    "            optimizer = fleet.distributed_optimizer(optimizer, strategy)\n",
    "            \n",
    "        optimizer.minimize(self._cost)\n",
    "\n",
    "    def infer_net(self, _input):\n",
    "        return self.net(_input, is_infer=True)"
   ]
  },
  {
   "cell_type": "code",
   "execution_count": 4,
   "id": "1362ea74-64b4-4b74-b3e4-d6db1d4bc6e6",
   "metadata": {
    "execution": {
     "iopub.execute_input": "2023-06-22T13:13:21.235029Z",
     "iopub.status.busy": "2023-06-22T13:13:21.234200Z",
     "iopub.status.idle": "2023-06-22T13:13:21.245373Z",
     "shell.execute_reply": "2023-06-22T13:13:21.244462Z",
     "shell.execute_reply.started": "2023-06-22T13:13:21.234996Z"
    },
    "tags": []
   },
   "outputs": [],
   "source": [
    "class StaticDNNLayer(paddle.nn.Layer):\n",
    "    def __init__(self, sparse_feature_number, sparse_feature_dim, num_field, layer_sizes):\n",
    "        super().__init__()\n",
    "        \n",
    "        self.sparse_feature_number = sparse_feature_number\n",
    "        self.sparse_feature_dim = sparse_feature_dim\n",
    "        self.num_field = num_field\n",
    "        self.layer_sizes = layer_sizes\n",
    "\n",
    "        sizes = [sparse_feature_dim * num_field \n",
    "                 ] + self.layer_sizes + [1]\n",
    "        acts = [\"relu\" for _ in range(len(self.layer_sizes))] + [None]\n",
    "        \n",
    "        self._mlp_layers = []\n",
    "        \n",
    "        for i in range(len(layer_sizes) + 1):\n",
    "            linear = paddle.nn.Linear(\n",
    "                in_features=sizes[i],\n",
    "                out_features=sizes[i + 1],\n",
    "                weight_attr=paddle.ParamAttr(\n",
    "                    initializer=paddle.nn.initializer.Normal(\n",
    "                        std=1.0 / math.sqrt(sizes[i])\n",
    "                    )\n",
    "                )\n",
    "            )\n",
    "            \n",
    "            self.add_sublayer('linear_%d' % i, linear)\n",
    "            self._mlp_layers.append(linear)\n",
    "            \n",
    "            if acts[i] == 'relu':\n",
    "                act = paddle.nn.ReLU()\n",
    "                self.add_sublayer('act_%d' % i, act)\n",
    "                self._mlp_layers.append(act)\n",
    "\n",
    "    def forward(self, sparse_embs):\n",
    "        y_dnn = paddle.concat(x=sparse_embs, axis=1)\n",
    "        \n",
    "        for n_layer in self._mlp_layers:\n",
    "            y_dnn = n_layer(y_dnn)\n",
    "\n",
    "        predict = F.sigmoid(y_dnn)\n",
    "        \n",
    "        return predict"
   ]
  },
  {
   "cell_type": "code",
   "execution_count": 5,
   "id": "51c32d4a-8b31-41fa-8c53-438011111ab0",
   "metadata": {
    "execution": {
     "iopub.execute_input": "2023-06-22T13:13:21.249430Z",
     "iopub.status.busy": "2023-06-22T13:13:21.249082Z",
     "iopub.status.idle": "2023-06-22T13:13:21.255800Z",
     "shell.execute_reply": "2023-06-22T13:13:21.253852Z",
     "shell.execute_reply.started": "2023-06-22T13:13:21.249402Z"
    },
    "tags": []
   },
   "outputs": [],
   "source": [
    "def get_filepath(dir_path, list_name):\n",
    "    for file in os.listdir(dir_path):\n",
    "        file_path = os.path.join(dir_path, file)\n",
    "        \n",
    "        if os.path.isdir(file_path):\n",
    "            get_filepath(file_path, list_name)\n",
    "        else:\n",
    "            list_name.append(file_path)\n",
    "    \n",
    "    return list_name"
   ]
  },
  {
   "cell_type": "code",
   "execution_count": 6,
   "id": "f0f1f7c0-8d66-439a-bc69-aabcc648bc52",
   "metadata": {
    "execution": {
     "iopub.execute_input": "2023-06-22T13:13:21.258941Z",
     "iopub.status.busy": "2023-06-22T13:13:21.258455Z",
     "iopub.status.idle": "2023-06-22T13:13:21.266054Z",
     "shell.execute_reply": "2023-06-22T13:13:21.264651Z",
     "shell.execute_reply.started": "2023-06-22T13:13:21.258908Z"
    },
    "tags": []
   },
   "outputs": [],
   "source": [
    "def get_file_list(data_path):\n",
    "    assert os.path.exists(data_path)\n",
    "    list_name = []\n",
    "    file_list = get_filepath(data_path, list_name)\n",
    "\n",
    "    print(\"File list: {}\".format(file_list))\n",
    "    \n",
    "    return file_list"
   ]
  },
  {
   "cell_type": "code",
   "execution_count": 7,
   "id": "0149c830-f3a5-4455-b5cd-b9f9d1c18423",
   "metadata": {
    "execution": {
     "iopub.execute_input": "2023-06-22T13:13:21.269860Z",
     "iopub.status.busy": "2023-06-22T13:13:21.268708Z",
     "iopub.status.idle": "2023-06-22T13:13:21.342247Z",
     "shell.execute_reply": "2023-06-22T13:13:21.341129Z",
     "shell.execute_reply.started": "2023-06-22T13:13:21.269804Z"
    },
    "tags": []
   },
   "outputs": [],
   "source": [
    "def get_reader(input_var):\n",
    "    reader_type = \"QueueDataset\"\n",
    "    train_data_path = \"../data/data205411/2023-cvr-contest-data/train_data\"\n",
    "    \n",
    "    assert train_data_path != \"\"\n",
    "\n",
    "    assert reader_type in [\n",
    "        \"QueueDataset\"\n",
    "    ]\n",
    "    \n",
    "    file_list = get_file_list(train_data_path)\n",
    "    print(\"train file_list: {}\".format(file_list))\n",
    "    \n",
    "    reader_instance = Queue(input_var, file_list)\n",
    "    return reader_instance.get_reader(), file_list"
   ]
  },
  {
   "cell_type": "code",
   "execution_count": 8,
   "id": "68e35ee1-c69d-4125-a93f-545d38784e75",
   "metadata": {
    "execution": {
     "iopub.execute_input": "2023-06-22T13:13:21.344050Z",
     "iopub.status.busy": "2023-06-22T13:13:21.343624Z",
     "iopub.status.idle": "2023-06-22T13:13:21.356203Z",
     "shell.execute_reply": "2023-06-22T13:13:21.354925Z",
     "shell.execute_reply.started": "2023-06-22T13:13:21.344022Z"
    },
    "tags": []
   },
   "outputs": [],
   "source": [
    "class Queue:\n",
    "    def __init__(self, input_var, file_list):\n",
    "        assert isinstance(input_var, list)\n",
    "        assert len(file_list) > 0\n",
    "\n",
    "        self.input_var = input_var\n",
    "        self.file_list = file_list\n",
    "\n",
    "        self.pipe_command = \"python3 queuedataset_reader.py\"\n",
    "        self.train_reader = \"criteo_reader\"\n",
    "        \n",
    "        assert self.pipe_command != None\n",
    "                        \n",
    "        print(\"pipe_command is: {}\".format(self.pipe_command))\n",
    "        \n",
    "        self.batch_size = 128\n",
    "        assert self.batch_size >= 1\n",
    "        \n",
    "        self.thread_num = 1\n",
    "        print(\"dataset init thread_num:\", self.thread_num)\n",
    "        assert self.thread_num >= 1\n",
    "\n",
    "    def get_reader(self):\n",
    "        print(\"Get Train Dataset\")\n",
    "        dataset = paddle.distributed.QueueDataset()\n",
    "        dataset.init(\n",
    "            use_var=self.input_var,\n",
    "            pipe_command=self.pipe_command,\n",
    "            batch_size=self.batch_size,\n",
    "            thread_num=self.thread_num\n",
    "        )\n",
    "        print(\"dataset get_reader thread_num:\", self.thread_num)\n",
    "        dataset.set_filelist(self.file_list)\n",
    "        return dataset\n",
    "\n",
    "    def get_infer_reader(self):\n",
    "        print(\"Get Infer Dataset\")\n",
    "        dataset = paddle.distributed.QueueDataset()\n",
    "        self.infer_batch_size = 128\n",
    "        self.infer_thread_num = self.thread_num\n",
    "        dataset.init(\n",
    "            use_var=self.input_var,\n",
    "            pipe_command=self.pipe_command,\n",
    "            batch_size=self.infer_batch_size,\n",
    "            thread_num=self.infer_thread_num\n",
    "        )\n",
    "        print(\"dataset get_infer_reader thread_num:\", self.infer_thread_num)\n",
    "        dataset.set_filelist(self.file_list)\n",
    "        return dataset"
   ]
  },
  {
   "cell_type": "code",
   "execution_count": 9,
   "id": "1ccd597d-f4d2-4ff2-8bbc-40f963ce4104",
   "metadata": {
    "execution": {
     "iopub.execute_input": "2023-06-22T13:13:21.359140Z",
     "iopub.status.busy": "2023-06-22T13:13:21.358599Z",
     "iopub.status.idle": "2023-06-22T13:13:21.366121Z",
     "shell.execute_reply": "2023-06-22T13:13:21.365049Z",
     "shell.execute_reply.started": "2023-06-22T13:13:21.359110Z"
    },
    "tags": []
   },
   "outputs": [],
   "source": [
    "def dataset_train(epoch_id, dataset, fetch_vars, exe):\n",
    "    fetch_info = [\n",
    "        \"Epoch {} Var {}\".format(epoch_id, var_name) for var_name in fetch_vars\n",
    "    ]\n",
    "    \n",
    "    fetch_vars = [var for _, var in fetch_vars.items()]\n",
    "    print_interval = 50\n",
    "    \n",
    "    exe.train_from_dataset(\n",
    "        program=paddle.static.default_main_program(),\n",
    "        dataset=dataset,\n",
    "        fetch_list=fetch_vars,\n",
    "        fetch_info=fetch_info,\n",
    "        print_period=print_interval,\n",
    "        debug=False\n",
    "    )"
   ]
  },
  {
   "cell_type": "code",
   "execution_count": null,
   "id": "955ea1de-c0dc-4bb3-b8c9-3a9d0cbd435f",
   "metadata": {},
   "outputs": [],
   "source": []
  },
  {
   "cell_type": "code",
   "execution_count": 10,
   "id": "a8e276d2-79df-4103-81a0-b5d99de7615c",
   "metadata": {
    "execution": {
     "iopub.execute_input": "2023-06-22T13:13:21.367753Z",
     "iopub.status.busy": "2023-06-22T13:13:21.367365Z",
     "iopub.status.idle": "2023-06-22T13:13:21.372015Z",
     "shell.execute_reply": "2023-06-22T13:13:21.371081Z",
     "shell.execute_reply.started": "2023-06-22T13:13:21.367724Z"
    },
    "tags": []
   },
   "outputs": [],
   "source": [
    "static_model_class = StaticModel()"
   ]
  },
  {
   "cell_type": "code",
   "execution_count": 11,
   "id": "c32ccad3-7cb4-4ee8-ab37-1734024fd1fb",
   "metadata": {
    "execution": {
     "iopub.execute_input": "2023-06-22T13:13:21.373557Z",
     "iopub.status.busy": "2023-06-22T13:13:21.373004Z",
     "iopub.status.idle": "2023-06-22T13:13:21.392978Z",
     "shell.execute_reply": "2023-06-22T13:13:21.391425Z",
     "shell.execute_reply.started": "2023-06-22T13:13:21.373527Z"
    },
    "tags": []
   },
   "outputs": [
    {
     "data": {
      "text/plain": [
       "[var label : LOD_TENSOR.shape(-1, 1).dtype(int64).stop_gradient(True),\n",
       " var C1 : LOD_TENSOR.shape(-1, 1).dtype(int64).stop_gradient(True),\n",
       " var C2 : LOD_TENSOR.shape(-1, 1).dtype(int64).stop_gradient(True),\n",
       " var C3 : LOD_TENSOR.shape(-1, 1).dtype(int64).stop_gradient(True),\n",
       " var C4 : LOD_TENSOR.shape(-1, 1).dtype(int64).stop_gradient(True),\n",
       " var C5 : LOD_TENSOR.shape(-1, 1).dtype(int64).stop_gradient(True),\n",
       " var C6 : LOD_TENSOR.shape(-1, 1).dtype(int64).stop_gradient(True),\n",
       " var C7 : LOD_TENSOR.shape(-1, 1).dtype(int64).stop_gradient(True),\n",
       " var C8 : LOD_TENSOR.shape(-1, 1).dtype(int64).stop_gradient(True),\n",
       " var C9 : LOD_TENSOR.shape(-1, 1).dtype(int64).stop_gradient(True),\n",
       " var C10 : LOD_TENSOR.shape(-1, 1).dtype(int64).stop_gradient(True),\n",
       " var C11 : LOD_TENSOR.shape(-1, 1).dtype(int64).stop_gradient(True),\n",
       " var C12 : LOD_TENSOR.shape(-1, 1).dtype(int64).stop_gradient(True),\n",
       " var C13 : LOD_TENSOR.shape(-1, 1).dtype(int64).stop_gradient(True),\n",
       " var C14 : LOD_TENSOR.shape(-1, 1).dtype(int64).stop_gradient(True),\n",
       " var C15 : LOD_TENSOR.shape(-1, 1).dtype(int64).stop_gradient(True),\n",
       " var C16 : LOD_TENSOR.shape(-1, 1).dtype(int64).stop_gradient(True),\n",
       " var C17 : LOD_TENSOR.shape(-1, 1).dtype(int64).stop_gradient(True),\n",
       " var C18 : LOD_TENSOR.shape(-1, 1).dtype(int64).stop_gradient(True),\n",
       " var C19 : LOD_TENSOR.shape(-1, 1).dtype(int64).stop_gradient(True),\n",
       " var C20 : LOD_TENSOR.shape(-1, 1).dtype(int64).stop_gradient(True),\n",
       " var C21 : LOD_TENSOR.shape(-1, 1).dtype(int64).stop_gradient(True),\n",
       " var C22 : LOD_TENSOR.shape(-1, 1).dtype(int64).stop_gradient(True),\n",
       " var C23 : LOD_TENSOR.shape(-1, 1).dtype(int64).stop_gradient(True),\n",
       " var C24 : LOD_TENSOR.shape(-1, 1).dtype(int64).stop_gradient(True),\n",
       " var C25 : LOD_TENSOR.shape(-1, 1).dtype(int64).stop_gradient(True),\n",
       " var C26 : LOD_TENSOR.shape(-1, 1).dtype(int64).stop_gradient(True),\n",
       " var C27 : LOD_TENSOR.shape(-1, 1).dtype(int64).stop_gradient(True)]"
      ]
     },
     "execution_count": 11,
     "metadata": {},
     "output_type": "execute_result"
    }
   ],
   "source": [
    "input_data = static_model_class.create_feeds()\n",
    "input_data"
   ]
  },
  {
   "cell_type": "code",
   "execution_count": 12,
   "id": "e4560e28-e91a-44b5-a48d-8ec1eef93e80",
   "metadata": {
    "execution": {
     "iopub.execute_input": "2023-06-22T13:13:21.395638Z",
     "iopub.status.busy": "2023-06-22T13:13:21.395216Z",
     "iopub.status.idle": "2023-06-22T13:13:21.405315Z",
     "shell.execute_reply": "2023-06-22T13:13:21.404036Z",
     "shell.execute_reply.started": "2023-06-22T13:13:21.395611Z"
    },
    "tags": []
   },
   "outputs": [
    {
     "data": {
      "text/plain": [
       "['label',\n",
       " 'C1',\n",
       " 'C2',\n",
       " 'C3',\n",
       " 'C4',\n",
       " 'C5',\n",
       " 'C6',\n",
       " 'C7',\n",
       " 'C8',\n",
       " 'C9',\n",
       " 'C10',\n",
       " 'C11',\n",
       " 'C12',\n",
       " 'C13',\n",
       " 'C14',\n",
       " 'C15',\n",
       " 'C16',\n",
       " 'C17',\n",
       " 'C18',\n",
       " 'C19',\n",
       " 'C20',\n",
       " 'C21',\n",
       " 'C22',\n",
       " 'C23',\n",
       " 'C24',\n",
       " 'C25',\n",
       " 'C26',\n",
       " 'C27']"
      ]
     },
     "execution_count": 12,
     "metadata": {},
     "output_type": "execute_result"
    }
   ],
   "source": [
    "input_data_names = [data.name for data in input_data]\n",
    "input_data_names"
   ]
  },
  {
   "cell_type": "code",
   "execution_count": 13,
   "id": "bf7359a8-2b53-491b-b618-ca817cc052dc",
   "metadata": {
    "execution": {
     "iopub.execute_input": "2023-06-22T13:13:21.407969Z",
     "iopub.status.busy": "2023-06-22T13:13:21.407473Z",
     "iopub.status.idle": "2023-06-22T13:13:21.548039Z",
     "shell.execute_reply": "2023-06-22T13:13:21.547195Z",
     "shell.execute_reply.started": "2023-06-22T13:13:21.407938Z"
    },
    "tags": []
   },
   "outputs": [],
   "source": [
    "fetch_vars = static_model_class.net(input_data)"
   ]
  },
  {
   "cell_type": "code",
   "execution_count": 14,
   "id": "5bed1211-56b6-4c66-9403-1ab8fc25155d",
   "metadata": {
    "execution": {
     "iopub.execute_input": "2023-06-22T13:13:21.554208Z",
     "iopub.status.busy": "2023-06-22T13:13:21.553885Z",
     "iopub.status.idle": "2023-06-22T13:13:21.559535Z",
     "shell.execute_reply": "2023-06-22T13:13:21.558649Z",
     "shell.execute_reply.started": "2023-06-22T13:13:21.554184Z"
    },
    "tags": []
   },
   "outputs": [
    {
     "data": {
      "text/plain": [
       "{'cost': var mean_0.tmp_0 : LOD_TENSOR.shape(1,).dtype(float32).stop_gradient(False),\n",
       " 'auc': var auc_0.tmp_0 : LOD_TENSOR.shape(1,).dtype(int64).stop_gradient(False)}"
      ]
     },
     "execution_count": 14,
     "metadata": {},
     "output_type": "execute_result"
    }
   ],
   "source": [
    "fetch_vars"
   ]
  },
  {
   "cell_type": "code",
   "execution_count": null,
   "id": "5794e96a-1b07-45ad-a59a-e0945ad648b1",
   "metadata": {},
   "outputs": [],
   "source": []
  },
  {
   "cell_type": "code",
   "execution_count": 15,
   "id": "3f9b3324-bf26-438d-807c-0ef86cf3d01f",
   "metadata": {
    "execution": {
     "iopub.execute_input": "2023-06-22T13:13:21.561091Z",
     "iopub.status.busy": "2023-06-22T13:13:21.560753Z",
     "iopub.status.idle": "2023-06-22T13:13:21.565821Z",
     "shell.execute_reply": "2023-06-22T13:13:21.564827Z",
     "shell.execute_reply.started": "2023-06-22T13:13:21.561069Z"
    },
    "tags": []
   },
   "outputs": [],
   "source": [
    "place = paddle.set_device(\"cpu\")"
   ]
  },
  {
   "cell_type": "code",
   "execution_count": 16,
   "id": "46286ab4-e0ea-4cd9-a7e4-458a05a7e74d",
   "metadata": {
    "execution": {
     "iopub.execute_input": "2023-06-22T13:13:21.568283Z",
     "iopub.status.busy": "2023-06-22T13:13:21.567659Z",
     "iopub.status.idle": "2023-06-22T13:13:21.652680Z",
     "shell.execute_reply": "2023-06-22T13:13:21.650873Z",
     "shell.execute_reply.started": "2023-06-22T13:13:21.568253Z"
    },
    "tags": []
   },
   "outputs": [],
   "source": [
    "static_model_class.create_optimizer()"
   ]
  },
  {
   "cell_type": "code",
   "execution_count": 17,
   "id": "e2c6cdac-b55b-4326-8b5e-26bbbc337a08",
   "metadata": {
    "execution": {
     "iopub.execute_input": "2023-06-22T13:13:21.654813Z",
     "iopub.status.busy": "2023-06-22T13:13:21.654386Z",
     "iopub.status.idle": "2023-06-22T13:13:21.660195Z",
     "shell.execute_reply": "2023-06-22T13:13:21.658949Z",
     "shell.execute_reply.started": "2023-06-22T13:13:21.654786Z"
    },
    "tags": []
   },
   "outputs": [],
   "source": [
    "exe = paddle.static.Executor(place)"
   ]
  },
  {
   "cell_type": "code",
   "execution_count": 18,
   "id": "35c5f0d5-8481-4ca5-b2e6-66a941e86431",
   "metadata": {
    "execution": {
     "iopub.execute_input": "2023-06-22T13:13:21.663291Z",
     "iopub.status.busy": "2023-06-22T13:13:21.662631Z",
     "iopub.status.idle": "2023-06-22T13:13:34.782059Z",
     "shell.execute_reply": "2023-06-22T13:13:34.780476Z",
     "shell.execute_reply.started": "2023-06-22T13:13:21.663258Z"
    },
    "tags": []
   },
   "outputs": [
    {
     "data": {
      "text/plain": [
       "[]"
      ]
     },
     "execution_count": 18,
     "metadata": {},
     "output_type": "execute_result"
    }
   ],
   "source": [
    "exe.run(paddle.static.default_startup_program())"
   ]
  },
  {
   "cell_type": "code",
   "execution_count": null,
   "id": "963da6da-c07b-411f-91df-2061c4523f95",
   "metadata": {},
   "outputs": [],
   "source": []
  },
  {
   "cell_type": "code",
   "execution_count": 19,
   "id": "d3b71f46-e557-4726-9cd6-0d2b91fed043",
   "metadata": {
    "execution": {
     "iopub.execute_input": "2023-06-22T13:13:34.784499Z",
     "iopub.status.busy": "2023-06-22T13:13:34.784145Z",
     "iopub.status.idle": "2023-06-22T13:13:34.791804Z",
     "shell.execute_reply": "2023-06-22T13:13:34.790627Z",
     "shell.execute_reply.started": "2023-06-22T13:13:34.784460Z"
    },
    "tags": []
   },
   "outputs": [],
   "source": [
    "last_epoch_id = -1\n",
    "step_num = 0"
   ]
  },
  {
   "cell_type": "code",
   "execution_count": null,
   "id": "af9972fe-ac2f-4f24-9237-a3dc152c1f7a",
   "metadata": {},
   "outputs": [],
   "source": []
  },
  {
   "cell_type": "code",
   "execution_count": 20,
   "id": "49ed65de-92d2-4572-9194-d47821940ce4",
   "metadata": {
    "execution": {
     "iopub.execute_input": "2023-06-22T13:13:34.793648Z",
     "iopub.status.busy": "2023-06-22T13:13:34.793254Z",
     "iopub.status.idle": "2023-06-22T13:13:34.810973Z",
     "shell.execute_reply": "2023-06-22T13:13:34.809488Z",
     "shell.execute_reply.started": "2023-06-22T13:13:34.793621Z"
    },
    "tags": []
   },
   "outputs": [
    {
     "name": "stdout",
     "output_type": "stream",
     "text": [
      "File list: ['../data/data205411/2023-cvr-contest-data/train_data/file_27.txt', '../data/data205411/2023-cvr-contest-data/train_data/file_26.txt', '../data/data205411/2023-cvr-contest-data/train_data/file_18.txt', '../data/data205411/2023-cvr-contest-data/train_data/file_24.txt', '../data/data205411/2023-cvr-contest-data/train_data/file_30.txt', '../data/data205411/2023-cvr-contest-data/train_data/file_25.txt', '../data/data205411/2023-cvr-contest-data/train_data/file_19.txt', '../data/data205411/2023-cvr-contest-data/train_data/file_21.txt', '../data/data205411/2023-cvr-contest-data/train_data/file_09.txt', '../data/data205411/2023-cvr-contest-data/train_data/file_08.txt', '../data/data205411/2023-cvr-contest-data/train_data/file_20.txt', '../data/data205411/2023-cvr-contest-data/train_data/file_22.txt', '../data/data205411/2023-cvr-contest-data/train_data/file_23.txt', '../data/data205411/2023-cvr-contest-data/train_data/file_12.txt', '../data/data205411/2023-cvr-contest-data/train_data/file_06.txt', '../data/data205411/2023-cvr-contest-data/train_data/file_07.txt', '../data/data205411/2023-cvr-contest-data/train_data/file_13.txt', '../data/data205411/2023-cvr-contest-data/train_data/file_05.txt', '../data/data205411/2023-cvr-contest-data/train_data/file_11.txt', '../data/data205411/2023-cvr-contest-data/train_data/file_10.txt', '../data/data205411/2023-cvr-contest-data/train_data/file_04.txt', '../data/data205411/2023-cvr-contest-data/train_data/file_14.txt', '../data/data205411/2023-cvr-contest-data/train_data/file_28.txt', '../data/data205411/2023-cvr-contest-data/train_data/file_29.txt', '../data/data205411/2023-cvr-contest-data/train_data/file_15.txt', '../data/data205411/2023-cvr-contest-data/train_data/file_01.txt', '../data/data205411/2023-cvr-contest-data/train_data/file_17.txt', '../data/data205411/2023-cvr-contest-data/train_data/file_03.txt', '../data/data205411/2023-cvr-contest-data/train_data/file_02.txt', '../data/data205411/2023-cvr-contest-data/train_data/file_16.txt']\n",
      "train file_list: ['../data/data205411/2023-cvr-contest-data/train_data/file_27.txt', '../data/data205411/2023-cvr-contest-data/train_data/file_26.txt', '../data/data205411/2023-cvr-contest-data/train_data/file_18.txt', '../data/data205411/2023-cvr-contest-data/train_data/file_24.txt', '../data/data205411/2023-cvr-contest-data/train_data/file_30.txt', '../data/data205411/2023-cvr-contest-data/train_data/file_25.txt', '../data/data205411/2023-cvr-contest-data/train_data/file_19.txt', '../data/data205411/2023-cvr-contest-data/train_data/file_21.txt', '../data/data205411/2023-cvr-contest-data/train_data/file_09.txt', '../data/data205411/2023-cvr-contest-data/train_data/file_08.txt', '../data/data205411/2023-cvr-contest-data/train_data/file_20.txt', '../data/data205411/2023-cvr-contest-data/train_data/file_22.txt', '../data/data205411/2023-cvr-contest-data/train_data/file_23.txt', '../data/data205411/2023-cvr-contest-data/train_data/file_12.txt', '../data/data205411/2023-cvr-contest-data/train_data/file_06.txt', '../data/data205411/2023-cvr-contest-data/train_data/file_07.txt', '../data/data205411/2023-cvr-contest-data/train_data/file_13.txt', '../data/data205411/2023-cvr-contest-data/train_data/file_05.txt', '../data/data205411/2023-cvr-contest-data/train_data/file_11.txt', '../data/data205411/2023-cvr-contest-data/train_data/file_10.txt', '../data/data205411/2023-cvr-contest-data/train_data/file_04.txt', '../data/data205411/2023-cvr-contest-data/train_data/file_14.txt', '../data/data205411/2023-cvr-contest-data/train_data/file_28.txt', '../data/data205411/2023-cvr-contest-data/train_data/file_29.txt', '../data/data205411/2023-cvr-contest-data/train_data/file_15.txt', '../data/data205411/2023-cvr-contest-data/train_data/file_01.txt', '../data/data205411/2023-cvr-contest-data/train_data/file_17.txt', '../data/data205411/2023-cvr-contest-data/train_data/file_03.txt', '../data/data205411/2023-cvr-contest-data/train_data/file_02.txt', '../data/data205411/2023-cvr-contest-data/train_data/file_16.txt']\n",
      "pipe_command is: python3 queuedataset_reader.py\n",
      "dataset init thread_num: 1\n",
      "Get Train Dataset\n",
      "dataset get_reader thread_num: 1\n"
     ]
    }
   ],
   "source": [
    "dataset, file_list = get_reader(input_data)"
   ]
  },
  {
   "cell_type": "code",
   "execution_count": null,
   "id": "19fb32ec-bef6-4e36-a184-e8a8889b0d7d",
   "metadata": {},
   "outputs": [],
   "source": []
  },
  {
   "cell_type": "code",
   "execution_count": 21,
   "id": "53d46076-2dbb-435d-a733-9f6e4ed5fd56",
   "metadata": {
    "execution": {
     "iopub.execute_input": "2023-06-22T13:11:54.899108Z",
     "iopub.status.busy": "2023-06-22T13:11:54.898725Z",
     "iopub.status.idle": "2023-06-22T13:11:54.953757Z",
     "shell.execute_reply": "2023-06-22T13:11:54.952750Z",
     "shell.execute_reply.started": "2023-06-22T13:11:54.899079Z"
    },
    "tags": []
   },
   "outputs": [
    {
     "name": "stdout",
     "output_type": "stream",
     "text": [
      "device worker program id: 4875610480\n"
     ]
    }
   ],
   "source": [
    "for epoch_id in range(last_epoch_id + 1, 1):\n",
    "    fetch_batch_var = dataset_train(epoch_id, dataset, fetch_vars, exe)"
   ]
  },
  {
   "cell_type": "code",
   "execution_count": 22,
   "id": "106cd05c-08b2-451c-86c2-dd2e7ca23824",
   "metadata": {
    "execution": {
     "iopub.execute_input": "2023-06-22T13:12:33.519439Z",
     "iopub.status.busy": "2023-06-22T13:12:33.519077Z",
     "iopub.status.idle": "2023-06-22T13:12:33.529426Z",
     "shell.execute_reply": "2023-06-22T13:12:33.528622Z",
     "shell.execute_reply.started": "2023-06-22T13:12:33.519394Z"
    },
    "tags": []
   },
   "outputs": [],
   "source": [
    "fetch_batch_var"
   ]
  },
  {
   "cell_type": "code",
   "execution_count": null,
   "id": "43e4ba44-7100-427f-8816-5ae703c94b4e",
   "metadata": {},
   "outputs": [],
   "source": []
  },
  {
   "cell_type": "code",
   "execution_count": null,
   "id": "01a14759-c34a-4e6d-bdc7-987291417ff0",
   "metadata": {},
   "outputs": [],
   "source": []
  },
  {
   "cell_type": "code",
   "execution_count": null,
   "id": "e2391a43-db1c-493e-9c15-c2acb3124bba",
   "metadata": {},
   "outputs": [],
   "source": []
  }
 ],
 "metadata": {
  "kernelspec": {
   "display_name": "Python 3 (ipykernel)",
   "language": "python",
   "name": "python3"
  },
  "language_info": {
   "codemirror_mode": {
    "name": "ipython",
    "version": 3
   },
   "file_extension": ".py",
   "mimetype": "text/x-python",
   "name": "python",
   "nbconvert_exporter": "python",
   "pygments_lexer": "ipython3",
   "version": "3.8.9"
  }
 },
 "nbformat": 4,
 "nbformat_minor": 5
}
